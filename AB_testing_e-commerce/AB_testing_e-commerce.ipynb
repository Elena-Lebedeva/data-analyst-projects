{
 "cells": [
  {
   "cell_type": "markdown",
   "metadata": {},
   "source": [
    "### Задача"
   ]
  },
  {
   "cell_type": "markdown",
   "metadata": {},
   "source": [
    "Необходимо проанализировать данные интернет-магазина:\n",
    "подготовить список гипотез для увеличения выручки по приоритетам, запустить A/B-тест и проанализировать результаты."
   ]
  },
  {
   "cell_type": "markdown",
   "metadata": {},
   "source": [
    "### Часть 1. Приоритизация гипотез"
   ]
  },
  {
   "cell_type": "markdown",
   "metadata": {},
   "source": [
    "В файле /datasets/hypothesis.csv 9 гипотез по увеличению выручки интернет-магазина с указанными параметрами Reach, Impact, Confidence, Effort.\n",
    "Задача:\n",
    "Примените фреймворк ICE для приоритизации гипотез. Отсортируйте их по убыванию приоритета.\n",
    "Примените фреймворк RICE для приоритизации гипотез. Отсортируйте их по убыванию приоритета.\n",
    "Укажите, как изменилась приоритизация гипотез при применении RICE вместо ICE. Объясните, почему так произошло."
   ]
  },
  {
   "cell_type": "code",
   "execution_count": 1,
   "metadata": {},
   "outputs": [],
   "source": [
    "import pandas as pd\n",
    "import numpy as np\n",
    "import math as mth\n",
    "import matplotlib.pyplot as plt\n",
    "import scipy.stats as stats\n",
    "import seaborn as sns\n",
    "import datetime as dt\n",
    "\n",
    "pd.options.display.float_format = '{:.2f}'.format"
   ]
  },
  {
   "cell_type": "code",
   "execution_count": 2,
   "metadata": {},
   "outputs": [],
   "source": [
    "try: \n",
    "    hypothesis = pd.read_csv('hypothesis.csv') # гипотезы\n",
    "    visitors = pd.read_csv('visitors.csv' ) # пользователи\n",
    "    orders = pd.read_csv('orders.csv') # заказы\n",
    "    \n",
    "except FileNotFoundError:\n",
    "    \n",
    "    visitors = pd.read_csv('/datasets/visitors.csv' ) #яндексовский путь\n",
    "    orders = pd.read_csv('/datasets/orders.csv') \n",
    "    hypothesis = pd.read_csv('/datasets/hypothesis.csv')"
   ]
  },
  {
   "cell_type": "code",
   "execution_count": 3,
   "metadata": {},
   "outputs": [
    {
     "data": {
      "text/html": [
       "<div>\n",
       "<style scoped>\n",
       "    .dataframe tbody tr th:only-of-type {\n",
       "        vertical-align: middle;\n",
       "    }\n",
       "\n",
       "    .dataframe tbody tr th {\n",
       "        vertical-align: top;\n",
       "    }\n",
       "\n",
       "    .dataframe thead th {\n",
       "        text-align: right;\n",
       "    }\n",
       "</style>\n",
       "<table border=\"1\" class=\"dataframe\">\n",
       "  <thead>\n",
       "    <tr style=\"text-align: right;\">\n",
       "      <th></th>\n",
       "      <th>Hypothesis</th>\n",
       "      <th>Reach</th>\n",
       "      <th>Impact</th>\n",
       "      <th>Confidence</th>\n",
       "      <th>Efforts</th>\n",
       "    </tr>\n",
       "  </thead>\n",
       "  <tbody>\n",
       "    <tr>\n",
       "      <td>0</td>\n",
       "      <td>Добавить два новых канала привлечения трафика,...</td>\n",
       "      <td>3</td>\n",
       "      <td>10</td>\n",
       "      <td>8</td>\n",
       "      <td>6</td>\n",
       "    </tr>\n",
       "    <tr>\n",
       "      <td>1</td>\n",
       "      <td>Запустить собственную службу доставки, что сок...</td>\n",
       "      <td>2</td>\n",
       "      <td>5</td>\n",
       "      <td>4</td>\n",
       "      <td>10</td>\n",
       "    </tr>\n",
       "    <tr>\n",
       "      <td>2</td>\n",
       "      <td>Добавить блоки рекомендаций товаров на сайт ин...</td>\n",
       "      <td>8</td>\n",
       "      <td>3</td>\n",
       "      <td>7</td>\n",
       "      <td>3</td>\n",
       "    </tr>\n",
       "    <tr>\n",
       "      <td>3</td>\n",
       "      <td>Изменить структура категорий, что увеличит кон...</td>\n",
       "      <td>8</td>\n",
       "      <td>3</td>\n",
       "      <td>3</td>\n",
       "      <td>8</td>\n",
       "    </tr>\n",
       "    <tr>\n",
       "      <td>4</td>\n",
       "      <td>Изменить цвет фона главной страницы, чтобы уве...</td>\n",
       "      <td>3</td>\n",
       "      <td>1</td>\n",
       "      <td>1</td>\n",
       "      <td>1</td>\n",
       "    </tr>\n",
       "    <tr>\n",
       "      <td>5</td>\n",
       "      <td>Добавить страницу отзывов клиентов о магазине,...</td>\n",
       "      <td>3</td>\n",
       "      <td>2</td>\n",
       "      <td>2</td>\n",
       "      <td>3</td>\n",
       "    </tr>\n",
       "    <tr>\n",
       "      <td>6</td>\n",
       "      <td>Показать на главной странице баннеры с актуаль...</td>\n",
       "      <td>5</td>\n",
       "      <td>3</td>\n",
       "      <td>8</td>\n",
       "      <td>3</td>\n",
       "    </tr>\n",
       "    <tr>\n",
       "      <td>7</td>\n",
       "      <td>Добавить форму подписки на все основные страни...</td>\n",
       "      <td>10</td>\n",
       "      <td>7</td>\n",
       "      <td>8</td>\n",
       "      <td>5</td>\n",
       "    </tr>\n",
       "    <tr>\n",
       "      <td>8</td>\n",
       "      <td>Запустить акцию, дающую скидку на товар в день...</td>\n",
       "      <td>1</td>\n",
       "      <td>9</td>\n",
       "      <td>9</td>\n",
       "      <td>5</td>\n",
       "    </tr>\n",
       "  </tbody>\n",
       "</table>\n",
       "</div>"
      ],
      "text/plain": [
       "                                          Hypothesis  Reach  Impact  \\\n",
       "0  Добавить два новых канала привлечения трафика,...      3      10   \n",
       "1  Запустить собственную службу доставки, что сок...      2       5   \n",
       "2  Добавить блоки рекомендаций товаров на сайт ин...      8       3   \n",
       "3  Изменить структура категорий, что увеличит кон...      8       3   \n",
       "4  Изменить цвет фона главной страницы, чтобы уве...      3       1   \n",
       "5  Добавить страницу отзывов клиентов о магазине,...      3       2   \n",
       "6  Показать на главной странице баннеры с актуаль...      5       3   \n",
       "7  Добавить форму подписки на все основные страни...     10       7   \n",
       "8  Запустить акцию, дающую скидку на товар в день...      1       9   \n",
       "\n",
       "   Confidence  Efforts  \n",
       "0           8        6  \n",
       "1           4       10  \n",
       "2           7        3  \n",
       "3           3        8  \n",
       "4           1        1  \n",
       "5           2        3  \n",
       "6           8        3  \n",
       "7           8        5  \n",
       "8           9        5  "
      ]
     },
     "execution_count": 3,
     "metadata": {},
     "output_type": "execute_result"
    }
   ],
   "source": [
    "hypothesis #  9 гипотез по увеличению выручки интернет-магазина с указанными параметрами."
   ]
  },
  {
   "cell_type": "code",
   "execution_count": 4,
   "metadata": {},
   "outputs": [],
   "source": [
    "hypothesis.columns = hypothesis.columns.str.lower()"
   ]
  },
  {
   "cell_type": "markdown",
   "metadata": {},
   "source": [
    "#### Задача 1. Примените фреймворк ICE для приоритизации гипотез. Отсортируйте их по убыванию приоритета. "
   ]
  },
  {
   "cell_type": "code",
   "execution_count": 5,
   "metadata": {},
   "outputs": [
    {
     "data": {
      "text/html": [
       "<div>\n",
       "<style scoped>\n",
       "    .dataframe tbody tr th:only-of-type {\n",
       "        vertical-align: middle;\n",
       "    }\n",
       "\n",
       "    .dataframe tbody tr th {\n",
       "        vertical-align: top;\n",
       "    }\n",
       "\n",
       "    .dataframe thead th {\n",
       "        text-align: right;\n",
       "    }\n",
       "</style>\n",
       "<table border=\"1\" class=\"dataframe\">\n",
       "  <thead>\n",
       "    <tr style=\"text-align: right;\">\n",
       "      <th></th>\n",
       "      <th>hypothesis</th>\n",
       "      <th>reach</th>\n",
       "      <th>impact</th>\n",
       "      <th>confidence</th>\n",
       "      <th>efforts</th>\n",
       "      <th>ICE</th>\n",
       "    </tr>\n",
       "  </thead>\n",
       "  <tbody>\n",
       "    <tr>\n",
       "      <td>0</td>\n",
       "      <td>Запустить акцию, дающую скидку на товар в день...</td>\n",
       "      <td>1</td>\n",
       "      <td>9</td>\n",
       "      <td>9</td>\n",
       "      <td>5</td>\n",
       "      <td>16.20</td>\n",
       "    </tr>\n",
       "    <tr>\n",
       "      <td>1</td>\n",
       "      <td>Добавить два новых канала привлечения трафика,...</td>\n",
       "      <td>3</td>\n",
       "      <td>10</td>\n",
       "      <td>8</td>\n",
       "      <td>6</td>\n",
       "      <td>13.33</td>\n",
       "    </tr>\n",
       "    <tr>\n",
       "      <td>2</td>\n",
       "      <td>Добавить форму подписки на все основные страни...</td>\n",
       "      <td>10</td>\n",
       "      <td>7</td>\n",
       "      <td>8</td>\n",
       "      <td>5</td>\n",
       "      <td>11.20</td>\n",
       "    </tr>\n",
       "    <tr>\n",
       "      <td>3</td>\n",
       "      <td>Показать на главной странице баннеры с актуаль...</td>\n",
       "      <td>5</td>\n",
       "      <td>3</td>\n",
       "      <td>8</td>\n",
       "      <td>3</td>\n",
       "      <td>8.00</td>\n",
       "    </tr>\n",
       "    <tr>\n",
       "      <td>4</td>\n",
       "      <td>Добавить блоки рекомендаций товаров на сайт ин...</td>\n",
       "      <td>8</td>\n",
       "      <td>3</td>\n",
       "      <td>7</td>\n",
       "      <td>3</td>\n",
       "      <td>7.00</td>\n",
       "    </tr>\n",
       "    <tr>\n",
       "      <td>5</td>\n",
       "      <td>Запустить собственную службу доставки, что сок...</td>\n",
       "      <td>2</td>\n",
       "      <td>5</td>\n",
       "      <td>4</td>\n",
       "      <td>10</td>\n",
       "      <td>2.00</td>\n",
       "    </tr>\n",
       "    <tr>\n",
       "      <td>6</td>\n",
       "      <td>Добавить страницу отзывов клиентов о магазине,...</td>\n",
       "      <td>3</td>\n",
       "      <td>2</td>\n",
       "      <td>2</td>\n",
       "      <td>3</td>\n",
       "      <td>1.33</td>\n",
       "    </tr>\n",
       "    <tr>\n",
       "      <td>7</td>\n",
       "      <td>Изменить структура категорий, что увеличит кон...</td>\n",
       "      <td>8</td>\n",
       "      <td>3</td>\n",
       "      <td>3</td>\n",
       "      <td>8</td>\n",
       "      <td>1.12</td>\n",
       "    </tr>\n",
       "    <tr>\n",
       "      <td>8</td>\n",
       "      <td>Изменить цвет фона главной страницы, чтобы уве...</td>\n",
       "      <td>3</td>\n",
       "      <td>1</td>\n",
       "      <td>1</td>\n",
       "      <td>1</td>\n",
       "      <td>1.00</td>\n",
       "    </tr>\n",
       "  </tbody>\n",
       "</table>\n",
       "</div>"
      ],
      "text/plain": [
       "                                          hypothesis  reach  impact  \\\n",
       "0  Запустить акцию, дающую скидку на товар в день...      1       9   \n",
       "1  Добавить два новых канала привлечения трафика,...      3      10   \n",
       "2  Добавить форму подписки на все основные страни...     10       7   \n",
       "3  Показать на главной странице баннеры с актуаль...      5       3   \n",
       "4  Добавить блоки рекомендаций товаров на сайт ин...      8       3   \n",
       "5  Запустить собственную службу доставки, что сок...      2       5   \n",
       "6  Добавить страницу отзывов клиентов о магазине,...      3       2   \n",
       "7  Изменить структура категорий, что увеличит кон...      8       3   \n",
       "8  Изменить цвет фона главной страницы, чтобы уве...      3       1   \n",
       "\n",
       "   confidence  efforts   ICE  \n",
       "0           9        5 16.20  \n",
       "1           8        6 13.33  \n",
       "2           8        5 11.20  \n",
       "3           8        3  8.00  \n",
       "4           7        3  7.00  \n",
       "5           4       10  2.00  \n",
       "6           2        3  1.33  \n",
       "7           3        8  1.12  \n",
       "8           1        1  1.00  "
      ]
     },
     "execution_count": 5,
     "metadata": {},
     "output_type": "execute_result"
    }
   ],
   "source": [
    "hypothesis['ICE']=hypothesis['impact']*hypothesis['confidence']/hypothesis['efforts']\n",
    "hypothesis=hypothesis.sort_values(by='ICE', ascending=False).reset_index(drop=True) # сделаем индекс по рейтингу ICE\n",
    "hypothesis"
   ]
  },
  {
   "cell_type": "markdown",
   "metadata": {},
   "source": [
    "#### Примените фреймворк RICE для приоритизации гипотез. Отсортируйте их по убыванию приоритета."
   ]
  },
  {
   "cell_type": "code",
   "execution_count": 6,
   "metadata": {},
   "outputs": [],
   "source": [
    "hypothesis['RICE']=(hypothesis['reach']*hypothesis['impact']*hypothesis['confidence'])/hypothesis['efforts']\n",
    "hypothesis=hypothesis.sort_values(by='RICE', ascending=False).reset_index(drop=True) "
   ]
  },
  {
   "cell_type": "code",
   "execution_count": 7,
   "metadata": {},
   "outputs": [
    {
     "data": {
      "text/html": [
       "<style  type=\"text/css\" >\n",
       "    #T_554db928_e3e1_11eb_afee_02420a399667row0_col1 {\n",
       "            background-color:  #08306b;\n",
       "            color:  #f1f1f1;\n",
       "        }    #T_554db928_e3e1_11eb_afee_02420a399667row0_col2 {\n",
       "            background-color:  #3787c0;\n",
       "            color:  #000000;\n",
       "        }    #T_554db928_e3e1_11eb_afee_02420a399667row0_col3 {\n",
       "            background-color:  #08509b;\n",
       "            color:  #f1f1f1;\n",
       "        }    #T_554db928_e3e1_11eb_afee_02420a399667row0_col4 {\n",
       "            background-color:  #82bbdb;\n",
       "            color:  #000000;\n",
       "        }    #T_554db928_e3e1_11eb_afee_02420a399667row0_col5 {\n",
       "            background-color:  #3686c0;\n",
       "            color:  #000000;\n",
       "        }    #T_554db928_e3e1_11eb_afee_02420a399667row0_col6 {\n",
       "            background-color:  #08306b;\n",
       "            color:  #f1f1f1;\n",
       "        }    #T_554db928_e3e1_11eb_afee_02420a399667row1_col1 {\n",
       "            background-color:  #1b69af;\n",
       "            color:  #f1f1f1;\n",
       "        }    #T_554db928_e3e1_11eb_afee_02420a399667row1_col2 {\n",
       "            background-color:  #ccdff1;\n",
       "            color:  #000000;\n",
       "        }    #T_554db928_e3e1_11eb_afee_02420a399667row1_col3 {\n",
       "            background-color:  #2070b4;\n",
       "            color:  #f1f1f1;\n",
       "        }    #T_554db928_e3e1_11eb_afee_02420a399667row1_col4 {\n",
       "            background-color:  #ccdff1;\n",
       "            color:  #000000;\n",
       "        }    #T_554db928_e3e1_11eb_afee_02420a399667row1_col5 {\n",
       "            background-color:  #95c5df;\n",
       "            color:  #000000;\n",
       "        }    #T_554db928_e3e1_11eb_afee_02420a399667row1_col6 {\n",
       "            background-color:  #71b1d7;\n",
       "            color:  #000000;\n",
       "        }    #T_554db928_e3e1_11eb_afee_02420a399667row2_col1 {\n",
       "            background-color:  #ccdff1;\n",
       "            color:  #000000;\n",
       "        }    #T_554db928_e3e1_11eb_afee_02420a399667row2_col2 {\n",
       "            background-color:  #08306b;\n",
       "            color:  #f1f1f1;\n",
       "        }    #T_554db928_e3e1_11eb_afee_02420a399667row2_col3 {\n",
       "            background-color:  #08509b;\n",
       "            color:  #f1f1f1;\n",
       "        }    #T_554db928_e3e1_11eb_afee_02420a399667row2_col4 {\n",
       "            background-color:  #58a1cf;\n",
       "            color:  #000000;\n",
       "        }    #T_554db928_e3e1_11eb_afee_02420a399667row2_col5 {\n",
       "            background-color:  #1561a9;\n",
       "            color:  #f1f1f1;\n",
       "        }    #T_554db928_e3e1_11eb_afee_02420a399667row2_col6 {\n",
       "            background-color:  #aacfe5;\n",
       "            color:  #000000;\n",
       "        }    #T_554db928_e3e1_11eb_afee_02420a399667row3_col1 {\n",
       "            background-color:  #82bbdb;\n",
       "            color:  #000000;\n",
       "        }    #T_554db928_e3e1_11eb_afee_02420a399667row3_col2 {\n",
       "            background-color:  #ccdff1;\n",
       "            color:  #000000;\n",
       "        }    #T_554db928_e3e1_11eb_afee_02420a399667row3_col3 {\n",
       "            background-color:  #08509b;\n",
       "            color:  #f1f1f1;\n",
       "        }    #T_554db928_e3e1_11eb_afee_02420a399667row3_col4 {\n",
       "            background-color:  #ccdff1;\n",
       "            color:  #000000;\n",
       "        }    #T_554db928_e3e1_11eb_afee_02420a399667row3_col5 {\n",
       "            background-color:  #7cb7da;\n",
       "            color:  #000000;\n",
       "        }    #T_554db928_e3e1_11eb_afee_02420a399667row3_col6 {\n",
       "            background-color:  #aacfe5;\n",
       "            color:  #000000;\n",
       "        }    #T_554db928_e3e1_11eb_afee_02420a399667row4_col1 {\n",
       "            background-color:  #f7fbff;\n",
       "            color:  #000000;\n",
       "        }    #T_554db928_e3e1_11eb_afee_02420a399667row4_col2 {\n",
       "            background-color:  #084d96;\n",
       "            color:  #f1f1f1;\n",
       "        }    #T_554db928_e3e1_11eb_afee_02420a399667row4_col3 {\n",
       "            background-color:  #08306b;\n",
       "            color:  #f1f1f1;\n",
       "        }    #T_554db928_e3e1_11eb_afee_02420a399667row4_col4 {\n",
       "            background-color:  #82bbdb;\n",
       "            color:  #000000;\n",
       "        }    #T_554db928_e3e1_11eb_afee_02420a399667row4_col5 {\n",
       "            background-color:  #08306b;\n",
       "            color:  #f1f1f1;\n",
       "        }    #T_554db928_e3e1_11eb_afee_02420a399667row4_col6 {\n",
       "            background-color:  #dfebf7;\n",
       "            color:  #000000;\n",
       "        }    #T_554db928_e3e1_11eb_afee_02420a399667row5_col1 {\n",
       "            background-color:  #1b69af;\n",
       "            color:  #f1f1f1;\n",
       "        }    #T_554db928_e3e1_11eb_afee_02420a399667row5_col2 {\n",
       "            background-color:  #ccdff1;\n",
       "            color:  #000000;\n",
       "        }    #T_554db928_e3e1_11eb_afee_02420a399667row5_col3 {\n",
       "            background-color:  #c6dbef;\n",
       "            color:  #000000;\n",
       "        }    #T_554db928_e3e1_11eb_afee_02420a399667row5_col4 {\n",
       "            background-color:  #1b69af;\n",
       "            color:  #f1f1f1;\n",
       "        }    #T_554db928_e3e1_11eb_afee_02420a399667row5_col5 {\n",
       "            background-color:  #f5fafe;\n",
       "            color:  #000000;\n",
       "        }    #T_554db928_e3e1_11eb_afee_02420a399667row5_col6 {\n",
       "            background-color:  #ecf4fb;\n",
       "            color:  #000000;\n",
       "        }    #T_554db928_e3e1_11eb_afee_02420a399667row6_col1 {\n",
       "            background-color:  #e1edf8;\n",
       "            color:  #000000;\n",
       "        }    #T_554db928_e3e1_11eb_afee_02420a399667row6_col2 {\n",
       "            background-color:  #82bbdb;\n",
       "            color:  #000000;\n",
       "        }    #T_554db928_e3e1_11eb_afee_02420a399667row6_col3 {\n",
       "            background-color:  #9dcae1;\n",
       "            color:  #000000;\n",
       "        }    #T_554db928_e3e1_11eb_afee_02420a399667row6_col4 {\n",
       "            background-color:  #08306b;\n",
       "            color:  #f1f1f1;\n",
       "        }    #T_554db928_e3e1_11eb_afee_02420a399667row6_col5 {\n",
       "            background-color:  #eaf3fb;\n",
       "            color:  #000000;\n",
       "        }    #T_554db928_e3e1_11eb_afee_02420a399667row6_col6 {\n",
       "            background-color:  #f5fafe;\n",
       "            color:  #000000;\n",
       "        }    #T_554db928_e3e1_11eb_afee_02420a399667row7_col1 {\n",
       "            background-color:  #ccdff1;\n",
       "            color:  #000000;\n",
       "        }    #T_554db928_e3e1_11eb_afee_02420a399667row7_col2 {\n",
       "            background-color:  #e1edf8;\n",
       "            color:  #000000;\n",
       "        }    #T_554db928_e3e1_11eb_afee_02420a399667row7_col3 {\n",
       "            background-color:  #deebf7;\n",
       "            color:  #000000;\n",
       "        }    #T_554db928_e3e1_11eb_afee_02420a399667row7_col4 {\n",
       "            background-color:  #ccdff1;\n",
       "            color:  #000000;\n",
       "        }    #T_554db928_e3e1_11eb_afee_02420a399667row7_col5 {\n",
       "            background-color:  #f3f8fe;\n",
       "            color:  #000000;\n",
       "        }    #T_554db928_e3e1_11eb_afee_02420a399667row7_col6 {\n",
       "            background-color:  #f5fafe;\n",
       "            color:  #000000;\n",
       "        }    #T_554db928_e3e1_11eb_afee_02420a399667row8_col1 {\n",
       "            background-color:  #ccdff1;\n",
       "            color:  #000000;\n",
       "        }    #T_554db928_e3e1_11eb_afee_02420a399667row8_col2 {\n",
       "            background-color:  #f7fbff;\n",
       "            color:  #000000;\n",
       "        }    #T_554db928_e3e1_11eb_afee_02420a399667row8_col3 {\n",
       "            background-color:  #f7fbff;\n",
       "            color:  #000000;\n",
       "        }    #T_554db928_e3e1_11eb_afee_02420a399667row8_col4 {\n",
       "            background-color:  #f7fbff;\n",
       "            color:  #000000;\n",
       "        }    #T_554db928_e3e1_11eb_afee_02420a399667row8_col5 {\n",
       "            background-color:  #f7fbff;\n",
       "            color:  #000000;\n",
       "        }    #T_554db928_e3e1_11eb_afee_02420a399667row8_col6 {\n",
       "            background-color:  #f7fbff;\n",
       "            color:  #000000;\n",
       "        }</style><table id=\"T_554db928_e3e1_11eb_afee_02420a399667\" ><thead>    <tr>        <th class=\"blank level0\" ></th>        <th class=\"col_heading level0 col0\" >hypothesis</th>        <th class=\"col_heading level0 col1\" >reach</th>        <th class=\"col_heading level0 col2\" >impact</th>        <th class=\"col_heading level0 col3\" >confidence</th>        <th class=\"col_heading level0 col4\" >efforts</th>        <th class=\"col_heading level0 col5\" >ICE</th>        <th class=\"col_heading level0 col6\" >RICE</th>    </tr></thead><tbody>\n",
       "                <tr>\n",
       "                        <th id=\"T_554db928_e3e1_11eb_afee_02420a399667level0_row0\" class=\"row_heading level0 row0\" >0</th>\n",
       "                        <td id=\"T_554db928_e3e1_11eb_afee_02420a399667row0_col0\" class=\"data row0 col0\" >Добавить форму подписки на все основные страницы, чтобы собрать базу клиентов для email-рассылок</td>\n",
       "                        <td id=\"T_554db928_e3e1_11eb_afee_02420a399667row0_col1\" class=\"data row0 col1\" >10</td>\n",
       "                        <td id=\"T_554db928_e3e1_11eb_afee_02420a399667row0_col2\" class=\"data row0 col2\" >7</td>\n",
       "                        <td id=\"T_554db928_e3e1_11eb_afee_02420a399667row0_col3\" class=\"data row0 col3\" >8</td>\n",
       "                        <td id=\"T_554db928_e3e1_11eb_afee_02420a399667row0_col4\" class=\"data row0 col4\" >5</td>\n",
       "                        <td id=\"T_554db928_e3e1_11eb_afee_02420a399667row0_col5\" class=\"data row0 col5\" >11</td>\n",
       "                        <td id=\"T_554db928_e3e1_11eb_afee_02420a399667row0_col6\" class=\"data row0 col6\" >1.1e+02</td>\n",
       "            </tr>\n",
       "            <tr>\n",
       "                        <th id=\"T_554db928_e3e1_11eb_afee_02420a399667level0_row1\" class=\"row_heading level0 row1\" >1</th>\n",
       "                        <td id=\"T_554db928_e3e1_11eb_afee_02420a399667row1_col0\" class=\"data row1 col0\" >Добавить блоки рекомендаций товаров на сайт интернет магазина, чтобы повысить конверсию и средний чек заказа</td>\n",
       "                        <td id=\"T_554db928_e3e1_11eb_afee_02420a399667row1_col1\" class=\"data row1 col1\" >8</td>\n",
       "                        <td id=\"T_554db928_e3e1_11eb_afee_02420a399667row1_col2\" class=\"data row1 col2\" >3</td>\n",
       "                        <td id=\"T_554db928_e3e1_11eb_afee_02420a399667row1_col3\" class=\"data row1 col3\" >7</td>\n",
       "                        <td id=\"T_554db928_e3e1_11eb_afee_02420a399667row1_col4\" class=\"data row1 col4\" >3</td>\n",
       "                        <td id=\"T_554db928_e3e1_11eb_afee_02420a399667row1_col5\" class=\"data row1 col5\" >7</td>\n",
       "                        <td id=\"T_554db928_e3e1_11eb_afee_02420a399667row1_col6\" class=\"data row1 col6\" >56</td>\n",
       "            </tr>\n",
       "            <tr>\n",
       "                        <th id=\"T_554db928_e3e1_11eb_afee_02420a399667level0_row2\" class=\"row_heading level0 row2\" >2</th>\n",
       "                        <td id=\"T_554db928_e3e1_11eb_afee_02420a399667row2_col0\" class=\"data row2 col0\" >Добавить два новых канала привлечения трафика, что позволит привлекать на 30% больше пользователей</td>\n",
       "                        <td id=\"T_554db928_e3e1_11eb_afee_02420a399667row2_col1\" class=\"data row2 col1\" >3</td>\n",
       "                        <td id=\"T_554db928_e3e1_11eb_afee_02420a399667row2_col2\" class=\"data row2 col2\" >10</td>\n",
       "                        <td id=\"T_554db928_e3e1_11eb_afee_02420a399667row2_col3\" class=\"data row2 col3\" >8</td>\n",
       "                        <td id=\"T_554db928_e3e1_11eb_afee_02420a399667row2_col4\" class=\"data row2 col4\" >6</td>\n",
       "                        <td id=\"T_554db928_e3e1_11eb_afee_02420a399667row2_col5\" class=\"data row2 col5\" >13</td>\n",
       "                        <td id=\"T_554db928_e3e1_11eb_afee_02420a399667row2_col6\" class=\"data row2 col6\" >40</td>\n",
       "            </tr>\n",
       "            <tr>\n",
       "                        <th id=\"T_554db928_e3e1_11eb_afee_02420a399667level0_row3\" class=\"row_heading level0 row3\" >3</th>\n",
       "                        <td id=\"T_554db928_e3e1_11eb_afee_02420a399667row3_col0\" class=\"data row3 col0\" >Показать на главной странице баннеры с актуальными акциями и распродажами, чтобы увеличить конверсию</td>\n",
       "                        <td id=\"T_554db928_e3e1_11eb_afee_02420a399667row3_col1\" class=\"data row3 col1\" >5</td>\n",
       "                        <td id=\"T_554db928_e3e1_11eb_afee_02420a399667row3_col2\" class=\"data row3 col2\" >3</td>\n",
       "                        <td id=\"T_554db928_e3e1_11eb_afee_02420a399667row3_col3\" class=\"data row3 col3\" >8</td>\n",
       "                        <td id=\"T_554db928_e3e1_11eb_afee_02420a399667row3_col4\" class=\"data row3 col4\" >3</td>\n",
       "                        <td id=\"T_554db928_e3e1_11eb_afee_02420a399667row3_col5\" class=\"data row3 col5\" >8</td>\n",
       "                        <td id=\"T_554db928_e3e1_11eb_afee_02420a399667row3_col6\" class=\"data row3 col6\" >40</td>\n",
       "            </tr>\n",
       "            <tr>\n",
       "                        <th id=\"T_554db928_e3e1_11eb_afee_02420a399667level0_row4\" class=\"row_heading level0 row4\" >4</th>\n",
       "                        <td id=\"T_554db928_e3e1_11eb_afee_02420a399667row4_col0\" class=\"data row4 col0\" >Запустить акцию, дающую скидку на товар в день рождения</td>\n",
       "                        <td id=\"T_554db928_e3e1_11eb_afee_02420a399667row4_col1\" class=\"data row4 col1\" >1</td>\n",
       "                        <td id=\"T_554db928_e3e1_11eb_afee_02420a399667row4_col2\" class=\"data row4 col2\" >9</td>\n",
       "                        <td id=\"T_554db928_e3e1_11eb_afee_02420a399667row4_col3\" class=\"data row4 col3\" >9</td>\n",
       "                        <td id=\"T_554db928_e3e1_11eb_afee_02420a399667row4_col4\" class=\"data row4 col4\" >5</td>\n",
       "                        <td id=\"T_554db928_e3e1_11eb_afee_02420a399667row4_col5\" class=\"data row4 col5\" >16</td>\n",
       "                        <td id=\"T_554db928_e3e1_11eb_afee_02420a399667row4_col6\" class=\"data row4 col6\" >16</td>\n",
       "            </tr>\n",
       "            <tr>\n",
       "                        <th id=\"T_554db928_e3e1_11eb_afee_02420a399667level0_row5\" class=\"row_heading level0 row5\" >5</th>\n",
       "                        <td id=\"T_554db928_e3e1_11eb_afee_02420a399667row5_col0\" class=\"data row5 col0\" >Изменить структура категорий, что увеличит конверсию, т.к. пользователи быстрее найдут нужный товар</td>\n",
       "                        <td id=\"T_554db928_e3e1_11eb_afee_02420a399667row5_col1\" class=\"data row5 col1\" >8</td>\n",
       "                        <td id=\"T_554db928_e3e1_11eb_afee_02420a399667row5_col2\" class=\"data row5 col2\" >3</td>\n",
       "                        <td id=\"T_554db928_e3e1_11eb_afee_02420a399667row5_col3\" class=\"data row5 col3\" >3</td>\n",
       "                        <td id=\"T_554db928_e3e1_11eb_afee_02420a399667row5_col4\" class=\"data row5 col4\" >8</td>\n",
       "                        <td id=\"T_554db928_e3e1_11eb_afee_02420a399667row5_col5\" class=\"data row5 col5\" >1.1</td>\n",
       "                        <td id=\"T_554db928_e3e1_11eb_afee_02420a399667row5_col6\" class=\"data row5 col6\" >9</td>\n",
       "            </tr>\n",
       "            <tr>\n",
       "                        <th id=\"T_554db928_e3e1_11eb_afee_02420a399667level0_row6\" class=\"row_heading level0 row6\" >6</th>\n",
       "                        <td id=\"T_554db928_e3e1_11eb_afee_02420a399667row6_col0\" class=\"data row6 col0\" >Запустить собственную службу доставки, что сократит срок доставки заказов</td>\n",
       "                        <td id=\"T_554db928_e3e1_11eb_afee_02420a399667row6_col1\" class=\"data row6 col1\" >2</td>\n",
       "                        <td id=\"T_554db928_e3e1_11eb_afee_02420a399667row6_col2\" class=\"data row6 col2\" >5</td>\n",
       "                        <td id=\"T_554db928_e3e1_11eb_afee_02420a399667row6_col3\" class=\"data row6 col3\" >4</td>\n",
       "                        <td id=\"T_554db928_e3e1_11eb_afee_02420a399667row6_col4\" class=\"data row6 col4\" >10</td>\n",
       "                        <td id=\"T_554db928_e3e1_11eb_afee_02420a399667row6_col5\" class=\"data row6 col5\" >2</td>\n",
       "                        <td id=\"T_554db928_e3e1_11eb_afee_02420a399667row6_col6\" class=\"data row6 col6\" >4</td>\n",
       "            </tr>\n",
       "            <tr>\n",
       "                        <th id=\"T_554db928_e3e1_11eb_afee_02420a399667level0_row7\" class=\"row_heading level0 row7\" >7</th>\n",
       "                        <td id=\"T_554db928_e3e1_11eb_afee_02420a399667row7_col0\" class=\"data row7 col0\" >Добавить страницу отзывов клиентов о магазине, что позволит увеличить количество заказов</td>\n",
       "                        <td id=\"T_554db928_e3e1_11eb_afee_02420a399667row7_col1\" class=\"data row7 col1\" >3</td>\n",
       "                        <td id=\"T_554db928_e3e1_11eb_afee_02420a399667row7_col2\" class=\"data row7 col2\" >2</td>\n",
       "                        <td id=\"T_554db928_e3e1_11eb_afee_02420a399667row7_col3\" class=\"data row7 col3\" >2</td>\n",
       "                        <td id=\"T_554db928_e3e1_11eb_afee_02420a399667row7_col4\" class=\"data row7 col4\" >3</td>\n",
       "                        <td id=\"T_554db928_e3e1_11eb_afee_02420a399667row7_col5\" class=\"data row7 col5\" >1.3</td>\n",
       "                        <td id=\"T_554db928_e3e1_11eb_afee_02420a399667row7_col6\" class=\"data row7 col6\" >4</td>\n",
       "            </tr>\n",
       "            <tr>\n",
       "                        <th id=\"T_554db928_e3e1_11eb_afee_02420a399667level0_row8\" class=\"row_heading level0 row8\" >8</th>\n",
       "                        <td id=\"T_554db928_e3e1_11eb_afee_02420a399667row8_col0\" class=\"data row8 col0\" >Изменить цвет фона главной страницы, чтобы увеличить вовлеченность пользователей</td>\n",
       "                        <td id=\"T_554db928_e3e1_11eb_afee_02420a399667row8_col1\" class=\"data row8 col1\" >3</td>\n",
       "                        <td id=\"T_554db928_e3e1_11eb_afee_02420a399667row8_col2\" class=\"data row8 col2\" >1</td>\n",
       "                        <td id=\"T_554db928_e3e1_11eb_afee_02420a399667row8_col3\" class=\"data row8 col3\" >1</td>\n",
       "                        <td id=\"T_554db928_e3e1_11eb_afee_02420a399667row8_col4\" class=\"data row8 col4\" >1</td>\n",
       "                        <td id=\"T_554db928_e3e1_11eb_afee_02420a399667row8_col5\" class=\"data row8 col5\" >1</td>\n",
       "                        <td id=\"T_554db928_e3e1_11eb_afee_02420a399667row8_col6\" class=\"data row8 col6\" >3</td>\n",
       "            </tr>\n",
       "    </tbody></table>"
      ],
      "text/plain": [
       "<pandas.io.formats.style.Styler at 0x7fec590687d0>"
      ]
     },
     "execution_count": 7,
     "metadata": {},
     "output_type": "execute_result"
    }
   ],
   "source": [
    "with pd.option_context('display.precision', 2):\n",
    "    hypothesis_gradient=hypothesis.style.background_gradient(cmap = 'Blues')\n",
    "hypothesis_gradient"
   ]
  },
  {
   "cell_type": "markdown",
   "metadata": {},
   "source": [
    "#### Укажите, как изменилась приоритизация гипотез при применении RICE вместо ICE. Объясните, почему так произошло."
   ]
  },
  {
   "cell_type": "markdown",
   "metadata": {},
   "source": [
    "Мы рекомендуем придерживаться приоритизации гипотез полученной фреймворком RICE, так как он включает те же компоненты что и ICE, плюс учитывает охват, т.е. скольких пользователей затронет извенение. Поэтому, будем руководствоваться последним списком. Однако, ниже расммотрим оба списка и дадим комментарии по подсчету фреймворков. \n",
    "\n",
    "Сначала, при применении фреймворка ICE, наивысший приоритет был у гипотезы \"Запустить акцию, дающую скидку на товар в день рождения\", затем \"Добавить два новых канала привлечения трафика, что позволит привлекать на 30% больше пользователей\" и на третьем месте \"Добавить форму подписки на все основные страницы, чтобы собрать базу клиентов для email-рассылок\".\n",
    "\n",
    "Заметим, что фреймворк ICE имеет три компоненты - это произведение Impact — насколько сильно изменение повлияет на пользователей, их опыт и удовлетворение от продукта и Confidence — уверенности, что это изменение повлияет на пользователей именно так, разделенное на Efforts — сколько стоит протестировать эту гипотезу.\n",
    "RICE добавляет к этому еще одну компонету в числитель - Reach — скольких пользователей затронет изменение. \n",
    "\n",
    "Поэтому проранжировав гипотезы по RICE список приоритетов изменился - на первое место встала гипотеза \"Добавить форму подписки на все основные страницы, чтобы собрать базу клиентов для email-рассылок\" (в списке ICE она на тетьем месте)  - она охватывает максимум пользователей, а лидер ICE, гипотеза о скидке в день рождения, имеет минимальный охват и опустилась до 5 места в новом рейтинге. На втором месте в рейтинге по RICE, - \"Добавить блоки рекомендаций товаров на сайт интернет магазина, чтобы повысить конверсию и средний чек заказа\", у нее также выскоий охват пользователей при невыскойо затратности. На третьем месте та же гипотеза, что в ICE на втором -  \"Добавить форму подписки на все основные страницы, чтобы собрать базу клиентов для email-рассылок\", с низким Reach - охватом пользователей, тем не менее, у нее макимальный Impact и очень высокий Confidence, т.е. мы предполагаем что это изменение \n",
    "сильно повлияет на пользователей и их опыт, и наша уверенность в этом высока."
   ]
  },
  {
   "cell_type": "markdown",
   "metadata": {},
   "source": [
    "## Часть 2. Анализ A/B-теста"
   ]
  },
  {
   "cell_type": "markdown",
   "metadata": {},
   "source": [
    "Вы провели A/B-тест и получили результаты, которые описаны в файлах /datasets/orders.csv и /datasets/visitors.csv.\n",
    "Проанализируйте A/B-тест:"
   ]
  },
  {
   "cell_type": "markdown",
   "metadata": {},
   "source": [
    "### Подготовка данных"
   ]
  },
  {
   "cell_type": "markdown",
   "metadata": {},
   "source": [
    "Посмотрим на данные, которые есть в нашем распоряжении, произведем необходимые манипуляции прежде, чем приступить к работе."
   ]
  },
  {
   "cell_type": "code",
   "execution_count": 8,
   "metadata": {},
   "outputs": [
    {
     "name": "stdout",
     "output_type": "stream",
     "text": [
      "<class 'pandas.core.frame.DataFrame'>\n",
      "RangeIndex: 62 entries, 0 to 61\n",
      "Data columns (total 3 columns):\n",
      "date        62 non-null object\n",
      "group       62 non-null object\n",
      "visitors    62 non-null int64\n",
      "dtypes: int64(1), object(2)\n",
      "memory usage: 1.6+ KB\n"
     ]
    },
    {
     "data": {
      "text/html": [
       "<div>\n",
       "<style scoped>\n",
       "    .dataframe tbody tr th:only-of-type {\n",
       "        vertical-align: middle;\n",
       "    }\n",
       "\n",
       "    .dataframe tbody tr th {\n",
       "        vertical-align: top;\n",
       "    }\n",
       "\n",
       "    .dataframe thead th {\n",
       "        text-align: right;\n",
       "    }\n",
       "</style>\n",
       "<table border=\"1\" class=\"dataframe\">\n",
       "  <thead>\n",
       "    <tr style=\"text-align: right;\">\n",
       "      <th></th>\n",
       "      <th>date</th>\n",
       "      <th>group</th>\n",
       "      <th>visitors</th>\n",
       "    </tr>\n",
       "  </thead>\n",
       "  <tbody>\n",
       "    <tr>\n",
       "      <td>21</td>\n",
       "      <td>2019-08-22</td>\n",
       "      <td>A</td>\n",
       "      <td>609</td>\n",
       "    </tr>\n",
       "    <tr>\n",
       "      <td>52</td>\n",
       "      <td>2019-08-22</td>\n",
       "      <td>B</td>\n",
       "      <td>650</td>\n",
       "    </tr>\n",
       "    <tr>\n",
       "      <td>38</td>\n",
       "      <td>2019-08-08</td>\n",
       "      <td>B</td>\n",
       "      <td>654</td>\n",
       "    </tr>\n",
       "    <tr>\n",
       "      <td>24</td>\n",
       "      <td>2019-08-25</td>\n",
       "      <td>A</td>\n",
       "      <td>621</td>\n",
       "    </tr>\n",
       "    <tr>\n",
       "      <td>2</td>\n",
       "      <td>2019-08-03</td>\n",
       "      <td>A</td>\n",
       "      <td>507</td>\n",
       "    </tr>\n",
       "    <tr>\n",
       "      <td>41</td>\n",
       "      <td>2019-08-11</td>\n",
       "      <td>B</td>\n",
       "      <td>721</td>\n",
       "    </tr>\n",
       "    <tr>\n",
       "      <td>60</td>\n",
       "      <td>2019-08-30</td>\n",
       "      <td>B</td>\n",
       "      <td>490</td>\n",
       "    </tr>\n",
       "    <tr>\n",
       "      <td>50</td>\n",
       "      <td>2019-08-20</td>\n",
       "      <td>B</td>\n",
       "      <td>560</td>\n",
       "    </tr>\n",
       "    <tr>\n",
       "      <td>35</td>\n",
       "      <td>2019-08-05</td>\n",
       "      <td>B</td>\n",
       "      <td>707</td>\n",
       "    </tr>\n",
       "    <tr>\n",
       "      <td>44</td>\n",
       "      <td>2019-08-14</td>\n",
       "      <td>B</td>\n",
       "      <td>746</td>\n",
       "    </tr>\n",
       "  </tbody>\n",
       "</table>\n",
       "</div>"
      ],
      "text/plain": [
       "          date group  visitors\n",
       "21  2019-08-22     A       609\n",
       "52  2019-08-22     B       650\n",
       "38  2019-08-08     B       654\n",
       "24  2019-08-25     A       621\n",
       "2   2019-08-03     A       507\n",
       "41  2019-08-11     B       721\n",
       "60  2019-08-30     B       490\n",
       "50  2019-08-20     B       560\n",
       "35  2019-08-05     B       707\n",
       "44  2019-08-14     B       746"
      ]
     },
     "metadata": {},
     "output_type": "display_data"
    },
    {
     "name": "stdout",
     "output_type": "stream",
     "text": [
      "date       0.00\n",
      "group      0.00\n",
      "visitors   0.00\n",
      "dtype: float64\n",
      "duplicates: 0\n",
      "<class 'pandas.core.frame.DataFrame'>\n",
      "RangeIndex: 1197 entries, 0 to 1196\n",
      "Data columns (total 5 columns):\n",
      "transactionId    1197 non-null int64\n",
      "visitorId        1197 non-null int64\n",
      "date             1197 non-null object\n",
      "revenue          1197 non-null int64\n",
      "group            1197 non-null object\n",
      "dtypes: int64(3), object(2)\n",
      "memory usage: 46.9+ KB\n"
     ]
    },
    {
     "data": {
      "text/html": [
       "<div>\n",
       "<style scoped>\n",
       "    .dataframe tbody tr th:only-of-type {\n",
       "        vertical-align: middle;\n",
       "    }\n",
       "\n",
       "    .dataframe tbody tr th {\n",
       "        vertical-align: top;\n",
       "    }\n",
       "\n",
       "    .dataframe thead th {\n",
       "        text-align: right;\n",
       "    }\n",
       "</style>\n",
       "<table border=\"1\" class=\"dataframe\">\n",
       "  <thead>\n",
       "    <tr style=\"text-align: right;\">\n",
       "      <th></th>\n",
       "      <th>transactionId</th>\n",
       "      <th>visitorId</th>\n",
       "      <th>date</th>\n",
       "      <th>revenue</th>\n",
       "      <th>group</th>\n",
       "    </tr>\n",
       "  </thead>\n",
       "  <tbody>\n",
       "    <tr>\n",
       "      <td>886</td>\n",
       "      <td>51443164</td>\n",
       "      <td>4278982564</td>\n",
       "      <td>2019-08-05</td>\n",
       "      <td>24744</td>\n",
       "      <td>A</td>\n",
       "    </tr>\n",
       "    <tr>\n",
       "      <td>1093</td>\n",
       "      <td>3894437543</td>\n",
       "      <td>276558944</td>\n",
       "      <td>2019-08-12</td>\n",
       "      <td>5050</td>\n",
       "      <td>A</td>\n",
       "    </tr>\n",
       "    <tr>\n",
       "      <td>801</td>\n",
       "      <td>504373597</td>\n",
       "      <td>2604012846</td>\n",
       "      <td>2019-08-05</td>\n",
       "      <td>890</td>\n",
       "      <td>B</td>\n",
       "    </tr>\n",
       "    <tr>\n",
       "      <td>189</td>\n",
       "      <td>4189935502</td>\n",
       "      <td>1648269707</td>\n",
       "      <td>2019-08-17</td>\n",
       "      <td>290</td>\n",
       "      <td>B</td>\n",
       "    </tr>\n",
       "    <tr>\n",
       "      <td>808</td>\n",
       "      <td>2344401705</td>\n",
       "      <td>366673373</td>\n",
       "      <td>2019-08-05</td>\n",
       "      <td>1460</td>\n",
       "      <td>A</td>\n",
       "    </tr>\n",
       "    <tr>\n",
       "      <td>480</td>\n",
       "      <td>1954636284</td>\n",
       "      <td>2600415354</td>\n",
       "      <td>2019-08-06</td>\n",
       "      <td>1530</td>\n",
       "      <td>B</td>\n",
       "    </tr>\n",
       "    <tr>\n",
       "      <td>202</td>\n",
       "      <td>532398042</td>\n",
       "      <td>1306302251</td>\n",
       "      <td>2019-08-23</td>\n",
       "      <td>1498</td>\n",
       "      <td>A</td>\n",
       "    </tr>\n",
       "    <tr>\n",
       "      <td>311</td>\n",
       "      <td>3567356314</td>\n",
       "      <td>3077396270</td>\n",
       "      <td>2019-08-24</td>\n",
       "      <td>4195</td>\n",
       "      <td>B</td>\n",
       "    </tr>\n",
       "    <tr>\n",
       "      <td>866</td>\n",
       "      <td>707525727</td>\n",
       "      <td>1270030113</td>\n",
       "      <td>2019-08-30</td>\n",
       "      <td>3290</td>\n",
       "      <td>B</td>\n",
       "    </tr>\n",
       "    <tr>\n",
       "      <td>752</td>\n",
       "      <td>237002862</td>\n",
       "      <td>1398592185</td>\n",
       "      <td>2019-08-20</td>\n",
       "      <td>390</td>\n",
       "      <td>A</td>\n",
       "    </tr>\n",
       "  </tbody>\n",
       "</table>\n",
       "</div>"
      ],
      "text/plain": [
       "      transactionId   visitorId        date  revenue group\n",
       "886        51443164  4278982564  2019-08-05    24744     A\n",
       "1093     3894437543   276558944  2019-08-12     5050     A\n",
       "801       504373597  2604012846  2019-08-05      890     B\n",
       "189      4189935502  1648269707  2019-08-17      290     B\n",
       "808      2344401705   366673373  2019-08-05     1460     A\n",
       "480      1954636284  2600415354  2019-08-06     1530     B\n",
       "202       532398042  1306302251  2019-08-23     1498     A\n",
       "311      3567356314  3077396270  2019-08-24     4195     B\n",
       "866       707525727  1270030113  2019-08-30     3290     B\n",
       "752       237002862  1398592185  2019-08-20      390     A"
      ]
     },
     "metadata": {},
     "output_type": "display_data"
    },
    {
     "name": "stdout",
     "output_type": "stream",
     "text": [
      "transactionId   0.00\n",
      "visitorId       0.00\n",
      "date            0.00\n",
      "revenue         0.00\n",
      "group           0.00\n",
      "dtype: float64\n",
      "duplicates: 0\n"
     ]
    }
   ],
   "source": [
    "# получим информацию о датасетах\n",
    "for df in [visitors, orders]:\n",
    "    df.info()#вывод общей информации\n",
    "    display(df.sample(10, random_state=1)) # вывод 10 рандомных строк\n",
    "    print(df.isna().mean()) # вывод среднего количества пропущенных значений\n",
    "    print('duplicates:', df.duplicated().sum()) # вывод количества дубликатов"
   ]
  },
  {
   "cell_type": "code",
   "execution_count": 9,
   "metadata": {},
   "outputs": [],
   "source": [
    "# преобразование данных о времени\n",
    "visitors['date'] = pd.to_datetime(visitors['date']) \n",
    "orders['date'] = pd.to_datetime(orders['date'])"
   ]
  },
  {
   "cell_type": "code",
   "execution_count": 10,
   "metadata": {},
   "outputs": [
    {
     "name": "stdout",
     "output_type": "stream",
     "text": [
      "минимальная дата в датасете visitors: 2019-08-01 00:00:00\n",
      "максимальная дата в датасете visitors: 2019-08-31 00:00:00\n",
      "в датасете visitors есть данные по количеству дней, равному 31\n"
     ]
    }
   ],
   "source": [
    "# минимальная и максимальная дата\n",
    "print(\"минимальная дата в датасете visitors:\", visitors['date'].min())\n",
    "print(\"максимальная дата в датасете visitors:\", visitors['date'].max())\n",
    "print(\"в датасете visitors есть данные по количеству дней, равному\",visitors['date'].nunique())"
   ]
  },
  {
   "cell_type": "code",
   "execution_count": 11,
   "metadata": {},
   "outputs": [
    {
     "name": "stdout",
     "output_type": "stream",
     "text": [
      "минимальная дата в датасете orders: 2019-08-01 00:00:00\n",
      "максимальная дата в датасете orders: 2019-08-31 00:00:00\n",
      "в датасете orders есть данные по количеству дней, равному 31\n"
     ]
    }
   ],
   "source": [
    "# минимальная и максимальная дата\n",
    "print(\"минимальная дата в датасете orders:\", orders['date'].min())\n",
    "print(\"максимальная дата в датасете orders:\", orders['date'].max())\n",
    "print(\"в датасете orders есть данные по количеству дней, равному\", orders['date'].nunique())"
   ]
  },
  {
   "cell_type": "markdown",
   "metadata": {},
   "source": [
    "Наш тест проводился в августе 2019, с 1 по 31 августа включительно и у нас есть данные по всем дням."
   ]
  },
  {
   "cell_type": "code",
   "execution_count": 12,
   "metadata": {},
   "outputs": [
    {
     "data": {
      "text/html": [
       "<div>\n",
       "<style scoped>\n",
       "    .dataframe tbody tr th:only-of-type {\n",
       "        vertical-align: middle;\n",
       "    }\n",
       "\n",
       "    .dataframe tbody tr th {\n",
       "        vertical-align: top;\n",
       "    }\n",
       "\n",
       "    .dataframe thead th {\n",
       "        text-align: right;\n",
       "    }\n",
       "</style>\n",
       "<table border=\"1\" class=\"dataframe\">\n",
       "  <thead>\n",
       "    <tr style=\"text-align: right;\">\n",
       "      <th></th>\n",
       "      <th>visitorId</th>\n",
       "      <th>group</th>\n",
       "      <th>revenue</th>\n",
       "      <th>date</th>\n",
       "      <th>purchases</th>\n",
       "    </tr>\n",
       "  </thead>\n",
       "  <tbody>\n",
       "    <tr>\n",
       "      <td>0</td>\n",
       "      <td>4256040402</td>\n",
       "      <td>A</td>\n",
       "      <td>48800</td>\n",
       "      <td>2019-08-01</td>\n",
       "      <td>7</td>\n",
       "    </tr>\n",
       "    <tr>\n",
       "      <td>1</td>\n",
       "      <td>2458001652</td>\n",
       "      <td>B</td>\n",
       "      <td>29289</td>\n",
       "      <td>2019-08-25</td>\n",
       "      <td>6</td>\n",
       "    </tr>\n",
       "    <tr>\n",
       "      <td>2</td>\n",
       "      <td>2038680547</td>\n",
       "      <td>A</td>\n",
       "      <td>8570</td>\n",
       "      <td>2019-08-22</td>\n",
       "      <td>5</td>\n",
       "    </tr>\n",
       "    <tr>\n",
       "      <td>3</td>\n",
       "      <td>2378935119</td>\n",
       "      <td>B</td>\n",
       "      <td>79369</td>\n",
       "      <td>2019-08-25</td>\n",
       "      <td>5</td>\n",
       "    </tr>\n",
       "    <tr>\n",
       "      <td>4</td>\n",
       "      <td>2458001652</td>\n",
       "      <td>A</td>\n",
       "      <td>32809</td>\n",
       "      <td>2019-08-22</td>\n",
       "      <td>5</td>\n",
       "    </tr>\n",
       "  </tbody>\n",
       "</table>\n",
       "</div>"
      ],
      "text/plain": [
       "    visitorId group  revenue       date  purchases\n",
       "0  4256040402     A    48800 2019-08-01          7\n",
       "1  2458001652     B    29289 2019-08-25          6\n",
       "2  2038680547     A     8570 2019-08-22          5\n",
       "3  2378935119     B    79369 2019-08-25          5\n",
       "4  2458001652     A    32809 2019-08-22          5"
      ]
     },
     "execution_count": 12,
     "metadata": {},
     "output_type": "execute_result"
    }
   ],
   "source": [
    "orders_grouped=orders.groupby(['visitorId','group']).agg(\n",
    "    {'revenue': 'sum','date':'first', 'visitorId':'count'}).rename(\n",
    "    columns={'visitorId': 'purchases'}).sort_values(by='purchases', ascending=False).reset_index()\n",
    "orders_grouped.head(5)"
   ]
  },
  {
   "cell_type": "markdown",
   "metadata": {},
   "source": [
    "Проверим, не появляются ли покупатели в разных группах теста, по идее они не должны повторяться"
   ]
  },
  {
   "cell_type": "code",
   "execution_count": 13,
   "metadata": {},
   "outputs": [
    {
     "data": {
      "text/plain": [
       "False    1031\n",
       "True       58\n",
       "Name: visitorId, dtype: int64"
      ]
     },
     "execution_count": 13,
     "metadata": {},
     "output_type": "execute_result"
    }
   ],
   "source": [
    "orders_grouped['visitorId'].duplicated().value_counts() "
   ]
  },
  {
   "cell_type": "markdown",
   "metadata": {},
   "source": [
    "Мы обнаружили 58 повторений visitorId, т.е. есть 58 покупателей попавших в обе группы теста. Изучим их поподробнее."
   ]
  },
  {
   "cell_type": "code",
   "execution_count": 14,
   "metadata": {},
   "outputs": [
    {
     "data": {
      "text/html": [
       "<div>\n",
       "<style scoped>\n",
       "    .dataframe tbody tr th:only-of-type {\n",
       "        vertical-align: middle;\n",
       "    }\n",
       "\n",
       "    .dataframe tbody tr th {\n",
       "        vertical-align: top;\n",
       "    }\n",
       "\n",
       "    .dataframe thead th {\n",
       "        text-align: right;\n",
       "    }\n",
       "</style>\n",
       "<table border=\"1\" class=\"dataframe\">\n",
       "  <thead>\n",
       "    <tr style=\"text-align: right;\">\n",
       "      <th></th>\n",
       "      <th>visitorId</th>\n",
       "      <th>group</th>\n",
       "      <th>revenue</th>\n",
       "      <th>date</th>\n",
       "      <th>purchases</th>\n",
       "    </tr>\n",
       "  </thead>\n",
       "  <tbody>\n",
       "    <tr>\n",
       "      <td>0</td>\n",
       "      <td>8300375</td>\n",
       "      <td>B</td>\n",
       "      <td>10510</td>\n",
       "      <td>2019-08-01</td>\n",
       "      <td>1</td>\n",
       "    </tr>\n",
       "    <tr>\n",
       "      <td>1</td>\n",
       "      <td>8300375</td>\n",
       "      <td>A</td>\n",
       "      <td>1790</td>\n",
       "      <td>2019-08-07</td>\n",
       "      <td>1</td>\n",
       "    </tr>\n",
       "    <tr>\n",
       "      <td>2</td>\n",
       "      <td>199603092</td>\n",
       "      <td>B</td>\n",
       "      <td>3488</td>\n",
       "      <td>2019-08-02</td>\n",
       "      <td>1</td>\n",
       "    </tr>\n",
       "    <tr>\n",
       "      <td>3</td>\n",
       "      <td>199603092</td>\n",
       "      <td>A</td>\n",
       "      <td>19692</td>\n",
       "      <td>2019-08-15</td>\n",
       "      <td>4</td>\n",
       "    </tr>\n",
       "    <tr>\n",
       "      <td>4</td>\n",
       "      <td>232979603</td>\n",
       "      <td>A</td>\n",
       "      <td>60</td>\n",
       "      <td>2019-08-31</td>\n",
       "      <td>1</td>\n",
       "    </tr>\n",
       "    <tr>\n",
       "      <td>...</td>\n",
       "      <td>...</td>\n",
       "      <td>...</td>\n",
       "      <td>...</td>\n",
       "      <td>...</td>\n",
       "      <td>...</td>\n",
       "    </tr>\n",
       "    <tr>\n",
       "      <td>111</td>\n",
       "      <td>4186807279</td>\n",
       "      <td>B</td>\n",
       "      <td>32300</td>\n",
       "      <td>2019-08-21</td>\n",
       "      <td>2</td>\n",
       "    </tr>\n",
       "    <tr>\n",
       "      <td>112</td>\n",
       "      <td>4256040402</td>\n",
       "      <td>A</td>\n",
       "      <td>48800</td>\n",
       "      <td>2019-08-01</td>\n",
       "      <td>7</td>\n",
       "    </tr>\n",
       "    <tr>\n",
       "      <td>113</td>\n",
       "      <td>4256040402</td>\n",
       "      <td>B</td>\n",
       "      <td>127690</td>\n",
       "      <td>2019-08-16</td>\n",
       "      <td>4</td>\n",
       "    </tr>\n",
       "    <tr>\n",
       "      <td>114</td>\n",
       "      <td>4266935830</td>\n",
       "      <td>A</td>\n",
       "      <td>78990</td>\n",
       "      <td>2019-08-29</td>\n",
       "      <td>1</td>\n",
       "    </tr>\n",
       "    <tr>\n",
       "      <td>115</td>\n",
       "      <td>4266935830</td>\n",
       "      <td>B</td>\n",
       "      <td>78990</td>\n",
       "      <td>2019-08-29</td>\n",
       "      <td>1</td>\n",
       "    </tr>\n",
       "  </tbody>\n",
       "</table>\n",
       "<p>116 rows × 5 columns</p>\n",
       "</div>"
      ],
      "text/plain": [
       "      visitorId group  revenue       date  purchases\n",
       "0       8300375     B    10510 2019-08-01          1\n",
       "1       8300375     A     1790 2019-08-07          1\n",
       "2     199603092     B     3488 2019-08-02          1\n",
       "3     199603092     A    19692 2019-08-15          4\n",
       "4     232979603     A       60 2019-08-31          1\n",
       "..          ...   ...      ...        ...        ...\n",
       "111  4186807279     B    32300 2019-08-21          2\n",
       "112  4256040402     A    48800 2019-08-01          7\n",
       "113  4256040402     B   127690 2019-08-16          4\n",
       "114  4266935830     A    78990 2019-08-29          1\n",
       "115  4266935830     B    78990 2019-08-29          1\n",
       "\n",
       "[116 rows x 5 columns]"
      ]
     },
     "execution_count": 14,
     "metadata": {},
     "output_type": "execute_result"
    }
   ],
   "source": [
    "orders_dublicated=orders_grouped[orders_grouped['visitorId'].duplicated(keep=False)].sort_values(\n",
    "    ['visitorId', 'date']).reset_index(drop=True)\n",
    "orders_dublicated"
   ]
  },
  {
   "cell_type": "code",
   "execution_count": 15,
   "metadata": {},
   "outputs": [
    {
     "name": "stdout",
     "output_type": "stream",
     "text": [
      "доля покупок, которые приходятся на покупателей, оказавшихся в обеих группах теста: 15.12% \n"
     ]
    }
   ],
   "source": [
    "purch_dublictated = orders_dublicated['purchases'].sum()/orders_grouped['purchases'].sum()\n",
    "print('доля покупок, которые приходятся на покупателей, оказавшихся в обеих группах теста: {:.2%} '.format(purch_dublictated))"
   ]
  },
  {
   "cell_type": "code",
   "execution_count": 16,
   "metadata": {},
   "outputs": [
    {
     "name": "stdout",
     "output_type": "stream",
     "text": [
      "доля выручки, которая приходятся на покупателей, оказавшихся в обеих группах теста: 15.60%\n"
     ]
    }
   ],
   "source": [
    "revenue_dublicated = orders_dublicated['revenue'].sum()/orders_grouped['revenue'].sum()\n",
    "print('доля выручки, которая приходятся на покупателей, оказавшихся в обеих группах теста: {:.2%}'.format(revenue_dublicated))"
   ]
  },
  {
   "cell_type": "markdown",
   "metadata": {},
   "source": [
    "Изучим, сколько покупателей были зафиксированы в разных группах в один и тот же день"
   ]
  },
  {
   "cell_type": "code",
   "execution_count": 17,
   "metadata": {},
   "outputs": [
    {
     "data": {
      "text/plain": [
       "visitorId    15\n",
       "group        15\n",
       "revenue      15\n",
       "date         15\n",
       "purchases    15\n",
       "dtype: int64"
      ]
     },
     "execution_count": 17,
     "metadata": {},
     "output_type": "execute_result"
    }
   ],
   "source": [
    "orders_date_dublicated=orders_dublicated[orders_dublicated.duplicated(\n",
    "    subset=['visitorId','date'])].reset_index(drop=True)\n",
    "orders_date_dublicated.count()"
   ]
  },
  {
   "cell_type": "code",
   "execution_count": 18,
   "metadata": {},
   "outputs": [
    {
     "data": {
      "text/html": [
       "<div>\n",
       "<style scoped>\n",
       "    .dataframe tbody tr th:only-of-type {\n",
       "        vertical-align: middle;\n",
       "    }\n",
       "\n",
       "    .dataframe tbody tr th {\n",
       "        vertical-align: top;\n",
       "    }\n",
       "\n",
       "    .dataframe thead th {\n",
       "        text-align: right;\n",
       "    }\n",
       "</style>\n",
       "<table border=\"1\" class=\"dataframe\">\n",
       "  <thead>\n",
       "    <tr style=\"text-align: right;\">\n",
       "      <th></th>\n",
       "      <th>transactionId</th>\n",
       "      <th>visitorId</th>\n",
       "      <th>date</th>\n",
       "      <th>revenue</th>\n",
       "      <th>group</th>\n",
       "    </tr>\n",
       "  </thead>\n",
       "  <tbody>\n",
       "    <tr>\n",
       "      <td>0</td>\n",
       "      <td>3667963787</td>\n",
       "      <td>3312258926</td>\n",
       "      <td>2019-08-15</td>\n",
       "      <td>1650</td>\n",
       "      <td>B</td>\n",
       "    </tr>\n",
       "    <tr>\n",
       "      <td>1</td>\n",
       "      <td>2804400009</td>\n",
       "      <td>3642806036</td>\n",
       "      <td>2019-08-15</td>\n",
       "      <td>730</td>\n",
       "      <td>B</td>\n",
       "    </tr>\n",
       "    <tr>\n",
       "      <td>3</td>\n",
       "      <td>3797467345</td>\n",
       "      <td>1196621759</td>\n",
       "      <td>2019-08-15</td>\n",
       "      <td>9759</td>\n",
       "      <td>B</td>\n",
       "    </tr>\n",
       "    <tr>\n",
       "      <td>4</td>\n",
       "      <td>2282983706</td>\n",
       "      <td>2322279887</td>\n",
       "      <td>2019-08-15</td>\n",
       "      <td>2308</td>\n",
       "      <td>B</td>\n",
       "    </tr>\n",
       "    <tr>\n",
       "      <td>5</td>\n",
       "      <td>182168103</td>\n",
       "      <td>935554773</td>\n",
       "      <td>2019-08-15</td>\n",
       "      <td>2210</td>\n",
       "      <td>B</td>\n",
       "    </tr>\n",
       "    <tr>\n",
       "      <td>...</td>\n",
       "      <td>...</td>\n",
       "      <td>...</td>\n",
       "      <td>...</td>\n",
       "      <td>...</td>\n",
       "      <td>...</td>\n",
       "    </tr>\n",
       "    <tr>\n",
       "      <td>1191</td>\n",
       "      <td>3592955527</td>\n",
       "      <td>608641596</td>\n",
       "      <td>2019-08-14</td>\n",
       "      <td>16490</td>\n",
       "      <td>B</td>\n",
       "    </tr>\n",
       "    <tr>\n",
       "      <td>1192</td>\n",
       "      <td>2662137336</td>\n",
       "      <td>3733762160</td>\n",
       "      <td>2019-08-14</td>\n",
       "      <td>6490</td>\n",
       "      <td>B</td>\n",
       "    </tr>\n",
       "    <tr>\n",
       "      <td>1193</td>\n",
       "      <td>2203539145</td>\n",
       "      <td>370388673</td>\n",
       "      <td>2019-08-14</td>\n",
       "      <td>3190</td>\n",
       "      <td>A</td>\n",
       "    </tr>\n",
       "    <tr>\n",
       "      <td>1194</td>\n",
       "      <td>1807773912</td>\n",
       "      <td>573423106</td>\n",
       "      <td>2019-08-14</td>\n",
       "      <td>10550</td>\n",
       "      <td>A</td>\n",
       "    </tr>\n",
       "    <tr>\n",
       "      <td>1196</td>\n",
       "      <td>3936777065</td>\n",
       "      <td>2108080724</td>\n",
       "      <td>2019-08-15</td>\n",
       "      <td>202740</td>\n",
       "      <td>B</td>\n",
       "    </tr>\n",
       "  </tbody>\n",
       "</table>\n",
       "<p>1016 rows × 5 columns</p>\n",
       "</div>"
      ],
      "text/plain": [
       "      transactionId   visitorId       date  revenue group\n",
       "0        3667963787  3312258926 2019-08-15     1650     B\n",
       "1        2804400009  3642806036 2019-08-15      730     B\n",
       "3        3797467345  1196621759 2019-08-15     9759     B\n",
       "4        2282983706  2322279887 2019-08-15     2308     B\n",
       "5         182168103   935554773 2019-08-15     2210     B\n",
       "...             ...         ...        ...      ...   ...\n",
       "1191     3592955527   608641596 2019-08-14    16490     B\n",
       "1192     2662137336  3733762160 2019-08-14     6490     B\n",
       "1193     2203539145   370388673 2019-08-14     3190     A\n",
       "1194     1807773912   573423106 2019-08-14    10550     A\n",
       "1196     3936777065  2108080724 2019-08-15   202740     B\n",
       "\n",
       "[1016 rows x 5 columns]"
      ]
     },
     "execution_count": 18,
     "metadata": {},
     "output_type": "execute_result"
    }
   ],
   "source": [
    "# подготовим данные о покупателях без дубликатных покупателей\n",
    "orders_clean=orders.query('visitorId not in @orders_dublicated.visitorId')\n",
    "orders_clean"
   ]
  },
  {
   "cell_type": "code",
   "execution_count": 19,
   "metadata": {},
   "outputs": [
    {
     "name": "stdout",
     "output_type": "stream",
     "text": [
      "total customers in dataset \"orders\": 1031\n",
      "total customers after cleaning: 973\n",
      "total customers after cleaning + 58 dublicated customers: 1031\n"
     ]
    }
   ],
   "source": [
    "# проверим сходятся ли расчеты\n",
    "print('total customers in dataset \"orders\":', orders['visitorId'].nunique())\n",
    "print('total customers after cleaning:', orders_clean['visitorId'].nunique())\n",
    "print('total customers after cleaning + 58 dublicated customers:', orders_clean['visitorId'].nunique() + 58)"
   ]
  },
  {
   "cell_type": "code",
   "execution_count": 20,
   "metadata": {},
   "outputs": [
    {
     "data": {
      "text/html": [
       "<div>\n",
       "<style scoped>\n",
       "    .dataframe tbody tr th:only-of-type {\n",
       "        vertical-align: middle;\n",
       "    }\n",
       "\n",
       "    .dataframe tbody tr th {\n",
       "        vertical-align: top;\n",
       "    }\n",
       "\n",
       "    .dataframe thead th {\n",
       "        text-align: right;\n",
       "    }\n",
       "</style>\n",
       "<table border=\"1\" class=\"dataframe\">\n",
       "  <thead>\n",
       "    <tr style=\"text-align: right;\">\n",
       "      <th></th>\n",
       "      <th>date</th>\n",
       "      <th>group</th>\n",
       "      <th>purchases</th>\n",
       "    </tr>\n",
       "  </thead>\n",
       "  <tbody>\n",
       "    <tr>\n",
       "      <td>0</td>\n",
       "      <td>2019-08-01</td>\n",
       "      <td>A</td>\n",
       "      <td>7</td>\n",
       "    </tr>\n",
       "    <tr>\n",
       "      <td>1</td>\n",
       "      <td>2019-08-01</td>\n",
       "      <td>B</td>\n",
       "      <td>6</td>\n",
       "    </tr>\n",
       "    <tr>\n",
       "      <td>2</td>\n",
       "      <td>2019-08-02</td>\n",
       "      <td>A</td>\n",
       "      <td>1</td>\n",
       "    </tr>\n",
       "    <tr>\n",
       "      <td>3</td>\n",
       "      <td>2019-08-02</td>\n",
       "      <td>B</td>\n",
       "      <td>1</td>\n",
       "    </tr>\n",
       "    <tr>\n",
       "      <td>4</td>\n",
       "      <td>2019-08-03</td>\n",
       "      <td>B</td>\n",
       "      <td>3</td>\n",
       "    </tr>\n",
       "  </tbody>\n",
       "</table>\n",
       "</div>"
      ],
      "text/plain": [
       "        date group  purchases\n",
       "0 2019-08-01     A          7\n",
       "1 2019-08-01     B          6\n",
       "2 2019-08-02     A          1\n",
       "3 2019-08-02     B          1\n",
       "4 2019-08-03     B          3"
      ]
     },
     "execution_count": 20,
     "metadata": {},
     "output_type": "execute_result"
    }
   ],
   "source": [
    "# подготовим данные о покупках дубликатных покупателей по группам и дням, которые нужно будет вычесть из визитов\n",
    "orders_dublicated_for_clean=orders_dublicated.groupby(['date','group']).agg({'purchases': 'sum'}).reset_index()\n",
    "orders_dublicated_for_clean.head()"
   ]
  },
  {
   "cell_type": "code",
   "execution_count": 21,
   "metadata": {},
   "outputs": [
    {
     "data": {
      "text/html": [
       "<div>\n",
       "<style scoped>\n",
       "    .dataframe tbody tr th:only-of-type {\n",
       "        vertical-align: middle;\n",
       "    }\n",
       "\n",
       "    .dataframe tbody tr th {\n",
       "        vertical-align: top;\n",
       "    }\n",
       "\n",
       "    .dataframe thead th {\n",
       "        text-align: right;\n",
       "    }\n",
       "</style>\n",
       "<table border=\"1\" class=\"dataframe\">\n",
       "  <thead>\n",
       "    <tr style=\"text-align: right;\">\n",
       "      <th></th>\n",
       "      <th>date</th>\n",
       "      <th>group</th>\n",
       "      <th>visitors</th>\n",
       "    </tr>\n",
       "  </thead>\n",
       "  <tbody>\n",
       "    <tr>\n",
       "      <td>0</td>\n",
       "      <td>2019-08-01</td>\n",
       "      <td>A</td>\n",
       "      <td>712</td>\n",
       "    </tr>\n",
       "    <tr>\n",
       "      <td>1</td>\n",
       "      <td>2019-08-02</td>\n",
       "      <td>A</td>\n",
       "      <td>618</td>\n",
       "    </tr>\n",
       "    <tr>\n",
       "      <td>2</td>\n",
       "      <td>2019-08-03</td>\n",
       "      <td>A</td>\n",
       "      <td>507</td>\n",
       "    </tr>\n",
       "    <tr>\n",
       "      <td>3</td>\n",
       "      <td>2019-08-04</td>\n",
       "      <td>A</td>\n",
       "      <td>715</td>\n",
       "    </tr>\n",
       "    <tr>\n",
       "      <td>4</td>\n",
       "      <td>2019-08-05</td>\n",
       "      <td>A</td>\n",
       "      <td>754</td>\n",
       "    </tr>\n",
       "    <tr>\n",
       "      <td>...</td>\n",
       "      <td>...</td>\n",
       "      <td>...</td>\n",
       "      <td>...</td>\n",
       "    </tr>\n",
       "    <tr>\n",
       "      <td>57</td>\n",
       "      <td>2019-08-27</td>\n",
       "      <td>B</td>\n",
       "      <td>716</td>\n",
       "    </tr>\n",
       "    <tr>\n",
       "      <td>58</td>\n",
       "      <td>2019-08-28</td>\n",
       "      <td>B</td>\n",
       "      <td>645</td>\n",
       "    </tr>\n",
       "    <tr>\n",
       "      <td>59</td>\n",
       "      <td>2019-08-29</td>\n",
       "      <td>B</td>\n",
       "      <td>527</td>\n",
       "    </tr>\n",
       "    <tr>\n",
       "      <td>60</td>\n",
       "      <td>2019-08-30</td>\n",
       "      <td>B</td>\n",
       "      <td>488</td>\n",
       "    </tr>\n",
       "    <tr>\n",
       "      <td>61</td>\n",
       "      <td>2019-08-31</td>\n",
       "      <td>B</td>\n",
       "      <td>716</td>\n",
       "    </tr>\n",
       "  </tbody>\n",
       "</table>\n",
       "<p>62 rows × 3 columns</p>\n",
       "</div>"
      ],
      "text/plain": [
       "         date group  visitors\n",
       "0  2019-08-01     A       712\n",
       "1  2019-08-02     A       618\n",
       "2  2019-08-03     A       507\n",
       "3  2019-08-04     A       715\n",
       "4  2019-08-05     A       754\n",
       "..        ...   ...       ...\n",
       "57 2019-08-27     B       716\n",
       "58 2019-08-28     B       645\n",
       "59 2019-08-29     B       527\n",
       "60 2019-08-30     B       488\n",
       "61 2019-08-31     B       716\n",
       "\n",
       "[62 rows x 3 columns]"
      ]
     },
     "execution_count": 21,
     "metadata": {},
     "output_type": "execute_result"
    }
   ],
   "source": [
    "# откорректируем датасет visitors \n",
    "visitors_clean=visitors.merge(orders_dublicated_for_clean, how='left', on=['date','group']).fillna(0)\n",
    "visitors_clean['visitors_clean']=visitors_clean['visitors']-visitors_clean['purchases']\n",
    "visitors_clean=visitors_clean.drop(columns=['visitors', 'purchases'])\n",
    "visitors_clean['visitors']=visitors_clean['visitors_clean'].astype('int')\n",
    "visitors_clean=visitors_clean.drop(columns=['visitors_clean'])\n",
    "visitors_clean"
   ]
  },
  {
   "cell_type": "markdown",
   "metadata": {},
   "source": [
    "Мы подготовили данные, убрав из них пользователей, попавших в обе группы теста. Будем использовать таблицы visitors_clean и orders_clean. Если нам подадобится включить в анализ дупликаты, мы всегда можем воспользоваться оригинальными таблицами."
   ]
  },
  {
   "cell_type": "markdown",
   "metadata": {},
   "source": [
    "### Подготовка кумулятивных таблиц"
   ]
  },
  {
   "cell_type": "code",
   "execution_count": 22,
   "metadata": {},
   "outputs": [],
   "source": [
    "# создаем массив уникальных пар значений дат и групп теста\n",
    "datesGroups = orders_clean[['date','group']].drop_duplicates()"
   ]
  },
  {
   "cell_type": "code",
   "execution_count": 23,
   "metadata": {},
   "outputs": [],
   "source": [
    "# получаем агрегированные кумулятивные данные данные о заказах по дням \n",
    "ordersAggregated = datesGroups.apply(\n",
    "    lambda x: orders_clean[np.logical_and(\n",
    "        orders_clean['date'] <= x['date'], orders_clean['group'] == x['group'])].agg(\n",
    "        {'date' : 'max', 'group' : 'max', 'transactionId' : pd.Series.nunique, 'visitorId' : pd.Series.nunique, 'revenue' : 'sum'}), axis=1).sort_values(\n",
    "    by=['date','group'])"
   ]
  },
  {
   "cell_type": "code",
   "execution_count": 24,
   "metadata": {},
   "outputs": [
    {
     "data": {
      "text/html": [
       "<div>\n",
       "<style scoped>\n",
       "    .dataframe tbody tr th:only-of-type {\n",
       "        vertical-align: middle;\n",
       "    }\n",
       "\n",
       "    .dataframe tbody tr th {\n",
       "        vertical-align: top;\n",
       "    }\n",
       "\n",
       "    .dataframe thead th {\n",
       "        text-align: right;\n",
       "    }\n",
       "</style>\n",
       "<table border=\"1\" class=\"dataframe\">\n",
       "  <thead>\n",
       "    <tr style=\"text-align: right;\">\n",
       "      <th></th>\n",
       "      <th>date</th>\n",
       "      <th>group</th>\n",
       "      <th>transactionId</th>\n",
       "      <th>visitorId</th>\n",
       "      <th>revenue</th>\n",
       "    </tr>\n",
       "  </thead>\n",
       "  <tbody>\n",
       "    <tr>\n",
       "      <td>55</td>\n",
       "      <td>2019-08-01</td>\n",
       "      <td>A</td>\n",
       "      <td>23</td>\n",
       "      <td>19</td>\n",
       "      <td>142779</td>\n",
       "    </tr>\n",
       "    <tr>\n",
       "      <td>66</td>\n",
       "      <td>2019-08-01</td>\n",
       "      <td>B</td>\n",
       "      <td>17</td>\n",
       "      <td>17</td>\n",
       "      <td>59758</td>\n",
       "    </tr>\n",
       "    <tr>\n",
       "      <td>175</td>\n",
       "      <td>2019-08-02</td>\n",
       "      <td>A</td>\n",
       "      <td>42</td>\n",
       "      <td>36</td>\n",
       "      <td>234381</td>\n",
       "    </tr>\n",
       "    <tr>\n",
       "      <td>173</td>\n",
       "      <td>2019-08-02</td>\n",
       "      <td>B</td>\n",
       "      <td>40</td>\n",
       "      <td>39</td>\n",
       "      <td>221801</td>\n",
       "    </tr>\n",
       "    <tr>\n",
       "      <td>291</td>\n",
       "      <td>2019-08-03</td>\n",
       "      <td>A</td>\n",
       "      <td>66</td>\n",
       "      <td>60</td>\n",
       "      <td>346854</td>\n",
       "    </tr>\n",
       "    <tr>\n",
       "      <td>...</td>\n",
       "      <td>...</td>\n",
       "      <td>...</td>\n",
       "      <td>...</td>\n",
       "      <td>...</td>\n",
       "      <td>...</td>\n",
       "    </tr>\n",
       "    <tr>\n",
       "      <td>533</td>\n",
       "      <td>2019-08-29</td>\n",
       "      <td>B</td>\n",
       "      <td>510</td>\n",
       "      <td>490</td>\n",
       "      <td>4746610</td>\n",
       "    </tr>\n",
       "    <tr>\n",
       "      <td>757</td>\n",
       "      <td>2019-08-30</td>\n",
       "      <td>A</td>\n",
       "      <td>460</td>\n",
       "      <td>437</td>\n",
       "      <td>3311413</td>\n",
       "    </tr>\n",
       "    <tr>\n",
       "      <td>690</td>\n",
       "      <td>2019-08-30</td>\n",
       "      <td>B</td>\n",
       "      <td>531</td>\n",
       "      <td>511</td>\n",
       "      <td>4955833</td>\n",
       "    </tr>\n",
       "    <tr>\n",
       "      <td>958</td>\n",
       "      <td>2019-08-31</td>\n",
       "      <td>A</td>\n",
       "      <td>468</td>\n",
       "      <td>445</td>\n",
       "      <td>3364656</td>\n",
       "    </tr>\n",
       "    <tr>\n",
       "      <td>930</td>\n",
       "      <td>2019-08-31</td>\n",
       "      <td>B</td>\n",
       "      <td>548</td>\n",
       "      <td>528</td>\n",
       "      <td>5068972</td>\n",
       "    </tr>\n",
       "  </tbody>\n",
       "</table>\n",
       "<p>62 rows × 5 columns</p>\n",
       "</div>"
      ],
      "text/plain": [
       "          date group  transactionId  visitorId  revenue\n",
       "55  2019-08-01     A             23         19   142779\n",
       "66  2019-08-01     B             17         17    59758\n",
       "175 2019-08-02     A             42         36   234381\n",
       "173 2019-08-02     B             40         39   221801\n",
       "291 2019-08-03     A             66         60   346854\n",
       "..         ...   ...            ...        ...      ...\n",
       "533 2019-08-29     B            510        490  4746610\n",
       "757 2019-08-30     A            460        437  3311413\n",
       "690 2019-08-30     B            531        511  4955833\n",
       "958 2019-08-31     A            468        445  3364656\n",
       "930 2019-08-31     B            548        528  5068972\n",
       "\n",
       "[62 rows x 5 columns]"
      ]
     },
     "execution_count": 24,
     "metadata": {},
     "output_type": "execute_result"
    }
   ],
   "source": [
    "ordersAggregated"
   ]
  },
  {
   "cell_type": "code",
   "execution_count": 25,
   "metadata": {},
   "outputs": [],
   "source": [
    "# попробуем сделать то же самое через cumsum\n",
    "orders_clean_grouped=orders_clean.groupby(\n",
    "    ['date', 'group']).agg({'revenue' : 'sum','transactionId' : 'nunique', 'visitorId':'nunique'}).reset_index()"
   ]
  },
  {
   "cell_type": "code",
   "execution_count": 26,
   "metadata": {},
   "outputs": [
    {
     "data": {
      "text/html": [
       "<div>\n",
       "<style scoped>\n",
       "    .dataframe tbody tr th:only-of-type {\n",
       "        vertical-align: middle;\n",
       "    }\n",
       "\n",
       "    .dataframe tbody tr th {\n",
       "        vertical-align: top;\n",
       "    }\n",
       "\n",
       "    .dataframe thead th {\n",
       "        text-align: right;\n",
       "    }\n",
       "</style>\n",
       "<table border=\"1\" class=\"dataframe\">\n",
       "  <thead>\n",
       "    <tr style=\"text-align: right;\">\n",
       "      <th></th>\n",
       "      <th>date</th>\n",
       "      <th>group</th>\n",
       "      <th>revenue</th>\n",
       "      <th>transactionId</th>\n",
       "      <th>visitorId</th>\n",
       "      <th>revenue_cumsum</th>\n",
       "      <th>transactionId_cumsum</th>\n",
       "      <th>visitorId_cumsum</th>\n",
       "    </tr>\n",
       "  </thead>\n",
       "  <tbody>\n",
       "    <tr>\n",
       "      <td>0</td>\n",
       "      <td>2019-08-01</td>\n",
       "      <td>A</td>\n",
       "      <td>142779</td>\n",
       "      <td>23</td>\n",
       "      <td>19</td>\n",
       "      <td>142779</td>\n",
       "      <td>23</td>\n",
       "      <td>19</td>\n",
       "    </tr>\n",
       "    <tr>\n",
       "      <td>1</td>\n",
       "      <td>2019-08-01</td>\n",
       "      <td>B</td>\n",
       "      <td>59758</td>\n",
       "      <td>17</td>\n",
       "      <td>17</td>\n",
       "      <td>59758</td>\n",
       "      <td>17</td>\n",
       "      <td>17</td>\n",
       "    </tr>\n",
       "    <tr>\n",
       "      <td>2</td>\n",
       "      <td>2019-08-02</td>\n",
       "      <td>A</td>\n",
       "      <td>91602</td>\n",
       "      <td>19</td>\n",
       "      <td>18</td>\n",
       "      <td>234381</td>\n",
       "      <td>42</td>\n",
       "      <td>37</td>\n",
       "    </tr>\n",
       "    <tr>\n",
       "      <td>3</td>\n",
       "      <td>2019-08-02</td>\n",
       "      <td>B</td>\n",
       "      <td>162043</td>\n",
       "      <td>23</td>\n",
       "      <td>22</td>\n",
       "      <td>221801</td>\n",
       "      <td>40</td>\n",
       "      <td>39</td>\n",
       "    </tr>\n",
       "    <tr>\n",
       "      <td>4</td>\n",
       "      <td>2019-08-03</td>\n",
       "      <td>A</td>\n",
       "      <td>112473</td>\n",
       "      <td>24</td>\n",
       "      <td>24</td>\n",
       "      <td>346854</td>\n",
       "      <td>66</td>\n",
       "      <td>61</td>\n",
       "    </tr>\n",
       "    <tr>\n",
       "      <td>...</td>\n",
       "      <td>...</td>\n",
       "      <td>...</td>\n",
       "      <td>...</td>\n",
       "      <td>...</td>\n",
       "      <td>...</td>\n",
       "      <td>...</td>\n",
       "      <td>...</td>\n",
       "      <td>...</td>\n",
       "    </tr>\n",
       "    <tr>\n",
       "      <td>57</td>\n",
       "      <td>2019-08-29</td>\n",
       "      <td>B</td>\n",
       "      <td>106100</td>\n",
       "      <td>15</td>\n",
       "      <td>15</td>\n",
       "      <td>4746610</td>\n",
       "      <td>510</td>\n",
       "      <td>506</td>\n",
       "    </tr>\n",
       "    <tr>\n",
       "      <td>58</td>\n",
       "      <td>2019-08-30</td>\n",
       "      <td>A</td>\n",
       "      <td>78180</td>\n",
       "      <td>9</td>\n",
       "      <td>8</td>\n",
       "      <td>3311413</td>\n",
       "      <td>460</td>\n",
       "      <td>449</td>\n",
       "    </tr>\n",
       "    <tr>\n",
       "      <td>59</td>\n",
       "      <td>2019-08-30</td>\n",
       "      <td>B</td>\n",
       "      <td>209223</td>\n",
       "      <td>21</td>\n",
       "      <td>21</td>\n",
       "      <td>4955833</td>\n",
       "      <td>531</td>\n",
       "      <td>527</td>\n",
       "    </tr>\n",
       "    <tr>\n",
       "      <td>60</td>\n",
       "      <td>2019-08-31</td>\n",
       "      <td>A</td>\n",
       "      <td>53243</td>\n",
       "      <td>8</td>\n",
       "      <td>8</td>\n",
       "      <td>3364656</td>\n",
       "      <td>468</td>\n",
       "      <td>457</td>\n",
       "    </tr>\n",
       "    <tr>\n",
       "      <td>61</td>\n",
       "      <td>2019-08-31</td>\n",
       "      <td>B</td>\n",
       "      <td>113139</td>\n",
       "      <td>17</td>\n",
       "      <td>17</td>\n",
       "      <td>5068972</td>\n",
       "      <td>548</td>\n",
       "      <td>544</td>\n",
       "    </tr>\n",
       "  </tbody>\n",
       "</table>\n",
       "<p>62 rows × 8 columns</p>\n",
       "</div>"
      ],
      "text/plain": [
       "         date group  revenue  transactionId  visitorId  revenue_cumsum  \\\n",
       "0  2019-08-01     A   142779             23         19          142779   \n",
       "1  2019-08-01     B    59758             17         17           59758   \n",
       "2  2019-08-02     A    91602             19         18          234381   \n",
       "3  2019-08-02     B   162043             23         22          221801   \n",
       "4  2019-08-03     A   112473             24         24          346854   \n",
       "..        ...   ...      ...            ...        ...             ...   \n",
       "57 2019-08-29     B   106100             15         15         4746610   \n",
       "58 2019-08-30     A    78180              9          8         3311413   \n",
       "59 2019-08-30     B   209223             21         21         4955833   \n",
       "60 2019-08-31     A    53243              8          8         3364656   \n",
       "61 2019-08-31     B   113139             17         17         5068972   \n",
       "\n",
       "    transactionId_cumsum  visitorId_cumsum  \n",
       "0                     23                19  \n",
       "1                     17                17  \n",
       "2                     42                37  \n",
       "3                     40                39  \n",
       "4                     66                61  \n",
       "..                   ...               ...  \n",
       "57                   510               506  \n",
       "58                   460               449  \n",
       "59                   531               527  \n",
       "60                   468               457  \n",
       "61                   548               544  \n",
       "\n",
       "[62 rows x 8 columns]"
      ]
     },
     "execution_count": 26,
     "metadata": {},
     "output_type": "execute_result"
    }
   ],
   "source": [
    "#orders_clean_grouped['new']=orders_clean_grouped['revenue'].cumsum()\n",
    "orders_clean_grouped['revenue_cumsum']=orders_clean_grouped.groupby(['group'])['revenue'].cumsum()\n",
    "orders_clean_grouped['transactionId_cumsum']=orders_clean_grouped.groupby(['group'])['transactionId'].cumsum()\n",
    "orders_clean_grouped['visitorId_cumsum']=orders_clean_grouped.groupby(['group'])['visitorId'].cumsum()\n",
    "orders_clean_grouped"
   ]
  },
  {
   "cell_type": "markdown",
   "metadata": {},
   "source": [
    "*Примечание \n",
    "Мы сделали таблицу с кумулятивными о заказах по дням двумя способами, как в тренажере, через lambda, и, воспользовавшись методом cumsum. Результаты получились одинаковые кроме столбца с кумулятивнями visitorId. Во второй таблице, у нас есть исходные данные, и мы видим, что кумулятивная сумма количества покупателей считается корректно. Скорее всего, в варианте с lambda расхождение связано с pd.Series.nunique - если какой-то покупатель повторился в разные дни, то он будет посчитан только один раз, так как это nunique, а в случае с cumsum он посчитался, т.к. он был уникум в разные дни. На конец месяца, мы видим, что разнца не слишком велика, но тем не менее она есть."
   ]
  },
  {
   "cell_type": "code",
   "execution_count": 27,
   "metadata": {},
   "outputs": [
    {
     "data": {
      "text/html": [
       "<div>\n",
       "<style scoped>\n",
       "    .dataframe tbody tr th:only-of-type {\n",
       "        vertical-align: middle;\n",
       "    }\n",
       "\n",
       "    .dataframe tbody tr th {\n",
       "        vertical-align: top;\n",
       "    }\n",
       "\n",
       "    .dataframe thead th {\n",
       "        text-align: right;\n",
       "    }\n",
       "</style>\n",
       "<table border=\"1\" class=\"dataframe\">\n",
       "  <thead>\n",
       "    <tr style=\"text-align: right;\">\n",
       "      <th></th>\n",
       "      <th>date</th>\n",
       "      <th>group</th>\n",
       "      <th>visitors</th>\n",
       "    </tr>\n",
       "  </thead>\n",
       "  <tbody>\n",
       "    <tr>\n",
       "      <td>55</td>\n",
       "      <td>2019-08-01</td>\n",
       "      <td>A</td>\n",
       "      <td>712</td>\n",
       "    </tr>\n",
       "    <tr>\n",
       "      <td>66</td>\n",
       "      <td>2019-08-01</td>\n",
       "      <td>B</td>\n",
       "      <td>707</td>\n",
       "    </tr>\n",
       "    <tr>\n",
       "      <td>175</td>\n",
       "      <td>2019-08-02</td>\n",
       "      <td>A</td>\n",
       "      <td>1330</td>\n",
       "    </tr>\n",
       "    <tr>\n",
       "      <td>173</td>\n",
       "      <td>2019-08-02</td>\n",
       "      <td>B</td>\n",
       "      <td>1287</td>\n",
       "    </tr>\n",
       "    <tr>\n",
       "      <td>291</td>\n",
       "      <td>2019-08-03</td>\n",
       "      <td>A</td>\n",
       "      <td>1837</td>\n",
       "    </tr>\n",
       "    <tr>\n",
       "      <td>...</td>\n",
       "      <td>...</td>\n",
       "      <td>...</td>\n",
       "      <td>...</td>\n",
       "    </tr>\n",
       "    <tr>\n",
       "      <td>533</td>\n",
       "      <td>2019-08-29</td>\n",
       "      <td>B</td>\n",
       "      <td>17620</td>\n",
       "    </tr>\n",
       "    <tr>\n",
       "      <td>757</td>\n",
       "      <td>2019-08-30</td>\n",
       "      <td>A</td>\n",
       "      <td>17950</td>\n",
       "    </tr>\n",
       "    <tr>\n",
       "      <td>690</td>\n",
       "      <td>2019-08-30</td>\n",
       "      <td>B</td>\n",
       "      <td>18108</td>\n",
       "    </tr>\n",
       "    <tr>\n",
       "      <td>958</td>\n",
       "      <td>2019-08-31</td>\n",
       "      <td>A</td>\n",
       "      <td>18647</td>\n",
       "    </tr>\n",
       "    <tr>\n",
       "      <td>930</td>\n",
       "      <td>2019-08-31</td>\n",
       "      <td>B</td>\n",
       "      <td>18824</td>\n",
       "    </tr>\n",
       "  </tbody>\n",
       "</table>\n",
       "<p>62 rows × 3 columns</p>\n",
       "</div>"
      ],
      "text/plain": [
       "          date group  visitors\n",
       "55  2019-08-01     A       712\n",
       "66  2019-08-01     B       707\n",
       "175 2019-08-02     A      1330\n",
       "173 2019-08-02     B      1287\n",
       "291 2019-08-03     A      1837\n",
       "..         ...   ...       ...\n",
       "533 2019-08-29     B     17620\n",
       "757 2019-08-30     A     17950\n",
       "690 2019-08-30     B     18108\n",
       "958 2019-08-31     A     18647\n",
       "930 2019-08-31     B     18824\n",
       "\n",
       "[62 rows x 3 columns]"
      ]
     },
     "execution_count": 27,
     "metadata": {},
     "output_type": "execute_result"
    }
   ],
   "source": [
    "# получаем агрегированные кумулятивные по дням данные о посетителях интернет-магазина \n",
    "visitorsAggregated = datesGroups.apply(lambda x: visitors_clean[np.logical_and(visitors_clean['date'] <= x['date'], visitors_clean['group'] == x['group'])].agg({'date' : 'max', 'group' : 'max', 'visitors' : 'sum'}), axis=1).sort_values(by=['date','group'])\n",
    "visitorsAggregated"
   ]
  },
  {
   "cell_type": "code",
   "execution_count": 28,
   "metadata": {},
   "outputs": [
    {
     "data": {
      "text/html": [
       "<div>\n",
       "<style scoped>\n",
       "    .dataframe tbody tr th:only-of-type {\n",
       "        vertical-align: middle;\n",
       "    }\n",
       "\n",
       "    .dataframe tbody tr th {\n",
       "        vertical-align: top;\n",
       "    }\n",
       "\n",
       "    .dataframe thead th {\n",
       "        text-align: right;\n",
       "    }\n",
       "</style>\n",
       "<table border=\"1\" class=\"dataframe\">\n",
       "  <thead>\n",
       "    <tr style=\"text-align: right;\">\n",
       "      <th></th>\n",
       "      <th>date</th>\n",
       "      <th>group</th>\n",
       "      <th>orders</th>\n",
       "      <th>buyers</th>\n",
       "      <th>revenue</th>\n",
       "      <th>visitors</th>\n",
       "    </tr>\n",
       "  </thead>\n",
       "  <tbody>\n",
       "    <tr>\n",
       "      <td>57</td>\n",
       "      <td>2019-08-29</td>\n",
       "      <td>B</td>\n",
       "      <td>510</td>\n",
       "      <td>490</td>\n",
       "      <td>4746610</td>\n",
       "      <td>17620</td>\n",
       "    </tr>\n",
       "    <tr>\n",
       "      <td>58</td>\n",
       "      <td>2019-08-30</td>\n",
       "      <td>A</td>\n",
       "      <td>460</td>\n",
       "      <td>437</td>\n",
       "      <td>3311413</td>\n",
       "      <td>17950</td>\n",
       "    </tr>\n",
       "    <tr>\n",
       "      <td>59</td>\n",
       "      <td>2019-08-30</td>\n",
       "      <td>B</td>\n",
       "      <td>531</td>\n",
       "      <td>511</td>\n",
       "      <td>4955833</td>\n",
       "      <td>18108</td>\n",
       "    </tr>\n",
       "    <tr>\n",
       "      <td>60</td>\n",
       "      <td>2019-08-31</td>\n",
       "      <td>A</td>\n",
       "      <td>468</td>\n",
       "      <td>445</td>\n",
       "      <td>3364656</td>\n",
       "      <td>18647</td>\n",
       "    </tr>\n",
       "    <tr>\n",
       "      <td>61</td>\n",
       "      <td>2019-08-31</td>\n",
       "      <td>B</td>\n",
       "      <td>548</td>\n",
       "      <td>528</td>\n",
       "      <td>5068972</td>\n",
       "      <td>18824</td>\n",
       "    </tr>\n",
       "  </tbody>\n",
       "</table>\n",
       "</div>"
      ],
      "text/plain": [
       "         date group  orders  buyers  revenue  visitors\n",
       "57 2019-08-29     B     510     490  4746610     17620\n",
       "58 2019-08-30     A     460     437  3311413     17950\n",
       "59 2019-08-30     B     531     511  4955833     18108\n",
       "60 2019-08-31     A     468     445  3364656     18647\n",
       "61 2019-08-31     B     548     528  5068972     18824"
      ]
     },
     "execution_count": 28,
     "metadata": {},
     "output_type": "execute_result"
    }
   ],
   "source": [
    "# объединяем кумулятивные данные в одной таблице и присваиваем ее столбцам понятные названия\n",
    "cumulativeData = ordersAggregated.merge(visitorsAggregated, left_on=['date', 'group'], right_on=['date', 'group'])\n",
    "cumulativeData.columns = ['date', 'group', 'orders', 'buyers', 'revenue', 'visitors']\n",
    "cumulativeData.tail()"
   ]
  },
  {
   "cell_type": "markdown",
   "metadata": {},
   "source": [
    "### Анализ A/B-теста"
   ]
  },
  {
   "cell_type": "markdown",
   "metadata": {},
   "source": [
    "#### Постройте график кумулятивной выручки по группам. Сделайте выводы и предположения"
   ]
  },
  {
   "cell_type": "code",
   "execution_count": 50,
   "metadata": {},
   "outputs": [
    {
     "data": {
      "image/png": "[encoded data removed]",
      "text/plain": [
       "<Figure size 720x360 with 1 Axes>"
      ]
     },
     "metadata": {
      "needs_background": "light"
     },
     "output_type": "display_data"
    }
   ],
   "source": [
    "# датафрейм с кумулятивным количеством заказов и кумулятивной выручкой по дням в группе А\n",
    "cumulativeRevenueA = cumulativeData[cumulativeData['group']=='A'][['date','revenue', 'orders']]\n",
    "\n",
    "# датафрейм с кумулятивным количеством заказов и кумулятивной выручкой по дням в группе B\n",
    "cumulativeRevenueB = cumulativeData[cumulativeData['group']=='B'][['date','revenue', 'orders']]\n",
    "\n",
    "# Строим графики выручки по обоим группам \n",
    "plt.figure(figsize=(10,5))\n",
    "plt.grid()\n",
    "\n",
    "plt.plot(cumulativeRevenueA['date'], cumulativeRevenueA['revenue'], label='A')\n",
    "plt.plot(cumulativeRevenueB['date'], cumulativeRevenueB['revenue'], label='B')\n",
    "\n",
    "plt.legend()\n",
    "plt.ylabel('выручка')\n",
    "plt.title('Кумулятивная выручка по группам')\n",
    "#plt.axis([cumulativeRevenueB['date'].min(), cumulativeRevenue['date'].max(), cumulativeRevenue['revenue'].min(),cumulativeRevenueB['revenue'].max()]) \n",
    "plt.show()"
   ]
  },
  {
   "cell_type": "markdown",
   "metadata": {},
   "source": [
    "Группа В начинает опережать группу А по кумулятивным выручкам с пятого дня (пятого августа 2019), сраниваясь на 13-ый день и после этого опережая постоянно. Около 18-ого дня происходит сильный скачок в выручке, сокрее всего, там была какая-то очень крупная покупка или же всплеск в заказах. Вероятно, это выброс, после которого группа В так сильно оторвалась. После этого дня выручка почти равномерно увеличивается в течение всего теста в обеих группах.\n",
    "Необходимо будет обратить внимание на выбросы."
   ]
  },
  {
   "cell_type": "markdown",
   "metadata": {},
   "source": [
    "Посмотрим на выручку по датам в районе \"всплеска\"."
   ]
  },
  {
   "cell_type": "code",
   "execution_count": 30,
   "metadata": {},
   "outputs": [
    {
     "data": {
      "text/html": [
       "<div>\n",
       "<style scoped>\n",
       "    .dataframe tbody tr th:only-of-type {\n",
       "        vertical-align: middle;\n",
       "    }\n",
       "\n",
       "    .dataframe tbody tr th {\n",
       "        vertical-align: top;\n",
       "    }\n",
       "\n",
       "    .dataframe thead th {\n",
       "        text-align: right;\n",
       "    }\n",
       "</style>\n",
       "<table border=\"1\" class=\"dataframe\">\n",
       "  <thead>\n",
       "    <tr style=\"text-align: right;\">\n",
       "      <th></th>\n",
       "      <th>transactionId</th>\n",
       "      <th>visitorId</th>\n",
       "      <th>date</th>\n",
       "      <th>revenue</th>\n",
       "      <th>group</th>\n",
       "    </tr>\n",
       "  </thead>\n",
       "  <tbody>\n",
       "    <tr>\n",
       "      <td>425</td>\n",
       "      <td>590470918</td>\n",
       "      <td>1920142716</td>\n",
       "      <td>2019-08-19</td>\n",
       "      <td>1294500</td>\n",
       "      <td>B</td>\n",
       "    </tr>\n",
       "    <tr>\n",
       "      <td>530</td>\n",
       "      <td>3970235543</td>\n",
       "      <td>2912540959</td>\n",
       "      <td>2019-08-19</td>\n",
       "      <td>43990</td>\n",
       "      <td>A</td>\n",
       "    </tr>\n",
       "    <tr>\n",
       "      <td>527</td>\n",
       "      <td>1570513684</td>\n",
       "      <td>2837914161</td>\n",
       "      <td>2019-08-19</td>\n",
       "      <td>33405</td>\n",
       "      <td>B</td>\n",
       "    </tr>\n",
       "    <tr>\n",
       "      <td>421</td>\n",
       "      <td>3765974140</td>\n",
       "      <td>1357170471</td>\n",
       "      <td>2019-08-19</td>\n",
       "      <td>31680</td>\n",
       "      <td>A</td>\n",
       "    </tr>\n",
       "    <tr>\n",
       "      <td>461</td>\n",
       "      <td>2683113224</td>\n",
       "      <td>154576532</td>\n",
       "      <td>2019-08-19</td>\n",
       "      <td>26550</td>\n",
       "      <td>B</td>\n",
       "    </tr>\n",
       "  </tbody>\n",
       "</table>\n",
       "</div>"
      ],
      "text/plain": [
       "     transactionId   visitorId       date  revenue group\n",
       "425      590470918  1920142716 2019-08-19  1294500     B\n",
       "530     3970235543  2912540959 2019-08-19    43990     A\n",
       "527     1570513684  2837914161 2019-08-19    33405     B\n",
       "421     3765974140  1357170471 2019-08-19    31680     A\n",
       "461     2683113224   154576532 2019-08-19    26550     B"
      ]
     },
     "execution_count": 30,
     "metadata": {},
     "output_type": "execute_result"
    }
   ],
   "source": [
    "orders_clean.query('\"2019-08-17\" < date < \"2019-08-20\"').sort_values(by='revenue', ascending=False).head(5)"
   ]
  },
  {
   "cell_type": "markdown",
   "metadata": {},
   "source": [
    "Мы видим, что 19 августа в группе В была совершена покупка с очень высокой стоимостью 1294500 у.е. Чтобы понять, насколько именно она велика, рассмотрим характеристики выручки по каждой трансакцию за весь период."
   ]
  },
  {
   "cell_type": "code",
   "execution_count": 31,
   "metadata": {},
   "outputs": [
    {
     "data": {
      "text/plain": [
       "count      1016.00\n",
       "mean       8300.81\n",
       "std       42121.99\n",
       "min          50.00\n",
       "25%        1190.00\n",
       "50%        2955.00\n",
       "75%        8134.25\n",
       "max     1294500.00\n",
       "Name: revenue, dtype: float64"
      ]
     },
     "execution_count": 31,
     "metadata": {},
     "output_type": "execute_result"
    }
   ],
   "source": [
    "orders_clean['revenue'].describe()"
   ]
  },
  {
   "cell_type": "markdown",
   "metadata": {},
   "source": [
    "Теперь мы видим, что это покупка в 1294500 у.е. была самой дорогой за весь период, при медианном среднем покупки 2955 и арифметическом в 8300. Данная покупка является выбросом, скосившим наш график и в будущем будет удалена из анализа."
   ]
  },
  {
   "cell_type": "markdown",
   "metadata": {},
   "source": [
    "#### Постройте график кумулятивного среднего чека по группам. Сделайте выводы и предположения."
   ]
  },
  {
   "cell_type": "code",
   "execution_count": 32,
   "metadata": {},
   "outputs": [
    {
     "data": {
      "image/png": "[encoded data removed]",
      "text/plain": [
       "<Figure size 720x360 with 1 Axes>"
      ]
     },
     "metadata": {
      "needs_background": "light"
     },
     "output_type": "display_data"
    }
   ],
   "source": [
    "# Построим графики среднего чека по группам — разделим кумулятивную выручку на кумулятивное число заказов:\n",
    "plt.figure(figsize=(10,5))\n",
    "plt.grid()\n",
    "plt.plot(cumulativeRevenueA['date'], cumulativeRevenueA['revenue']/cumulativeRevenueA['orders'], label='A')\n",
    "plt.plot(cumulativeRevenueB['date'], cumulativeRevenueB['revenue']/cumulativeRevenueB['orders'], label='B')\n",
    "plt.legend() \n",
    "plt.ylabel('у.е.')\n",
    "plt.title('Кумулятивный средний чек по группам')\n",
    "plt.show()"
   ]
  },
  {
   "cell_type": "markdown",
   "metadata": {},
   "source": [
    "Средний чек становится равномерным в группе А ближе к концу теста (после 13 августа). Для группы кривая более скачкообразная - устанавливается первый раз в районе 7 числа, очень плавно снижается, около 11 снановясь ниже чем кривая А, но потом\n",
    "переживает очень резкий скачок после 18-ого августа, а после 21-ого очень плавно снижается. Снова возникает предположение, что в группу B 19 августа попали очень крупные заказы (резкий всплеск на графике, изменение сразу на 3 тысячи у.е., если говорить грубо, то скачок за день был почти на 50%). "
   ]
  },
  {
   "cell_type": "markdown",
   "metadata": {},
   "source": [
    "#### Постройте график относительного изменения кумулятивного среднего чека группы B к группе A. Сделайте выводы и предположения."
   ]
  },
  {
   "cell_type": "code",
   "execution_count": 33,
   "metadata": {},
   "outputs": [
    {
     "data": {
      "image/png": "[encoded data removed]",
      "text/plain": [
       "<Figure size 720x360 with 1 Axes>"
      ]
     },
     "metadata": {
      "needs_background": "light"
     },
     "output_type": "display_data"
    }
   ],
   "source": [
    "# собираем данные в одном датафрейме\n",
    "mergedCumulativeRevenue = cumulativeRevenueA.merge(cumulativeRevenueB, left_on='date', right_on='date', how='left', suffixes=['A', 'B'])\n",
    "\n",
    "# cтроим отношение средних чеков\n",
    "plt.figure(figsize=(10,5))\n",
    "plt.grid()\n",
    "plt.plot(mergedCumulativeRevenue['date'], (mergedCumulativeRevenue['revenueB']/mergedCumulativeRevenue['ordersB'])/(mergedCumulativeRevenue['revenueA']/mergedCumulativeRevenue['ordersA'])-1)\n",
    "\n",
    "plt.axhline(y=0, color='black', linestyle='--') # добавляем ось X\n",
    "plt.title('Относительное различие кумулятивных средних чеков')\n",
    "plt.show()"
   ]
  },
  {
   "cell_type": "markdown",
   "metadata": {},
   "source": [
    "В нескольких точках график относительного различия для среднего чека резко «скачет». Эти скачки показывают, когда произошли крупные заказы, т.е. выбросы, опять-таки 7 и 19 августа."
   ]
  },
  {
   "cell_type": "markdown",
   "metadata": {},
   "source": [
    "Из-за \"скачков\" и обнаруженных выбросов мы не можем утверждать о фиксированном и стабильном преимуществе группы В над А по средним чекам. Однако в большинстве дней кривая находится выше нуля, т.е. средний чек группы В был выше, чем средний чек группы А. Таким образом, мы можем предположить о преимуществе В над А по среднем чекам."
   ]
  },
  {
   "cell_type": "markdown",
   "metadata": {},
   "source": [
    "#### Постройте график кумулятивной конверсии по группам. Сделайте выводы и предположения."
   ]
  },
  {
   "cell_type": "code",
   "execution_count": 34,
   "metadata": {},
   "outputs": [
    {
     "data": {
      "image/png": "[encoded data removed]",
      "text/plain": [
       "<Figure size 720x360 with 1 Axes>"
      ]
     },
     "metadata": {
      "needs_background": "light"
     },
     "output_type": "display_data"
    }
   ],
   "source": [
    "# считаем кумулятивную конверсию\n",
    "cumulativeData['conversion'] = cumulativeData['orders']/cumulativeData['visitors']\n",
    "\n",
    "# отделяем данные по группам\n",
    "cumulativeDataA = cumulativeData[cumulativeData['group']=='A']\n",
    "cumulativeDataB = cumulativeData[cumulativeData['group']=='B']\n",
    "\n",
    "# строим графики\n",
    "plt.figure(figsize=(10,5))\n",
    "plt.grid()\n",
    "plt.plot(cumulativeDataA['date'], cumulativeDataA['conversion'], label='A')\n",
    "plt.plot(cumulativeDataB['date'], cumulativeDataB['conversion'], label='B')\n",
    "plt.legend()\n",
    "plt.title('Кумулятивная конверсия по группам')\n",
    "plt.show()"
   ]
  },
  {
   "cell_type": "markdown",
   "metadata": {},
   "source": [
    "Вначале обе группы колебались и конверсия А была выше. Однако после 6 августа конверсия группы В вырвалась вперёд и зафиксировалась к середине месяца, а конверсия группы А просела и также зафиксировалась начиная с того же периода."
   ]
  },
  {
   "cell_type": "markdown",
   "metadata": {},
   "source": [
    "Такое положение кривых позволяет нам с уверенностью предолагать, что конверсия в группе В стабильно лучше, чем конверсия в группе А."
   ]
  },
  {
   "cell_type": "markdown",
   "metadata": {},
   "source": [
    "#### Постройте график относительного изменения кумулятивной конверсии группы B к группе A. Сделайте выводы и предположения."
   ]
  },
  {
   "cell_type": "code",
   "execution_count": 35,
   "metadata": {},
   "outputs": [
    {
     "data": {
      "image/png": "[encoded data removed]",
      "text/plain": [
       "<Figure size 720x360 with 1 Axes>"
      ]
     },
     "metadata": {
      "needs_background": "light"
     },
     "output_type": "display_data"
    }
   ],
   "source": [
    "mergedCumulativeConversions = cumulativeDataA[['date','conversion']].merge(cumulativeDataB[['date','conversion']], left_on='date', right_on='date', how='left', suffixes=['A', 'B'])\n",
    "\n",
    "plt.figure(figsize=(10,5))\n",
    "plt.grid()\n",
    "plt.plot(mergedCumulativeConversions['date'], mergedCumulativeConversions['conversionB']/mergedCumulativeConversions['conversionA']-1, label=\"Относительный прирост конверсии группы B относительно группы A\")\n",
    "plt.legend()\n",
    "plt.axhline(y=0, color='black', linestyle='--')\n",
    "plt.axhline(y=-0.1, color='grey', linestyle='--')\n",
    "plt.title('Относительное различие кумулятивных конверсий')\n",
    "plt.show()"
   ]
  },
  {
   "cell_type": "markdown",
   "metadata": {},
   "source": [
    "В начале теста группа B проигрывала группе A, затем, после 6 августа, резко вырвалась вперёд. После этого её конверсия была скороее равномерна, подвергаясь небольшим колебаниям, будучи все время лучше, чем у А."
   ]
  },
  {
   "cell_type": "markdown",
   "metadata": {},
   "source": [
    "#### Постройте точечный график количества заказов по пользователям. Сделайте выводы и предположения."
   ]
  },
  {
   "cell_type": "code",
   "execution_count": 36,
   "metadata": {},
   "outputs": [
    {
     "data": {
      "text/html": [
       "<div>\n",
       "<style scoped>\n",
       "    .dataframe tbody tr th:only-of-type {\n",
       "        vertical-align: middle;\n",
       "    }\n",
       "\n",
       "    .dataframe tbody tr th {\n",
       "        vertical-align: top;\n",
       "    }\n",
       "\n",
       "    .dataframe thead th {\n",
       "        text-align: right;\n",
       "    }\n",
       "</style>\n",
       "<table border=\"1\" class=\"dataframe\">\n",
       "  <thead>\n",
       "    <tr style=\"text-align: right;\">\n",
       "      <th></th>\n",
       "      <th>userId</th>\n",
       "      <th>orders</th>\n",
       "    </tr>\n",
       "  </thead>\n",
       "  <tbody>\n",
       "    <tr>\n",
       "      <td>908</td>\n",
       "      <td>3967698036</td>\n",
       "      <td>3</td>\n",
       "    </tr>\n",
       "    <tr>\n",
       "      <td>55</td>\n",
       "      <td>249864742</td>\n",
       "      <td>3</td>\n",
       "    </tr>\n",
       "    <tr>\n",
       "      <td>478</td>\n",
       "      <td>2108163459</td>\n",
       "      <td>3</td>\n",
       "    </tr>\n",
       "    <tr>\n",
       "      <td>687</td>\n",
       "      <td>2988190573</td>\n",
       "      <td>3</td>\n",
       "    </tr>\n",
       "    <tr>\n",
       "      <td>890</td>\n",
       "      <td>3908431265</td>\n",
       "      <td>3</td>\n",
       "    </tr>\n",
       "    <tr>\n",
       "      <td>138</td>\n",
       "      <td>611059232</td>\n",
       "      <td>3</td>\n",
       "    </tr>\n",
       "    <tr>\n",
       "      <td>632</td>\n",
       "      <td>2742574263</td>\n",
       "      <td>3</td>\n",
       "    </tr>\n",
       "    <tr>\n",
       "      <td>157</td>\n",
       "      <td>678354126</td>\n",
       "      <td>2</td>\n",
       "    </tr>\n",
       "    <tr>\n",
       "      <td>323</td>\n",
       "      <td>1404560065</td>\n",
       "      <td>2</td>\n",
       "    </tr>\n",
       "    <tr>\n",
       "      <td>452</td>\n",
       "      <td>1985475298</td>\n",
       "      <td>2</td>\n",
       "    </tr>\n",
       "  </tbody>\n",
       "</table>\n",
       "</div>"
      ],
      "text/plain": [
       "         userId  orders\n",
       "908  3967698036       3\n",
       "55    249864742       3\n",
       "478  2108163459       3\n",
       "687  2988190573       3\n",
       "890  3908431265       3\n",
       "138   611059232       3\n",
       "632  2742574263       3\n",
       "157   678354126       2\n",
       "323  1404560065       2\n",
       "452  1985475298       2"
      ]
     },
     "execution_count": 36,
     "metadata": {},
     "output_type": "execute_result"
    }
   ],
   "source": [
    "ordersByUsers = (\n",
    "    orders_clean.drop(['group', 'revenue', 'date'], axis=1)\n",
    "    .groupby('visitorId', as_index=False)\n",
    "    .agg({'transactionId': pd.Series.nunique})\n",
    ")\n",
    "ordersByUsers.columns = ['userId', 'orders']\n",
    "ordersByUsers.sort_values(by='orders', ascending=False).head(10)"
   ]
  },
  {
   "cell_type": "code",
   "execution_count": 37,
   "metadata": {},
   "outputs": [
    {
     "data": {
      "image/png": "[encoded data removed]",
      "text/plain": [
       "<Figure size 432x288 with 1 Axes>"
      ]
     },
     "metadata": {
      "needs_background": "light"
     },
     "output_type": "display_data"
    }
   ],
   "source": [
    "x_values = pd.Series(range(0,len(ordersByUsers)))\n",
    "\n",
    "plt.scatter(x_values, ordersByUsers['orders'], alpha=0.5)\n",
    "plt.title('количество заказов по пользователям')\n",
    "plt.ylabel('заказы')\n",
    "plt.show()"
   ]
  },
  {
   "cell_type": "markdown",
   "metadata": {},
   "source": [
    "На точечной диаграмме хорошо видно, что большинство покупателей совершали покупку только один раз, но тех кто заказывал дважды тоже наблюдается некоторое количество. Тех кто совершал три покупки, совсем мало. Больше трех покупок не совершал никто."
   ]
  },
  {
   "cell_type": "markdown",
   "metadata": {},
   "source": [
    "#### Посчитайте 95-й и 99-й перцентили количества заказов на пользователя. Выберите границу для определения аномальных пользователей."
   ]
  },
  {
   "cell_type": "code",
   "execution_count": 38,
   "metadata": {},
   "outputs": [
    {
     "name": "stdout",
     "output_type": "stream",
     "text": [
      "[1. 2.]\n"
     ]
    }
   ],
   "source": [
    "print(np.percentile(ordersByUsers['orders'], [95, 99]))"
   ]
  },
  {
   "cell_type": "markdown",
   "metadata": {},
   "source": [
    "95% пользователей сделали 1 заказ, 99% сделали не более двух заказов. Будем считать за границу 99-ый процентиль, тогда тех, кто совершил более двух покупок будем считать аномалией  (т.е. будем считать аномальными тех, кто совершил три покупки, больше трех не совершал никто)."
   ]
  },
  {
   "cell_type": "markdown",
   "metadata": {},
   "source": [
    "#### Постройте точечный график стоимостей заказов. Сделайте выводы и предположения."
   ]
  },
  {
   "cell_type": "code",
   "execution_count": 39,
   "metadata": {},
   "outputs": [
    {
     "data": {
      "image/png": "[encoded data removed]",
      "text/plain": [
       "<Figure size 432x288 with 1 Axes>"
      ]
     },
     "metadata": {
      "needs_background": "light"
     },
     "output_type": "display_data"
    }
   ],
   "source": [
    "x_values = pd.Series(range(0,len(orders_clean['revenue'])))\n",
    "plt.scatter(x_values, orders_clean['revenue'], alpha=0.5)\n",
    "plt.title('Стоимости заказов')\n",
    "plt.ylabel('у.е.')\n",
    "plt.show()"
   ]
  },
  {
   "cell_type": "markdown",
   "metadata": {},
   "source": [
    "По графику видно, что дорогих заказов очень мало. По графику можно выбрать границу аномальных заказов между 20 000 и 40 000 рублей. Однако принято отсеивать от 1% до 5% наблюдений с крайними значениями. Один заказ, более 1.2 млн, полностью оторван от остальных, и еще один около 200 тысяч, остальные же меньше 100 тысяч у.е."
   ]
  },
  {
   "cell_type": "markdown",
   "metadata": {},
   "source": [
    "####  Посчитайте 95-й и 99-й перцентили стоимости заказов. Выберите границу для определения аномальных заказов."
   ]
  },
  {
   "cell_type": "code",
   "execution_count": 40,
   "metadata": {},
   "outputs": [
    {
     "name": "stdout",
     "output_type": "stream",
     "text": [
      "[26785. 53904.]\n"
     ]
    }
   ],
   "source": [
    "print(np.percentile(orders_clean['revenue'], [95, 99]))"
   ]
  },
  {
   "cell_type": "markdown",
   "metadata": {},
   "source": [
    "95% заказов имеют стоимость не дороже 26785, а 99% стоили не дороже 53904. Будем считать аномальной стоимость более 53904."
   ]
  },
  {
   "cell_type": "markdown",
   "metadata": {},
   "source": [
    "####  Посчитайте статистическую значимость различий в конверсии между группами по «сырым» данным. Сделайте выводы и предположения."
   ]
  },
  {
   "cell_type": "markdown",
   "metadata": {},
   "source": [
    "Здесь мы проверим, есть ли разница между конверсиями групп А и В, и имеет ли эта разница статистическую значимость. \n",
    "\n",
    "Нулевая гипотеза, которую мы будем проверять: по \"сырым\" данным нет статистически значимого различия между конверсиями групп А и В."
   ]
  },
  {
   "cell_type": "code",
   "execution_count": 41,
   "metadata": {},
   "outputs": [
    {
     "data": {
      "text/html": [
       "<div>\n",
       "<style scoped>\n",
       "    .dataframe tbody tr th:only-of-type {\n",
       "        vertical-align: middle;\n",
       "    }\n",
       "\n",
       "    .dataframe tbody tr th {\n",
       "        vertical-align: top;\n",
       "    }\n",
       "\n",
       "    .dataframe thead th {\n",
       "        text-align: right;\n",
       "    }\n",
       "</style>\n",
       "<table border=\"1\" class=\"dataframe\">\n",
       "  <thead>\n",
       "    <tr style=\"text-align: right;\">\n",
       "      <th></th>\n",
       "      <th>date</th>\n",
       "      <th>ordersPerDateA</th>\n",
       "      <th>revenuePerDateA</th>\n",
       "      <th>ordersPerDateB</th>\n",
       "      <th>revenuePerDateB</th>\n",
       "      <th>ordersCummulativeA</th>\n",
       "      <th>revenueCummulativeA</th>\n",
       "      <th>ordersCummulativeB</th>\n",
       "      <th>revenueCummulativeB</th>\n",
       "      <th>visitorsPerDateA</th>\n",
       "      <th>visitorsPerDateB</th>\n",
       "      <th>visitorsCummulativeA</th>\n",
       "      <th>visitorsCummulativeB</th>\n",
       "    </tr>\n",
       "  </thead>\n",
       "  <tbody>\n",
       "    <tr>\n",
       "      <td>0</td>\n",
       "      <td>2019-08-01</td>\n",
       "      <td>23</td>\n",
       "      <td>142779</td>\n",
       "      <td>17</td>\n",
       "      <td>59758</td>\n",
       "      <td>23</td>\n",
       "      <td>142779</td>\n",
       "      <td>17</td>\n",
       "      <td>59758</td>\n",
       "      <td>712</td>\n",
       "      <td>707</td>\n",
       "      <td>712</td>\n",
       "      <td>707</td>\n",
       "    </tr>\n",
       "    <tr>\n",
       "      <td>1</td>\n",
       "      <td>2019-08-02</td>\n",
       "      <td>19</td>\n",
       "      <td>91602</td>\n",
       "      <td>23</td>\n",
       "      <td>162043</td>\n",
       "      <td>42</td>\n",
       "      <td>234381</td>\n",
       "      <td>40</td>\n",
       "      <td>221801</td>\n",
       "      <td>618</td>\n",
       "      <td>580</td>\n",
       "      <td>1330</td>\n",
       "      <td>1287</td>\n",
       "    </tr>\n",
       "    <tr>\n",
       "      <td>2</td>\n",
       "      <td>2019-08-03</td>\n",
       "      <td>24</td>\n",
       "      <td>112473</td>\n",
       "      <td>14</td>\n",
       "      <td>67049</td>\n",
       "      <td>66</td>\n",
       "      <td>346854</td>\n",
       "      <td>54</td>\n",
       "      <td>288850</td>\n",
       "      <td>507</td>\n",
       "      <td>506</td>\n",
       "      <td>1837</td>\n",
       "      <td>1793</td>\n",
       "    </tr>\n",
       "    <tr>\n",
       "      <td>3</td>\n",
       "      <td>2019-08-04</td>\n",
       "      <td>11</td>\n",
       "      <td>41176</td>\n",
       "      <td>14</td>\n",
       "      <td>96890</td>\n",
       "      <td>77</td>\n",
       "      <td>388030</td>\n",
       "      <td>68</td>\n",
       "      <td>385740</td>\n",
       "      <td>715</td>\n",
       "      <td>768</td>\n",
       "      <td>2552</td>\n",
       "      <td>2561</td>\n",
       "    </tr>\n",
       "    <tr>\n",
       "      <td>4</td>\n",
       "      <td>2019-08-05</td>\n",
       "      <td>22</td>\n",
       "      <td>86383</td>\n",
       "      <td>21</td>\n",
       "      <td>89908</td>\n",
       "      <td>99</td>\n",
       "      <td>474413</td>\n",
       "      <td>89</td>\n",
       "      <td>475648</td>\n",
       "      <td>754</td>\n",
       "      <td>706</td>\n",
       "      <td>3306</td>\n",
       "      <td>3267</td>\n",
       "    </tr>\n",
       "  </tbody>\n",
       "</table>\n",
       "</div>"
      ],
      "text/plain": [
       "        date  ordersPerDateA  revenuePerDateA  ordersPerDateB  \\\n",
       "0 2019-08-01              23           142779              17   \n",
       "1 2019-08-02              19            91602              23   \n",
       "2 2019-08-03              24           112473              14   \n",
       "3 2019-08-04              11            41176              14   \n",
       "4 2019-08-05              22            86383              21   \n",
       "\n",
       "   revenuePerDateB  ordersCummulativeA  revenueCummulativeA  \\\n",
       "0            59758                  23               142779   \n",
       "1           162043                  42               234381   \n",
       "2            67049                  66               346854   \n",
       "3            96890                  77               388030   \n",
       "4            89908                  99               474413   \n",
       "\n",
       "   ordersCummulativeB  revenueCummulativeB  visitorsPerDateA  \\\n",
       "0                  17                59758               712   \n",
       "1                  40               221801               618   \n",
       "2                  54               288850               507   \n",
       "3                  68               385740               715   \n",
       "4                  89               475648               754   \n",
       "\n",
       "   visitorsPerDateB  visitorsCummulativeA  visitorsCummulativeB  \n",
       "0               707                   712                   707  \n",
       "1               580                  1330                  1287  \n",
       "2               506                  1837                  1793  \n",
       "3               768                  2552                  2561  \n",
       "4               706                  3306                  3267  "
      ]
     },
     "execution_count": 41,
     "metadata": {},
     "output_type": "execute_result"
    }
   ],
   "source": [
    "# подготовим данные\n",
    "visitorsADaily = visitors_clean[visitors_clean['group'] == 'A'][['date', 'visitors']]\n",
    "visitorsADaily.columns = ['date', 'visitorsPerDateA']\n",
    "\n",
    "visitorsACummulative = visitorsADaily.apply(\n",
    "    lambda x: visitorsADaily[visitorsADaily['date'] <= x['date']].agg(\n",
    "        {'date': 'max', 'visitorsPerDateA': 'sum'}\n",
    "    ),\n",
    "    axis=1,\n",
    ")\n",
    "visitorsACummulative.columns = ['date', 'visitorsCummulativeA']\n",
    "\n",
    "visitorsBDaily = visitors_clean[visitors_clean['group'] == 'B'][['date', 'visitors']]\n",
    "visitorsBDaily.columns = ['date', 'visitorsPerDateB']\n",
    "\n",
    "visitorsBCummulative = visitorsBDaily.apply(\n",
    "    lambda x: visitorsBDaily[visitorsBDaily['date'] <= x['date']].agg(\n",
    "        {'date': 'max', 'visitorsPerDateB': 'sum'}\n",
    "    ),\n",
    "    axis=1,\n",
    ")\n",
    "visitorsBCummulative.columns = ['date', 'visitorsCummulativeB']\n",
    "\n",
    "ordersADaily = (\n",
    "    orders_clean[orders_clean['group'] == 'A'][['date', 'transactionId', 'visitorId', 'revenue']]\n",
    "    .groupby('date', as_index=False)\n",
    "    .agg({'transactionId': pd.Series.nunique, 'revenue': 'sum'})\n",
    ")\n",
    "ordersADaily.columns = ['date', 'ordersPerDateA', 'revenuePerDateA']\n",
    "\n",
    "ordersACummulative = ordersADaily.apply(\n",
    "    lambda x: ordersADaily[ordersADaily['date'] <= x['date']].agg(\n",
    "        {'date': 'max', 'ordersPerDateA': 'sum', 'revenuePerDateA': 'sum'}\n",
    "    ),\n",
    "    axis=1,\n",
    ").sort_values(by=['date'])\n",
    "ordersACummulative.columns = [\n",
    "    'date',\n",
    "    'ordersCummulativeA',\n",
    "    'revenueCummulativeA',\n",
    "]\n",
    "\n",
    "ordersBDaily = (\n",
    "    orders_clean[orders_clean['group'] == 'B'][['date', 'transactionId', 'visitorId', 'revenue']]\n",
    "    .groupby('date', as_index=False)\n",
    "    .agg({'transactionId': pd.Series.nunique, 'revenue': 'sum'})\n",
    ")\n",
    "ordersBDaily.columns = ['date', 'ordersPerDateB', 'revenuePerDateB']\n",
    "\n",
    "ordersBCummulative = ordersBDaily.apply(\n",
    "    lambda x: ordersBDaily[ordersBDaily['date'] <= x['date']].agg(\n",
    "        {'date': 'max', 'ordersPerDateB': 'sum', 'revenuePerDateB': 'sum'}\n",
    "    ),\n",
    "    axis=1,\n",
    ").sort_values(by=['date'])\n",
    "ordersBCummulative.columns = [\n",
    "    'date',\n",
    "    'ordersCummulativeB',\n",
    "    'revenueCummulativeB',\n",
    "]\n",
    "\n",
    "data = (\n",
    "    ordersADaily.merge(\n",
    "        ordersBDaily, left_on='date', right_on='date', how='left'\n",
    "    )\n",
    "    .merge(ordersACummulative, left_on='date', right_on='date', how='left')\n",
    "    .merge(ordersBCummulative, left_on='date', right_on='date', how='left')\n",
    "    .merge(visitorsADaily, left_on='date', right_on='date', how='left')\n",
    "    .merge(visitorsBDaily, left_on='date', right_on='date', how='left')\n",
    "    .merge(visitorsACummulative, left_on='date', right_on='date', how='left')\n",
    "    .merge(visitorsBCummulative, left_on='date', right_on='date', how='left')\n",
    ")\n",
    "\n",
    "data.head(5)"
   ]
  },
  {
   "cell_type": "code",
   "execution_count": 42,
   "metadata": {},
   "outputs": [],
   "source": [
    "# Создадим переменные ordersByUsersA и ordersByUsersB. \n",
    "# В них для пользователей, которые заказывали хотя бы 1 раз, укажем число совершённых заказов.\n",
    "ordersByUsersA = (\n",
    "    orders_clean[orders_clean['group'] == 'A']\n",
    "    .groupby('visitorId', as_index=False)\n",
    "    .agg({'transactionId': pd.Series.nunique})\n",
    ")\n",
    "ordersByUsersA.columns = ['visitorId', 'orders']\n",
    "\n",
    "ordersByUsersB = (\n",
    "    orders_clean[orders_clean['group'] == 'B']\n",
    "    .groupby('visitorId', as_index=False)\n",
    "    .agg({'transactionId': pd.Series.nunique})\n",
    ")\n",
    "ordersByUsersB.columns = ['visitorId', 'orders']"
   ]
  },
  {
   "cell_type": "code",
   "execution_count": 43,
   "metadata": {},
   "outputs": [],
   "source": [
    "# Объявим переменные sampleA и sampleB, в которых пользователям из разных групп будет соответствовать количество заказов\n",
    "pd.Series(0, index=np.arange(data['visitorsPerDateA'].sum() - len(ordersByUsersA['orders'])), name='orders')\n",
    "[ordersByUsersA['orders'],pd.Series(0, index=np.arange(data['visitorsPerDateA'].sum() - len(ordersByUsersA['orders'])), name='orders')]\n",
    "\n",
    "sampleA = pd.concat([ordersByUsersA['orders'],pd.Series(0, index=np.arange(data['visitorsPerDateA'].sum() - len(ordersByUsersA['orders'])), name='orders')],axis=0)\n",
    "\n",
    "sampleB = pd.concat([ordersByUsersB['orders'],pd.Series(0, index=np.arange(data['visitorsPerDateB'].sum() - len(ordersByUsersB['orders'])), name='orders')],axis=0)"
   ]
  },
  {
   "cell_type": "code",
   "execution_count": 44,
   "metadata": {},
   "outputs": [
    {
     "name": "stdout",
     "output_type": "stream",
     "text": [
      "P-value: 0.011\n",
      "Относительный прирост конверсии группы B: 0.160\n"
     ]
    }
   ],
   "source": [
    "# Применим критерий и отформатируем p-value, \n",
    "#  добавим alternative='two-sided' т.к. в зависимсти от версии scipy, default может отличаться\n",
    "print(\"P-value: {0:.3f}\".format(stats.mannwhitneyu(sampleA, sampleB, alternative='two-sided')[1]))\n",
    "\n",
    "# Выведем относительный прирост конверсии группы B:\n",
    "print(\"Относительный прирост конверсии группы B: {0:.3f}\".format(sampleB.mean() / sampleA.mean() - 1))"
   ]
  },
  {
   "cell_type": "markdown",
   "metadata": {},
   "source": [
    "Вывод: По «сырым» данным мы наблюдаем различия в конверсии групп A и B.\n",
    "\n",
    "P-value меньше 0.05.\n",
    "Значит, нулевую гипотезу о том, что статистически значимых различий в конверсии между группами нет, мы отвергаем. Т.е. статистические различия в конверсии есть. Относительный выигрыш в коверсии группы B равен 16%."
   ]
  },
  {
   "cell_type": "markdown",
   "metadata": {},
   "source": [
    "#### Посчитайте статистическую значимость различий в среднем чеке заказа между группами по «сырым» данным. Сделайте выводы и предположения."
   ]
  },
  {
   "cell_type": "markdown",
   "metadata": {},
   "source": [
    "Здесь мы проверим, есть ли разница между средними чеками групп А и В, и имеет ли эта разница статистическую значимость. \n",
    "\n",
    "Нулевая гипотеза, которую мы будем проверять: по \"сырым\" данным нет статистически значимого различия между средними чеками групп А и В."
   ]
  },
  {
   "cell_type": "code",
   "execution_count": 45,
   "metadata": {},
   "outputs": [
    {
     "name": "stdout",
     "output_type": "stream",
     "text": [
      "P-value: 0.829\n",
      "Относительное различие в среднем чеке группы B от группы А: 0.287\n"
     ]
    }
   ],
   "source": [
    "print('P-value: {0:.3f}'.format(stats.mannwhitneyu(orders_clean[orders_clean['group']=='A']['revenue'], orders_clean[orders_clean['group']=='B']['revenue'],alternative='two-sided',)[1]))\n",
    "print('Относительное различие в среднем чеке группы B от группы А: {0:.3f}'.format(orders_clean[orders_clean['group']=='B']['revenue'].mean()/orders_clean[orders_clean['group']=='A']['revenue'].mean()-1))"
   ]
  },
  {
   "cell_type": "markdown",
   "metadata": {},
   "source": [
    "Вывод: По «сырым» данным мы не можем сказать, что есть различия в средних чеках группы A и B.\n",
    "P-value значительно больше 0.05. Значит, причин отвергать нулевую гипотезу и считать, что в среднем чеке есть различия, нет. Заметим, что средний чек группы B значительно выше среднего чека группы A, на это скорее всего повлияли выбросы. "
   ]
  },
  {
   "cell_type": "markdown",
   "metadata": {},
   "source": [
    "#### Посчитайте статистическую значимость различий в конверсии между группами по «очищенным» данным. Сделайте выводы и предположения."
   ]
  },
  {
   "cell_type": "markdown",
   "metadata": {},
   "source": [
    "Нулевая гипотеза, которую мы будем проверять: по «очищенным» данным нет статистически значимого различия между конверсиями групп А и В."
   ]
  },
  {
   "cell_type": "code",
   "execution_count": 46,
   "metadata": {},
   "outputs": [
    {
     "name": "stdout",
     "output_type": "stream",
     "text": [
      "1099    148427295\n",
      "33      249864742\n",
      "58      611059232\n",
      "949     887908475\n",
      "744     888512513\n",
      "Name: visitorId, dtype: int64\n",
      "(20,)\n"
     ]
    }
   ],
   "source": [
    "# Узнаем, сколько всего аномальных пользователей\n",
    "usersWithManyOrders = pd.concat(\n",
    "    [\n",
    "        ordersByUsersA[ordersByUsersA['orders'] > 2]['visitorId'],\n",
    "        ordersByUsersB[ordersByUsersB['orders'] > 2]['visitorId'],\n",
    "    ],\n",
    "    axis=0,\n",
    ")\n",
    "usersWithExpensiveOrders = orders[orders['revenue'] > 53904]['visitorId']\n",
    "abnormalUsers = (\n",
    "    pd.concat([usersWithManyOrders, usersWithExpensiveOrders], axis=0)\n",
    "    .drop_duplicates()\n",
    "    .sort_values()\n",
    ")\n",
    "print(abnormalUsers.head(5))\n",
    "print(abnormalUsers.shape)"
   ]
  },
  {
   "cell_type": "markdown",
   "metadata": {},
   "source": [
    "Отфильтруем аномально большие заказы и аномальное количество заказов, согласно предыдущим подсчетам по процентилям, в обоих случаях оставив до 99 процентиля. Тогда аномальных пользователей получается 23, это те, кто сделал более 2-х зкаказов и те, чья стоимость заказа была 53904 или больше."
   ]
  },
  {
   "cell_type": "code",
   "execution_count": 47,
   "metadata": {},
   "outputs": [],
   "source": [
    "# подготовим выборки количества заказов по пользователям по группам теста:\n",
    "sampleAFiltered = pd.concat(\n",
    "    [\n",
    "        ordersByUsersA[\n",
    "            np.logical_not(ordersByUsersA['visitorId'].isin(abnormalUsers))\n",
    "        ]['orders'],\n",
    "        pd.Series(\n",
    "            0,\n",
    "            index=np.arange(\n",
    "                data['visitorsPerDateA'].sum() - len(ordersByUsersA['orders'])\n",
    "            ),\n",
    "            name='orders',\n",
    "        ),\n",
    "    ],\n",
    "    axis=0,\n",
    ")\n",
    "\n",
    "sampleBFiltered = pd.concat(\n",
    "    [\n",
    "        ordersByUsersB[\n",
    "            np.logical_not(ordersByUsersB['visitorId'].isin(abnormalUsers))\n",
    "        ]['orders'],\n",
    "        pd.Series(\n",
    "            0,\n",
    "            index=np.arange(\n",
    "                data['visitorsPerDateB'].sum() - len(ordersByUsersB['orders'])\n",
    "            ),\n",
    "            name='orders',\n",
    "        ),\n",
    "    ],\n",
    "    axis=0,\n",
    ")"
   ]
  },
  {
   "cell_type": "code",
   "execution_count": 48,
   "metadata": {},
   "outputs": [
    {
     "name": "stdout",
     "output_type": "stream",
     "text": [
      "P-value: 0.007\n",
      "Относительный прирост конверсии группы B: 0.189\n"
     ]
    }
   ],
   "source": [
    "# Применим статистический критерий Манна-Уитни к полученным выборкам:\n",
    "print('P-value: {0:.3f}'.format(stats.mannwhitneyu(sampleAFiltered, sampleBFiltered, alternative='two-sided')[1]))\n",
    "print('Относительный прирост конверсии группы B: {0:.3f}'.format(sampleBFiltered.mean()/sampleAFiltered.mean()-1))"
   ]
  },
  {
   "cell_type": "markdown",
   "metadata": {},
   "source": [
    "Вывод: По «очищенным» данным данным мы также наблюдаем различия в конверсии групп A и B.\n",
    "\n",
    "P-value снова меньше 0.05 (оно стало еще меньше, чем было). Снова отвергаем нулевую гипотезу, о том, что статистически значимых различий в конверсии между группами нет. Статистические различия в конверсии есть. После того, как мы избавились от аномалий, относительный выигрыш в коверсии группы B немного вырос, - с 16 до 19%."
   ]
  },
  {
   "cell_type": "markdown",
   "metadata": {},
   "source": [
    "#### Посчитайте статистическую значимость различий в среднем чеке заказа между группами по «очищенным» данным. Сделайте выводы и предположения."
   ]
  },
  {
   "cell_type": "markdown",
   "metadata": {},
   "source": [
    "Нулевая гипотеза, которую мы будем проверять: по \"очищенным\" данным нет статистически значимого различия между средними чеками групп А и В."
   ]
  },
  {
   "cell_type": "code",
   "execution_count": 49,
   "metadata": {},
   "outputs": [
    {
     "name": "stdout",
     "output_type": "stream",
     "text": [
      "P-value: 0.788\n",
      "Относительное различие в среднем чеке группы B от группы А:-0.032\n"
     ]
    }
   ],
   "source": [
    "print(\"P-value:\",\n",
    "    '{0:.3f}'.format(\n",
    "        stats.mannwhitneyu(\n",
    "            orders_clean[\n",
    "                np.logical_and(\n",
    "                    orders_clean['group'] == 'A',\n",
    "                    np.logical_not(orders_clean['visitorId'].isin(abnormalUsers)),\n",
    "                )\n",
    "            ]['revenue'],\n",
    "            orders_clean[\n",
    "                np.logical_and(\n",
    "                    orders_clean['group'] == 'B',\n",
    "                    np.logical_not(orders_clean['visitorId'].isin(abnormalUsers)),\n",
    "                )\n",
    "            ]['revenue'], alternative='two-sided'\n",
    "        )[1]\n",
    "    )\n",
    ")\n",
    "\n",
    "print('Относительное различие в среднем чеке группы B от группы А:'\n",
    "    \"{0:.3f}\".format(\n",
    "        orders_clean[\n",
    "            np.logical_and(\n",
    "                orders_clean['group'] == 'B',\n",
    "                np.logical_not(orders_clean['visitorId'].isin(abnormalUsers)),\n",
    "            )\n",
    "        ]['revenue'].mean()\n",
    "        / orders_clean[\n",
    "            np.logical_and(\n",
    "                orders_clean['group'] == 'A',\n",
    "                np.logical_not(orders_clean['visitorId'].isin(abnormalUsers)),\n",
    "            )\n",
    "        ]['revenue'].mean()\n",
    "        - 1\n",
    "    )\n",
    ")"
   ]
  },
  {
   "cell_type": "markdown",
   "metadata": {},
   "source": [
    "Вывод: По очищенным данным, так же как и по «сырым» мы не можем утверждать, что есть различия в средних чеках группы A и B. \n",
    "P-value снова значительно больше 0.05. Значит, у нас нет причин отвергать нулевую гипотезу и считать, что в среднем чеке есть различия. Интересно, что после \"очистки\" средний чек группы B стал даже немного ниже среднего чека группы A. Видимо, на группу В пришлось больше аномальных пользователей, из-за которы чек по В казался выше."
   ]
  },
  {
   "cell_type": "markdown",
   "metadata": {},
   "source": [
    "Посмотрим, что будет, если мы \"очистим\" данные до 95 процентиля от аномальных покупателей и покупок (т.е. больше 2 покупок и стоимостью 26785 и более)."
   ]
  },
  {
   "cell_type": "markdown",
   "metadata": {},
   "source": [
    "#### Примите решение по результатам теста и объясните его. Варианты решений: 1. Остановить тест, зафиксировать победу одной из групп. 2. Остановить тест, зафиксировать отсутствие различий между группами. 3. Продолжить тест."
   ]
  },
  {
   "cell_type": "markdown",
   "metadata": {},
   "source": [
    "Основываясь на предыдущем анализе, мы можем принять решение об остановке теста, зафиксировав победу группы В в конверсии и отсутствие различий между группами по среднему чеку.\n",
    "- На графике кумулятивной коверсии и относительных различий кумулятивной конверсии мы видим, что конверсии обеих групп зафиксировалась начиная с середины месяца, и с того же момента замента постоянная разница между группами. Результаты конверсий стабильны, и после применения критерия Манна-Уитни мы можем утверждать о статистической значимости различий в конверсии: конверсия группы В выше конверсии группы А.\n",
    "- Что касается среднего чека, на графиках по кумулятивных средним чекам мы наблюдали скачки, вызванные аномалиями, и отсутсвие ярковыраженной и стабильной разницы. Даже отбросив аномалии, после применения критерия Манна-Уитни для оценки различий,  мы не смогли отвергнуть гипотезу о равенстве средних чеков, т.е. мы не можем говорить о победе одной из групп. Таким образом, остается зафиксировать отсутствие различий между группами по среднему чеку. Продолжение теста в данном случае не предстваляется перспективным.\n",
    "\n",
    "Итак мы можем утверждать, что тест стоит оставновить. По его результатам группа В конврертируется лучше группы А, при этом нет разницы в средних чеках. В любом случае это хороший результат, так как он означает, что мы нашли хороший способ превращения просто посетителей в покупателей. То, что при этом не меняется средний чек может быть непосредственно связано со спецификой продукта."
   ]
  }
 ],
 "metadata": {
  "ExecuteTimeLog": [
   {
    "duration": 130,
    "start_time": "2021-07-12T19:09:55.624Z"
   },
   {
    "duration": 107,
    "start_time": "2021-07-13T09:59:36.688Z"
   },
   {
    "duration": 102,
    "start_time": "2021-07-13T09:59:47.758Z"
   },
   {
    "duration": 103,
    "start_time": "2021-07-13T10:03:17.978Z"
   },
   {
    "duration": 1467,
    "start_time": "2021-07-13T10:07:44.837Z"
   },
   {
    "duration": 360,
    "start_time": "2021-07-13T10:07:46.310Z"
   },
   {
    "duration": 16,
    "start_time": "2021-07-13T10:07:49.118Z"
   },
   {
    "duration": 4,
    "start_time": "2021-07-13T10:07:50.549Z"
   },
   {
    "duration": 22,
    "start_time": "2021-07-13T10:07:52.575Z"
   },
   {
    "duration": 8,
    "start_time": "2021-07-13T10:08:20.534Z"
   },
   {
    "duration": 670,
    "start_time": "2021-07-13T10:08:21.182Z"
   },
   {
    "duration": 11,
    "start_time": "2021-07-13T10:23:10.386Z"
   },
   {
    "duration": 10,
    "start_time": "2021-07-13T10:23:10.888Z"
   },
   {
    "duration": 8,
    "start_time": "2021-07-13T10:23:11.529Z"
   },
   {
    "duration": 25,
    "start_time": "2021-07-13T10:23:16.376Z"
   },
   {
    "duration": 27,
    "start_time": "2021-07-13T10:24:36.296Z"
   },
   {
    "duration": 6,
    "start_time": "2021-07-13T10:26:33.056Z"
   },
   {
    "duration": 7,
    "start_time": "2021-07-13T10:27:40.066Z"
   },
   {
    "duration": 7,
    "start_time": "2021-07-13T10:28:11.885Z"
   },
   {
    "duration": 8,
    "start_time": "2021-07-13T10:29:30.066Z"
   },
   {
    "duration": 6,
    "start_time": "2021-07-13T10:37:37.647Z"
   },
   {
    "duration": 6,
    "start_time": "2021-07-13T10:38:36.459Z"
   },
   {
    "duration": 7,
    "start_time": "2021-07-13T10:38:49.388Z"
   },
   {
    "duration": 6,
    "start_time": "2021-07-13T10:39:40.238Z"
   },
   {
    "duration": 493,
    "start_time": "2021-07-13T10:39:50.341Z"
   },
   {
    "duration": 1090,
    "start_time": "2021-07-13T10:39:59.637Z"
   },
   {
    "duration": 372,
    "start_time": "2021-07-13T10:40:09.924Z"
   },
   {
    "duration": 5,
    "start_time": "2021-07-13T10:40:19.173Z"
   },
   {
    "duration": 639,
    "start_time": "2021-07-13T10:40:56.523Z"
   },
   {
    "duration": 311,
    "start_time": "2021-07-13T10:41:27.388Z"
   },
   {
    "duration": 5,
    "start_time": "2021-07-13T10:41:39.252Z"
   },
   {
    "duration": 498,
    "start_time": "2021-07-13T10:41:46.896Z"
   },
   {
    "duration": 6,
    "start_time": "2021-07-13T10:41:51.164Z"
   },
   {
    "duration": 5,
    "start_time": "2021-07-13T10:44:54.132Z"
   },
   {
    "duration": 5,
    "start_time": "2021-07-13T10:45:01.749Z"
   },
   {
    "duration": 5,
    "start_time": "2021-07-13T10:46:17.710Z"
   },
   {
    "duration": 6,
    "start_time": "2021-07-13T10:47:11.844Z"
   },
   {
    "duration": 125,
    "start_time": "2021-07-13T10:47:46.845Z"
   },
   {
    "duration": 9,
    "start_time": "2021-07-13T10:48:02.230Z"
   },
   {
    "duration": 6,
    "start_time": "2021-07-13T10:48:13.468Z"
   },
   {
    "duration": 13,
    "start_time": "2021-07-13T10:50:33.645Z"
   },
   {
    "duration": 378,
    "start_time": "2021-07-13T10:51:29.581Z"
   },
   {
    "duration": 25,
    "start_time": "2021-07-13T10:51:38.401Z"
   },
   {
    "duration": 7,
    "start_time": "2021-07-13T10:51:39.429Z"
   },
   {
    "duration": 20,
    "start_time": "2021-07-13T10:51:41.574Z"
   },
   {
    "duration": 37,
    "start_time": "2021-07-13T10:51:42.468Z"
   },
   {
    "duration": 11,
    "start_time": "2021-07-13T10:51:54.221Z"
   },
   {
    "duration": 592,
    "start_time": "2021-07-13T10:51:56.294Z"
   },
   {
    "duration": 25,
    "start_time": "2021-07-13T10:51:57.021Z"
   },
   {
    "duration": 15,
    "start_time": "2021-07-13T10:52:00.390Z"
   },
   {
    "duration": 34,
    "start_time": "2021-07-13T10:52:01.101Z"
   },
   {
    "duration": 21,
    "start_time": "2021-07-13T11:14:13.219Z"
   },
   {
    "duration": -83,
    "start_time": "2021-07-13T11:14:41.684Z"
   },
   {
    "duration": 17,
    "start_time": "2021-07-13T11:14:43.433Z"
   },
   {
    "duration": 19,
    "start_time": "2021-07-13T11:15:05.033Z"
   },
   {
    "duration": 27,
    "start_time": "2021-07-13T12:16:23.871Z"
   },
   {
    "duration": 275,
    "start_time": "2021-07-13T12:16:27.754Z"
   },
   {
    "duration": 19,
    "start_time": "2021-07-13T12:16:31.541Z"
   },
   {
    "duration": 423,
    "start_time": "2021-07-13T12:16:35.633Z"
   },
   {
    "duration": 16,
    "start_time": "2021-07-13T12:18:36.620Z"
   },
   {
    "duration": 12,
    "start_time": "2021-07-13T12:19:38.509Z"
   },
   {
    "duration": 14,
    "start_time": "2021-07-13T12:20:11.270Z"
   },
   {
    "duration": 18,
    "start_time": "2021-07-13T12:20:55.773Z"
   },
   {
    "duration": 18,
    "start_time": "2021-07-13T12:21:29.445Z"
   },
   {
    "duration": 19,
    "start_time": "2021-07-13T12:21:48.828Z"
   },
   {
    "duration": 341,
    "start_time": "2021-07-13T12:22:13.037Z"
   },
   {
    "duration": 315,
    "start_time": "2021-07-13T12:23:11.341Z"
   },
   {
    "duration": 18,
    "start_time": "2021-07-13T12:23:24.620Z"
   },
   {
    "duration": 343,
    "start_time": "2021-07-13T12:23:40.477Z"
   },
   {
    "duration": 351,
    "start_time": "2021-07-13T12:24:02.076Z"
   },
   {
    "duration": 355,
    "start_time": "2021-07-13T12:24:36.046Z"
   },
   {
    "duration": 353,
    "start_time": "2021-07-13T12:24:47.108Z"
   },
   {
    "duration": 133,
    "start_time": "2021-07-13T12:25:00.853Z"
   },
   {
    "duration": 107,
    "start_time": "2021-07-13T12:25:17.240Z"
   },
   {
    "duration": 22,
    "start_time": "2021-07-13T12:25:33.981Z"
   },
   {
    "duration": 16,
    "start_time": "2021-07-13T12:25:55.189Z"
   },
   {
    "duration": 21,
    "start_time": "2021-07-13T12:29:42.230Z"
   },
   {
    "duration": 25,
    "start_time": "2021-07-13T12:30:28.288Z"
   },
   {
    "duration": 18,
    "start_time": "2021-07-13T12:31:03.567Z"
   },
   {
    "duration": 327,
    "start_time": "2021-07-13T12:33:11.773Z"
   },
   {
    "duration": 370,
    "start_time": "2021-07-13T12:33:17.446Z"
   },
   {
    "duration": 18,
    "start_time": "2021-07-13T12:33:22.366Z"
   },
   {
    "duration": 18,
    "start_time": "2021-07-13T12:34:09.195Z"
   },
   {
    "duration": 19,
    "start_time": "2021-07-13T12:35:02.222Z"
   },
   {
    "duration": 11,
    "start_time": "2021-07-13T12:35:10.782Z"
   },
   {
    "duration": 90,
    "start_time": "2021-07-13T12:42:41.176Z"
   },
   {
    "duration": 100,
    "start_time": "2021-07-13T12:43:02.623Z"
   },
   {
    "duration": 18,
    "start_time": "2021-07-13T12:43:13.258Z"
   },
   {
    "duration": 11,
    "start_time": "2021-07-13T12:43:15.009Z"
   },
   {
    "duration": 391,
    "start_time": "2021-07-13T12:43:16.463Z"
   },
   {
    "duration": 536,
    "start_time": "2021-07-13T12:43:21.211Z"
   },
   {
    "duration": 93,
    "start_time": "2021-07-13T12:53:29.843Z"
   },
   {
    "duration": 394,
    "start_time": "2021-07-13T12:53:39.465Z"
   },
   {
    "duration": 102,
    "start_time": "2021-07-13T12:55:23.547Z"
   },
   {
    "duration": 588,
    "start_time": "2021-07-13T12:56:16.394Z"
   },
   {
    "duration": 227,
    "start_time": "2021-07-13T12:56:38.784Z"
   },
   {
    "duration": 416,
    "start_time": "2021-07-13T12:56:40.218Z"
   },
   {
    "duration": 5,
    "start_time": "2021-07-13T12:56:49.162Z"
   },
   {
    "duration": 387,
    "start_time": "2021-07-13T12:57:03.162Z"
   },
   {
    "duration": 6,
    "start_time": "2021-07-13T12:57:09.377Z"
   },
   {
    "duration": 7,
    "start_time": "2021-07-13T13:00:17.571Z"
   },
   {
    "duration": 7,
    "start_time": "2021-07-13T13:00:24.099Z"
   },
   {
    "duration": 6,
    "start_time": "2021-07-13T13:00:39.908Z"
   },
   {
    "duration": 158,
    "start_time": "2021-07-13T13:02:45.814Z"
   },
   {
    "duration": 492,
    "start_time": "2021-07-13T13:17:46.105Z"
   },
   {
    "duration": 200,
    "start_time": "2021-07-13T13:17:48.045Z"
   },
   {
    "duration": 12,
    "start_time": "2021-07-13T13:17:50.566Z"
   },
   {
    "duration": 11,
    "start_time": "2021-07-13T13:17:51.559Z"
   },
   {
    "duration": 105,
    "start_time": "2021-07-13T13:25:09.526Z"
   },
   {
    "duration": 13,
    "start_time": "2021-07-13T13:26:54.313Z"
   },
   {
    "duration": 12,
    "start_time": "2021-07-13T13:27:10.896Z"
   },
   {
    "duration": 14,
    "start_time": "2021-07-13T13:27:20.207Z"
   },
   {
    "duration": 356,
    "start_time": "2021-07-13T13:27:53.573Z"
   },
   {
    "duration": 494,
    "start_time": "2021-07-13T13:28:11.734Z"
   },
   {
    "duration": 212,
    "start_time": "2021-07-13T13:28:13.272Z"
   },
   {
    "duration": 12,
    "start_time": "2021-07-13T13:28:14.113Z"
   },
   {
    "duration": 11,
    "start_time": "2021-07-13T13:28:14.688Z"
   },
   {
    "duration": 12,
    "start_time": "2021-07-13T13:28:38.151Z"
   },
   {
    "duration": 367,
    "start_time": "2021-07-13T13:29:04.153Z"
   },
   {
    "duration": 326,
    "start_time": "2021-07-13T13:29:15.162Z"
   },
   {
    "duration": 342,
    "start_time": "2021-07-13T13:29:23.841Z"
   },
   {
    "duration": 10,
    "start_time": "2021-07-13T13:29:29.402Z"
   },
   {
    "duration": 465,
    "start_time": "2021-07-13T13:29:56.208Z"
   },
   {
    "duration": 194,
    "start_time": "2021-07-13T13:29:56.809Z"
   },
   {
    "duration": 15,
    "start_time": "2021-07-13T13:29:57.432Z"
   },
   {
    "duration": 10,
    "start_time": "2021-07-13T13:29:58.001Z"
   },
   {
    "duration": 16,
    "start_time": "2021-07-13T13:30:51.391Z"
   },
   {
    "duration": 19,
    "start_time": "2021-07-13T13:31:01.649Z"
   },
   {
    "duration": 14,
    "start_time": "2021-07-13T13:31:06.343Z"
   },
   {
    "duration": 11,
    "start_time": "2021-07-13T13:31:07.712Z"
   },
   {
    "duration": 14,
    "start_time": "2021-07-13T13:33:01.538Z"
   },
   {
    "duration": 14,
    "start_time": "2021-07-13T13:33:03.134Z"
   },
   {
    "duration": 12,
    "start_time": "2021-07-13T13:33:04.240Z"
   },
   {
    "duration": 9,
    "start_time": "2021-07-13T13:33:04.752Z"
   },
   {
    "duration": 10,
    "start_time": "2021-07-13T13:33:18.680Z"
   },
   {
    "duration": 9,
    "start_time": "2021-07-13T13:35:50.578Z"
   },
   {
    "duration": 21,
    "start_time": "2021-07-13T13:37:23.073Z"
   },
   {
    "duration": 21,
    "start_time": "2021-07-13T13:38:29.130Z"
   },
   {
    "duration": 20,
    "start_time": "2021-07-13T13:38:36.305Z"
   },
   {
    "duration": 21,
    "start_time": "2021-07-13T13:38:41.538Z"
   },
   {
    "duration": 15,
    "start_time": "2021-07-13T13:39:15.209Z"
   },
   {
    "duration": 15,
    "start_time": "2021-07-13T13:39:21.465Z"
   },
   {
    "duration": 14,
    "start_time": "2021-07-13T13:39:26.330Z"
   },
   {
    "duration": 15,
    "start_time": "2021-07-13T13:40:03.266Z"
   },
   {
    "duration": 21,
    "start_time": "2021-07-13T13:40:47.564Z"
   },
   {
    "duration": 20,
    "start_time": "2021-07-13T13:43:05.395Z"
   },
   {
    "duration": 22,
    "start_time": "2021-07-13T13:43:17.514Z"
   },
   {
    "duration": 15,
    "start_time": "2021-07-13T13:44:43.523Z"
   },
   {
    "duration": 21,
    "start_time": "2021-07-13T13:45:08.789Z"
   },
   {
    "duration": 24,
    "start_time": "2021-07-13T13:45:20.307Z"
   },
   {
    "duration": 112,
    "start_time": "2021-07-13T13:49:49.723Z"
   },
   {
    "duration": 1583,
    "start_time": "2021-07-13T13:50:47.326Z"
   },
   {
    "duration": 584,
    "start_time": "2021-07-13T13:50:48.911Z"
   },
   {
    "duration": 17,
    "start_time": "2021-07-13T13:50:49.498Z"
   },
   {
    "duration": 15,
    "start_time": "2021-07-13T13:50:49.518Z"
   },
   {
    "duration": 30,
    "start_time": "2021-07-13T13:50:49.536Z"
   },
   {
    "duration": 9,
    "start_time": "2021-07-13T13:50:49.569Z"
   },
   {
    "duration": 755,
    "start_time": "2021-07-13T13:50:49.581Z"
   },
   {
    "duration": 70,
    "start_time": "2021-07-13T13:50:50.339Z"
   },
   {
    "duration": 15,
    "start_time": "2021-07-13T13:50:50.416Z"
   },
   {
    "duration": 37,
    "start_time": "2021-07-13T13:50:50.436Z"
   },
   {
    "duration": 36,
    "start_time": "2021-07-13T13:50:50.476Z"
   },
   {
    "duration": 35,
    "start_time": "2021-07-13T13:50:50.515Z"
   },
   {
    "duration": 10,
    "start_time": "2021-07-13T13:50:50.553Z"
   },
   {
    "duration": 57,
    "start_time": "2021-07-13T13:50:50.566Z"
   },
   {
    "duration": 6,
    "start_time": "2021-07-13T13:50:50.626Z"
   },
   {
    "duration": 26,
    "start_time": "2021-07-13T13:50:50.646Z"
   },
   {
    "duration": 17,
    "start_time": "2021-07-13T13:50:50.675Z"
   },
   {
    "duration": 39,
    "start_time": "2021-07-13T13:50:50.695Z"
   },
   {
    "duration": 25,
    "start_time": "2021-07-13T13:50:50.737Z"
   },
   {
    "duration": 33,
    "start_time": "2021-07-13T13:50:50.764Z"
   },
   {
    "duration": 43,
    "start_time": "2021-07-13T13:50:50.799Z"
   },
   {
    "duration": 10,
    "start_time": "2021-07-13T13:50:50.845Z"
   },
   {
    "duration": 382,
    "start_time": "2021-07-13T13:50:50.857Z"
   },
   {
    "duration": 19,
    "start_time": "2021-07-13T13:50:51.242Z"
   },
   {
    "duration": 32,
    "start_time": "2021-07-13T13:50:51.264Z"
   },
   {
    "duration": 42,
    "start_time": "2021-07-13T13:50:51.298Z"
   },
   {
    "duration": 309,
    "start_time": "2021-07-13T13:50:51.348Z"
   },
   {
    "duration": 46,
    "start_time": "2021-07-13T13:50:51.661Z"
   },
   {
    "duration": 465,
    "start_time": "2021-07-13T13:50:51.710Z"
   },
   {
    "duration": 19,
    "start_time": "2021-07-13T13:50:52.178Z"
   },
   {
    "duration": 32,
    "start_time": "2021-07-13T13:50:52.210Z"
   },
   {
    "duration": 406,
    "start_time": "2021-07-13T13:50:52.245Z"
   },
   {
    "duration": 556,
    "start_time": "2021-07-13T13:50:52.653Z"
   },
   {
    "duration": 428,
    "start_time": "2021-07-13T13:50:53.211Z"
   },
   {
    "duration": 593,
    "start_time": "2021-07-13T13:50:53.641Z"
   },
   {
    "duration": 215,
    "start_time": "2021-07-13T13:50:54.237Z"
   },
   {
    "duration": 416,
    "start_time": "2021-07-13T13:50:54.455Z"
   },
   {
    "duration": 6,
    "start_time": "2021-07-13T13:50:54.873Z"
   },
   {
    "duration": 444,
    "start_time": "2021-07-13T13:50:54.881Z"
   },
   {
    "duration": 6,
    "start_time": "2021-07-13T13:50:55.327Z"
   },
   {
    "duration": 508,
    "start_time": "2021-07-13T13:50:55.335Z"
   },
   {
    "duration": 235,
    "start_time": "2021-07-13T13:50:55.846Z"
   },
   {
    "duration": 25,
    "start_time": "2021-07-13T13:50:56.084Z"
   },
   {
    "duration": 14,
    "start_time": "2021-07-13T13:50:56.111Z"
   },
   {
    "duration": 22,
    "start_time": "2021-07-13T13:50:56.128Z"
   },
   {
    "duration": 20,
    "start_time": "2021-07-13T13:50:56.153Z"
   },
   {
    "duration": 43,
    "start_time": "2021-07-13T13:50:56.176Z"
   },
   {
    "duration": 24,
    "start_time": "2021-07-13T13:50:56.222Z"
   },
   {
    "duration": 24,
    "start_time": "2021-07-13T13:50:56.250Z"
   },
   {
    "duration": 398,
    "start_time": "2021-07-13T14:14:29.903Z"
   },
   {
    "duration": 113,
    "start_time": "2021-07-13T19:17:16.409Z"
   }
  ],
  "kernelspec": {
   "display_name": "Python 3",
   "language": "python",
   "name": "python3"
  },
  "language_info": {
   "codemirror_mode": {
    "name": "ipython",
    "version": 3
   },
   "file_extension": ".py",
   "mimetype": "text/x-python",
   "name": "python",
   "nbconvert_exporter": "python",
   "pygments_lexer": "ipython3",
   "version": "3.8.8"
  },
  "toc": {
   "base_numbering": 1,
   "nav_menu": {},
   "number_sections": true,
   "sideBar": true,
   "skip_h1_title": true,
   "title_cell": "Table of Contents",
   "title_sidebar": "Contents",
   "toc_cell": false,
   "toc_position": {},
   "toc_section_display": true,
   "toc_window_display": false
  }
 },
 "nbformat": 4,
 "nbformat_minor": 2
}
