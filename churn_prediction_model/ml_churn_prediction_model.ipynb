{
 "cells": [
  {
   "cell_type": "markdown",
   "metadata": {},
   "source": [
    "## Описание проекта"
   ]
  },
  {
   "cell_type": "markdown",
   "metadata": {},
   "source": [
    "Задача — провести анализ и подготовить план действий по удержанию клиентов на основе клиентских данных сети фитнес-центров."
   ]
  },
  {
   "cell_type": "markdown",
   "metadata": {},
   "source": [
    "## Шаг 1. Загрузите данные"
   ]
  },
  {
   "cell_type": "markdown",
   "metadata": {},
   "source": [
    "Данные содержат информацию на месяц до оттока и факт оттока на определённый месяц. \n",
    "Набор данных включает следующие поля:\n",
    "- 'Churn' — факт оттока в текущем месяце;\n",
    "\n",
    "Текущие поля в датасете:\n",
    "Данные клиента за предыдущий до проверки факта оттока месяц:\n",
    "- 'gender' — пол;\n",
    "- 'Near_Location' — проживание или работа в районе, где находится фитнес-центр;\n",
    "- 'Partner' — сотрудник компании-партнёра клуба (сотрудничество с компаниями, чьи сотрудники могут получать скидки на абонемент — в таком случае фитнес-центр хранит информацию о работодателе клиента);\n",
    "- Promo_friends — факт первоначальной записи в рамках акции «приведи друга» (использовал промо-код от знакомого при оплате первого абонемента);\n",
    "- 'Phone' — наличие контактного телефона;\n",
    "- 'Age' — возраст;\n",
    "- 'Lifetime' — время с момента первого обращения в фитнес-центр (в месяцах).\n",
    "\n",
    "Информация на основе журнала посещений, покупок и информация о текущем статусе абонемента клиента:\n",
    "- 'Contract_period' — длительность текущего действующего абонемента (месяц, 3 месяца, 6 месяцев, год);\n",
    "- 'Month_to_end_contract' — срок до окончания текущего действующего абонемента (в месяцах);\n",
    "- 'Group_visits' — факт посещения групповых занятий;\n",
    "- 'Avg_class_frequency_total' — средняя частота посещений в неделю за все время с начала действия абонемента;\n",
    "- 'Avg_class_frequency_current_month' — средняя частота посещений в неделю за предыдущий месяц;\n",
    "- 'Avg_additional_charges_total' — суммарная выручка от других услуг фитнес-центра: кафе, спорт-товары, косметический и массажный салон."
   ]
  },
  {
   "cell_type": "markdown",
   "metadata": {},
   "source": [
    "«Культурист-датасаентист» предоставил сведения в csv-файлах. Заказчик подготовил данные, которые содержат данные на месяц до оттока и факт оттока на определённый месяц. "
   ]
  },
  {
   "cell_type": "code",
   "execution_count": 1,
   "metadata": {},
   "outputs": [],
   "source": [
    "import pandas as pd\n",
    "import numpy as np\n",
    "import seaborn as sns\n",
    "import matplotlib.pyplot as plt\n",
    "from sklearn.preprocessing import StandardScaler\n",
    "from sklearn.model_selection import train_test_split\n",
    "from sklearn.linear_model import LogisticRegression\n",
    "from sklearn.ensemble import RandomForestClassifier\n",
    "from sklearn.cluster import KMeans\n",
    "from scipy.cluster.hierarchy import dendrogram, linkage\n",
    "from sklearn.metrics import accuracy_score, precision_score, recall_score, f1_score, roc_auc_score, silhouette_score"
   ]
  },
  {
   "cell_type": "code",
   "execution_count": 2,
   "metadata": {},
   "outputs": [
    {
     "name": "stdout",
     "output_type": "stream",
     "text": [
      "Defaulting to user installation because normal site-packages is not writeable\n",
      "Collecting seaborn\n",
      "  Downloading seaborn-0.11.2-py3-none-any.whl (292 kB)\n",
      "\u001b[K     |████████████████████████████████| 292 kB 2.4 MB/s eta 0:00:01\n",
      "\u001b[?25hRequirement already satisfied, skipping upgrade: scipy>=1.0 in /opt/conda/lib/python3.7/site-packages (from seaborn) (1.4.1)\n",
      "Requirement already satisfied, skipping upgrade: matplotlib>=2.2 in /opt/conda/lib/python3.7/site-packages (from seaborn) (3.1.0)\n",
      "Requirement already satisfied, skipping upgrade: numpy>=1.15 in /opt/conda/lib/python3.7/site-packages (from seaborn) (1.19.5)\n",
      "Requirement already satisfied, skipping upgrade: pandas>=0.23 in /opt/conda/lib/python3.7/site-packages (from seaborn) (0.25.1)\n",
      "Requirement already satisfied, skipping upgrade: cycler>=0.10 in /opt/conda/lib/python3.7/site-packages (from matplotlib>=2.2->seaborn) (0.10.0)\n",
      "Requirement already satisfied, skipping upgrade: kiwisolver>=1.0.1 in /opt/conda/lib/python3.7/site-packages (from matplotlib>=2.2->seaborn) (1.3.1)\n",
      "Requirement already satisfied, skipping upgrade: python-dateutil>=2.1 in /opt/conda/lib/python3.7/site-packages (from matplotlib>=2.2->seaborn) (2.8.1)\n",
      "Requirement already satisfied, skipping upgrade: pyparsing!=2.0.4,!=2.1.2,!=2.1.6,>=2.0.1 in /opt/conda/lib/python3.7/site-packages (from matplotlib>=2.2->seaborn) (2.4.7)\n",
      "Requirement already satisfied, skipping upgrade: pytz>=2017.2 in /opt/conda/lib/python3.7/site-packages (from pandas>=0.23->seaborn) (2021.1)\n",
      "Requirement already satisfied, skipping upgrade: six in /opt/conda/lib/python3.7/site-packages (from cycler>=0.10->matplotlib>=2.2->seaborn) (1.15.0)\n",
      "Installing collected packages: seaborn\n",
      "Successfully installed seaborn-0.11.2\n",
      "Note: you may need to restart the kernel to use updated packages.\n"
     ]
    }
   ],
   "source": [
    "pip install -U seaborn"
   ]
  },
  {
   "cell_type": "code",
   "execution_count": 2,
   "metadata": {},
   "outputs": [],
   "source": [
    "pd.options.display.float_format = '{:.2f}'.format"
   ]
  },
  {
   "cell_type": "code",
   "execution_count": 3,
   "metadata": {},
   "outputs": [],
   "source": [
    "try: \n",
    "    df = pd.read_csv('gym_churn.csv') \n",
    "except FileNotFoundError:\n",
    "    df = pd.read_csv('/datasets/gym_churn.csv') # яндексовский путь"
   ]
  },
  {
   "cell_type": "code",
   "execution_count": 4,
   "metadata": {},
   "outputs": [
    {
     "name": "stdout",
     "output_type": "stream",
     "text": [
      "<class 'pandas.core.frame.DataFrame'>\n",
      "RangeIndex: 4000 entries, 0 to 3999\n",
      "Data columns (total 14 columns):\n",
      "gender                               4000 non-null int64\n",
      "Near_Location                        4000 non-null int64\n",
      "Partner                              4000 non-null int64\n",
      "Promo_friends                        4000 non-null int64\n",
      "Phone                                4000 non-null int64\n",
      "Contract_period                      4000 non-null int64\n",
      "Group_visits                         4000 non-null int64\n",
      "Age                                  4000 non-null int64\n",
      "Avg_additional_charges_total         4000 non-null float64\n",
      "Month_to_end_contract                4000 non-null float64\n",
      "Lifetime                             4000 non-null int64\n",
      "Avg_class_frequency_total            4000 non-null float64\n",
      "Avg_class_frequency_current_month    4000 non-null float64\n",
      "Churn                                4000 non-null int64\n",
      "dtypes: float64(4), int64(10)\n",
      "memory usage: 437.6 KB\n"
     ]
    },
    {
     "data": {
      "text/html": [
       "<div>\n",
       "<style scoped>\n",
       "    .dataframe tbody tr th:only-of-type {\n",
       "        vertical-align: middle;\n",
       "    }\n",
       "\n",
       "    .dataframe tbody tr th {\n",
       "        vertical-align: top;\n",
       "    }\n",
       "\n",
       "    .dataframe thead th {\n",
       "        text-align: right;\n",
       "    }\n",
       "</style>\n",
       "<table border=\"1\" class=\"dataframe\">\n",
       "  <thead>\n",
       "    <tr style=\"text-align: right;\">\n",
       "      <th></th>\n",
       "      <th>gender</th>\n",
       "      <th>Near_Location</th>\n",
       "      <th>Partner</th>\n",
       "      <th>Promo_friends</th>\n",
       "      <th>Phone</th>\n",
       "      <th>Contract_period</th>\n",
       "      <th>Group_visits</th>\n",
       "      <th>Age</th>\n",
       "      <th>Avg_additional_charges_total</th>\n",
       "      <th>Month_to_end_contract</th>\n",
       "      <th>Lifetime</th>\n",
       "      <th>Avg_class_frequency_total</th>\n",
       "      <th>Avg_class_frequency_current_month</th>\n",
       "      <th>Churn</th>\n",
       "    </tr>\n",
       "  </thead>\n",
       "  <tbody>\n",
       "    <tr>\n",
       "      <td>200</td>\n",
       "      <td>0</td>\n",
       "      <td>1</td>\n",
       "      <td>1</td>\n",
       "      <td>0</td>\n",
       "      <td>1</td>\n",
       "      <td>1</td>\n",
       "      <td>0</td>\n",
       "      <td>34</td>\n",
       "      <td>46.49</td>\n",
       "      <td>1.00</td>\n",
       "      <td>0</td>\n",
       "      <td>1.01</td>\n",
       "      <td>0.00</td>\n",
       "      <td>1</td>\n",
       "    </tr>\n",
       "    <tr>\n",
       "      <td>1078</td>\n",
       "      <td>1</td>\n",
       "      <td>1</td>\n",
       "      <td>0</td>\n",
       "      <td>0</td>\n",
       "      <td>1</td>\n",
       "      <td>1</td>\n",
       "      <td>0</td>\n",
       "      <td>27</td>\n",
       "      <td>24.55</td>\n",
       "      <td>1.00</td>\n",
       "      <td>4</td>\n",
       "      <td>1.39</td>\n",
       "      <td>0.98</td>\n",
       "      <td>1</td>\n",
       "    </tr>\n",
       "    <tr>\n",
       "      <td>610</td>\n",
       "      <td>1</td>\n",
       "      <td>1</td>\n",
       "      <td>1</td>\n",
       "      <td>1</td>\n",
       "      <td>1</td>\n",
       "      <td>6</td>\n",
       "      <td>1</td>\n",
       "      <td>31</td>\n",
       "      <td>85.67</td>\n",
       "      <td>6.00</td>\n",
       "      <td>1</td>\n",
       "      <td>1.01</td>\n",
       "      <td>0.73</td>\n",
       "      <td>1</td>\n",
       "    </tr>\n",
       "    <tr>\n",
       "      <td>2159</td>\n",
       "      <td>1</td>\n",
       "      <td>0</td>\n",
       "      <td>1</td>\n",
       "      <td>0</td>\n",
       "      <td>1</td>\n",
       "      <td>1</td>\n",
       "      <td>0</td>\n",
       "      <td>26</td>\n",
       "      <td>75.80</td>\n",
       "      <td>1.00</td>\n",
       "      <td>1</td>\n",
       "      <td>1.46</td>\n",
       "      <td>1.54</td>\n",
       "      <td>1</td>\n",
       "    </tr>\n",
       "    <tr>\n",
       "      <td>1169</td>\n",
       "      <td>0</td>\n",
       "      <td>0</td>\n",
       "      <td>0</td>\n",
       "      <td>0</td>\n",
       "      <td>1</td>\n",
       "      <td>1</td>\n",
       "      <td>0</td>\n",
       "      <td>31</td>\n",
       "      <td>410.76</td>\n",
       "      <td>1.00</td>\n",
       "      <td>3</td>\n",
       "      <td>2.40</td>\n",
       "      <td>2.47</td>\n",
       "      <td>0</td>\n",
       "    </tr>\n",
       "    <tr>\n",
       "      <td>2448</td>\n",
       "      <td>0</td>\n",
       "      <td>0</td>\n",
       "      <td>0</td>\n",
       "      <td>0</td>\n",
       "      <td>1</td>\n",
       "      <td>12</td>\n",
       "      <td>1</td>\n",
       "      <td>28</td>\n",
       "      <td>106.11</td>\n",
       "      <td>10.00</td>\n",
       "      <td>3</td>\n",
       "      <td>2.56</td>\n",
       "      <td>2.52</td>\n",
       "      <td>0</td>\n",
       "    </tr>\n",
       "    <tr>\n",
       "      <td>2938</td>\n",
       "      <td>1</td>\n",
       "      <td>1</td>\n",
       "      <td>0</td>\n",
       "      <td>0</td>\n",
       "      <td>0</td>\n",
       "      <td>1</td>\n",
       "      <td>0</td>\n",
       "      <td>23</td>\n",
       "      <td>199.16</td>\n",
       "      <td>1.00</td>\n",
       "      <td>0</td>\n",
       "      <td>2.95</td>\n",
       "      <td>2.70</td>\n",
       "      <td>1</td>\n",
       "    </tr>\n",
       "    <tr>\n",
       "      <td>813</td>\n",
       "      <td>1</td>\n",
       "      <td>1</td>\n",
       "      <td>1</td>\n",
       "      <td>1</td>\n",
       "      <td>1</td>\n",
       "      <td>6</td>\n",
       "      <td>1</td>\n",
       "      <td>34</td>\n",
       "      <td>115.87</td>\n",
       "      <td>4.00</td>\n",
       "      <td>9</td>\n",
       "      <td>0.65</td>\n",
       "      <td>0.57</td>\n",
       "      <td>0</td>\n",
       "    </tr>\n",
       "    <tr>\n",
       "      <td>1268</td>\n",
       "      <td>0</td>\n",
       "      <td>1</td>\n",
       "      <td>0</td>\n",
       "      <td>1</td>\n",
       "      <td>1</td>\n",
       "      <td>1</td>\n",
       "      <td>0</td>\n",
       "      <td>29</td>\n",
       "      <td>158.98</td>\n",
       "      <td>1.00</td>\n",
       "      <td>2</td>\n",
       "      <td>1.78</td>\n",
       "      <td>0.71</td>\n",
       "      <td>1</td>\n",
       "    </tr>\n",
       "    <tr>\n",
       "      <td>870</td>\n",
       "      <td>0</td>\n",
       "      <td>1</td>\n",
       "      <td>0</td>\n",
       "      <td>0</td>\n",
       "      <td>1</td>\n",
       "      <td>1</td>\n",
       "      <td>1</td>\n",
       "      <td>32</td>\n",
       "      <td>67.59</td>\n",
       "      <td>1.00</td>\n",
       "      <td>4</td>\n",
       "      <td>1.22</td>\n",
       "      <td>1.33</td>\n",
       "      <td>0</td>\n",
       "    </tr>\n",
       "  </tbody>\n",
       "</table>\n",
       "</div>"
      ],
      "text/plain": [
       "      gender  Near_Location  Partner  Promo_friends  Phone  Contract_period  \\\n",
       "200        0              1        1              0      1                1   \n",
       "1078       1              1        0              0      1                1   \n",
       "610        1              1        1              1      1                6   \n",
       "2159       1              0        1              0      1                1   \n",
       "1169       0              0        0              0      1                1   \n",
       "2448       0              0        0              0      1               12   \n",
       "2938       1              1        0              0      0                1   \n",
       "813        1              1        1              1      1                6   \n",
       "1268       0              1        0              1      1                1   \n",
       "870        0              1        0              0      1                1   \n",
       "\n",
       "      Group_visits  Age  Avg_additional_charges_total  Month_to_end_contract  \\\n",
       "200              0   34                         46.49                   1.00   \n",
       "1078             0   27                         24.55                   1.00   \n",
       "610              1   31                         85.67                   6.00   \n",
       "2159             0   26                         75.80                   1.00   \n",
       "1169             0   31                        410.76                   1.00   \n",
       "2448             1   28                        106.11                  10.00   \n",
       "2938             0   23                        199.16                   1.00   \n",
       "813              1   34                        115.87                   4.00   \n",
       "1268             0   29                        158.98                   1.00   \n",
       "870              1   32                         67.59                   1.00   \n",
       "\n",
       "      Lifetime  Avg_class_frequency_total  Avg_class_frequency_current_month  \\\n",
       "200          0                       1.01                               0.00   \n",
       "1078         4                       1.39                               0.98   \n",
       "610          1                       1.01                               0.73   \n",
       "2159         1                       1.46                               1.54   \n",
       "1169         3                       2.40                               2.47   \n",
       "2448         3                       2.56                               2.52   \n",
       "2938         0                       2.95                               2.70   \n",
       "813          9                       0.65                               0.57   \n",
       "1268         2                       1.78                               0.71   \n",
       "870          4                       1.22                               1.33   \n",
       "\n",
       "      Churn  \n",
       "200       1  \n",
       "1078      1  \n",
       "610       1  \n",
       "2159      1  \n",
       "1169      0  \n",
       "2448      0  \n",
       "2938      1  \n",
       "813       0  \n",
       "1268      1  \n",
       "870       0  "
      ]
     },
     "execution_count": 4,
     "metadata": {},
     "output_type": "execute_result"
    }
   ],
   "source": [
    "df.info() # вывод общей информации\n",
    "df.sample(10, random_state=1) # вывод 5 рандомных строк"
   ]
  },
  {
   "cell_type": "code",
   "execution_count": 5,
   "metadata": {},
   "outputs": [],
   "source": [
    "df.columns=df.columns.str.lower()"
   ]
  },
  {
   "cell_type": "code",
   "execution_count": 6,
   "metadata": {},
   "outputs": [
    {
     "data": {
      "text/plain": [
       "array([ 5., 12.,  1.,  6.,  3., 10., 11.,  9.,  4.,  7.,  8.,  2.])"
      ]
     },
     "execution_count": 6,
     "metadata": {},
     "output_type": "execute_result"
    }
   ],
   "source": [
    "df['month_to_end_contract'].unique()"
   ]
  },
  {
   "cell_type": "code",
   "execution_count": 7,
   "metadata": {},
   "outputs": [],
   "source": [
    "df['month_to_end_contract'] = df['month_to_end_contract'].astype('int')"
   ]
  },
  {
   "cell_type": "code",
   "execution_count": 8,
   "metadata": {},
   "outputs": [
    {
     "name": "stdout",
     "output_type": "stream",
     "text": [
      "duplicates: 0\n"
     ]
    }
   ],
   "source": [
    "print('duplicates:', df.duplicated().sum()) # вывод количества дубликатов"
   ]
  },
  {
   "cell_type": "markdown",
   "metadata": {},
   "source": [
    "Мы ознакомились с данными. Типы данных корректны, однако в переменной \"срок до окончания текущего действующего абонемента (в месяцах)\" мы заменили тип данных на целочисленный. Для удобства работы преобразовали названия столбцов (все названия теперь написаны строчными буквами). Пропусков и дубликатов не было обнаружено.\n",
    "\n",
    "В нашем датасете информация о 4000 пользователей и 14 признаках по каждому."
   ]
  },
  {
   "cell_type": "markdown",
   "metadata": {},
   "source": [
    "## Шаг 2. Проведите исследовательский анализ данных (EDA)"
   ]
  },
  {
   "cell_type": "markdown",
   "metadata": {},
   "source": [
    "#### Посмотрите на датасет: есть ли в нем отсутствующие признаки, изучите средние значения и стандартные отклонения (пригодится метод describe())"
   ]
  },
  {
   "cell_type": "code",
   "execution_count": 9,
   "metadata": {},
   "outputs": [
    {
     "name": "stdout",
     "output_type": "stream",
     "text": [
      "Соотношение классов:\n",
      " 0    2939\n",
      "1    1061\n",
      "Name: churn, dtype: int64\n"
     ]
    }
   ],
   "source": [
    "# посмотрим, как соотносятся классы набора данных\n",
    "print('Соотношение классов:\\n', df['churn'].value_counts())"
   ]
  },
  {
   "cell_type": "markdown",
   "metadata": {},
   "source": [
    "Сразу заметим, что классы по оттоку неравны - тех, кто остался в три раза больше чем тех, кто ушел."
   ]
  },
  {
   "cell_type": "code",
   "execution_count": 10,
   "metadata": {
    "scrolled": true
   },
   "outputs": [
    {
     "data": {
      "text/html": [
       "<div>\n",
       "<style scoped>\n",
       "    .dataframe tbody tr th:only-of-type {\n",
       "        vertical-align: middle;\n",
       "    }\n",
       "\n",
       "    .dataframe tbody tr th {\n",
       "        vertical-align: top;\n",
       "    }\n",
       "\n",
       "    .dataframe thead th {\n",
       "        text-align: right;\n",
       "    }\n",
       "</style>\n",
       "<table border=\"1\" class=\"dataframe\">\n",
       "  <thead>\n",
       "    <tr style=\"text-align: right;\">\n",
       "      <th></th>\n",
       "      <th>gender</th>\n",
       "      <th>near_location</th>\n",
       "      <th>partner</th>\n",
       "      <th>promo_friends</th>\n",
       "      <th>phone</th>\n",
       "      <th>contract_period</th>\n",
       "      <th>group_visits</th>\n",
       "      <th>age</th>\n",
       "      <th>avg_additional_charges_total</th>\n",
       "      <th>month_to_end_contract</th>\n",
       "      <th>lifetime</th>\n",
       "      <th>avg_class_frequency_total</th>\n",
       "      <th>avg_class_frequency_current_month</th>\n",
       "      <th>churn</th>\n",
       "    </tr>\n",
       "  </thead>\n",
       "  <tbody>\n",
       "    <tr>\n",
       "      <td>count</td>\n",
       "      <td>4000.00</td>\n",
       "      <td>4000.00</td>\n",
       "      <td>4000.00</td>\n",
       "      <td>4000.00</td>\n",
       "      <td>4000.00</td>\n",
       "      <td>4000.00</td>\n",
       "      <td>4000.00</td>\n",
       "      <td>4000.00</td>\n",
       "      <td>4000.00</td>\n",
       "      <td>4000.00</td>\n",
       "      <td>4000.00</td>\n",
       "      <td>4000.00</td>\n",
       "      <td>4000.00</td>\n",
       "      <td>4000.00</td>\n",
       "    </tr>\n",
       "    <tr>\n",
       "      <td>mean</td>\n",
       "      <td>0.51</td>\n",
       "      <td>0.85</td>\n",
       "      <td>0.49</td>\n",
       "      <td>0.31</td>\n",
       "      <td>0.90</td>\n",
       "      <td>4.68</td>\n",
       "      <td>0.41</td>\n",
       "      <td>29.18</td>\n",
       "      <td>146.94</td>\n",
       "      <td>4.32</td>\n",
       "      <td>3.72</td>\n",
       "      <td>1.88</td>\n",
       "      <td>1.77</td>\n",
       "      <td>0.27</td>\n",
       "    </tr>\n",
       "    <tr>\n",
       "      <td>std</td>\n",
       "      <td>0.50</td>\n",
       "      <td>0.36</td>\n",
       "      <td>0.50</td>\n",
       "      <td>0.46</td>\n",
       "      <td>0.30</td>\n",
       "      <td>4.55</td>\n",
       "      <td>0.49</td>\n",
       "      <td>3.26</td>\n",
       "      <td>96.36</td>\n",
       "      <td>4.19</td>\n",
       "      <td>3.75</td>\n",
       "      <td>0.97</td>\n",
       "      <td>1.05</td>\n",
       "      <td>0.44</td>\n",
       "    </tr>\n",
       "    <tr>\n",
       "      <td>min</td>\n",
       "      <td>0.00</td>\n",
       "      <td>0.00</td>\n",
       "      <td>0.00</td>\n",
       "      <td>0.00</td>\n",
       "      <td>0.00</td>\n",
       "      <td>1.00</td>\n",
       "      <td>0.00</td>\n",
       "      <td>18.00</td>\n",
       "      <td>0.15</td>\n",
       "      <td>1.00</td>\n",
       "      <td>0.00</td>\n",
       "      <td>0.00</td>\n",
       "      <td>0.00</td>\n",
       "      <td>0.00</td>\n",
       "    </tr>\n",
       "    <tr>\n",
       "      <td>25%</td>\n",
       "      <td>0.00</td>\n",
       "      <td>1.00</td>\n",
       "      <td>0.00</td>\n",
       "      <td>0.00</td>\n",
       "      <td>1.00</td>\n",
       "      <td>1.00</td>\n",
       "      <td>0.00</td>\n",
       "      <td>27.00</td>\n",
       "      <td>68.87</td>\n",
       "      <td>1.00</td>\n",
       "      <td>1.00</td>\n",
       "      <td>1.18</td>\n",
       "      <td>0.96</td>\n",
       "      <td>0.00</td>\n",
       "    </tr>\n",
       "    <tr>\n",
       "      <td>50%</td>\n",
       "      <td>1.00</td>\n",
       "      <td>1.00</td>\n",
       "      <td>0.00</td>\n",
       "      <td>0.00</td>\n",
       "      <td>1.00</td>\n",
       "      <td>1.00</td>\n",
       "      <td>0.00</td>\n",
       "      <td>29.00</td>\n",
       "      <td>136.22</td>\n",
       "      <td>1.00</td>\n",
       "      <td>3.00</td>\n",
       "      <td>1.83</td>\n",
       "      <td>1.72</td>\n",
       "      <td>0.00</td>\n",
       "    </tr>\n",
       "    <tr>\n",
       "      <td>75%</td>\n",
       "      <td>1.00</td>\n",
       "      <td>1.00</td>\n",
       "      <td>1.00</td>\n",
       "      <td>1.00</td>\n",
       "      <td>1.00</td>\n",
       "      <td>6.00</td>\n",
       "      <td>1.00</td>\n",
       "      <td>31.00</td>\n",
       "      <td>210.95</td>\n",
       "      <td>6.00</td>\n",
       "      <td>5.00</td>\n",
       "      <td>2.54</td>\n",
       "      <td>2.51</td>\n",
       "      <td>1.00</td>\n",
       "    </tr>\n",
       "    <tr>\n",
       "      <td>max</td>\n",
       "      <td>1.00</td>\n",
       "      <td>1.00</td>\n",
       "      <td>1.00</td>\n",
       "      <td>1.00</td>\n",
       "      <td>1.00</td>\n",
       "      <td>12.00</td>\n",
       "      <td>1.00</td>\n",
       "      <td>41.00</td>\n",
       "      <td>552.59</td>\n",
       "      <td>12.00</td>\n",
       "      <td>31.00</td>\n",
       "      <td>6.02</td>\n",
       "      <td>6.15</td>\n",
       "      <td>1.00</td>\n",
       "    </tr>\n",
       "  </tbody>\n",
       "</table>\n",
       "</div>"
      ],
      "text/plain": [
       "       gender  near_location  partner  promo_friends   phone  contract_period  \\\n",
       "count 4000.00        4000.00  4000.00        4000.00 4000.00          4000.00   \n",
       "mean     0.51           0.85     0.49           0.31    0.90             4.68   \n",
       "std      0.50           0.36     0.50           0.46    0.30             4.55   \n",
       "min      0.00           0.00     0.00           0.00    0.00             1.00   \n",
       "25%      0.00           1.00     0.00           0.00    1.00             1.00   \n",
       "50%      1.00           1.00     0.00           0.00    1.00             1.00   \n",
       "75%      1.00           1.00     1.00           1.00    1.00             6.00   \n",
       "max      1.00           1.00     1.00           1.00    1.00            12.00   \n",
       "\n",
       "       group_visits     age  avg_additional_charges_total  \\\n",
       "count       4000.00 4000.00                       4000.00   \n",
       "mean           0.41   29.18                        146.94   \n",
       "std            0.49    3.26                         96.36   \n",
       "min            0.00   18.00                          0.15   \n",
       "25%            0.00   27.00                         68.87   \n",
       "50%            0.00   29.00                        136.22   \n",
       "75%            1.00   31.00                        210.95   \n",
       "max            1.00   41.00                        552.59   \n",
       "\n",
       "       month_to_end_contract  lifetime  avg_class_frequency_total  \\\n",
       "count                4000.00   4000.00                    4000.00   \n",
       "mean                    4.32      3.72                       1.88   \n",
       "std                     4.19      3.75                       0.97   \n",
       "min                     1.00      0.00                       0.00   \n",
       "25%                     1.00      1.00                       1.18   \n",
       "50%                     1.00      3.00                       1.83   \n",
       "75%                     6.00      5.00                       2.54   \n",
       "max                    12.00     31.00                       6.02   \n",
       "\n",
       "       avg_class_frequency_current_month   churn  \n",
       "count                            4000.00 4000.00  \n",
       "mean                                1.77    0.27  \n",
       "std                                 1.05    0.44  \n",
       "min                                 0.00    0.00  \n",
       "25%                                 0.96    0.00  \n",
       "50%                                 1.72    0.00  \n",
       "75%                                 2.51    1.00  \n",
       "max                                 6.15    1.00  "
      ]
     },
     "execution_count": 10,
     "metadata": {},
     "output_type": "execute_result"
    }
   ],
   "source": [
    "df.describe()"
   ]
  },
  {
   "cell_type": "code",
   "execution_count": 11,
   "metadata": {},
   "outputs": [
    {
     "data": {
      "image/png": "[encoded data removed]",
      "text/plain": [
       "<Figure size 1080x1080 with 16 Axes>"
      ]
     },
     "metadata": {
      "needs_background": "light"
     },
     "output_type": "display_data"
    }
   ],
   "source": [
    "df.hist(figsize = (15,15)); "
   ]
  },
  {
   "cell_type": "markdown",
   "metadata": {},
   "source": [
    "У нас примерно поровну клиентов обоих полов, им от 18 до 41, средний возраст 29 лет, три четверти живут или работают рядом с фитнесом. Половина являются сотрудниками компании-партнёра, треть пришли в рамках акции «приведи друга».  Медианное время с момента первого обращения в фитнес-центр - 3 месяца (среднее - 3.72), три четверти всех клиентов записаны в фитнесс не более 5 месяцев назад. 90% всех клиентов оставили телефон для связи.\n",
    "\n",
    "Чуть более половины всех абонементов - на 1 месяц, четверть на 6 месяцев, и еще четверть - на год. 40% клиентов посетили групповые занятия, средняя частота посещений в неделю за все время с начала действия абонемента - 1.88, а за предыдущий месяц 1.77. У половины все записанных действующий абонемент истекает через 1 месяц (т.е. в следующем месяце), а среднее количество месяцев оставшихся до конца абонемента - 4.32 месяца.\n",
    "\n",
    "Средняя суммарная выручка от других услуг фитнес-центра: 147 рублей.\n",
    "\n",
    "Мы не обнаружили отсутствующие признаки, также нельзя сказать, что есть существенные выбросы."
   ]
  },
  {
   "cell_type": "markdown",
   "metadata": {},
   "source": [
    "#### Посмотрите на средние значения признаков в двух группах — тех, кто ушел в отток и тех, кто остался (воспользуйтесь методом groupby())"
   ]
  },
  {
   "cell_type": "code",
   "execution_count": 12,
   "metadata": {},
   "outputs": [],
   "source": [
    "df_grouped_churn = df.groupby('churn')[df.drop('churn', axis = 1).columns].agg(['mean']) "
   ]
  },
  {
   "cell_type": "code",
   "execution_count": 13,
   "metadata": {},
   "outputs": [
    {
     "data": {
      "text/html": [
       "<style  type=\"text/css\" >\n",
       "    #T_732ba866_361f_11ec_bf98_02420a39eb48row0_col0 {\n",
       "            background-color:  #f7fbff;\n",
       "            color:  #000000;\n",
       "        }    #T_732ba866_361f_11ec_bf98_02420a39eb48row0_col1 {\n",
       "            background-color:  #08306b;\n",
       "            color:  #f1f1f1;\n",
       "        }    #T_732ba866_361f_11ec_bf98_02420a39eb48row0_col2 {\n",
       "            background-color:  #08306b;\n",
       "            color:  #f1f1f1;\n",
       "        }    #T_732ba866_361f_11ec_bf98_02420a39eb48row0_col3 {\n",
       "            background-color:  #08306b;\n",
       "            color:  #f1f1f1;\n",
       "        }    #T_732ba866_361f_11ec_bf98_02420a39eb48row0_col4 {\n",
       "            background-color:  #08306b;\n",
       "            color:  #f1f1f1;\n",
       "        }    #T_732ba866_361f_11ec_bf98_02420a39eb48row0_col5 {\n",
       "            background-color:  #08306b;\n",
       "            color:  #f1f1f1;\n",
       "        }    #T_732ba866_361f_11ec_bf98_02420a39eb48row0_col6 {\n",
       "            background-color:  #08306b;\n",
       "            color:  #f1f1f1;\n",
       "        }    #T_732ba866_361f_11ec_bf98_02420a39eb48row0_col7 {\n",
       "            background-color:  #08306b;\n",
       "            color:  #f1f1f1;\n",
       "        }    #T_732ba866_361f_11ec_bf98_02420a39eb48row0_col8 {\n",
       "            background-color:  #08306b;\n",
       "            color:  #f1f1f1;\n",
       "        }    #T_732ba866_361f_11ec_bf98_02420a39eb48row0_col9 {\n",
       "            background-color:  #08306b;\n",
       "            color:  #f1f1f1;\n",
       "        }    #T_732ba866_361f_11ec_bf98_02420a39eb48row0_col10 {\n",
       "            background-color:  #08306b;\n",
       "            color:  #f1f1f1;\n",
       "        }    #T_732ba866_361f_11ec_bf98_02420a39eb48row0_col11 {\n",
       "            background-color:  #08306b;\n",
       "            color:  #f1f1f1;\n",
       "        }    #T_732ba866_361f_11ec_bf98_02420a39eb48row0_col12 {\n",
       "            background-color:  #08306b;\n",
       "            color:  #f1f1f1;\n",
       "        }    #T_732ba866_361f_11ec_bf98_02420a39eb48row1_col0 {\n",
       "            background-color:  #08306b;\n",
       "            color:  #f1f1f1;\n",
       "        }    #T_732ba866_361f_11ec_bf98_02420a39eb48row1_col1 {\n",
       "            background-color:  #f7fbff;\n",
       "            color:  #000000;\n",
       "        }    #T_732ba866_361f_11ec_bf98_02420a39eb48row1_col2 {\n",
       "            background-color:  #f7fbff;\n",
       "            color:  #000000;\n",
       "        }    #T_732ba866_361f_11ec_bf98_02420a39eb48row1_col3 {\n",
       "            background-color:  #f7fbff;\n",
       "            color:  #000000;\n",
       "        }    #T_732ba866_361f_11ec_bf98_02420a39eb48row1_col4 {\n",
       "            background-color:  #f7fbff;\n",
       "            color:  #000000;\n",
       "        }    #T_732ba866_361f_11ec_bf98_02420a39eb48row1_col5 {\n",
       "            background-color:  #f7fbff;\n",
       "            color:  #000000;\n",
       "        }    #T_732ba866_361f_11ec_bf98_02420a39eb48row1_col6 {\n",
       "            background-color:  #f7fbff;\n",
       "            color:  #000000;\n",
       "        }    #T_732ba866_361f_11ec_bf98_02420a39eb48row1_col7 {\n",
       "            background-color:  #f7fbff;\n",
       "            color:  #000000;\n",
       "        }    #T_732ba866_361f_11ec_bf98_02420a39eb48row1_col8 {\n",
       "            background-color:  #f7fbff;\n",
       "            color:  #000000;\n",
       "        }    #T_732ba866_361f_11ec_bf98_02420a39eb48row1_col9 {\n",
       "            background-color:  #f7fbff;\n",
       "            color:  #000000;\n",
       "        }    #T_732ba866_361f_11ec_bf98_02420a39eb48row1_col10 {\n",
       "            background-color:  #f7fbff;\n",
       "            color:  #000000;\n",
       "        }    #T_732ba866_361f_11ec_bf98_02420a39eb48row1_col11 {\n",
       "            background-color:  #f7fbff;\n",
       "            color:  #000000;\n",
       "        }    #T_732ba866_361f_11ec_bf98_02420a39eb48row1_col12 {\n",
       "            background-color:  #f7fbff;\n",
       "            color:  #000000;\n",
       "        }</style><table id=\"T_732ba866_361f_11ec_bf98_02420a39eb48\" ><thead>    <tr>        <th class=\"blank level0\" ></th>        <th class=\"col_heading level0 col0\" >gender</th>        <th class=\"col_heading level0 col1\" >near_location</th>        <th class=\"col_heading level0 col2\" >partner</th>        <th class=\"col_heading level0 col3\" >promo_friends</th>        <th class=\"col_heading level0 col4\" >phone</th>        <th class=\"col_heading level0 col5\" >contract_period</th>        <th class=\"col_heading level0 col6\" >group_visits</th>        <th class=\"col_heading level0 col7\" >age</th>        <th class=\"col_heading level0 col8\" >avg_additional_charges_total</th>        <th class=\"col_heading level0 col9\" >month_to_end_contract</th>        <th class=\"col_heading level0 col10\" >lifetime</th>        <th class=\"col_heading level0 col11\" >avg_class_frequency_total</th>        <th class=\"col_heading level0 col12\" >avg_class_frequency_current_month</th>    </tr>    <tr>        <th class=\"blank level1\" ></th>        <th class=\"col_heading level1 col0\" >mean</th>        <th class=\"col_heading level1 col1\" >mean</th>        <th class=\"col_heading level1 col2\" >mean</th>        <th class=\"col_heading level1 col3\" >mean</th>        <th class=\"col_heading level1 col4\" >mean</th>        <th class=\"col_heading level1 col5\" >mean</th>        <th class=\"col_heading level1 col6\" >mean</th>        <th class=\"col_heading level1 col7\" >mean</th>        <th class=\"col_heading level1 col8\" >mean</th>        <th class=\"col_heading level1 col9\" >mean</th>        <th class=\"col_heading level1 col10\" >mean</th>        <th class=\"col_heading level1 col11\" >mean</th>        <th class=\"col_heading level1 col12\" >mean</th>    </tr>    <tr>        <th class=\"index_name level0\" >churn</th>        <th class=\"blank\" ></th>        <th class=\"blank\" ></th>        <th class=\"blank\" ></th>        <th class=\"blank\" ></th>        <th class=\"blank\" ></th>        <th class=\"blank\" ></th>        <th class=\"blank\" ></th>        <th class=\"blank\" ></th>        <th class=\"blank\" ></th>        <th class=\"blank\" ></th>        <th class=\"blank\" ></th>        <th class=\"blank\" ></th>        <th class=\"blank\" ></th>    </tr></thead><tbody>\n",
       "                <tr>\n",
       "                        <th id=\"T_732ba866_361f_11ec_bf98_02420a39eb48level0_row0\" class=\"row_heading level0 row0\" >0</th>\n",
       "                        <td id=\"T_732ba866_361f_11ec_bf98_02420a39eb48row0_col0\" class=\"data row0 col0\" >0.51</td>\n",
       "                        <td id=\"T_732ba866_361f_11ec_bf98_02420a39eb48row0_col1\" class=\"data row0 col1\" >0.873</td>\n",
       "                        <td id=\"T_732ba866_361f_11ec_bf98_02420a39eb48row0_col2\" class=\"data row0 col2\" >0.534</td>\n",
       "                        <td id=\"T_732ba866_361f_11ec_bf98_02420a39eb48row0_col3\" class=\"data row0 col3\" >0.354</td>\n",
       "                        <td id=\"T_732ba866_361f_11ec_bf98_02420a39eb48row0_col4\" class=\"data row0 col4\" >0.904</td>\n",
       "                        <td id=\"T_732ba866_361f_11ec_bf98_02420a39eb48row0_col5\" class=\"data row0 col5\" >5.75</td>\n",
       "                        <td id=\"T_732ba866_361f_11ec_bf98_02420a39eb48row0_col6\" class=\"data row0 col6\" >0.464</td>\n",
       "                        <td id=\"T_732ba866_361f_11ec_bf98_02420a39eb48row0_col7\" class=\"data row0 col7\" >30</td>\n",
       "                        <td id=\"T_732ba866_361f_11ec_bf98_02420a39eb48row0_col8\" class=\"data row0 col8\" >158</td>\n",
       "                        <td id=\"T_732ba866_361f_11ec_bf98_02420a39eb48row0_col9\" class=\"data row0 col9\" >5.28</td>\n",
       "                        <td id=\"T_732ba866_361f_11ec_bf98_02420a39eb48row0_col10\" class=\"data row0 col10\" >4.71</td>\n",
       "                        <td id=\"T_732ba866_361f_11ec_bf98_02420a39eb48row0_col11\" class=\"data row0 col11\" >2.02</td>\n",
       "                        <td id=\"T_732ba866_361f_11ec_bf98_02420a39eb48row0_col12\" class=\"data row0 col12\" >2.03</td>\n",
       "            </tr>\n",
       "            <tr>\n",
       "                        <th id=\"T_732ba866_361f_11ec_bf98_02420a39eb48level0_row1\" class=\"row_heading level0 row1\" >1</th>\n",
       "                        <td id=\"T_732ba866_361f_11ec_bf98_02420a39eb48row1_col0\" class=\"data row1 col0\" >0.511</td>\n",
       "                        <td id=\"T_732ba866_361f_11ec_bf98_02420a39eb48row1_col1\" class=\"data row1 col1\" >0.768</td>\n",
       "                        <td id=\"T_732ba866_361f_11ec_bf98_02420a39eb48row1_col2\" class=\"data row1 col2\" >0.355</td>\n",
       "                        <td id=\"T_732ba866_361f_11ec_bf98_02420a39eb48row1_col3\" class=\"data row1 col3\" >0.184</td>\n",
       "                        <td id=\"T_732ba866_361f_11ec_bf98_02420a39eb48row1_col4\" class=\"data row1 col4\" >0.903</td>\n",
       "                        <td id=\"T_732ba866_361f_11ec_bf98_02420a39eb48row1_col5\" class=\"data row1 col5\" >1.73</td>\n",
       "                        <td id=\"T_732ba866_361f_11ec_bf98_02420a39eb48row1_col6\" class=\"data row1 col6\" >0.269</td>\n",
       "                        <td id=\"T_732ba866_361f_11ec_bf98_02420a39eb48row1_col7\" class=\"data row1 col7\" >27</td>\n",
       "                        <td id=\"T_732ba866_361f_11ec_bf98_02420a39eb48row1_col8\" class=\"data row1 col8\" >115</td>\n",
       "                        <td id=\"T_732ba866_361f_11ec_bf98_02420a39eb48row1_col9\" class=\"data row1 col9\" >1.66</td>\n",
       "                        <td id=\"T_732ba866_361f_11ec_bf98_02420a39eb48row1_col10\" class=\"data row1 col10\" >0.991</td>\n",
       "                        <td id=\"T_732ba866_361f_11ec_bf98_02420a39eb48row1_col11\" class=\"data row1 col11\" >1.47</td>\n",
       "                        <td id=\"T_732ba866_361f_11ec_bf98_02420a39eb48row1_col12\" class=\"data row1 col12\" >1.04</td>\n",
       "            </tr>\n",
       "    </tbody></table>"
      ],
      "text/plain": [
       "<pandas.io.formats.style.Styler at 0x7f1f3aabd2d0>"
      ]
     },
     "execution_count": 13,
     "metadata": {},
     "output_type": "execute_result"
    }
   ],
   "source": [
    "with pd.option_context('display.precision', 3):\n",
    "    df_grouped_churn=df_grouped_churn.style.background_gradient(cmap = 'Blues')\n",
    "df_grouped_churn"
   ]
  },
  {
   "cell_type": "markdown",
   "metadata": {},
   "source": [
    "#### Постройте столбчатые гистограммы и распределения признаков для тех, кто ушёл (отток) и тех, кто остался (не попали в отток)"
   ]
  },
  {
   "cell_type": "code",
   "execution_count": 14,
   "metadata": {},
   "outputs": [],
   "source": [
    "# для удобства, создадим словарь с названиями переменных\n",
    "titles={   \n",
    "'gender':'пол',\n",
    "'near_location' :'проживание или работа в районе, где находится фитнес-центр',\n",
    "'partner' : 'сотрудник компании-партнёра',\n",
    "'promo_friends' : 'факт первоначальной записи в рамках акции «приведи друга»',\n",
    "'phone' : 'наличие контактного телефона',\n",
    "'age' : ' возраст',\n",
    "'lifetime' : 'время с момента первого обращения в фитнес-центр (в месяцах)',\n",
    "'contract_period' : ' длительность текущего действующего абонемента (месяц, 3 месяца, 6 месяцев, год)',\n",
    "'month_to_end_contract' : 'срок до окончания текущего действующего абонемента (в месяцах)',\n",
    "'group_visits' : ' факт посещения групповых занятий',\n",
    "'avg_class_frequency_total' : ' средняя частота посещений в неделю за все время с начала действия абонемента',\n",
    "'avg_class_frequency_current_month' : ' средняя частота посещений в неделю за предыдущий месяц',\n",
    "'avg_additional_charges_total': 'суммарная выручка от других услуг фитнес-центра: кафе, спорт-товары, косметический и массажный салон',\n",
    "'churn': 'факт оттока в текущем месяце',  \n",
    "}"
   ]
  },
  {
   "cell_type": "code",
   "execution_count": 15,
   "metadata": {
    "scrolled": false
   },
   "outputs": [
    {
     "data": {
      "image/png": "[encoded data removed]",
      "text/plain": [
       "<Figure size 402.375x360 with 1 Axes>"
      ]
     },
     "metadata": {
      "needs_background": "light"
     },
     "output_type": "display_data"
    },
    {
     "data": {
      "image/png": "[encoded data removed]",
      "text/plain": [
       "<Figure size 402.375x360 with 1 Axes>"
      ]
     },
     "metadata": {
      "needs_background": "light"
     },
     "output_type": "display_data"
    },
    {
     "data": {
      "image/png": "[encoded data removed]",
      "text/plain": [
       "<Figure size 402.375x360 with 1 Axes>"
      ]
     },
     "metadata": {
      "needs_background": "light"
     },
     "output_type": "display_data"
    },
    {
     "data": {
      "image/png": "[encoded data removed]",
      "text/plain": [
       "<Figure size 402.375x360 with 1 Axes>"
      ]
     },
     "metadata": {
      "needs_background": "light"
     },
     "output_type": "display_data"
    },
    {
     "data": {
      "image/png": "[encoded data removed]",
      "text/plain": [
       "<Figure size 402.375x360 with 1 Axes>"
      ]
     },
     "metadata": {
      "needs_background": "light"
     },
     "output_type": "display_data"
    },
    {
     "data": {
      "image/png": "[encoded data removed]",
      "text/plain": [
       "<Figure size 402.375x360 with 1 Axes>"
      ]
     },
     "metadata": {
      "needs_background": "light"
     },
     "output_type": "display_data"
    },
    {
     "data": {
      "image/png": "[encoded data removed]",
      "text/plain": [
       "<Figure size 402.375x360 with 1 Axes>"
      ]
     },
     "metadata": {
      "needs_background": "light"
     },
     "output_type": "display_data"
    },
    {
     "data": {
      "image/png": "[encoded data removed]",
      "text/plain": [
       "<Figure size 402.375x360 with 1 Axes>"
      ]
     },
     "metadata": {
      "needs_background": "light"
     },
     "output_type": "display_data"
    },
    {
     "data": {
      "image/png": "[encoded data removed]",
      "text/plain": [
       "<Figure size 402.375x360 with 1 Axes>"
      ]
     },
     "metadata": {
      "needs_background": "light"
     },
     "output_type": "display_data"
    },
    {
     "data": {
      "image/png": "[encoded data removed]",
      "text/plain": [
       "<Figure size 402.375x360 with 1 Axes>"
      ]
     },
     "metadata": {
      "needs_background": "light"
     },
     "output_type": "display_data"
    },
    {
     "data": {
      "image/png": "[encoded data removed]",
      "text/plain": [
       "<Figure size 402.375x360 with 1 Axes>"
      ]
     },
     "metadata": {
      "needs_background": "light"
     },
     "output_type": "display_data"
    },
    {
     "data": {
      "image/png": "[encoded data removed]",
      "text/plain": [
       "<Figure size 402.375x360 with 1 Axes>"
      ]
     },
     "metadata": {
      "needs_background": "light"
     },
     "output_type": "display_data"
    },
    {
     "data": {
      "image/png": "[encoded data removed]",
      "text/plain": [
       "<Figure size 402.375x360 with 1 Axes>"
      ]
     },
     "metadata": {
      "needs_background": "light"
     },
     "output_type": "display_data"
    }
   ],
   "source": [
    "for col in df.drop('churn', axis = 1).columns:\n",
    "    sns.displot(df, x=col, hue=\"churn\", element=\"step\", multiple=\"dodge\")\n",
    "    plt.title(titles[col]);"
   ]
  },
  {
   "cell_type": "markdown",
   "metadata": {},
   "source": [
    "Из существенных различий между теми, кто ушел и теми, кто остался, выделим следующие.\n",
    "\n",
    "- Среди тех, кто ушел в отток на 10% больше живущих или работающих вдалеке от фитнеса, и на 17% меньше тех, кто пришел по рекомендации друзей и также на 17% меньше сотрудников компании-партнера.\n",
    "\n",
    "- Средний период абонемента тех, кто ушел в отток гораздо ниже - 1.73 против 5.75, ушедшие были в среднем записаны на фитнес не более 1 месяца , а оставшиеся - почти 5.\n",
    "\n",
    "- Уходящие в среднем за текущий месяц посетили фитнес один раз за неделю, а остающиеся - два. Уходящие в полтора раза реже посещали групповые занятия в текущем месяце: только 27% из бросивших хоть раз их посетили.\n",
    "\n",
    "- Они немного моложе, средний возраст: 27 против 30 лет.\n",
    "\n",
    "То есть уходящие чаще территориально не имеют привязки к фитнесу, не пришли от друзей или компании-партнера, чаще записывались на короткий срок, как правило на месяц, реже пробовали групповые занятия, в целом реже посещали фитнесс, тратили немного меньше и возрастом были немного моложе."
   ]
  },
  {
   "cell_type": "markdown",
   "metadata": {},
   "source": [
    "#### Постройте матрицу корреляций и отобразите её."
   ]
  },
  {
   "cell_type": "code",
   "execution_count": 16,
   "metadata": {},
   "outputs": [
    {
     "data": {
      "image/png": "[encoded data removed]",
      "text/plain": [
       "<Figure size 576x432 with 2 Axes>"
      ]
     },
     "metadata": {
      "needs_background": "light"
     },
     "output_type": "display_data"
    }
   ],
   "source": [
    "# построим и отрисуем матрицу корреляций\n",
    "cm = df.corr() # вычисляем матрицу корреляций\n",
    "\n",
    "# нарисуем тепловую карту для матрицы корреляций\n",
    "plt.figure(figsize=(8,6))  \n",
    "sns.heatmap(cm, annot = True, annot_kws = {'size':8});"
   ]
  },
  {
   "cell_type": "markdown",
   "metadata": {},
   "source": [
    "На матрице корреляций видно, что  корреляция более 0.8 есть у признаков \"длительность текущего действующего абонемента\" и \"срок до окончания текущего действующего абонемента\" (корреляция 0.97), что вполне логично, так как эти величины взаимосвязаны.\n",
    "\n",
    "Аналогичная ситуация  с признаком  \"средняя частота посещений в неделю за все время с начала действия абонемента\" и \"средняя частота посещений в неделю за предыдущий месяц\"(корреляция 0.95). Эти частоты довольно похожи.\n",
    "\n",
    "Таким образом заметим, что модели, которые мы будем строить, должны учитывать мультиколлинеарность, иначе нам нужно будет удалить вручную один из двух признаком в каждом случае."
   ]
  },
  {
   "cell_type": "markdown",
   "metadata": {},
   "source": [
    "## Шаг 3. Постройте модель прогнозирования оттока клиентов"
   ]
  },
  {
   "cell_type": "markdown",
   "metadata": {},
   "source": [
    "### Постройте модель бинарной классификации клиентов, где целевой признак — факт оттока клиента в следующем месяце:"
   ]
  },
  {
   "cell_type": "markdown",
   "metadata": {},
   "source": [
    "#### Разбейте данные на обучающую и валидационную выборку функцией train_test_split()."
   ]
  },
  {
   "cell_type": "code",
   "execution_count": 17,
   "metadata": {},
   "outputs": [],
   "source": [
    "# разделим наши данные на признаки (матрица X) и целевую переменную (y)\n",
    "X = df.drop(columns=['churn'])\n",
    "y = df['churn']\n",
    "\n",
    "# разделяем модель на обучающую и валидационную выборку\n",
    "X_train, X_test, y_train, y_test = train_test_split(X, y, test_size = 0.2, random_state = 0)"
   ]
  },
  {
   "cell_type": "markdown",
   "metadata": {},
   "source": [
    "#### Обучите модель на train-выборке двумя способами:\n",
    "- логистической регрессией\n",
    "- случайным лесом"
   ]
  },
  {
   "cell_type": "code",
   "execution_count": 18,
   "metadata": {},
   "outputs": [],
   "source": [
    "# стандартизация данных перед работой с алгоритмами\n",
    "sc = StandardScaler() # создадим объект класса StandardScaler \n",
    "X_train_st = sc.fit_transform(X_train) # обучаем scaler и одновременно трансформируем матрицу для обучающей выборки\n",
    "X_test_st = sc.transform(X_test) # применяем стандартизацию к матрице признаков для тестовой выборки"
   ]
  },
  {
   "cell_type": "markdown",
   "metadata": {},
   "source": [
    "*Модель логистичесой регрессии*"
   ]
  },
  {
   "cell_type": "markdown",
   "metadata": {},
   "source": [
    "Хотя это необязательно для логистической регрессиии, проведем сначала стандартизацию.\n",
    "\n",
    "*\"It’s a good practice to standardize the input data that you use for logistic regression, although in many cases it’s not necessary. Standardization might improve the performance of your algorithm. It helps if you need to compare and interpret the weights. It’s important when you apply penalization because the algorithm is actually penalizing against the large values of the weights.\" https://realpython.com/logistic-regression-python/#logistic-regression-in-python"
   ]
  },
  {
   "cell_type": "markdown",
   "metadata": {},
   "source": [
    "По поводу проблемы мультиколлинеарности заметим, что для логистической регрессии ‘liblinear’ solver по умолчанию осуществляет\n",
    "регуляризацию L2, т.е. сильно коррелирующим признакам будут даны одинаковые веса. А для случайного леса эта проблема не релевантна."
   ]
  },
  {
   "cell_type": "code",
   "execution_count": 19,
   "metadata": {},
   "outputs": [],
   "source": [
    "# логистическая регрессия\n",
    "model=LogisticRegression(solver='liblinear', random_state=0) \n",
    "model.fit(X_train_st, y_train)  # обучим модель\n",
    "y_pred = model.predict(X_test_st) \n",
    "probabilities = model.predict_proba(X_test_st)[:,1]"
   ]
  },
  {
   "cell_type": "markdown",
   "metadata": {},
   "source": [
    "Посмотрим на признаки с весами, согласно модели логистичесой регрессии."
   ]
  },
  {
   "cell_type": "code",
   "execution_count": 20,
   "metadata": {
    "scrolled": true
   },
   "outputs": [],
   "source": [
    "titles_df = pd.DataFrame.from_dict(titles, orient='index').reset_index() \n",
    "# создадим датафрейм с названиями признаков на русском из словаря\n",
    "titles_df.columns = ['feature','titles']    "
   ]
  },
  {
   "cell_type": "code",
   "execution_count": 21,
   "metadata": {},
   "outputs": [
    {
     "data": {
      "text/html": [
       "<div>\n",
       "<style scoped>\n",
       "    .dataframe tbody tr th:only-of-type {\n",
       "        vertical-align: middle;\n",
       "    }\n",
       "\n",
       "    .dataframe tbody tr th {\n",
       "        vertical-align: top;\n",
       "    }\n",
       "\n",
       "    .dataframe thead th {\n",
       "        text-align: right;\n",
       "    }\n",
       "</style>\n",
       "<table border=\"1\" class=\"dataframe\">\n",
       "  <thead>\n",
       "    <tr style=\"text-align: right;\">\n",
       "      <th></th>\n",
       "      <th>feature</th>\n",
       "      <th>coeff</th>\n",
       "      <th>titles</th>\n",
       "    </tr>\n",
       "  </thead>\n",
       "  <tbody>\n",
       "    <tr>\n",
       "      <td>11</td>\n",
       "      <td>avg_class_frequency_total</td>\n",
       "      <td>3.29</td>\n",
       "      <td>средняя частота посещений в неделю за все вре...</td>\n",
       "    </tr>\n",
       "    <tr>\n",
       "      <td>4</td>\n",
       "      <td>phone</td>\n",
       "      <td>0.01</td>\n",
       "      <td>наличие контактного телефона</td>\n",
       "    </tr>\n",
       "    <tr>\n",
       "      <td>0</td>\n",
       "      <td>gender</td>\n",
       "      <td>-0.01</td>\n",
       "      <td>пол</td>\n",
       "    </tr>\n",
       "    <tr>\n",
       "      <td>1</td>\n",
       "      <td>near_location</td>\n",
       "      <td>-0.08</td>\n",
       "      <td>проживание или работа в районе, где находится ...</td>\n",
       "    </tr>\n",
       "    <tr>\n",
       "      <td>2</td>\n",
       "      <td>partner</td>\n",
       "      <td>-0.08</td>\n",
       "      <td>сотрудник компании-партнёра</td>\n",
       "    </tr>\n",
       "    <tr>\n",
       "      <td>3</td>\n",
       "      <td>promo_friends</td>\n",
       "      <td>-0.27</td>\n",
       "      <td>факт первоначальной записи в рамках акции «при...</td>\n",
       "    </tr>\n",
       "    <tr>\n",
       "      <td>6</td>\n",
       "      <td>group_visits</td>\n",
       "      <td>-0.39</td>\n",
       "      <td>факт посещения групповых занятий</td>\n",
       "    </tr>\n",
       "    <tr>\n",
       "      <td>9</td>\n",
       "      <td>month_to_end_contract</td>\n",
       "      <td>-0.52</td>\n",
       "      <td>срок до окончания текущего действующего абонем...</td>\n",
       "    </tr>\n",
       "    <tr>\n",
       "      <td>8</td>\n",
       "      <td>avg_additional_charges_total</td>\n",
       "      <td>-0.54</td>\n",
       "      <td>суммарная выручка от других услуг фитнес-центр...</td>\n",
       "    </tr>\n",
       "    <tr>\n",
       "      <td>5</td>\n",
       "      <td>contract_period</td>\n",
       "      <td>-0.70</td>\n",
       "      <td>длительность текущего действующего абонемента...</td>\n",
       "    </tr>\n",
       "    <tr>\n",
       "      <td>7</td>\n",
       "      <td>age</td>\n",
       "      <td>-1.07</td>\n",
       "      <td>возраст</td>\n",
       "    </tr>\n",
       "    <tr>\n",
       "      <td>10</td>\n",
       "      <td>lifetime</td>\n",
       "      <td>-3.72</td>\n",
       "      <td>время с момента первого обращения в фитнес-цен...</td>\n",
       "    </tr>\n",
       "    <tr>\n",
       "      <td>12</td>\n",
       "      <td>avg_class_frequency_current_month</td>\n",
       "      <td>-4.43</td>\n",
       "      <td>средняя частота посещений в неделю за предыду...</td>\n",
       "    </tr>\n",
       "  </tbody>\n",
       "</table>\n",
       "</div>"
      ],
      "text/plain": [
       "                              feature  coeff  \\\n",
       "11          avg_class_frequency_total   3.29   \n",
       "4                               phone   0.01   \n",
       "0                              gender  -0.01   \n",
       "1                       near_location  -0.08   \n",
       "2                             partner  -0.08   \n",
       "3                       promo_friends  -0.27   \n",
       "6                        group_visits  -0.39   \n",
       "9               month_to_end_contract  -0.52   \n",
       "8        avg_additional_charges_total  -0.54   \n",
       "5                     contract_period  -0.70   \n",
       "7                                 age  -1.07   \n",
       "10                           lifetime  -3.72   \n",
       "12  avg_class_frequency_current_month  -4.43   \n",
       "\n",
       "                                               titles  \n",
       "11   средняя частота посещений в неделю за все вре...  \n",
       "4                        наличие контактного телефона  \n",
       "0                                                 пол  \n",
       "1   проживание или работа в районе, где находится ...  \n",
       "2                         сотрудник компании-партнёра  \n",
       "3   факт первоначальной записи в рамках акции «при...  \n",
       "6                    факт посещения групповых занятий  \n",
       "9   срок до окончания текущего действующего абонем...  \n",
       "8   суммарная выручка от других услуг фитнес-центр...  \n",
       "5    длительность текущего действующего абонемента...  \n",
       "7                                             возраст  \n",
       "10  время с момента первого обращения в фитнес-цен...  \n",
       "12   средняя частота посещений в неделю за предыду...  "
      ]
     },
     "execution_count": 21,
     "metadata": {},
     "output_type": "execute_result"
    }
   ],
   "source": [
    "coefficients = pd.concat([pd.DataFrame(X.columns), pd.DataFrame(np.transpose(model.coef_))], axis = 1)\n",
    "coefficients.columns = ['feature', 'coeff']\n",
    "coefficients.merge(titles_df, how='left', on='feature').sort_values(by='coeff', ascending=False)"
   ]
  },
  {
   "cell_type": "markdown",
   "metadata": {},
   "source": [
    "Наиболее важными признаками со знаком минус (то есть обратной зависимостью) оказались средняя частота посещений в неделю за предыдущий месяц, время с момента первого обращения в фитнес-центр, возраст и длительность текущего действующего абонемента. Чем они больше, тем выше вероятность, что клиент не попадет в отток, и наоборот.\n",
    "\n",
    "Однако, средняя частота посещений в неделю за все время - также важный признак, но со знаком плюс, что контринтуитивно. Возможно, это объясняется тем, что в наших данных из тех, кто попал в отток 38% тех, кто пришел в тот месяц, по которому у нас данные (lifetime=0) и покинул фитнес после этого первого месяца. Данные по средней частоте посещений в неделю за предыдущий месяц и средняя частота посещений в неделю за все время с начала действия абонемента должны в таком случае совпадать. Но, это не так. Если взглянуть на срез (см.ниже), то видно, что есть случаи, где lifetime=0, при этом avg_class_frequency_total бoльше чем avg_class_frequency_current_month, что не вполне логично. Ведь раз время с момента первого обращения в фитнес-центр равно нулю, то весь период это и должен быть один месяц. Для дальнейшего прояснения этого вопроса, нам нужно знать, как считались эти метрики."
   ]
  },
  {
   "cell_type": "code",
   "execution_count": 22,
   "metadata": {},
   "outputs": [
    {
     "data": {
      "text/plain": [
       "0.37983034872761545"
      ]
     },
     "execution_count": 22,
     "metadata": {},
     "output_type": "execute_result"
    }
   ],
   "source": [
    "# отношения числа тех, кто пришел в месяц, по которому у нас даннные, и попал в отток, ко всем, кто попал в отток\n",
    "len(df[(df['lifetime']==0) & (df['churn']==1)])/len(df[(df['churn']==1)]) "
   ]
  },
  {
   "cell_type": "code",
   "execution_count": 23,
   "metadata": {},
   "outputs": [
    {
     "data": {
      "text/html": [
       "<div>\n",
       "<style scoped>\n",
       "    .dataframe tbody tr th:only-of-type {\n",
       "        vertical-align: middle;\n",
       "    }\n",
       "\n",
       "    .dataframe tbody tr th {\n",
       "        vertical-align: top;\n",
       "    }\n",
       "\n",
       "    .dataframe thead th {\n",
       "        text-align: right;\n",
       "    }\n",
       "</style>\n",
       "<table border=\"1\" class=\"dataframe\">\n",
       "  <thead>\n",
       "    <tr style=\"text-align: right;\">\n",
       "      <th></th>\n",
       "      <th>avg_class_frequency_total</th>\n",
       "      <th>avg_class_frequency_current_month</th>\n",
       "    </tr>\n",
       "  </thead>\n",
       "  <tbody>\n",
       "    <tr>\n",
       "      <td>7</td>\n",
       "      <td>1.21</td>\n",
       "      <td>1.05</td>\n",
       "    </tr>\n",
       "    <tr>\n",
       "      <td>25</td>\n",
       "      <td>1.49</td>\n",
       "      <td>1.25</td>\n",
       "    </tr>\n",
       "    <tr>\n",
       "      <td>46</td>\n",
       "      <td>0.85</td>\n",
       "      <td>0.00</td>\n",
       "    </tr>\n",
       "    <tr>\n",
       "      <td>57</td>\n",
       "      <td>1.00</td>\n",
       "      <td>0.00</td>\n",
       "    </tr>\n",
       "    <tr>\n",
       "      <td>70</td>\n",
       "      <td>1.72</td>\n",
       "      <td>1.34</td>\n",
       "    </tr>\n",
       "    <tr>\n",
       "      <td>...</td>\n",
       "      <td>...</td>\n",
       "      <td>...</td>\n",
       "    </tr>\n",
       "    <tr>\n",
       "      <td>3971</td>\n",
       "      <td>0.76</td>\n",
       "      <td>0.00</td>\n",
       "    </tr>\n",
       "    <tr>\n",
       "      <td>3976</td>\n",
       "      <td>1.31</td>\n",
       "      <td>1.06</td>\n",
       "    </tr>\n",
       "    <tr>\n",
       "      <td>3977</td>\n",
       "      <td>0.44</td>\n",
       "      <td>0.00</td>\n",
       "    </tr>\n",
       "    <tr>\n",
       "      <td>3982</td>\n",
       "      <td>1.39</td>\n",
       "      <td>0.79</td>\n",
       "    </tr>\n",
       "    <tr>\n",
       "      <td>3986</td>\n",
       "      <td>1.40</td>\n",
       "      <td>0.30</td>\n",
       "    </tr>\n",
       "  </tbody>\n",
       "</table>\n",
       "<p>403 rows × 2 columns</p>\n",
       "</div>"
      ],
      "text/plain": [
       "      avg_class_frequency_total  avg_class_frequency_current_month\n",
       "7                          1.21                               1.05\n",
       "25                         1.49                               1.25\n",
       "46                         0.85                               0.00\n",
       "57                         1.00                               0.00\n",
       "70                         1.72                               1.34\n",
       "...                         ...                                ...\n",
       "3971                       0.76                               0.00\n",
       "3976                       1.31                               1.06\n",
       "3977                       0.44                               0.00\n",
       "3982                       1.39                               0.79\n",
       "3986                       1.40                               0.30\n",
       "\n",
       "[403 rows x 2 columns]"
      ]
     },
     "execution_count": 23,
     "metadata": {},
     "output_type": "execute_result"
    }
   ],
   "source": [
    "# те, кто пришел в тот месяц, по которому у нас даннные, и попал в отток \n",
    "df[(df['lifetime']==0) & (df['churn']==1)][['avg_class_frequency_total', 'avg_class_frequency_current_month']]"
   ]
  },
  {
   "cell_type": "markdown",
   "metadata": {},
   "source": [
    "*Случайный лес*"
   ]
  },
  {
   "cell_type": "code",
   "execution_count": 24,
   "metadata": {},
   "outputs": [],
   "source": [
    "# случайный лес\n",
    "model_rf = RandomForestClassifier(random_state=0, n_estimators=100) \n",
    "model_rf.fit(X_train_st, y_train)  # обучим модель\n",
    "y_pred_rf = model_rf.predict(X_test_st) \n",
    "probabilities_rf = model_rf.predict_proba(X_test_st)[:,1]"
   ]
  },
  {
   "cell_type": "markdown",
   "metadata": {},
   "source": [
    "Также посмотрим на важность признаков, согласно модели случайного леса."
   ]
  },
  {
   "cell_type": "code",
   "execution_count": 25,
   "metadata": {},
   "outputs": [
    {
     "data": {
      "text/html": [
       "<div>\n",
       "<style scoped>\n",
       "    .dataframe tbody tr th:only-of-type {\n",
       "        vertical-align: middle;\n",
       "    }\n",
       "\n",
       "    .dataframe tbody tr th {\n",
       "        vertical-align: top;\n",
       "    }\n",
       "\n",
       "    .dataframe thead th {\n",
       "        text-align: right;\n",
       "    }\n",
       "</style>\n",
       "<table border=\"1\" class=\"dataframe\">\n",
       "  <thead>\n",
       "    <tr style=\"text-align: right;\">\n",
       "      <th></th>\n",
       "      <th>feature</th>\n",
       "      <th>coeff</th>\n",
       "      <th>titles</th>\n",
       "    </tr>\n",
       "  </thead>\n",
       "  <tbody>\n",
       "    <tr>\n",
       "      <td>10</td>\n",
       "      <td>lifetime</td>\n",
       "      <td>0.28</td>\n",
       "      <td>время с момента первого обращения в фитнес-цен...</td>\n",
       "    </tr>\n",
       "    <tr>\n",
       "      <td>12</td>\n",
       "      <td>avg_class_frequency_current_month</td>\n",
       "      <td>0.18</td>\n",
       "      <td>средняя частота посещений в неделю за предыду...</td>\n",
       "    </tr>\n",
       "    <tr>\n",
       "      <td>11</td>\n",
       "      <td>avg_class_frequency_total</td>\n",
       "      <td>0.13</td>\n",
       "      <td>средняя частота посещений в неделю за все вре...</td>\n",
       "    </tr>\n",
       "    <tr>\n",
       "      <td>7</td>\n",
       "      <td>age</td>\n",
       "      <td>0.12</td>\n",
       "      <td>возраст</td>\n",
       "    </tr>\n",
       "    <tr>\n",
       "      <td>8</td>\n",
       "      <td>avg_additional_charges_total</td>\n",
       "      <td>0.09</td>\n",
       "      <td>суммарная выручка от других услуг фитнес-центр...</td>\n",
       "    </tr>\n",
       "    <tr>\n",
       "      <td>9</td>\n",
       "      <td>month_to_end_contract</td>\n",
       "      <td>0.07</td>\n",
       "      <td>срок до окончания текущего действующего абонем...</td>\n",
       "    </tr>\n",
       "    <tr>\n",
       "      <td>5</td>\n",
       "      <td>contract_period</td>\n",
       "      <td>0.07</td>\n",
       "      <td>длительность текущего действующего абонемента...</td>\n",
       "    </tr>\n",
       "    <tr>\n",
       "      <td>6</td>\n",
       "      <td>group_visits</td>\n",
       "      <td>0.02</td>\n",
       "      <td>факт посещения групповых занятий</td>\n",
       "    </tr>\n",
       "    <tr>\n",
       "      <td>0</td>\n",
       "      <td>gender</td>\n",
       "      <td>0.01</td>\n",
       "      <td>пол</td>\n",
       "    </tr>\n",
       "    <tr>\n",
       "      <td>2</td>\n",
       "      <td>partner</td>\n",
       "      <td>0.01</td>\n",
       "      <td>сотрудник компании-партнёра</td>\n",
       "    </tr>\n",
       "    <tr>\n",
       "      <td>3</td>\n",
       "      <td>promo_friends</td>\n",
       "      <td>0.01</td>\n",
       "      <td>факт первоначальной записи в рамках акции «при...</td>\n",
       "    </tr>\n",
       "    <tr>\n",
       "      <td>1</td>\n",
       "      <td>near_location</td>\n",
       "      <td>0.01</td>\n",
       "      <td>проживание или работа в районе, где находится ...</td>\n",
       "    </tr>\n",
       "    <tr>\n",
       "      <td>4</td>\n",
       "      <td>phone</td>\n",
       "      <td>0.01</td>\n",
       "      <td>наличие контактного телефона</td>\n",
       "    </tr>\n",
       "  </tbody>\n",
       "</table>\n",
       "</div>"
      ],
      "text/plain": [
       "                              feature  coeff  \\\n",
       "10                           lifetime   0.28   \n",
       "12  avg_class_frequency_current_month   0.18   \n",
       "11          avg_class_frequency_total   0.13   \n",
       "7                                 age   0.12   \n",
       "8        avg_additional_charges_total   0.09   \n",
       "9               month_to_end_contract   0.07   \n",
       "5                     contract_period   0.07   \n",
       "6                        group_visits   0.02   \n",
       "0                              gender   0.01   \n",
       "2                             partner   0.01   \n",
       "3                       promo_friends   0.01   \n",
       "1                       near_location   0.01   \n",
       "4                               phone   0.01   \n",
       "\n",
       "                                               titles  \n",
       "10  время с момента первого обращения в фитнес-цен...  \n",
       "12   средняя частота посещений в неделю за предыду...  \n",
       "11   средняя частота посещений в неделю за все вре...  \n",
       "7                                             возраст  \n",
       "8   суммарная выручка от других услуг фитнес-центр...  \n",
       "9   срок до окончания текущего действующего абонем...  \n",
       "5    длительность текущего действующего абонемента...  \n",
       "6                    факт посещения групповых занятий  \n",
       "0                                                 пол  \n",
       "2                         сотрудник компании-партнёра  \n",
       "3   факт первоначальной записи в рамках акции «при...  \n",
       "1   проживание или работа в районе, где находится ...  \n",
       "4                        наличие контактного телефона  "
      ]
     },
     "execution_count": 25,
     "metadata": {},
     "output_type": "execute_result"
    }
   ],
   "source": [
    "model_rf.feature_importances_ \n",
    "# возвращает массив, в котором каждый индекс соответствует предполагаемой важности признака в обучающем наборе\n",
    "coefficients_rf = pd.concat([pd.DataFrame(X.columns), pd.DataFrame(np.transpose(model_rf.feature_importances_))], axis = 1)\n",
    "coefficients_rf.columns = ['feature', 'coeff']\n",
    "coefficients_rf.merge(titles_df, how='left', on='feature').sort_values(by='coeff', ascending=False)"
   ]
  },
  {
   "cell_type": "markdown",
   "metadata": {},
   "source": [
    "Для модели случайного леса, наиболее важными признаком оказались время с момента первого обращения в фитнес-центр, затем средняя частота посещений в неделю за предыдущий месяц, средняя частота посещений в неделю за все время и возраст."
   ]
  },
  {
   "cell_type": "markdown",
   "metadata": {},
   "source": [
    "#### Оцените метрики accuracy, precision и recall для обеих моделей на валидационной выборке. Сравните по ним модели. Какая модель показала себя лучше на основании метрик?"
   ]
  },
  {
   "cell_type": "code",
   "execution_count": 26,
   "metadata": {},
   "outputs": [
    {
     "name": "stdout",
     "output_type": "stream",
     "text": [
      "Логистическая регрессия\n",
      "Accuracy: 0.92\n",
      "Precision: 0.85\n",
      "Recall: 0.83\n",
      "F1: 0.84\n",
      "ROC_AUC: 0.97\n"
     ]
    }
   ],
   "source": [
    "print('Логистическая регрессия')\n",
    "print('Accuracy: {:.2f}'.format(accuracy_score(y_test, y_pred))) # Доля правильных ответов\n",
    "print('Precision: {:.2f}'.format(precision_score(y_test, y_pred)))\n",
    "print('Recall: {:.2f}'.format(recall_score(y_test, y_pred)))\n",
    "print('F1: {:.2f}'.format(f1_score(y_test, y_pred)))\n",
    "print('ROC_AUC: {:.2f}'.format(roc_auc_score(y_test, probabilities)))"
   ]
  },
  {
   "cell_type": "code",
   "execution_count": 27,
   "metadata": {},
   "outputs": [
    {
     "name": "stdout",
     "output_type": "stream",
     "text": [
      "Случайный лес\n",
      "Accuracy: 0.92\n",
      "Precision: 0.84\n",
      "Recall: 0.81\n",
      "F1: 0.83\n",
      "ROC_AUC: 0.97\n"
     ]
    }
   ],
   "source": [
    "print('Случайный лес')\n",
    "print('Accuracy: {:.2f}'.format(accuracy_score(y_test, y_pred_rf))) # Доля правильных ответов\n",
    "print('Precision: {:.2f}'.format(precision_score(y_test, y_pred_rf)))\n",
    "print('Recall: {:.2f}'.format(recall_score(y_test, y_pred_rf)))\n",
    "print('F1: {:.2f}'.format(f1_score(y_test, y_pred_rf)))\n",
    "print('ROC_AUC: {:.2f}'.format(roc_auc_score(y_test, probabilities_rf)))"
   ]
  },
  {
   "cell_type": "markdown",
   "metadata": {},
   "source": [
    "Accuracy - доля правильных ответов у обеих моделей 0.92, однако заметим, что в нашем случае не соблюдалось условие баланса классов — когда объектов каждого класса примерно поровну,  а значит не стоит ориентироваться на данную метрику.\n",
    "\n",
    "precision - т.е. какая доля прогнозов относительно \"1\" класса верна у логистической регрессии 0.85, на 1% больше чем у Случайного леса. Здесь мы смотрим на долю правильных ответов только среди целевого класса. Нам особенно важна эта метрика, если каждое срабатывание модели — факт отнесения к классу \"1\" — стоит ресурсов, т.е. если мы будем тратить деньги на каждого, кого подскажем клиента, которые попадет в отток (например, подарив существенную скидку на месяц абонемента). Если же мы будем рассылать письма с полезной информацией о новых занятиях, например, то послать их большему числу людей ничего не стоит.\n",
    "\n",
    "recall показывает, сколько реальных объектов \"1\" класса мы смогли обнаружить с помощью модели. У нашей логистической регрессии recall составляет 0.83, на 2% больше чем у Случайного леса. В нашем случае эта метрика важна. Лучше обнаружить максимум тех, кто перестанет пользоваться фитнесом, а лишнее срабатывание скорее всего не будет стоить больших ресурсов."
   ]
  },
  {
   "cell_type": "markdown",
   "metadata": {},
   "source": [
    "Так как precision и recall направлены на избежание противоположных рисков, посмотрим метрику, учитывающую баланс между метриками. Это F1-score:  у логистической регрессии он снова на 1% выше: 0.84.\n",
    "\n",
    "\n",
    "Посмотрим также oc_auc, или площадь под кривой ошибок — AUC-ROC. У обеих моделей она одинакова: 0.97. Эта метрика подходит для несбалансированных классов и показывает, насколько хорошо будут выделяться реальные классы объектов, если отсортировать объекты по вероятности, которую спрогнозировала модель.\n",
    "\n",
    "Мы можем сказать, что обе модели ведут себя очень адекватно, но логистическая регрессия немного лучше по Precision и\n",
    "Recall."
   ]
  },
  {
   "cell_type": "markdown",
   "metadata": {},
   "source": [
    "## Шаг 4. Сделайте кластеризацию клиентов"
   ]
  },
  {
   "cell_type": "markdown",
   "metadata": {},
   "source": [
    "Отложите в сторону столбец с оттоком и проведите кластеризацию объектов (клиентов):\n",
    "- Стандартизируйте данные."
   ]
  },
  {
   "cell_type": "code",
   "execution_count": 28,
   "metadata": {},
   "outputs": [],
   "source": [
    "# стандартизация данных перед работой с алгоритмами\n",
    "X_sc = sc.fit_transform(X)"
   ]
  },
  {
   "cell_type": "markdown",
   "metadata": {},
   "source": [
    "- Постройте матрицу расстояний функцией linkage() на стандартизованной матрице признаков и нарисуйте дендрограмму. Внимание: отрисовка дендрограммы может занять время! На основании полученного графика предположите, какое количество кластеров можно выделить."
   ]
  },
  {
   "cell_type": "code",
   "execution_count": 29,
   "metadata": {},
   "outputs": [
    {
     "data": {
      "image/png": "[encoded data removed]",
      "text/plain": [
       "<Figure size 1080x720 with 1 Axes>"
      ]
     },
     "metadata": {
      "needs_background": "light"
     },
     "output_type": "display_data"
    }
   ],
   "source": [
    "linked = linkage(X_sc, method = 'ward')\n",
    "plt.figure(figsize=(15, 10))  \n",
    "dendrogram(linked, orientation='top')\n",
    "plt.show()"
   ]
  },
  {
   "cell_type": "markdown",
   "metadata": {},
   "source": [
    "На основании полученного графика мы можем выделить четыре кластера, поэтому кластеризацию на основании алгоритма K-Means мы будем осуществлять именно для 4-х кластеров."
   ]
  },
  {
   "cell_type": "markdown",
   "metadata": {},
   "source": [
    "- Обучите модель кластеризации на основании алгоритма K-Means и спрогнозируйте кластеры клиентов. Договоримся за число кластеров принять n=5, чтобы ваши результаты можно было сравнивать с результатами остальных студентов. Однако, конечно, в жизни никто не скажет вам правильный ответ, и решение остаётся за вами (на основании изучения графика из предыдущего пункта)."
   ]
  },
  {
   "cell_type": "code",
   "execution_count": 30,
   "metadata": {},
   "outputs": [
    {
     "name": "stdout",
     "output_type": "stream",
     "text": [
      "Silhouette_score: 0.13\n"
     ]
    }
   ],
   "source": [
    "# зададим модель k_means с количеством кластеров 4\n",
    "km = KMeans(n_clusters = 4, random_state=1)\n",
    "# спрогнозируем кластеры для наблюдений (алгоритм присваивает им номера от 0 до 2)\n",
    "labels = km.fit_predict(X_sc)\n",
    "\n",
    "# сохраним метки кластера в поле нашего датасета\n",
    "df['cluster'] = labels\n",
    "\n",
    "# посчитаем метрику силуэта для нашей кластеризации\n",
    "print('Silhouette_score: {:.2f}'.format(silhouette_score(X_sc, labels)))"
   ]
  },
  {
   "cell_type": "markdown",
   "metadata": {},
   "source": [
    "Заметим, что значение метрики силуэта принимает значения от -1 до 1. Чем ближе к 1, тем качественнее кластеризация. В нашем случае она 0.13, что нельзя назвать высококачественной кластеризацией."
   ]
  },
  {
   "cell_type": "markdown",
   "metadata": {},
   "source": [
    "- Посмотрите на средние значения признаков для кластеров. Можно ли сразу что-то заметить?\n"
   ]
  },
  {
   "cell_type": "code",
   "execution_count": 31,
   "metadata": {},
   "outputs": [],
   "source": [
    "df_features_cluster = df.groupby('cluster')[df.drop('cluster', axis = 1).columns].agg(\n",
    "    ['mean']).sort_values(by=('churn', 'mean'))"
   ]
  },
  {
   "cell_type": "code",
   "execution_count": 32,
   "metadata": {},
   "outputs": [
    {
     "data": {
      "text/html": [
       "<style  type=\"text/css\" >\n",
       "    #T_ab4fc79a_361f_11ec_bf98_02420a39eb48row0_col0 {\n",
       "            background-color:  #a1cbe2;\n",
       "            color:  #000000;\n",
       "        }    #T_ab4fc79a_361f_11ec_bf98_02420a39eb48row0_col1 {\n",
       "            background-color:  #083a7a;\n",
       "            color:  #f1f1f1;\n",
       "        }    #T_ab4fc79a_361f_11ec_bf98_02420a39eb48row0_col2 {\n",
       "            background-color:  #08306b;\n",
       "            color:  #f1f1f1;\n",
       "        }    #T_ab4fc79a_361f_11ec_bf98_02420a39eb48row0_col3 {\n",
       "            background-color:  #08306b;\n",
       "            color:  #f1f1f1;\n",
       "        }    #T_ab4fc79a_361f_11ec_bf98_02420a39eb48row0_col4 {\n",
       "            background-color:  #f7fbff;\n",
       "            color:  #000000;\n",
       "        }    #T_ab4fc79a_361f_11ec_bf98_02420a39eb48row0_col5 {\n",
       "            background-color:  #08306b;\n",
       "            color:  #f1f1f1;\n",
       "        }    #T_ab4fc79a_361f_11ec_bf98_02420a39eb48row0_col6 {\n",
       "            background-color:  #08306b;\n",
       "            color:  #f1f1f1;\n",
       "        }    #T_ab4fc79a_361f_11ec_bf98_02420a39eb48row0_col7 {\n",
       "            background-color:  #084285;\n",
       "            color:  #f1f1f1;\n",
       "        }    #T_ab4fc79a_361f_11ec_bf98_02420a39eb48row0_col8 {\n",
       "            background-color:  #08306b;\n",
       "            color:  #f1f1f1;\n",
       "        }    #T_ab4fc79a_361f_11ec_bf98_02420a39eb48row0_col9 {\n",
       "            background-color:  #08306b;\n",
       "            color:  #f1f1f1;\n",
       "        }    #T_ab4fc79a_361f_11ec_bf98_02420a39eb48row0_col10 {\n",
       "            background-color:  #084b93;\n",
       "            color:  #f1f1f1;\n",
       "        }    #T_ab4fc79a_361f_11ec_bf98_02420a39eb48row0_col11 {\n",
       "            background-color:  #7db8da;\n",
       "            color:  #000000;\n",
       "        }    #T_ab4fc79a_361f_11ec_bf98_02420a39eb48row0_col12 {\n",
       "            background-color:  #64a9d3;\n",
       "            color:  #000000;\n",
       "        }    #T_ab4fc79a_361f_11ec_bf98_02420a39eb48row0_col13 {\n",
       "            background-color:  #f7fbff;\n",
       "            color:  #000000;\n",
       "        }    #T_ab4fc79a_361f_11ec_bf98_02420a39eb48row1_col0 {\n",
       "            background-color:  #08306b;\n",
       "            color:  #f1f1f1;\n",
       "        }    #T_ab4fc79a_361f_11ec_bf98_02420a39eb48row1_col1 {\n",
       "            background-color:  #083471;\n",
       "            color:  #f1f1f1;\n",
       "        }    #T_ab4fc79a_361f_11ec_bf98_02420a39eb48row1_col2 {\n",
       "            background-color:  #f7fbff;\n",
       "            color:  #000000;\n",
       "        }    #T_ab4fc79a_361f_11ec_bf98_02420a39eb48row1_col3 {\n",
       "            background-color:  #a8cee4;\n",
       "            color:  #000000;\n",
       "        }    #T_ab4fc79a_361f_11ec_bf98_02420a39eb48row1_col4 {\n",
       "            background-color:  #64a9d3;\n",
       "            color:  #000000;\n",
       "        }    #T_ab4fc79a_361f_11ec_bf98_02420a39eb48row1_col5 {\n",
       "            background-color:  #e7f1fa;\n",
       "            color:  #000000;\n",
       "        }    #T_ab4fc79a_361f_11ec_bf98_02420a39eb48row1_col6 {\n",
       "            background-color:  #1e6db2;\n",
       "            color:  #f1f1f1;\n",
       "        }    #T_ab4fc79a_361f_11ec_bf98_02420a39eb48row1_col7 {\n",
       "            background-color:  #08306b;\n",
       "            color:  #f1f1f1;\n",
       "        }    #T_ab4fc79a_361f_11ec_bf98_02420a39eb48row1_col8 {\n",
       "            background-color:  #08488e;\n",
       "            color:  #f1f1f1;\n",
       "        }    #T_ab4fc79a_361f_11ec_bf98_02420a39eb48row1_col9 {\n",
       "            background-color:  #e8f1fa;\n",
       "            color:  #000000;\n",
       "        }    #T_ab4fc79a_361f_11ec_bf98_02420a39eb48row1_col10 {\n",
       "            background-color:  #08306b;\n",
       "            color:  #f1f1f1;\n",
       "        }    #T_ab4fc79a_361f_11ec_bf98_02420a39eb48row1_col11 {\n",
       "            background-color:  #08306b;\n",
       "            color:  #f1f1f1;\n",
       "        }    #T_ab4fc79a_361f_11ec_bf98_02420a39eb48row1_col12 {\n",
       "            background-color:  #08306b;\n",
       "            color:  #f1f1f1;\n",
       "        }    #T_ab4fc79a_361f_11ec_bf98_02420a39eb48row1_col13 {\n",
       "            background-color:  #e6f0f9;\n",
       "            color:  #000000;\n",
       "        }    #T_ab4fc79a_361f_11ec_bf98_02420a39eb48row2_col0 {\n",
       "            background-color:  #d2e3f3;\n",
       "            color:  #000000;\n",
       "        }    #T_ab4fc79a_361f_11ec_bf98_02420a39eb48row2_col1 {\n",
       "            background-color:  #f7fbff;\n",
       "            color:  #000000;\n",
       "        }    #T_ab4fc79a_361f_11ec_bf98_02420a39eb48row2_col2 {\n",
       "            background-color:  #c3daee;\n",
       "            color:  #000000;\n",
       "        }    #T_ab4fc79a_361f_11ec_bf98_02420a39eb48row2_col3 {\n",
       "            background-color:  #f7fbff;\n",
       "            color:  #000000;\n",
       "        }    #T_ab4fc79a_361f_11ec_bf98_02420a39eb48row2_col4 {\n",
       "            background-color:  #08306b;\n",
       "            color:  #f1f1f1;\n",
       "        }    #T_ab4fc79a_361f_11ec_bf98_02420a39eb48row2_col5 {\n",
       "            background-color:  #f0f6fd;\n",
       "            color:  #000000;\n",
       "        }    #T_ab4fc79a_361f_11ec_bf98_02420a39eb48row2_col6 {\n",
       "            background-color:  #f7fbff;\n",
       "            color:  #000000;\n",
       "        }    #T_ab4fc79a_361f_11ec_bf98_02420a39eb48row2_col7 {\n",
       "            background-color:  #d5e5f4;\n",
       "            color:  #000000;\n",
       "        }    #T_ab4fc79a_361f_11ec_bf98_02420a39eb48row2_col8 {\n",
       "            background-color:  #e2edf8;\n",
       "            color:  #000000;\n",
       "        }    #T_ab4fc79a_361f_11ec_bf98_02420a39eb48row2_col9 {\n",
       "            background-color:  #f0f6fd;\n",
       "            color:  #000000;\n",
       "        }    #T_ab4fc79a_361f_11ec_bf98_02420a39eb48row2_col10 {\n",
       "            background-color:  #d7e6f5;\n",
       "            color:  #000000;\n",
       "        }    #T_ab4fc79a_361f_11ec_bf98_02420a39eb48row2_col11 {\n",
       "            background-color:  #bfd8ed;\n",
       "            color:  #000000;\n",
       "        }    #T_ab4fc79a_361f_11ec_bf98_02420a39eb48row2_col12 {\n",
       "            background-color:  #c2d9ee;\n",
       "            color:  #000000;\n",
       "        }    #T_ab4fc79a_361f_11ec_bf98_02420a39eb48row2_col13 {\n",
       "            background-color:  #0e58a2;\n",
       "            color:  #f1f1f1;\n",
       "        }    #T_ab4fc79a_361f_11ec_bf98_02420a39eb48row3_col0 {\n",
       "            background-color:  #f7fbff;\n",
       "            color:  #000000;\n",
       "        }    #T_ab4fc79a_361f_11ec_bf98_02420a39eb48row3_col1 {\n",
       "            background-color:  #08306b;\n",
       "            color:  #f1f1f1;\n",
       "        }    #T_ab4fc79a_361f_11ec_bf98_02420a39eb48row3_col2 {\n",
       "            background-color:  #f5fafe;\n",
       "            color:  #000000;\n",
       "        }    #T_ab4fc79a_361f_11ec_bf98_02420a39eb48row3_col3 {\n",
       "            background-color:  #afd1e7;\n",
       "            color:  #000000;\n",
       "        }    #T_ab4fc79a_361f_11ec_bf98_02420a39eb48row3_col4 {\n",
       "            background-color:  #81badb;\n",
       "            color:  #000000;\n",
       "        }    #T_ab4fc79a_361f_11ec_bf98_02420a39eb48row3_col5 {\n",
       "            background-color:  #f7fbff;\n",
       "            color:  #000000;\n",
       "        }    #T_ab4fc79a_361f_11ec_bf98_02420a39eb48row3_col6 {\n",
       "            background-color:  #9dcae1;\n",
       "            color:  #000000;\n",
       "        }    #T_ab4fc79a_361f_11ec_bf98_02420a39eb48row3_col7 {\n",
       "            background-color:  #f7fbff;\n",
       "            color:  #000000;\n",
       "        }    #T_ab4fc79a_361f_11ec_bf98_02420a39eb48row3_col8 {\n",
       "            background-color:  #f7fbff;\n",
       "            color:  #000000;\n",
       "        }    #T_ab4fc79a_361f_11ec_bf98_02420a39eb48row3_col9 {\n",
       "            background-color:  #f7fbff;\n",
       "            color:  #000000;\n",
       "        }    #T_ab4fc79a_361f_11ec_bf98_02420a39eb48row3_col10 {\n",
       "            background-color:  #f7fbff;\n",
       "            color:  #000000;\n",
       "        }    #T_ab4fc79a_361f_11ec_bf98_02420a39eb48row3_col11 {\n",
       "            background-color:  #f7fbff;\n",
       "            color:  #000000;\n",
       "        }    #T_ab4fc79a_361f_11ec_bf98_02420a39eb48row3_col12 {\n",
       "            background-color:  #f7fbff;\n",
       "            color:  #000000;\n",
       "        }    #T_ab4fc79a_361f_11ec_bf98_02420a39eb48row3_col13 {\n",
       "            background-color:  #08306b;\n",
       "            color:  #f1f1f1;\n",
       "        }</style><table id=\"T_ab4fc79a_361f_11ec_bf98_02420a39eb48\" ><thead>    <tr>        <th class=\"blank level0\" ></th>        <th class=\"col_heading level0 col0\" >gender</th>        <th class=\"col_heading level0 col1\" >near_location</th>        <th class=\"col_heading level0 col2\" >partner</th>        <th class=\"col_heading level0 col3\" >promo_friends</th>        <th class=\"col_heading level0 col4\" >phone</th>        <th class=\"col_heading level0 col5\" >contract_period</th>        <th class=\"col_heading level0 col6\" >group_visits</th>        <th class=\"col_heading level0 col7\" >age</th>        <th class=\"col_heading level0 col8\" >avg_additional_charges_total</th>        <th class=\"col_heading level0 col9\" >month_to_end_contract</th>        <th class=\"col_heading level0 col10\" >lifetime</th>        <th class=\"col_heading level0 col11\" >avg_class_frequency_total</th>        <th class=\"col_heading level0 col12\" >avg_class_frequency_current_month</th>        <th class=\"col_heading level0 col13\" >churn</th>    </tr>    <tr>        <th class=\"blank level1\" ></th>        <th class=\"col_heading level1 col0\" >mean</th>        <th class=\"col_heading level1 col1\" >mean</th>        <th class=\"col_heading level1 col2\" >mean</th>        <th class=\"col_heading level1 col3\" >mean</th>        <th class=\"col_heading level1 col4\" >mean</th>        <th class=\"col_heading level1 col5\" >mean</th>        <th class=\"col_heading level1 col6\" >mean</th>        <th class=\"col_heading level1 col7\" >mean</th>        <th class=\"col_heading level1 col8\" >mean</th>        <th class=\"col_heading level1 col9\" >mean</th>        <th class=\"col_heading level1 col10\" >mean</th>        <th class=\"col_heading level1 col11\" >mean</th>        <th class=\"col_heading level1 col12\" >mean</th>        <th class=\"col_heading level1 col13\" >mean</th>    </tr>    <tr>        <th class=\"index_name level0\" >cluster</th>        <th class=\"blank\" ></th>        <th class=\"blank\" ></th>        <th class=\"blank\" ></th>        <th class=\"blank\" ></th>        <th class=\"blank\" ></th>        <th class=\"blank\" ></th>        <th class=\"blank\" ></th>        <th class=\"blank\" ></th>        <th class=\"blank\" ></th>        <th class=\"blank\" ></th>        <th class=\"blank\" ></th>        <th class=\"blank\" ></th>        <th class=\"blank\" ></th>        <th class=\"blank\" ></th>    </tr></thead><tbody>\n",
       "                <tr>\n",
       "                        <th id=\"T_ab4fc79a_361f_11ec_bf98_02420a39eb48level0_row0\" class=\"row_heading level0 row0\" >2</th>\n",
       "                        <td id=\"T_ab4fc79a_361f_11ec_bf98_02420a39eb48row0_col0\" class=\"data row0 col0\" >0.51</td>\n",
       "                        <td id=\"T_ab4fc79a_361f_11ec_bf98_02420a39eb48row0_col1\" class=\"data row0 col1\" >0.96</td>\n",
       "                        <td id=\"T_ab4fc79a_361f_11ec_bf98_02420a39eb48row0_col2\" class=\"data row0 col2\" >0.78</td>\n",
       "                        <td id=\"T_ab4fc79a_361f_11ec_bf98_02420a39eb48row0_col3\" class=\"data row0 col3\" >0.57</td>\n",
       "                        <td id=\"T_ab4fc79a_361f_11ec_bf98_02420a39eb48row0_col4\" class=\"data row0 col4\" >0.89</td>\n",
       "                        <td id=\"T_ab4fc79a_361f_11ec_bf98_02420a39eb48row0_col5\" class=\"data row0 col5\" >11</td>\n",
       "                        <td id=\"T_ab4fc79a_361f_11ec_bf98_02420a39eb48row0_col6\" class=\"data row0 col6\" >0.55</td>\n",
       "                        <td id=\"T_ab4fc79a_361f_11ec_bf98_02420a39eb48row0_col7\" class=\"data row0 col7\" >30</td>\n",
       "                        <td id=\"T_ab4fc79a_361f_11ec_bf98_02420a39eb48row0_col8\" class=\"data row0 col8\" >1.6e+02</td>\n",
       "                        <td id=\"T_ab4fc79a_361f_11ec_bf98_02420a39eb48row0_col9\" class=\"data row0 col9\" >10</td>\n",
       "                        <td id=\"T_ab4fc79a_361f_11ec_bf98_02420a39eb48row0_col10\" class=\"data row0 col10\" >4.7</td>\n",
       "                        <td id=\"T_ab4fc79a_361f_11ec_bf98_02420a39eb48row0_col11\" class=\"data row0 col11\" >2</td>\n",
       "                        <td id=\"T_ab4fc79a_361f_11ec_bf98_02420a39eb48row0_col12\" class=\"data row0 col12\" >2</td>\n",
       "                        <td id=\"T_ab4fc79a_361f_11ec_bf98_02420a39eb48row0_col13\" class=\"data row0 col13\" >0.028</td>\n",
       "            </tr>\n",
       "            <tr>\n",
       "                        <th id=\"T_ab4fc79a_361f_11ec_bf98_02420a39eb48level0_row1\" class=\"row_heading level0 row1\" >0</th>\n",
       "                        <td id=\"T_ab4fc79a_361f_11ec_bf98_02420a39eb48row1_col0\" class=\"data row1 col0\" >0.56</td>\n",
       "                        <td id=\"T_ab4fc79a_361f_11ec_bf98_02420a39eb48row1_col1\" class=\"data row1 col1\" >0.98</td>\n",
       "                        <td id=\"T_ab4fc79a_361f_11ec_bf98_02420a39eb48row1_col2\" class=\"data row1 col2\" >0.35</td>\n",
       "                        <td id=\"T_ab4fc79a_361f_11ec_bf98_02420a39eb48row1_col3\" class=\"data row1 col3\" >0.25</td>\n",
       "                        <td id=\"T_ab4fc79a_361f_11ec_bf98_02420a39eb48row1_col4\" class=\"data row1 col4\" >0.91</td>\n",
       "                        <td id=\"T_ab4fc79a_361f_11ec_bf98_02420a39eb48row1_col5\" class=\"data row1 col5\" >2.7</td>\n",
       "                        <td id=\"T_ab4fc79a_361f_11ec_bf98_02420a39eb48row1_col6\" class=\"data row1 col6\" >0.47</td>\n",
       "                        <td id=\"T_ab4fc79a_361f_11ec_bf98_02420a39eb48row1_col7\" class=\"data row1 col7\" >30</td>\n",
       "                        <td id=\"T_ab4fc79a_361f_11ec_bf98_02420a39eb48row1_col8\" class=\"data row1 col8\" >1.6e+02</td>\n",
       "                        <td id=\"T_ab4fc79a_361f_11ec_bf98_02420a39eb48row1_col9\" class=\"data row1 col9\" >2.5</td>\n",
       "                        <td id=\"T_ab4fc79a_361f_11ec_bf98_02420a39eb48row1_col10\" class=\"data row1 col10\" >5</td>\n",
       "                        <td id=\"T_ab4fc79a_361f_11ec_bf98_02420a39eb48row1_col11\" class=\"data row1 col11\" >2.8</td>\n",
       "                        <td id=\"T_ab4fc79a_361f_11ec_bf98_02420a39eb48row1_col12\" class=\"data row1 col12\" >2.8</td>\n",
       "                        <td id=\"T_ab4fc79a_361f_11ec_bf98_02420a39eb48row1_col13\" class=\"data row1 col13\" >0.072</td>\n",
       "            </tr>\n",
       "            <tr>\n",
       "                        <th id=\"T_ab4fc79a_361f_11ec_bf98_02420a39eb48level0_row2\" class=\"row_heading level0 row2\" >3</th>\n",
       "                        <td id=\"T_ab4fc79a_361f_11ec_bf98_02420a39eb48row2_col0\" class=\"data row2 col0\" >0.5</td>\n",
       "                        <td id=\"T_ab4fc79a_361f_11ec_bf98_02420a39eb48row2_col1\" class=\"data row2 col1\" >0</td>\n",
       "                        <td id=\"T_ab4fc79a_361f_11ec_bf98_02420a39eb48row2_col2\" class=\"data row2 col2\" >0.46</td>\n",
       "                        <td id=\"T_ab4fc79a_361f_11ec_bf98_02420a39eb48row2_col3\" class=\"data row2 col3\" >0.076</td>\n",
       "                        <td id=\"T_ab4fc79a_361f_11ec_bf98_02420a39eb48row2_col4\" class=\"data row2 col4\" >0.92</td>\n",
       "                        <td id=\"T_ab4fc79a_361f_11ec_bf98_02420a39eb48row2_col5\" class=\"data row2 col5\" >2.3</td>\n",
       "                        <td id=\"T_ab4fc79a_361f_11ec_bf98_02420a39eb48row2_col6\" class=\"data row2 col6\" >0.22</td>\n",
       "                        <td id=\"T_ab4fc79a_361f_11ec_bf98_02420a39eb48row2_col7\" class=\"data row2 col7\" >29</td>\n",
       "                        <td id=\"T_ab4fc79a_361f_11ec_bf98_02420a39eb48row2_col8\" class=\"data row2 col8\" >1.3e+02</td>\n",
       "                        <td id=\"T_ab4fc79a_361f_11ec_bf98_02420a39eb48row2_col9\" class=\"data row2 col9\" >2.2</td>\n",
       "                        <td id=\"T_ab4fc79a_361f_11ec_bf98_02420a39eb48row2_col10\" class=\"data row2 col10\" >2.8</td>\n",
       "                        <td id=\"T_ab4fc79a_361f_11ec_bf98_02420a39eb48row2_col11\" class=\"data row2 col11\" >1.7</td>\n",
       "                        <td id=\"T_ab4fc79a_361f_11ec_bf98_02420a39eb48row2_col12\" class=\"data row2 col12\" >1.5</td>\n",
       "                        <td id=\"T_ab4fc79a_361f_11ec_bf98_02420a39eb48row2_col13\" class=\"data row2 col13\" >0.44</td>\n",
       "            </tr>\n",
       "            <tr>\n",
       "                        <th id=\"T_ab4fc79a_361f_11ec_bf98_02420a39eb48level0_row3\" class=\"row_heading level0 row3\" >1</th>\n",
       "                        <td id=\"T_ab4fc79a_361f_11ec_bf98_02420a39eb48row3_col0\" class=\"data row3 col0\" >0.48</td>\n",
       "                        <td id=\"T_ab4fc79a_361f_11ec_bf98_02420a39eb48row3_col1\" class=\"data row3 col1\" >1</td>\n",
       "                        <td id=\"T_ab4fc79a_361f_11ec_bf98_02420a39eb48row3_col2\" class=\"data row3 col2\" >0.35</td>\n",
       "                        <td id=\"T_ab4fc79a_361f_11ec_bf98_02420a39eb48row3_col3\" class=\"data row3 col3\" >0.23</td>\n",
       "                        <td id=\"T_ab4fc79a_361f_11ec_bf98_02420a39eb48row3_col4\" class=\"data row3 col4\" >0.9</td>\n",
       "                        <td id=\"T_ab4fc79a_361f_11ec_bf98_02420a39eb48row3_col5\" class=\"data row3 col5\" >2</td>\n",
       "                        <td id=\"T_ab4fc79a_361f_11ec_bf98_02420a39eb48row3_col6\" class=\"data row3 col6\" >0.34</td>\n",
       "                        <td id=\"T_ab4fc79a_361f_11ec_bf98_02420a39eb48row3_col7\" class=\"data row3 col7\" >28</td>\n",
       "                        <td id=\"T_ab4fc79a_361f_11ec_bf98_02420a39eb48row3_col8\" class=\"data row3 col8\" >1.3e+02</td>\n",
       "                        <td id=\"T_ab4fc79a_361f_11ec_bf98_02420a39eb48row3_col9\" class=\"data row3 col9\" >1.9</td>\n",
       "                        <td id=\"T_ab4fc79a_361f_11ec_bf98_02420a39eb48row3_col10\" class=\"data row3 col10\" >2.4</td>\n",
       "                        <td id=\"T_ab4fc79a_361f_11ec_bf98_02420a39eb48row3_col11\" class=\"data row3 col11\" >1.2</td>\n",
       "                        <td id=\"T_ab4fc79a_361f_11ec_bf98_02420a39eb48row3_col12\" class=\"data row3 col12\" >1</td>\n",
       "                        <td id=\"T_ab4fc79a_361f_11ec_bf98_02420a39eb48row3_col13\" class=\"data row3 col13\" >0.52</td>\n",
       "            </tr>\n",
       "    </tbody></table>"
      ],
      "text/plain": [
       "<pandas.io.formats.style.Styler at 0x7f1f56fe6190>"
      ]
     },
     "execution_count": 32,
     "metadata": {},
     "output_type": "execute_result"
    }
   ],
   "source": [
    "with pd.option_context('display.precision', 2):\n",
    "    df_features_cluster=df_features_cluster.style.background_gradient(cmap = 'Blues')\n",
    "df_features_cluster"
   ]
  },
  {
   "cell_type": "markdown",
   "metadata": {},
   "source": [
    "Мы видим, что в двух кластерах из четырех средние по оттоку гораздо выше, а именно около 0.5, т.е. половина кластера это ушедшие. т.е. эта характеристика распределилась не равным образом по всем кластерам, а присуща только двум из них. \n",
    "Таким образом у нас есть потенциально два кластера для более целевой работы по оттоку. Посмотрим на их характеристики.\n",
    "Также, например, видно, что все кто живут далеко попали в один кластер, те, у кого годовой абонемент тоже попали в один кластер."
   ]
  },
  {
   "cell_type": "markdown",
   "metadata": {},
   "source": [
    "- Постройте распределения признаков для кластеров. Можно ли что-то заметить по ним?"
   ]
  },
  {
   "cell_type": "code",
   "execution_count": 33,
   "metadata": {
    "scrolled": false
   },
   "outputs": [
    {
     "data": {
      "image/png": "[encoded data removed]",
      "text/plain": [
       "<Figure size 402.375x360 with 1 Axes>"
      ]
     },
     "metadata": {
      "needs_background": "light"
     },
     "output_type": "display_data"
    },
    {
     "data": {
      "image/png": "[encoded data removed]",
      "text/plain": [
       "<Figure size 402.375x360 with 1 Axes>"
      ]
     },
     "metadata": {
      "needs_background": "light"
     },
     "output_type": "display_data"
    },
    {
     "data": {
      "image/png": "[encoded data removed]",
      "text/plain": [
       "<Figure size 402.375x360 with 1 Axes>"
      ]
     },
     "metadata": {
      "needs_background": "light"
     },
     "output_type": "display_data"
    },
    {
     "data": {
      "image/png": "[encoded data removed]",
      "text/plain": [
       "<Figure size 402.375x360 with 1 Axes>"
      ]
     },
     "metadata": {
      "needs_background": "light"
     },
     "output_type": "display_data"
    },
    {
     "data": {
      "image/png": "[encoded data removed]",
      "text/plain": [
       "<Figure size 402.375x360 with 1 Axes>"
      ]
     },
     "metadata": {
      "needs_background": "light"
     },
     "output_type": "display_data"
    },
    {
     "data": {
      "image/png": "[encoded data removed]",
      "text/plain": [
       "<Figure size 402.375x360 with 1 Axes>"
      ]
     },
     "metadata": {
      "needs_background": "light"
     },
     "output_type": "display_data"
    },
    {
     "data": {
      "image/png": "[encoded data removed]",
      "text/plain": [
       "<Figure size 402.375x360 with 1 Axes>"
      ]
     },
     "metadata": {
      "needs_background": "light"
     },
     "output_type": "display_data"
    },
    {
     "data": {
      "image/png": "[encoded data removed]",
      "text/plain": [
       "<Figure size 402.375x360 with 1 Axes>"
      ]
     },
     "metadata": {
      "needs_background": "light"
     },
     "output_type": "display_data"
    },
    {
     "data": {
      "image/png": "[encoded data removed]",
      "text/plain": [
       "<Figure size 402.375x360 with 1 Axes>"
      ]
     },
     "metadata": {
      "needs_background": "light"
     },
     "output_type": "display_data"
    },
    {
     "data": {
      "image/png": "[encoded data removed]",
      "text/plain": [
       "<Figure size 402.375x360 with 1 Axes>"
      ]
     },
     "metadata": {
      "needs_background": "light"
     },
     "output_type": "display_data"
    },
    {
     "data": {
      "image/png": "[encoded data removed]",
      "text/plain": [
       "<Figure size 402.375x360 with 1 Axes>"
      ]
     },
     "metadata": {
      "needs_background": "light"
     },
     "output_type": "display_data"
    },
    {
     "data": {
      "image/png": "[encoded data removed]",
      "text/plain": [
       "<Figure size 402.375x360 with 1 Axes>"
      ]
     },
     "metadata": {
      "needs_background": "light"
     },
     "output_type": "display_data"
    },
    {
     "data": {
      "image/png": "[encoded data removed]",
      "text/plain": [
       "<Figure size 402.375x360 with 1 Axes>"
      ]
     },
     "metadata": {
      "needs_background": "light"
     },
     "output_type": "display_data"
    },
    {
     "data": {
      "image/png": "[encoded data removed]",
      "text/plain": [
       "<Figure size 402.375x360 with 1 Axes>"
      ]
     },
     "metadata": {
      "needs_background": "light"
     },
     "output_type": "display_data"
    }
   ],
   "source": [
    "for col in df.drop('cluster', axis = 1).columns:\n",
    "    sns.displot(df, x= col, hue=\"cluster\", element=\"step\", multiple=\"dodge\", palette='Set2').set(title=titles[col]); "
   ]
  },
  {
   "cell_type": "markdown",
   "metadata": {},
   "source": [
    "Для одного из \"отточных\" кластеров очень характерно, что его участники не живут или работают рядом с фитнесом. Для другого, что в большинстве они не работники партнера и не пришли по акции от друзей. \n",
    "\n",
    "Также обоих \"отточных\" кластеров в подавляющем большинстве абонементы на месяц, сроки до окончания абонемента у них короче и туда попали те, кто записался недавно (их lifetime, время с момента первого обращения в фитнес-центр меньше)\n",
    "Также там меньше доля тех, кто пробовал групповые занятия, они реже посещают фитнес и немного моложе."
   ]
  },
  {
   "cell_type": "markdown",
   "metadata": {},
   "source": [
    "- Для каждого полученного кластера посчитайте долю оттока (методом groupby()). Отличаются ли они по доле оттока? Какие кластеры склонны к оттоку, а какие — надёжны?"
   ]
  },
  {
   "cell_type": "code",
   "execution_count": 34,
   "metadata": {},
   "outputs": [
    {
     "data": {
      "text/html": [
       "<div>\n",
       "<style scoped>\n",
       "    .dataframe tbody tr th:only-of-type {\n",
       "        vertical-align: middle;\n",
       "    }\n",
       "\n",
       "    .dataframe tbody tr th {\n",
       "        vertical-align: top;\n",
       "    }\n",
       "\n",
       "    .dataframe thead th {\n",
       "        text-align: right;\n",
       "    }\n",
       "</style>\n",
       "<table border=\"1\" class=\"dataframe\">\n",
       "  <thead>\n",
       "    <tr style=\"text-align: right;\">\n",
       "      <th></th>\n",
       "      <th>mean</th>\n",
       "    </tr>\n",
       "    <tr>\n",
       "      <th>cluster</th>\n",
       "      <th></th>\n",
       "    </tr>\n",
       "  </thead>\n",
       "  <tbody>\n",
       "    <tr>\n",
       "      <td>0</td>\n",
       "      <td>0.07</td>\n",
       "    </tr>\n",
       "    <tr>\n",
       "      <td>1</td>\n",
       "      <td>0.52</td>\n",
       "    </tr>\n",
       "    <tr>\n",
       "      <td>2</td>\n",
       "      <td>0.03</td>\n",
       "    </tr>\n",
       "    <tr>\n",
       "      <td>3</td>\n",
       "      <td>0.44</td>\n",
       "    </tr>\n",
       "  </tbody>\n",
       "</table>\n",
       "</div>"
      ],
      "text/plain": [
       "         mean\n",
       "cluster      \n",
       "0        0.07\n",
       "1        0.52\n",
       "2        0.03\n",
       "3        0.44"
      ]
     },
     "execution_count": 34,
     "metadata": {},
     "output_type": "execute_result"
    }
   ],
   "source": [
    "df_churn_rate = df.groupby('cluster')['churn'].agg(['mean'])\n",
    "df_churn_rate"
   ]
  },
  {
   "cell_type": "markdown",
   "metadata": {},
   "source": [
    "Как мы заметили, у нас есть два класса, сконных к оттоку (номер 1 и 3) и чьи характеристи мы описали выше."
   ]
  },
  {
   "cell_type": "markdown",
   "metadata": {},
   "source": [
    "## Шаг 5. Сформулируйте выводы и сделайте базовые рекомендации по работе с клиентами"
   ]
  },
  {
   "cell_type": "markdown",
   "metadata": {},
   "source": [
    "Сформулируйте основные выводы и предложите рекомендации для стратегии взаимодействия с клиентами и их удержания.\n",
    "Не описывайте стратегию детально: достаточно 3-4 важных принципов и примеров их реализации в виде определённых маркетинговых действий."
   ]
  },
  {
   "cell_type": "markdown",
   "metadata": {},
   "source": [
    "#### Выводы"
   ]
  },
  {
   "cell_type": "markdown",
   "metadata": {},
   "source": [
    "- В нашем датасете информация о 4000 пользователей и 14 признаках по каждому. Тех, кто ушел примерно четверть.\n",
    "- Уходящие чаще территориально не имеют привязки к фитнесу, не пришли от друзей или компании-партнёра.\n",
    "- Те, кто ушел в отток гораздо чаще записывались на короткий срок, как правило на один месяц.\n",
    "- Уходящие реже посещали фитнесс, и реже пробовали групповые занятия\n",
    "- Те, кто ушел в отток тратили немного меньше и возрастом были немного моложе\n",
    "- Мы выбрали модель логистической регрессии для предсказания оттока\n",
    "- Мы выделили четыре кластера посетителей фитнеса, два из которых склонных к оттоку.\n",
    "- Мы охарактеризовали 2 кластера, как склонные к оттоку:\n",
    "    - туда попали те, кто не живут или работают рядом с фитнесом\n",
    "    - те кто пришел \"со стороны\" (не от друзей или от работы партнера центра)\n",
    "    - те, у кого абонементы на месяц, и короткие сроки до окончания абонемента\n",
    "    - те, кто записался недавно\n",
    "    - те, кто редко посещают фитнес\n",
    "    - те, кто не пробовал групповые занятия"
   ]
  },
  {
   "cell_type": "markdown",
   "metadata": {},
   "source": [
    "#### Стратегия"
   ]
  },
  {
   "cell_type": "markdown",
   "metadata": {},
   "source": [
    "Благодаря предсказанию оттока, мы можем взаимодействовать с клиентами, попавшими в группу прогнозируемого оттока на каждый месяц. Особенно необходимо отмечать тех, у кого скоро заканчивается абонемент.\n",
    "Это могут быть скидка на абонемент на следующий месяц, или же скидка на абонемент при записи на 3, 6 или 12 месяцев - чем дольше период, тем больше скидка. Для нас важно, чтобы клиент оставался записан дольше, это снижает вероятность попадания в отток. Люди, записанные на год, как мы обнаружили, реже бросают. Т.е. в зависимости от средств мы будем предлагать персонализированные скидки на абонемент тем, кто попал в группу прогнозируемого оттока.\n",
    "\n",
    "Также мы можем мотивировать посещение центра этими клиентами, и посещение ими групповых занятий. Повышение частоты занятий является важным фактором против оттока. Мы можем подарить им занятие с личным тренером в малой группе или индивидуально (в зависимости от ресурсов), это стимулирует частоту. Мы можем активнее рекламировать групповые занятия и сделать их более привлекательными, с более удобным расписанием.\n",
    "\n",
    "Что касается работы с полученными кластерами - здесь мы использовать полученные \"отточные группы\" и отправлять рассылки, в соответствии с выделенными характеристиками. Например, для тех, кто пришел \"со стороны\" возможность подарить скидку другу и получить что-то самому (скидку на следующий месяц, бесплатное индивидуальное занятие, мерч). Это привлечет новых клиентов и удержит старых т.к. эти клиенты будут иметь в фитнес-центре знакомых, с кем вместе ходить, что в свою очередь повышает посещаемость. Также в этих кластерах можно поработать над посещаемостью через рассылки с анонсами групповых занятий или персональными отчетами статистики посещений."
   ]
  }
 ],
 "metadata": {
  "ExecuteTimeLog": [
   {
    "duration": 442,
    "start_time": "2021-10-21T12:32:01.747Z"
   },
   {
    "duration": 1626,
    "start_time": "2021-10-21T12:32:05.032Z"
   },
   {
    "duration": 27,
    "start_time": "2021-10-21T12:32:07.344Z"
   },
   {
    "duration": 33,
    "start_time": "2021-10-21T12:32:12.031Z"
   },
   {
    "duration": 73,
    "start_time": "2021-10-21T12:41:04.356Z"
   },
   {
    "duration": 3,
    "start_time": "2021-10-21T12:46:42.851Z"
   },
   {
    "duration": 255,
    "start_time": "2021-10-21T12:47:41.832Z"
   },
   {
    "duration": 26,
    "start_time": "2021-10-21T12:47:44.331Z"
   },
   {
    "duration": 23,
    "start_time": "2021-10-21T12:48:08.018Z"
   },
   {
    "duration": 7,
    "start_time": "2021-10-21T12:52:18.247Z"
   },
   {
    "duration": 130,
    "start_time": "2021-10-21T12:57:30.135Z"
   },
   {
    "duration": 13,
    "start_time": "2021-10-21T13:00:33.013Z"
   },
   {
    "duration": 3,
    "start_time": "2021-10-21T13:30:07.126Z"
   },
   {
    "duration": 4,
    "start_time": "2021-10-21T13:37:36.526Z"
   },
   {
    "duration": 8,
    "start_time": "2021-10-21T13:37:37.557Z"
   },
   {
    "duration": 66,
    "start_time": "2021-10-21T13:39:15.222Z"
   },
   {
    "duration": 2616,
    "start_time": "2021-10-21T14:00:58.617Z"
   },
   {
    "duration": 3555,
    "start_time": "2021-10-21T14:01:47.315Z"
   },
   {
    "duration": 1035,
    "start_time": "2021-10-21T14:08:14.848Z"
   },
   {
    "duration": 14,
    "start_time": "2021-10-21T14:09:30.808Z"
   },
   {
    "duration": 376,
    "start_time": "2021-10-21T14:09:57.968Z"
   },
   {
    "duration": 3,
    "start_time": "2021-10-21T14:10:45.255Z"
   },
   {
    "duration": 6,
    "start_time": "2021-10-21T14:12:23.878Z"
   },
   {
    "duration": 8,
    "start_time": "2021-10-21T14:13:23.525Z"
   },
   {
    "duration": 61,
    "start_time": "2021-10-21T14:13:52.189Z"
   },
   {
    "duration": 59,
    "start_time": "2021-10-21T14:17:44.467Z"
   },
   {
    "duration": 236,
    "start_time": "2021-10-21T14:18:09.712Z"
   },
   {
    "duration": 3428,
    "start_time": "2021-10-21T14:18:19.259Z"
   },
   {
    "duration": 9937,
    "start_time": "2021-10-21T14:22:14.426Z"
   },
   {
    "duration": 30,
    "start_time": "2021-10-21T14:22:44.666Z"
   },
   {
    "duration": 634,
    "start_time": "2021-10-21T14:24:15.459Z"
   },
   {
    "duration": 274,
    "start_time": "2021-10-21T14:24:22.433Z"
   },
   {
    "duration": 297,
    "start_time": "2021-10-21T14:24:41.640Z"
   },
   {
    "duration": 310,
    "start_time": "2021-10-21T14:24:49.720Z"
   },
   {
    "duration": 275,
    "start_time": "2021-10-21T14:25:12.792Z"
   },
   {
    "duration": 286,
    "start_time": "2021-10-21T14:25:20.648Z"
   },
   {
    "duration": 8,
    "start_time": "2021-10-21T14:25:40.120Z"
   },
   {
    "duration": 10,
    "start_time": "2021-10-21T14:26:03.544Z"
   },
   {
    "duration": 370,
    "start_time": "2021-10-21T14:26:11.745Z"
   },
   {
    "duration": 26,
    "start_time": "2021-10-21T14:26:31.264Z"
   },
   {
    "duration": 268,
    "start_time": "2021-10-21T14:26:41.585Z"
   },
   {
    "duration": 12,
    "start_time": "2021-10-21T14:26:56.969Z"
   },
   {
    "duration": 430,
    "start_time": "2021-10-21T14:27:12.896Z"
   },
   {
    "duration": 116,
    "start_time": "2021-10-21T14:27:21.110Z"
   },
   {
    "duration": 27,
    "start_time": "2021-10-21T14:27:28.735Z"
   },
   {
    "duration": 2843,
    "start_time": "2021-10-21T14:27:36.217Z"
   },
   {
    "duration": 322,
    "start_time": "2021-10-21T14:27:58.992Z"
   },
   {
    "duration": 295,
    "start_time": "2021-10-21T14:28:25.305Z"
   },
   {
    "duration": 304,
    "start_time": "2021-10-21T14:28:34.542Z"
   },
   {
    "duration": 128,
    "start_time": "2021-10-21T14:32:19.278Z"
   },
   {
    "duration": 299,
    "start_time": "2021-10-21T14:32:25.349Z"
   },
   {
    "duration": 369,
    "start_time": "2021-10-21T14:41:49.153Z"
   },
   {
    "duration": 5299,
    "start_time": "2021-10-21T14:42:16.728Z"
   },
   {
    "duration": 363,
    "start_time": "2021-10-21T14:42:36.961Z"
   },
   {
    "duration": 1647,
    "start_time": "2021-10-21T14:43:03.630Z"
   },
   {
    "duration": 3784,
    "start_time": "2021-10-21T14:43:05.279Z"
   },
   {
    "duration": 4,
    "start_time": "2021-10-21T14:43:09.067Z"
   },
   {
    "duration": 288,
    "start_time": "2021-10-21T14:43:09.073Z"
   },
   {
    "duration": 33,
    "start_time": "2021-10-21T14:43:09.364Z"
   },
   {
    "duration": 5,
    "start_time": "2021-10-21T14:43:09.400Z"
   },
   {
    "duration": 20,
    "start_time": "2021-10-21T14:43:09.410Z"
   },
   {
    "duration": 103,
    "start_time": "2021-10-21T14:43:09.433Z"
   },
   {
    "duration": 3705,
    "start_time": "2021-10-21T14:43:09.541Z"
   },
   {
    "duration": 86,
    "start_time": "2021-10-21T14:43:13.249Z"
   },
   {
    "duration": 300,
    "start_time": "2021-10-21T14:43:13.337Z"
   },
   {
    "duration": 783,
    "start_time": "2021-10-21T14:43:13.640Z"
   },
   {
    "duration": 759,
    "start_time": "2021-10-21T14:45:56.114Z"
   },
   {
    "duration": 1601,
    "start_time": "2021-10-21T14:46:20.706Z"
   },
   {
    "duration": 1531,
    "start_time": "2021-10-21T14:48:09.376Z"
   },
   {
    "duration": 1523,
    "start_time": "2021-10-21T14:48:32.152Z"
   },
   {
    "duration": 1370,
    "start_time": "2021-10-21T14:49:25.033Z"
   },
   {
    "duration": 1437,
    "start_time": "2021-10-21T14:49:45.133Z"
   },
   {
    "duration": 1405,
    "start_time": "2021-10-21T14:50:01.014Z"
   },
   {
    "duration": 1776,
    "start_time": "2021-10-21T14:53:44.957Z"
   },
   {
    "duration": 1548,
    "start_time": "2021-10-21T14:53:55.778Z"
   },
   {
    "duration": 1559,
    "start_time": "2021-10-21T14:54:06.366Z"
   },
   {
    "duration": 1796,
    "start_time": "2021-10-21T14:54:16.870Z"
   },
   {
    "duration": 1594,
    "start_time": "2021-10-21T14:54:28.773Z"
   },
   {
    "duration": 1630,
    "start_time": "2021-10-21T14:54:40.310Z"
   },
   {
    "duration": 1698,
    "start_time": "2021-10-21T14:55:02.906Z"
   },
   {
    "duration": 309,
    "start_time": "2021-10-21T14:55:20.133Z"
   },
   {
    "duration": 1735,
    "start_time": "2021-10-21T14:55:34.908Z"
   },
   {
    "duration": 1657,
    "start_time": "2021-10-21T14:55:45.949Z"
   },
   {
    "duration": 766,
    "start_time": "2021-10-21T14:56:20.909Z"
   },
   {
    "duration": 681,
    "start_time": "2021-10-21T14:56:30.532Z"
   },
   {
    "duration": 1597,
    "start_time": "2021-10-21T14:56:49.110Z"
   },
   {
    "duration": 1755,
    "start_time": "2021-10-21T14:56:57.483Z"
   },
   {
    "duration": 1634,
    "start_time": "2021-10-21T14:57:13.507Z"
   },
   {
    "duration": 1703,
    "start_time": "2021-10-21T14:59:44.114Z"
   },
   {
    "duration": 1877,
    "start_time": "2021-10-21T14:59:53.083Z"
   },
   {
    "duration": 2298,
    "start_time": "2021-10-21T15:05:18.288Z"
   },
   {
    "duration": 2073,
    "start_time": "2021-10-21T15:05:27.574Z"
   },
   {
    "duration": 1915,
    "start_time": "2021-10-21T15:05:56.569Z"
   },
   {
    "duration": 1963,
    "start_time": "2021-10-21T15:06:11.265Z"
   },
   {
    "duration": 1881,
    "start_time": "2021-10-21T15:06:21.649Z"
   },
   {
    "duration": 1841,
    "start_time": "2021-10-21T15:06:32.096Z"
   },
   {
    "duration": 1936,
    "start_time": "2021-10-21T15:06:39.504Z"
   },
   {
    "duration": 2046,
    "start_time": "2021-10-21T15:08:59.967Z"
   },
   {
    "duration": 1797,
    "start_time": "2021-10-21T15:09:07.903Z"
   },
   {
    "duration": 1946,
    "start_time": "2021-10-21T15:09:57.671Z"
   },
   {
    "duration": 1860,
    "start_time": "2021-10-21T15:10:09.678Z"
   },
   {
    "duration": 23,
    "start_time": "2021-10-21T15:10:39.214Z"
   },
   {
    "duration": 1950,
    "start_time": "2021-10-21T15:11:12.745Z"
   },
   {
    "duration": 2545,
    "start_time": "2021-10-21T15:12:48.846Z"
   },
   {
    "duration": 26287,
    "start_time": "2021-10-21T15:15:16.653Z"
   },
   {
    "duration": 25993,
    "start_time": "2021-10-21T15:15:53.695Z"
   },
   {
    "duration": 481,
    "start_time": "2021-10-21T15:19:02.436Z"
   },
   {
    "duration": 1372,
    "start_time": "2021-10-21T15:20:41.377Z"
   },
   {
    "duration": 1472,
    "start_time": "2021-10-21T15:21:18.682Z"
   },
   {
    "duration": 1015,
    "start_time": "2021-10-21T15:21:33.880Z"
   },
   {
    "duration": 577,
    "start_time": "2021-10-21T15:21:58.017Z"
   },
   {
    "duration": 555,
    "start_time": "2021-10-21T15:22:27.322Z"
   },
   {
    "duration": 1112,
    "start_time": "2021-10-21T15:22:49.034Z"
   },
   {
    "duration": 871,
    "start_time": "2021-10-21T15:23:34.544Z"
   },
   {
    "duration": 872,
    "start_time": "2021-10-21T15:26:31.271Z"
   },
   {
    "duration": 11334,
    "start_time": "2021-10-21T15:27:49.688Z"
   },
   {
    "duration": 7373,
    "start_time": "2021-10-21T15:28:41.734Z"
   },
   {
    "duration": 19236,
    "start_time": "2021-10-21T15:32:38.701Z"
   },
   {
    "duration": 15677,
    "start_time": "2021-10-21T15:37:07.689Z"
   },
   {
    "duration": 16030,
    "start_time": "2021-10-21T15:41:23.170Z"
   },
   {
    "duration": 1108,
    "start_time": "2021-10-21T15:45:23.288Z"
   },
   {
    "duration": 16280,
    "start_time": "2021-10-21T15:45:37.673Z"
   },
   {
    "duration": 16444,
    "start_time": "2021-10-21T15:46:41.040Z"
   },
   {
    "duration": 1207,
    "start_time": "2021-10-21T15:48:06.324Z"
   },
   {
    "duration": 1585,
    "start_time": "2021-10-21T15:48:26.518Z"
   },
   {
    "duration": 1204,
    "start_time": "2021-10-21T15:49:46.390Z"
   },
   {
    "duration": 1199,
    "start_time": "2021-10-21T15:50:00.565Z"
   },
   {
    "duration": 1202,
    "start_time": "2021-10-21T15:50:21.926Z"
   },
   {
    "duration": 1269,
    "start_time": "2021-10-21T15:50:50.888Z"
   },
   {
    "duration": 1190,
    "start_time": "2021-10-21T15:51:17.260Z"
   },
   {
    "duration": 1212,
    "start_time": "2021-10-21T15:53:47.180Z"
   },
   {
    "duration": 1358,
    "start_time": "2021-10-21T15:53:56.028Z"
   },
   {
    "duration": 17514,
    "start_time": "2021-10-21T15:55:01.667Z"
   },
   {
    "duration": 16048,
    "start_time": "2021-10-21T15:55:56.979Z"
   },
   {
    "duration": 351,
    "start_time": "2021-10-21T16:23:56.190Z"
   },
   {
    "duration": 382,
    "start_time": "2021-10-21T16:24:10.623Z"
   },
   {
    "duration": 16,
    "start_time": "2021-10-21T16:24:16.717Z"
   },
   {
    "duration": 27,
    "start_time": "2021-10-21T16:24:25.119Z"
   },
   {
    "duration": 997,
    "start_time": "2021-10-21T16:24:43.068Z"
   },
   {
    "duration": 8,
    "start_time": "2021-10-21T16:26:12.492Z"
   },
   {
    "duration": 8,
    "start_time": "2021-10-21T16:27:05.316Z"
   },
   {
    "duration": 27,
    "start_time": "2021-10-21T16:27:25.253Z"
   },
   {
    "duration": 803,
    "start_time": "2021-10-21T16:38:05.679Z"
   },
   {
    "duration": 54,
    "start_time": "2021-10-21T16:38:17.338Z"
   },
   {
    "duration": 52,
    "start_time": "2021-10-21T16:38:43.267Z"
   },
   {
    "duration": 54,
    "start_time": "2021-10-21T16:39:38.833Z"
   },
   {
    "duration": 46,
    "start_time": "2021-10-21T16:41:05.759Z"
   },
   {
    "duration": 63,
    "start_time": "2021-10-21T16:41:17.551Z"
   },
   {
    "duration": 12,
    "start_time": "2021-10-21T16:41:51.008Z"
   },
   {
    "duration": 140,
    "start_time": "2021-10-21T16:42:02.751Z"
   },
   {
    "duration": 61,
    "start_time": "2021-10-21T16:43:44.109Z"
   },
   {
    "duration": 115,
    "start_time": "2021-10-21T16:43:55.194Z"
   },
   {
    "duration": 110,
    "start_time": "2021-10-21T16:44:02.944Z"
   },
   {
    "duration": 94,
    "start_time": "2021-10-21T16:44:09.078Z"
   },
   {
    "duration": 105,
    "start_time": "2021-10-21T16:49:20.518Z"
   },
   {
    "duration": 61,
    "start_time": "2021-10-21T16:49:22.260Z"
   },
   {
    "duration": 48,
    "start_time": "2021-10-21T16:49:31.450Z"
   },
   {
    "duration": 12,
    "start_time": "2021-10-21T16:53:29.941Z"
   },
   {
    "duration": 10,
    "start_time": "2021-10-21T17:10:45.765Z"
   },
   {
    "duration": 11,
    "start_time": "2021-10-21T17:10:48.668Z"
   },
   {
    "duration": 376,
    "start_time": "2021-10-21T17:18:02.553Z"
   },
   {
    "duration": 5,
    "start_time": "2021-10-21T17:19:49.337Z"
   },
   {
    "duration": 4,
    "start_time": "2021-10-21T17:19:54.926Z"
   },
   {
    "duration": 355,
    "start_time": "2021-10-21T17:27:38.590Z"
   },
   {
    "duration": 36,
    "start_time": "2021-10-21T17:28:00.736Z"
   },
   {
    "duration": 364,
    "start_time": "2021-10-21T17:28:35.934Z"
   },
   {
    "duration": 30,
    "start_time": "2021-10-21T17:28:49.276Z"
   },
   {
    "duration": 31,
    "start_time": "2021-10-21T18:01:30.583Z"
   },
   {
    "duration": 149,
    "start_time": "2021-10-21T18:04:47.261Z"
   },
   {
    "duration": 31,
    "start_time": "2021-10-21T18:05:38.153Z"
   },
   {
    "duration": 125,
    "start_time": "2021-10-21T18:05:39.276Z"
   },
   {
    "duration": 14,
    "start_time": "2021-10-21T18:05:58.245Z"
   },
   {
    "duration": 1585,
    "start_time": "2021-10-21T20:31:38.840Z"
   },
   {
    "duration": 4471,
    "start_time": "2021-10-21T20:31:41.355Z"
   },
   {
    "duration": 4,
    "start_time": "2021-10-21T20:31:45.829Z"
   },
   {
    "duration": 247,
    "start_time": "2021-10-21T20:31:46.090Z"
   },
   {
    "duration": 31,
    "start_time": "2021-10-21T20:31:48.003Z"
   },
   {
    "duration": 4,
    "start_time": "2021-10-21T20:31:48.803Z"
   },
   {
    "duration": 13,
    "start_time": "2021-10-21T20:31:49.611Z"
   },
   {
    "duration": 61,
    "start_time": "2021-10-21T20:31:51.507Z"
   },
   {
    "duration": 3289,
    "start_time": "2021-10-21T20:31:52.020Z"
   },
   {
    "duration": 45,
    "start_time": "2021-10-21T20:31:55.311Z"
   },
   {
    "duration": 739,
    "start_time": "2021-10-21T20:31:55.359Z"
   },
   {
    "duration": 459,
    "start_time": "2021-10-21T20:31:56.100Z"
   },
   {
    "duration": -300,
    "start_time": "2021-10-21T20:31:56.862Z"
   },
   {
    "duration": 1547,
    "start_time": "2021-10-21T20:33:03.482Z"
   },
   {
    "duration": 1578,
    "start_time": "2021-10-21T20:33:27.528Z"
   },
   {
    "duration": 1443,
    "start_time": "2021-10-21T20:33:34.996Z"
   },
   {
    "duration": 576,
    "start_time": "2021-10-21T20:33:54.083Z"
   },
   {
    "duration": 1511,
    "start_time": "2021-10-21T20:34:12.490Z"
   },
   {
    "duration": 3410,
    "start_time": "2021-10-21T20:34:14.004Z"
   },
   {
    "duration": 4,
    "start_time": "2021-10-21T20:34:17.417Z"
   },
   {
    "duration": 223,
    "start_time": "2021-10-21T20:34:17.424Z"
   },
   {
    "duration": 30,
    "start_time": "2021-10-21T20:34:17.650Z"
   },
   {
    "duration": 4,
    "start_time": "2021-10-21T20:34:17.682Z"
   },
   {
    "duration": 15,
    "start_time": "2021-10-21T20:34:17.688Z"
   },
   {
    "duration": 88,
    "start_time": "2021-10-21T20:34:17.706Z"
   },
   {
    "duration": 3435,
    "start_time": "2021-10-21T20:34:17.798Z"
   },
   {
    "duration": 56,
    "start_time": "2021-10-21T20:34:21.236Z"
   },
   {
    "duration": 736,
    "start_time": "2021-10-21T20:34:21.295Z"
   },
   {
    "duration": 9923,
    "start_time": "2021-10-21T20:34:22.033Z"
   },
   {
    "duration": 1554,
    "start_time": "2021-10-21T20:34:31.958Z"
   },
   {
    "duration": 8,
    "start_time": "2021-10-21T20:34:33.514Z"
   },
   {
    "duration": 12,
    "start_time": "2021-10-21T20:34:33.524Z"
   },
   {
    "duration": 50,
    "start_time": "2021-10-21T20:34:33.538Z"
   },
   {
    "duration": 32,
    "start_time": "2021-10-21T20:34:33.590Z"
   },
   {
    "duration": 158,
    "start_time": "2021-10-21T20:34:33.624Z"
   },
   {
    "duration": 7,
    "start_time": "2021-10-21T20:36:04.688Z"
   },
   {
    "duration": 7,
    "start_time": "2021-10-21T20:36:25.164Z"
   },
   {
    "duration": 7,
    "start_time": "2021-10-21T20:36:31.207Z"
   },
   {
    "duration": 7,
    "start_time": "2021-10-21T20:36:36.133Z"
   },
   {
    "duration": 7,
    "start_time": "2021-10-21T20:36:44.597Z"
   },
   {
    "duration": 7,
    "start_time": "2021-10-21T20:36:54.230Z"
   },
   {
    "duration": 7,
    "start_time": "2021-10-21T20:37:07.613Z"
   },
   {
    "duration": 7,
    "start_time": "2021-10-21T20:37:12.622Z"
   },
   {
    "duration": 3366,
    "start_time": "2021-10-21T20:37:42.398Z"
   },
   {
    "duration": 414,
    "start_time": "2021-10-21T20:38:34.062Z"
   },
   {
    "duration": 44,
    "start_time": "2021-10-21T20:38:43.516Z"
   },
   {
    "duration": 93,
    "start_time": "2021-10-21T20:38:44.356Z"
   },
   {
    "duration": 9,
    "start_time": "2021-10-21T20:39:09.756Z"
   },
   {
    "duration": 9,
    "start_time": "2021-10-21T20:39:14.428Z"
   },
   {
    "duration": 25,
    "start_time": "2021-10-21T20:39:28.173Z"
   },
   {
    "duration": 44,
    "start_time": "2021-10-21T20:39:48.438Z"
   },
   {
    "duration": 19,
    "start_time": "2021-10-21T20:40:01.892Z"
   },
   {
    "duration": 11,
    "start_time": "2021-10-21T20:40:18.579Z"
   },
   {
    "duration": 9,
    "start_time": "2021-10-21T20:40:44.994Z"
   },
   {
    "duration": 9,
    "start_time": "2021-10-21T20:40:58.395Z"
   },
   {
    "duration": 59,
    "start_time": "2021-10-21T20:41:30.324Z"
   },
   {
    "duration": 12,
    "start_time": "2021-10-21T20:41:50.163Z"
   },
   {
    "duration": 6,
    "start_time": "2021-10-21T20:42:31.189Z"
   },
   {
    "duration": 5,
    "start_time": "2021-10-21T20:43:07.970Z"
   },
   {
    "duration": 6,
    "start_time": "2021-10-21T20:43:34.396Z"
   },
   {
    "duration": 24,
    "start_time": "2021-10-21T20:44:03.970Z"
   },
   {
    "duration": 116,
    "start_time": "2021-10-21T20:45:08.969Z"
   },
   {
    "duration": 75,
    "start_time": "2021-10-21T20:45:24.913Z"
   },
   {
    "duration": 4,
    "start_time": "2021-10-21T20:46:07.090Z"
   },
   {
    "duration": 31,
    "start_time": "2021-10-21T20:46:09.856Z"
   },
   {
    "duration": 134,
    "start_time": "2021-10-21T20:46:18.649Z"
   },
   {
    "duration": 5,
    "start_time": "2021-10-21T20:51:20.472Z"
   },
   {
    "duration": 5,
    "start_time": "2021-10-21T20:51:24.710Z"
   },
   {
    "duration": 313,
    "start_time": "2021-10-21T20:51:50.422Z"
   },
   {
    "duration": 4,
    "start_time": "2021-10-21T20:52:26.518Z"
   },
   {
    "duration": 16,
    "start_time": "2021-10-21T20:52:32.669Z"
   },
   {
    "duration": 26,
    "start_time": "2021-10-21T21:06:47.608Z"
   },
   {
    "duration": 5,
    "start_time": "2021-10-21T21:06:50.398Z"
   },
   {
    "duration": 9,
    "start_time": "2021-10-21T21:06:50.910Z"
   },
   {
    "duration": 13,
    "start_time": "2021-10-21T21:06:54.319Z"
   },
   {
    "duration": 28,
    "start_time": "2021-10-21T21:10:16.309Z"
   },
   {
    "duration": 24,
    "start_time": "2021-10-21T21:10:51.259Z"
   },
   {
    "duration": 14,
    "start_time": "2021-10-21T21:10:54.484Z"
   },
   {
    "duration": 317,
    "start_time": "2021-10-21T21:11:30.612Z"
   },
   {
    "duration": 4,
    "start_time": "2021-10-21T21:11:45.645Z"
   },
   {
    "duration": 270,
    "start_time": "2021-10-21T21:12:57.252Z"
   },
   {
    "duration": 299,
    "start_time": "2021-10-21T21:13:27.668Z"
   },
   {
    "duration": 51,
    "start_time": "2021-10-21T21:17:13.449Z"
   },
   {
    "duration": 379,
    "start_time": "2021-10-21T21:17:36.210Z"
   },
   {
    "duration": 53,
    "start_time": "2021-10-21T21:18:16.009Z"
   },
   {
    "duration": 447,
    "start_time": "2021-10-21T21:18:55.186Z"
   },
   {
    "duration": 465,
    "start_time": "2021-10-21T21:19:35.178Z"
   },
   {
    "duration": 16,
    "start_time": "2021-10-21T21:19:36.976Z"
   },
   {
    "duration": 9,
    "start_time": "2021-10-21T21:22:05.553Z"
   },
   {
    "duration": 44,
    "start_time": "2021-10-21T21:22:16.136Z"
   },
   {
    "duration": 14,
    "start_time": "2021-10-21T21:22:23.961Z"
   },
   {
    "duration": 462,
    "start_time": "2021-10-21T21:23:01.480Z"
   },
   {
    "duration": 15,
    "start_time": "2021-10-21T21:23:06.527Z"
   },
   {
    "duration": 746,
    "start_time": "2021-10-21T21:35:07.403Z"
   },
   {
    "duration": 7,
    "start_time": "2021-10-21T21:36:18.275Z"
   },
   {
    "duration": 696,
    "start_time": "2021-10-21T21:36:26.586Z"
   },
   {
    "duration": 5,
    "start_time": "2021-10-21T21:37:05.857Z"
   },
   {
    "duration": 710,
    "start_time": "2021-10-21T21:37:07.961Z"
   },
   {
    "duration": 314,
    "start_time": "2021-10-21T21:37:16.666Z"
   },
   {
    "duration": 6,
    "start_time": "2021-10-21T21:37:30.243Z"
   },
   {
    "duration": 723,
    "start_time": "2021-10-21T21:37:36.505Z"
   },
   {
    "duration": 987,
    "start_time": "2021-10-21T21:39:20.406Z"
   },
   {
    "duration": 7,
    "start_time": "2021-10-21T21:42:15.832Z"
   },
   {
    "duration": 798,
    "start_time": "2021-10-21T21:42:57.904Z"
   },
   {
    "duration": 6,
    "start_time": "2021-10-21T21:43:10.831Z"
   },
   {
    "duration": 728,
    "start_time": "2021-10-21T21:43:11.648Z"
   },
   {
    "duration": 16,
    "start_time": "2021-10-21T21:46:20.488Z"
   },
   {
    "duration": 5,
    "start_time": "2021-10-21T21:47:37.430Z"
   },
   {
    "duration": 8,
    "start_time": "2021-10-21T21:50:55.429Z"
   },
   {
    "duration": 131001,
    "start_time": "2021-10-21T21:51:23.636Z"
   },
   {
    "duration": 1518,
    "start_time": "2021-10-22T09:38:10.634Z"
   },
   {
    "duration": 5585,
    "start_time": "2021-10-22T09:38:12.155Z"
   },
   {
    "duration": 5,
    "start_time": "2021-10-22T09:38:17.744Z"
   },
   {
    "duration": 212,
    "start_time": "2021-10-22T09:38:17.753Z"
   },
   {
    "duration": 36,
    "start_time": "2021-10-22T09:38:17.968Z"
   },
   {
    "duration": 5,
    "start_time": "2021-10-22T09:38:18.007Z"
   },
   {
    "duration": 15,
    "start_time": "2021-10-22T09:38:18.015Z"
   },
   {
    "duration": 7,
    "start_time": "2021-10-22T09:38:18.034Z"
   },
   {
    "duration": 67,
    "start_time": "2021-10-22T09:38:18.084Z"
   },
   {
    "duration": 3493,
    "start_time": "2021-10-22T09:38:18.154Z"
   },
   {
    "duration": 73,
    "start_time": "2021-10-22T09:38:21.649Z"
   },
   {
    "duration": 718,
    "start_time": "2021-10-22T09:38:21.725Z"
   },
   {
    "duration": 452,
    "start_time": "2021-10-22T09:38:22.446Z"
   },
   {
    "duration": -300,
    "start_time": "2021-10-22T09:38:23.202Z"
   },
   {
    "duration": -299,
    "start_time": "2021-10-22T09:38:23.203Z"
   },
   {
    "duration": -298,
    "start_time": "2021-10-22T09:38:23.204Z"
   },
   {
    "duration": -299,
    "start_time": "2021-10-22T09:38:23.208Z"
   },
   {
    "duration": -371,
    "start_time": "2021-10-22T09:38:23.282Z"
   },
   {
    "duration": -373,
    "start_time": "2021-10-22T09:38:23.286Z"
   },
   {
    "duration": -373,
    "start_time": "2021-10-22T09:38:23.288Z"
   },
   {
    "duration": 1511,
    "start_time": "2021-10-22T09:40:06.916Z"
   },
   {
    "duration": 3670,
    "start_time": "2021-10-22T09:40:08.429Z"
   },
   {
    "duration": 4,
    "start_time": "2021-10-22T09:40:12.104Z"
   },
   {
    "duration": 205,
    "start_time": "2021-10-22T09:40:12.114Z"
   },
   {
    "duration": 31,
    "start_time": "2021-10-22T09:40:12.321Z"
   },
   {
    "duration": 3,
    "start_time": "2021-10-22T09:40:12.354Z"
   },
   {
    "duration": 19,
    "start_time": "2021-10-22T09:40:12.360Z"
   },
   {
    "duration": 7,
    "start_time": "2021-10-22T09:40:12.383Z"
   },
   {
    "duration": 86,
    "start_time": "2021-10-22T09:40:12.396Z"
   },
   {
    "duration": 3557,
    "start_time": "2021-10-22T09:40:12.485Z"
   },
   {
    "duration": 72,
    "start_time": "2021-10-22T09:40:16.045Z"
   },
   {
    "duration": 739,
    "start_time": "2021-10-22T09:40:16.119Z"
   },
   {
    "duration": 11025,
    "start_time": "2021-10-22T09:40:16.861Z"
   },
   {
    "duration": 1664,
    "start_time": "2021-10-22T09:40:27.889Z"
   },
   {
    "duration": 9,
    "start_time": "2021-10-22T09:40:29.555Z"
   },
   {
    "duration": 26,
    "start_time": "2021-10-22T09:40:29.566Z"
   },
   {
    "duration": 12,
    "start_time": "2021-10-22T09:40:29.595Z"
   },
   {
    "duration": 801,
    "start_time": "2021-10-22T09:40:29.610Z"
   },
   {
    "duration": 10,
    "start_time": "2021-10-22T09:40:30.415Z"
   },
   {
    "duration": 4,
    "start_time": "2021-10-22T09:40:30.428Z"
   },
   {
    "duration": 446,
    "start_time": "2021-10-22T09:42:32.699Z"
   },
   {
    "duration": 3,
    "start_time": "2021-10-22T09:44:43.822Z"
   },
   {
    "duration": 7,
    "start_time": "2021-10-22T09:45:52.356Z"
   },
   {
    "duration": 1361,
    "start_time": "2021-10-22T09:45:54.908Z"
   },
   {
    "duration": 1410,
    "start_time": "2021-10-22T09:46:42.460Z"
   },
   {
    "duration": 7,
    "start_time": "2021-10-22T09:46:50.003Z"
   },
   {
    "duration": 726,
    "start_time": "2021-10-22T09:46:51.356Z"
   },
   {
    "duration": 288,
    "start_time": "2021-10-22T09:47:46.564Z"
   },
   {
    "duration": 6,
    "start_time": "2021-10-22T09:50:23.266Z"
   },
   {
    "duration": 740,
    "start_time": "2021-10-22T09:50:24.123Z"
   },
   {
    "duration": 302,
    "start_time": "2021-10-22T09:50:28.170Z"
   },
   {
    "duration": 343,
    "start_time": "2021-10-22T09:51:04.211Z"
   },
   {
    "duration": 49,
    "start_time": "2021-10-22T09:51:18.098Z"
   },
   {
    "duration": 6,
    "start_time": "2021-10-22T09:51:36.196Z"
   },
   {
    "duration": 5,
    "start_time": "2021-10-22T09:51:58.114Z"
   },
   {
    "duration": 422,
    "start_time": "2021-10-22T09:52:10.912Z"
   },
   {
    "duration": 5,
    "start_time": "2021-10-22T09:54:52.032Z"
   },
   {
    "duration": 339,
    "start_time": "2021-10-22T09:55:05.888Z"
   },
   {
    "duration": 5,
    "start_time": "2021-10-22T09:55:24.840Z"
   },
   {
    "duration": 5,
    "start_time": "2021-10-22T09:55:26.481Z"
   },
   {
    "duration": 304,
    "start_time": "2021-10-22T09:55:27.655Z"
   },
   {
    "duration": 285,
    "start_time": "2021-10-22T09:56:08.576Z"
   },
   {
    "duration": 6,
    "start_time": "2021-10-22T09:56:48.015Z"
   },
   {
    "duration": 6,
    "start_time": "2021-10-22T09:56:58.735Z"
   },
   {
    "duration": 286,
    "start_time": "2021-10-22T09:57:26.359Z"
   },
   {
    "duration": 292,
    "start_time": "2021-10-22T09:57:28.887Z"
   },
   {
    "duration": 7,
    "start_time": "2021-10-22T09:57:41.263Z"
   },
   {
    "duration": 6,
    "start_time": "2021-10-22T09:58:02.959Z"
   },
   {
    "duration": 5,
    "start_time": "2021-10-22T10:00:50.861Z"
   },
   {
    "duration": 6,
    "start_time": "2021-10-22T10:01:08.701Z"
   },
   {
    "duration": 5,
    "start_time": "2021-10-22T10:01:24.036Z"
   },
   {
    "duration": 13,
    "start_time": "2021-10-22T10:01:50.820Z"
   },
   {
    "duration": 12,
    "start_time": "2021-10-22T10:02:18.757Z"
   },
   {
    "duration": 74,
    "start_time": "2021-10-22T10:05:03.196Z"
   },
   {
    "duration": 78,
    "start_time": "2021-10-22T10:05:11.715Z"
   },
   {
    "duration": 311,
    "start_time": "2021-10-22T10:06:27.251Z"
   },
   {
    "duration": 277,
    "start_time": "2021-10-22T10:06:39.130Z"
   },
   {
    "duration": 83,
    "start_time": "2021-10-22T10:06:53.706Z"
   },
   {
    "duration": 6,
    "start_time": "2021-10-22T10:07:02.785Z"
   },
   {
    "duration": 13,
    "start_time": "2021-10-22T10:07:12.594Z"
   },
   {
    "duration": 10,
    "start_time": "2021-10-22T10:07:29.002Z"
   },
   {
    "duration": 11,
    "start_time": "2021-10-22T10:07:47.714Z"
   },
   {
    "duration": 367,
    "start_time": "2021-10-22T10:09:04.978Z"
   },
   {
    "duration": 7,
    "start_time": "2021-10-22T10:09:49.489Z"
   },
   {
    "duration": 11,
    "start_time": "2021-10-22T10:10:32.352Z"
   },
   {
    "duration": 6,
    "start_time": "2021-10-22T10:11:07.576Z"
   },
   {
    "duration": 6,
    "start_time": "2021-10-22T10:11:25.712Z"
   },
   {
    "duration": 6,
    "start_time": "2021-10-22T10:11:28.441Z"
   },
   {
    "duration": 94,
    "start_time": "2021-10-22T10:11:59.823Z"
   },
   {
    "duration": 100,
    "start_time": "2021-10-22T10:12:06.168Z"
   },
   {
    "duration": 10,
    "start_time": "2021-10-22T10:12:10.311Z"
   },
   {
    "duration": 314,
    "start_time": "2021-10-22T10:13:12.903Z"
   },
   {
    "duration": 4,
    "start_time": "2021-10-22T10:13:18.655Z"
   },
   {
    "duration": 348,
    "start_time": "2021-10-22T10:13:55.623Z"
   },
   {
    "duration": 6,
    "start_time": "2021-10-22T10:14:02.631Z"
   },
   {
    "duration": 14,
    "start_time": "2021-10-22T10:14:09.358Z"
   },
   {
    "duration": 320,
    "start_time": "2021-10-22T10:16:17.687Z"
   },
   {
    "duration": 6,
    "start_time": "2021-10-22T10:18:11.958Z"
   },
   {
    "duration": 14,
    "start_time": "2021-10-22T10:18:18.356Z"
   },
   {
    "duration": 14,
    "start_time": "2021-10-22T10:20:02.908Z"
   },
   {
    "duration": 14,
    "start_time": "2021-10-22T10:20:30.965Z"
   },
   {
    "duration": 346,
    "start_time": "2021-10-22T10:21:21.531Z"
   },
   {
    "duration": 296,
    "start_time": "2021-10-22T10:21:58.970Z"
   },
   {
    "duration": 15,
    "start_time": "2021-10-22T10:22:05.546Z"
   },
   {
    "duration": 13,
    "start_time": "2021-10-22T10:22:27.132Z"
   },
   {
    "duration": 56,
    "start_time": "2021-10-22T10:24:51.883Z"
   },
   {
    "duration": 15,
    "start_time": "2021-10-22T10:24:52.650Z"
   },
   {
    "duration": 96,
    "start_time": "2021-10-22T10:55:26.679Z"
   },
   {
    "duration": 7,
    "start_time": "2021-10-22T10:55:39.465Z"
   },
   {
    "duration": 663,
    "start_time": "2021-10-22T10:55:41.022Z"
   },
   {
    "duration": 5,
    "start_time": "2021-10-22T10:56:15.350Z"
   },
   {
    "duration": 7,
    "start_time": "2021-10-22T10:56:20.541Z"
   },
   {
    "duration": 713,
    "start_time": "2021-10-22T10:56:21.605Z"
   },
   {
    "duration": 1133,
    "start_time": "2021-10-22T15:26:17.171Z"
   },
   {
    "duration": 2950,
    "start_time": "2021-10-22T15:26:18.305Z"
   },
   {
    "duration": 1070,
    "start_time": "2021-10-22T15:26:33.563Z"
   },
   {
    "duration": 2044,
    "start_time": "2021-10-22T15:26:34.635Z"
   },
   {
    "duration": 3,
    "start_time": "2021-10-22T15:26:36.682Z"
   },
   {
    "duration": 153,
    "start_time": "2021-10-22T15:26:36.687Z"
   },
   {
    "duration": 19,
    "start_time": "2021-10-22T15:26:36.842Z"
   },
   {
    "duration": 8,
    "start_time": "2021-10-22T15:26:36.863Z"
   },
   {
    "duration": 10,
    "start_time": "2021-10-22T15:26:36.872Z"
   },
   {
    "duration": 11,
    "start_time": "2021-10-22T15:26:36.884Z"
   },
   {
    "duration": 45,
    "start_time": "2021-10-22T15:26:36.897Z"
   },
   {
    "duration": 1983,
    "start_time": "2021-10-22T15:26:36.944Z"
   },
   {
    "duration": 27,
    "start_time": "2021-10-22T15:26:38.928Z"
   },
   {
    "duration": 316,
    "start_time": "2021-10-22T15:26:38.956Z"
   },
   {
    "duration": 7334,
    "start_time": "2021-10-22T15:26:39.274Z"
   },
   {
    "duration": 1032,
    "start_time": "2021-10-22T15:26:46.609Z"
   },
   {
    "duration": 6,
    "start_time": "2021-10-22T15:26:47.643Z"
   },
   {
    "duration": 5,
    "start_time": "2021-10-22T15:26:47.650Z"
   },
   {
    "duration": 5,
    "start_time": "2021-10-22T15:26:47.656Z"
   },
   {
    "duration": 579,
    "start_time": "2021-10-22T15:26:47.662Z"
   },
   {
    "duration": 48,
    "start_time": "2021-10-22T15:26:48.243Z"
   },
   {
    "duration": 103,
    "start_time": "2021-10-22T15:26:48.294Z"
   },
   {
    "duration": 8,
    "start_time": "2021-10-22T15:26:48.399Z"
   },
   {
    "duration": 2,
    "start_time": "2021-10-22T15:26:48.409Z"
   },
   {
    "duration": 1078,
    "start_time": "2021-10-22T15:29:14.966Z"
   },
   {
    "duration": 1094,
    "start_time": "2021-10-22T15:29:35.418Z"
   },
   {
    "duration": 408,
    "start_time": "2021-10-22T15:29:46.576Z"
   },
   {
    "duration": 193,
    "start_time": "2021-10-22T15:30:17.675Z"
   },
   {
    "duration": 191,
    "start_time": "2021-10-22T15:30:35.924Z"
   },
   {
    "duration": 2,
    "start_time": "2021-10-22T15:32:55.944Z"
   },
   {
    "duration": 3,
    "start_time": "2021-10-22T15:35:43.239Z"
   },
   {
    "duration": 7,
    "start_time": "2021-10-22T15:35:44.181Z"
   },
   {
    "duration": 3,
    "start_time": "2021-10-22T15:35:49.557Z"
   },
   {
    "duration": 3,
    "start_time": "2021-10-22T15:38:36.327Z"
   },
   {
    "duration": 6,
    "start_time": "2021-10-22T15:38:36.743Z"
   },
   {
    "duration": 3,
    "start_time": "2021-10-22T15:38:39.342Z"
   },
   {
    "duration": 7,
    "start_time": "2021-10-22T15:41:48.624Z"
   },
   {
    "duration": 3,
    "start_time": "2021-10-22T15:41:50.288Z"
   },
   {
    "duration": 5,
    "start_time": "2021-10-22T15:41:52.079Z"
   },
   {
    "duration": 485,
    "start_time": "2021-10-22T15:42:11.920Z"
   },
   {
    "duration": 532,
    "start_time": "2021-10-22T15:47:13.671Z"
   },
   {
    "duration": 27,
    "start_time": "2021-10-22T15:47:23.214Z"
   },
   {
    "duration": 9,
    "start_time": "2021-10-22T15:47:26.045Z"
   },
   {
    "duration": 989,
    "start_time": "2021-10-22T16:02:02.928Z"
   },
   {
    "duration": 3,
    "start_time": "2021-10-22T16:02:41.256Z"
   },
   {
    "duration": 4,
    "start_time": "2021-10-22T16:02:43.503Z"
   },
   {
    "duration": 494,
    "start_time": "2021-10-22T16:02:44.904Z"
   },
   {
    "duration": 25,
    "start_time": "2021-10-22T16:02:59.327Z"
   },
   {
    "duration": 9,
    "start_time": "2021-10-22T16:03:01.902Z"
   },
   {
    "duration": 418,
    "start_time": "2021-10-22T16:04:39.014Z"
   },
   {
    "duration": 3,
    "start_time": "2021-10-22T16:04:41.774Z"
   },
   {
    "duration": 267,
    "start_time": "2021-10-22T16:04:42.838Z"
   },
   {
    "duration": 4,
    "start_time": "2021-10-22T16:05:08.221Z"
   },
   {
    "duration": 466,
    "start_time": "2021-10-22T16:05:08.933Z"
   },
   {
    "duration": 9,
    "start_time": "2021-10-22T16:05:59.974Z"
   },
   {
    "duration": 3,
    "start_time": "2021-10-22T16:17:28.552Z"
   },
   {
    "duration": 4,
    "start_time": "2021-10-22T16:17:29.919Z"
   },
   {
    "duration": 481,
    "start_time": "2021-10-22T16:17:33.438Z"
   },
   {
    "duration": 26,
    "start_time": "2021-10-22T16:17:44.177Z"
   },
   {
    "duration": 10,
    "start_time": "2021-10-22T16:17:45.420Z"
   },
   {
    "duration": 3,
    "start_time": "2021-10-22T16:18:09.193Z"
   },
   {
    "duration": 3,
    "start_time": "2021-10-22T16:18:09.908Z"
   },
   {
    "duration": 499,
    "start_time": "2021-10-22T16:18:10.310Z"
   },
   {
    "duration": 26,
    "start_time": "2021-10-22T16:18:11.871Z"
   },
   {
    "duration": 10,
    "start_time": "2021-10-22T16:18:14.255Z"
   },
   {
    "duration": 10,
    "start_time": "2021-10-22T16:18:17.732Z"
   },
   {
    "duration": 298,
    "start_time": "2021-10-22T16:19:47.149Z"
   },
   {
    "duration": 178,
    "start_time": "2021-10-22T16:19:48.420Z"
   },
   {
    "duration": 310,
    "start_time": "2021-10-22T16:19:58.889Z"
   },
   {
    "duration": 169,
    "start_time": "2021-10-22T16:20:12.354Z"
   },
   {
    "duration": 4,
    "start_time": "2021-10-22T16:23:04.857Z"
   },
   {
    "duration": 183,
    "start_time": "2021-10-22T16:23:23.406Z"
   },
   {
    "duration": 26,
    "start_time": "2021-10-22T16:23:34.447Z"
   },
   {
    "duration": 185,
    "start_time": "2021-10-22T16:24:46.822Z"
   },
   {
    "duration": 11,
    "start_time": "2021-10-22T16:25:21.546Z"
   },
   {
    "duration": 16,
    "start_time": "2021-10-22T16:26:09.814Z"
   },
   {
    "duration": 15,
    "start_time": "2021-10-22T16:26:29.149Z"
   },
   {
    "duration": 15,
    "start_time": "2021-10-22T16:40:32.225Z"
   },
   {
    "duration": 9,
    "start_time": "2021-10-22T16:40:33.382Z"
   },
   {
    "duration": 315,
    "start_time": "2021-10-22T16:40:42.054Z"
   },
   {
    "duration": 14,
    "start_time": "2021-10-22T16:41:05.813Z"
   },
   {
    "duration": 9,
    "start_time": "2021-10-22T16:41:06.519Z"
   },
   {
    "duration": 300,
    "start_time": "2021-10-22T16:41:12.111Z"
   },
   {
    "duration": 17,
    "start_time": "2021-10-22T16:41:17.870Z"
   },
   {
    "duration": 180,
    "start_time": "2021-10-22T16:41:27.224Z"
   },
   {
    "duration": 22,
    "start_time": "2021-10-22T16:41:46.862Z"
   },
   {
    "duration": 12,
    "start_time": "2021-10-22T16:56:01.678Z"
   },
   {
    "duration": 15,
    "start_time": "2021-10-22T16:56:18.776Z"
   },
   {
    "duration": 297,
    "start_time": "2021-10-22T16:56:39.744Z"
   },
   {
    "duration": 11,
    "start_time": "2021-10-22T16:56:43.958Z"
   },
   {
    "duration": 14,
    "start_time": "2021-10-22T16:57:30.494Z"
   },
   {
    "duration": 15,
    "start_time": "2021-10-22T16:57:41.750Z"
   },
   {
    "duration": 6,
    "start_time": "2021-10-22T17:00:13.840Z"
   },
   {
    "duration": 68,
    "start_time": "2021-10-22T17:00:47.963Z"
   },
   {
    "duration": 5,
    "start_time": "2021-10-22T17:01:28.553Z"
   },
   {
    "duration": 580,
    "start_time": "2021-10-22T17:02:08.732Z"
   },
   {
    "duration": 15,
    "start_time": "2021-10-22T17:04:38.429Z"
   },
   {
    "duration": 177,
    "start_time": "2021-10-22T17:06:43.758Z"
   },
   {
    "duration": 6,
    "start_time": "2021-10-22T17:07:02.515Z"
   },
   {
    "duration": 1423,
    "start_time": "2021-10-22T17:07:05.086Z"
   },
   {
    "duration": 1707,
    "start_time": "2021-10-22T17:07:12.840Z"
   },
   {
    "duration": 31,
    "start_time": "2021-10-22T17:09:14.211Z"
   },
   {
    "duration": 37,
    "start_time": "2021-10-22T17:09:22.459Z"
   },
   {
    "duration": 1928,
    "start_time": "2021-10-22T17:09:57.713Z"
   },
   {
    "duration": 49,
    "start_time": "2021-10-22T17:09:59.643Z"
   },
   {
    "duration": 40,
    "start_time": "2021-10-22T17:10:48.644Z"
   },
   {
    "duration": 119,
    "start_time": "2021-10-22T17:12:37.400Z"
   },
   {
    "duration": 118,
    "start_time": "2021-10-22T17:13:07.263Z"
   },
   {
    "duration": 215,
    "start_time": "2021-10-22T17:14:28.283Z"
   },
   {
    "duration": 209,
    "start_time": "2021-10-22T17:14:56.750Z"
   },
   {
    "duration": 206,
    "start_time": "2021-10-22T17:15:43.140Z"
   },
   {
    "duration": 230,
    "start_time": "2021-10-22T17:15:50.747Z"
   },
   {
    "duration": 59,
    "start_time": "2021-10-22T17:16:12.336Z"
   },
   {
    "duration": 57,
    "start_time": "2021-10-22T17:16:21.736Z"
   },
   {
    "duration": 121,
    "start_time": "2021-10-22T17:16:33.194Z"
   },
   {
    "duration": 4,
    "start_time": "2021-10-22T17:16:49.609Z"
   },
   {
    "duration": 182,
    "start_time": "2021-10-22T17:17:36.360Z"
   },
   {
    "duration": 41,
    "start_time": "2021-10-22T17:18:01.233Z"
   },
   {
    "duration": 33,
    "start_time": "2021-10-22T17:18:21.872Z"
   },
   {
    "duration": 34,
    "start_time": "2021-10-22T17:18:29.096Z"
   },
   {
    "duration": 30,
    "start_time": "2021-10-22T17:18:34.094Z"
   },
   {
    "duration": 39,
    "start_time": "2021-10-22T17:18:47.226Z"
   },
   {
    "duration": 107,
    "start_time": "2021-10-22T17:19:10.265Z"
   },
   {
    "duration": 31,
    "start_time": "2021-10-22T17:19:20.754Z"
   },
   {
    "duration": 99,
    "start_time": "2021-10-22T17:19:22.630Z"
   },
   {
    "duration": 9254,
    "start_time": "2021-10-22T17:26:53.650Z"
   },
   {
    "duration": 56,
    "start_time": "2021-10-22T17:31:07.615Z"
   },
   {
    "duration": 13599,
    "start_time": "2021-10-22T17:31:19.373Z"
   },
   {
    "duration": 102,
    "start_time": "2021-10-22T17:33:12.175Z"
   },
   {
    "duration": 184,
    "start_time": "2021-10-22T17:33:50.563Z"
   },
   {
    "duration": 32,
    "start_time": "2021-10-22T17:33:57.504Z"
   },
   {
    "duration": 14,
    "start_time": "2021-10-22T17:34:00.364Z"
   },
   {
    "duration": 97,
    "start_time": "2021-10-22T17:34:41.729Z"
   },
   {
    "duration": 13269,
    "start_time": "2021-10-22T17:37:29.006Z"
   },
   {
    "duration": 13221,
    "start_time": "2021-10-22T17:40:18.076Z"
   },
   {
    "duration": 20536,
    "start_time": "2021-10-22T17:42:23.078Z"
   },
   {
    "duration": 13577,
    "start_time": "2021-10-22T17:43:11.092Z"
   },
   {
    "duration": 6,
    "start_time": "2021-10-22T17:45:28.737Z"
   },
   {
    "duration": 882,
    "start_time": "2021-10-22T17:46:25.264Z"
   },
   {
    "duration": 866,
    "start_time": "2021-10-22T17:47:00.800Z"
   },
   {
    "duration": 63,
    "start_time": "2021-10-22T17:47:39.465Z"
   },
   {
    "duration": 1003,
    "start_time": "2021-10-22T17:47:54.281Z"
   },
   {
    "duration": 1263,
    "start_time": "2021-10-22T17:50:32.088Z"
   },
   {
    "duration": 19963,
    "start_time": "2021-10-22T17:52:40.223Z"
   },
   {
    "duration": 1291,
    "start_time": "2021-10-22T17:53:00.191Z"
   },
   {
    "duration": 20033,
    "start_time": "2021-10-22T17:53:15.966Z"
   },
   {
    "duration": 522782,
    "start_time": "2021-10-22T17:55:09.180Z"
   },
   {
    "duration": -645,
    "start_time": "2021-10-22T18:03:52.610Z"
   },
   {
    "duration": 8830,
    "start_time": "2021-10-22T18:05:29.302Z"
   },
   {
    "duration": 9822,
    "start_time": "2021-10-22T18:05:56.779Z"
   },
   {
    "duration": 9833,
    "start_time": "2021-10-22T18:06:30.376Z"
   },
   {
    "duration": 9,
    "start_time": "2021-10-22T18:14:36.683Z"
   },
   {
    "duration": 652,
    "start_time": "2021-10-22T18:16:15.273Z"
   },
   {
    "duration": 648,
    "start_time": "2021-10-22T18:16:49.870Z"
   },
   {
    "duration": 633,
    "start_time": "2021-10-22T18:17:08.299Z"
   },
   {
    "duration": 654,
    "start_time": "2021-10-22T18:17:37.160Z"
   },
   {
    "duration": 642,
    "start_time": "2021-10-22T18:18:55.330Z"
   },
   {
    "duration": 61,
    "start_time": "2021-10-22T18:20:30.151Z"
   },
   {
    "duration": 54,
    "start_time": "2021-10-22T18:20:36.049Z"
   },
   {
    "duration": 64,
    "start_time": "2021-10-22T18:20:44.294Z"
   },
   {
    "duration": 58,
    "start_time": "2021-10-22T18:20:47.267Z"
   },
   {
    "duration": 61,
    "start_time": "2021-10-22T18:21:16.772Z"
   },
   {
    "duration": 67,
    "start_time": "2021-10-22T18:21:23.528Z"
   },
   {
    "duration": 69,
    "start_time": "2021-10-22T18:21:28.479Z"
   },
   {
    "duration": 9906,
    "start_time": "2021-10-22T18:21:58.518Z"
   },
   {
    "duration": 9866,
    "start_time": "2021-10-22T18:22:20.448Z"
   },
   {
    "duration": 57,
    "start_time": "2021-10-22T18:23:13.851Z"
   },
   {
    "duration": 9952,
    "start_time": "2021-10-22T18:23:54.873Z"
   },
   {
    "duration": 597,
    "start_time": "2021-10-22T18:25:22.254Z"
   },
   {
    "duration": 9862,
    "start_time": "2021-10-22T18:25:34.211Z"
   },
   {
    "duration": 10034,
    "start_time": "2021-10-22T18:26:35.742Z"
   },
   {
    "duration": 54,
    "start_time": "2021-10-22T18:27:09.191Z"
   },
   {
    "duration": 423,
    "start_time": "2021-10-22T18:27:38.481Z"
   },
   {
    "duration": 9972,
    "start_time": "2021-10-22T18:28:00.761Z"
   },
   {
    "duration": 9860,
    "start_time": "2021-10-22T18:28:56.396Z"
   },
   {
    "duration": 1671,
    "start_time": "2021-10-22T18:34:59.883Z"
   },
   {
    "duration": 1799,
    "start_time": "2021-10-22T18:35:25.034Z"
   },
   {
    "duration": 32,
    "start_time": "2021-10-22T18:35:26.835Z"
   },
   {
    "duration": 94,
    "start_time": "2021-10-22T18:35:27.597Z"
   },
   {
    "duration": 9898,
    "start_time": "2021-10-22T18:35:45.630Z"
   },
   {
    "duration": 84610,
    "start_time": "2021-10-22T18:38:19.693Z"
   },
   {
    "duration": 1771,
    "start_time": "2021-10-22T18:40:14.887Z"
   },
   {
    "duration": 34,
    "start_time": "2021-10-22T18:40:18.441Z"
   },
   {
    "duration": 98,
    "start_time": "2021-10-22T18:40:18.904Z"
   },
   {
    "duration": 9894,
    "start_time": "2021-10-22T18:40:21.596Z"
   },
   {
    "duration": 10,
    "start_time": "2021-10-22T18:40:37.121Z"
   },
   {
    "duration": 1297,
    "start_time": "2021-10-23T08:43:40.999Z"
   },
   {
    "duration": 3846,
    "start_time": "2021-10-23T08:43:42.849Z"
   },
   {
    "duration": 1400,
    "start_time": "2021-10-23T08:44:06.514Z"
   },
   {
    "duration": 2664,
    "start_time": "2021-10-23T08:44:08.105Z"
   },
   {
    "duration": 3,
    "start_time": "2021-10-23T08:44:29.218Z"
   },
   {
    "duration": 262,
    "start_time": "2021-10-23T08:44:42.042Z"
   },
   {
    "duration": 245,
    "start_time": "2021-10-23T08:46:59.008Z"
   },
   {
    "duration": 20,
    "start_time": "2021-10-23T08:47:02.734Z"
   },
   {
    "duration": 3,
    "start_time": "2021-10-23T08:47:35.777Z"
   },
   {
    "duration": 16,
    "start_time": "2021-10-23T08:47:41.952Z"
   },
   {
    "duration": 9,
    "start_time": "2021-10-23T08:47:54.928Z"
   },
   {
    "duration": 5,
    "start_time": "2021-10-23T09:00:08.858Z"
   },
   {
    "duration": 5,
    "start_time": "2021-10-23T09:00:13.392Z"
   },
   {
    "duration": 5,
    "start_time": "2021-10-23T09:02:28.209Z"
   },
   {
    "duration": 4,
    "start_time": "2021-10-23T09:02:42.822Z"
   },
   {
    "duration": 16,
    "start_time": "2021-10-23T09:03:18.959Z"
   },
   {
    "duration": 5,
    "start_time": "2021-10-23T09:11:26.869Z"
   },
   {
    "duration": 41,
    "start_time": "2021-10-23T09:11:36.691Z"
   },
   {
    "duration": 2071,
    "start_time": "2021-10-23T09:11:37.613Z"
   },
   {
    "duration": 31,
    "start_time": "2021-10-23T09:11:44.563Z"
   },
   {
    "duration": 974,
    "start_time": "2021-10-23T09:11:45.004Z"
   },
   {
    "duration": 8181,
    "start_time": "2021-10-23T09:11:47.092Z"
   },
   {
    "duration": 1041,
    "start_time": "2021-10-23T09:11:55.275Z"
   },
   {
    "duration": 1000,
    "start_time": "2021-10-23T09:14:33.206Z"
   },
   {
    "duration": 928,
    "start_time": "2021-10-23T09:22:27.564Z"
   },
   {
    "duration": 956,
    "start_time": "2021-10-23T09:22:35.271Z"
   },
   {
    "duration": 989,
    "start_time": "2021-10-23T09:23:23.065Z"
   },
   {
    "duration": 75596,
    "start_time": "2021-10-23T09:24:28.703Z"
   },
   {
    "duration": -310,
    "start_time": "2021-10-23T09:27:14.607Z"
   },
   {
    "duration": 88176,
    "start_time": "2021-10-23T09:27:29.949Z"
   },
   {
    "duration": -253,
    "start_time": "2021-10-23T09:28:58.380Z"
   },
   {
    "duration": 2381,
    "start_time": "2021-10-23T09:30:13.300Z"
   },
   {
    "duration": 5185,
    "start_time": "2021-10-23T09:30:22.340Z"
   },
   {
    "duration": 1641,
    "start_time": "2021-10-25T08:13:53.582Z"
   },
   {
    "duration": 5154,
    "start_time": "2021-10-25T08:13:55.225Z"
   },
   {
    "duration": 5,
    "start_time": "2021-10-25T08:14:00.383Z"
   },
   {
    "duration": 311,
    "start_time": "2021-10-25T08:14:00.391Z"
   },
   {
    "duration": 32,
    "start_time": "2021-10-25T08:14:00.705Z"
   },
   {
    "duration": 8776,
    "start_time": "2021-10-25T08:14:00.739Z"
   },
   {
    "duration": -553,
    "start_time": "2021-10-25T08:14:10.073Z"
   },
   {
    "duration": -553,
    "start_time": "2021-10-25T08:14:10.074Z"
   },
   {
    "duration": -553,
    "start_time": "2021-10-25T08:14:10.075Z"
   },
   {
    "duration": -553,
    "start_time": "2021-10-25T08:14:10.076Z"
   },
   {
    "duration": -553,
    "start_time": "2021-10-25T08:14:10.077Z"
   },
   {
    "duration": -553,
    "start_time": "2021-10-25T08:14:10.078Z"
   },
   {
    "duration": -553,
    "start_time": "2021-10-25T08:14:10.079Z"
   },
   {
    "duration": -552,
    "start_time": "2021-10-25T08:14:10.080Z"
   },
   {
    "duration": -552,
    "start_time": "2021-10-25T08:14:10.081Z"
   },
   {
    "duration": -551,
    "start_time": "2021-10-25T08:14:10.081Z"
   },
   {
    "duration": -552,
    "start_time": "2021-10-25T08:14:10.083Z"
   },
   {
    "duration": -552,
    "start_time": "2021-10-25T08:14:10.084Z"
   },
   {
    "duration": -552,
    "start_time": "2021-10-25T08:14:10.086Z"
   },
   {
    "duration": -553,
    "start_time": "2021-10-25T08:14:10.088Z"
   },
   {
    "duration": -554,
    "start_time": "2021-10-25T08:14:10.091Z"
   },
   {
    "duration": -555,
    "start_time": "2021-10-25T08:14:10.093Z"
   },
   {
    "duration": -623,
    "start_time": "2021-10-25T08:14:10.163Z"
   },
   {
    "duration": -626,
    "start_time": "2021-10-25T08:14:10.167Z"
   },
   {
    "duration": -627,
    "start_time": "2021-10-25T08:14:10.170Z"
   },
   {
    "duration": -629,
    "start_time": "2021-10-25T08:14:10.173Z"
   },
   {
    "duration": -630,
    "start_time": "2021-10-25T08:14:10.175Z"
   },
   {
    "duration": -630,
    "start_time": "2021-10-25T08:14:10.177Z"
   },
   {
    "duration": -631,
    "start_time": "2021-10-25T08:14:10.179Z"
   },
   {
    "duration": -631,
    "start_time": "2021-10-25T08:14:10.181Z"
   },
   {
    "duration": -631,
    "start_time": "2021-10-25T08:14:10.182Z"
   },
   {
    "duration": -631,
    "start_time": "2021-10-25T08:14:10.184Z"
   },
   {
    "duration": -631,
    "start_time": "2021-10-25T08:14:10.185Z"
   },
   {
    "duration": -631,
    "start_time": "2021-10-25T08:14:10.186Z"
   },
   {
    "duration": 8864,
    "start_time": "2021-10-25T10:02:42.268Z"
   },
   {
    "duration": 8224,
    "start_time": "2021-10-25T10:03:00.891Z"
   },
   {
    "duration": -506,
    "start_time": "2021-10-25T10:03:09.624Z"
   },
   {
    "duration": 4,
    "start_time": "2021-10-25T10:03:21.564Z"
   },
   {
    "duration": 8,
    "start_time": "2021-10-25T10:03:22.461Z"
   },
   {
    "duration": 6,
    "start_time": "2021-10-25T10:03:23.211Z"
   },
   {
    "duration": 13,
    "start_time": "2021-10-25T10:03:24.339Z"
   },
   {
    "duration": 1602,
    "start_time": "2021-10-25T10:03:32.724Z"
   },
   {
    "duration": 3579,
    "start_time": "2021-10-25T10:03:34.328Z"
   },
   {
    "duration": 4,
    "start_time": "2021-10-25T10:03:37.910Z"
   },
   {
    "duration": 251,
    "start_time": "2021-10-25T10:03:37.917Z"
   },
   {
    "duration": 30,
    "start_time": "2021-10-25T10:03:38.170Z"
   },
   {
    "duration": 4,
    "start_time": "2021-10-25T10:03:38.203Z"
   },
   {
    "duration": 23,
    "start_time": "2021-10-25T10:03:38.209Z"
   },
   {
    "duration": 16,
    "start_time": "2021-10-25T10:03:38.236Z"
   },
   {
    "duration": 21,
    "start_time": "2021-10-25T10:03:38.255Z"
   },
   {
    "duration": 10,
    "start_time": "2021-10-25T10:03:38.279Z"
   },
   {
    "duration": 77,
    "start_time": "2021-10-25T10:03:38.291Z"
   },
   {
    "duration": 3461,
    "start_time": "2021-10-25T10:03:38.371Z"
   },
   {
    "duration": 69,
    "start_time": "2021-10-25T10:03:41.835Z"
   },
   {
    "duration": 740,
    "start_time": "2021-10-25T10:03:41.907Z"
   },
   {
    "duration": 10675,
    "start_time": "2021-10-25T10:03:42.651Z"
   },
   {
    "duration": 1612,
    "start_time": "2021-10-25T10:03:53.329Z"
   },
   {
    "duration": 9,
    "start_time": "2021-10-25T10:03:54.943Z"
   },
   {
    "duration": 18,
    "start_time": "2021-10-25T10:03:54.954Z"
   },
   {
    "duration": 36,
    "start_time": "2021-10-25T10:03:54.974Z"
   },
   {
    "duration": 20,
    "start_time": "2021-10-25T10:03:55.013Z"
   },
   {
    "duration": 18,
    "start_time": "2021-10-25T10:03:55.036Z"
   },
   {
    "duration": 761,
    "start_time": "2021-10-25T10:03:55.056Z"
   },
   {
    "duration": 28,
    "start_time": "2021-10-25T10:03:55.822Z"
   },
   {
    "duration": 110,
    "start_time": "2021-10-25T10:03:55.901Z"
   },
   {
    "duration": 507,
    "start_time": "2021-10-25T10:03:56.014Z"
   },
   {
    "duration": 20,
    "start_time": "2021-10-25T10:03:56.523Z"
   },
   {
    "duration": 27,
    "start_time": "2021-10-25T10:03:56.546Z"
   },
   {
    "duration": 29,
    "start_time": "2021-10-25T10:03:56.575Z"
   },
   {
    "duration": 142546,
    "start_time": "2021-10-25T10:03:56.607Z"
   },
   {
    "duration": 2370,
    "start_time": "2021-10-25T10:06:19.156Z"
   },
   {
    "duration": 52,
    "start_time": "2021-10-25T10:06:21.529Z"
   },
   {
    "duration": 245,
    "start_time": "2021-10-25T10:06:21.583Z"
   },
   {
    "duration": 12352,
    "start_time": "2021-10-25T10:06:21.831Z"
   },
   {
    "duration": 17,
    "start_time": "2021-10-25T10:06:34.185Z"
   },
   {
    "duration": 5170,
    "start_time": "2021-10-25T11:06:34.373Z"
   },
   {
    "duration": 3780,
    "start_time": "2021-10-25T11:06:56.240Z"
   },
   {
    "duration": 6,
    "start_time": "2021-10-25T11:07:44.303Z"
   },
   {
    "duration": 4245,
    "start_time": "2021-10-25T11:07:44.789Z"
   },
   {
    "duration": 4,
    "start_time": "2021-10-25T11:07:49.037Z"
   },
   {
    "duration": 248,
    "start_time": "2021-10-25T11:07:49.044Z"
   },
   {
    "duration": 27,
    "start_time": "2021-10-25T11:07:49.294Z"
   },
   {
    "duration": 4,
    "start_time": "2021-10-25T11:07:49.324Z"
   },
   {
    "duration": 6,
    "start_time": "2021-10-25T11:07:49.412Z"
   },
   {
    "duration": 6,
    "start_time": "2021-10-25T11:07:50.044Z"
   },
   {
    "duration": 14,
    "start_time": "2021-10-25T11:07:50.654Z"
   },
   {
    "duration": 8,
    "start_time": "2021-10-25T11:08:02.147Z"
   },
   {
    "duration": 71,
    "start_time": "2021-10-25T11:08:07.581Z"
   },
   {
    "duration": 3709,
    "start_time": "2021-10-25T11:08:10.076Z"
   },
   {
    "duration": 3798,
    "start_time": "2021-10-25T11:10:58.366Z"
   },
   {
    "duration": 50,
    "start_time": "2021-10-25T11:11:37.091Z"
   },
   {
    "duration": 105,
    "start_time": "2021-10-25T11:11:37.527Z"
   },
   {
    "duration": 11187,
    "start_time": "2021-10-25T11:11:46.465Z"
   },
   {
    "duration": 7,
    "start_time": "2021-10-25T11:47:57.434Z"
   },
   {
    "duration": 5,
    "start_time": "2021-10-25T11:58:15.974Z"
   },
   {
    "duration": 11784,
    "start_time": "2021-10-25T11:59:31.132Z"
   },
   {
    "duration": 11808,
    "start_time": "2021-10-25T12:00:15.193Z"
   },
   {
    "duration": 11494,
    "start_time": "2021-10-25T12:02:16.990Z"
   },
   {
    "duration": 1099,
    "start_time": "2021-10-25T12:02:43.845Z"
   },
   {
    "duration": 12048,
    "start_time": "2021-10-25T12:02:52.385Z"
   },
   {
    "duration": 576,
    "start_time": "2021-10-25T12:05:38.146Z"
   },
   {
    "duration": 10307,
    "start_time": "2021-10-25T12:05:51.578Z"
   },
   {
    "duration": 1825,
    "start_time": "2021-10-25T12:08:20.010Z"
   },
   {
    "duration": 1787,
    "start_time": "2021-10-25T12:08:40.978Z"
   },
   {
    "duration": 1651,
    "start_time": "2021-10-25T12:09:38.883Z"
   },
   {
    "duration": 209979,
    "start_time": "2021-10-25T12:10:05.535Z"
   },
   {
    "duration": 7,
    "start_time": "2021-10-25T12:13:35.518Z"
   },
   {
    "duration": 1782,
    "start_time": "2021-10-25T12:48:54.461Z"
   },
   {
    "duration": 1980,
    "start_time": "2021-10-25T12:49:05.195Z"
   },
   {
    "duration": 1704,
    "start_time": "2021-10-25T12:50:57.500Z"
   },
   {
    "duration": 1990,
    "start_time": "2021-10-25T12:51:50.148Z"
   },
   {
    "duration": 1783,
    "start_time": "2021-10-25T12:52:01.691Z"
   },
   {
    "duration": 416,
    "start_time": "2021-10-25T12:52:09.947Z"
   },
   {
    "duration": 359,
    "start_time": "2021-10-25T12:52:20.579Z"
   },
   {
    "duration": 1806,
    "start_time": "2021-10-25T12:52:25.308Z"
   },
   {
    "duration": 1784,
    "start_time": "2021-10-25T12:53:48.234Z"
   },
   {
    "duration": 1903,
    "start_time": "2021-10-25T12:53:54.466Z"
   },
   {
    "duration": 30,
    "start_time": "2021-10-25T13:03:53.875Z"
   },
   {
    "duration": 4,
    "start_time": "2021-10-25T13:20:23.014Z"
   },
   {
    "duration": 31,
    "start_time": "2021-10-25T13:26:22.539Z"
   },
   {
    "duration": 46,
    "start_time": "2021-10-25T13:26:26.460Z"
   },
   {
    "duration": 65,
    "start_time": "2021-10-25T13:27:23.546Z"
   },
   {
    "duration": 4,
    "start_time": "2021-10-25T13:28:03.706Z"
   },
   {
    "duration": 460,
    "start_time": "2021-10-25T13:28:31.957Z"
   },
   {
    "duration": 72,
    "start_time": "2021-10-25T13:28:34.826Z"
   },
   {
    "duration": 72,
    "start_time": "2021-10-25T13:28:48.553Z"
   },
   {
    "duration": 72,
    "start_time": "2021-10-25T13:28:51.930Z"
   },
   {
    "duration": 544,
    "start_time": "2021-10-25T13:29:17.357Z"
   },
   {
    "duration": 67,
    "start_time": "2021-10-25T13:29:36.745Z"
   },
   {
    "duration": 532,
    "start_time": "2021-10-25T13:31:51.843Z"
   },
   {
    "duration": 206,
    "start_time": "2021-10-25T13:31:57.894Z"
   },
   {
    "duration": 14,
    "start_time": "2021-10-25T13:32:07.215Z"
   },
   {
    "duration": 6,
    "start_time": "2021-10-25T13:33:09.168Z"
   },
   {
    "duration": 9,
    "start_time": "2021-10-25T13:33:28.160Z"
   },
   {
    "duration": 381,
    "start_time": "2021-10-25T13:33:48.881Z"
   },
   {
    "duration": 387,
    "start_time": "2021-10-25T13:34:08.775Z"
   },
   {
    "duration": 444,
    "start_time": "2021-10-25T13:34:17.103Z"
   },
   {
    "duration": 11,
    "start_time": "2021-10-25T13:35:49.990Z"
   },
   {
    "duration": 373,
    "start_time": "2021-10-25T13:36:12.636Z"
   },
   {
    "duration": 11,
    "start_time": "2021-10-25T13:36:19.725Z"
   },
   {
    "duration": 451,
    "start_time": "2021-10-25T13:36:52.254Z"
   },
   {
    "duration": 14,
    "start_time": "2021-10-25T13:37:21.512Z"
   },
   {
    "duration": 385,
    "start_time": "2021-10-25T13:37:42.477Z"
   },
   {
    "duration": 382,
    "start_time": "2021-10-25T13:41:04.524Z"
   },
   {
    "duration": 365,
    "start_time": "2021-10-25T13:41:13.516Z"
   },
   {
    "duration": 14,
    "start_time": "2021-10-25T13:41:51.508Z"
   },
   {
    "duration": 371,
    "start_time": "2021-10-25T13:42:35.600Z"
   },
   {
    "duration": 21,
    "start_time": "2021-10-25T13:42:45.003Z"
   },
   {
    "duration": 20,
    "start_time": "2021-10-25T13:44:17.241Z"
   },
   {
    "duration": 21,
    "start_time": "2021-10-25T13:45:25.952Z"
   },
   {
    "duration": 369,
    "start_time": "2021-10-25T13:45:49.952Z"
   },
   {
    "duration": 27,
    "start_time": "2021-10-25T13:46:08.085Z"
   },
   {
    "duration": 35,
    "start_time": "2021-10-25T13:48:21.561Z"
   },
   {
    "duration": 18,
    "start_time": "2021-10-25T13:48:25.688Z"
   },
   {
    "duration": 19,
    "start_time": "2021-10-25T13:48:36.817Z"
   },
   {
    "duration": 30,
    "start_time": "2021-10-25T13:50:47.058Z"
   },
   {
    "duration": 522,
    "start_time": "2021-10-25T13:50:54.087Z"
   },
   {
    "duration": 15,
    "start_time": "2021-10-25T13:50:58.326Z"
   },
   {
    "duration": 21,
    "start_time": "2021-10-25T13:51:05.144Z"
   },
   {
    "duration": 40,
    "start_time": "2021-10-25T13:52:08.128Z"
   },
   {
    "duration": 17,
    "start_time": "2021-10-25T13:52:44.972Z"
   },
   {
    "duration": 519,
    "start_time": "2021-10-25T13:53:25.822Z"
   },
   {
    "duration": 17,
    "start_time": "2021-10-25T13:53:31.366Z"
   },
   {
    "duration": 17,
    "start_time": "2021-10-25T13:59:45.886Z"
   },
   {
    "duration": 18,
    "start_time": "2021-10-25T13:59:46.594Z"
   },
   {
    "duration": 545,
    "start_time": "2021-10-25T14:13:31.429Z"
   },
   {
    "duration": 300,
    "start_time": "2021-10-25T16:16:02.379Z"
   },
   {
    "duration": 1282,
    "start_time": "2021-10-25T16:16:10.709Z"
   },
   {
    "duration": 3594,
    "start_time": "2021-10-25T16:16:11.993Z"
   },
   {
    "duration": 4,
    "start_time": "2021-10-25T16:16:15.589Z"
   },
   {
    "duration": 189,
    "start_time": "2021-10-25T16:16:15.595Z"
   },
   {
    "duration": 22,
    "start_time": "2021-10-25T16:16:15.786Z"
   },
   {
    "duration": 4,
    "start_time": "2021-10-25T16:16:15.809Z"
   },
   {
    "duration": 11,
    "start_time": "2021-10-25T16:16:15.815Z"
   },
   {
    "duration": 12,
    "start_time": "2021-10-25T16:16:15.828Z"
   },
   {
    "duration": 9,
    "start_time": "2021-10-25T16:16:16.057Z"
   },
   {
    "duration": 6,
    "start_time": "2021-10-25T16:16:18.396Z"
   },
   {
    "duration": 42,
    "start_time": "2021-10-25T16:16:19.460Z"
   },
   {
    "duration": 2127,
    "start_time": "2021-10-25T16:16:20.132Z"
   },
   {
    "duration": 426,
    "start_time": "2021-10-25T16:16:22.264Z"
   },
   {
    "duration": 557,
    "start_time": "2021-10-25T16:16:43.084Z"
   },
   {
    "duration": 31,
    "start_time": "2021-10-25T16:17:48.412Z"
   },
   {
    "duration": 503,
    "start_time": "2021-10-25T16:17:48.660Z"
   },
   {
    "duration": 4,
    "start_time": "2021-10-25T16:17:49.395Z"
   },
   {
    "duration": 311,
    "start_time": "2021-10-25T16:17:49.630Z"
   },
   {
    "duration": 1307,
    "start_time": "2021-10-25T16:17:50.490Z"
   },
   {
    "duration": 7,
    "start_time": "2021-10-25T16:17:55.843Z"
   },
   {
    "duration": 7,
    "start_time": "2021-10-25T16:18:02.083Z"
   },
   {
    "duration": 19,
    "start_time": "2021-10-25T16:18:04.011Z"
   },
   {
    "duration": 353,
    "start_time": "2021-10-25T16:18:04.499Z"
   },
   {
    "duration": 10,
    "start_time": "2021-10-25T16:18:08.297Z"
   },
   {
    "duration": 26,
    "start_time": "2021-10-25T16:18:11.083Z"
   },
   {
    "duration": 13,
    "start_time": "2021-10-25T16:18:13.698Z"
   },
   {
    "duration": 18,
    "start_time": "2021-10-25T16:18:15.227Z"
   },
   {
    "duration": 3,
    "start_time": "2021-10-25T16:26:50.640Z"
   },
   {
    "duration": 240,
    "start_time": "2021-10-25T16:26:51.318Z"
   },
   {
    "duration": 8,
    "start_time": "2021-10-25T16:29:59.678Z"
   },
   {
    "duration": 938,
    "start_time": "2021-10-25T16:31:33.325Z"
   },
   {
    "duration": 6,
    "start_time": "2021-10-25T16:31:44.558Z"
   },
   {
    "duration": 8,
    "start_time": "2021-10-25T16:31:52.261Z"
   },
   {
    "duration": 297,
    "start_time": "2021-10-25T16:32:45.462Z"
   },
   {
    "duration": 1153,
    "start_time": "2021-10-25T16:33:00.637Z"
   },
   {
    "duration": 11,
    "start_time": "2021-10-25T16:33:24.381Z"
   },
   {
    "duration": 909,
    "start_time": "2021-10-25T16:38:15.302Z"
   },
   {
    "duration": 9,
    "start_time": "2021-10-25T16:38:26.513Z"
   },
   {
    "duration": 15,
    "start_time": "2021-10-25T16:39:07.669Z"
   },
   {
    "duration": 13,
    "start_time": "2021-10-25T16:39:32.242Z"
   },
   {
    "duration": 13,
    "start_time": "2021-10-25T16:39:45.514Z"
   },
   {
    "duration": 13,
    "start_time": "2021-10-25T16:40:16.348Z"
   },
   {
    "duration": 90,
    "start_time": "2021-10-25T16:40:34.409Z"
   },
   {
    "duration": 6,
    "start_time": "2021-10-25T16:42:06.817Z"
   },
   {
    "duration": 296,
    "start_time": "2021-10-25T16:42:46.506Z"
   },
   {
    "duration": 14,
    "start_time": "2021-10-25T16:42:47.159Z"
   },
   {
    "duration": 4,
    "start_time": "2021-10-25T16:42:51.960Z"
   },
   {
    "duration": 4,
    "start_time": "2021-10-25T16:43:28.275Z"
   },
   {
    "duration": 13,
    "start_time": "2021-10-25T16:43:28.848Z"
   },
   {
    "duration": 335,
    "start_time": "2021-10-25T16:44:43.159Z"
   },
   {
    "duration": 27,
    "start_time": "2021-10-25T16:44:45.124Z"
   },
   {
    "duration": 5,
    "start_time": "2021-10-25T16:45:56.638Z"
   },
   {
    "duration": 246,
    "start_time": "2021-10-25T16:45:57.918Z"
   },
   {
    "duration": 6,
    "start_time": "2021-10-25T16:46:15.327Z"
   },
   {
    "duration": 6,
    "start_time": "2021-10-25T16:46:42.654Z"
   },
   {
    "duration": 14,
    "start_time": "2021-10-25T16:46:43.346Z"
   },
   {
    "duration": 32,
    "start_time": "2021-10-25T16:48:18.959Z"
   },
   {
    "duration": 37,
    "start_time": "2021-10-25T16:48:28.063Z"
   },
   {
    "duration": 28,
    "start_time": "2021-10-25T16:48:47.821Z"
   },
   {
    "duration": 32,
    "start_time": "2021-10-25T16:48:55.244Z"
   },
   {
    "duration": 13,
    "start_time": "2021-10-25T16:49:41.083Z"
   },
   {
    "duration": 1247,
    "start_time": "2021-10-25T16:54:01.275Z"
   },
   {
    "duration": 2681,
    "start_time": "2021-10-25T16:54:02.524Z"
   },
   {
    "duration": 3,
    "start_time": "2021-10-25T16:54:05.208Z"
   },
   {
    "duration": 231,
    "start_time": "2021-10-25T16:54:05.213Z"
   },
   {
    "duration": 22,
    "start_time": "2021-10-25T16:54:05.446Z"
   },
   {
    "duration": 3,
    "start_time": "2021-10-25T16:54:05.470Z"
   },
   {
    "duration": 8,
    "start_time": "2021-10-25T16:54:05.474Z"
   },
   {
    "duration": 9,
    "start_time": "2021-10-25T16:54:05.483Z"
   },
   {
    "duration": 9,
    "start_time": "2021-10-25T16:54:05.495Z"
   },
   {
    "duration": 4,
    "start_time": "2021-10-25T16:54:05.507Z"
   },
   {
    "duration": 71,
    "start_time": "2021-10-25T16:54:05.513Z"
   },
   {
    "duration": 2137,
    "start_time": "2021-10-25T16:54:05.586Z"
   },
   {
    "duration": 42,
    "start_time": "2021-10-25T16:54:07.725Z"
   },
   {
    "duration": 695,
    "start_time": "2021-10-25T16:54:07.769Z"
   },
   {
    "duration": 4,
    "start_time": "2021-10-25T16:54:08.466Z"
   },
   {
    "duration": 8529,
    "start_time": "2021-10-25T16:54:08.472Z"
   },
   {
    "duration": 1080,
    "start_time": "2021-10-25T16:54:17.003Z"
   },
   {
    "duration": 7,
    "start_time": "2021-10-25T16:54:18.085Z"
   },
   {
    "duration": 8,
    "start_time": "2021-10-25T16:54:18.094Z"
   },
   {
    "duration": 62,
    "start_time": "2021-10-25T16:54:18.104Z"
   },
   {
    "duration": 96,
    "start_time": "2021-10-25T16:54:18.168Z"
   },
   {
    "duration": 106,
    "start_time": "2021-10-25T16:54:18.268Z"
   },
   {
    "duration": 351,
    "start_time": "2021-10-25T16:54:18.376Z"
   },
   {
    "duration": 36,
    "start_time": "2021-10-25T16:54:18.729Z"
   },
   {
    "duration": 11,
    "start_time": "2021-10-25T16:54:18.767Z"
   },
   {
    "duration": 14,
    "start_time": "2021-10-25T16:54:18.780Z"
   },
   {
    "duration": 9,
    "start_time": "2021-10-25T16:54:18.797Z"
   },
   {
    "duration": 63027,
    "start_time": "2021-10-25T16:54:18.808Z"
   },
   {
    "duration": -766,
    "start_time": "2021-10-25T16:55:22.603Z"
   },
   {
    "duration": -766,
    "start_time": "2021-10-25T16:55:22.604Z"
   },
   {
    "duration": -766,
    "start_time": "2021-10-25T16:55:22.605Z"
   },
   {
    "duration": -766,
    "start_time": "2021-10-25T16:55:22.606Z"
   },
   {
    "duration": -766,
    "start_time": "2021-10-25T16:55:22.607Z"
   },
   {
    "duration": 38,
    "start_time": "2021-10-25T16:55:35.088Z"
   },
   {
    "duration": 5,
    "start_time": "2021-10-25T16:55:48.222Z"
   },
   {
    "duration": 14,
    "start_time": "2021-10-25T16:55:56.254Z"
   },
   {
    "duration": 46,
    "start_time": "2021-10-25T16:57:03.333Z"
   },
   {
    "duration": 5,
    "start_time": "2021-10-25T16:57:12.454Z"
   },
   {
    "duration": 19,
    "start_time": "2021-10-25T16:57:20.183Z"
   },
   {
    "duration": 5,
    "start_time": "2021-10-25T16:59:50.445Z"
   },
   {
    "duration": 10,
    "start_time": "2021-10-25T16:59:57.932Z"
   },
   {
    "duration": 26,
    "start_time": "2021-10-25T17:01:28.341Z"
   },
   {
    "duration": 5,
    "start_time": "2021-10-25T17:01:38.180Z"
   },
   {
    "duration": 14,
    "start_time": "2021-10-25T17:01:38.919Z"
   },
   {
    "duration": 16,
    "start_time": "2021-10-25T17:03:05.915Z"
   },
   {
    "duration": 166,
    "start_time": "2021-10-25T17:13:27.103Z"
   },
   {
    "duration": 147,
    "start_time": "2021-10-25T17:14:40.551Z"
   },
   {
    "duration": 19,
    "start_time": "2021-10-25T17:14:45.948Z"
   },
   {
    "duration": 5,
    "start_time": "2021-10-25T17:15:00.069Z"
   },
   {
    "duration": 196,
    "start_time": "2021-10-25T17:15:05.550Z"
   },
   {
    "duration": 1643,
    "start_time": "2021-10-25T20:32:12.368Z"
   },
   {
    "duration": 4847,
    "start_time": "2021-10-25T20:32:14.014Z"
   },
   {
    "duration": 4,
    "start_time": "2021-10-25T20:32:18.864Z"
   },
   {
    "duration": 203,
    "start_time": "2021-10-25T20:32:18.871Z"
   },
   {
    "duration": 34,
    "start_time": "2021-10-25T20:32:19.076Z"
   },
   {
    "duration": 4,
    "start_time": "2021-10-25T20:32:19.113Z"
   },
   {
    "duration": 13,
    "start_time": "2021-10-25T20:32:19.119Z"
   },
   {
    "duration": 5,
    "start_time": "2021-10-25T20:32:19.136Z"
   },
   {
    "duration": 13,
    "start_time": "2021-10-25T20:32:19.145Z"
   },
   {
    "duration": 8,
    "start_time": "2021-10-25T20:32:19.161Z"
   },
   {
    "duration": 104,
    "start_time": "2021-10-25T20:32:19.171Z"
   },
   {
    "duration": 3722,
    "start_time": "2021-10-25T20:32:19.278Z"
   },
   {
    "duration": 60,
    "start_time": "2021-10-25T20:32:23.002Z"
   },
   {
    "duration": 723,
    "start_time": "2021-10-25T20:32:23.065Z"
   },
   {
    "duration": 5,
    "start_time": "2021-10-25T20:32:23.791Z"
   },
   {
    "duration": 435,
    "start_time": "2021-10-25T20:32:23.799Z"
   },
   {
    "duration": -837,
    "start_time": "2021-10-25T20:32:25.074Z"
   },
   {
    "duration": -840,
    "start_time": "2021-10-25T20:32:25.079Z"
   },
   {
    "duration": -843,
    "start_time": "2021-10-25T20:32:25.084Z"
   },
   {
    "duration": -846,
    "start_time": "2021-10-25T20:32:25.088Z"
   },
   {
    "duration": -850,
    "start_time": "2021-10-25T20:32:25.093Z"
   },
   {
    "duration": -852,
    "start_time": "2021-10-25T20:32:25.097Z"
   },
   {
    "duration": -856,
    "start_time": "2021-10-25T20:32:25.102Z"
   },
   {
    "duration": -859,
    "start_time": "2021-10-25T20:32:25.106Z"
   },
   {
    "duration": -862,
    "start_time": "2021-10-25T20:32:25.111Z"
   },
   {
    "duration": -865,
    "start_time": "2021-10-25T20:32:25.115Z"
   },
   {
    "duration": -868,
    "start_time": "2021-10-25T20:32:25.120Z"
   },
   {
    "duration": -877,
    "start_time": "2021-10-25T20:32:25.130Z"
   },
   {
    "duration": -884,
    "start_time": "2021-10-25T20:32:25.138Z"
   },
   {
    "duration": -889,
    "start_time": "2021-10-25T20:32:25.145Z"
   },
   {
    "duration": -894,
    "start_time": "2021-10-25T20:32:25.152Z"
   },
   {
    "duration": -897,
    "start_time": "2021-10-25T20:32:25.156Z"
   },
   {
    "duration": -900,
    "start_time": "2021-10-25T20:32:25.161Z"
   },
   {
    "duration": -903,
    "start_time": "2021-10-25T20:32:25.165Z"
   },
   {
    "duration": -908,
    "start_time": "2021-10-25T20:32:25.171Z"
   },
   {
    "duration": 329,
    "start_time": "2021-10-25T20:35:37.785Z"
   },
   {
    "duration": 1557,
    "start_time": "2021-10-25T20:35:49.541Z"
   },
   {
    "duration": 3363,
    "start_time": "2021-10-25T20:35:51.101Z"
   },
   {
    "duration": 4,
    "start_time": "2021-10-25T20:35:54.468Z"
   },
   {
    "duration": 202,
    "start_time": "2021-10-25T20:35:54.474Z"
   },
   {
    "duration": 30,
    "start_time": "2021-10-25T20:35:54.679Z"
   },
   {
    "duration": 4,
    "start_time": "2021-10-25T20:35:54.711Z"
   },
   {
    "duration": 7,
    "start_time": "2021-10-25T20:35:54.717Z"
   },
   {
    "duration": 4,
    "start_time": "2021-10-25T20:35:54.728Z"
   },
   {
    "duration": 13,
    "start_time": "2021-10-25T20:35:54.735Z"
   },
   {
    "duration": 6,
    "start_time": "2021-10-25T20:35:54.751Z"
   },
   {
    "duration": 97,
    "start_time": "2021-10-25T20:35:54.759Z"
   },
   {
    "duration": 3396,
    "start_time": "2021-10-25T20:35:54.859Z"
   },
   {
    "duration": 45,
    "start_time": "2021-10-25T20:35:58.257Z"
   },
   {
    "duration": 676,
    "start_time": "2021-10-25T20:35:58.323Z"
   },
   {
    "duration": 5,
    "start_time": "2021-10-25T20:35:59.002Z"
   },
   {
    "duration": 11080,
    "start_time": "2021-10-25T20:35:59.010Z"
   },
   {
    "duration": 1664,
    "start_time": "2021-10-25T20:36:10.092Z"
   },
   {
    "duration": 10,
    "start_time": "2021-10-25T20:36:11.758Z"
   },
   {
    "duration": 12,
    "start_time": "2021-10-25T20:36:11.770Z"
   },
   {
    "duration": 60,
    "start_time": "2021-10-25T20:36:11.785Z"
   },
   {
    "duration": 85,
    "start_time": "2021-10-25T20:36:11.848Z"
   },
   {
    "duration": 20,
    "start_time": "2021-10-25T20:36:12.023Z"
   },
   {
    "duration": 13,
    "start_time": "2021-10-25T20:36:12.048Z"
   },
   {
    "duration": 332,
    "start_time": "2021-10-25T20:36:12.064Z"
   },
   {
    "duration": 510,
    "start_time": "2021-10-25T20:36:12.398Z"
   },
   {
    "duration": 52,
    "start_time": "2021-10-25T20:36:12.910Z"
   },
   {
    "duration": 18,
    "start_time": "2021-10-25T20:36:12.965Z"
   },
   {
    "duration": 47,
    "start_time": "2021-10-25T20:36:12.986Z"
   },
   {
    "duration": 8,
    "start_time": "2021-10-25T20:36:13.035Z"
   },
   {
    "duration": 141941,
    "start_time": "2021-10-25T20:36:13.045Z"
   },
   {
    "duration": 2231,
    "start_time": "2021-10-25T20:38:34.988Z"
   },
   {
    "duration": 54,
    "start_time": "2021-10-25T20:38:37.223Z"
   },
   {
    "duration": 248,
    "start_time": "2021-10-25T20:38:37.280Z"
   },
   {
    "duration": 12644,
    "start_time": "2021-10-25T20:38:37.531Z"
   },
   {
    "duration": 13,
    "start_time": "2021-10-25T20:38:50.178Z"
   },
   {
    "duration": 9,
    "start_time": "2021-10-25T20:39:05.740Z"
   },
   {
    "duration": 430,
    "start_time": "2021-10-25T20:39:11.499Z"
   },
   {
    "duration": 309,
    "start_time": "2021-10-25T20:39:22.316Z"
   },
   {
    "duration": 409,
    "start_time": "2021-10-25T20:39:59.172Z"
   },
   {
    "duration": 320,
    "start_time": "2021-10-25T20:40:12.014Z"
   },
   {
    "duration": 434,
    "start_time": "2021-10-25T20:40:23.996Z"
   },
   {
    "duration": 289,
    "start_time": "2021-10-25T20:40:45.600Z"
   },
   {
    "duration": 8,
    "start_time": "2021-10-25T20:41:19.698Z"
   },
   {
    "duration": 316,
    "start_time": "2021-10-25T20:42:35.499Z"
   },
   {
    "duration": 70,
    "start_time": "2021-10-25T20:42:57.955Z"
   },
   {
    "duration": 5,
    "start_time": "2021-10-25T20:43:06.281Z"
   },
   {
    "duration": 6,
    "start_time": "2021-10-25T20:44:00.027Z"
   },
   {
    "duration": 24,
    "start_time": "2021-10-25T20:44:17.490Z"
   },
   {
    "duration": 6,
    "start_time": "2021-10-25T20:46:14.792Z"
   },
   {
    "duration": 26,
    "start_time": "2021-10-25T21:38:22.248Z"
   },
   {
    "duration": 29,
    "start_time": "2021-10-25T21:39:03.962Z"
   },
   {
    "duration": 431,
    "start_time": "2021-10-25T22:00:16.452Z"
   },
   {
    "duration": 290,
    "start_time": "2021-10-25T22:00:52.335Z"
   },
   {
    "duration": 283,
    "start_time": "2021-10-25T22:01:18.423Z"
   },
   {
    "duration": 30,
    "start_time": "2021-10-25T22:01:32.126Z"
   },
   {
    "duration": 11,
    "start_time": "2021-10-25T22:01:51.799Z"
   },
   {
    "duration": 30,
    "start_time": "2021-10-25T22:02:03.006Z"
   },
   {
    "duration": 9,
    "start_time": "2021-10-25T22:02:13.326Z"
   },
   {
    "duration": 13,
    "start_time": "2021-10-25T22:02:37.445Z"
   },
   {
    "duration": 7,
    "start_time": "2021-10-25T22:02:59.438Z"
   },
   {
    "duration": 11,
    "start_time": "2021-10-25T22:03:06.093Z"
   },
   {
    "duration": 12,
    "start_time": "2021-10-25T22:03:27.740Z"
   },
   {
    "duration": 9,
    "start_time": "2021-10-25T22:10:54.265Z"
   },
   {
    "duration": 28,
    "start_time": "2021-10-25T22:11:01.720Z"
   },
   {
    "duration": 17,
    "start_time": "2021-10-25T22:29:27.170Z"
   },
   {
    "duration": 8,
    "start_time": "2021-10-25T22:29:51.151Z"
   },
   {
    "duration": 11,
    "start_time": "2021-10-25T22:29:59.960Z"
   },
   {
    "duration": 2303,
    "start_time": "2021-10-25T22:41:54.315Z"
   },
   {
    "duration": 2620,
    "start_time": "2021-10-25T22:42:21.602Z"
   },
   {
    "duration": 1945,
    "start_time": "2021-10-25T22:42:37.584Z"
   },
   {
    "duration": 2283,
    "start_time": "2021-10-25T22:42:44.122Z"
   },
   {
    "duration": 1770,
    "start_time": "2021-10-25T22:43:05.941Z"
   },
   {
    "duration": 2314,
    "start_time": "2021-10-25T22:43:12.546Z"
   },
   {
    "duration": 12514,
    "start_time": "2021-10-25T23:01:38.278Z"
   },
   {
    "duration": 3,
    "start_time": "2021-10-25T23:26:40.106Z"
   },
   {
    "duration": 1559,
    "start_time": "2021-10-26T00:44:22.510Z"
   },
   {
    "duration": 3476,
    "start_time": "2021-10-26T00:44:24.072Z"
   },
   {
    "duration": 4,
    "start_time": "2021-10-26T00:44:27.551Z"
   },
   {
    "duration": 209,
    "start_time": "2021-10-26T00:44:27.558Z"
   },
   {
    "duration": 43,
    "start_time": "2021-10-26T00:44:27.771Z"
   },
   {
    "duration": 5,
    "start_time": "2021-10-26T00:44:27.817Z"
   },
   {
    "duration": 10,
    "start_time": "2021-10-26T00:44:27.825Z"
   },
   {
    "duration": 6,
    "start_time": "2021-10-26T00:44:27.838Z"
   },
   {
    "duration": 16,
    "start_time": "2021-10-26T00:44:27.850Z"
   },
   {
    "duration": 9,
    "start_time": "2021-10-26T00:44:27.870Z"
   },
   {
    "duration": 101,
    "start_time": "2021-10-26T00:44:27.882Z"
   },
   {
    "duration": 3302,
    "start_time": "2021-10-26T00:44:27.985Z"
   },
   {
    "duration": 57,
    "start_time": "2021-10-26T00:44:31.289Z"
   },
   {
    "duration": 690,
    "start_time": "2021-10-26T00:44:31.348Z"
   },
   {
    "duration": 5,
    "start_time": "2021-10-26T00:44:32.041Z"
   },
   {
    "duration": 10984,
    "start_time": "2021-10-26T00:44:32.049Z"
   },
   {
    "duration": 1603,
    "start_time": "2021-10-26T00:44:43.035Z"
   },
   {
    "duration": 9,
    "start_time": "2021-10-26T00:44:44.641Z"
   },
   {
    "duration": 25,
    "start_time": "2021-10-26T00:44:44.652Z"
   },
   {
    "duration": 43,
    "start_time": "2021-10-26T00:44:44.680Z"
   },
   {
    "duration": 97,
    "start_time": "2021-10-26T00:44:44.727Z"
   },
   {
    "duration": 111,
    "start_time": "2021-10-26T00:44:44.828Z"
   },
   {
    "duration": 11,
    "start_time": "2021-10-26T00:44:44.943Z"
   },
   {
    "duration": 23,
    "start_time": "2021-10-26T00:44:44.957Z"
   },
   {
    "duration": 510,
    "start_time": "2021-10-26T00:44:44.982Z"
   },
   {
    "duration": 54,
    "start_time": "2021-10-26T00:44:45.494Z"
   },
   {
    "duration": 17,
    "start_time": "2021-10-26T00:44:45.553Z"
   },
   {
    "duration": 16,
    "start_time": "2021-10-26T00:44:45.572Z"
   },
   {
    "duration": 36,
    "start_time": "2021-10-26T00:44:45.590Z"
   },
   {
    "duration": 137352,
    "start_time": "2021-10-26T00:44:45.629Z"
   },
   {
    "duration": 2164,
    "start_time": "2021-10-26T00:47:02.984Z"
   },
   {
    "duration": 49,
    "start_time": "2021-10-26T00:47:05.151Z"
   },
   {
    "duration": 249,
    "start_time": "2021-10-26T00:47:05.203Z"
   },
   {
    "duration": 12583,
    "start_time": "2021-10-26T00:47:05.454Z"
   },
   {
    "duration": 12,
    "start_time": "2021-10-26T00:47:18.040Z"
   },
   {
    "duration": 1154,
    "start_time": "2021-10-26T05:41:02.004Z"
   },
   {
    "duration": 4189,
    "start_time": "2021-10-26T05:41:03.160Z"
   },
   {
    "duration": 3,
    "start_time": "2021-10-26T05:41:07.352Z"
   },
   {
    "duration": 139,
    "start_time": "2021-10-26T05:41:07.357Z"
   },
   {
    "duration": 19,
    "start_time": "2021-10-26T05:41:07.498Z"
   },
   {
    "duration": 3,
    "start_time": "2021-10-26T05:41:07.519Z"
   },
   {
    "duration": 8,
    "start_time": "2021-10-26T05:41:07.523Z"
   },
   {
    "duration": 3,
    "start_time": "2021-10-26T05:41:07.533Z"
   },
   {
    "duration": 8,
    "start_time": "2021-10-26T05:41:07.539Z"
   },
   {
    "duration": 4,
    "start_time": "2021-10-26T05:41:07.549Z"
   },
   {
    "duration": 69,
    "start_time": "2021-10-26T05:41:07.555Z"
   },
   {
    "duration": 2026,
    "start_time": "2021-10-26T05:41:07.626Z"
   },
   {
    "duration": 41,
    "start_time": "2021-10-26T05:41:09.653Z"
   },
   {
    "duration": 1698,
    "start_time": "2021-10-26T05:41:09.695Z"
   },
   {
    "duration": 3,
    "start_time": "2021-10-26T05:41:11.395Z"
   },
   {
    "duration": 291,
    "start_time": "2021-10-26T05:41:11.400Z"
   },
   {
    "duration": 118,
    "start_time": "2021-10-26T05:41:11.574Z"
   },
   {
    "duration": 117,
    "start_time": "2021-10-26T05:41:11.576Z"
   },
   {
    "duration": 116,
    "start_time": "2021-10-26T05:41:11.578Z"
   },
   {
    "duration": 115,
    "start_time": "2021-10-26T05:41:11.580Z"
   },
   {
    "duration": 115,
    "start_time": "2021-10-26T05:41:11.581Z"
   },
   {
    "duration": 114,
    "start_time": "2021-10-26T05:41:11.583Z"
   },
   {
    "duration": 113,
    "start_time": "2021-10-26T05:41:11.585Z"
   },
   {
    "duration": 112,
    "start_time": "2021-10-26T05:41:11.587Z"
   },
   {
    "duration": 111,
    "start_time": "2021-10-26T05:41:11.589Z"
   },
   {
    "duration": 110,
    "start_time": "2021-10-26T05:41:11.591Z"
   },
   {
    "duration": 110,
    "start_time": "2021-10-26T05:41:11.592Z"
   },
   {
    "duration": 109,
    "start_time": "2021-10-26T05:41:11.594Z"
   },
   {
    "duration": 108,
    "start_time": "2021-10-26T05:41:11.596Z"
   },
   {
    "duration": 107,
    "start_time": "2021-10-26T05:41:11.598Z"
   },
   {
    "duration": 106,
    "start_time": "2021-10-26T05:41:11.600Z"
   },
   {
    "duration": 105,
    "start_time": "2021-10-26T05:41:11.602Z"
   },
   {
    "duration": 104,
    "start_time": "2021-10-26T05:41:11.604Z"
   },
   {
    "duration": 103,
    "start_time": "2021-10-26T05:41:11.606Z"
   },
   {
    "duration": 98,
    "start_time": "2021-10-26T05:41:11.612Z"
   },
   {
    "duration": 1176,
    "start_time": "2021-10-26T05:41:56.681Z"
   },
   {
    "duration": 2,
    "start_time": "2021-10-26T05:42:00.466Z"
   },
   {
    "duration": 151,
    "start_time": "2021-10-26T05:42:00.471Z"
   },
   {
    "duration": 19,
    "start_time": "2021-10-26T05:42:00.624Z"
   },
   {
    "duration": 2,
    "start_time": "2021-10-26T05:42:00.645Z"
   },
   {
    "duration": 8,
    "start_time": "2021-10-26T05:42:00.649Z"
   },
   {
    "duration": 6,
    "start_time": "2021-10-26T05:42:00.659Z"
   },
   {
    "duration": 13,
    "start_time": "2021-10-26T05:42:00.666Z"
   },
   {
    "duration": 5,
    "start_time": "2021-10-26T05:42:00.681Z"
   },
   {
    "duration": 49,
    "start_time": "2021-10-26T05:42:00.687Z"
   },
   {
    "duration": 2046,
    "start_time": "2021-10-26T05:42:00.737Z"
   },
   {
    "duration": 32,
    "start_time": "2021-10-26T05:42:02.784Z"
   },
   {
    "duration": 1768,
    "start_time": "2021-10-26T05:42:02.817Z"
   },
   {
    "duration": 5,
    "start_time": "2021-10-26T05:42:04.587Z"
   },
   {
    "duration": 7566,
    "start_time": "2021-10-26T05:42:04.594Z"
   },
   {
    "duration": 1082,
    "start_time": "2021-10-26T05:42:12.162Z"
   },
   {
    "duration": 9,
    "start_time": "2021-10-26T05:42:13.246Z"
   },
   {
    "duration": 9,
    "start_time": "2021-10-26T05:42:13.256Z"
   },
   {
    "duration": 28,
    "start_time": "2021-10-26T05:42:13.267Z"
   },
   {
    "duration": 6,
    "start_time": "2021-10-26T05:42:13.297Z"
   },
   {
    "duration": 189,
    "start_time": "2021-10-26T05:42:13.304Z"
   },
   {
    "duration": 7,
    "start_time": "2021-10-26T05:42:13.494Z"
   },
   {
    "duration": 15,
    "start_time": "2021-10-26T05:42:13.502Z"
   },
   {
    "duration": 330,
    "start_time": "2021-10-26T05:42:13.519Z"
   },
   {
    "duration": 23,
    "start_time": "2021-10-26T05:42:13.851Z"
   },
   {
    "duration": 22,
    "start_time": "2021-10-26T05:42:13.876Z"
   },
   {
    "duration": 9,
    "start_time": "2021-10-26T05:42:13.900Z"
   },
   {
    "duration": 5,
    "start_time": "2021-10-26T05:42:13.911Z"
   },
   {
    "duration": 83021,
    "start_time": "2021-10-26T05:42:13.917Z"
   },
   {
    "duration": 1709,
    "start_time": "2021-10-26T05:43:36.939Z"
   },
   {
    "duration": 29,
    "start_time": "2021-10-26T05:43:38.649Z"
   },
   {
    "duration": 93,
    "start_time": "2021-10-26T05:43:38.680Z"
   },
   {
    "duration": 8819,
    "start_time": "2021-10-26T05:43:38.774Z"
   },
   {
    "duration": 8,
    "start_time": "2021-10-26T05:43:47.595Z"
   }
  ],
  "kernelspec": {
   "display_name": "Python 3",
   "language": "python",
   "name": "python3"
  },
  "language_info": {
   "codemirror_mode": {
    "name": "ipython",
    "version": 3
   },
   "file_extension": ".py",
   "mimetype": "text/x-python",
   "name": "python",
   "nbconvert_exporter": "python",
   "pygments_lexer": "ipython3",
   "version": "3.8.8"
  },
  "toc": {
   "base_numbering": 1,
   "nav_menu": {},
   "number_sections": true,
   "sideBar": true,
   "skip_h1_title": true,
   "title_cell": "Table of Contents",
   "title_sidebar": "Contents",
   "toc_cell": false,
   "toc_position": {},
   "toc_section_display": true,
   "toc_window_display": false
  }
 },
 "nbformat": 4,
 "nbformat_minor": 2
}
