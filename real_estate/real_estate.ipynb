{
 "cells": [
  {
   "cell_type": "markdown",
   "metadata": {
    "toc": true
   },
   "source": [
    "<h1>Содержание<span class=\"tocSkip\"></span></h1>\n",
    "<div class=\"toc\"><ul class=\"toc-item\"><li><span><a href=\"#-Комментарий-ревьюера\" data-toc-modified-id=\"-Комментарий-ревьюера-1\"><span class=\"toc-item-num\">1&nbsp;&nbsp;</span> Комментарий ревьюера</a></span></li><li><span><a href=\"#Комментарий-студента\" data-toc-modified-id=\"Комментарий-студента-2\"><span class=\"toc-item-num\">2&nbsp;&nbsp;</span>Комментарий студента</a></span></li><li><span><a href=\"#Изучение-данных-из-файла\" data-toc-modified-id=\"Изучение-данных-из-файла-3\"><span class=\"toc-item-num\">3&nbsp;&nbsp;</span>Изучение данных из файла</a></span></li><li><span><a href=\"#Комментарий-ревьюера\" data-toc-modified-id=\"Комментарий-ревьюера-4\"><span class=\"toc-item-num\">4&nbsp;&nbsp;</span>Комментарий ревьюера</a></span></li><li><span><a href=\"#Комментарий-студента\" data-toc-modified-id=\"Комментарий-студента-5\"><span class=\"toc-item-num\">5&nbsp;&nbsp;</span>Комментарий студента</a></span></li><li><span><a href=\"#Комментарий-ревьюера\" data-toc-modified-id=\"Комментарий-ревьюера-6\"><span class=\"toc-item-num\">6&nbsp;&nbsp;</span>Комментарий ревьюера</a></span></li><li><span><a href=\"#Комментарий-студента\" data-toc-modified-id=\"Комментарий-студента-7\"><span class=\"toc-item-num\">7&nbsp;&nbsp;</span>Комментарий студента</a></span><ul class=\"toc-item\"><li><span><a href=\"#Вывод\" data-toc-modified-id=\"Вывод-7.1\"><span class=\"toc-item-num\">7.1&nbsp;&nbsp;</span>Вывод</a></span></li></ul></li><li><span><a href=\"#Предобработка-данных\" data-toc-modified-id=\"Предобработка-данных-8\"><span class=\"toc-item-num\">8&nbsp;&nbsp;</span>Предобработка данных</a></span><ul class=\"toc-item\"><li><span><a href=\"#Вывод\" data-toc-modified-id=\"Вывод-8.1\"><span class=\"toc-item-num\">8.1&nbsp;&nbsp;</span>Вывод</a></span></li></ul></li><li><span><a href=\"#Расчёты-и-добавление-результатов-в-таблицу\" data-toc-modified-id=\"Расчёты-и-добавление-результатов-в-таблицу-9\"><span class=\"toc-item-num\">9&nbsp;&nbsp;</span>Расчёты и добавление результатов в таблицу</a></span><ul class=\"toc-item\"><li><span><a href=\"#Вывод\" data-toc-modified-id=\"Вывод-9.1\"><span class=\"toc-item-num\">9.1&nbsp;&nbsp;</span>Вывод</a></span></li></ul></li><li><span><a href=\"#Исследовательский-анализ-данных\" data-toc-modified-id=\"Исследовательский-анализ-данных-10\"><span class=\"toc-item-num\">10&nbsp;&nbsp;</span>Исследовательский анализ данных</a></span><ul class=\"toc-item\"><li><span><a href=\"#Проведите-исследовательский-анализ-данных-и-выполните-инструкции:-Изучите-следующие-параметры:-площадь,-цена,-число-комнат,-высота-потолков.-Постройте-гистограммы-для-каждого-параметра.\" data-toc-modified-id=\"Проведите-исследовательский-анализ-данных-и-выполните-инструкции:-Изучите-следующие-параметры:-площадь,-цена,-число-комнат,-высота-потолков.-Постройте-гистограммы-для-каждого-параметра.-10.1\"><span class=\"toc-item-num\">10.1&nbsp;&nbsp;</span>Проведите исследовательский анализ данных и выполните инструкции: Изучите следующие параметры: площадь, цена, число комнат, высота потолков. Постройте гистограммы для каждого параметра.</a></span></li></ul></li><li><span><a href=\"#Комментарий-ревьюера\" data-toc-modified-id=\"Комментарий-ревьюера-11\"><span class=\"toc-item-num\">11&nbsp;&nbsp;</span>Комментарий ревьюера</a></span></li><li><span><a href=\"#Комментарий-студента\" data-toc-modified-id=\"Комментарий-студента-12\"><span class=\"toc-item-num\">12&nbsp;&nbsp;</span>Комментарий студента</a></span><ul class=\"toc-item\"><li><span><a href=\"#Изучите-время-продажи-квартиры.-Постройте-гистограмму.-Посчитайте-среднее-и-медиану.-Опишите,-сколько-обычно-занимает-продажа.-Когда-можно-считать,-что-продажи-прошли-очень-быстро,-а-когда-необычно-долго?\" data-toc-modified-id=\"Изучите-время-продажи-квартиры.-Постройте-гистограмму.-Посчитайте-среднее-и-медиану.-Опишите,-сколько-обычно-занимает-продажа.-Когда-можно-считать,-что-продажи-прошли-очень-быстро,-а-когда-необычно-долго?-12.1\"><span class=\"toc-item-num\">12.1&nbsp;&nbsp;</span>Изучите время продажи квартиры. Постройте гистограмму. Посчитайте среднее и медиану. Опишите, сколько обычно занимает продажа. Когда можно считать, что продажи прошли очень быстро, а когда необычно долго?</a></span></li><li><span><a href=\"#Уберите-редкие-и-выбивающиеся-значения.-Опишите,-какие-особенности-обнаружили.\" data-toc-modified-id=\"Уберите-редкие-и-выбивающиеся-значения.-Опишите,-какие-особенности-обнаружили.-12.2\"><span class=\"toc-item-num\">12.2&nbsp;&nbsp;</span>Уберите редкие и выбивающиеся значения. Опишите, какие особенности обнаружили.</a></span></li></ul></li><li><span><a href=\"#Комментарий-ревьюера-\" data-toc-modified-id=\"Комментарий-ревьюера--13\"><span class=\"toc-item-num\">13&nbsp;&nbsp;</span>Комментарий ревьюера </a></span></li><li><span><a href=\"#Комментарий-студента-\" data-toc-modified-id=\"Комментарий-студента--14\"><span class=\"toc-item-num\">14&nbsp;&nbsp;</span>Комментарий студента </a></span><ul class=\"toc-item\"><li><span><a href=\"#Какие-факторы-больше-всего-влияют-на-стоимость-квартиры?-Изучите,-зависит-ли-цена-от-площади,-числа-комнат,-удалённости-от-центра.-Изучите-зависимость-цены-от-того,-на-каком-этаже-расположена-квартира:-первом,-последнем-или-другом.-Также-изучите-зависимость-от-даты-размещения:-дня-недели,-месяца-и-года.\" data-toc-modified-id=\"Какие-факторы-больше-всего-влияют-на-стоимость-квартиры?-Изучите,-зависит-ли-цена-от-площади,-числа-комнат,-удалённости-от-центра.-Изучите-зависимость-цены-от-того,-на-каком-этаже-расположена-квартира:-первом,-последнем-или-другом.-Также-изучите-зависимость-от-даты-размещения:-дня-недели,-месяца-и-года.-14.1\"><span class=\"toc-item-num\">14.1&nbsp;&nbsp;</span>Какие факторы больше всего влияют на стоимость квартиры? Изучите, зависит ли цена от площади, числа комнат, удалённости от центра. Изучите зависимость цены от того, на каком этаже расположена квартира: первом, последнем или другом. Также изучите зависимость от даты размещения: дня недели, месяца и года.</a></span></li></ul></li><li><span><a href=\"#Комментарий-ревьюера\" data-toc-modified-id=\"Комментарий-ревьюера-15\"><span class=\"toc-item-num\">15&nbsp;&nbsp;</span>Комментарий ревьюера</a></span></li><li><span><a href=\"#Комментарий-студента-\" data-toc-modified-id=\"Комментарий-студента--16\"><span class=\"toc-item-num\">16&nbsp;&nbsp;</span>Комментарий студента </a></span></li><li><span><a href=\"#Комментарий-ревьюера\" data-toc-modified-id=\"Комментарий-ревьюера-17\"><span class=\"toc-item-num\">17&nbsp;&nbsp;</span>Комментарий ревьюера</a></span><ul class=\"toc-item\"><li><span><a href=\"#Выберите-10-населённых-пунктов-с-наибольшим-числом-объявлений.-Посчитайте-среднюю-цену-квадратного-метра-в-этих-населённых-пунктах.-Выделите-среди-них-населённые-пункты-с-самой-высокой-и-низкой-стоимостью-жилья.-Эти-данные-можно-найти-по-имени-в-столбце-'locality_name'.\" data-toc-modified-id=\"Выберите-10-населённых-пунктов-с-наибольшим-числом-объявлений.-Посчитайте-среднюю-цену-квадратного-метра-в-этих-населённых-пунктах.-Выделите-среди-них-населённые-пункты-с-самой-высокой-и-низкой-стоимостью-жилья.-Эти-данные-можно-найти-по-имени-в-столбце-'locality_name'.-17.1\"><span class=\"toc-item-num\">17.1&nbsp;&nbsp;</span>Выберите 10 населённых пунктов с наибольшим числом объявлений. Посчитайте среднюю цену квадратного метра в этих населённых пунктах. Выделите среди них населённые пункты с самой высокой и низкой стоимостью жилья. Эти данные можно найти по имени в столбце 'locality_name'.</a></span></li><li><span><a href=\"#Изучите-предложения-квартир:-для-каждой-квартиры-есть-информация-о-расстоянии-до-центра.-Выделите-квартиры-в-Санкт-Петербурге-('locality_name').-Ваша-задача-—-выяснить,-какая-область-входит-в-центр.-Создайте-столбец-с-расстоянием-до-центра-в-километрах:-округлите-до-целых-значений.-После-этого-посчитайте-среднюю-цену-для-каждого-километра.-Постройте-график:-он-должен-показывать,-как-цена-зависит-от-удалённости-от-центра.-Определите-границу,-где-график-сильно-меняется-—-это-и-будет-центральная-зона.\" data-toc-modified-id=\"Изучите-предложения-квартир:-для-каждой-квартиры-есть-информация-о-расстоянии-до-центра.-Выделите-квартиры-в-Санкт-Петербурге-('locality_name').-Ваша-задача-—-выяснить,-какая-область-входит-в-центр.-Создайте-столбец-с-расстоянием-до-центра-в-километрах:-округлите-до-целых-значений.-После-этого-посчитайте-среднюю-цену-для-каждого-километра.-Постройте-график:-он-должен-показывать,-как-цена-зависит-от-удалённости-от-центра.-Определите-границу,-где-график-сильно-меняется-—-это-и-будет-центральная-зона.-17.2\"><span class=\"toc-item-num\">17.2&nbsp;&nbsp;</span>Изучите предложения квартир: для каждой квартиры есть информация о расстоянии до центра. Выделите квартиры в Санкт-Петербурге ('locality_name'). Ваша задача — выяснить, какая область входит в центр. Создайте столбец с расстоянием до центра в километрах: округлите до целых значений. После этого посчитайте среднюю цену для каждого километра. Постройте график: он должен показывать, как цена зависит от удалённости от центра. Определите границу, где график сильно меняется — это и будет центральная зона.</a></span></li><li><span><a href=\"#Выделите-сегмент-квартир-в-центре.-Проанализируйте-эту-территорию-и-изучите-следующие-параметры:-площадь,-цена,-число-комнат,-высота-потолков.-Также-выделите-факторы,-которые-влияют-на-стоимость-квартиры-(число-комнат,-этаж,-удалённость-от-центра,-дата-размещения-объявления).-Сделайте-выводы.-Отличаются-ли-они-от-общих-выводов-по-всему-городу?\" data-toc-modified-id=\"Выделите-сегмент-квартир-в-центре.-Проанализируйте-эту-территорию-и-изучите-следующие-параметры:-площадь,-цена,-число-комнат,-высота-потолков.-Также-выделите-факторы,-которые-влияют-на-стоимость-квартиры-(число-комнат,-этаж,-удалённость-от-центра,-дата-размещения-объявления).-Сделайте-выводы.-Отличаются-ли-они-от-общих-выводов-по-всему-городу?-17.3\"><span class=\"toc-item-num\">17.3&nbsp;&nbsp;</span>Выделите сегмент квартир в центре. Проанализируйте эту территорию и изучите следующие параметры: площадь, цена, число комнат, высота потолков. Также выделите факторы, которые влияют на стоимость квартиры (число комнат, этаж, удалённость от центра, дата размещения объявления). Сделайте выводы. Отличаются ли они от общих выводов по всему городу?</a></span></li></ul></li><li><span><a href=\"#Общий-вывод\" data-toc-modified-id=\"Общий-вывод-18\"><span class=\"toc-item-num\">18&nbsp;&nbsp;</span>Общий вывод</a></span></li><li><span><a href=\"#Чек-лист-готовности-проекта\" data-toc-modified-id=\"Чек-лист-готовности-проекта-19\"><span class=\"toc-item-num\">19&nbsp;&nbsp;</span>Чек-лист готовности проекта</a></span></li></ul></div>"
   ]
  },
  {
   "cell_type": "markdown",
   "metadata": {},
   "source": [
    "# Исследование объявлений о продаже квартир\n",
    "\n",
    "В вашем распоряжении данные сервиса Яндекс.Недвижимость — архив объявлений о продаже квартир в Санкт-Петербурге и соседних населённых пунктах за несколько лет. Нужно научиться определять рыночную стоимость объектов недвижимости. Ваша задача — установить параметры. Это позволит построить автоматизированную систему: она отследит аномалии и мошенническую деятельность. \n",
    "\n",
    "По каждой квартире на продажу доступны два вида данных. Первые вписаны пользователем, вторые получены автоматически на основе картографических данных. Например, расстояние до центра, аэропорта, ближайшего парка и водоёма. "
   ]
  },
  {
   "cell_type": "markdown",
   "metadata": {},
   "source": [
    "## Изучение данных из файла"
   ]
  },
  {
   "cell_type": "code",
   "execution_count": 1,
   "metadata": {
    "scrolled": false
   },
   "outputs": [
    {
     "name": "stdout",
     "output_type": "stream",
     "text": [
      "<class 'pandas.core.frame.DataFrame'>\n",
      "RangeIndex: 23699 entries, 0 to 23698\n",
      "Data columns (total 22 columns):\n",
      " #   Column                Non-Null Count  Dtype  \n",
      "---  ------                --------------  -----  \n",
      " 0   total_images          23699 non-null  int64  \n",
      " 1   last_price            23699 non-null  float64\n",
      " 2   total_area            23699 non-null  float64\n",
      " 3   first_day_exposition  23699 non-null  object \n",
      " 4   rooms                 23699 non-null  int64  \n",
      " 5   ceiling_height        14504 non-null  float64\n",
      " 6   floors_total          23613 non-null  float64\n",
      " 7   living_area           21796 non-null  float64\n",
      " 8   floor                 23699 non-null  int64  \n",
      " 9   is_apartment          2775 non-null   object \n",
      " 10  studio                23699 non-null  bool   \n",
      " 11  open_plan             23699 non-null  bool   \n",
      " 12  kitchen_area          21421 non-null  float64\n",
      " 13  balcony               12180 non-null  float64\n",
      " 14  locality_name         23650 non-null  object \n",
      " 15  airports_nearest      18157 non-null  float64\n",
      " 16  cityCenters_nearest   18180 non-null  float64\n",
      " 17  parks_around3000      18181 non-null  float64\n",
      " 18  parks_nearest         8079 non-null   float64\n",
      " 19  ponds_around3000      18181 non-null  float64\n",
      " 20  ponds_nearest         9110 non-null   float64\n",
      " 21  days_exposition       20518 non-null  float64\n",
      "dtypes: bool(2), float64(14), int64(3), object(3)\n",
      "memory usage: 3.7+ MB\n"
     ]
    },
    {
     "data": {
      "text/html": [
       "<div>\n",
       "<style scoped>\n",
       "    .dataframe tbody tr th:only-of-type {\n",
       "        vertical-align: middle;\n",
       "    }\n",
       "\n",
       "    .dataframe tbody tr th {\n",
       "        vertical-align: top;\n",
       "    }\n",
       "\n",
       "    .dataframe thead th {\n",
       "        text-align: right;\n",
       "    }\n",
       "</style>\n",
       "<table border=\"1\" class=\"dataframe\">\n",
       "  <thead>\n",
       "    <tr style=\"text-align: right;\">\n",
       "      <th></th>\n",
       "      <th>total_images</th>\n",
       "      <th>last_price</th>\n",
       "      <th>total_area</th>\n",
       "      <th>first_day_exposition</th>\n",
       "      <th>rooms</th>\n",
       "      <th>ceiling_height</th>\n",
       "      <th>floors_total</th>\n",
       "      <th>living_area</th>\n",
       "      <th>floor</th>\n",
       "      <th>is_apartment</th>\n",
       "      <th>...</th>\n",
       "      <th>kitchen_area</th>\n",
       "      <th>balcony</th>\n",
       "      <th>locality_name</th>\n",
       "      <th>airports_nearest</th>\n",
       "      <th>cityCenters_nearest</th>\n",
       "      <th>parks_around3000</th>\n",
       "      <th>parks_nearest</th>\n",
       "      <th>ponds_around3000</th>\n",
       "      <th>ponds_nearest</th>\n",
       "      <th>days_exposition</th>\n",
       "    </tr>\n",
       "  </thead>\n",
       "  <tbody>\n",
       "    <tr>\n",
       "      <th>17338</th>\n",
       "      <td>5</td>\n",
       "      <td>3300000.0</td>\n",
       "      <td>47.0</td>\n",
       "      <td>2018-03-30T00:00:00</td>\n",
       "      <td>1</td>\n",
       "      <td>3.00</td>\n",
       "      <td>10.0</td>\n",
       "      <td>NaN</td>\n",
       "      <td>4</td>\n",
       "      <td>NaN</td>\n",
       "      <td>...</td>\n",
       "      <td>NaN</td>\n",
       "      <td>NaN</td>\n",
       "      <td>деревня Новое Девяткино</td>\n",
       "      <td>NaN</td>\n",
       "      <td>NaN</td>\n",
       "      <td>NaN</td>\n",
       "      <td>NaN</td>\n",
       "      <td>NaN</td>\n",
       "      <td>NaN</td>\n",
       "      <td>42.0</td>\n",
       "    </tr>\n",
       "    <tr>\n",
       "      <th>13876</th>\n",
       "      <td>12</td>\n",
       "      <td>2290000.0</td>\n",
       "      <td>40.0</td>\n",
       "      <td>2016-01-17T00:00:00</td>\n",
       "      <td>2</td>\n",
       "      <td>3.00</td>\n",
       "      <td>3.0</td>\n",
       "      <td>27.0</td>\n",
       "      <td>2</td>\n",
       "      <td>False</td>\n",
       "      <td>...</td>\n",
       "      <td>7.4</td>\n",
       "      <td>NaN</td>\n",
       "      <td>Гатчина</td>\n",
       "      <td>NaN</td>\n",
       "      <td>NaN</td>\n",
       "      <td>NaN</td>\n",
       "      <td>NaN</td>\n",
       "      <td>NaN</td>\n",
       "      <td>NaN</td>\n",
       "      <td>895.0</td>\n",
       "    </tr>\n",
       "    <tr>\n",
       "      <th>3586</th>\n",
       "      <td>0</td>\n",
       "      <td>5450000.0</td>\n",
       "      <td>53.8</td>\n",
       "      <td>2018-02-01T00:00:00</td>\n",
       "      <td>2</td>\n",
       "      <td>2.85</td>\n",
       "      <td>2.0</td>\n",
       "      <td>36.5</td>\n",
       "      <td>2</td>\n",
       "      <td>NaN</td>\n",
       "      <td>...</td>\n",
       "      <td>5.3</td>\n",
       "      <td>1.0</td>\n",
       "      <td>Санкт-Петербург</td>\n",
       "      <td>38914.0</td>\n",
       "      <td>10617.0</td>\n",
       "      <td>1.0</td>\n",
       "      <td>255.0</td>\n",
       "      <td>0.0</td>\n",
       "      <td>NaN</td>\n",
       "      <td>64.0</td>\n",
       "    </tr>\n",
       "    <tr>\n",
       "      <th>6495</th>\n",
       "      <td>1</td>\n",
       "      <td>5482990.0</td>\n",
       "      <td>66.1</td>\n",
       "      <td>2016-02-19T00:00:00</td>\n",
       "      <td>2</td>\n",
       "      <td>NaN</td>\n",
       "      <td>25.0</td>\n",
       "      <td>43.6</td>\n",
       "      <td>1</td>\n",
       "      <td>NaN</td>\n",
       "      <td>...</td>\n",
       "      <td>11.1</td>\n",
       "      <td>0.0</td>\n",
       "      <td>поселок Бугры</td>\n",
       "      <td>NaN</td>\n",
       "      <td>NaN</td>\n",
       "      <td>NaN</td>\n",
       "      <td>NaN</td>\n",
       "      <td>NaN</td>\n",
       "      <td>NaN</td>\n",
       "      <td>469.0</td>\n",
       "    </tr>\n",
       "    <tr>\n",
       "      <th>14431</th>\n",
       "      <td>5</td>\n",
       "      <td>4190000.0</td>\n",
       "      <td>54.0</td>\n",
       "      <td>2017-10-30T00:00:00</td>\n",
       "      <td>2</td>\n",
       "      <td>3.00</td>\n",
       "      <td>12.0</td>\n",
       "      <td>34.0</td>\n",
       "      <td>3</td>\n",
       "      <td>NaN</td>\n",
       "      <td>...</td>\n",
       "      <td>9.0</td>\n",
       "      <td>2.0</td>\n",
       "      <td>Гатчина</td>\n",
       "      <td>NaN</td>\n",
       "      <td>NaN</td>\n",
       "      <td>NaN</td>\n",
       "      <td>NaN</td>\n",
       "      <td>NaN</td>\n",
       "      <td>NaN</td>\n",
       "      <td>73.0</td>\n",
       "    </tr>\n",
       "    <tr>\n",
       "      <th>8363</th>\n",
       "      <td>13</td>\n",
       "      <td>5690000.0</td>\n",
       "      <td>41.7</td>\n",
       "      <td>2016-12-29T00:00:00</td>\n",
       "      <td>2</td>\n",
       "      <td>3.20</td>\n",
       "      <td>5.0</td>\n",
       "      <td>23.0</td>\n",
       "      <td>2</td>\n",
       "      <td>NaN</td>\n",
       "      <td>...</td>\n",
       "      <td>7.5</td>\n",
       "      <td>0.0</td>\n",
       "      <td>Санкт-Петербург</td>\n",
       "      <td>23963.0</td>\n",
       "      <td>3530.0</td>\n",
       "      <td>2.0</td>\n",
       "      <td>352.0</td>\n",
       "      <td>3.0</td>\n",
       "      <td>341.0</td>\n",
       "      <td>283.0</td>\n",
       "    </tr>\n",
       "    <tr>\n",
       "      <th>15270</th>\n",
       "      <td>15</td>\n",
       "      <td>4999000.0</td>\n",
       "      <td>42.0</td>\n",
       "      <td>2018-11-23T00:00:00</td>\n",
       "      <td>1</td>\n",
       "      <td>2.80</td>\n",
       "      <td>17.0</td>\n",
       "      <td>22.0</td>\n",
       "      <td>4</td>\n",
       "      <td>NaN</td>\n",
       "      <td>...</td>\n",
       "      <td>11.0</td>\n",
       "      <td>2.0</td>\n",
       "      <td>Санкт-Петербург</td>\n",
       "      <td>30571.0</td>\n",
       "      <td>11470.0</td>\n",
       "      <td>1.0</td>\n",
       "      <td>721.0</td>\n",
       "      <td>0.0</td>\n",
       "      <td>NaN</td>\n",
       "      <td>60.0</td>\n",
       "    </tr>\n",
       "    <tr>\n",
       "      <th>2143</th>\n",
       "      <td>4</td>\n",
       "      <td>3350000.0</td>\n",
       "      <td>55.5</td>\n",
       "      <td>2017-11-14T00:00:00</td>\n",
       "      <td>2</td>\n",
       "      <td>NaN</td>\n",
       "      <td>5.0</td>\n",
       "      <td>33.5</td>\n",
       "      <td>3</td>\n",
       "      <td>NaN</td>\n",
       "      <td>...</td>\n",
       "      <td>8.5</td>\n",
       "      <td>2.0</td>\n",
       "      <td>Гатчина</td>\n",
       "      <td>NaN</td>\n",
       "      <td>NaN</td>\n",
       "      <td>NaN</td>\n",
       "      <td>NaN</td>\n",
       "      <td>NaN</td>\n",
       "      <td>NaN</td>\n",
       "      <td>211.0</td>\n",
       "    </tr>\n",
       "    <tr>\n",
       "      <th>11284</th>\n",
       "      <td>17</td>\n",
       "      <td>3200000.0</td>\n",
       "      <td>48.0</td>\n",
       "      <td>2017-10-25T00:00:00</td>\n",
       "      <td>1</td>\n",
       "      <td>2.80</td>\n",
       "      <td>9.0</td>\n",
       "      <td>19.0</td>\n",
       "      <td>4</td>\n",
       "      <td>NaN</td>\n",
       "      <td>...</td>\n",
       "      <td>11.5</td>\n",
       "      <td>2.0</td>\n",
       "      <td>Всеволожск</td>\n",
       "      <td>NaN</td>\n",
       "      <td>NaN</td>\n",
       "      <td>NaN</td>\n",
       "      <td>NaN</td>\n",
       "      <td>NaN</td>\n",
       "      <td>NaN</td>\n",
       "      <td>246.0</td>\n",
       "    </tr>\n",
       "    <tr>\n",
       "      <th>17095</th>\n",
       "      <td>8</td>\n",
       "      <td>5100000.0</td>\n",
       "      <td>50.2</td>\n",
       "      <td>2018-10-06T00:00:00</td>\n",
       "      <td>2</td>\n",
       "      <td>2.50</td>\n",
       "      <td>3.0</td>\n",
       "      <td>28.0</td>\n",
       "      <td>1</td>\n",
       "      <td>NaN</td>\n",
       "      <td>...</td>\n",
       "      <td>5.4</td>\n",
       "      <td>NaN</td>\n",
       "      <td>Пушкин</td>\n",
       "      <td>12671.0</td>\n",
       "      <td>24825.0</td>\n",
       "      <td>1.0</td>\n",
       "      <td>171.0</td>\n",
       "      <td>0.0</td>\n",
       "      <td>NaN</td>\n",
       "      <td>23.0</td>\n",
       "    </tr>\n",
       "  </tbody>\n",
       "</table>\n",
       "<p>10 rows × 22 columns</p>\n",
       "</div>"
      ],
      "text/plain": [
       "       total_images  last_price  total_area first_day_exposition  rooms  \\\n",
       "17338             5   3300000.0        47.0  2018-03-30T00:00:00      1   \n",
       "13876            12   2290000.0        40.0  2016-01-17T00:00:00      2   \n",
       "3586              0   5450000.0        53.8  2018-02-01T00:00:00      2   \n",
       "6495              1   5482990.0        66.1  2016-02-19T00:00:00      2   \n",
       "14431             5   4190000.0        54.0  2017-10-30T00:00:00      2   \n",
       "8363             13   5690000.0        41.7  2016-12-29T00:00:00      2   \n",
       "15270            15   4999000.0        42.0  2018-11-23T00:00:00      1   \n",
       "2143              4   3350000.0        55.5  2017-11-14T00:00:00      2   \n",
       "11284            17   3200000.0        48.0  2017-10-25T00:00:00      1   \n",
       "17095             8   5100000.0        50.2  2018-10-06T00:00:00      2   \n",
       "\n",
       "       ceiling_height  floors_total  living_area  floor is_apartment  ...  \\\n",
       "17338            3.00          10.0          NaN      4          NaN  ...   \n",
       "13876            3.00           3.0         27.0      2        False  ...   \n",
       "3586             2.85           2.0         36.5      2          NaN  ...   \n",
       "6495              NaN          25.0         43.6      1          NaN  ...   \n",
       "14431            3.00          12.0         34.0      3          NaN  ...   \n",
       "8363             3.20           5.0         23.0      2          NaN  ...   \n",
       "15270            2.80          17.0         22.0      4          NaN  ...   \n",
       "2143              NaN           5.0         33.5      3          NaN  ...   \n",
       "11284            2.80           9.0         19.0      4          NaN  ...   \n",
       "17095            2.50           3.0         28.0      1          NaN  ...   \n",
       "\n",
       "       kitchen_area  balcony            locality_name  airports_nearest  \\\n",
       "17338           NaN      NaN  деревня Новое Девяткино               NaN   \n",
       "13876           7.4      NaN                  Гатчина               NaN   \n",
       "3586            5.3      1.0          Санкт-Петербург           38914.0   \n",
       "6495           11.1      0.0            поселок Бугры               NaN   \n",
       "14431           9.0      2.0                  Гатчина               NaN   \n",
       "8363            7.5      0.0          Санкт-Петербург           23963.0   \n",
       "15270          11.0      2.0          Санкт-Петербург           30571.0   \n",
       "2143            8.5      2.0                  Гатчина               NaN   \n",
       "11284          11.5      2.0               Всеволожск               NaN   \n",
       "17095           5.4      NaN                   Пушкин           12671.0   \n",
       "\n",
       "      cityCenters_nearest  parks_around3000  parks_nearest  ponds_around3000  \\\n",
       "17338                 NaN               NaN            NaN               NaN   \n",
       "13876                 NaN               NaN            NaN               NaN   \n",
       "3586              10617.0               1.0          255.0               0.0   \n",
       "6495                  NaN               NaN            NaN               NaN   \n",
       "14431                 NaN               NaN            NaN               NaN   \n",
       "8363               3530.0               2.0          352.0               3.0   \n",
       "15270             11470.0               1.0          721.0               0.0   \n",
       "2143                  NaN               NaN            NaN               NaN   \n",
       "11284                 NaN               NaN            NaN               NaN   \n",
       "17095             24825.0               1.0          171.0               0.0   \n",
       "\n",
       "       ponds_nearest  days_exposition  \n",
       "17338            NaN             42.0  \n",
       "13876            NaN            895.0  \n",
       "3586             NaN             64.0  \n",
       "6495             NaN            469.0  \n",
       "14431            NaN             73.0  \n",
       "8363           341.0            283.0  \n",
       "15270            NaN             60.0  \n",
       "2143             NaN            211.0  \n",
       "11284            NaN            246.0  \n",
       "17095            NaN             23.0  \n",
       "\n",
       "[10 rows x 22 columns]"
      ]
     },
     "metadata": {},
     "output_type": "display_data"
    }
   ],
   "source": [
    "import pandas as pd\n",
    "import matplotlib.pyplot as plt\n",
    "import numpy as np\n",
    "\n",
    "try:\n",
    "    df = pd.read_csv('/datasets/real_estate_data.csv',sep='\\t' ) #яндексовский путь\n",
    "except FileNotFoundError:\n",
    "    df = pd.read_csv('real_estate_data.csv',sep='\\t') # если же ошибка - мой путь\n",
    "\n",
    "df.info() \n",
    "display(df.sample(10, random_state=1))"
   ]
  },
  {
   "cell_type": "code",
   "execution_count": 2,
   "metadata": {},
   "outputs": [
    {
     "data": {
      "text/html": [
       "<style  type=\"text/css\" >\n",
       "#T_f7c05_row0_col0,#T_f7c05_row1_col0,#T_f7c05_row2_col0,#T_f7c05_row3_col0,#T_f7c05_row4_col0,#T_f7c05_row8_col0,#T_f7c05_row10_col0,#T_f7c05_row11_col0,#T_f7c05_row14_col0{\n",
       "            background-color:  #3b4cc0;\n",
       "            color:  #f1f1f1;\n",
       "        }#T_f7c05_row5_col0{\n",
       "            background-color:  #ccd9ed;\n",
       "            color:  #000000;\n",
       "        }#T_f7c05_row6_col0{\n",
       "            background-color:  #3c4ec2;\n",
       "            color:  #f1f1f1;\n",
       "        }#T_f7c05_row7_col0{\n",
       "            background-color:  #5673e0;\n",
       "            color:  #000000;\n",
       "        }#T_f7c05_row9_col0{\n",
       "            background-color:  #b40426;\n",
       "            color:  #f1f1f1;\n",
       "        }#T_f7c05_row12_col0{\n",
       "            background-color:  #5b7ae5;\n",
       "            color:  #000000;\n",
       "        }#T_f7c05_row13_col0{\n",
       "            background-color:  #e9d5cb;\n",
       "            color:  #000000;\n",
       "        }#T_f7c05_row15_col0,#T_f7c05_row16_col0,#T_f7c05_row17_col0,#T_f7c05_row19_col0{\n",
       "            background-color:  #92b4fe;\n",
       "            color:  #000000;\n",
       "        }#T_f7c05_row18_col0{\n",
       "            background-color:  #f49a7b;\n",
       "            color:  #000000;\n",
       "        }#T_f7c05_row20_col0{\n",
       "            background-color:  #f7ad90;\n",
       "            color:  #000000;\n",
       "        }#T_f7c05_row21_col0{\n",
       "            background-color:  #6a8bef;\n",
       "            color:  #000000;\n",
       "        }</style><table id=\"T_f7c05_\" ><thead>    <tr>        <th class=\"blank level0\" ></th>        <th class=\"col_heading level0 col0\" >0</th>    </tr></thead><tbody>\n",
       "                <tr>\n",
       "                        <th id=\"T_f7c05_level0_row0\" class=\"row_heading level0 row0\" >total_images</th>\n",
       "                        <td id=\"T_f7c05_row0_col0\" class=\"data row0 col0\" >0.000000</td>\n",
       "            </tr>\n",
       "            <tr>\n",
       "                        <th id=\"T_f7c05_level0_row1\" class=\"row_heading level0 row1\" >last_price</th>\n",
       "                        <td id=\"T_f7c05_row1_col0\" class=\"data row1 col0\" >0.000000</td>\n",
       "            </tr>\n",
       "            <tr>\n",
       "                        <th id=\"T_f7c05_level0_row2\" class=\"row_heading level0 row2\" >total_area</th>\n",
       "                        <td id=\"T_f7c05_row2_col0\" class=\"data row2 col0\" >0.000000</td>\n",
       "            </tr>\n",
       "            <tr>\n",
       "                        <th id=\"T_f7c05_level0_row3\" class=\"row_heading level0 row3\" >first_day_exposition</th>\n",
       "                        <td id=\"T_f7c05_row3_col0\" class=\"data row3 col0\" >0.000000</td>\n",
       "            </tr>\n",
       "            <tr>\n",
       "                        <th id=\"T_f7c05_level0_row4\" class=\"row_heading level0 row4\" >rooms</th>\n",
       "                        <td id=\"T_f7c05_row4_col0\" class=\"data row4 col0\" >0.000000</td>\n",
       "            </tr>\n",
       "            <tr>\n",
       "                        <th id=\"T_f7c05_level0_row5\" class=\"row_heading level0 row5\" >ceiling_height</th>\n",
       "                        <td id=\"T_f7c05_row5_col0\" class=\"data row5 col0\" >38.799000</td>\n",
       "            </tr>\n",
       "            <tr>\n",
       "                        <th id=\"T_f7c05_level0_row6\" class=\"row_heading level0 row6\" >floors_total</th>\n",
       "                        <td id=\"T_f7c05_row6_col0\" class=\"data row6 col0\" >0.363000</td>\n",
       "            </tr>\n",
       "            <tr>\n",
       "                        <th id=\"T_f7c05_level0_row7\" class=\"row_heading level0 row7\" >living_area</th>\n",
       "                        <td id=\"T_f7c05_row7_col0\" class=\"data row7 col0\" >8.030000</td>\n",
       "            </tr>\n",
       "            <tr>\n",
       "                        <th id=\"T_f7c05_level0_row8\" class=\"row_heading level0 row8\" >floor</th>\n",
       "                        <td id=\"T_f7c05_row8_col0\" class=\"data row8 col0\" >0.000000</td>\n",
       "            </tr>\n",
       "            <tr>\n",
       "                        <th id=\"T_f7c05_level0_row9\" class=\"row_heading level0 row9\" >is_apartment</th>\n",
       "                        <td id=\"T_f7c05_row9_col0\" class=\"data row9 col0\" >88.291000</td>\n",
       "            </tr>\n",
       "            <tr>\n",
       "                        <th id=\"T_f7c05_level0_row10\" class=\"row_heading level0 row10\" >studio</th>\n",
       "                        <td id=\"T_f7c05_row10_col0\" class=\"data row10 col0\" >0.000000</td>\n",
       "            </tr>\n",
       "            <tr>\n",
       "                        <th id=\"T_f7c05_level0_row11\" class=\"row_heading level0 row11\" >open_plan</th>\n",
       "                        <td id=\"T_f7c05_row11_col0\" class=\"data row11 col0\" >0.000000</td>\n",
       "            </tr>\n",
       "            <tr>\n",
       "                        <th id=\"T_f7c05_level0_row12\" class=\"row_heading level0 row12\" >kitchen_area</th>\n",
       "                        <td id=\"T_f7c05_row12_col0\" class=\"data row12 col0\" >9.612000</td>\n",
       "            </tr>\n",
       "            <tr>\n",
       "                        <th id=\"T_f7c05_level0_row13\" class=\"row_heading level0 row13\" >balcony</th>\n",
       "                        <td id=\"T_f7c05_row13_col0\" class=\"data row13 col0\" >48.605000</td>\n",
       "            </tr>\n",
       "            <tr>\n",
       "                        <th id=\"T_f7c05_level0_row14\" class=\"row_heading level0 row14\" >locality_name</th>\n",
       "                        <td id=\"T_f7c05_row14_col0\" class=\"data row14 col0\" >0.207000</td>\n",
       "            </tr>\n",
       "            <tr>\n",
       "                        <th id=\"T_f7c05_level0_row15\" class=\"row_heading level0 row15\" >airports_nearest</th>\n",
       "                        <td id=\"T_f7c05_row15_col0\" class=\"data row15 col0\" >23.385000</td>\n",
       "            </tr>\n",
       "            <tr>\n",
       "                        <th id=\"T_f7c05_level0_row16\" class=\"row_heading level0 row16\" >cityCenters_nearest</th>\n",
       "                        <td id=\"T_f7c05_row16_col0\" class=\"data row16 col0\" >23.288000</td>\n",
       "            </tr>\n",
       "            <tr>\n",
       "                        <th id=\"T_f7c05_level0_row17\" class=\"row_heading level0 row17\" >parks_around3000</th>\n",
       "                        <td id=\"T_f7c05_row17_col0\" class=\"data row17 col0\" >23.284000</td>\n",
       "            </tr>\n",
       "            <tr>\n",
       "                        <th id=\"T_f7c05_level0_row18\" class=\"row_heading level0 row18\" >parks_nearest</th>\n",
       "                        <td id=\"T_f7c05_row18_col0\" class=\"data row18 col0\" >65.910000</td>\n",
       "            </tr>\n",
       "            <tr>\n",
       "                        <th id=\"T_f7c05_level0_row19\" class=\"row_heading level0 row19\" >ponds_around3000</th>\n",
       "                        <td id=\"T_f7c05_row19_col0\" class=\"data row19 col0\" >23.284000</td>\n",
       "            </tr>\n",
       "            <tr>\n",
       "                        <th id=\"T_f7c05_level0_row20\" class=\"row_heading level0 row20\" >ponds_nearest</th>\n",
       "                        <td id=\"T_f7c05_row20_col0\" class=\"data row20 col0\" >61.560000</td>\n",
       "            </tr>\n",
       "            <tr>\n",
       "                        <th id=\"T_f7c05_level0_row21\" class=\"row_heading level0 row21\" >days_exposition</th>\n",
       "                        <td id=\"T_f7c05_row21_col0\" class=\"data row21 col0\" >13.423000</td>\n",
       "            </tr>\n",
       "    </tbody></table>"
      ],
      "text/plain": [
       "<pandas.io.formats.style.Styler at 0x27475aae580>"
      ]
     },
     "execution_count": 2,
     "metadata": {},
     "output_type": "execute_result"
    }
   ],
   "source": [
    "pd.DataFrame(round((df.isna().mean()*100),3)).style.background_gradient('coolwarm')"
   ]
  },
  {
   "cell_type": "code",
   "execution_count": 3,
   "metadata": {},
   "outputs": [
    {
     "data": {
      "text/html": [
       "<div>\n",
       "<style scoped>\n",
       "    .dataframe tbody tr th:only-of-type {\n",
       "        vertical-align: middle;\n",
       "    }\n",
       "\n",
       "    .dataframe tbody tr th {\n",
       "        vertical-align: top;\n",
       "    }\n",
       "\n",
       "    .dataframe thead th {\n",
       "        text-align: right;\n",
       "    }\n",
       "</style>\n",
       "<table border=\"1\" class=\"dataframe\">\n",
       "  <thead>\n",
       "    <tr style=\"text-align: right;\">\n",
       "      <th></th>\n",
       "      <th>total_images</th>\n",
       "      <th>last_price</th>\n",
       "      <th>total_area</th>\n",
       "      <th>rooms</th>\n",
       "      <th>ceiling_height</th>\n",
       "      <th>floors_total</th>\n",
       "      <th>living_area</th>\n",
       "      <th>floor</th>\n",
       "      <th>kitchen_area</th>\n",
       "      <th>balcony</th>\n",
       "      <th>airports_nearest</th>\n",
       "      <th>cityCenters_nearest</th>\n",
       "      <th>parks_around3000</th>\n",
       "      <th>parks_nearest</th>\n",
       "      <th>ponds_around3000</th>\n",
       "      <th>ponds_nearest</th>\n",
       "      <th>days_exposition</th>\n",
       "    </tr>\n",
       "  </thead>\n",
       "  <tbody>\n",
       "    <tr>\n",
       "      <th>count</th>\n",
       "      <td>23699.00</td>\n",
       "      <td>23699.00</td>\n",
       "      <td>23699.00</td>\n",
       "      <td>23699.00</td>\n",
       "      <td>14504.00</td>\n",
       "      <td>23613.00</td>\n",
       "      <td>21796.00</td>\n",
       "      <td>23699.00</td>\n",
       "      <td>21421.00</td>\n",
       "      <td>12180.00</td>\n",
       "      <td>18157.00</td>\n",
       "      <td>18180.00</td>\n",
       "      <td>18181.00</td>\n",
       "      <td>8079.00</td>\n",
       "      <td>18181.00</td>\n",
       "      <td>9110.00</td>\n",
       "      <td>20518.00</td>\n",
       "    </tr>\n",
       "    <tr>\n",
       "      <th>mean</th>\n",
       "      <td>9.86</td>\n",
       "      <td>6541548.77</td>\n",
       "      <td>60.35</td>\n",
       "      <td>2.07</td>\n",
       "      <td>2.77</td>\n",
       "      <td>10.67</td>\n",
       "      <td>34.46</td>\n",
       "      <td>5.89</td>\n",
       "      <td>10.57</td>\n",
       "      <td>1.15</td>\n",
       "      <td>28793.67</td>\n",
       "      <td>14191.28</td>\n",
       "      <td>0.61</td>\n",
       "      <td>490.80</td>\n",
       "      <td>0.77</td>\n",
       "      <td>517.98</td>\n",
       "      <td>180.89</td>\n",
       "    </tr>\n",
       "    <tr>\n",
       "      <th>std</th>\n",
       "      <td>5.68</td>\n",
       "      <td>10887013.27</td>\n",
       "      <td>35.65</td>\n",
       "      <td>1.08</td>\n",
       "      <td>1.26</td>\n",
       "      <td>6.60</td>\n",
       "      <td>22.03</td>\n",
       "      <td>4.89</td>\n",
       "      <td>5.91</td>\n",
       "      <td>1.07</td>\n",
       "      <td>12630.88</td>\n",
       "      <td>8608.39</td>\n",
       "      <td>0.80</td>\n",
       "      <td>342.32</td>\n",
       "      <td>0.94</td>\n",
       "      <td>277.72</td>\n",
       "      <td>219.73</td>\n",
       "    </tr>\n",
       "    <tr>\n",
       "      <th>min</th>\n",
       "      <td>0.00</td>\n",
       "      <td>12190.00</td>\n",
       "      <td>12.00</td>\n",
       "      <td>0.00</td>\n",
       "      <td>1.00</td>\n",
       "      <td>1.00</td>\n",
       "      <td>2.00</td>\n",
       "      <td>1.00</td>\n",
       "      <td>1.30</td>\n",
       "      <td>0.00</td>\n",
       "      <td>0.00</td>\n",
       "      <td>181.00</td>\n",
       "      <td>0.00</td>\n",
       "      <td>1.00</td>\n",
       "      <td>0.00</td>\n",
       "      <td>13.00</td>\n",
       "      <td>1.00</td>\n",
       "    </tr>\n",
       "    <tr>\n",
       "      <th>25%</th>\n",
       "      <td>6.00</td>\n",
       "      <td>3400000.00</td>\n",
       "      <td>40.00</td>\n",
       "      <td>1.00</td>\n",
       "      <td>2.52</td>\n",
       "      <td>5.00</td>\n",
       "      <td>18.60</td>\n",
       "      <td>2.00</td>\n",
       "      <td>7.00</td>\n",
       "      <td>0.00</td>\n",
       "      <td>18585.00</td>\n",
       "      <td>9238.00</td>\n",
       "      <td>0.00</td>\n",
       "      <td>288.00</td>\n",
       "      <td>0.00</td>\n",
       "      <td>294.00</td>\n",
       "      <td>45.00</td>\n",
       "    </tr>\n",
       "    <tr>\n",
       "      <th>50%</th>\n",
       "      <td>9.00</td>\n",
       "      <td>4650000.00</td>\n",
       "      <td>52.00</td>\n",
       "      <td>2.00</td>\n",
       "      <td>2.65</td>\n",
       "      <td>9.00</td>\n",
       "      <td>30.00</td>\n",
       "      <td>4.00</td>\n",
       "      <td>9.10</td>\n",
       "      <td>1.00</td>\n",
       "      <td>26726.00</td>\n",
       "      <td>13098.50</td>\n",
       "      <td>0.00</td>\n",
       "      <td>455.00</td>\n",
       "      <td>1.00</td>\n",
       "      <td>502.00</td>\n",
       "      <td>95.00</td>\n",
       "    </tr>\n",
       "    <tr>\n",
       "      <th>75%</th>\n",
       "      <td>14.00</td>\n",
       "      <td>6800000.00</td>\n",
       "      <td>69.90</td>\n",
       "      <td>3.00</td>\n",
       "      <td>2.80</td>\n",
       "      <td>16.00</td>\n",
       "      <td>42.30</td>\n",
       "      <td>8.00</td>\n",
       "      <td>12.00</td>\n",
       "      <td>2.00</td>\n",
       "      <td>37273.00</td>\n",
       "      <td>16293.00</td>\n",
       "      <td>1.00</td>\n",
       "      <td>612.00</td>\n",
       "      <td>1.00</td>\n",
       "      <td>729.00</td>\n",
       "      <td>232.00</td>\n",
       "    </tr>\n",
       "    <tr>\n",
       "      <th>max</th>\n",
       "      <td>50.00</td>\n",
       "      <td>763000000.00</td>\n",
       "      <td>900.00</td>\n",
       "      <td>19.00</td>\n",
       "      <td>100.00</td>\n",
       "      <td>60.00</td>\n",
       "      <td>409.70</td>\n",
       "      <td>33.00</td>\n",
       "      <td>112.00</td>\n",
       "      <td>5.00</td>\n",
       "      <td>84869.00</td>\n",
       "      <td>65968.00</td>\n",
       "      <td>3.00</td>\n",
       "      <td>3190.00</td>\n",
       "      <td>3.00</td>\n",
       "      <td>1344.00</td>\n",
       "      <td>1580.00</td>\n",
       "    </tr>\n",
       "  </tbody>\n",
       "</table>\n",
       "</div>"
      ],
      "text/plain": [
       "       total_images   last_price  total_area    rooms  ceiling_height  \\\n",
       "count      23699.00     23699.00    23699.00 23699.00        14504.00   \n",
       "mean           9.86   6541548.77       60.35     2.07            2.77   \n",
       "std            5.68  10887013.27       35.65     1.08            1.26   \n",
       "min            0.00     12190.00       12.00     0.00            1.00   \n",
       "25%            6.00   3400000.00       40.00     1.00            2.52   \n",
       "50%            9.00   4650000.00       52.00     2.00            2.65   \n",
       "75%           14.00   6800000.00       69.90     3.00            2.80   \n",
       "max           50.00 763000000.00      900.00    19.00          100.00   \n",
       "\n",
       "       floors_total  living_area    floor  kitchen_area  balcony  \\\n",
       "count      23613.00     21796.00 23699.00      21421.00 12180.00   \n",
       "mean          10.67        34.46     5.89         10.57     1.15   \n",
       "std            6.60        22.03     4.89          5.91     1.07   \n",
       "min            1.00         2.00     1.00          1.30     0.00   \n",
       "25%            5.00        18.60     2.00          7.00     0.00   \n",
       "50%            9.00        30.00     4.00          9.10     1.00   \n",
       "75%           16.00        42.30     8.00         12.00     2.00   \n",
       "max           60.00       409.70    33.00        112.00     5.00   \n",
       "\n",
       "       airports_nearest  cityCenters_nearest  parks_around3000  parks_nearest  \\\n",
       "count          18157.00             18180.00          18181.00        8079.00   \n",
       "mean           28793.67             14191.28              0.61         490.80   \n",
       "std            12630.88              8608.39              0.80         342.32   \n",
       "min                0.00               181.00              0.00           1.00   \n",
       "25%            18585.00              9238.00              0.00         288.00   \n",
       "50%            26726.00             13098.50              0.00         455.00   \n",
       "75%            37273.00             16293.00              1.00         612.00   \n",
       "max            84869.00             65968.00              3.00        3190.00   \n",
       "\n",
       "       ponds_around3000  ponds_nearest  days_exposition  \n",
       "count          18181.00        9110.00         20518.00  \n",
       "mean               0.77         517.98           180.89  \n",
       "std                0.94         277.72           219.73  \n",
       "min                0.00          13.00             1.00  \n",
       "25%                0.00         294.00            45.00  \n",
       "50%                1.00         502.00            95.00  \n",
       "75%                1.00         729.00           232.00  \n",
       "max                3.00        1344.00          1580.00  "
      ]
     },
     "execution_count": 3,
     "metadata": {},
     "output_type": "execute_result"
    }
   ],
   "source": [
    "pd.set_option('display.float_format', lambda x: '%.2f' % x)\n",
    "df.describe()"
   ]
  },
  {
   "cell_type": "code",
   "execution_count": 4,
   "metadata": {},
   "outputs": [
    {
     "data": {
      "text/plain": [
       "0"
      ]
     },
     "execution_count": 4,
     "metadata": {},
     "output_type": "execute_result"
    }
   ],
   "source": [
    "df.duplicated().sum()"
   ]
  },
  {
   "cell_type": "markdown",
   "metadata": {},
   "source": [
    "### Вывод"
   ]
  },
  {
   "cell_type": "markdown",
   "metadata": {},
   "source": [
    "Датасет представляет собой 23698 строк, 22 столбца. Столбцы названы корректно, очевидных дубликатов нет.\n",
    "Артефакты - площадь в 900 м², высота потолка в 1 и 100 метров, жилплощадь 409 м², кухня 112 м², 0 м до аэропорта, 1580 дней было размещено объявление, цена 763 000 000. \n",
    "\n",
    "Некоторым столбцам нужно будет поменять тип данных: last_price, floors_total, balcony, airports_nearest, cityCenters_nearest, parks_around3000, parks_nearest, ponds_around3000 , ponds_nearest, days_exposition - должны быть целочисленные (т.к. цена в рублях, дни, этажи, количество балконов, водоёмов, парков, полных метров до объекта), is_apartment должна быть булева, first_day_exposition - должна быть временной.\n",
    "\n",
    "Имеются пропущенные значения: \n",
    "- ceiling_height - высота потолков (м)-  в 38.8%, здесь мы можем попробовать заполнить пропуски по среднему в группе в зависимости от этажности дома.\n",
    "- floors_total - информация о количестве этажей отсутствует у 0.36%, заменим отсутсвующие значения на указанный этаж в объявлении, предполагая, что люди могли не указать количество этаж там, где их квартира находится на последнем этаже. В любом случае такая замена не исказит результатов, т.к. процент отсутствующих данных очень мал.\n",
    "- living_area\t- жилая площадь в квадратных метрах(м²) - в 8.03%, возможно, не указана намеренно. Апартаменты - где, официально, нет жилой площади т.к. они не являются жилым фондом, указаны в 0.2%, и не объясняют отсутствие данных по жилплощади. *Заменим NaN на разницу между общей площадью и площадью кухни.\n",
    "- is_apartment - апартаменты (булев тип) - в 88.29%. Мы заменим здесь пропущенные значения на False, предполагая, что отсутствие ответа в данном случае означает отрицание факта, что квартира по типу является \"апартаменами\", т.е. не входит в фонд жилья.\n",
    "- kitchen_area - площадь кухни в квадратных метрах (м²) -\t9.61%, скорее всего отсутсвие информации связано с умышленным непредоставлением данных. Студий, где кухня является частью жилплощади, всего 149, т.е. 0.6%, и они не объясняют данные пропуски. \n",
    "- balcony - количество балконов - в 48.61%, заменим пропущенные значения на 0, предполагая, что если человек не указал число балконов — скорее всего, их нет.\n",
    "- airports_nearest, cityCenters_nearest, parks_around3000 и ponds_around3000 - расстояние до ближайшего аэропорта и центра города, количество парков и прудов в радиусе 300 м -  нет значений в 23% случаев, и возможно, они отсутствуют одновренно (практически одинаковые значения и, мы видим одновременное отсутствие на случайно выбранных строчках из датасета). Это нужно будет проверить.\n",
    "- parks_nearest и ponds_nearest - расстояние до ближайшего парка и водоёма - отсутствуют значения в 66% и 62% соответственно.\n",
    "- days_exposition - сколько дней было размещено объявление - нет данных в 13.42%.\n",
    "\n",
    "Название населенных пунктов locality_name содержит дубликаты. "
   ]
  },
  {
   "cell_type": "markdown",
   "metadata": {},
   "source": [
    "## Предобработка данных"
   ]
  },
  {
   "cell_type": "markdown",
   "metadata": {},
   "source": [
    "Сделаем замены и удалим строки, там где мы видим это обоснованным."
   ]
  },
  {
   "cell_type": "code",
   "execution_count": 5,
   "metadata": {},
   "outputs": [],
   "source": [
    "df['is_apartment'] = df['is_apartment'].fillna(False) # заменим Nan значения на False\n",
    "df['balcony'] = df['balcony'].fillna(0) # заменим Nan на 0\n",
    "df['floors_total'] = df['floors_total'].fillna(df['floor']) # заменим NaN в общем количестве этажей на этаж квартиры"
   ]
  },
  {
   "cell_type": "code",
   "execution_count": 6,
   "metadata": {},
   "outputs": [],
   "source": [
    "df=df.dropna(subset=['locality_name']) # удалим строки где нет населенных пунктов"
   ]
  },
  {
   "cell_type": "code",
   "execution_count": 7,
   "metadata": {},
   "outputs": [],
   "source": [
    "df['ceiling_height_corrected'] = df['ceiling_height'].fillna(\n",
    "    df.groupby('floors_total')['ceiling_height'].transform('mean'))\n",
    "# создадим новый столбец для манипуляций с высотой потолков\n",
    "# замена пропусков в высоте потолков на среднее в зависимости от этажности дома"
   ]
  },
  {
   "cell_type": "markdown",
   "metadata": {},
   "source": [
    "Следующие замены сделаем в новых столбцах для возможного дальнейшего использования, сохранив изначальные данные, чтобы не исказить их и при необходимости сравнить результаты."
   ]
  },
  {
   "cell_type": "code",
   "execution_count": 8,
   "metadata": {},
   "outputs": [],
   "source": [
    "df['kitchen_area_corrected'] = df['kitchen_area'].fillna(\n",
    "    df.groupby('total_area')['kitchen_area'].transform('mean'))\n",
    "# создадим новый столбец для манипуляций с площадью кухни\n",
    "# замена пропусков на среднее в зависимости от площади\n",
    "\n",
    "df['living_area_corrected'] = df['living_area'].fillna(df['total_area']-df['kitchen_area_corrected'])\n",
    "# создадим новый столбец для манипуляций \n",
    "# замена пропусков "
   ]
  },
  {
   "cell_type": "code",
   "execution_count": 9,
   "metadata": {},
   "outputs": [
    {
     "name": "stdout",
     "output_type": "stream",
     "text": [
      "364\n",
      "364\n"
     ]
    }
   ],
   "source": [
    "print(len(df['locality_name'].unique()))\n",
    "print(len(df['locality_name'].str.lower().unique()))\n",
    "# мы проверили были ли дубликаты в названиях населённого пункта, их не обнаружено. "
   ]
  },
  {
   "cell_type": "code",
   "execution_count": 10,
   "metadata": {},
   "outputs": [
    {
     "name": "stdout",
     "output_type": "stream",
     "text": [
      "305\n"
     ]
    }
   ],
   "source": [
    "# Однако, есть населенные пункты со словами посёлок и поселок и подобными, которые нудно превраить в одинаковые\n",
    "# создадим функцию, которая будет оставлять только те названия локации, \n",
    "# что идут с с большой буквы, и убирают слова посёлок или деревня\n",
    "\n",
    "def convert_to_name(locality_name):\n",
    "    for i in range (len(locality_name)):\n",
    "        if locality_name[i].isupper():\n",
    "            return locality_name[i:]\n",
    "\n",
    "df['locality_name']=df['locality_name'].apply(convert_to_name)\n",
    "\n",
    "print(len(df['locality_name'].unique())) # - видим, что теперь уникальных значений локаций стало на 59 меньше"
   ]
  },
  {
   "cell_type": "code",
   "execution_count": 11,
   "metadata": {},
   "outputs": [
    {
     "name": "stdout",
     "output_type": "stream",
     "text": [
      "<class 'pandas.core.frame.DataFrame'>\n",
      "Int64Index: 23650 entries, 0 to 23698\n",
      "Data columns (total 25 columns):\n",
      " #   Column                    Non-Null Count  Dtype         \n",
      "---  ------                    --------------  -----         \n",
      " 0   total_images              23650 non-null  int64         \n",
      " 1   last_price                23650 non-null  int32         \n",
      " 2   total_area                23650 non-null  float64       \n",
      " 3   first_day_exposition      23650 non-null  datetime64[ns]\n",
      " 4   rooms                     23650 non-null  int64         \n",
      " 5   ceiling_height            14490 non-null  float64       \n",
      " 6   floors_total              23650 non-null  int32         \n",
      " 7   living_area               21752 non-null  float64       \n",
      " 8   floor                     23650 non-null  int64         \n",
      " 9   is_apartment              23650 non-null  bool          \n",
      " 10  studio                    23650 non-null  bool          \n",
      " 11  open_plan                 23650 non-null  bool          \n",
      " 12  kitchen_area              21381 non-null  float64       \n",
      " 13  balcony                   23650 non-null  int32         \n",
      " 14  locality_name             23650 non-null  object        \n",
      " 15  airports_nearest          18116 non-null  float64       \n",
      " 16  cityCenters_nearest       18139 non-null  float64       \n",
      " 17  parks_around3000          18140 non-null  float64       \n",
      " 18  parks_nearest             8064 non-null   float64       \n",
      " 19  ponds_around3000          18140 non-null  float64       \n",
      " 20  ponds_nearest             9085 non-null   float64       \n",
      " 21  days_exposition           20470 non-null  float64       \n",
      " 22  ceiling_height_corrected  23649 non-null  float64       \n",
      " 23  kitchen_area_corrected    23445 non-null  float64       \n",
      " 24  living_area_corrected     23590 non-null  float64       \n",
      "dtypes: bool(3), datetime64[ns](1), float64(14), int32(3), int64(3), object(1)\n",
      "memory usage: 3.9+ MB\n"
     ]
    }
   ],
   "source": [
    "df['last_price'] = df['last_price'].astype('int')\n",
    "df['last_price'] = df['last_price'].astype('int')\n",
    "df['floors_total'] = df['floors_total'].astype('int')\n",
    "df['balcony'] = df['balcony'].astype('int')\n",
    "df['is_apartment'] = df['is_apartment'].astype('bool')\n",
    "df['first_day_exposition']=pd.to_datetime(df['first_day_exposition'], format='%Y-%m-%dT%H:%M:%S')\n",
    "\n",
    "df.info() #проверим корректность замен"
   ]
  },
  {
   "cell_type": "code",
   "execution_count": 12,
   "metadata": {},
   "outputs": [
    {
     "data": {
      "text/html": [
       "<style  type=\"text/css\" >\n",
       "#T_55843_row0_col0,#T_55843_row1_col0,#T_55843_row2_col0,#T_55843_row3_col0,#T_55843_row4_col0,#T_55843_row6_col0,#T_55843_row8_col0,#T_55843_row9_col0,#T_55843_row10_col0,#T_55843_row11_col0,#T_55843_row13_col0,#T_55843_row14_col0,#T_55843_row22_col0,#T_55843_row24_col0{\n",
       "            background-color:  #3b4cc0;\n",
       "            color:  #f1f1f1;\n",
       "        }#T_55843_row5_col0{\n",
       "            background-color:  #f0cdbb;\n",
       "            color:  #000000;\n",
       "        }#T_55843_row7_col0{\n",
       "            background-color:  #6180e9;\n",
       "            color:  #000000;\n",
       "        }#T_55843_row12_col0{\n",
       "            background-color:  #688aef;\n",
       "            color:  #000000;\n",
       "        }#T_55843_row15_col0,#T_55843_row16_col0,#T_55843_row17_col0,#T_55843_row19_col0{\n",
       "            background-color:  #b1cbfc;\n",
       "            color:  #000000;\n",
       "        }#T_55843_row18_col0{\n",
       "            background-color:  #b40426;\n",
       "            color:  #f1f1f1;\n",
       "        }#T_55843_row20_col0{\n",
       "            background-color:  #cb3e38;\n",
       "            color:  #f1f1f1;\n",
       "        }#T_55843_row21_col0{\n",
       "            background-color:  #7da0f9;\n",
       "            color:  #000000;\n",
       "        }#T_55843_row23_col0{\n",
       "            background-color:  #3e51c5;\n",
       "            color:  #f1f1f1;\n",
       "        }</style><table id=\"T_55843_\" ><thead>    <tr>        <th class=\"blank level0\" ></th>        <th class=\"col_heading level0 col0\" >0</th>    </tr></thead><tbody>\n",
       "                <tr>\n",
       "                        <th id=\"T_55843_level0_row0\" class=\"row_heading level0 row0\" >total_images</th>\n",
       "                        <td id=\"T_55843_row0_col0\" class=\"data row0 col0\" >0.000000</td>\n",
       "            </tr>\n",
       "            <tr>\n",
       "                        <th id=\"T_55843_level0_row1\" class=\"row_heading level0 row1\" >last_price</th>\n",
       "                        <td id=\"T_55843_row1_col0\" class=\"data row1 col0\" >0.000000</td>\n",
       "            </tr>\n",
       "            <tr>\n",
       "                        <th id=\"T_55843_level0_row2\" class=\"row_heading level0 row2\" >total_area</th>\n",
       "                        <td id=\"T_55843_row2_col0\" class=\"data row2 col0\" >0.000000</td>\n",
       "            </tr>\n",
       "            <tr>\n",
       "                        <th id=\"T_55843_level0_row3\" class=\"row_heading level0 row3\" >first_day_exposition</th>\n",
       "                        <td id=\"T_55843_row3_col0\" class=\"data row3 col0\" >0.000000</td>\n",
       "            </tr>\n",
       "            <tr>\n",
       "                        <th id=\"T_55843_level0_row4\" class=\"row_heading level0 row4\" >rooms</th>\n",
       "                        <td id=\"T_55843_row4_col0\" class=\"data row4 col0\" >0.000000</td>\n",
       "            </tr>\n",
       "            <tr>\n",
       "                        <th id=\"T_55843_level0_row5\" class=\"row_heading level0 row5\" >ceiling_height</th>\n",
       "                        <td id=\"T_55843_row5_col0\" class=\"data row5 col0\" >38.730000</td>\n",
       "            </tr>\n",
       "            <tr>\n",
       "                        <th id=\"T_55843_level0_row6\" class=\"row_heading level0 row6\" >floors_total</th>\n",
       "                        <td id=\"T_55843_row6_col0\" class=\"data row6 col0\" >0.000000</td>\n",
       "            </tr>\n",
       "            <tr>\n",
       "                        <th id=\"T_55843_level0_row7\" class=\"row_heading level0 row7\" >living_area</th>\n",
       "                        <td id=\"T_55843_row7_col0\" class=\"data row7 col0\" >8.030000</td>\n",
       "            </tr>\n",
       "            <tr>\n",
       "                        <th id=\"T_55843_level0_row8\" class=\"row_heading level0 row8\" >floor</th>\n",
       "                        <td id=\"T_55843_row8_col0\" class=\"data row8 col0\" >0.000000</td>\n",
       "            </tr>\n",
       "            <tr>\n",
       "                        <th id=\"T_55843_level0_row9\" class=\"row_heading level0 row9\" >is_apartment</th>\n",
       "                        <td id=\"T_55843_row9_col0\" class=\"data row9 col0\" >0.000000</td>\n",
       "            </tr>\n",
       "            <tr>\n",
       "                        <th id=\"T_55843_level0_row10\" class=\"row_heading level0 row10\" >studio</th>\n",
       "                        <td id=\"T_55843_row10_col0\" class=\"data row10 col0\" >0.000000</td>\n",
       "            </tr>\n",
       "            <tr>\n",
       "                        <th id=\"T_55843_level0_row11\" class=\"row_heading level0 row11\" >open_plan</th>\n",
       "                        <td id=\"T_55843_row11_col0\" class=\"data row11 col0\" >0.000000</td>\n",
       "            </tr>\n",
       "            <tr>\n",
       "                        <th id=\"T_55843_level0_row12\" class=\"row_heading level0 row12\" >kitchen_area</th>\n",
       "                        <td id=\"T_55843_row12_col0\" class=\"data row12 col0\" >9.590000</td>\n",
       "            </tr>\n",
       "            <tr>\n",
       "                        <th id=\"T_55843_level0_row13\" class=\"row_heading level0 row13\" >balcony</th>\n",
       "                        <td id=\"T_55843_row13_col0\" class=\"data row13 col0\" >0.000000</td>\n",
       "            </tr>\n",
       "            <tr>\n",
       "                        <th id=\"T_55843_level0_row14\" class=\"row_heading level0 row14\" >locality_name</th>\n",
       "                        <td id=\"T_55843_row14_col0\" class=\"data row14 col0\" >0.000000</td>\n",
       "            </tr>\n",
       "            <tr>\n",
       "                        <th id=\"T_55843_level0_row15\" class=\"row_heading level0 row15\" >airports_nearest</th>\n",
       "                        <td id=\"T_55843_row15_col0\" class=\"data row15 col0\" >23.400000</td>\n",
       "            </tr>\n",
       "            <tr>\n",
       "                        <th id=\"T_55843_level0_row16\" class=\"row_heading level0 row16\" >cityCenters_nearest</th>\n",
       "                        <td id=\"T_55843_row16_col0\" class=\"data row16 col0\" >23.300000</td>\n",
       "            </tr>\n",
       "            <tr>\n",
       "                        <th id=\"T_55843_level0_row17\" class=\"row_heading level0 row17\" >parks_around3000</th>\n",
       "                        <td id=\"T_55843_row17_col0\" class=\"data row17 col0\" >23.300000</td>\n",
       "            </tr>\n",
       "            <tr>\n",
       "                        <th id=\"T_55843_level0_row18\" class=\"row_heading level0 row18\" >parks_nearest</th>\n",
       "                        <td id=\"T_55843_row18_col0\" class=\"data row18 col0\" >65.900000</td>\n",
       "            </tr>\n",
       "            <tr>\n",
       "                        <th id=\"T_55843_level0_row19\" class=\"row_heading level0 row19\" >ponds_around3000</th>\n",
       "                        <td id=\"T_55843_row19_col0\" class=\"data row19 col0\" >23.300000</td>\n",
       "            </tr>\n",
       "            <tr>\n",
       "                        <th id=\"T_55843_level0_row20\" class=\"row_heading level0 row20\" >ponds_nearest</th>\n",
       "                        <td id=\"T_55843_row20_col0\" class=\"data row20 col0\" >61.590000</td>\n",
       "            </tr>\n",
       "            <tr>\n",
       "                        <th id=\"T_55843_level0_row21\" class=\"row_heading level0 row21\" >days_exposition</th>\n",
       "                        <td id=\"T_55843_row21_col0\" class=\"data row21 col0\" >13.450000</td>\n",
       "            </tr>\n",
       "            <tr>\n",
       "                        <th id=\"T_55843_level0_row22\" class=\"row_heading level0 row22\" >ceiling_height_corrected</th>\n",
       "                        <td id=\"T_55843_row22_col0\" class=\"data row22 col0\" >0.000000</td>\n",
       "            </tr>\n",
       "            <tr>\n",
       "                        <th id=\"T_55843_level0_row23\" class=\"row_heading level0 row23\" >kitchen_area_corrected</th>\n",
       "                        <td id=\"T_55843_row23_col0\" class=\"data row23 col0\" >0.870000</td>\n",
       "            </tr>\n",
       "            <tr>\n",
       "                        <th id=\"T_55843_level0_row24\" class=\"row_heading level0 row24\" >living_area_corrected</th>\n",
       "                        <td id=\"T_55843_row24_col0\" class=\"data row24 col0\" >0.250000</td>\n",
       "            </tr>\n",
       "    </tbody></table>"
      ],
      "text/plain": [
       "<pandas.io.formats.style.Styler at 0x27478c39940>"
      ]
     },
     "execution_count": 12,
     "metadata": {},
     "output_type": "execute_result"
    }
   ],
   "source": [
    "pd.DataFrame(round((df.isna().mean()*100),2)).style.background_gradient('coolwarm')\n",
    "# посмотрим на пропуски после преобразований"
   ]
  },
  {
   "cell_type": "markdown",
   "metadata": {},
   "source": [
    "### Вывод"
   ]
  },
  {
   "cell_type": "markdown",
   "metadata": {},
   "source": [
    "Мы заменили отсутствующие данные в столбцах floors_total, is_apartment, balcony, ceiling_height (создав новый столбец), как и запланировали после первичного анализа. Мы удалили строки, где нет населенных пунктов, т.к. их количество незначительно (0.207) и заменить их мы не можем.\n",
    "\n",
    "Мы создали откорректированные столбцы для living_area и kitchen_area, где пропуски по кухни заполняли средним в зависимости от общей площади, а опропуски по жилой площади как разницу между общей площадью и площадью кухни (это не совсем точный метод, так как еще необходимо было бы вычесть площади санузла и балкона, если таковой имеется, но таких данных у нас нет). Оставим пока эти столбцы как дополнительные.\n",
    "\n",
    "airports_nearest, cityCenters_nearest, parks_around3000 и ponds_around3000 - расстояние до ближайшего аэропорта и центра города, количество парков и прудов в радиусе 300 м - нет значений в 23% случаев, они отсутствуют одновренно. Скорее всего, это связано с тем, что система не смогла правильно идентифицировать название населонного пункта и рассчитать данные метрики. После коррекции по средним в зависимости от населенного пункта, процент отсутствующих значений почти не изменился, а значит,  для большинства случаев нет данных по населенным пунктам, чтобы поситать среднее для замены. *Т.к. коррекция почти не изменила процент NaN, мы будем работать с оригинальными столбцами.\n",
    "\n",
    "parks_nearest и ponds_nearest - расстояние до ближайшего парка и водоёма - отсутствуют значения в 66% и 62% соответственно - эти данные мы также оставим без замен, т.к. нет возможности проверить точное местоположение для расчета наличия парка или водоема на близком расстоянии в 3km и среднее по населенному пункту будет слишком не точно.\n",
    "\n",
    "Остальные не упомянутые столбцы мы оставили без замен тк для них нет подходящего значения на замену и/ или количество пропусков слишклм велико и замены приведут к искажению."
   ]
  },
  {
   "cell_type": "markdown",
   "metadata": {},
   "source": [
    "## Расчёты и добавление результатов в таблицу"
   ]
  },
  {
   "cell_type": "code",
   "execution_count": 13,
   "metadata": {},
   "outputs": [],
   "source": [
    "df['price_m_sq']=df['last_price']/df['total_area'] # цена квадратного метра"
   ]
  },
  {
   "cell_type": "code",
   "execution_count": 14,
   "metadata": {},
   "outputs": [],
   "source": [
    "# день недели, месяц и год публикации объявления\n",
    "df['day_week_exposition']=df['first_day_exposition'].dt.dayofweek # ( Monday=0, Sunday=6)\n",
    "df['month_exposition']=df['first_day_exposition'].dt.month\n",
    "df['year_exposition']=df['first_day_exposition'].dt.year"
   ]
  },
  {
   "cell_type": "code",
   "execution_count": 15,
   "metadata": {},
   "outputs": [],
   "source": [
    "# этаж квартиры; варианты — первый (1), последний (0), другой (99)\n",
    "def floors_convert(row):\n",
    "    floor = row['floor']\n",
    "    floors_total = row['floors_total']\n",
    "    if floor == 1:\n",
    "        return '1'\n",
    "    if floor == floors_total:\n",
    "        return '0'\n",
    "    \n",
    "    return '99'\n",
    "\n",
    "df['floors_first_or_last']=df.apply(floors_convert, axis=1)\n",
    "df['floors_first_or_last'] = df['floors_first_or_last'].astype('int')"
   ]
  },
  {
   "cell_type": "code",
   "execution_count": 16,
   "metadata": {},
   "outputs": [],
   "source": [
    "# соотношение жилой и общей площади, а также отношение площади кухни к общей\n",
    "df['living_to_total_area']=df['living_area']/df['total_area']\n",
    "df['kitchen_to_total_area']=df['kitchen_area']/df['total_area']"
   ]
  },
  {
   "cell_type": "markdown",
   "metadata": {},
   "source": [
    "### Вывод\n",
    "Были посчитаны и добавлены в таблицу:\n",
    "цена квадратного метра;\n",
    "день недели, месяц и год публикации объявления;\n",
    "этаж квартиры; варианты — первый, последний, другой;\n",
    "соотношение жилой и общей площади, а также отношение площади кухни к общей."
   ]
  },
  {
   "cell_type": "markdown",
   "metadata": {},
   "source": [
    "## Исследовательский анализ данных"
   ]
  },
  {
   "cell_type": "markdown",
   "metadata": {},
   "source": [
    "### Проведите исследовательский анализ данных и выполните инструкции: Изучите следующие параметры: площадь, цена, число комнат, высота потолков. Постройте гистограммы для каждого параметра."
   ]
  },
  {
   "cell_type": "code",
   "execution_count": 17,
   "metadata": {},
   "outputs": [
    {
     "data": {
      "text/html": [
       "<div>\n",
       "<style scoped>\n",
       "    .dataframe tbody tr th:only-of-type {\n",
       "        vertical-align: middle;\n",
       "    }\n",
       "\n",
       "    .dataframe tbody tr th {\n",
       "        vertical-align: top;\n",
       "    }\n",
       "\n",
       "    .dataframe thead th {\n",
       "        text-align: right;\n",
       "    }\n",
       "</style>\n",
       "<table border=\"1\" class=\"dataframe\">\n",
       "  <thead>\n",
       "    <tr style=\"text-align: right;\">\n",
       "      <th></th>\n",
       "      <th>total_area</th>\n",
       "      <th>last_price</th>\n",
       "      <th>rooms</th>\n",
       "      <th>ceiling_height</th>\n",
       "    </tr>\n",
       "  </thead>\n",
       "  <tbody>\n",
       "    <tr>\n",
       "      <th>count</th>\n",
       "      <td>23650.00</td>\n",
       "      <td>23650.00</td>\n",
       "      <td>23650.00</td>\n",
       "      <td>14490.00</td>\n",
       "    </tr>\n",
       "    <tr>\n",
       "      <th>mean</th>\n",
       "      <td>60.33</td>\n",
       "      <td>6541126.90</td>\n",
       "      <td>2.07</td>\n",
       "      <td>2.77</td>\n",
       "    </tr>\n",
       "    <tr>\n",
       "      <th>std</th>\n",
       "      <td>35.66</td>\n",
       "      <td>10896399.18</td>\n",
       "      <td>1.08</td>\n",
       "      <td>1.26</td>\n",
       "    </tr>\n",
       "    <tr>\n",
       "      <th>min</th>\n",
       "      <td>12.00</td>\n",
       "      <td>12190.00</td>\n",
       "      <td>0.00</td>\n",
       "      <td>1.00</td>\n",
       "    </tr>\n",
       "    <tr>\n",
       "      <th>25%</th>\n",
       "      <td>40.00</td>\n",
       "      <td>3400000.00</td>\n",
       "      <td>1.00</td>\n",
       "      <td>2.52</td>\n",
       "    </tr>\n",
       "    <tr>\n",
       "      <th>50%</th>\n",
       "      <td>52.00</td>\n",
       "      <td>4650000.00</td>\n",
       "      <td>2.00</td>\n",
       "      <td>2.65</td>\n",
       "    </tr>\n",
       "    <tr>\n",
       "      <th>75%</th>\n",
       "      <td>69.70</td>\n",
       "      <td>6799000.00</td>\n",
       "      <td>3.00</td>\n",
       "      <td>2.80</td>\n",
       "    </tr>\n",
       "    <tr>\n",
       "      <th>max</th>\n",
       "      <td>900.00</td>\n",
       "      <td>763000000.00</td>\n",
       "      <td>19.00</td>\n",
       "      <td>100.00</td>\n",
       "    </tr>\n",
       "  </tbody>\n",
       "</table>\n",
       "</div>"
      ],
      "text/plain": [
       "       total_area   last_price    rooms  ceiling_height\n",
       "count    23650.00     23650.00 23650.00        14490.00\n",
       "mean        60.33   6541126.90     2.07            2.77\n",
       "std         35.66  10896399.18     1.08            1.26\n",
       "min         12.00     12190.00     0.00            1.00\n",
       "25%         40.00   3400000.00     1.00            2.52\n",
       "50%         52.00   4650000.00     2.00            2.65\n",
       "75%         69.70   6799000.00     3.00            2.80\n",
       "max        900.00 763000000.00    19.00          100.00"
      ]
     },
     "execution_count": 17,
     "metadata": {},
     "output_type": "execute_result"
    }
   ],
   "source": [
    "df[['total_area','last_price','rooms','ceiling_height']].describe()"
   ]
  },
  {
   "cell_type": "code",
   "execution_count": 18,
   "metadata": {
    "scrolled": false
   },
   "outputs": [
    {
     "name": "stdout",
     "output_type": "stream",
     "text": [
      "total_area\n"
     ]
    },
    {
     "data": {
      "image/png": "[encoded data removed]",
      "text/plain": [
       "<Figure size 432x288 with 1 Axes>"
      ]
     },
     "metadata": {
      "needs_background": "light"
     },
     "output_type": "display_data"
    },
    {
     "data": {
      "image/png": "[encoded data removed]",
      "text/plain": [
       "<Figure size 432x288 with 1 Axes>"
      ]
     },
     "metadata": {
      "needs_background": "light"
     },
     "output_type": "display_data"
    },
    {
     "name": "stdout",
     "output_type": "stream",
     "text": [
      "last_price\n"
     ]
    },
    {
     "data": {
      "image/png": "[encoded data removed]",
      "text/plain": [
       "<Figure size 432x288 with 1 Axes>"
      ]
     },
     "metadata": {
      "needs_background": "light"
     },
     "output_type": "display_data"
    },
    {
     "data": {
      "image/png": "[encoded data removed]",
      "text/plain": [
       "<Figure size 432x288 with 1 Axes>"
      ]
     },
     "metadata": {
      "needs_background": "light"
     },
     "output_type": "display_data"
    },
    {
     "name": "stdout",
     "output_type": "stream",
     "text": [
      "rooms\n"
     ]
    },
    {
     "data": {
      "image/png": "[encoded data removed]",
      "text/plain": [
       "<Figure size 432x288 with 1 Axes>"
      ]
     },
     "metadata": {
      "needs_background": "light"
     },
     "output_type": "display_data"
    },
    {
     "data": {
      "image/png": "[encoded data removed]",
      "text/plain": [
       "<Figure size 432x288 with 1 Axes>"
      ]
     },
     "metadata": {
      "needs_background": "light"
     },
     "output_type": "display_data"
    },
    {
     "name": "stdout",
     "output_type": "stream",
     "text": [
      "ceiling_height\n"
     ]
    },
    {
     "data": {
      "image/png": "[encoded data removed]",
      "text/plain": [
       "<Figure size 432x288 with 1 Axes>"
      ]
     },
     "metadata": {
      "needs_background": "light"
     },
     "output_type": "display_data"
    },
    {
     "data": {
      "image/png": "[encoded data removed]",
      "text/plain": [
       "<Figure size 432x288 with 1 Axes>"
      ]
     },
     "metadata": {
      "needs_background": "light"
     },
     "output_type": "display_data"
    }
   ],
   "source": [
    "for parametr in ['total_area','last_price','rooms','ceiling_height']:\n",
    "    print(parametr)\n",
    "    df.boxplot(column=[parametr])\n",
    "    plt.show()\n",
    "    df[parametr].hist(bins=100)\n",
    "    plt.show()"
   ]
  },
  {
   "cell_type": "markdown",
   "metadata": {},
   "source": [
    "Из таблицы и начальных графиков видно, что нам нужно отбросить редкие и выбивающиеся значения и подобрать значения количества корзин по-другому.\n",
    "total_area - отбросить значения более 150\n",
    "last_price - отбросить значения после 20 млн.\n",
    "rooms - отбросить значения после 8 комнат или, объединить все значения более 8 в одно \n",
    "ceiling_height - отбросить значения до 2 м и после 4 метров"
   ]
  },
  {
   "cell_type": "code",
   "execution_count": 19,
   "metadata": {},
   "outputs": [
    {
     "data": {
      "text/plain": [
       "<AxesSubplot:>"
      ]
     },
     "execution_count": 19,
     "metadata": {},
     "output_type": "execute_result"
    },
    {
     "data": {
      "image/png": "[encoded data removed]",
      "text/plain": [
       "<Figure size 432x288 with 1 Axes>"
      ]
     },
     "metadata": {
      "needs_background": "light"
     },
     "output_type": "display_data"
    }
   ],
   "source": [
    "df['total_area'].hist(bins=100, range = (0, 150))"
   ]
  },
  {
   "cell_type": "code",
   "execution_count": 20,
   "metadata": {},
   "outputs": [
    {
     "data": {
      "text/plain": [
       "<AxesSubplot:>"
      ]
     },
     "execution_count": 20,
     "metadata": {},
     "output_type": "execute_result"
    },
    {
     "data": {
      "image/png": "[encoded data removed]",
      "text/plain": [
       "<Figure size 432x288 with 1 Axes>"
      ]
     },
     "metadata": {
      "needs_background": "light"
     },
     "output_type": "display_data"
    }
   ],
   "source": [
    "df.query('total_area <150')['total_area'].hist(bins=100) \n",
    "# для сравнения сделаем гистограмму на срезе, где площадь меньше 150.\n",
    "# Результаты довольно похожи."
   ]
  },
  {
   "cell_type": "code",
   "execution_count": 21,
   "metadata": {},
   "outputs": [
    {
     "data": {
      "text/plain": [
       "<AxesSubplot:>"
      ]
     },
     "execution_count": 21,
     "metadata": {},
     "output_type": "execute_result"
    },
    {
     "data": {
      "image/png": "[encoded data removed]",
      "text/plain": [
       "<Figure size 432x288 with 1 Axes>"
      ]
     },
     "metadata": {
      "needs_background": "light"
     },
     "output_type": "display_data"
    }
   ],
   "source": [
    "df['last_price'].hist(bins=100, range = (0, 20000000))"
   ]
  },
  {
   "cell_type": "code",
   "execution_count": 22,
   "metadata": {},
   "outputs": [
    {
     "data": {
      "text/plain": [
       "<AxesSubplot:>"
      ]
     },
     "execution_count": 22,
     "metadata": {},
     "output_type": "execute_result"
    },
    {
     "data": {
      "image/png": "[encoded data removed]",
      "text/plain": [
       "<Figure size 432x288 with 1 Axes>"
      ]
     },
     "metadata": {
      "needs_background": "light"
     },
     "output_type": "display_data"
    }
   ],
   "source": [
    "df['rooms'].hist(bins=9, range = (0, 8))"
   ]
  },
  {
   "cell_type": "code",
   "execution_count": 23,
   "metadata": {},
   "outputs": [
    {
     "data": {
      "text/plain": [
       "<AxesSubplot:>"
      ]
     },
     "execution_count": 23,
     "metadata": {},
     "output_type": "execute_result"
    },
    {
     "data": {
      "image/png": "[encoded data removed]",
      "text/plain": [
       "<Figure size 432x288 with 1 Axes>"
      ]
     },
     "metadata": {
      "needs_background": "light"
     },
     "output_type": "display_data"
    }
   ],
   "source": [
    "df['ceiling_height'].hist(bins=10, range = (2, 4))"
   ]
  },
  {
   "cell_type": "markdown",
   "metadata": {},
   "source": [
    "total_area - по площади есть несколько ярковыраженных пиков  - на 30м, на 45 и на 60 - это, возможно связано со стандартной площадью одно- двух- и трехкомнатных квартир. Медианное значение - 52 метра.\n",
    "\n",
    "last_price - цена на момент продажи - распределение похоже на нормальное, с длинным хвостом в сторону после 15 млн.  Медианное значение цены - 4.65млн.\n",
    "\n",
    "rooms - количество комнат - самые часто встречающиеся квартиры в объявлениях одно и двух комнатные, практически на равных, и трехкомнатные, немногим меньше. Ноль соответствует студиям. \n",
    "\n",
    "ceiling_height - пик значений на 2.5м, медиана - 2.65м, среднее не так сильно отличается - 2.77м, артефактов здесь здесь совсем  немного."
   ]
  },
  {
   "cell_type": "markdown",
   "metadata": {},
   "source": [
    "### Изучите время продажи квартиры. Постройте гистограмму. Посчитайте среднее и медиану. Опишите, сколько обычно занимает продажа. Когда можно считать, что продажи прошли очень быстро, а когда необычно долго?"
   ]
  },
  {
   "cell_type": "code",
   "execution_count": 24,
   "metadata": {},
   "outputs": [
    {
     "data": {
      "text/html": [
       "<div>\n",
       "<style scoped>\n",
       "    .dataframe tbody tr th:only-of-type {\n",
       "        vertical-align: middle;\n",
       "    }\n",
       "\n",
       "    .dataframe tbody tr th {\n",
       "        vertical-align: top;\n",
       "    }\n",
       "\n",
       "    .dataframe thead th {\n",
       "        text-align: right;\n",
       "    }\n",
       "</style>\n",
       "<table border=\"1\" class=\"dataframe\">\n",
       "  <thead>\n",
       "    <tr style=\"text-align: right;\">\n",
       "      <th></th>\n",
       "      <th>days_exposition</th>\n",
       "    </tr>\n",
       "  </thead>\n",
       "  <tbody>\n",
       "    <tr>\n",
       "      <th>count</th>\n",
       "      <td>20470.00</td>\n",
       "    </tr>\n",
       "    <tr>\n",
       "      <th>mean</th>\n",
       "      <td>180.75</td>\n",
       "    </tr>\n",
       "    <tr>\n",
       "      <th>std</th>\n",
       "      <td>219.78</td>\n",
       "    </tr>\n",
       "    <tr>\n",
       "      <th>min</th>\n",
       "      <td>1.00</td>\n",
       "    </tr>\n",
       "    <tr>\n",
       "      <th>25%</th>\n",
       "      <td>45.00</td>\n",
       "    </tr>\n",
       "    <tr>\n",
       "      <th>50%</th>\n",
       "      <td>95.00</td>\n",
       "    </tr>\n",
       "    <tr>\n",
       "      <th>75%</th>\n",
       "      <td>231.00</td>\n",
       "    </tr>\n",
       "    <tr>\n",
       "      <th>max</th>\n",
       "      <td>1580.00</td>\n",
       "    </tr>\n",
       "  </tbody>\n",
       "</table>\n",
       "</div>"
      ],
      "text/plain": [
       "       days_exposition\n",
       "count         20470.00\n",
       "mean            180.75\n",
       "std             219.78\n",
       "min               1.00\n",
       "25%              45.00\n",
       "50%              95.00\n",
       "75%             231.00\n",
       "max            1580.00"
      ]
     },
     "execution_count": 24,
     "metadata": {},
     "output_type": "execute_result"
    }
   ],
   "source": [
    "df[['days_exposition']].describe()"
   ]
  },
  {
   "cell_type": "code",
   "execution_count": 25,
   "metadata": {},
   "outputs": [
    {
     "data": {
      "text/plain": [
       "<AxesSubplot:>"
      ]
     },
     "execution_count": 25,
     "metadata": {},
     "output_type": "execute_result"
    },
    {
     "data": {
      "image/png": "[encoded data removed]",
      "text/plain": [
       "<Figure size 432x288 with 1 Axes>"
      ]
     },
     "metadata": {
      "needs_background": "light"
     },
     "output_type": "display_data"
    }
   ],
   "source": [
    "df['days_exposition'].hist(bins=50)"
   ]
  },
  {
   "cell_type": "code",
   "execution_count": 26,
   "metadata": {},
   "outputs": [
    {
     "data": {
      "text/plain": [
       "<AxesSubplot:>"
      ]
     },
     "execution_count": 26,
     "metadata": {},
     "output_type": "execute_result"
    },
    {
     "data": {
      "image/png": "[encoded data removed]",
      "text/plain": [
       "<Figure size 432x288 with 1 Axes>"
      ]
     },
     "metadata": {
      "needs_background": "light"
     },
     "output_type": "display_data"
    }
   ],
   "source": [
    "df.query(' days_exposition < 730')['days_exposition'].hist(bins=100)"
   ]
  },
  {
   "cell_type": "code",
   "execution_count": 27,
   "metadata": {},
   "outputs": [
    {
     "data": {
      "text/plain": [
       "<AxesSubplot:>"
      ]
     },
     "execution_count": 27,
     "metadata": {},
     "output_type": "execute_result"
    },
    {
     "data": {
      "image/png": "[encoded data removed]",
      "text/plain": [
       "<Figure size 432x288 with 1 Axes>"
      ]
     },
     "metadata": {
      "needs_background": "light"
     },
     "output_type": "display_data"
    }
   ],
   "source": [
    "df.query('days_exposition < 50')['days_exposition'].hist(bins=50)"
   ]
  },
  {
   "cell_type": "code",
   "execution_count": 28,
   "metadata": {},
   "outputs": [
    {
     "data": {
      "text/html": [
       "<div>\n",
       "<style scoped>\n",
       "    .dataframe tbody tr th:only-of-type {\n",
       "        vertical-align: middle;\n",
       "    }\n",
       "\n",
       "    .dataframe tbody tr th {\n",
       "        vertical-align: top;\n",
       "    }\n",
       "\n",
       "    .dataframe thead th {\n",
       "        text-align: right;\n",
       "    }\n",
       "</style>\n",
       "<table border=\"1\" class=\"dataframe\">\n",
       "  <thead>\n",
       "    <tr style=\"text-align: right;\">\n",
       "      <th></th>\n",
       "      <th>total_images</th>\n",
       "      <th>last_price</th>\n",
       "      <th>total_area</th>\n",
       "      <th>first_day_exposition</th>\n",
       "      <th>rooms</th>\n",
       "      <th>ceiling_height</th>\n",
       "      <th>floors_total</th>\n",
       "      <th>living_area</th>\n",
       "      <th>floor</th>\n",
       "      <th>is_apartment</th>\n",
       "      <th>...</th>\n",
       "      <th>ceiling_height_corrected</th>\n",
       "      <th>kitchen_area_corrected</th>\n",
       "      <th>living_area_corrected</th>\n",
       "      <th>price_m_sq</th>\n",
       "      <th>day_week_exposition</th>\n",
       "      <th>month_exposition</th>\n",
       "      <th>year_exposition</th>\n",
       "      <th>floors_first_or_last</th>\n",
       "      <th>living_to_total_area</th>\n",
       "      <th>kitchen_to_total_area</th>\n",
       "    </tr>\n",
       "  </thead>\n",
       "  <tbody>\n",
       "    <tr>\n",
       "      <th>18843</th>\n",
       "      <td>11</td>\n",
       "      <td>3500000</td>\n",
       "      <td>48.20</td>\n",
       "      <td>2014-12-15</td>\n",
       "      <td>2</td>\n",
       "      <td>2.50</td>\n",
       "      <td>5</td>\n",
       "      <td>27.40</td>\n",
       "      <td>2</td>\n",
       "      <td>False</td>\n",
       "      <td>...</td>\n",
       "      <td>2.50</td>\n",
       "      <td>7.70</td>\n",
       "      <td>27.40</td>\n",
       "      <td>72614.11</td>\n",
       "      <td>0</td>\n",
       "      <td>12</td>\n",
       "      <td>2014</td>\n",
       "      <td>99</td>\n",
       "      <td>0.57</td>\n",
       "      <td>0.16</td>\n",
       "    </tr>\n",
       "    <tr>\n",
       "      <th>1109</th>\n",
       "      <td>1</td>\n",
       "      <td>34878556</td>\n",
       "      <td>95.80</td>\n",
       "      <td>2014-12-09</td>\n",
       "      <td>2</td>\n",
       "      <td>NaN</td>\n",
       "      <td>6</td>\n",
       "      <td>58.30</td>\n",
       "      <td>5</td>\n",
       "      <td>True</td>\n",
       "      <td>...</td>\n",
       "      <td>3.12</td>\n",
       "      <td>20.00</td>\n",
       "      <td>58.30</td>\n",
       "      <td>364076.78</td>\n",
       "      <td>1</td>\n",
       "      <td>12</td>\n",
       "      <td>2014</td>\n",
       "      <td>99</td>\n",
       "      <td>0.61</td>\n",
       "      <td>0.21</td>\n",
       "    </tr>\n",
       "    <tr>\n",
       "      <th>9553</th>\n",
       "      <td>11</td>\n",
       "      <td>10600000</td>\n",
       "      <td>80.00</td>\n",
       "      <td>2014-12-09</td>\n",
       "      <td>3</td>\n",
       "      <td>2.85</td>\n",
       "      <td>17</td>\n",
       "      <td>44.00</td>\n",
       "      <td>9</td>\n",
       "      <td>False</td>\n",
       "      <td>...</td>\n",
       "      <td>2.85</td>\n",
       "      <td>15.00</td>\n",
       "      <td>44.00</td>\n",
       "      <td>132500.00</td>\n",
       "      <td>1</td>\n",
       "      <td>12</td>\n",
       "      <td>2014</td>\n",
       "      <td>99</td>\n",
       "      <td>0.55</td>\n",
       "      <td>0.19</td>\n",
       "    </tr>\n",
       "    <tr>\n",
       "      <th>1885</th>\n",
       "      <td>2</td>\n",
       "      <td>13300000</td>\n",
       "      <td>79.60</td>\n",
       "      <td>2014-12-09</td>\n",
       "      <td>2</td>\n",
       "      <td>3.00</td>\n",
       "      <td>8</td>\n",
       "      <td>42.70</td>\n",
       "      <td>7</td>\n",
       "      <td>False</td>\n",
       "      <td>...</td>\n",
       "      <td>3.00</td>\n",
       "      <td>18.00</td>\n",
       "      <td>42.70</td>\n",
       "      <td>167085.43</td>\n",
       "      <td>1</td>\n",
       "      <td>12</td>\n",
       "      <td>2014</td>\n",
       "      <td>99</td>\n",
       "      <td>0.54</td>\n",
       "      <td>0.23</td>\n",
       "    </tr>\n",
       "    <tr>\n",
       "      <th>6691</th>\n",
       "      <td>3</td>\n",
       "      <td>4400000</td>\n",
       "      <td>42.98</td>\n",
       "      <td>2014-12-12</td>\n",
       "      <td>1</td>\n",
       "      <td>NaN</td>\n",
       "      <td>5</td>\n",
       "      <td>18.72</td>\n",
       "      <td>1</td>\n",
       "      <td>False</td>\n",
       "      <td>...</td>\n",
       "      <td>2.79</td>\n",
       "      <td>11.31</td>\n",
       "      <td>18.72</td>\n",
       "      <td>102373.20</td>\n",
       "      <td>4</td>\n",
       "      <td>12</td>\n",
       "      <td>2014</td>\n",
       "      <td>1</td>\n",
       "      <td>0.44</td>\n",
       "      <td>0.26</td>\n",
       "    </tr>\n",
       "    <tr>\n",
       "      <th>20969</th>\n",
       "      <td>18</td>\n",
       "      <td>13300000</td>\n",
       "      <td>133.00</td>\n",
       "      <td>2015-02-11</td>\n",
       "      <td>4</td>\n",
       "      <td>3.00</td>\n",
       "      <td>5</td>\n",
       "      <td>58.00</td>\n",
       "      <td>2</td>\n",
       "      <td>False</td>\n",
       "      <td>...</td>\n",
       "      <td>3.00</td>\n",
       "      <td>45.00</td>\n",
       "      <td>58.00</td>\n",
       "      <td>100000.00</td>\n",
       "      <td>2</td>\n",
       "      <td>2</td>\n",
       "      <td>2015</td>\n",
       "      <td>99</td>\n",
       "      <td>0.44</td>\n",
       "      <td>0.34</td>\n",
       "    </tr>\n",
       "    <tr>\n",
       "      <th>14093</th>\n",
       "      <td>7</td>\n",
       "      <td>9500000</td>\n",
       "      <td>100.00</td>\n",
       "      <td>2015-02-19</td>\n",
       "      <td>4</td>\n",
       "      <td>3.00</td>\n",
       "      <td>5</td>\n",
       "      <td>76.00</td>\n",
       "      <td>5</td>\n",
       "      <td>False</td>\n",
       "      <td>...</td>\n",
       "      <td>3.00</td>\n",
       "      <td>10.00</td>\n",
       "      <td>76.00</td>\n",
       "      <td>95000.00</td>\n",
       "      <td>3</td>\n",
       "      <td>2</td>\n",
       "      <td>2015</td>\n",
       "      <td>0</td>\n",
       "      <td>0.76</td>\n",
       "      <td>0.10</td>\n",
       "    </tr>\n",
       "    <tr>\n",
       "      <th>15313</th>\n",
       "      <td>1</td>\n",
       "      <td>9278000</td>\n",
       "      <td>139.80</td>\n",
       "      <td>2014-12-28</td>\n",
       "      <td>4</td>\n",
       "      <td>2.80</td>\n",
       "      <td>5</td>\n",
       "      <td>NaN</td>\n",
       "      <td>4</td>\n",
       "      <td>False</td>\n",
       "      <td>...</td>\n",
       "      <td>2.80</td>\n",
       "      <td>18.47</td>\n",
       "      <td>121.33</td>\n",
       "      <td>66366.24</td>\n",
       "      <td>6</td>\n",
       "      <td>12</td>\n",
       "      <td>2014</td>\n",
       "      <td>99</td>\n",
       "      <td>NaN</td>\n",
       "      <td>NaN</td>\n",
       "    </tr>\n",
       "    <tr>\n",
       "      <th>19123</th>\n",
       "      <td>9</td>\n",
       "      <td>5990000</td>\n",
       "      <td>82.00</td>\n",
       "      <td>2015-02-19</td>\n",
       "      <td>3</td>\n",
       "      <td>3.00</td>\n",
       "      <td>4</td>\n",
       "      <td>60.00</td>\n",
       "      <td>2</td>\n",
       "      <td>False</td>\n",
       "      <td>...</td>\n",
       "      <td>3.00</td>\n",
       "      <td>8.00</td>\n",
       "      <td>60.00</td>\n",
       "      <td>73048.78</td>\n",
       "      <td>3</td>\n",
       "      <td>2</td>\n",
       "      <td>2015</td>\n",
       "      <td>99</td>\n",
       "      <td>0.73</td>\n",
       "      <td>0.10</td>\n",
       "    </tr>\n",
       "    <tr>\n",
       "      <th>11955</th>\n",
       "      <td>4</td>\n",
       "      <td>11400000</td>\n",
       "      <td>76.00</td>\n",
       "      <td>2014-12-09</td>\n",
       "      <td>2</td>\n",
       "      <td>NaN</td>\n",
       "      <td>9</td>\n",
       "      <td>36.00</td>\n",
       "      <td>3</td>\n",
       "      <td>False</td>\n",
       "      <td>...</td>\n",
       "      <td>2.60</td>\n",
       "      <td>14.00</td>\n",
       "      <td>36.00</td>\n",
       "      <td>150000.00</td>\n",
       "      <td>1</td>\n",
       "      <td>12</td>\n",
       "      <td>2014</td>\n",
       "      <td>99</td>\n",
       "      <td>0.47</td>\n",
       "      <td>0.18</td>\n",
       "    </tr>\n",
       "  </tbody>\n",
       "</table>\n",
       "<p>10 rows × 32 columns</p>\n",
       "</div>"
      ],
      "text/plain": [
       "       total_images  last_price  total_area first_day_exposition  rooms  \\\n",
       "18843            11     3500000       48.20           2014-12-15      2   \n",
       "1109              1    34878556       95.80           2014-12-09      2   \n",
       "9553             11    10600000       80.00           2014-12-09      3   \n",
       "1885              2    13300000       79.60           2014-12-09      2   \n",
       "6691              3     4400000       42.98           2014-12-12      1   \n",
       "20969            18    13300000      133.00           2015-02-11      4   \n",
       "14093             7     9500000      100.00           2015-02-19      4   \n",
       "15313             1     9278000      139.80           2014-12-28      4   \n",
       "19123             9     5990000       82.00           2015-02-19      3   \n",
       "11955             4    11400000       76.00           2014-12-09      2   \n",
       "\n",
       "       ceiling_height  floors_total  living_area  floor  is_apartment  ...  \\\n",
       "18843            2.50             5        27.40      2         False  ...   \n",
       "1109              NaN             6        58.30      5          True  ...   \n",
       "9553             2.85            17        44.00      9         False  ...   \n",
       "1885             3.00             8        42.70      7         False  ...   \n",
       "6691              NaN             5        18.72      1         False  ...   \n",
       "20969            3.00             5        58.00      2         False  ...   \n",
       "14093            3.00             5        76.00      5         False  ...   \n",
       "15313            2.80             5          NaN      4         False  ...   \n",
       "19123            3.00             4        60.00      2         False  ...   \n",
       "11955             NaN             9        36.00      3         False  ...   \n",
       "\n",
       "       ceiling_height_corrected  kitchen_area_corrected  \\\n",
       "18843                      2.50                    7.70   \n",
       "1109                       3.12                   20.00   \n",
       "9553                       2.85                   15.00   \n",
       "1885                       3.00                   18.00   \n",
       "6691                       2.79                   11.31   \n",
       "20969                      3.00                   45.00   \n",
       "14093                      3.00                   10.00   \n",
       "15313                      2.80                   18.47   \n",
       "19123                      3.00                    8.00   \n",
       "11955                      2.60                   14.00   \n",
       "\n",
       "       living_area_corrected  price_m_sq day_week_exposition  \\\n",
       "18843                  27.40    72614.11                   0   \n",
       "1109                   58.30   364076.78                   1   \n",
       "9553                   44.00   132500.00                   1   \n",
       "1885                   42.70   167085.43                   1   \n",
       "6691                   18.72   102373.20                   4   \n",
       "20969                  58.00   100000.00                   2   \n",
       "14093                  76.00    95000.00                   3   \n",
       "15313                 121.33    66366.24                   6   \n",
       "19123                  60.00    73048.78                   3   \n",
       "11955                  36.00   150000.00                   1   \n",
       "\n",
       "       month_exposition  year_exposition  floors_first_or_last  \\\n",
       "18843                12             2014                    99   \n",
       "1109                 12             2014                    99   \n",
       "9553                 12             2014                    99   \n",
       "1885                 12             2014                    99   \n",
       "6691                 12             2014                     1   \n",
       "20969                 2             2015                    99   \n",
       "14093                 2             2015                     0   \n",
       "15313                12             2014                    99   \n",
       "19123                 2             2015                    99   \n",
       "11955                12             2014                    99   \n",
       "\n",
       "       living_to_total_area  kitchen_to_total_area  \n",
       "18843                  0.57                   0.16  \n",
       "1109                   0.61                   0.21  \n",
       "9553                   0.55                   0.19  \n",
       "1885                   0.54                   0.23  \n",
       "6691                   0.44                   0.26  \n",
       "20969                  0.44                   0.34  \n",
       "14093                  0.76                   0.10  \n",
       "15313                   NaN                    NaN  \n",
       "19123                  0.73                   0.10  \n",
       "11955                  0.47                   0.18  \n",
       "\n",
       "[10 rows x 32 columns]"
      ]
     },
     "execution_count": 28,
     "metadata": {},
     "output_type": "execute_result"
    }
   ],
   "source": [
    "df.sort_values('days_exposition', ascending=False).head(10)"
   ]
  },
  {
   "cell_type": "code",
   "execution_count": 29,
   "metadata": {},
   "outputs": [
    {
     "name": "stdout",
     "output_type": "stream",
     "text": [
      "0.041328773815339524\n",
      "0.08661455788959453\n",
      "0.14904738641914997\n",
      "0.07244748412310699\n"
     ]
    }
   ],
   "source": [
    "print(df.query('days_exposition < 8')['days_exposition'].count()/df['days_exposition'].count())\n",
    "print(df.query('days_exposition < 15')['days_exposition'].count()/df['days_exposition'].count())\n",
    "print(df.query('days_exposition > 365')['days_exposition'].count()/df['days_exposition'].count())\n",
    "print(df.query('days_exposition > 547')['days_exposition'].count()/df['days_exposition'].count())"
   ]
  },
  {
   "cell_type": "markdown",
   "metadata": {},
   "source": [
    "Продажа осуществляется в половине случаев меньше, чем за 95 дней (медиана). Среднее арифметическое гораздо больше - 180 дней, вероятно, из-за необычайно больших выбросов, таких как 1580 дней (максимум).\n",
    "\n",
    "На последней гистограмме мы видим невероятный пик продаж на 45 днях (это и первый квартиль, 25% квартир продали за 45 дней или меньше). Также довольно необычно много продаж в первую неделю - 848 (3.6% от продаж) . Заметим также, что за 2 недели были проданы 7.5% квартир. Будем считать сверхбыстрыми продажи за неделю и меньше.\n",
    "\n",
    "Продаж, занимающих более года, сравнительно много, 13%, а полтора года - 6.3% (1486 сделок). Будем считать продажи более полутора лет - сверхмедленными."
   ]
  },
  {
   "cell_type": "markdown",
   "metadata": {},
   "source": [
    "### Уберите редкие и выбивающиеся значения. Опишите, какие особенности обнаружили."
   ]
  },
  {
   "cell_type": "code",
   "execution_count": 30,
   "metadata": {},
   "outputs": [
    {
     "data": {
      "text/plain": [
       "<AxesSubplot:>"
      ]
     },
     "execution_count": 30,
     "metadata": {},
     "output_type": "execute_result"
    },
    {
     "data": {
      "image/png": "[encoded data removed]",
      "text/plain": [
       "<Figure size 432x288 with 1 Axes>"
      ]
     },
     "metadata": {
      "needs_background": "light"
     },
     "output_type": "display_data"
    }
   ],
   "source": [
    "# уберем сверхбыстрые и сверхмедленные продажи\n",
    "df = df.query(' 8 <= days_exposition <= 547') #.copy()\n",
    "df['days_exposition'].hist(bins=50)"
   ]
  },
  {
   "cell_type": "code",
   "execution_count": 31,
   "metadata": {},
   "outputs": [
    {
     "data": {
      "text/html": [
       "<div>\n",
       "<style scoped>\n",
       "    .dataframe tbody tr th:only-of-type {\n",
       "        vertical-align: middle;\n",
       "    }\n",
       "\n",
       "    .dataframe tbody tr th {\n",
       "        vertical-align: top;\n",
       "    }\n",
       "\n",
       "    .dataframe thead th {\n",
       "        text-align: right;\n",
       "    }\n",
       "</style>\n",
       "<table border=\"1\" class=\"dataframe\">\n",
       "  <thead>\n",
       "    <tr style=\"text-align: right;\">\n",
       "      <th></th>\n",
       "      <th>days_exposition</th>\n",
       "    </tr>\n",
       "  </thead>\n",
       "  <tbody>\n",
       "    <tr>\n",
       "      <th>count</th>\n",
       "      <td>18141.00</td>\n",
       "    </tr>\n",
       "    <tr>\n",
       "      <th>mean</th>\n",
       "      <td>138.37</td>\n",
       "    </tr>\n",
       "    <tr>\n",
       "      <th>std</th>\n",
       "      <td>126.86</td>\n",
       "    </tr>\n",
       "    <tr>\n",
       "      <th>min</th>\n",
       "      <td>8.00</td>\n",
       "    </tr>\n",
       "    <tr>\n",
       "      <th>25%</th>\n",
       "      <td>45.00</td>\n",
       "    </tr>\n",
       "    <tr>\n",
       "      <th>50%</th>\n",
       "      <td>90.00</td>\n",
       "    </tr>\n",
       "    <tr>\n",
       "      <th>75%</th>\n",
       "      <td>194.00</td>\n",
       "    </tr>\n",
       "    <tr>\n",
       "      <th>max</th>\n",
       "      <td>547.00</td>\n",
       "    </tr>\n",
       "  </tbody>\n",
       "</table>\n",
       "</div>"
      ],
      "text/plain": [
       "       days_exposition\n",
       "count         18141.00\n",
       "mean            138.37\n",
       "std             126.86\n",
       "min               8.00\n",
       "25%              45.00\n",
       "50%              90.00\n",
       "75%             194.00\n",
       "max             547.00"
      ]
     },
     "execution_count": 31,
     "metadata": {},
     "output_type": "execute_result"
    }
   ],
   "source": [
    "df[['days_exposition']].describe()"
   ]
  },
  {
   "cell_type": "markdown",
   "metadata": {},
   "source": [
    "Уберем слишком быстрые продажи, т.е. те, что осуществились за  неделю и меньше, и слишком медленые продажи, - те, что осуществились более чем за полтора года.\n",
    "После удаления заметим, что медиана оказалась довольной устойчивой, практически не изменившись (было 95 дней, стало 91), а вот среднее, изменилось довольно сильно - со 181 дня - на 139. "
   ]
  },
  {
   "cell_type": "markdown",
   "metadata": {},
   "source": [
    "### Какие факторы больше всего влияют на стоимость квартиры? Изучите, зависит ли цена от площади, числа комнат, удалённости от центра. Изучите зависимость цены от того, на каком этаже расположена квартира: первом, последнем или другом. Также изучите зависимость от даты размещения: дня недели, месяца и года."
   ]
  },
  {
   "cell_type": "code",
   "execution_count": 32,
   "metadata": {},
   "outputs": [
    {
     "name": "stdout",
     "output_type": "stream",
     "text": [
      "last price and total_area correlation is: 0.63\n",
      "last price and rooms correlation is: 0.34\n",
      "last price and cityCenters_nearest correlation is: -0.19\n"
     ]
    }
   ],
   "source": [
    "# напишем функцию для подсчета корреляции цены с другими факторами и применим ее к факторам в задании\n",
    "def price_corr(factor):\n",
    "    return df['last_price'].corr(df[factor])\n",
    "\n",
    "for factor in ['total_area', 'rooms', 'cityCenters_nearest']:\n",
    "    print('last price and {} correlation is: {:.2f}'.format(factor, price_corr(factor)))"
   ]
  },
  {
   "cell_type": "code",
   "execution_count": 33,
   "metadata": {},
   "outputs": [
    {
     "name": "stdout",
     "output_type": "stream",
     "text": [
      "last price and floors_first correlation is -0.06\n",
      "last price and floors_last correlation is -0.03\n",
      "last price and floors_first_or_last_dummy correlation is -0.02\n"
     ]
    }
   ],
   "source": [
    "# df['last_price'].corr(df['floors_first_or_last']) \n",
    "# этаж квартиры; варианты — первый (1), последний (0), другой (99)\n",
    "# считать так корреляцию будет некорректно, т.к. это не шкала\n",
    "\n",
    "df['floors_first']=df['floors_first_or_last'] # создадим столбцы dummy и посчитаем корреляцию по отдельности .\n",
    "df.loc[df['floors_first'] == 99, 'floors_first'] = 0 # первый этаж (1), остальные (0)\n",
    "\n",
    "df['floors_last']=df['floors_first_or_last']\n",
    "df.loc[df['floors_last'] == 99, 'floors_last'] = 1 # последний этаж (0), остальные (1)\n",
    "\n",
    "df['floors_first_or_last_dummy']=df['floors_first_or_last'] \n",
    "df.loc[df['floors_first_or_last_dummy'] == 0, 'floors_first_or_last_dummy'] = 1 # первый или последний этаж (1)\n",
    "df.loc[df['floors_first_or_last_dummy'] == 99, 'floors_first_or_last_dummy'] = 0 # другие этажи (0)\n",
    "\n",
    "for factor in ['floors_first', 'floors_last','floors_first_or_last_dummy']:\n",
    "    print('last price and {} correlation is {:.2f}'.format(factor, price_corr(factor)))\n"
   ]
  },
  {
   "cell_type": "code",
   "execution_count": 34,
   "metadata": {},
   "outputs": [
    {
     "name": "stdout",
     "output_type": "stream",
     "text": [
      "last price and day_week_exposition correlation is 0.01\n",
      "last price and month_exposition correlation is 0.00\n",
      "last price and year_exposition correlation is -0.04\n"
     ]
    }
   ],
   "source": [
    "for factor in ['day_week_exposition', 'month_exposition','year_exposition']:\n",
    "    print('last price and {} correlation is {:.2f}'.format(factor, price_corr(factor)))"
   ]
  },
  {
   "cell_type": "code",
   "execution_count": 35,
   "metadata": {},
   "outputs": [],
   "source": [
    "## вывод нескольких графиков и корреляций одновременно - не кажется полезным, и, в данном случае, скрыт\n",
    "#factors=df[['last_price','total_area','rooms','cityCenters_nearest','floors_first_or_last_dummy']]\n",
    "#print(factors.corr())\n",
    "#pd.plotting.scatter_matrix(factors, figsize=(10, 10))\n",
    "#plt.show()"
   ]
  },
  {
   "cell_type": "markdown",
   "metadata": {},
   "source": [
    "Значимая корреляция наблюдается между ценой и площадью (0.63), ценой и количеством комнат (0.34). Т.е. чем больше площадь, тем выше цена и чем больше комнат, тем выше цена, что довольно логично.\n",
    "Обратная корреляция -0.19 наблюдается между ценой и удаленностью от центра - чем удаленнее от центра - тем ниже цена.\n",
    "\n",
    "В остальных случаях, корреляция близка к нулю и на основании данных о корреляции мы не можем утверждать о связи между ценой квартиры и ее первоэтажностью или последне-этажностью, ни о связи с днем, месяцем или годом публикации. Отсутствие корреляции не означает точного отсутсвия связи, но данном этапе она не прослеживается."
   ]
  },
  {
   "cell_type": "markdown",
   "metadata": {},
   "source": [
    "### Выберите 10 населённых пунктов с наибольшим числом объявлений. Посчитайте среднюю цену квадратного метра в этих населённых пунктах. Выделите среди них населённые пункты с самой высокой и низкой стоимостью жилья. Эти данные можно найти по имени в столбце 'locality_name'."
   ]
  },
  {
   "cell_type": "code",
   "execution_count": 36,
   "metadata": {},
   "outputs": [
    {
     "data": {
      "text/plain": [
       "Санкт-Петербург    12007\n",
       "Мурино               496\n",
       "Кудрово              394\n",
       "Шушары               379\n",
       "Всеволожск           299\n",
       "Колпино              280\n",
       "Парголово            273\n",
       "Пушкин               266\n",
       "Гатчина              234\n",
       "Выборг               188\n",
       "Name: locality_name, dtype: int64"
      ]
     },
     "execution_count": 36,
     "metadata": {},
     "output_type": "execute_result"
    }
   ],
   "source": [
    "top10=df['locality_name'].value_counts().sort_values(ascending=False).head(10)\n",
    "top10 #10 населённых пунктов с наибольшим числом объявлений"
   ]
  },
  {
   "cell_type": "code",
   "execution_count": 37,
   "metadata": {},
   "outputs": [
    {
     "data": {
      "text/html": [
       "<div>\n",
       "<style scoped>\n",
       "    .dataframe tbody tr th:only-of-type {\n",
       "        vertical-align: middle;\n",
       "    }\n",
       "\n",
       "    .dataframe tbody tr th {\n",
       "        vertical-align: top;\n",
       "    }\n",
       "\n",
       "    .dataframe thead th {\n",
       "        text-align: right;\n",
       "    }\n",
       "</style>\n",
       "<table border=\"1\" class=\"dataframe\">\n",
       "  <thead>\n",
       "    <tr style=\"text-align: right;\">\n",
       "      <th></th>\n",
       "      <th>price_m_sq</th>\n",
       "    </tr>\n",
       "    <tr>\n",
       "      <th>locality_name</th>\n",
       "      <th></th>\n",
       "    </tr>\n",
       "  </thead>\n",
       "  <tbody>\n",
       "    <tr>\n",
       "      <th>Санкт-Петербург</th>\n",
       "      <td>111926.60</td>\n",
       "    </tr>\n",
       "    <tr>\n",
       "      <th>Пушкин</th>\n",
       "      <td>101203.98</td>\n",
       "    </tr>\n",
       "    <tr>\n",
       "      <th>Кудрово</th>\n",
       "      <td>94554.13</td>\n",
       "    </tr>\n",
       "    <tr>\n",
       "      <th>Парголово</th>\n",
       "      <td>88672.09</td>\n",
       "    </tr>\n",
       "    <tr>\n",
       "      <th>Мурино</th>\n",
       "      <td>85939.98</td>\n",
       "    </tr>\n",
       "    <tr>\n",
       "      <th>Шушары</th>\n",
       "      <td>78052.20</td>\n",
       "    </tr>\n",
       "    <tr>\n",
       "      <th>Колпино</th>\n",
       "      <td>74628.60</td>\n",
       "    </tr>\n",
       "    <tr>\n",
       "      <th>Всеволожск</th>\n",
       "      <td>68845.93</td>\n",
       "    </tr>\n",
       "    <tr>\n",
       "      <th>Гатчина</th>\n",
       "      <td>67997.39</td>\n",
       "    </tr>\n",
       "    <tr>\n",
       "      <th>Выборг</th>\n",
       "      <td>57059.38</td>\n",
       "    </tr>\n",
       "  </tbody>\n",
       "</table>\n",
       "</div>"
      ],
      "text/plain": [
       "                 price_m_sq\n",
       "locality_name              \n",
       "Санкт-Петербург   111926.60\n",
       "Пушкин            101203.98\n",
       "Кудрово            94554.13\n",
       "Парголово          88672.09\n",
       "Мурино             85939.98\n",
       "Шушары             78052.20\n",
       "Колпино            74628.60\n",
       "Всеволожск         68845.93\n",
       "Гатчина            67997.39\n",
       "Выборг             57059.38"
      ]
     },
     "execution_count": 37,
     "metadata": {},
     "output_type": "execute_result"
    }
   ],
   "source": [
    "locality_price_m_sq=df.pivot_table(index='locality_name', values='price_m_sq') \n",
    "#общая таблица средней цены квадратного метра по населенному пункту \n",
    "\n",
    "locality_price_m_sq_top10 = locality_price_m_sq.query('locality_name in @top10.index')\n",
    "locality_price_m_sq_top10.sort_values(by= 'price_m_sq', ascending=False)\n",
    "#отсортированная по убыванию средняя цена квадратного метра в 10 населённых пунктах с наибольшим числом объявлений"
   ]
  },
  {
   "cell_type": "markdown",
   "metadata": {},
   "source": [
    "Самая высокая средняя цена квадратного метра из 10 населённых пунктах с наибольшим числом объявлений - в Санкт-Петербурге и Пушкино. Самая низкая - в Выборге и Гатчине."
   ]
  },
  {
   "cell_type": "markdown",
   "metadata": {},
   "source": [
    "### Изучите предложения квартир: для каждой квартиры есть информация о расстоянии до центра. Выделите квартиры в Санкт-Петербурге ('locality_name'). Ваша задача — выяснить, какая область входит в центр. Создайте столбец с расстоянием до центра в километрах: округлите до целых значений. После этого посчитайте среднюю цену для каждого километра. Постройте график: он должен показывать, как цена зависит от удалённости от центра. Определите границу, где график сильно меняется — это и будет центральная зона."
   ]
  },
  {
   "cell_type": "code",
   "execution_count": 38,
   "metadata": {},
   "outputs": [
    {
     "data": {
      "text/html": [
       "<div>\n",
       "<style scoped>\n",
       "    .dataframe tbody tr th:only-of-type {\n",
       "        vertical-align: middle;\n",
       "    }\n",
       "\n",
       "    .dataframe tbody tr th {\n",
       "        vertical-align: top;\n",
       "    }\n",
       "\n",
       "    .dataframe thead th {\n",
       "        text-align: right;\n",
       "    }\n",
       "</style>\n",
       "<table border=\"1\" class=\"dataframe\">\n",
       "  <thead>\n",
       "    <tr style=\"text-align: right;\">\n",
       "      <th></th>\n",
       "      <th>cityCenters_nearest</th>\n",
       "    </tr>\n",
       "  </thead>\n",
       "  <tbody>\n",
       "    <tr>\n",
       "      <th>count</th>\n",
       "      <td>13975.00</td>\n",
       "    </tr>\n",
       "    <tr>\n",
       "      <th>mean</th>\n",
       "      <td>14462.06</td>\n",
       "    </tr>\n",
       "    <tr>\n",
       "      <th>std</th>\n",
       "      <td>8508.27</td>\n",
       "    </tr>\n",
       "    <tr>\n",
       "      <th>min</th>\n",
       "      <td>208.00</td>\n",
       "    </tr>\n",
       "    <tr>\n",
       "      <th>25%</th>\n",
       "      <td>9751.50</td>\n",
       "    </tr>\n",
       "    <tr>\n",
       "      <th>50%</th>\n",
       "      <td>13271.00</td>\n",
       "    </tr>\n",
       "    <tr>\n",
       "      <th>75%</th>\n",
       "      <td>16465.00</td>\n",
       "    </tr>\n",
       "    <tr>\n",
       "      <th>max</th>\n",
       "      <td>64857.00</td>\n",
       "    </tr>\n",
       "  </tbody>\n",
       "</table>\n",
       "</div>"
      ],
      "text/plain": [
       "       cityCenters_nearest\n",
       "count             13975.00\n",
       "mean              14462.06\n",
       "std                8508.27\n",
       "min                 208.00\n",
       "25%                9751.50\n",
       "50%               13271.00\n",
       "75%               16465.00\n",
       "max               64857.00"
      ]
     },
     "execution_count": 38,
     "metadata": {},
     "output_type": "execute_result"
    }
   ],
   "source": [
    "# Изучите предложения квартир: для каждой квартиры есть информация о расстоянии до центра.\n",
    "df[['cityCenters_nearest']].describe() "
   ]
  },
  {
   "cell_type": "code",
   "execution_count": 39,
   "metadata": {},
   "outputs": [
    {
     "data": {
      "text/plain": [
       "<AxesSubplot:xlabel='cityCenters_nearest_km'>"
      ]
     },
     "execution_count": 39,
     "metadata": {},
     "output_type": "execute_result"
    },
    {
     "data": {
      "image/png": "[encoded data removed]",
      "text/plain": [
       "<Figure size 432x288 with 1 Axes>"
      ]
     },
     "metadata": {
      "needs_background": "light"
     },
     "output_type": "display_data"
    }
   ],
   "source": [
    "#Создайте столбец с расстоянием до центра в километрах: округлите до целых значений. \n",
    "df['cityCenters_nearest_km']=(df['cityCenters_nearest']/1000).round() \n",
    "# Выделите квартиры в Санкт-Петербурге\n",
    "df_spb=df.query('locality_name==\"Санкт-Петербург\"')\n",
    "# После этого посчитайте среднюю цену для каждого километра\n",
    "price_by_cityCenters_nearest_km_spb=df_spb.pivot_table(index='cityCenters_nearest_km', values='last_price', aggfunc=['median']) \n",
    "# такое же решение методом groupby\n",
    "#price_by_cityCenters_nearest_km_spb=df_spb.groupby('cityCenters_nearest_km')['last_price'].median()\n",
    "\n",
    "# Постройте график: он должен показывать, как цена зависит от удалённости от центра.\n",
    "price_by_cityCenters_nearest_km_spb.plot(grid=True)"
   ]
  },
  {
   "cell_type": "markdown",
   "metadata": {},
   "source": [
    "Судя по графику зависимости цены на квартиру в СпБ в зависимости от удаленности в километрах, взятой по медиане, резкий спад начинается после 5 км, поэтому будем считать самый центр города в радиусе 5 км. Заметим, что падение идет до 10 км, после которых цена выравнивается, и почти стабильно держится в районе между 10 и 20 км, после чего падает до 25 км, где возникает резкий скачок вверх на 27 км. Возможно, есть какое-то элитное и дорогое место в какой-то точке на радиусе 27 км, которое так повлияло на цены. Проверим."
   ]
  },
  {
   "cell_type": "code",
   "execution_count": 40,
   "metadata": {},
   "outputs": [
    {
     "data": {
      "text/html": [
       "<div>\n",
       "<style scoped>\n",
       "    .dataframe tbody tr th:only-of-type {\n",
       "        vertical-align: middle;\n",
       "    }\n",
       "\n",
       "    .dataframe tbody tr th {\n",
       "        vertical-align: top;\n",
       "    }\n",
       "\n",
       "    .dataframe thead th {\n",
       "        text-align: right;\n",
       "    }\n",
       "</style>\n",
       "<table border=\"1\" class=\"dataframe\">\n",
       "  <thead>\n",
       "    <tr style=\"text-align: right;\">\n",
       "      <th></th>\n",
       "      <th>total_images</th>\n",
       "      <th>last_price</th>\n",
       "      <th>total_area</th>\n",
       "      <th>first_day_exposition</th>\n",
       "      <th>rooms</th>\n",
       "      <th>ceiling_height</th>\n",
       "      <th>floors_total</th>\n",
       "      <th>living_area</th>\n",
       "      <th>floor</th>\n",
       "      <th>is_apartment</th>\n",
       "      <th>...</th>\n",
       "      <th>day_week_exposition</th>\n",
       "      <th>month_exposition</th>\n",
       "      <th>year_exposition</th>\n",
       "      <th>floors_first_or_last</th>\n",
       "      <th>living_to_total_area</th>\n",
       "      <th>kitchen_to_total_area</th>\n",
       "      <th>floors_first</th>\n",
       "      <th>floors_last</th>\n",
       "      <th>floors_first_or_last_dummy</th>\n",
       "      <th>cityCenters_nearest_km</th>\n",
       "    </tr>\n",
       "  </thead>\n",
       "  <tbody>\n",
       "    <tr>\n",
       "      <th>748</th>\n",
       "      <td>13</td>\n",
       "      <td>14350000</td>\n",
       "      <td>74.00</td>\n",
       "      <td>2017-11-28</td>\n",
       "      <td>2</td>\n",
       "      <td>3.13</td>\n",
       "      <td>5</td>\n",
       "      <td>30.00</td>\n",
       "      <td>3</td>\n",
       "      <td>False</td>\n",
       "      <td>...</td>\n",
       "      <td>1</td>\n",
       "      <td>11</td>\n",
       "      <td>2017</td>\n",
       "      <td>99</td>\n",
       "      <td>0.41</td>\n",
       "      <td>0.34</td>\n",
       "      <td>0</td>\n",
       "      <td>1</td>\n",
       "      <td>0</td>\n",
       "      <td>27.00</td>\n",
       "    </tr>\n",
       "    <tr>\n",
       "      <th>5961</th>\n",
       "      <td>6</td>\n",
       "      <td>2250000</td>\n",
       "      <td>32.00</td>\n",
       "      <td>2018-02-27</td>\n",
       "      <td>1</td>\n",
       "      <td>NaN</td>\n",
       "      <td>2</td>\n",
       "      <td>16.50</td>\n",
       "      <td>2</td>\n",
       "      <td>False</td>\n",
       "      <td>...</td>\n",
       "      <td>1</td>\n",
       "      <td>2</td>\n",
       "      <td>2018</td>\n",
       "      <td>0</td>\n",
       "      <td>0.52</td>\n",
       "      <td>0.22</td>\n",
       "      <td>0</td>\n",
       "      <td>0</td>\n",
       "      <td>1</td>\n",
       "      <td>27.00</td>\n",
       "    </tr>\n",
       "  </tbody>\n",
       "</table>\n",
       "<p>2 rows × 36 columns</p>\n",
       "</div>"
      ],
      "text/plain": [
       "      total_images  last_price  total_area first_day_exposition  rooms  \\\n",
       "748             13    14350000       74.00           2017-11-28      2   \n",
       "5961             6     2250000       32.00           2018-02-27      1   \n",
       "\n",
       "      ceiling_height  floors_total  living_area  floor  is_apartment  ...  \\\n",
       "748             3.13             5        30.00      3         False  ...   \n",
       "5961             NaN             2        16.50      2         False  ...   \n",
       "\n",
       "      day_week_exposition  month_exposition  year_exposition  \\\n",
       "748                     1                11             2017   \n",
       "5961                    1                 2             2018   \n",
       "\n",
       "      floors_first_or_last living_to_total_area  kitchen_to_total_area  \\\n",
       "748                     99                 0.41                   0.34   \n",
       "5961                     0                 0.52                   0.22   \n",
       "\n",
       "      floors_first  floors_last  floors_first_or_last_dummy  \\\n",
       "748              0            1                           0   \n",
       "5961             0            0                           1   \n",
       "\n",
       "      cityCenters_nearest_km  \n",
       "748                    27.00  \n",
       "5961                   27.00  \n",
       "\n",
       "[2 rows x 36 columns]"
      ]
     },
     "execution_count": 40,
     "metadata": {},
     "output_type": "execute_result"
    }
   ],
   "source": [
    "df.query('locality_name==\"Санкт-Петербург\" and cityCenters_nearest_km ==27')"
   ]
  },
  {
   "cell_type": "code",
   "execution_count": 41,
   "metadata": {},
   "outputs": [
    {
     "data": {
      "text/html": [
       "<div>\n",
       "<style scoped>\n",
       "    .dataframe tbody tr th:only-of-type {\n",
       "        vertical-align: middle;\n",
       "    }\n",
       "\n",
       "    .dataframe tbody tr th {\n",
       "        vertical-align: top;\n",
       "    }\n",
       "\n",
       "    .dataframe thead th {\n",
       "        text-align: right;\n",
       "    }\n",
       "</style>\n",
       "<table border=\"1\" class=\"dataframe\">\n",
       "  <thead>\n",
       "    <tr style=\"text-align: right;\">\n",
       "      <th></th>\n",
       "      <th>last_price</th>\n",
       "    </tr>\n",
       "  </thead>\n",
       "  <tbody>\n",
       "    <tr>\n",
       "      <th>count</th>\n",
       "      <td>12007.00</td>\n",
       "    </tr>\n",
       "    <tr>\n",
       "      <th>mean</th>\n",
       "      <td>7508215.70</td>\n",
       "    </tr>\n",
       "    <tr>\n",
       "      <th>std</th>\n",
       "      <td>13175052.88</td>\n",
       "    </tr>\n",
       "    <tr>\n",
       "      <th>min</th>\n",
       "      <td>12190.00</td>\n",
       "    </tr>\n",
       "    <tr>\n",
       "      <th>25%</th>\n",
       "      <td>4100000.00</td>\n",
       "    </tr>\n",
       "    <tr>\n",
       "      <th>50%</th>\n",
       "      <td>5265000.00</td>\n",
       "    </tr>\n",
       "    <tr>\n",
       "      <th>75%</th>\n",
       "      <td>7500000.00</td>\n",
       "    </tr>\n",
       "    <tr>\n",
       "      <th>max</th>\n",
       "      <td>763000000.00</td>\n",
       "    </tr>\n",
       "  </tbody>\n",
       "</table>\n",
       "</div>"
      ],
      "text/plain": [
       "        last_price\n",
       "count     12007.00\n",
       "mean    7508215.70\n",
       "std    13175052.88\n",
       "min       12190.00\n",
       "25%     4100000.00\n",
       "50%     5265000.00\n",
       "75%     7500000.00\n",
       "max   763000000.00"
      ]
     },
     "execution_count": 41,
     "metadata": {},
     "output_type": "execute_result"
    }
   ],
   "source": [
    "df.query('locality_name==\"Санкт-Петербург\"')[['last_price']].describe() "
   ]
  },
  {
   "cell_type": "code",
   "execution_count": 42,
   "metadata": {},
   "outputs": [
    {
     "data": {
      "text/plain": [
       "0.06437911218455901"
      ]
     },
     "execution_count": 42,
     "metadata": {},
     "output_type": "execute_result"
    }
   ],
   "source": [
    "df.query('locality_name==\"Санкт-Петербург\" and last_price >= 14350000')['last_price'].count()/df.query(\n",
    "    'locality_name==\"Санкт-Петербург\"')['last_price'].count()"
   ]
  },
  {
   "cell_type": "markdown",
   "metadata": {},
   "source": [
    "Оказалось, что квартир с удаленностью 27 км от центра всехо две и одна из них стоит 14,35 млн, что можно было бы считать выбросом (квартир с такой стоимостью и более в СпБ 6.4%. Поэтому отклоним гипотезу элитной локации."
   ]
  },
  {
   "cell_type": "markdown",
   "metadata": {},
   "source": [
    "### Выделите сегмент квартир в центре. Проанализируйте эту территорию и изучите следующие параметры: площадь, цена, число комнат, высота потолков. Также выделите факторы, которые влияют на стоимость квартиры (число комнат, этаж, удалённость от центра, дата размещения объявления). Сделайте выводы. Отличаются ли они от общих выводов по всему городу?"
   ]
  },
  {
   "cell_type": "code",
   "execution_count": 43,
   "metadata": {},
   "outputs": [],
   "source": [
    "# будем работать со срезом по данным Санкт-Петербургу, т.к. в задании речь идет о центре города и всему городу\n",
    "df_spb_center=df_spb.query('cityCenters_nearest_km <= 5') # сегмент квартир в центре"
   ]
  },
  {
   "cell_type": "code",
   "execution_count": 44,
   "metadata": {},
   "outputs": [
    {
     "data": {
      "text/html": [
       "<div>\n",
       "<style scoped>\n",
       "    .dataframe tbody tr th:only-of-type {\n",
       "        vertical-align: middle;\n",
       "    }\n",
       "\n",
       "    .dataframe tbody tr th {\n",
       "        vertical-align: top;\n",
       "    }\n",
       "\n",
       "    .dataframe thead th {\n",
       "        text-align: right;\n",
       "    }\n",
       "</style>\n",
       "<table border=\"1\" class=\"dataframe\">\n",
       "  <thead>\n",
       "    <tr style=\"text-align: right;\">\n",
       "      <th></th>\n",
       "      <th>total_area_center</th>\n",
       "      <th>last_price_center</th>\n",
       "      <th>rooms_center</th>\n",
       "      <th>ceiling_height_center</th>\n",
       "      <th>total_area_city</th>\n",
       "      <th>last_price_city</th>\n",
       "      <th>rooms_city</th>\n",
       "      <th>ceiling_height_city</th>\n",
       "    </tr>\n",
       "  </thead>\n",
       "  <tbody>\n",
       "    <tr>\n",
       "      <th>count</th>\n",
       "      <td>1706.00</td>\n",
       "      <td>1706.00</td>\n",
       "      <td>1706.00</td>\n",
       "      <td>1069.00</td>\n",
       "      <td>12007.00</td>\n",
       "      <td>12007.00</td>\n",
       "      <td>12007.00</td>\n",
       "      <td>7336.00</td>\n",
       "    </tr>\n",
       "    <tr>\n",
       "      <th>mean</th>\n",
       "      <td>92.30</td>\n",
       "      <td>14275287.38</td>\n",
       "      <td>2.89</td>\n",
       "      <td>3.16</td>\n",
       "      <td>61.99</td>\n",
       "      <td>7508215.70</td>\n",
       "      <td>2.10</td>\n",
       "      <td>2.79</td>\n",
       "    </tr>\n",
       "    <tr>\n",
       "      <th>std</th>\n",
       "      <td>56.87</td>\n",
       "      <td>28353535.71</td>\n",
       "      <td>1.46</td>\n",
       "      <td>0.82</td>\n",
       "      <td>37.59</td>\n",
       "      <td>13175052.88</td>\n",
       "      <td>1.10</td>\n",
       "      <td>1.41</td>\n",
       "    </tr>\n",
       "    <tr>\n",
       "      <th>min</th>\n",
       "      <td>12.00</td>\n",
       "      <td>1686000.00</td>\n",
       "      <td>0.00</td>\n",
       "      <td>2.40</td>\n",
       "      <td>12.00</td>\n",
       "      <td>12190.00</td>\n",
       "      <td>0.00</td>\n",
       "      <td>1.00</td>\n",
       "    </tr>\n",
       "    <tr>\n",
       "      <th>25%</th>\n",
       "      <td>58.83</td>\n",
       "      <td>6700000.00</td>\n",
       "      <td>2.00</td>\n",
       "      <td>2.90</td>\n",
       "      <td>41.00</td>\n",
       "      <td>4100000.00</td>\n",
       "      <td>1.00</td>\n",
       "      <td>2.55</td>\n",
       "    </tr>\n",
       "    <tr>\n",
       "      <th>50%</th>\n",
       "      <td>79.20</td>\n",
       "      <td>8970500.00</td>\n",
       "      <td>3.00</td>\n",
       "      <td>3.08</td>\n",
       "      <td>53.00</td>\n",
       "      <td>5265000.00</td>\n",
       "      <td>2.00</td>\n",
       "      <td>2.70</td>\n",
       "    </tr>\n",
       "    <tr>\n",
       "      <th>75%</th>\n",
       "      <td>108.00</td>\n",
       "      <td>13387750.00</td>\n",
       "      <td>4.00</td>\n",
       "      <td>3.30</td>\n",
       "      <td>71.00</td>\n",
       "      <td>7500000.00</td>\n",
       "      <td>3.00</td>\n",
       "      <td>2.80</td>\n",
       "    </tr>\n",
       "    <tr>\n",
       "      <th>max</th>\n",
       "      <td>618.00</td>\n",
       "      <td>763000000.00</td>\n",
       "      <td>19.00</td>\n",
       "      <td>27.00</td>\n",
       "      <td>900.00</td>\n",
       "      <td>763000000.00</td>\n",
       "      <td>19.00</td>\n",
       "      <td>100.00</td>\n",
       "    </tr>\n",
       "  </tbody>\n",
       "</table>\n",
       "</div>"
      ],
      "text/plain": [
       "       total_area_center  last_price_center  rooms_center  \\\n",
       "count            1706.00            1706.00       1706.00   \n",
       "mean               92.30        14275287.38          2.89   \n",
       "std                56.87        28353535.71          1.46   \n",
       "min                12.00         1686000.00          0.00   \n",
       "25%                58.83         6700000.00          2.00   \n",
       "50%                79.20         8970500.00          3.00   \n",
       "75%               108.00        13387750.00          4.00   \n",
       "max               618.00       763000000.00         19.00   \n",
       "\n",
       "       ceiling_height_center  total_area_city  last_price_city  rooms_city  \\\n",
       "count                1069.00         12007.00         12007.00    12007.00   \n",
       "mean                    3.16            61.99       7508215.70        2.10   \n",
       "std                     0.82            37.59      13175052.88        1.10   \n",
       "min                     2.40            12.00         12190.00        0.00   \n",
       "25%                     2.90            41.00       4100000.00        1.00   \n",
       "50%                     3.08            53.00       5265000.00        2.00   \n",
       "75%                     3.30            71.00       7500000.00        3.00   \n",
       "max                    27.00           900.00     763000000.00       19.00   \n",
       "\n",
       "       ceiling_height_city  \n",
       "count              7336.00  \n",
       "mean                  2.79  \n",
       "std                   1.41  \n",
       "min                   1.00  \n",
       "25%                   2.55  \n",
       "50%                   2.70  \n",
       "75%                   2.80  \n",
       "max                 100.00  "
      ]
     },
     "execution_count": 44,
     "metadata": {},
     "output_type": "execute_result"
    }
   ],
   "source": [
    "# Проанализируйте эту территорию и изучите следующие параметры: площадь, цена, число комнат, высота потолков. \n",
    "spb_center_describe=df_spb_center[['total_area', 'last_price', 'rooms', 'ceiling_height']].describe()\n",
    "spb_describe=df_spb[['total_area', 'last_price', 'rooms', 'ceiling_height']].describe()\n",
    "\n",
    "# объединим их в одну таблицу и сравним\n",
    "spb_center_describe.join(spb_describe, lsuffix='_center', rsuffix='_city')"
   ]
  },
  {
   "cell_type": "markdown",
   "metadata": {},
   "source": [
    "В центре, квартиры, выставленные на продажу больше по площади, чем квартиры по всему городу. Медиана площади квартир в центре значительно больше, - почти 80 квадратных метров против 53, но и стандартное отклонение тоже больше - в центре больше варьируются размеры квартиры.\n",
    "Квартиры в центре ожидаемо дороже, чем в среднем по городу с медианой почти в 9 млн. против 5.3 млн. Разброс цен в центре, гораздо больше. Количество комнат в продаваемой в центре недвижимости тоже больше, чем по городу, и потолки выше. Медиана комнат в центре - 3 комнаты, а по городу - 2, потолков 3.08 против 2.7.\n",
    "Такая разница может объясняться тем, что в центре в основном находится историческое жилье, построенное раньше, чем в остальной части города. Оно больше по площади, количеству комнат, высоте потолков. "
   ]
  },
  {
   "cell_type": "code",
   "execution_count": 45,
   "metadata": {},
   "outputs": [
    {
     "name": "stdout",
     "output_type": "stream",
     "text": [
      "total_area\n"
     ]
    },
    {
     "data": {
      "image/png": "[encoded data removed]",
      "text/plain": [
       "<Figure size 432x288 with 1 Axes>"
      ]
     },
     "metadata": {
      "needs_background": "light"
     },
     "output_type": "display_data"
    },
    {
     "name": "stdout",
     "output_type": "stream",
     "text": [
      "last_price\n"
     ]
    },
    {
     "data": {
      "image/png": "[encoded data removed]",
      "text/plain": [
       "<Figure size 432x288 with 1 Axes>"
      ]
     },
     "metadata": {
      "needs_background": "light"
     },
     "output_type": "display_data"
    },
    {
     "name": "stdout",
     "output_type": "stream",
     "text": [
      "rooms\n"
     ]
    },
    {
     "data": {
      "image/png": "[encoded data removed]",
      "text/plain": [
       "<Figure size 432x288 with 1 Axes>"
      ]
     },
     "metadata": {
      "needs_background": "light"
     },
     "output_type": "display_data"
    },
    {
     "name": "stdout",
     "output_type": "stream",
     "text": [
      "ceiling_height\n"
     ]
    },
    {
     "data": {
      "image/png": "[encoded data removed]",
      "text/plain": [
       "<Figure size 432x288 with 1 Axes>"
      ]
     },
     "metadata": {
      "needs_background": "light"
     },
     "output_type": "display_data"
    }
   ],
   "source": [
    "for parametr in ['total_area', 'last_price', 'rooms', 'ceiling_height']:\n",
    "    print(parametr)\n",
    "    df_spb_center[parametr].hist(bins=100)\n",
    "    plt.show()\n",
    "    "
   ]
  },
  {
   "cell_type": "markdown",
   "metadata": {},
   "source": [
    "Гистограммы квартир в центре по площади, цене, числу комнат и высоте потолков содержат выбросы и в принципе не добавляют новой информации к вышесказанному."
   ]
  },
  {
   "cell_type": "code",
   "execution_count": 46,
   "metadata": {},
   "outputs": [
    {
     "data": {
      "text/html": [
       "<style  type=\"text/css\" >\n",
       "#T_c33cd_row0_col0{\n",
       "            background-color:  #7da0f9;\n",
       "            color:  #000000;\n",
       "        }#T_c33cd_row0_col1{\n",
       "            background-color:  #8fb1fe;\n",
       "            color:  #000000;\n",
       "        }#T_c33cd_row1_col0,#T_c33cd_row1_col1{\n",
       "            background-color:  #b40426;\n",
       "            color:  #f1f1f1;\n",
       "        }#T_c33cd_row2_col0{\n",
       "            background-color:  #f3c8b2;\n",
       "            color:  #000000;\n",
       "        }#T_c33cd_row2_col1{\n",
       "            background-color:  #f7a98b;\n",
       "            color:  #000000;\n",
       "        }#T_c33cd_row3_col0{\n",
       "            background-color:  #afcafc;\n",
       "            color:  #000000;\n",
       "        }#T_c33cd_row3_col1{\n",
       "            background-color:  #d7dce3;\n",
       "            color:  #000000;\n",
       "        }#T_c33cd_row4_col0,#T_c33cd_row5_col1{\n",
       "            background-color:  #6b8df0;\n",
       "            color:  #000000;\n",
       "        }#T_c33cd_row4_col1{\n",
       "            background-color:  #8caffe;\n",
       "            color:  #000000;\n",
       "        }#T_c33cd_row5_col0,#T_c33cd_row30_col1{\n",
       "            background-color:  #6a8bef;\n",
       "            color:  #000000;\n",
       "        }#T_c33cd_row6_col0{\n",
       "            background-color:  #e4d9d2;\n",
       "            color:  #000000;\n",
       "        }#T_c33cd_row6_col1{\n",
       "            background-color:  #f5c0a7;\n",
       "            color:  #000000;\n",
       "        }#T_c33cd_row7_col0{\n",
       "            background-color:  #82a6fb;\n",
       "            color:  #000000;\n",
       "        }#T_c33cd_row7_col1,#T_c33cd_row24_col1,#T_c33cd_row32_col1{\n",
       "            background-color:  #7a9df8;\n",
       "            color:  #000000;\n",
       "        }#T_c33cd_row8_col0{\n",
       "            background-color:  #5673e0;\n",
       "            color:  #000000;\n",
       "        }#T_c33cd_row8_col1,#T_c33cd_row10_col1,#T_c33cd_row25_col1,#T_c33cd_row28_col1{\n",
       "            background-color:  #779af7;\n",
       "            color:  #000000;\n",
       "        }#T_c33cd_row9_col0{\n",
       "            background-color:  #506bda;\n",
       "            color:  #000000;\n",
       "        }#T_c33cd_row9_col1{\n",
       "            background-color:  #7093f3;\n",
       "            color:  #000000;\n",
       "        }#T_c33cd_row10_col0,#T_c33cd_row25_col0,#T_c33cd_row32_col0{\n",
       "            background-color:  #5572df;\n",
       "            color:  #000000;\n",
       "        }#T_c33cd_row11_col0{\n",
       "            background-color:  #dcdddd;\n",
       "            color:  #000000;\n",
       "        }#T_c33cd_row11_col1{\n",
       "            background-color:  #f2cbb7;\n",
       "            color:  #000000;\n",
       "        }#T_c33cd_row12_col0{\n",
       "            background-color:  #7295f4;\n",
       "            color:  #000000;\n",
       "        }#T_c33cd_row12_col1{\n",
       "            background-color:  #7b9ff9;\n",
       "            color:  #000000;\n",
       "        }#T_c33cd_row13_col0{\n",
       "            background-color:  #688aef;\n",
       "            color:  #000000;\n",
       "        }#T_c33cd_row13_col1{\n",
       "            background-color:  #7396f5;\n",
       "            color:  #000000;\n",
       "        }#T_c33cd_row14_col0{\n",
       "            background-color:  #445acc;\n",
       "            color:  #f1f1f1;\n",
       "        }#T_c33cd_row14_col1,#T_c33cd_row29_col0,#T_c33cd_row33_col1{\n",
       "            background-color:  #3b4cc0;\n",
       "            color:  #f1f1f1;\n",
       "        }#T_c33cd_row15_col0,#T_c33cd_row31_col1{\n",
       "            background-color:  #6788ee;\n",
       "            color:  #000000;\n",
       "        }#T_c33cd_row15_col1{\n",
       "            background-color:  #9ebeff;\n",
       "            color:  #000000;\n",
       "        }#T_c33cd_row16_col0,#T_c33cd_row29_col1{\n",
       "            background-color:  #5b7ae5;\n",
       "            color:  #000000;\n",
       "        }#T_c33cd_row16_col1{\n",
       "            background-color:  #7699f6;\n",
       "            color:  #000000;\n",
       "        }#T_c33cd_row17_col0{\n",
       "            background-color:  #6f92f3;\n",
       "            color:  #000000;\n",
       "        }#T_c33cd_row17_col1{\n",
       "            background-color:  #a3c2fe;\n",
       "            color:  #000000;\n",
       "        }#T_c33cd_row18_col0{\n",
       "            background-color:  #465ecf;\n",
       "            color:  #f1f1f1;\n",
       "        }#T_c33cd_row18_col1{\n",
       "            background-color:  #6180e9;\n",
       "            color:  #000000;\n",
       "        }#T_c33cd_row19_col0{\n",
       "            background-color:  #6485ec;\n",
       "            color:  #000000;\n",
       "        }#T_c33cd_row19_col1{\n",
       "            background-color:  #8db0fe;\n",
       "            color:  #000000;\n",
       "        }#T_c33cd_row20_col0{\n",
       "            background-color:  #5f7fe8;\n",
       "            color:  #000000;\n",
       "        }#T_c33cd_row20_col1{\n",
       "            background-color:  #86a9fc;\n",
       "            color:  #000000;\n",
       "        }#T_c33cd_row21_col0{\n",
       "            background-color:  #d2dbe8;\n",
       "            color:  #000000;\n",
       "        }#T_c33cd_row21_col1{\n",
       "            background-color:  #ecd3c5;\n",
       "            color:  #000000;\n",
       "        }#T_c33cd_row22_col0{\n",
       "            background-color:  #e6d7cf;\n",
       "            color:  #000000;\n",
       "        }#T_c33cd_row22_col1{\n",
       "            background-color:  #f6bea4;\n",
       "            color:  #000000;\n",
       "        }#T_c33cd_row23_col0{\n",
       "            background-color:  #e46e56;\n",
       "            color:  #000000;\n",
       "        }#T_c33cd_row23_col1{\n",
       "            background-color:  #eb7d62;\n",
       "            color:  #000000;\n",
       "        }#T_c33cd_row24_col0{\n",
       "            background-color:  #6282ea;\n",
       "            color:  #000000;\n",
       "        }#T_c33cd_row26_col0{\n",
       "            background-color:  #4c66d6;\n",
       "            color:  #000000;\n",
       "        }#T_c33cd_row26_col1{\n",
       "            background-color:  #6c8ff1;\n",
       "            color:  #000000;\n",
       "        }#T_c33cd_row27_col0{\n",
       "            background-color:  #5875e1;\n",
       "            color:  #000000;\n",
       "        }#T_c33cd_row27_col1{\n",
       "            background-color:  #7597f6;\n",
       "            color:  #000000;\n",
       "        }#T_c33cd_row28_col0{\n",
       "            background-color:  #536edd;\n",
       "            color:  #000000;\n",
       "        }#T_c33cd_row30_col0{\n",
       "            background-color:  #4055c8;\n",
       "            color:  #f1f1f1;\n",
       "        }#T_c33cd_row31_col0{\n",
       "            background-color:  #455cce;\n",
       "            color:  #f1f1f1;\n",
       "        }#T_c33cd_row33_col0{\n",
       "            background-color:  #4358cb;\n",
       "            color:  #f1f1f1;\n",
       "        }</style><table id=\"T_c33cd_\" ><thead>    <tr>        <th class=\"blank level0\" ></th>        <th class=\"col_heading level0 col0\" >city_center</th>        <th class=\"col_heading level0 col1\" >city</th>    </tr></thead><tbody>\n",
       "                <tr>\n",
       "                        <th id=\"T_c33cd_level0_row0\" class=\"row_heading level0 row0\" >total_images</th>\n",
       "                        <td id=\"T_c33cd_row0_col0\" class=\"data row0 col0\" >0.122459</td>\n",
       "                        <td id=\"T_c33cd_row0_col1\" class=\"data row0 col1\" >0.083787</td>\n",
       "            </tr>\n",
       "            <tr>\n",
       "                        <th id=\"T_c33cd_level0_row1\" class=\"row_heading level0 row1\" >last_price</th>\n",
       "                        <td id=\"T_c33cd_row1_col0\" class=\"data row1 col0\" >1.000000</td>\n",
       "                        <td id=\"T_c33cd_row1_col1\" class=\"data row1 col1\" >1.000000</td>\n",
       "            </tr>\n",
       "            <tr>\n",
       "                        <th id=\"T_c33cd_level0_row2\" class=\"row_heading level0 row2\" >total_area</th>\n",
       "                        <td id=\"T_c33cd_row2_col0\" class=\"data row2 col0\" >0.572592</td>\n",
       "                        <td id=\"T_c33cd_row2_col1\" class=\"data row2 col1\" >0.639604</td>\n",
       "            </tr>\n",
       "            <tr>\n",
       "                        <th id=\"T_c33cd_level0_row3\" class=\"row_heading level0 row3\" >rooms</th>\n",
       "                        <td id=\"T_c33cd_row3_col0\" class=\"data row3 col0\" >0.282821</td>\n",
       "                        <td id=\"T_c33cd_row3_col1\" class=\"data row3 col1\" >0.355097</td>\n",
       "            </tr>\n",
       "            <tr>\n",
       "                        <th id=\"T_c33cd_level0_row4\" class=\"row_heading level0 row4\" >ceiling_height</th>\n",
       "                        <td id=\"T_c33cd_row4_col0\" class=\"data row4 col0\" >0.068568</td>\n",
       "                        <td id=\"T_c33cd_row4_col1\" class=\"data row4 col1\" >0.073778</td>\n",
       "            </tr>\n",
       "            <tr>\n",
       "                        <th id=\"T_c33cd_level0_row5\" class=\"row_heading level0 row5\" >floors_total</th>\n",
       "                        <td id=\"T_c33cd_row5_col0\" class=\"data row5 col0\" >0.064382</td>\n",
       "                        <td id=\"T_c33cd_row5_col1\" class=\"data row5 col1\" >-0.044455</td>\n",
       "            </tr>\n",
       "            <tr>\n",
       "                        <th id=\"T_c33cd_level0_row6\" class=\"row_heading level0 row6\" >living_area</th>\n",
       "                        <td id=\"T_c33cd_row6_col0\" class=\"data row6 col0\" >0.479687</td>\n",
       "                        <td id=\"T_c33cd_row6_col1\" class=\"data row6 col1\" >0.552827</td>\n",
       "            </tr>\n",
       "            <tr>\n",
       "                        <th id=\"T_c33cd_level0_row7\" class=\"row_heading level0 row7\" >floor</th>\n",
       "                        <td id=\"T_c33cd_row7_col0\" class=\"data row7 col0\" >0.140328</td>\n",
       "                        <td id=\"T_c33cd_row7_col1\" class=\"data row7 col1\" >0.008338</td>\n",
       "            </tr>\n",
       "            <tr>\n",
       "                        <th id=\"T_c33cd_level0_row8\" class=\"row_heading level0 row8\" >is_apartment</th>\n",
       "                        <td id=\"T_c33cd_row8_col0\" class=\"data row8 col0\" >-0.000826</td>\n",
       "                        <td id=\"T_c33cd_row8_col1\" class=\"data row8 col1\" >0.000173</td>\n",
       "            </tr>\n",
       "            <tr>\n",
       "                        <th id=\"T_c33cd_level0_row9\" class=\"row_heading level0 row9\" >studio</th>\n",
       "                        <td id=\"T_c33cd_row9_col0\" class=\"data row9 col0\" >-0.021450</td>\n",
       "                        <td id=\"T_c33cd_row9_col1\" class=\"data row9 col1\" >-0.021884</td>\n",
       "            </tr>\n",
       "            <tr>\n",
       "                        <th id=\"T_c33cd_level0_row10\" class=\"row_heading level0 row10\" >open_plan</th>\n",
       "                        <td id=\"T_c33cd_row10_col0\" class=\"data row10 col0\" >-0.006678</td>\n",
       "                        <td id=\"T_c33cd_row10_col1\" class=\"data row10 col1\" >-0.000508</td>\n",
       "            </tr>\n",
       "            <tr>\n",
       "                        <th id=\"T_c33cd_level0_row11\" class=\"row_heading level0 row11\" >kitchen_area</th>\n",
       "                        <td id=\"T_c33cd_row11_col0\" class=\"data row11 col0\" >0.448245</td>\n",
       "                        <td id=\"T_c33cd_row11_col1\" class=\"data row11 col1\" >0.506668</td>\n",
       "            </tr>\n",
       "            <tr>\n",
       "                        <th id=\"T_c33cd_level0_row12\" class=\"row_heading level0 row12\" >balcony</th>\n",
       "                        <td id=\"T_c33cd_row12_col0\" class=\"data row12 col0\" >0.092119</td>\n",
       "                        <td id=\"T_c33cd_row12_col1\" class=\"data row12 col1\" >0.012845</td>\n",
       "            </tr>\n",
       "            <tr>\n",
       "                        <th id=\"T_c33cd_level0_row13\" class=\"row_heading level0 row13\" >airports_nearest</th>\n",
       "                        <td id=\"T_c33cd_row13_col0\" class=\"data row13 col0\" >0.058561</td>\n",
       "                        <td id=\"T_c33cd_row13_col1\" class=\"data row13 col1\" >-0.013866</td>\n",
       "            </tr>\n",
       "            <tr>\n",
       "                        <th id=\"T_c33cd_level0_row14\" class=\"row_heading level0 row14\" >cityCenters_nearest</th>\n",
       "                        <td id=\"T_c33cd_row14_col0\" class=\"data row14 col0\" >-0.066084</td>\n",
       "                        <td id=\"T_c33cd_row14_col1\" class=\"data row14 col1\" >-0.232653</td>\n",
       "            </tr>\n",
       "            <tr>\n",
       "                        <th id=\"T_c33cd_level0_row15\" class=\"row_heading level0 row15\" >parks_around3000</th>\n",
       "                        <td id=\"T_c33cd_row15_col0\" class=\"data row15 col0\" >0.055672</td>\n",
       "                        <td id=\"T_c33cd_row15_col1\" class=\"data row15 col1\" >0.133875</td>\n",
       "            </tr>\n",
       "            <tr>\n",
       "                        <th id=\"T_c33cd_level0_row16\" class=\"row_heading level0 row16\" >parks_nearest</th>\n",
       "                        <td id=\"T_c33cd_row16_col0\" class=\"data row16 col0\" >0.018095</td>\n",
       "                        <td id=\"T_c33cd_row16_col1\" class=\"data row16 col1\" >-0.002705</td>\n",
       "            </tr>\n",
       "            <tr>\n",
       "                        <th id=\"T_c33cd_level0_row17\" class=\"row_heading level0 row17\" >ponds_around3000</th>\n",
       "                        <td id=\"T_c33cd_row17_col0\" class=\"data row17 col0\" >0.080749</td>\n",
       "                        <td id=\"T_c33cd_row17_col1\" class=\"data row17 col1\" >0.152866</td>\n",
       "            </tr>\n",
       "            <tr>\n",
       "                        <th id=\"T_c33cd_level0_row18\" class=\"row_heading level0 row18\" >ponds_nearest</th>\n",
       "                        <td id=\"T_c33cd_row18_col0\" class=\"data row18 col0\" >-0.056952</td>\n",
       "                        <td id=\"T_c33cd_row18_col1\" class=\"data row18 col1\" >-0.081062</td>\n",
       "            </tr>\n",
       "            <tr>\n",
       "                        <th id=\"T_c33cd_level0_row19\" class=\"row_heading level0 row19\" >days_exposition</th>\n",
       "                        <td id=\"T_c33cd_row19_col0\" class=\"data row19 col0\" >0.048826</td>\n",
       "                        <td id=\"T_c33cd_row19_col1\" class=\"data row19 col1\" >0.078534</td>\n",
       "            </tr>\n",
       "            <tr>\n",
       "                        <th id=\"T_c33cd_level0_row20\" class=\"row_heading level0 row20\" >ceiling_height_corrected</th>\n",
       "                        <td id=\"T_c33cd_row20_col0\" class=\"data row20 col0\" >0.029273</td>\n",
       "                        <td id=\"T_c33cd_row20_col1\" class=\"data row20 col1\" >0.054707</td>\n",
       "            </tr>\n",
       "            <tr>\n",
       "                        <th id=\"T_c33cd_level0_row21\" class=\"row_heading level0 row21\" >kitchen_area_corrected</th>\n",
       "                        <td id=\"T_c33cd_row21_col0\" class=\"data row21 col0\" >0.403298</td>\n",
       "                        <td id=\"T_c33cd_row21_col1\" class=\"data row21 col1\" >0.464736</td>\n",
       "            </tr>\n",
       "            <tr>\n",
       "                        <th id=\"T_c33cd_level0_row22\" class=\"row_heading level0 row22\" >living_area_corrected</th>\n",
       "                        <td id=\"T_c33cd_row22_col0\" class=\"data row22 col0\" >0.489498</td>\n",
       "                        <td id=\"T_c33cd_row22_col1\" class=\"data row22 col1\" >0.563584</td>\n",
       "            </tr>\n",
       "            <tr>\n",
       "                        <th id=\"T_c33cd_level0_row23\" class=\"row_heading level0 row23\" >price_m_sq</th>\n",
       "                        <td id=\"T_c33cd_row23_col0\" class=\"data row23 col0\" >0.828461</td>\n",
       "                        <td id=\"T_c33cd_row23_col1\" class=\"data row23 col1\" >0.769910</td>\n",
       "            </tr>\n",
       "            <tr>\n",
       "                        <th id=\"T_c33cd_level0_row24\" class=\"row_heading level0 row24\" >day_week_exposition</th>\n",
       "                        <td id=\"T_c33cd_row24_col0\" class=\"data row24 col0\" >0.038271</td>\n",
       "                        <td id=\"T_c33cd_row24_col1\" class=\"data row24 col1\" >0.009605</td>\n",
       "            </tr>\n",
       "            <tr>\n",
       "                        <th id=\"T_c33cd_level0_row25\" class=\"row_heading level0 row25\" >month_exposition</th>\n",
       "                        <td id=\"T_c33cd_row25_col0\" class=\"data row25 col0\" >-0.005854</td>\n",
       "                        <td id=\"T_c33cd_row25_col1\" class=\"data row25 col1\" >0.002958</td>\n",
       "            </tr>\n",
       "            <tr>\n",
       "                        <th id=\"T_c33cd_level0_row26\" class=\"row_heading level0 row26\" >year_exposition</th>\n",
       "                        <td id=\"T_c33cd_row26_col0\" class=\"data row26 col0\" >-0.032768</td>\n",
       "                        <td id=\"T_c33cd_row26_col1\" class=\"data row26 col1\" >-0.038619</td>\n",
       "            </tr>\n",
       "            <tr>\n",
       "                        <th id=\"T_c33cd_level0_row27\" class=\"row_heading level0 row27\" >floors_first_or_last</th>\n",
       "                        <td id=\"T_c33cd_row27_col0\" class=\"data row27 col0\" >0.004525</td>\n",
       "                        <td id=\"T_c33cd_row27_col1\" class=\"data row27 col1\" >-0.009281</td>\n",
       "            </tr>\n",
       "            <tr>\n",
       "                        <th id=\"T_c33cd_level0_row28\" class=\"row_heading level0 row28\" >living_to_total_area</th>\n",
       "                        <td id=\"T_c33cd_row28_col0\" class=\"data row28 col0\" >-0.012819</td>\n",
       "                        <td id=\"T_c33cd_row28_col1\" class=\"data row28 col1\" >0.001984</td>\n",
       "            </tr>\n",
       "            <tr>\n",
       "                        <th id=\"T_c33cd_level0_row29\" class=\"row_heading level0 row29\" >kitchen_to_total_area</th>\n",
       "                        <td id=\"T_c33cd_row29_col0\" class=\"data row29 col0\" >-0.101432</td>\n",
       "                        <td id=\"T_c33cd_row29_col1\" class=\"data row29 col1\" >-0.098194</td>\n",
       "            </tr>\n",
       "            <tr>\n",
       "                        <th id=\"T_c33cd_level0_row30\" class=\"row_heading level0 row30\" >floors_first</th>\n",
       "                        <td id=\"T_c33cd_row30_col0\" class=\"data row30 col0\" >-0.079380</td>\n",
       "                        <td id=\"T_c33cd_row30_col1\" class=\"data row30 col1\" >-0.049046</td>\n",
       "            </tr>\n",
       "            <tr>\n",
       "                        <th id=\"T_c33cd_level0_row31\" class=\"row_heading level0 row31\" >floors_last</th>\n",
       "                        <td id=\"T_c33cd_row31_col0\" class=\"data row31 col0\" >-0.059897</td>\n",
       "                        <td id=\"T_c33cd_row31_col1\" class=\"data row31 col1\" >-0.056313</td>\n",
       "            </tr>\n",
       "            <tr>\n",
       "                        <th id=\"T_c33cd_level0_row32\" class=\"row_heading level0 row32\" >floors_first_or_last_dummy</th>\n",
       "                        <td id=\"T_c33cd_row32_col0\" class=\"data row32 col0\" >-0.005072</td>\n",
       "                        <td id=\"T_c33cd_row32_col1\" class=\"data row32 col1\" >0.008881</td>\n",
       "            </tr>\n",
       "            <tr>\n",
       "                        <th id=\"T_c33cd_level0_row33\" class=\"row_heading level0 row33\" >cityCenters_nearest_km</th>\n",
       "                        <td id=\"T_c33cd_row33_col0\" class=\"data row33 col0\" >-0.068535</td>\n",
       "                        <td id=\"T_c33cd_row33_col1\" class=\"data row33 col1\" >-0.232925</td>\n",
       "            </tr>\n",
       "    </tbody></table>"
      ],
      "text/plain": [
       "<pandas.io.formats.style.Styler at 0x2747ac2d940>"
      ]
     },
     "execution_count": 46,
     "metadata": {},
     "output_type": "execute_result"
    }
   ],
   "source": [
    "# выделите факторы, которые влияют на стоимость квартиры (число комнат, этаж, удалённость от центра, дата размещения объявления).\n",
    "\n",
    "# создадим таблицы корреляции стоимости квартиры с остальными факторами по СПб-центру и СПб, \n",
    "df_spb_center_corr=df_spb_center.corrwith(df_spb_center['last_price'], axis = 0)\n",
    "df_spb_corr=df_spb.corrwith(df_spb['last_price'], axis = 0)\n",
    "# объединим их в одну таблицу и сравним\n",
    "df_corr_spb_center_vs_city = pd.concat([df_spb_center_corr, df_spb_corr], axis=1)\n",
    "df_corr_spb_center_vs_city.rename(columns={0: \"city_center\", 1: \"city\"}).style.background_gradient('coolwarm')"
   ]
  },
  {
   "cell_type": "markdown",
   "metadata": {},
   "source": [
    "Из таблицы видно, что высокие показатели корреляции у обоих сегментов связаны с одними и теми же факторами. \n",
    "\n",
    "Однако по центру города коэффициенты в целом ниже, это значит, что цена в центре города коррелирует немного меньше, чем в целом по городу, с площадью, жилплощадью, площадью кухни, количеством комнат. Эти факторы, видимо, частично оттесняются фактором исторического положения жилья.\n",
    "\n",
    "Фактор удалённости от центра для жилья внутри центра не релевантен т.к. мы смотрим на самый центр (сегмент представляет собой жилье в радиусе 5 км от центра), в то время как для недвижимости по всему городу есть обратная зависимость - чем ближе к центру тем ожидаемо дороже. Дата размещения объявления по дням, месяцам или годам не показала корреляцию с ценой в обоих случаях.\n",
    "\n",
    "Интересно, что у цен на недвижимость в центре города есть небольшая корреляция с этажом, 0.14 , тогда как в целом по городу она отсутствует, т.е. чем выше этаж - тем выше цена. Вероятно, виды на центр города положительно влияют на цену, а первоэтажность в центре, - скорее отрицательно -0.07 (корреляция цены в центре с одноэтажностью (фиктивная переменная (dummy variable), где первый этаж квартиры 1, а другие 0)."
   ]
  },
  {
   "cell_type": "markdown",
   "metadata": {},
   "source": [
    "## Общий вывод"
   ]
  },
  {
   "cell_type": "markdown",
   "metadata": {},
   "source": [
    "Согласно полученным данным о продаже недвижимости в Санкт-Петербурге и соседних населённых пунктах за несколько лет, самые часто встречающиеся квартиры в объявлениях одно и двух комнатные, средней площадью 52 квадратных метра и средней ценой 4.65 млн рублей.\n",
    "\n",
    "Половина квартир была продана меньше, чем за 95 дней. Однако, продаж, занимающих более года, сравнительно много, 13%.\n",
    "\n",
    "Самая высокая средняя цена квадратного метра из 10 населённых пунктах с наибольшим числом объявлений - в Санкт-Петербурге и Пушкино. Самая низкая - в Выборге и Гатчине.\n",
    "\n",
    "Самые значимые факторы для цены - площадь, жилплощадь, площадь кухни, количество комнат и расстояние до центра. \n",
    "\n",
    "Цена недвижимости, находящейся в историческом центре Санкт-Петербурга (радиусе 5 км) обусловлена местоположением в большей степени, и остальными факторами немного меньше, чем в среднем по городу. \n",
    "\n",
    "В среднем, квартиры в центре дороже, больше по площади, там больше комнат, и выше потолки. В силу своего центрального местонахождения и исторической ценности такое жилье оценивается гораздо дороже. "
   ]
  }
 ],
 "metadata": {
  "kernelspec": {
   "display_name": "Python 3",
   "language": "python",
   "name": "python3"
  },
  "language_info": {
   "codemirror_mode": {
    "name": "ipython",
    "version": 3
   },
   "file_extension": ".py",
   "mimetype": "text/x-python",
   "name": "python",
   "nbconvert_exporter": "python",
   "pygments_lexer": "ipython3",
   "version": "3.8.8"
  },
  "toc": {
   "base_numbering": 1,
   "nav_menu": {},
   "number_sections": true,
   "sideBar": true,
   "skip_h1_title": true,
   "title_cell": "Содержание",
   "title_sidebar": "Contents",
   "toc_cell": true,
   "toc_position": {},
   "toc_section_display": true,
   "toc_window_display": false
  }
 },
 "nbformat": 4,
 "nbformat_minor": 2
}
