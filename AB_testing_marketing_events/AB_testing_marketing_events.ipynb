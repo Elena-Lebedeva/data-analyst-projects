{
 "cells": [
  {
   "cell_type": "markdown",
   "id": "fa387e35",
   "metadata": {},
   "source": [
    "## Проект по А/B-тестированию"
   ]
  },
  {
   "cell_type": "markdown",
   "id": "756c4d71",
   "metadata": {},
   "source": [
    "### Постановка задачи\n",
    "Провести оценку результатов A/B-теста. В вашем распоряжении есть датасет с действиями пользователей, техническое задание и несколько вспомогательных датасетов.\n",
    "Оцените корректность проведения теста\n",
    "Проанализируйте результаты теста\n",
    "Чтобы оценить корректность проведения теста, проверьте:\n",
    "пересечение тестовой аудитории с конкурирующим тестом,\n",
    "совпадение теста и маркетинговых событий, другие проблемы временных границ теста."
   ]
  },
  {
   "cell_type": "markdown",
   "id": "16978aef",
   "metadata": {},
   "source": [
    "### Техническое задание\n",
    "- Название теста: recommender_system_test;\n",
    "- Группы: А (контрольная), B (новая платёжная воронка);\n",
    "- Дата запуска: 2020-12-07;\n",
    "- Дата остановки набора новых пользователей: 2020-12-21;\n",
    "- Дата остановки: 2021-01-04;\n",
    "- Аудитория: 15% новых пользователей из региона EU;\n",
    "- Назначение теста: тестирование изменений, связанных с внедрением улучшенной рекомендательной системы;\n",
    "- Ожидаемое количество участников теста: 6000.\n",
    "- Ожидаемый эффект: за 14 дней с момента регистрации в системе пользователи покажут улучшение каждой метрики не менее, чем на 10%:\n",
    "    - конверсии в просмотр карточек товаров — событие product_page\n",
    "    - просмотры корзины — product_cart\n",
    "    - покупки — purchase.\n",
    "- Загрузите данные теста, проверьте корректность его проведения и проанализируйте полученные результаты."
   ]
  },
  {
   "cell_type": "markdown",
   "id": "a87e3314",
   "metadata": {},
   "source": [
    "### Цели исследования \n",
    "- оценить корректность проведения A/B-теста \n",
    "    - проверить пересечение тестовой аудитории с конкурирующим тестом\n",
    "    - совпадение теста и маркетинговых событий\n",
    "    - другие проблемы временных границ теста\n",
    "- проанализировать результаты A/B-теста "
   ]
  },
  {
   "cell_type": "markdown",
   "id": "235d9671",
   "metadata": {},
   "source": [
    "### Загрузка данных, общая информация по датасету и предобработка"
   ]
  },
  {
   "cell_type": "code",
   "execution_count": 1,
   "id": "abd63d09",
   "metadata": {},
   "outputs": [],
   "source": [
    "import pandas as pd\n",
    "import matplotlib.pyplot as plt\n",
    "import seaborn as sns\n",
    "from scipy import stats as st\n",
    "import numpy as np\n",
    "import math as mth\n",
    "from tqdm import tqdm\n",
    "import pylab"
   ]
  },
  {
   "cell_type": "code",
   "execution_count": 2,
   "id": "48a234a5",
   "metadata": {},
   "outputs": [],
   "source": [
    "pd.options.display.float_format = '{:.2f}'.format"
   ]
  },
  {
   "cell_type": "code",
   "execution_count": 3,
   "id": "1eef5c89",
   "metadata": {},
   "outputs": [],
   "source": [
    "sns.set_palette('Paired')"
   ]
  },
  {
   "cell_type": "code",
   "execution_count": 4,
   "id": "a92fbbe5",
   "metadata": {},
   "outputs": [],
   "source": [
    "try: # локальный путь\n",
    "    marketing = pd.read_csv('ab_project_marketing_events.csv')\n",
    "# календарь маркетинговых событий на 2020 год\n",
    "    users = pd.read_csv('final_ab_new_users.csv') \n",
    "# все пользователи, # зарегистрировавшиеся в интернет-магазине в период с 7 по 21 декабря 2020 года\n",
    "    events = pd.read_csv('final_ab_events.csv') \n",
    "# все события новых пользователей в период с 7 декабря 2020 по 4 января 2021 года;\n",
    "    participants = pd.read_csv('final_ab_participants.csv')\n",
    "# таблица участников тестов.\n",
    "except FileNotFoundError: # яндексовский путь\n",
    "    marketing = pd.read_csv('/datasets/ab_project_marketing_events.csv')\n",
    "    users = pd.read_csv('/datasets/final_ab_new_users.csv')\n",
    "    events = pd.read_csv('/datasets/final_ab_events.csv')\n",
    "    participants = pd.read_csv('/datasets/final_ab_participants.csv')"
   ]
  },
  {
   "cell_type": "code",
   "execution_count": 5,
   "id": "0be83a3d",
   "metadata": {},
   "outputs": [],
   "source": [
    "dfs= [marketing, users, events, participants]"
   ]
  },
  {
   "cell_type": "code",
   "execution_count": 6,
   "id": "112a7131",
   "metadata": {},
   "outputs": [
    {
     "data": {
      "text/html": [
       "<div>\n",
       "<style scoped>\n",
       "    .dataframe tbody tr th:only-of-type {\n",
       "        vertical-align: middle;\n",
       "    }\n",
       "\n",
       "    .dataframe tbody tr th {\n",
       "        vertical-align: top;\n",
       "    }\n",
       "\n",
       "    .dataframe thead th {\n",
       "        text-align: right;\n",
       "    }\n",
       "</style>\n",
       "<table border=\"1\" class=\"dataframe\">\n",
       "  <thead>\n",
       "    <tr style=\"text-align: right;\">\n",
       "      <th></th>\n",
       "      <th>name</th>\n",
       "      <th>regions</th>\n",
       "      <th>start_dt</th>\n",
       "      <th>finish_dt</th>\n",
       "    </tr>\n",
       "  </thead>\n",
       "  <tbody>\n",
       "    <tr>\n",
       "      <th>8</th>\n",
       "      <td>International Women's Day Promo</td>\n",
       "      <td>EU, CIS, APAC</td>\n",
       "      <td>2020-03-08</td>\n",
       "      <td>2020-03-10</td>\n",
       "    </tr>\n",
       "    <tr>\n",
       "      <th>6</th>\n",
       "      <td>Chinese New Year Promo</td>\n",
       "      <td>APAC</td>\n",
       "      <td>2020-01-25</td>\n",
       "      <td>2020-02-07</td>\n",
       "    </tr>\n",
       "    <tr>\n",
       "      <th>4</th>\n",
       "      <td>4th of July Promo</td>\n",
       "      <td>N.America</td>\n",
       "      <td>2020-07-04</td>\n",
       "      <td>2020-07-11</td>\n",
       "    </tr>\n",
       "    <tr>\n",
       "      <th>11</th>\n",
       "      <td>Dragon Boat Festival Giveaway</td>\n",
       "      <td>APAC</td>\n",
       "      <td>2020-06-25</td>\n",
       "      <td>2020-07-01</td>\n",
       "    </tr>\n",
       "    <tr>\n",
       "      <th>2</th>\n",
       "      <td>St. Patric's Day Promo</td>\n",
       "      <td>EU, N.America</td>\n",
       "      <td>2020-03-17</td>\n",
       "      <td>2020-03-19</td>\n",
       "    </tr>\n",
       "    <tr>\n",
       "      <th>13</th>\n",
       "      <td>Chinese Moon Festival</td>\n",
       "      <td>APAC</td>\n",
       "      <td>2020-10-01</td>\n",
       "      <td>2020-10-07</td>\n",
       "    </tr>\n",
       "    <tr>\n",
       "      <th>9</th>\n",
       "      <td>Victory Day CIS (May 9th) Event</td>\n",
       "      <td>CIS</td>\n",
       "      <td>2020-05-09</td>\n",
       "      <td>2020-05-11</td>\n",
       "    </tr>\n",
       "    <tr>\n",
       "      <th>1</th>\n",
       "      <td>St. Valentine's Day Giveaway</td>\n",
       "      <td>EU, CIS, APAC, N.America</td>\n",
       "      <td>2020-02-14</td>\n",
       "      <td>2020-02-16</td>\n",
       "    </tr>\n",
       "    <tr>\n",
       "      <th>7</th>\n",
       "      <td>Labor day (May 1st) Ads Campaign</td>\n",
       "      <td>EU, CIS, APAC</td>\n",
       "      <td>2020-05-01</td>\n",
       "      <td>2020-05-03</td>\n",
       "    </tr>\n",
       "    <tr>\n",
       "      <th>10</th>\n",
       "      <td>CIS New Year Gift Lottery</td>\n",
       "      <td>CIS</td>\n",
       "      <td>2020-12-30</td>\n",
       "      <td>2021-01-07</td>\n",
       "    </tr>\n",
       "  </tbody>\n",
       "</table>\n",
       "</div>"
      ],
      "text/plain": [
       "                                name                   regions    start_dt  \\\n",
       "8    International Women's Day Promo             EU, CIS, APAC  2020-03-08   \n",
       "6             Chinese New Year Promo                      APAC  2020-01-25   \n",
       "4                  4th of July Promo                 N.America  2020-07-04   \n",
       "11     Dragon Boat Festival Giveaway                      APAC  2020-06-25   \n",
       "2             St. Patric's Day Promo             EU, N.America  2020-03-17   \n",
       "13             Chinese Moon Festival                      APAC  2020-10-01   \n",
       "9    Victory Day CIS (May 9th) Event                       CIS  2020-05-09   \n",
       "1       St. Valentine's Day Giveaway  EU, CIS, APAC, N.America  2020-02-14   \n",
       "7   Labor day (May 1st) Ads Campaign             EU, CIS, APAC  2020-05-01   \n",
       "10         CIS New Year Gift Lottery                       CIS  2020-12-30   \n",
       "\n",
       "     finish_dt  \n",
       "8   2020-03-10  \n",
       "6   2020-02-07  \n",
       "4   2020-07-11  \n",
       "11  2020-07-01  \n",
       "2   2020-03-19  \n",
       "13  2020-10-07  \n",
       "9   2020-05-11  \n",
       "1   2020-02-16  \n",
       "7   2020-05-03  \n",
       "10  2021-01-07  "
      ]
     },
     "execution_count": 6,
     "metadata": {},
     "output_type": "execute_result"
    }
   ],
   "source": [
    "marketing.sample(10, random_state=0)"
   ]
  },
  {
   "cell_type": "code",
   "execution_count": 7,
   "id": "277757ac",
   "metadata": {},
   "outputs": [
    {
     "data": {
      "text/html": [
       "<div>\n",
       "<style scoped>\n",
       "    .dataframe tbody tr th:only-of-type {\n",
       "        vertical-align: middle;\n",
       "    }\n",
       "\n",
       "    .dataframe tbody tr th {\n",
       "        vertical-align: top;\n",
       "    }\n",
       "\n",
       "    .dataframe thead th {\n",
       "        text-align: right;\n",
       "    }\n",
       "</style>\n",
       "<table border=\"1\" class=\"dataframe\">\n",
       "  <thead>\n",
       "    <tr style=\"text-align: right;\">\n",
       "      <th></th>\n",
       "      <th>user_id</th>\n",
       "      <th>first_date</th>\n",
       "      <th>region</th>\n",
       "      <th>device</th>\n",
       "    </tr>\n",
       "  </thead>\n",
       "  <tbody>\n",
       "    <tr>\n",
       "      <th>9145</th>\n",
       "      <td>8C07103A3DCCA5CB</td>\n",
       "      <td>2020-12-14</td>\n",
       "      <td>EU</td>\n",
       "      <td>Android</td>\n",
       "    </tr>\n",
       "    <tr>\n",
       "      <th>33709</th>\n",
       "      <td>9A7EB0465E2DC590</td>\n",
       "      <td>2020-12-10</td>\n",
       "      <td>CIS</td>\n",
       "      <td>Android</td>\n",
       "    </tr>\n",
       "    <tr>\n",
       "      <th>7768</th>\n",
       "      <td>1D400F27F375EDDC</td>\n",
       "      <td>2020-12-14</td>\n",
       "      <td>CIS</td>\n",
       "      <td>PC</td>\n",
       "    </tr>\n",
       "    <tr>\n",
       "      <th>54387</th>\n",
       "      <td>006E3D14743030D4</td>\n",
       "      <td>2020-12-13</td>\n",
       "      <td>EU</td>\n",
       "      <td>Android</td>\n",
       "    </tr>\n",
       "    <tr>\n",
       "      <th>10017</th>\n",
       "      <td>9A79AAC8B0EA52AE</td>\n",
       "      <td>2020-12-14</td>\n",
       "      <td>EU</td>\n",
       "      <td>Mac</td>\n",
       "    </tr>\n",
       "    <tr>\n",
       "      <th>43260</th>\n",
       "      <td>1F0A89BEDF27C7B2</td>\n",
       "      <td>2020-12-18</td>\n",
       "      <td>EU</td>\n",
       "      <td>iPhone</td>\n",
       "    </tr>\n",
       "    <tr>\n",
       "      <th>20557</th>\n",
       "      <td>E3B99301A37BF13D</td>\n",
       "      <td>2020-12-08</td>\n",
       "      <td>EU</td>\n",
       "      <td>Android</td>\n",
       "    </tr>\n",
       "    <tr>\n",
       "      <th>23921</th>\n",
       "      <td>290CEB7493273316</td>\n",
       "      <td>2020-12-22</td>\n",
       "      <td>EU</td>\n",
       "      <td>Mac</td>\n",
       "    </tr>\n",
       "    <tr>\n",
       "      <th>42396</th>\n",
       "      <td>FE5295D0FC122E52</td>\n",
       "      <td>2020-12-18</td>\n",
       "      <td>EU</td>\n",
       "      <td>Android</td>\n",
       "    </tr>\n",
       "    <tr>\n",
       "      <th>23699</th>\n",
       "      <td>D20FEC90E48A6ECD</td>\n",
       "      <td>2020-12-15</td>\n",
       "      <td>EU</td>\n",
       "      <td>Android</td>\n",
       "    </tr>\n",
       "  </tbody>\n",
       "</table>\n",
       "</div>"
      ],
      "text/plain": [
       "                user_id  first_date region   device\n",
       "9145   8C07103A3DCCA5CB  2020-12-14     EU  Android\n",
       "33709  9A7EB0465E2DC590  2020-12-10    CIS  Android\n",
       "7768   1D400F27F375EDDC  2020-12-14    CIS       PC\n",
       "54387  006E3D14743030D4  2020-12-13     EU  Android\n",
       "10017  9A79AAC8B0EA52AE  2020-12-14     EU      Mac\n",
       "43260  1F0A89BEDF27C7B2  2020-12-18     EU   iPhone\n",
       "20557  E3B99301A37BF13D  2020-12-08     EU  Android\n",
       "23921  290CEB7493273316  2020-12-22     EU      Mac\n",
       "42396  FE5295D0FC122E52  2020-12-18     EU  Android\n",
       "23699  D20FEC90E48A6ECD  2020-12-15     EU  Android"
      ]
     },
     "execution_count": 7,
     "metadata": {},
     "output_type": "execute_result"
    }
   ],
   "source": [
    "users.sample(10, random_state=0)"
   ]
  },
  {
   "cell_type": "code",
   "execution_count": 8,
   "id": "de75f76b",
   "metadata": {},
   "outputs": [
    {
     "data": {
      "text/html": [
       "<div>\n",
       "<style scoped>\n",
       "    .dataframe tbody tr th:only-of-type {\n",
       "        vertical-align: middle;\n",
       "    }\n",
       "\n",
       "    .dataframe tbody tr th {\n",
       "        vertical-align: top;\n",
       "    }\n",
       "\n",
       "    .dataframe thead th {\n",
       "        text-align: right;\n",
       "    }\n",
       "</style>\n",
       "<table border=\"1\" class=\"dataframe\">\n",
       "  <thead>\n",
       "    <tr style=\"text-align: right;\">\n",
       "      <th></th>\n",
       "      <th>user_id</th>\n",
       "      <th>event_dt</th>\n",
       "      <th>event_name</th>\n",
       "      <th>details</th>\n",
       "    </tr>\n",
       "  </thead>\n",
       "  <tbody>\n",
       "    <tr>\n",
       "      <th>218582</th>\n",
       "      <td>D6CDDC77A39840F8</td>\n",
       "      <td>2020-12-22 04:00:50</td>\n",
       "      <td>product_page</td>\n",
       "      <td>NaN</td>\n",
       "    </tr>\n",
       "    <tr>\n",
       "      <th>204789</th>\n",
       "      <td>E72CAC67E18A2A6B</td>\n",
       "      <td>2020-12-21 11:34:53</td>\n",
       "      <td>product_page</td>\n",
       "      <td>NaN</td>\n",
       "    </tr>\n",
       "    <tr>\n",
       "      <th>372358</th>\n",
       "      <td>B628EB26058A769A</td>\n",
       "      <td>2020-12-21 12:47:49</td>\n",
       "      <td>login</td>\n",
       "      <td>NaN</td>\n",
       "    </tr>\n",
       "    <tr>\n",
       "      <th>39945</th>\n",
       "      <td>A157AAA506AA21C3</td>\n",
       "      <td>2020-12-21 21:41:19</td>\n",
       "      <td>purchase</td>\n",
       "      <td>4.99</td>\n",
       "    </tr>\n",
       "    <tr>\n",
       "      <th>50693</th>\n",
       "      <td>3F0E9ABE2DB30444</td>\n",
       "      <td>2020-12-23 04:37:13</td>\n",
       "      <td>purchase</td>\n",
       "      <td>4.99</td>\n",
       "    </tr>\n",
       "    <tr>\n",
       "      <th>73840</th>\n",
       "      <td>6020290DC9E4D2E5</td>\n",
       "      <td>2020-12-12 10:26:37</td>\n",
       "      <td>product_cart</td>\n",
       "      <td>NaN</td>\n",
       "    </tr>\n",
       "    <tr>\n",
       "      <th>127010</th>\n",
       "      <td>AFFBA268256F20E7</td>\n",
       "      <td>2020-12-07 20:58:19</td>\n",
       "      <td>product_page</td>\n",
       "      <td>NaN</td>\n",
       "    </tr>\n",
       "    <tr>\n",
       "      <th>235668</th>\n",
       "      <td>3D455650DAAA70A2</td>\n",
       "      <td>2020-12-25 08:32:11</td>\n",
       "      <td>product_page</td>\n",
       "      <td>NaN</td>\n",
       "    </tr>\n",
       "    <tr>\n",
       "      <th>407827</th>\n",
       "      <td>5820DF4697F38849</td>\n",
       "      <td>2020-12-24 12:53:30</td>\n",
       "      <td>login</td>\n",
       "      <td>NaN</td>\n",
       "    </tr>\n",
       "    <tr>\n",
       "      <th>327896</th>\n",
       "      <td>2330AC104C5F5B37</td>\n",
       "      <td>2020-12-17 22:28:06</td>\n",
       "      <td>login</td>\n",
       "      <td>NaN</td>\n",
       "    </tr>\n",
       "  </tbody>\n",
       "</table>\n",
       "</div>"
      ],
      "text/plain": [
       "                 user_id             event_dt    event_name  details\n",
       "218582  D6CDDC77A39840F8  2020-12-22 04:00:50  product_page      NaN\n",
       "204789  E72CAC67E18A2A6B  2020-12-21 11:34:53  product_page      NaN\n",
       "372358  B628EB26058A769A  2020-12-21 12:47:49         login      NaN\n",
       "39945   A157AAA506AA21C3  2020-12-21 21:41:19      purchase     4.99\n",
       "50693   3F0E9ABE2DB30444  2020-12-23 04:37:13      purchase     4.99\n",
       "73840   6020290DC9E4D2E5  2020-12-12 10:26:37  product_cart      NaN\n",
       "127010  AFFBA268256F20E7  2020-12-07 20:58:19  product_page      NaN\n",
       "235668  3D455650DAAA70A2  2020-12-25 08:32:11  product_page      NaN\n",
       "407827  5820DF4697F38849  2020-12-24 12:53:30         login      NaN\n",
       "327896  2330AC104C5F5B37  2020-12-17 22:28:06         login      NaN"
      ]
     },
     "execution_count": 8,
     "metadata": {},
     "output_type": "execute_result"
    }
   ],
   "source": [
    "events.sample(10, random_state=42)"
   ]
  },
  {
   "cell_type": "code",
   "execution_count": 9,
   "id": "f3f2a7ad",
   "metadata": {},
   "outputs": [
    {
     "data": {
      "text/html": [
       "<div>\n",
       "<style scoped>\n",
       "    .dataframe tbody tr th:only-of-type {\n",
       "        vertical-align: middle;\n",
       "    }\n",
       "\n",
       "    .dataframe tbody tr th {\n",
       "        vertical-align: top;\n",
       "    }\n",
       "\n",
       "    .dataframe thead th {\n",
       "        text-align: right;\n",
       "    }\n",
       "</style>\n",
       "<table border=\"1\" class=\"dataframe\">\n",
       "  <thead>\n",
       "    <tr style=\"text-align: right;\">\n",
       "      <th></th>\n",
       "      <th>user_id</th>\n",
       "      <th>group</th>\n",
       "      <th>ab_test</th>\n",
       "    </tr>\n",
       "  </thead>\n",
       "  <tbody>\n",
       "    <tr>\n",
       "      <th>4084</th>\n",
       "      <td>51B7F3ADA62C28CE</td>\n",
       "      <td>B</td>\n",
       "      <td>recommender_system_test</td>\n",
       "    </tr>\n",
       "    <tr>\n",
       "      <th>1570</th>\n",
       "      <td>F36F4FC5A884C3DA</td>\n",
       "      <td>A</td>\n",
       "      <td>recommender_system_test</td>\n",
       "    </tr>\n",
       "    <tr>\n",
       "      <th>4525</th>\n",
       "      <td>1BC8D784255D5E67</td>\n",
       "      <td>A</td>\n",
       "      <td>recommender_system_test</td>\n",
       "    </tr>\n",
       "    <tr>\n",
       "      <th>3310</th>\n",
       "      <td>FDBCCC4C6B301DA1</td>\n",
       "      <td>A</td>\n",
       "      <td>recommender_system_test</td>\n",
       "    </tr>\n",
       "    <tr>\n",
       "      <th>15737</th>\n",
       "      <td>8FF91E21E27A330D</td>\n",
       "      <td>A</td>\n",
       "      <td>interface_eu_test</td>\n",
       "    </tr>\n",
       "    <tr>\n",
       "      <th>9875</th>\n",
       "      <td>2DABEB62D0265DF8</td>\n",
       "      <td>A</td>\n",
       "      <td>interface_eu_test</td>\n",
       "    </tr>\n",
       "    <tr>\n",
       "      <th>217</th>\n",
       "      <td>5D72D0AEF96C50FD</td>\n",
       "      <td>A</td>\n",
       "      <td>recommender_system_test</td>\n",
       "    </tr>\n",
       "    <tr>\n",
       "      <th>1427</th>\n",
       "      <td>5F74508C8CE22365</td>\n",
       "      <td>B</td>\n",
       "      <td>recommender_system_test</td>\n",
       "    </tr>\n",
       "    <tr>\n",
       "      <th>13058</th>\n",
       "      <td>29916918AD44D513</td>\n",
       "      <td>A</td>\n",
       "      <td>interface_eu_test</td>\n",
       "    </tr>\n",
       "    <tr>\n",
       "      <th>15131</th>\n",
       "      <td>D4F6479E98005BDA</td>\n",
       "      <td>B</td>\n",
       "      <td>interface_eu_test</td>\n",
       "    </tr>\n",
       "  </tbody>\n",
       "</table>\n",
       "</div>"
      ],
      "text/plain": [
       "                user_id group                  ab_test\n",
       "4084   51B7F3ADA62C28CE     B  recommender_system_test\n",
       "1570   F36F4FC5A884C3DA     A  recommender_system_test\n",
       "4525   1BC8D784255D5E67     A  recommender_system_test\n",
       "3310   FDBCCC4C6B301DA1     A  recommender_system_test\n",
       "15737  8FF91E21E27A330D     A        interface_eu_test\n",
       "9875   2DABEB62D0265DF8     A        interface_eu_test\n",
       "217    5D72D0AEF96C50FD     A  recommender_system_test\n",
       "1427   5F74508C8CE22365     B  recommender_system_test\n",
       "13058  29916918AD44D513     A        interface_eu_test\n",
       "15131  D4F6479E98005BDA     B        interface_eu_test"
      ]
     },
     "execution_count": 9,
     "metadata": {},
     "output_type": "execute_result"
    }
   ],
   "source": [
    "participants.sample(10, random_state=42)"
   ]
  },
  {
   "cell_type": "code",
   "execution_count": 10,
   "id": "fecad6a0",
   "metadata": {
    "scrolled": false
   },
   "outputs": [
    {
     "name": "stdout",
     "output_type": "stream",
     "text": [
      "<class 'pandas.core.frame.DataFrame'>\n",
      "RangeIndex: 14 entries, 0 to 13\n",
      "Data columns (total 4 columns):\n",
      " #   Column     Non-Null Count  Dtype \n",
      "---  ------     --------------  ----- \n",
      " 0   name       14 non-null     object\n",
      " 1   regions    14 non-null     object\n",
      " 2   start_dt   14 non-null     object\n",
      " 3   finish_dt  14 non-null     object\n",
      "dtypes: object(4)\n",
      "memory usage: 576.0+ bytes\n",
      "   \n",
      "<class 'pandas.core.frame.DataFrame'>\n",
      "RangeIndex: 61733 entries, 0 to 61732\n",
      "Data columns (total 4 columns):\n",
      " #   Column      Non-Null Count  Dtype \n",
      "---  ------      --------------  ----- \n",
      " 0   user_id     61733 non-null  object\n",
      " 1   first_date  61733 non-null  object\n",
      " 2   region      61733 non-null  object\n",
      " 3   device      61733 non-null  object\n",
      "dtypes: object(4)\n",
      "memory usage: 1.9+ MB\n",
      "   \n",
      "<class 'pandas.core.frame.DataFrame'>\n",
      "RangeIndex: 440317 entries, 0 to 440316\n",
      "Data columns (total 4 columns):\n",
      " #   Column      Non-Null Count   Dtype  \n",
      "---  ------      --------------   -----  \n",
      " 0   user_id     440317 non-null  object \n",
      " 1   event_dt    440317 non-null  object \n",
      " 2   event_name  440317 non-null  object \n",
      " 3   details     62740 non-null   float64\n",
      "dtypes: float64(1), object(3)\n",
      "memory usage: 13.4+ MB\n",
      "   \n",
      "<class 'pandas.core.frame.DataFrame'>\n",
      "RangeIndex: 18268 entries, 0 to 18267\n",
      "Data columns (total 3 columns):\n",
      " #   Column   Non-Null Count  Dtype \n",
      "---  ------   --------------  ----- \n",
      " 0   user_id  18268 non-null  object\n",
      " 1   group    18268 non-null  object\n",
      " 2   ab_test  18268 non-null  object\n",
      "dtypes: object(3)\n",
      "memory usage: 428.3+ KB\n",
      "   \n"
     ]
    }
   ],
   "source": [
    "for df in dfs:\n",
    "        df.info()\n",
    "        print(\"   \")"
   ]
  },
  {
   "cell_type": "markdown",
   "id": "d0a52c69",
   "metadata": {},
   "source": [
    "Даты везде требуют преобразования типа данных."
   ]
  },
  {
   "cell_type": "markdown",
   "id": "83604d9e",
   "metadata": {},
   "source": [
    "### Предобработка данных"
   ]
  },
  {
   "cell_type": "markdown",
   "id": "5bfd63c1",
   "metadata": {},
   "source": [
    "#### Преобразования типа данных"
   ]
  },
  {
   "cell_type": "code",
   "execution_count": 11,
   "id": "93a4eff4",
   "metadata": {},
   "outputs": [],
   "source": [
    "# преобразование данных о времени\n",
    "marketing['start_dt'] = pd.to_datetime(marketing['start_dt'])\n",
    "marketing['finish_dt'] = pd.to_datetime(marketing['finish_dt'])\n",
    "users['first_date'] = pd.to_datetime(users['first_date'])\n",
    "events['event_dt'] = pd.to_datetime(events['event_dt'])"
   ]
  },
  {
   "cell_type": "markdown",
   "id": "d891e00a",
   "metadata": {},
   "source": [
    "#### Пропуски"
   ]
  },
  {
   "cell_type": "markdown",
   "id": "d049b381",
   "metadata": {},
   "source": [
    "Посмотрим на пропуски."
   ]
  },
  {
   "cell_type": "code",
   "execution_count": 12,
   "id": "79d01eb4",
   "metadata": {},
   "outputs": [
    {
     "name": "stdout",
     "output_type": "stream",
     "text": [
      "name        0.00\n",
      "regions     0.00\n",
      "start_dt    0.00\n",
      "finish_dt   0.00\n",
      "dtype: float64\n",
      "   \n",
      "user_id      0.00\n",
      "first_date   0.00\n",
      "region       0.00\n",
      "device       0.00\n",
      "dtype: float64\n",
      "   \n",
      "user_id      0.00\n",
      "event_dt     0.00\n",
      "event_name   0.00\n",
      "details      0.86\n",
      "dtype: float64\n",
      "   \n",
      "user_id   0.00\n",
      "group     0.00\n",
      "ab_test   0.00\n",
      "dtype: float64\n",
      "   \n"
     ]
    }
   ],
   "source": [
    "for df in dfs:\n",
    "    print(df.isna().mean()) \n",
    "    print(\"   \")"
   ]
  },
  {
   "cell_type": "markdown",
   "id": "39a669f6",
   "metadata": {},
   "source": [
    "Прорущенные значения имеются только в events (все события новых пользователей в период с 7 декабря 2020 по 4 января 2021 года). details (дополнительные данные о событии). B техзадании сказано, что \"например, для покупок, purchase, в этом поле хранится стоимость покупки в долларах\". Похоже, что оно заполнено как раз только для покупок, а для остальных событий там пропуски. Проверим."
   ]
  },
  {
   "cell_type": "code",
   "execution_count": 13,
   "id": "5713f505",
   "metadata": {},
   "outputs": [
    {
     "data": {
      "text/plain": [
       "0"
      ]
     },
     "execution_count": 13,
     "metadata": {},
     "output_type": "execute_result"
    }
   ],
   "source": [
    "events[events['event_name'] == 'purchase']['details'].isna().sum()"
   ]
  },
  {
   "cell_type": "markdown",
   "id": "eb104807",
   "metadata": {},
   "source": [
    "У всех покупок есть информация о стоимости, там нет пропусков."
   ]
  },
  {
   "cell_type": "code",
   "execution_count": 14,
   "id": "e625fc22",
   "metadata": {},
   "outputs": [
    {
     "data": {
      "text/plain": [
       "0"
      ]
     },
     "execution_count": 14,
     "metadata": {},
     "output_type": "execute_result"
    }
   ],
   "source": [
    "events[events['event_name'] != 'purchase']['details'].count()"
   ]
  },
  {
   "cell_type": "code",
   "execution_count": 15,
   "id": "919433a4",
   "metadata": {},
   "outputs": [
    {
     "data": {
      "text/plain": [
       "array(['product_cart', 'product_page', 'login'], dtype=object)"
      ]
     },
     "execution_count": 15,
     "metadata": {},
     "output_type": "execute_result"
    }
   ],
   "source": [
    "events[events['details'] != events['details']]['event_name'].unique()"
   ]
  },
  {
   "cell_type": "markdown",
   "id": "f0a08e84",
   "metadata": {},
   "source": [
    "У остальных трех действий (product_cart, product_page, login) нет дополнительной информации, и там стоят пропуски. Возможно, этот столбец и задумывался как информация только для стоимости покупок, если таковые были. Мы не будем их заменять, чтобы не искажать данные."
   ]
  },
  {
   "cell_type": "markdown",
   "id": "d22dfa0b",
   "metadata": {},
   "source": [
    "#### Дубликаты"
   ]
  },
  {
   "cell_type": "code",
   "execution_count": 16,
   "id": "340bb9b4",
   "metadata": {},
   "outputs": [
    {
     "name": "stdout",
     "output_type": "stream",
     "text": [
      "duplicates: 0\n",
      "duplicates: 0\n",
      "duplicates: 0\n",
      "duplicates: 0\n"
     ]
    }
   ],
   "source": [
    "for df in dfs:\n",
    "    print('duplicates:', df.duplicated().sum()) # вывод количества дубликатов"
   ]
  },
  {
   "cell_type": "markdown",
   "id": "24db9443",
   "metadata": {},
   "source": [
    "Мы ознакомились с данными:\n",
    "\n",
    "- У нас 4 датасета \n",
    "- Мы преобразовали даты в корректный тип данных\n",
    "- Обнаружены пропуски в датасете events в details (дополнительные данные о событии). Данные есть только для всех покупок, а для остальных событий нет дополнительной информации. Пропуски мы оставили без изменений.\n",
    "- Дубликатов не было обнаружено"
   ]
  },
  {
   "cell_type": "markdown",
   "id": "2ac6f78e",
   "metadata": {},
   "source": [
    "### Исследовательский анализ данных"
   ]
  },
  {
   "cell_type": "markdown",
   "id": "4c14f604",
   "metadata": {},
   "source": [
    "#### Общая информация"
   ]
  },
  {
   "cell_type": "markdown",
   "id": "61b649a4",
   "metadata": {},
   "source": [
    "Посмотрим общую информацию о событиях."
   ]
  },
  {
   "cell_type": "code",
   "execution_count": 17,
   "id": "a8b28841",
   "metadata": {},
   "outputs": [
    {
     "name": "stdout",
     "output_type": "stream",
     "text": [
      "всего разных видов событий: 4\n"
     ]
    }
   ],
   "source": [
    "print('всего разных видов событий:', events['event_name'].nunique())"
   ]
  },
  {
   "cell_type": "code",
   "execution_count": 18,
   "id": "e290070e",
   "metadata": {},
   "outputs": [
    {
     "name": "stdout",
     "output_type": "stream",
     "text": [
      "всего событий: 440317\n"
     ]
    }
   ],
   "source": [
    "print('всего событий:', events['event_name'].count())"
   ]
  },
  {
   "cell_type": "code",
   "execution_count": 19,
   "id": "63cd54c9",
   "metadata": {},
   "outputs": [
    {
     "name": "stdout",
     "output_type": "stream",
     "text": [
      "всего уникальных пользователей: 58703\n"
     ]
    }
   ],
   "source": [
    "print('всего уникальных пользователей:', events['user_id'].nunique())"
   ]
  },
  {
   "cell_type": "code",
   "execution_count": 20,
   "id": "829ece55",
   "metadata": {},
   "outputs": [
    {
     "name": "stdout",
     "output_type": "stream",
     "text": [
      "минимальная дата событий: 2020-12-07 00:00:33\n",
      "максимальная дата событий: 2020-12-30 23:36:33\n"
     ]
    }
   ],
   "source": [
    "# минимальная и максимальная дата \n",
    "print('минимальная дата событий:', events['event_dt'].min())\n",
    "print('максимальная дата событий:', events['event_dt'].max())"
   ]
  },
  {
   "cell_type": "markdown",
   "id": "65399291",
   "metadata": {},
   "source": [
    "Данные у нас с 7 декабря по 30 декабря, а не как указано в описании к данным \"все события новых пользователей в период с 7 декабря 2020 по 4 января 2021 года\". То есть у нас меньше информации, чем предполагалось. Возможно, это связано с ошибкой в выгрузке."
   ]
  },
  {
   "cell_type": "markdown",
   "id": "f672441d",
   "metadata": {},
   "source": [
    "#### Подготовка кумулятивных таблиц "
   ]
  },
  {
   "cell_type": "markdown",
   "id": "d0a41ab5",
   "metadata": {},
   "source": [
    "Объединим датасет по событием с информацией о пользователях. Далее, сделаем срез по аудитории в соответствии с техзаданием, по  региону EU."
   ]
  },
  {
   "cell_type": "code",
   "execution_count": 21,
   "id": "b3e7764d",
   "metadata": {},
   "outputs": [],
   "source": [
    "total_all = events.merge(users, how='left', on='user_id')"
   ]
  },
  {
   "cell_type": "code",
   "execution_count": 22,
   "id": "9b6a51b3",
   "metadata": {},
   "outputs": [],
   "source": [
    "total = total_all[total_all['region']=='EU']"
   ]
  },
  {
   "cell_type": "code",
   "execution_count": 23,
   "id": "dd6ca446",
   "metadata": {},
   "outputs": [
    {
     "data": {
      "text/html": [
       "<div>\n",
       "<style scoped>\n",
       "    .dataframe tbody tr th:only-of-type {\n",
       "        vertical-align: middle;\n",
       "    }\n",
       "\n",
       "    .dataframe tbody tr th {\n",
       "        vertical-align: top;\n",
       "    }\n",
       "\n",
       "    .dataframe thead th {\n",
       "        text-align: right;\n",
       "    }\n",
       "</style>\n",
       "<table border=\"1\" class=\"dataframe\">\n",
       "  <thead>\n",
       "    <tr style=\"text-align: right;\">\n",
       "      <th></th>\n",
       "      <th>user_id</th>\n",
       "      <th>event_dt</th>\n",
       "      <th>event_name</th>\n",
       "      <th>details</th>\n",
       "      <th>first_date</th>\n",
       "      <th>region</th>\n",
       "      <th>device</th>\n",
       "    </tr>\n",
       "  </thead>\n",
       "  <tbody>\n",
       "    <tr>\n",
       "      <th>1</th>\n",
       "      <td>7B6452F081F49504</td>\n",
       "      <td>2020-12-07 09:22:53</td>\n",
       "      <td>purchase</td>\n",
       "      <td>9.99</td>\n",
       "      <td>2020-12-07</td>\n",
       "      <td>EU</td>\n",
       "      <td>iPhone</td>\n",
       "    </tr>\n",
       "    <tr>\n",
       "      <th>3</th>\n",
       "      <td>96F27A054B191457</td>\n",
       "      <td>2020-12-07 04:02:40</td>\n",
       "      <td>purchase</td>\n",
       "      <td>4.99</td>\n",
       "      <td>2020-12-07</td>\n",
       "      <td>EU</td>\n",
       "      <td>iPhone</td>\n",
       "    </tr>\n",
       "    <tr>\n",
       "      <th>4</th>\n",
       "      <td>1FD7660FDF94CA1F</td>\n",
       "      <td>2020-12-07 10:15:09</td>\n",
       "      <td>purchase</td>\n",
       "      <td>4.99</td>\n",
       "      <td>2020-12-07</td>\n",
       "      <td>EU</td>\n",
       "      <td>Android</td>\n",
       "    </tr>\n",
       "    <tr>\n",
       "      <th>5</th>\n",
       "      <td>831887FE7F2D6CBA</td>\n",
       "      <td>2020-12-07 06:50:29</td>\n",
       "      <td>purchase</td>\n",
       "      <td>4.99</td>\n",
       "      <td>2020-12-07</td>\n",
       "      <td>EU</td>\n",
       "      <td>Android</td>\n",
       "    </tr>\n",
       "    <tr>\n",
       "      <th>6</th>\n",
       "      <td>6B2F726BFD5F8220</td>\n",
       "      <td>2020-12-07 11:27:42</td>\n",
       "      <td>purchase</td>\n",
       "      <td>4.99</td>\n",
       "      <td>2020-12-07</td>\n",
       "      <td>EU</td>\n",
       "      <td>Android</td>\n",
       "    </tr>\n",
       "    <tr>\n",
       "      <th>...</th>\n",
       "      <td>...</td>\n",
       "      <td>...</td>\n",
       "      <td>...</td>\n",
       "      <td>...</td>\n",
       "      <td>...</td>\n",
       "      <td>...</td>\n",
       "      <td>...</td>\n",
       "    </tr>\n",
       "    <tr>\n",
       "      <th>440312</th>\n",
       "      <td>245E85F65C358E08</td>\n",
       "      <td>2020-12-30 19:35:55</td>\n",
       "      <td>login</td>\n",
       "      <td>NaN</td>\n",
       "      <td>2020-12-07</td>\n",
       "      <td>EU</td>\n",
       "      <td>Android</td>\n",
       "    </tr>\n",
       "    <tr>\n",
       "      <th>440313</th>\n",
       "      <td>9385A108F5A0A7A7</td>\n",
       "      <td>2020-12-30 10:54:15</td>\n",
       "      <td>login</td>\n",
       "      <td>NaN</td>\n",
       "      <td>2020-12-07</td>\n",
       "      <td>EU</td>\n",
       "      <td>PC</td>\n",
       "    </tr>\n",
       "    <tr>\n",
       "      <th>440314</th>\n",
       "      <td>DB650B7559AC6EAC</td>\n",
       "      <td>2020-12-30 10:59:09</td>\n",
       "      <td>login</td>\n",
       "      <td>NaN</td>\n",
       "      <td>2020-12-07</td>\n",
       "      <td>EU</td>\n",
       "      <td>Android</td>\n",
       "    </tr>\n",
       "    <tr>\n",
       "      <th>440315</th>\n",
       "      <td>F80C9BDDEA02E53C</td>\n",
       "      <td>2020-12-30 09:53:39</td>\n",
       "      <td>login</td>\n",
       "      <td>NaN</td>\n",
       "      <td>2020-12-07</td>\n",
       "      <td>EU</td>\n",
       "      <td>iPhone</td>\n",
       "    </tr>\n",
       "    <tr>\n",
       "      <th>440316</th>\n",
       "      <td>7AEC61159B672CC5</td>\n",
       "      <td>2020-12-30 11:36:13</td>\n",
       "      <td>login</td>\n",
       "      <td>NaN</td>\n",
       "      <td>2020-12-07</td>\n",
       "      <td>EU</td>\n",
       "      <td>iPhone</td>\n",
       "    </tr>\n",
       "  </tbody>\n",
       "</table>\n",
       "<p>327095 rows × 7 columns</p>\n",
       "</div>"
      ],
      "text/plain": [
       "                 user_id            event_dt event_name  details first_date  \\\n",
       "1       7B6452F081F49504 2020-12-07 09:22:53   purchase     9.99 2020-12-07   \n",
       "3       96F27A054B191457 2020-12-07 04:02:40   purchase     4.99 2020-12-07   \n",
       "4       1FD7660FDF94CA1F 2020-12-07 10:15:09   purchase     4.99 2020-12-07   \n",
       "5       831887FE7F2D6CBA 2020-12-07 06:50:29   purchase     4.99 2020-12-07   \n",
       "6       6B2F726BFD5F8220 2020-12-07 11:27:42   purchase     4.99 2020-12-07   \n",
       "...                  ...                 ...        ...      ...        ...   \n",
       "440312  245E85F65C358E08 2020-12-30 19:35:55      login      NaN 2020-12-07   \n",
       "440313  9385A108F5A0A7A7 2020-12-30 10:54:15      login      NaN 2020-12-07   \n",
       "440314  DB650B7559AC6EAC 2020-12-30 10:59:09      login      NaN 2020-12-07   \n",
       "440315  F80C9BDDEA02E53C 2020-12-30 09:53:39      login      NaN 2020-12-07   \n",
       "440316  7AEC61159B672CC5 2020-12-30 11:36:13      login      NaN 2020-12-07   \n",
       "\n",
       "       region   device  \n",
       "1          EU   iPhone  \n",
       "3          EU   iPhone  \n",
       "4          EU  Android  \n",
       "5          EU  Android  \n",
       "6          EU  Android  \n",
       "...       ...      ...  \n",
       "440312     EU  Android  \n",
       "440313     EU       PC  \n",
       "440314     EU  Android  \n",
       "440315     EU   iPhone  \n",
       "440316     EU   iPhone  \n",
       "\n",
       "[327095 rows x 7 columns]"
      ]
     },
     "execution_count": 23,
     "metadata": {},
     "output_type": "execute_result"
    }
   ],
   "source": [
    "total"
   ]
  },
  {
   "cell_type": "markdown",
   "id": "81fc38de",
   "metadata": {},
   "source": [
    "Посмотрим на датасет с участниками эксперимента и проверим, нет ли пользователей, оказавшихся в разных тестовых группах (помним, что полных дубликатов не было)."
   ]
  },
  {
   "cell_type": "code",
   "execution_count": 24,
   "id": "5584e2f9",
   "metadata": {},
   "outputs": [
    {
     "data": {
      "text/plain": [
       "False    16666\n",
       "True      1602\n",
       "Name: user_id, dtype: int64"
      ]
     },
     "execution_count": 24,
     "metadata": {},
     "output_type": "execute_result"
    }
   ],
   "source": [
    "participants['user_id'].duplicated().value_counts() "
   ]
  },
  {
   "cell_type": "code",
   "execution_count": 25,
   "id": "4a02bb16",
   "metadata": {},
   "outputs": [
    {
     "data": {
      "text/plain": [
       "False    17442\n",
       "True       826\n",
       "dtype: int64"
      ]
     },
     "execution_count": 25,
     "metadata": {},
     "output_type": "execute_result"
    }
   ],
   "source": [
    "participants[['user_id', 'group']].duplicated().value_counts() "
   ]
  },
  {
   "cell_type": "code",
   "execution_count": 26,
   "id": "58a7ea0f",
   "metadata": {},
   "outputs": [
    {
     "data": {
      "text/plain": [
       "False    18268\n",
       "dtype: int64"
      ]
     },
     "execution_count": 26,
     "metadata": {},
     "output_type": "execute_result"
    }
   ],
   "source": [
    "participants[['user_id', 'ab_test']].duplicated().value_counts() "
   ]
  },
  {
   "cell_type": "code",
   "execution_count": 27,
   "id": "1c90ff34",
   "metadata": {},
   "outputs": [
    {
     "data": {
      "text/html": [
       "<div>\n",
       "<style scoped>\n",
       "    .dataframe tbody tr th:only-of-type {\n",
       "        vertical-align: middle;\n",
       "    }\n",
       "\n",
       "    .dataframe tbody tr th {\n",
       "        vertical-align: top;\n",
       "    }\n",
       "\n",
       "    .dataframe thead th {\n",
       "        text-align: right;\n",
       "    }\n",
       "</style>\n",
       "<table border=\"1\" class=\"dataframe\">\n",
       "  <thead>\n",
       "    <tr style=\"text-align: right;\">\n",
       "      <th></th>\n",
       "      <th>user_id</th>\n",
       "      <th>group</th>\n",
       "      <th>ab_test</th>\n",
       "    </tr>\n",
       "  </thead>\n",
       "  <tbody>\n",
       "    <tr>\n",
       "      <th>17892</th>\n",
       "      <td>001064FEAAB631A1</td>\n",
       "      <td>B</td>\n",
       "      <td>interface_eu_test</td>\n",
       "    </tr>\n",
       "    <tr>\n",
       "      <th>235</th>\n",
       "      <td>001064FEAAB631A1</td>\n",
       "      <td>B</td>\n",
       "      <td>recommender_system_test</td>\n",
       "    </tr>\n",
       "    <tr>\n",
       "      <th>16961</th>\n",
       "      <td>00341D8401F0F665</td>\n",
       "      <td>A</td>\n",
       "      <td>interface_eu_test</td>\n",
       "    </tr>\n",
       "    <tr>\n",
       "      <th>2137</th>\n",
       "      <td>00341D8401F0F665</td>\n",
       "      <td>A</td>\n",
       "      <td>recommender_system_test</td>\n",
       "    </tr>\n",
       "    <tr>\n",
       "      <th>8143</th>\n",
       "      <td>003B6786B4FF5B03</td>\n",
       "      <td>A</td>\n",
       "      <td>interface_eu_test</td>\n",
       "    </tr>\n",
       "    <tr>\n",
       "      <th>...</th>\n",
       "      <td>...</td>\n",
       "      <td>...</td>\n",
       "      <td>...</td>\n",
       "    </tr>\n",
       "    <tr>\n",
       "      <th>5213</th>\n",
       "      <td>FFC53FD45DDA5EE8</td>\n",
       "      <td>B</td>\n",
       "      <td>recommender_system_test</td>\n",
       "    </tr>\n",
       "    <tr>\n",
       "      <th>5667</th>\n",
       "      <td>FFED90241D04503F</td>\n",
       "      <td>B</td>\n",
       "      <td>recommender_system_test</td>\n",
       "    </tr>\n",
       "    <tr>\n",
       "      <th>14158</th>\n",
       "      <td>FFED90241D04503F</td>\n",
       "      <td>B</td>\n",
       "      <td>interface_eu_test</td>\n",
       "    </tr>\n",
       "    <tr>\n",
       "      <th>3448</th>\n",
       "      <td>FFF28D02B1EACBE1</td>\n",
       "      <td>B</td>\n",
       "      <td>recommender_system_test</td>\n",
       "    </tr>\n",
       "    <tr>\n",
       "      <th>7238</th>\n",
       "      <td>FFF28D02B1EACBE1</td>\n",
       "      <td>A</td>\n",
       "      <td>interface_eu_test</td>\n",
       "    </tr>\n",
       "  </tbody>\n",
       "</table>\n",
       "<p>3204 rows × 3 columns</p>\n",
       "</div>"
      ],
      "text/plain": [
       "                user_id group                  ab_test\n",
       "17892  001064FEAAB631A1     B        interface_eu_test\n",
       "235    001064FEAAB631A1     B  recommender_system_test\n",
       "16961  00341D8401F0F665     A        interface_eu_test\n",
       "2137   00341D8401F0F665     A  recommender_system_test\n",
       "8143   003B6786B4FF5B03     A        interface_eu_test\n",
       "...                 ...   ...                      ...\n",
       "5213   FFC53FD45DDA5EE8     B  recommender_system_test\n",
       "5667   FFED90241D04503F     B  recommender_system_test\n",
       "14158  FFED90241D04503F     B        interface_eu_test\n",
       "3448   FFF28D02B1EACBE1     B  recommender_system_test\n",
       "7238   FFF28D02B1EACBE1     A        interface_eu_test\n",
       "\n",
       "[3204 rows x 3 columns]"
      ]
     },
     "execution_count": 27,
     "metadata": {},
     "output_type": "execute_result"
    }
   ],
   "source": [
    "participants[participants['user_id'].duplicated(keep=False)].sort_values(['user_id'])"
   ]
  },
  {
   "cell_type": "markdown",
   "id": "e37ca0a2",
   "metadata": {},
   "source": [
    "Получается, что 1602 участника побывали в обоих тестах interface_eu_test и recommender_system_test. То есть имеется пересечение тестовой аудитории с конкурирующим тестом.  \n",
    "Как плюс, отметим, что нет пользователей, которые бы в рамках одного теста побывали в группах А и B.\n",
    "\n",
    "Участников обоих тестов нужно будет исключить из анализа результатов, так как участие во втором  тесте могло иметь влияние на результаты по первому. Также оставим только тех, что участвовали в recommender_system_test, результаты которого нас интересуют в данной работе."
   ]
  },
  {
   "cell_type": "code",
   "execution_count": 28,
   "id": "cd8d423f",
   "metadata": {},
   "outputs": [],
   "source": [
    "# удаление всех пользователей, оказавшихся в обоих тестах\n",
    "participants_all=participants # оставим копию изначального датасета\n",
    "participants=participants.drop_duplicates(subset=['user_id'], keep=False)"
   ]
  },
  {
   "cell_type": "code",
   "execution_count": 29,
   "id": "da1e6346",
   "metadata": {},
   "outputs": [
    {
     "data": {
      "text/plain": [
       "(5099, 3)"
      ]
     },
     "execution_count": 29,
     "metadata": {},
     "output_type": "execute_result"
    }
   ],
   "source": [
    "# оставляем пользователей, оказавшихся в recommender_system_test\n",
    "participants = participants[participants['ab_test']=='recommender_system_test']\n",
    "participants.shape"
   ]
  },
  {
   "cell_type": "markdown",
   "id": "ca59b086",
   "metadata": {},
   "source": [
    "Всего в датасете по участникам теста 5099 участников. "
   ]
  },
  {
   "cell_type": "markdown",
   "id": "fce7c30c",
   "metadata": {},
   "source": [
    "Соединим информацию о тесте с датасетом по событиям и пользователям. Удалим стороки с пользователями, не участвовавшими в тесте recommender_system_test (т.е. те у кого получился NaN в ab_test)."
   ]
  },
  {
   "cell_type": "code",
   "execution_count": 30,
   "id": "9dce8fb1",
   "metadata": {},
   "outputs": [],
   "source": [
    "total = total.merge(participants, how='left', on='user_id')\n",
    "total = total.dropna(subset=['ab_test'])"
   ]
  },
  {
   "cell_type": "code",
   "execution_count": 31,
   "id": "c299f281",
   "metadata": {},
   "outputs": [
    {
     "name": "stdout",
     "output_type": "stream",
     "text": [
      "всего уникальных пользователей: 2594\n"
     ]
    }
   ],
   "source": [
    "print('всего уникальных пользователей:', total['user_id'].nunique())"
   ]
  },
  {
   "cell_type": "code",
   "execution_count": 32,
   "id": "3c42c6be",
   "metadata": {},
   "outputs": [
    {
     "name": "stdout",
     "output_type": "stream",
     "text": [
      "всего уникальных пользователей в группе А : 1939\n"
     ]
    }
   ],
   "source": [
    "print('всего уникальных пользователей в группе А :', total[total['group']=='A']['user_id'].nunique())"
   ]
  },
  {
   "cell_type": "code",
   "execution_count": 33,
   "id": "8a60caee",
   "metadata": {},
   "outputs": [
    {
     "name": "stdout",
     "output_type": "stream",
     "text": [
      "всего уникальных пользователей в группе В : 655\n"
     ]
    }
   ],
   "source": [
    "print('всего уникальных пользователей в группе В :', total[total['group']=='B']['user_id'].nunique())"
   ]
  },
  {
   "cell_type": "markdown",
   "id": "6055ab1a",
   "metadata": {},
   "source": [
    "В итоговой таблице участников стало гораздо меньше, 2594 (не забудем, что мы соединили информацию о тестах для пользователей, который участвовали только в одном тесте - recommender_system_test, с датасетом только по пользователям из Европы, поэтому у нас стало меньше людей) в то время как ожидаемое число участников было 6000.\n",
    "\n",
    "Заметим, что контрольная и экспериментальная группы не равны. В контрольной - 1939, а в экспериментальной - 655, то есть в три раза меньше участников."
   ]
  },
  {
   "cell_type": "code",
   "execution_count": 34,
   "id": "404b5da8",
   "metadata": {},
   "outputs": [
    {
     "name": "stdout",
     "output_type": "stream",
     "text": [
      "минимальная дата регистрации: 2020-12-07 00:00:00\n",
      "максимальная дата регистрации: 2020-12-21 00:00:00\n",
      "минимальная дата событий: 2020-12-07 00:16:00\n",
      "максимальная дата событий: 2020-12-30 06:42:52\n"
     ]
    }
   ],
   "source": [
    "# минимальная и максимальная дата \n",
    "print('минимальная дата регистрации:',total['first_date'].min())\n",
    "print('максимальная дата регистрации:', total['first_date'].max())\n",
    "# минимальная и максимальная дата \n",
    "print('минимальная дата событий:', total['event_dt'].min())\n",
    "print('максимальная дата событий:', total['event_dt'].max())"
   ]
  },
  {
   "cell_type": "markdown",
   "id": "c701e3b9",
   "metadata": {},
   "source": [
    "Даты регистрации европейских пользователей, участвовавших в эксперименте, совпадают с техзаданием, с 7 по 21 декабря. Период событий - с 7 по 30 декабря, меньше заявленного (с 7 декабря 2020 по 4 января 2021 года)."
   ]
  },
  {
   "cell_type": "markdown",
   "id": "48fbd6f8",
   "metadata": {},
   "source": [
    "#### Пользователи по странам"
   ]
  },
  {
   "cell_type": "code",
   "execution_count": 35,
   "id": "4aa5efe2",
   "metadata": {},
   "outputs": [
    {
     "data": {
      "text/html": [
       "<div>\n",
       "<style scoped>\n",
       "    .dataframe tbody tr th:only-of-type {\n",
       "        vertical-align: middle;\n",
       "    }\n",
       "\n",
       "    .dataframe tbody tr th {\n",
       "        vertical-align: top;\n",
       "    }\n",
       "\n",
       "    .dataframe thead th {\n",
       "        text-align: right;\n",
       "    }\n",
       "</style>\n",
       "<table border=\"1\" class=\"dataframe\">\n",
       "  <thead>\n",
       "    <tr style=\"text-align: right;\">\n",
       "      <th></th>\n",
       "      <th>region</th>\n",
       "      <th>total_users</th>\n",
       "      <th>%</th>\n",
       "    </tr>\n",
       "  </thead>\n",
       "  <tbody>\n",
       "    <tr>\n",
       "      <th>0</th>\n",
       "      <td>EU</td>\n",
       "      <td>43396</td>\n",
       "      <td>73.92</td>\n",
       "    </tr>\n",
       "    <tr>\n",
       "      <th>1</th>\n",
       "      <td>N.America</td>\n",
       "      <td>9051</td>\n",
       "      <td>15.42</td>\n",
       "    </tr>\n",
       "    <tr>\n",
       "      <th>2</th>\n",
       "      <td>CIS</td>\n",
       "      <td>3130</td>\n",
       "      <td>5.33</td>\n",
       "    </tr>\n",
       "    <tr>\n",
       "      <th>3</th>\n",
       "      <td>APAC</td>\n",
       "      <td>3126</td>\n",
       "      <td>5.33</td>\n",
       "    </tr>\n",
       "  </tbody>\n",
       "</table>\n",
       "</div>"
      ],
      "text/plain": [
       "      region  total_users     %\n",
       "0         EU        43396 73.92\n",
       "1  N.America         9051 15.42\n",
       "2        CIS         3130  5.33\n",
       "3       APAC         3126  5.33"
      ]
     },
     "execution_count": 35,
     "metadata": {},
     "output_type": "execute_result"
    }
   ],
   "source": [
    "regions=total_all.groupby('region')[['user_id']].agg('nunique').rename(columns={'user_id': 'total_users'})\n",
    "regions['%']=regions['total_users']/regions['total_users'].sum()*100\n",
    "regions=regions.sort_values(by='%', ascending=False).reset_index()\n",
    "regions"
   ]
  },
  {
   "cell_type": "code",
   "execution_count": 36,
   "id": "02e31b7f",
   "metadata": {},
   "outputs": [
    {
     "name": "stdout",
     "output_type": "stream",
     "text": [
      "минимальная дата регистрации: 2020-12-07 00:00:00\n",
      "максимальная дата регистрации: 2020-12-23 00:00:00\n"
     ]
    }
   ],
   "source": [
    "print('минимальная дата регистрации:', total_all['first_date'].min())\n",
    "print('максимальная дата регистрации:', total_all['first_date'].max())"
   ]
  },
  {
   "cell_type": "markdown",
   "id": "f65fdc66",
   "metadata": {},
   "source": [
    "В датасете по всем пользователям подавляющее большинство из Европы, 74%, но также есть 15% из Северной Америки и по 5% из СНГ и Азиатско-Тихоокеанского региона. В техзадании сказано, что это зарегистрировавшиеся в интернет-магазине в период с 7 по 21 декабря 2020 года, однако мы видим, что на самом деле что регистрации по 23 декабря. Кажется, что данные собраны не совсем аккуратно."
   ]
  },
  {
   "cell_type": "code",
   "execution_count": 37,
   "id": "c089076f",
   "metadata": {},
   "outputs": [],
   "source": [
    "# соединим датасеты так, чтобы получить информацию о всех пользователях, что изначально были в датасете participants\n",
    "total_all=total_all.merge(participants_all, how='right', on='user_id') \n",
    "regions_test=total_all[total_all['ab_test']=='recommender_system_test'].groupby(\n",
    "    'region')[['user_id']].agg('nunique').rename(columns={'user_id': 'total_users'}).reset_index()"
   ]
  },
  {
   "cell_type": "code",
   "execution_count": 38,
   "id": "5b9c097b",
   "metadata": {
    "scrolled": true
   },
   "outputs": [
    {
     "data": {
      "text/html": [
       "<div>\n",
       "<style scoped>\n",
       "    .dataframe tbody tr th:only-of-type {\n",
       "        vertical-align: middle;\n",
       "    }\n",
       "\n",
       "    .dataframe tbody tr th {\n",
       "        vertical-align: top;\n",
       "    }\n",
       "\n",
       "    .dataframe thead th {\n",
       "        text-align: right;\n",
       "    }\n",
       "</style>\n",
       "<table border=\"1\" class=\"dataframe\">\n",
       "  <thead>\n",
       "    <tr style=\"text-align: right;\">\n",
       "      <th></th>\n",
       "      <th>region</th>\n",
       "      <th>total_users_data</th>\n",
       "      <th>%</th>\n",
       "      <th>total_users_test</th>\n",
       "      <th>%test_from_all</th>\n",
       "    </tr>\n",
       "  </thead>\n",
       "  <tbody>\n",
       "    <tr>\n",
       "      <th>0</th>\n",
       "      <td>EU</td>\n",
       "      <td>43396</td>\n",
       "      <td>73.92</td>\n",
       "      <td>3481</td>\n",
       "      <td>8.02</td>\n",
       "    </tr>\n",
       "    <tr>\n",
       "      <th>1</th>\n",
       "      <td>N.America</td>\n",
       "      <td>9051</td>\n",
       "      <td>15.42</td>\n",
       "      <td>119</td>\n",
       "      <td>1.31</td>\n",
       "    </tr>\n",
       "    <tr>\n",
       "      <th>2</th>\n",
       "      <td>CIS</td>\n",
       "      <td>3130</td>\n",
       "      <td>5.33</td>\n",
       "      <td>30</td>\n",
       "      <td>0.96</td>\n",
       "    </tr>\n",
       "    <tr>\n",
       "      <th>3</th>\n",
       "      <td>APAC</td>\n",
       "      <td>3126</td>\n",
       "      <td>5.33</td>\n",
       "      <td>45</td>\n",
       "      <td>1.44</td>\n",
       "    </tr>\n",
       "  </tbody>\n",
       "</table>\n",
       "</div>"
      ],
      "text/plain": [
       "      region  total_users_data     %  total_users_test  %test_from_all\n",
       "0         EU             43396 73.92              3481            8.02\n",
       "1  N.America              9051 15.42               119            1.31\n",
       "2        CIS              3130  5.33                30            0.96\n",
       "3       APAC              3126  5.33                45            1.44"
      ]
     },
     "execution_count": 38,
     "metadata": {},
     "output_type": "execute_result"
    }
   ],
   "source": [
    "regions_test=regions.merge(regions_test, on='region', how='left', suffixes=('_data', '_test'))\n",
    "regions_test['%test_from_all']=regions_test['total_users_test']/regions_test['total_users_data']*100\n",
    "regions_test"
   ]
  },
  {
   "cell_type": "markdown",
   "id": "c7ca7e85",
   "metadata": {},
   "source": [
    "Что касается процента новых пользователей, поучаствовавших в тесте, из Европы их оказалось 8%, а не 15%  как ожидалось от теста. Примерно по проценту пользователей из других регионов также попали в тест, и скорее всего так не было задумано.\n",
    "Необходимо проверить, не было ли проблем с распределением трафика."
   ]
  },
  {
   "cell_type": "code",
   "execution_count": 39,
   "id": "f0d79ff5",
   "metadata": {},
   "outputs": [],
   "source": [
    "# Код ревьюера\n",
    "test_name = 'recommender_system_test'\n",
    "\n",
    "test_participants = participants_all[participants_all['ab_test'] == test_name]\n",
    "new_users = users[users['user_id'].isin(test_participants['user_id'])].reset_index(drop = True)\n",
    "events = events[events['user_id'].isin(test_participants['user_id'])].reset_index(drop = True)"
   ]
  },
  {
   "cell_type": "code",
   "execution_count": 40,
   "id": "d631b4a0",
   "metadata": {},
   "outputs": [
    {
     "data": {
      "text/html": [
       "<div>\n",
       "<style scoped>\n",
       "    .dataframe tbody tr th:only-of-type {\n",
       "        vertical-align: middle;\n",
       "    }\n",
       "\n",
       "    .dataframe tbody tr th {\n",
       "        vertical-align: top;\n",
       "    }\n",
       "\n",
       "    .dataframe thead th {\n",
       "        text-align: right;\n",
       "    }\n",
       "</style>\n",
       "<table border=\"1\" class=\"dataframe\">\n",
       "  <thead>\n",
       "    <tr style=\"text-align: right;\">\n",
       "      <th></th>\n",
       "      <th>Участники</th>\n",
       "      <th>% участников</th>\n",
       "    </tr>\n",
       "    <tr>\n",
       "      <th>region</th>\n",
       "      <th></th>\n",
       "      <th></th>\n",
       "    </tr>\n",
       "  </thead>\n",
       "  <tbody>\n",
       "    <tr>\n",
       "      <th>EU</th>\n",
       "      <td>6351</td>\n",
       "      <td>0.95</td>\n",
       "    </tr>\n",
       "    <tr>\n",
       "      <th>N.America</th>\n",
       "      <td>223</td>\n",
       "      <td>0.03</td>\n",
       "    </tr>\n",
       "    <tr>\n",
       "      <th>APAC</th>\n",
       "      <td>72</td>\n",
       "      <td>0.01</td>\n",
       "    </tr>\n",
       "    <tr>\n",
       "      <th>CIS</th>\n",
       "      <td>55</td>\n",
       "      <td>0.01</td>\n",
       "    </tr>\n",
       "  </tbody>\n",
       "</table>\n",
       "</div>"
      ],
      "text/plain": [
       "           Участники  % участников\n",
       "region                            \n",
       "EU              6351          0.95\n",
       "N.America        223          0.03\n",
       "APAC              72          0.01\n",
       "CIS               55          0.01"
      ]
     },
     "execution_count": 40,
     "metadata": {},
     "output_type": "execute_result"
    }
   ],
   "source": [
    "# Код ревьюера\n",
    "report = new_users.groupby('region').agg({'user_id': 'nunique'}).rename(columns = {'user_id': 'Участники'})\n",
    "report['% участников'] = (report['Участники'] / report['Участники'].sum()).round(2)\n",
    "report.sort_values(by = 'Участники', ascending = False)"
   ]
  },
  {
   "cell_type": "code",
   "execution_count": 41,
   "id": "9f7a5a9b",
   "metadata": {},
   "outputs": [
    {
     "data": {
      "text/plain": [
       "0.21706141699989748"
      ]
     },
     "execution_count": 41,
     "metadata": {},
     "output_type": "execute_result"
    }
   ],
   "source": [
    "eu_test_users = new_users.query('region == \"EU\"').shape[0]\n",
    "eu_users = users.query('region == \"EU\" and first_date >= \"2020-12-07 00:00:00\" and first_date <= \"2020-12-17 06:42:52\"').shape[0]\n",
    "eu_test_users / eu_users"
   ]
  },
  {
   "cell_type": "markdown",
   "id": "e3ed9ef0",
   "metadata": {},
   "source": [
    "Что касается процента новых пользователей, поучаствовавших в тесте, из Европы их оказалось 22%, а не 15% как ожидалось от теста. Необходимо проверить, не было ли проблем с распределением трафика."
   ]
  },
  {
   "cell_type": "markdown",
   "id": "344f9db1",
   "metadata": {},
   "source": [
    "#### Пользователи по времени регистрации"
   ]
  },
  {
   "cell_type": "code",
   "execution_count": 42,
   "id": "2c02ff66",
   "metadata": {},
   "outputs": [
    {
     "name": "stdout",
     "output_type": "stream",
     "text": [
      "максимальная дата событий: 2020-12-30 06:42:52\n"
     ]
    }
   ],
   "source": [
    "print('максимальная дата событий:', total['event_dt'].max())"
   ]
  },
  {
   "cell_type": "markdown",
   "id": "450bec3d",
   "metadata": {},
   "source": [
    "Так как ожидаемый эффект от теста, что за 14 дней с момента регистрации в системе пользователи покажут улучшение каждой метрики не менее, чем на 10%, необходимо исключить из анализа тех, для кого прошло менее 14 дней со дня регистрации. Наши данные данные заканчиваются 30-ого декабря в 06:42:52, поэтому последний день для регистрации для 14 дней \"возраста на сайте\" это 17-ое декабря в 06:42:52."
   ]
  },
  {
   "cell_type": "code",
   "execution_count": 43,
   "id": "2ac2b10a",
   "metadata": {},
   "outputs": [
    {
     "name": "stdout",
     "output_type": "stream",
     "text": [
      "всего уникальных пользователей: 2594\n"
     ]
    }
   ],
   "source": [
    "print('всего уникальных пользователей:', total['user_id'].nunique())"
   ]
  },
  {
   "cell_type": "code",
   "execution_count": 44,
   "id": "e602a05d",
   "metadata": {},
   "outputs": [
    {
     "name": "stdout",
     "output_type": "stream",
     "text": [
      "всего уникальных пользователей, для которых прошло не менее 14 дней со дня регистрации: 1591\n"
     ]
    }
   ],
   "source": [
    "print('всего уникальных пользователей, для которых прошло не менее 14 дней со дня регистрации:', total[total['first_date']<='2020-12-17 06:42:52']['user_id'].nunique())"
   ]
  },
  {
   "cell_type": "code",
   "execution_count": 45,
   "id": "617ee612",
   "metadata": {},
   "outputs": [
    {
     "name": "stdout",
     "output_type": "stream",
     "text": [
      "всего пользователей, для которых прошло меньше 14 дней со дня регистрации: 1003\n"
     ]
    }
   ],
   "source": [
    "print('всего пользователей, для которых прошло меньше 14 дней со дня регистрации:', (\n",
    "    total['user_id'].nunique())-(total[total['first_date']<='2020-12-17 06:42:52']['user_id'].nunique()))"
   ]
  },
  {
   "cell_type": "code",
   "execution_count": 46,
   "id": "b21a6be9",
   "metadata": {},
   "outputs": [],
   "source": [
    "total=total[total['first_date']<='2020-12-17 06:42:52']"
   ]
  },
  {
   "cell_type": "code",
   "execution_count": 47,
   "id": "21d27de8",
   "metadata": {},
   "outputs": [
    {
     "name": "stdout",
     "output_type": "stream",
     "text": [
      "всего уникальных пользователей в группе А : 1115\n"
     ]
    }
   ],
   "source": [
    "print('всего уникальных пользователей в группе А :', total[total['group']=='A']['user_id'].nunique())"
   ]
  },
  {
   "cell_type": "code",
   "execution_count": 48,
   "id": "df9a1b93",
   "metadata": {},
   "outputs": [
    {
     "name": "stdout",
     "output_type": "stream",
     "text": [
      "всего уникальных пользователей в группе В : 476\n"
     ]
    }
   ],
   "source": [
    "print('всего уникальных пользователей в группе В :', total[total['group']=='B']['user_id'].nunique())"
   ]
  },
  {
   "cell_type": "markdown",
   "id": "54a97bb3",
   "metadata": {},
   "source": [
    "Таким образом, количество пользователей уменьшилось еще больше, и стало равно 1591, количество по группам - в А 1115, в В - 476. Заметим, что итоговые контрольная и экспериментальная группы не равны. "
   ]
  },
  {
   "cell_type": "markdown",
   "id": "8bad3f7e",
   "metadata": {},
   "source": [
    "#### Присутствуют ли в выборках одни и те же пользователи?"
   ]
  },
  {
   "cell_type": "markdown",
   "id": "f2563912",
   "metadata": {},
   "source": [
    "Убедимся еще раз, что в выборках пользователи не повторяются."
   ]
  },
  {
   "cell_type": "code",
   "execution_count": 49,
   "id": "dae52359",
   "metadata": {},
   "outputs": [
    {
     "data": {
      "text/plain": [
       "False    5099\n",
       "dtype: int64"
      ]
     },
     "execution_count": 49,
     "metadata": {},
     "output_type": "execute_result"
    }
   ],
   "source": [
    "participants[['user_id', 'group']].duplicated().value_counts() "
   ]
  },
  {
   "cell_type": "markdown",
   "id": "cd44f2e1",
   "metadata": {},
   "source": [
    "Пользователей с одинаковым id и принадлежащим обоим группам не обнаружено."
   ]
  },
  {
   "cell_type": "markdown",
   "id": "18e82d48",
   "metadata": {},
   "source": [
    "#### Есть ли в данных ещё какие-то особенности, которые нужно учесть, прежде чем приступать к A/B-тестированию?"
   ]
  },
  {
   "cell_type": "markdown",
   "id": "303c66aa",
   "metadata": {},
   "source": [
    "#### Cтруктура трафика"
   ]
  },
  {
   "cell_type": "markdown",
   "id": "a4e495ad",
   "metadata": {},
   "source": [
    "Посмотрим на структуру трафика, т.е. с каких устройств приходят пользователи."
   ]
  },
  {
   "cell_type": "code",
   "execution_count": 50,
   "id": "566285f5",
   "metadata": {},
   "outputs": [
    {
     "data": {
      "text/html": [
       "<div>\n",
       "<style scoped>\n",
       "    .dataframe tbody tr th:only-of-type {\n",
       "        vertical-align: middle;\n",
       "    }\n",
       "\n",
       "    .dataframe tbody tr th {\n",
       "        vertical-align: top;\n",
       "    }\n",
       "\n",
       "    .dataframe thead th {\n",
       "        text-align: right;\n",
       "    }\n",
       "</style>\n",
       "<table border=\"1\" class=\"dataframe\">\n",
       "  <thead>\n",
       "    <tr style=\"text-align: right;\">\n",
       "      <th></th>\n",
       "      <th></th>\n",
       "      <th>device</th>\n",
       "      <th>%device</th>\n",
       "    </tr>\n",
       "    <tr>\n",
       "      <th>group</th>\n",
       "      <th>device</th>\n",
       "      <th></th>\n",
       "      <th></th>\n",
       "    </tr>\n",
       "  </thead>\n",
       "  <tbody>\n",
       "    <tr>\n",
       "      <th rowspan=\"4\" valign=\"top\">A</th>\n",
       "      <th>Android</th>\n",
       "      <td>3547</td>\n",
       "      <td>43.84</td>\n",
       "    </tr>\n",
       "    <tr>\n",
       "      <th>Mac</th>\n",
       "      <td>754</td>\n",
       "      <td>9.32</td>\n",
       "    </tr>\n",
       "    <tr>\n",
       "      <th>PC</th>\n",
       "      <td>2132</td>\n",
       "      <td>26.35</td>\n",
       "    </tr>\n",
       "    <tr>\n",
       "      <th>iPhone</th>\n",
       "      <td>1657</td>\n",
       "      <td>20.48</td>\n",
       "    </tr>\n",
       "  </tbody>\n",
       "</table>\n",
       "</div>"
      ],
      "text/plain": [
       "               device  %device\n",
       "group device                  \n",
       "A     Android    3547    43.84\n",
       "      Mac         754     9.32\n",
       "      PC         2132    26.35\n",
       "      iPhone     1657    20.48"
      ]
     },
     "execution_count": 50,
     "metadata": {},
     "output_type": "execute_result"
    }
   ],
   "source": [
    "device=total[total['group']=='A'].groupby(['group', 'device'])[['device']].agg('count')\n",
    "device['%device']=device['device']/device['device'].sum()*100\n",
    "device"
   ]
  },
  {
   "cell_type": "code",
   "execution_count": 51,
   "id": "804ab2de",
   "metadata": {},
   "outputs": [
    {
     "data": {
      "text/html": [
       "<div>\n",
       "<style scoped>\n",
       "    .dataframe tbody tr th:only-of-type {\n",
       "        vertical-align: middle;\n",
       "    }\n",
       "\n",
       "    .dataframe tbody tr th {\n",
       "        vertical-align: top;\n",
       "    }\n",
       "\n",
       "    .dataframe thead th {\n",
       "        text-align: right;\n",
       "    }\n",
       "</style>\n",
       "<table border=\"1\" class=\"dataframe\">\n",
       "  <thead>\n",
       "    <tr style=\"text-align: right;\">\n",
       "      <th></th>\n",
       "      <th></th>\n",
       "      <th>device</th>\n",
       "      <th>%device</th>\n",
       "    </tr>\n",
       "    <tr>\n",
       "      <th>group</th>\n",
       "      <th>device</th>\n",
       "      <th></th>\n",
       "      <th></th>\n",
       "    </tr>\n",
       "  </thead>\n",
       "  <tbody>\n",
       "    <tr>\n",
       "      <th rowspan=\"4\" valign=\"top\">B</th>\n",
       "      <th>Android</th>\n",
       "      <td>1379</td>\n",
       "      <td>47.68</td>\n",
       "    </tr>\n",
       "    <tr>\n",
       "      <th>Mac</th>\n",
       "      <td>236</td>\n",
       "      <td>8.16</td>\n",
       "    </tr>\n",
       "    <tr>\n",
       "      <th>PC</th>\n",
       "      <td>633</td>\n",
       "      <td>21.89</td>\n",
       "    </tr>\n",
       "    <tr>\n",
       "      <th>iPhone</th>\n",
       "      <td>644</td>\n",
       "      <td>22.27</td>\n",
       "    </tr>\n",
       "  </tbody>\n",
       "</table>\n",
       "</div>"
      ],
      "text/plain": [
       "               device  %device\n",
       "group device                  \n",
       "B     Android    1379    47.68\n",
       "      Mac         236     8.16\n",
       "      PC          633    21.89\n",
       "      iPhone      644    22.27"
      ]
     },
     "execution_count": 51,
     "metadata": {},
     "output_type": "execute_result"
    }
   ],
   "source": [
    "device=total[total['group']=='B'].groupby(['group', 'device'])[['device']].agg('count')\n",
    "device['%device']=device['device']/device['device'].sum()*100\n",
    "device"
   ]
  },
  {
   "cell_type": "markdown",
   "id": "33ee0279",
   "metadata": {},
   "source": [
    "В целом мы можем сказать, что деление трафика выполнено скорее корректно, но в группе B на 4% больше пользователей Android и на 3% меньше PC."
   ]
  },
  {
   "cell_type": "markdown",
   "id": "a00f1780",
   "metadata": {},
   "source": [
    "#### Маркетинговые события"
   ]
  },
  {
   "cell_type": "markdown",
   "id": "546a54bd",
   "metadata": {},
   "source": [
    "Посмотрим, не повлияли ли маркетинговые события на поведения пользователей."
   ]
  },
  {
   "cell_type": "code",
   "execution_count": 52,
   "id": "5a4c0545",
   "metadata": {},
   "outputs": [
    {
     "data": {
      "text/html": [
       "<div>\n",
       "<style scoped>\n",
       "    .dataframe tbody tr th:only-of-type {\n",
       "        vertical-align: middle;\n",
       "    }\n",
       "\n",
       "    .dataframe tbody tr th {\n",
       "        vertical-align: top;\n",
       "    }\n",
       "\n",
       "    .dataframe thead th {\n",
       "        text-align: right;\n",
       "    }\n",
       "</style>\n",
       "<table border=\"1\" class=\"dataframe\">\n",
       "  <thead>\n",
       "    <tr style=\"text-align: right;\">\n",
       "      <th></th>\n",
       "      <th>name</th>\n",
       "      <th>regions</th>\n",
       "      <th>start_dt</th>\n",
       "      <th>finish_dt</th>\n",
       "    </tr>\n",
       "  </thead>\n",
       "  <tbody>\n",
       "    <tr>\n",
       "      <th>0</th>\n",
       "      <td>Christmas&amp;New Year Promo</td>\n",
       "      <td>EU, N.America</td>\n",
       "      <td>2020-12-25</td>\n",
       "      <td>2021-01-03</td>\n",
       "    </tr>\n",
       "  </tbody>\n",
       "</table>\n",
       "</div>"
      ],
      "text/plain": [
       "                       name        regions   start_dt  finish_dt\n",
       "0  Christmas&New Year Promo  EU, N.America 2020-12-25 2021-01-03"
      ]
     },
     "execution_count": 52,
     "metadata": {},
     "output_type": "execute_result"
    }
   ],
   "source": [
    "marketing[(marketing['finish_dt'] >= '2020-12-07') & (marketing[\"regions\"].str.contains(\"EU\"))]"
   ]
  },
  {
   "cell_type": "markdown",
   "id": "ac37bd85",
   "metadata": {},
   "source": [
    "Во время теста также была рождественская маркетинговая акция \"Christmas&New Year Promo\", это могло повлиять на результаты теста."
   ]
  },
  {
   "cell_type": "markdown",
   "id": "4f3dc1ef",
   "metadata": {},
   "source": [
    "#### пользователи, у которых нет событий и которые отсуствуют в файле events"
   ]
  },
  {
   "cell_type": "code",
   "execution_count": 53,
   "id": "aac0f20c",
   "metadata": {},
   "outputs": [
    {
     "data": {
      "text/plain": [
       "61733"
      ]
     },
     "execution_count": 53,
     "metadata": {},
     "output_type": "execute_result"
    }
   ],
   "source": [
    "users['user_id'].nunique()"
   ]
  },
  {
   "cell_type": "code",
   "execution_count": 54,
   "id": "59bfaafc",
   "metadata": {},
   "outputs": [
    {
     "data": {
      "text/plain": [
       "3675"
      ]
     },
     "execution_count": 54,
     "metadata": {},
     "output_type": "execute_result"
    }
   ],
   "source": [
    "events['user_id'].nunique()"
   ]
  },
  {
   "cell_type": "markdown",
   "id": "faa893cc",
   "metadata": {},
   "source": [
    "В данных о зарегистрированных пользователях почти на 3030 человек больше, чем в данных о событиях. Это может означать, что данные пользователи не совершали никаких действий в  тот период времени, за который у нас данные, либо была ошибка в выгрузке данных. Если мы считаем, что выгрузка была корректна и данные пользователи после регистрации не совершали никаких действий, стоит посмотреть на их характеристики."
   ]
  },
  {
   "cell_type": "code",
   "execution_count": 55,
   "id": "95cc9e61",
   "metadata": {},
   "outputs": [
    {
     "data": {
      "text/html": [
       "<div>\n",
       "<style scoped>\n",
       "    .dataframe tbody tr th:only-of-type {\n",
       "        vertical-align: middle;\n",
       "    }\n",
       "\n",
       "    .dataframe tbody tr th {\n",
       "        vertical-align: top;\n",
       "    }\n",
       "\n",
       "    .dataframe thead th {\n",
       "        text-align: right;\n",
       "    }\n",
       "</style>\n",
       "<table border=\"1\" class=\"dataframe\">\n",
       "  <thead>\n",
       "    <tr style=\"text-align: right;\">\n",
       "      <th></th>\n",
       "      <th>user_id</th>\n",
       "      <th>region</th>\n",
       "      <th>device</th>\n",
       "      <th>event_name</th>\n",
       "    </tr>\n",
       "  </thead>\n",
       "  <tbody>\n",
       "    <tr>\n",
       "      <th>count</th>\n",
       "      <td>58058</td>\n",
       "      <td>58058</td>\n",
       "      <td>58058</td>\n",
       "      <td>0</td>\n",
       "    </tr>\n",
       "    <tr>\n",
       "      <th>unique</th>\n",
       "      <td>58058</td>\n",
       "      <td>4</td>\n",
       "      <td>4</td>\n",
       "      <td>0</td>\n",
       "    </tr>\n",
       "    <tr>\n",
       "      <th>top</th>\n",
       "      <td>86461FDA42900EBB</td>\n",
       "      <td>EU</td>\n",
       "      <td>Android</td>\n",
       "      <td>NaN</td>\n",
       "    </tr>\n",
       "    <tr>\n",
       "      <th>freq</th>\n",
       "      <td>1</td>\n",
       "      <td>42789</td>\n",
       "      <td>25895</td>\n",
       "      <td>NaN</td>\n",
       "    </tr>\n",
       "  </tbody>\n",
       "</table>\n",
       "</div>"
      ],
      "text/plain": [
       "                 user_id region   device event_name\n",
       "count              58058  58058    58058          0\n",
       "unique             58058      4        4          0\n",
       "top     86461FDA42900EBB     EU  Android        NaN\n",
       "freq                   1  42789    25895        NaN"
      ]
     },
     "execution_count": 55,
     "metadata": {},
     "output_type": "execute_result"
    }
   ],
   "source": [
    "inactive=users.merge(events, on='user_id', how='left')\n",
    "inactive=inactive[inactive['event_name'].isna()]\n",
    "#inactive=inactive.groupby('user_id').agg({'first_date':'first', 'region':'first', 'device':'first'})\n",
    "inactive.describe(include=['object'])"
   ]
  },
  {
   "cell_type": "code",
   "execution_count": 56,
   "id": "6e79bbed",
   "metadata": {},
   "outputs": [
    {
     "data": {
      "text/plain": [
       "EU          0.75\n",
       "N.America   0.15\n",
       "CIS         0.05\n",
       "APAC        0.05\n",
       "Name: region, dtype: float64"
      ]
     },
     "execution_count": 56,
     "metadata": {},
     "output_type": "execute_result"
    }
   ],
   "source": [
    "# Все пользователи по региону\n",
    "users['region'].value_counts(normalize=True)"
   ]
  },
  {
   "cell_type": "code",
   "execution_count": 57,
   "id": "877da1c8",
   "metadata": {},
   "outputs": [
    {
     "data": {
      "text/plain": [
       "EU          0.74\n",
       "N.America   0.16\n",
       "CIS         0.05\n",
       "APAC        0.05\n",
       "Name: region, dtype: float64"
      ]
     },
     "execution_count": 57,
     "metadata": {},
     "output_type": "execute_result"
    }
   ],
   "source": [
    "# Неактивные пользователи по региону\n",
    "inactive['region'].value_counts(normalize=True)"
   ]
  },
  {
   "cell_type": "code",
   "execution_count": 58,
   "id": "e441ec97",
   "metadata": {},
   "outputs": [
    {
     "data": {
      "text/plain": [
       "Android   0.45\n",
       "PC        0.25\n",
       "iPhone    0.20\n",
       "Mac       0.10\n",
       "Name: device, dtype: float64"
      ]
     },
     "execution_count": 58,
     "metadata": {},
     "output_type": "execute_result"
    }
   ],
   "source": [
    "# Все пользователи по устройству\n",
    "users['device'].value_counts(normalize=True)"
   ]
  },
  {
   "cell_type": "code",
   "execution_count": 59,
   "id": "bb9d72a0",
   "metadata": {},
   "outputs": [
    {
     "data": {
      "text/plain": [
       "Android   0.45\n",
       "PC        0.25\n",
       "iPhone    0.20\n",
       "Mac       0.10\n",
       "Name: device, dtype: float64"
      ]
     },
     "execution_count": 59,
     "metadata": {},
     "output_type": "execute_result"
    }
   ],
   "source": [
    "# Неактивные пользователи по устройству\n",
    "inactive['device'].value_counts(normalize=True)"
   ]
  },
  {
   "cell_type": "code",
   "execution_count": 60,
   "id": "77417db4",
   "metadata": {},
   "outputs": [
    {
     "data": {
      "image/png": "[encoded data removed]",
      "text/plain": [
       "<Figure size 1080x360 with 3 Axes>"
      ]
     },
     "metadata": {
      "needs_background": "light"
     },
     "output_type": "display_data"
    }
   ],
   "source": [
    "fig, ax = plt.subplots(nrows=1, ncols=3, figsize=(15,5))\n",
    "\n",
    "ax[0].set_title('Все пользователи по региону')\n",
    "ax[0].hist(users['region'])\n",
    "\n",
    "ax[1].set_title('Все пользователи по устройству')\n",
    "ax[1].hist(users['device'])\n",
    "\n",
    "\n",
    "ax[2].set_title('Все пользователи по дате регистрации')\n",
    "ax[2].hist(users['first_date'], bins=16)\n",
    "plt.xticks(rotation=45)\n",
    "\n",
    "fig.tight_layout()"
   ]
  },
  {
   "cell_type": "code",
   "execution_count": 61,
   "id": "81e08fab",
   "metadata": {},
   "outputs": [
    {
     "data": {
      "image/png": "[encoded data removed]",
      "text/plain": [
       "<Figure size 1080x360 with 3 Axes>"
      ]
     },
     "metadata": {
      "needs_background": "light"
     },
     "output_type": "display_data"
    }
   ],
   "source": [
    "fig, ax = plt.subplots(nrows=1, ncols=3, figsize=(15,5))\n",
    "\n",
    "ax[0].set_title('Неактивные пользователи по региону')\n",
    "ax[0].hist(inactive['region'])\n",
    "\n",
    "ax[1].set_title('Неактивные пользователи по устройству')\n",
    "ax[1].hist(inactive['device'])\n",
    "\n",
    "\n",
    "ax[2].set_title('Неактивные пользователи по дате регистрации')\n",
    "ax[2].hist(inactive['first_date'], bins=14)\n",
    "plt.xticks(rotation=45)\n",
    "\n",
    "fig.tight_layout()"
   ]
  },
  {
   "cell_type": "markdown",
   "id": "99c7c740",
   "metadata": {},
   "source": [
    "Подавляющее большинство неактивных пользователей, 95% - из Европы, это на 20% больше чем распределение всех пользователей датасета по регионам.  По устройствам распределение такое же как среди всех пользователей: у 45% был Android, PC у 25%, iPhone  й 21%. По датам регистрации- больше всего неактивных пользователей пришло 12-13 декабря, но и в общем в эти даты зарегистрировалось больше людей. Глядя на графики по распределению по датам, нельзя сделать вывод, о связи даты регистрации и неактивности. Плюс у тех, кто зарегистрировался в последние дни было меньше дней, чтобы проявить автивность."
   ]
  },
  {
   "cell_type": "markdown",
   "id": "7747cc34",
   "metadata": {},
   "source": [
    "#### Выводы по соответствию техзаданию и по проведению теста"
   ]
  },
  {
   "cell_type": "markdown",
   "id": "f08611dc",
   "metadata": {},
   "source": [
    "Резюмируем проблемные моменты теста, которые мы уже обнаружили:\n",
    "\n",
    "- количество участников теста гораздо меньше запланированного: 1591. вместо 6000, это 43% от ожидаемого числа участников. Примерная оценка требуемого объема выборки - 3692 участника в каждой группе. Такое число нужно для обнаружения разницы конверсии в 10% для базовой конверсии в 30% (это примерный результат в контрольной группе по конверсиям в покупку и просмотр корзины), необходимо (https://www.evanmiller.org/ab-testing/sample-size.html#!30;80;5;10;1). Значит, у нас только 22% от необходимого числа участников.\n",
    "- количество пользователей в группах неравномерно. Группа А (1115) намного больше группы В (476), то есть более чем в 2 раза. В таком случае мы могли бы поделить группу А на две подгруппы и провести АА тест.\n",
    "- были обнаружены пользователи, участвующие также и в конкурирующем тесте (1602 участника). Они были удалены из датасета для анализа\n",
    "- информация у нас за меньший период, чем планировалось, с 2020-12-07 по 2020-12-30, вместо по 2021-01-04\n",
    "- были обнаружены пользователи (1003 человек) , с момента регистрации которых прошло меньше, на анализируемый период (т.е. по 30 декабря). Пользователи, зарегистрировавшиеся после 17 декабря были исключены из анализа.\n",
    "- внутри выборок распределение событий на пользователей не совсем одинаково, медианное значение в контрольной группе немного больше \n",
    "- период теста частично совпадает с рождественской маркетинговой акцией \"Christmas&New Year Promo\" (с 25 декабря)\n",
    "- были обнаружены пользователи (3030 человек, это 5% от всех), которые зарегистрировались но не имели ни одного события за рассматриваемый период. Это не влияет на тест, но, возможно требует дальнейшего изучения. Они отличаются от всех пользователей тем, что 95% из них из Европы, при том что в общем у нас 75% пользователей из этого региона\n",
    "\n",
    "Таким образом, данный тест нельзя назвать корректным, а потому и судить о его репрезентативности.\n",
    "В проведении теста были допущены критические ошибки, часть из которых мы постарались изолировать в исследовании (удалены пересечение с другим тестом и пользователи, с момента регистрации которых прошло меньше 14 дней), однако это стоило потери большого числа участников, что также негативно для репрезентативных результатов. Мы не можем отделить влияние маркетинговой акции, ни восполнить недостоющее количество участников, ни обеспечить равномерное распределение в группах. Анализ был сделан на имеющемся материале и к его выводам следует отнестись с большой долей сомнения. Чтобы иметь адекватный рещультат теста, необходимо провести тест заново, соблюдая требования к проведению (более подробная рекомендация будет дана в заключении)."
   ]
  },
  {
   "cell_type": "markdown",
   "id": "f5b56163",
   "metadata": {},
   "source": [
    "### Исследование воронки событий"
   ]
  },
  {
   "cell_type": "markdown",
   "id": "79860d63",
   "metadata": {},
   "source": [
    "#### Общая информация по событиям "
   ]
  },
  {
   "cell_type": "code",
   "execution_count": 62,
   "id": "a89de6d6",
   "metadata": {},
   "outputs": [
    {
     "data": {
      "text/html": [
       "<div>\n",
       "<style scoped>\n",
       "    .dataframe tbody tr th:only-of-type {\n",
       "        vertical-align: middle;\n",
       "    }\n",
       "\n",
       "    .dataframe tbody tr th {\n",
       "        vertical-align: top;\n",
       "    }\n",
       "\n",
       "    .dataframe thead th {\n",
       "        text-align: right;\n",
       "    }\n",
       "</style>\n",
       "<table border=\"1\" class=\"dataframe\">\n",
       "  <thead>\n",
       "    <tr style=\"text-align: right;\">\n",
       "      <th></th>\n",
       "      <th>count</th>\n",
       "      <th>percent</th>\n",
       "    </tr>\n",
       "    <tr>\n",
       "      <th>event_name</th>\n",
       "      <th></th>\n",
       "      <th></th>\n",
       "    </tr>\n",
       "  </thead>\n",
       "  <tbody>\n",
       "    <tr>\n",
       "      <th>login</th>\n",
       "      <td>4999</td>\n",
       "      <td>45.52</td>\n",
       "    </tr>\n",
       "    <tr>\n",
       "      <th>product_page</th>\n",
       "      <td>3067</td>\n",
       "      <td>27.93</td>\n",
       "    </tr>\n",
       "    <tr>\n",
       "      <th>product_cart</th>\n",
       "      <td>1524</td>\n",
       "      <td>13.88</td>\n",
       "    </tr>\n",
       "    <tr>\n",
       "      <th>purchase</th>\n",
       "      <td>1392</td>\n",
       "      <td>12.68</td>\n",
       "    </tr>\n",
       "  </tbody>\n",
       "</table>\n",
       "</div>"
      ],
      "text/plain": [
       "              count  percent\n",
       "event_name                  \n",
       "login          4999    45.52\n",
       "product_page   3067    27.93\n",
       "product_cart   1524    13.88\n",
       "purchase       1392    12.68"
      ]
     },
     "execution_count": 62,
     "metadata": {},
     "output_type": "execute_result"
    }
   ],
   "source": [
    "df_events=total.groupby('event_name')['event_name'].agg(['count'])\n",
    "df_events['percent']=df_events['count']/df_events['count'].sum()*100\n",
    "df_events.sort_values(by='percent', ascending=False)"
   ]
  },
  {
   "cell_type": "markdown",
   "id": "4f1e37f5",
   "metadata": {},
   "source": [
    "Всего по всем действиям видно, что самое популярное с отрывом это просто логин, заход на страницу, это почти половина всех совершенных событий. Потом по популярности идет просмотр карточек товаров, 28%, и далее одинаково около 13% от всех действий это просмотр корзины и сама покупка."
   ]
  },
  {
   "cell_type": "code",
   "execution_count": 63,
   "id": "c2a9a444",
   "metadata": {},
   "outputs": [
    {
     "data": {
      "text/html": [
       "<div>\n",
       "<style scoped>\n",
       "    .dataframe tbody tr th:only-of-type {\n",
       "        vertical-align: middle;\n",
       "    }\n",
       "\n",
       "    .dataframe tbody tr th {\n",
       "        vertical-align: top;\n",
       "    }\n",
       "\n",
       "    .dataframe thead th {\n",
       "        text-align: right;\n",
       "    }\n",
       "</style>\n",
       "<table border=\"1\" class=\"dataframe\">\n",
       "  <thead>\n",
       "    <tr style=\"text-align: right;\">\n",
       "      <th></th>\n",
       "      <th>nunique</th>\n",
       "      <th>percent_from_all</th>\n",
       "    </tr>\n",
       "    <tr>\n",
       "      <th>event_name</th>\n",
       "      <th></th>\n",
       "      <th></th>\n",
       "    </tr>\n",
       "  </thead>\n",
       "  <tbody>\n",
       "    <tr>\n",
       "      <th>login</th>\n",
       "      <td>1591</td>\n",
       "      <td>100.00</td>\n",
       "    </tr>\n",
       "    <tr>\n",
       "      <th>product_page</th>\n",
       "      <td>988</td>\n",
       "      <td>62.10</td>\n",
       "    </tr>\n",
       "    <tr>\n",
       "      <th>product_cart</th>\n",
       "      <td>489</td>\n",
       "      <td>30.74</td>\n",
       "    </tr>\n",
       "    <tr>\n",
       "      <th>purchase</th>\n",
       "      <td>465</td>\n",
       "      <td>29.23</td>\n",
       "    </tr>\n",
       "  </tbody>\n",
       "</table>\n",
       "</div>"
      ],
      "text/plain": [
       "              nunique  percent_from_all\n",
       "event_name                             \n",
       "login            1591            100.00\n",
       "product_page      988             62.10\n",
       "product_cart      489             30.74\n",
       "purchase          465             29.23"
      ]
     },
     "execution_count": 63,
     "metadata": {},
     "output_type": "execute_result"
    }
   ],
   "source": [
    "df_events_users=total.groupby('event_name')['user_id'].agg(['nunique'])\n",
    "df_events_users['percent_from_all']=df_events_users['nunique']/(total['user_id'].nunique()) *100\n",
    "df_events_users=df_events_users.sort_values(by='percent_from_all', ascending=False)\n",
    "df_events_users"
   ]
  },
  {
   "cell_type": "markdown",
   "id": "c20b82fb",
   "metadata": {},
   "source": [
    "У нас 1591 уникальный пользователей, то есть все они как минимум один раз залогинились, что и следовало ожидать.\n",
    "Второе по популярности действие - product_page, просмотр карточек товаров, совершили 62% пользователей от всех. Довольна большая разница, около 40% пользователей не заходили воообще на страницу с товарами за наблюдаемый период, при этом заходили, чтобы залогиниться.\n",
    "\n",
    "Покупку, purchase, совершили 29% пользователей, при этом в корзину, product_cart, заходили 31% от всех. Заметим, что воронка непоследовательная и некоторые пользователи пропустили это действие и могли сразу купить товар, не заходя в корзину."
   ]
  },
  {
   "cell_type": "markdown",
   "id": "8d027d4b",
   "metadata": {},
   "source": [
    "#### Как число событий распределено по дням?"
   ]
  },
  {
   "cell_type": "code",
   "execution_count": 64,
   "id": "38308670",
   "metadata": {},
   "outputs": [
    {
     "data": {
      "image/png": "[encoded data removed]",
      "text/plain": [
       "<Figure size 774.5x504 with 1 Axes>"
      ]
     },
     "metadata": {
      "needs_background": "light"
     },
     "output_type": "display_data"
    }
   ],
   "source": [
    "sns.displot(\n",
    "    total, x=total['event_dt'], hue=total['event_name'], kde=True, palette=\"viridis\", aspect=11./8.27,  height=7, element=\"step\", multiple=\"dodge\", alpha=0.5 ).set(title=\"События по дате\"); "
   ]
  },
  {
   "cell_type": "markdown",
   "id": "6e6a26ef",
   "metadata": {},
   "source": [
    "На графике мы наблюдаем всплеск активности по всем событиям с 15 декабря с пиком 18 ого декабря, это было перед началом рождественской недели в Европе. Далее наблюдается резкое и постоянное падение."
   ]
  },
  {
   "cell_type": "markdown",
   "id": "6a84b38a",
   "metadata": {},
   "source": [
    "#### Как число событий распределено по дням в зависимости от групп"
   ]
  },
  {
   "cell_type": "markdown",
   "id": "19a8f2b8",
   "metadata": {},
   "source": [
    "Посмотрим теперь на эти данные по группам теста."
   ]
  },
  {
   "cell_type": "code",
   "execution_count": 65,
   "id": "803c31b9",
   "metadata": {},
   "outputs": [
    {
     "data": {
      "image/png": "[encoded data removed]",
      "text/plain": [
       "<Figure size 1444.87x504 with 2 Axes>"
      ]
     },
     "metadata": {
      "needs_background": "light"
     },
     "output_type": "display_data"
    }
   ],
   "source": [
    "sns.displot(\n",
    "    total, x=total['event_dt'], hue=total['event_name'], col=\"group\", kde=True, palette=\"viridis\", aspect=11./8.27, element=\"step\", multiple=\"dodge\", alpha=0.5 , height=7); "
   ]
  },
  {
   "cell_type": "markdown",
   "id": "e98e84a2",
   "metadata": {},
   "source": [
    "На графике по группам видно, что динамика количество событий по дням в экспериментальной группе не испытывала такого резкого роста с 13 и всплеска событий около 18 декабря, график меньше меняется со временем, но в нем тоже наблюдается спад после 18-ого."
   ]
  },
  {
   "cell_type": "markdown",
   "id": "ff96a1a6",
   "metadata": {},
   "source": [
    "#### Конверсия в воронке на разных этапах"
   ]
  },
  {
   "cell_type": "markdown",
   "id": "04b46378",
   "metadata": {},
   "source": [
    "При анализе воронки мы будем рассматривать обычную конверсию (в том числе т.к. некоторые шаги воронки могут быть пропущены), а не конверсию из одного шага в другой. Таблица с общей конверсией по уникальным пользователям выглядит так:"
   ]
  },
  {
   "cell_type": "code",
   "execution_count": 66,
   "id": "552cbda2",
   "metadata": {},
   "outputs": [
    {
     "data": {
      "text/html": [
       "<div>\n",
       "<style scoped>\n",
       "    .dataframe tbody tr th:only-of-type {\n",
       "        vertical-align: middle;\n",
       "    }\n",
       "\n",
       "    .dataframe tbody tr th {\n",
       "        vertical-align: top;\n",
       "    }\n",
       "\n",
       "    .dataframe thead th {\n",
       "        text-align: right;\n",
       "    }\n",
       "</style>\n",
       "<table border=\"1\" class=\"dataframe\">\n",
       "  <thead>\n",
       "    <tr style=\"text-align: right;\">\n",
       "      <th></th>\n",
       "      <th>event_name</th>\n",
       "      <th>nunique_A</th>\n",
       "      <th>percent_from_all_A</th>\n",
       "      <th>nunique_B</th>\n",
       "      <th>percent_from_all_B</th>\n",
       "    </tr>\n",
       "  </thead>\n",
       "  <tbody>\n",
       "    <tr>\n",
       "      <th>0</th>\n",
       "      <td>login</td>\n",
       "      <td>1115</td>\n",
       "      <td>100.00</td>\n",
       "      <td>476</td>\n",
       "      <td>100.00</td>\n",
       "    </tr>\n",
       "    <tr>\n",
       "      <th>1</th>\n",
       "      <td>product_page</td>\n",
       "      <td>723</td>\n",
       "      <td>64.84</td>\n",
       "      <td>265</td>\n",
       "      <td>55.67</td>\n",
       "    </tr>\n",
       "    <tr>\n",
       "      <th>2</th>\n",
       "      <td>product_cart</td>\n",
       "      <td>350</td>\n",
       "      <td>31.39</td>\n",
       "      <td>139</td>\n",
       "      <td>29.20</td>\n",
       "    </tr>\n",
       "    <tr>\n",
       "      <th>3</th>\n",
       "      <td>purchase</td>\n",
       "      <td>333</td>\n",
       "      <td>29.87</td>\n",
       "      <td>132</td>\n",
       "      <td>27.73</td>\n",
       "    </tr>\n",
       "  </tbody>\n",
       "</table>\n",
       "</div>"
      ],
      "text/plain": [
       "     event_name  nunique_A  percent_from_all_A  nunique_B  percent_from_all_B\n",
       "0         login       1115              100.00        476              100.00\n",
       "1  product_page        723               64.84        265               55.67\n",
       "2  product_cart        350               31.39        139               29.20\n",
       "3      purchase        333               29.87        132               27.73"
      ]
     },
     "execution_count": 66,
     "metadata": {},
     "output_type": "execute_result"
    }
   ],
   "source": [
    "df_events_A=total[total['group']=='A'].groupby('event_name')['user_id'].agg(['nunique']).reset_index()\n",
    "df_events_A['percent_from_all']=df_events_A['nunique']/(total[total['group']=='A']['user_id'].nunique()) *100\n",
    "df_events_A\n",
    "\n",
    "df_events_B=total[total['group']=='B'].groupby('event_name')['user_id'].agg(['nunique']).reset_index()\n",
    "df_events_B['percent_from_all']=df_events_B['nunique']/(total[total['group']=='B']['user_id'].nunique()) *100\n",
    "\n",
    "convers=df_events_A.merge(df_events_B, how='left', on='event_name', suffixes=('_A', '_B'))\n",
    "convers = convers.reindex([0,2,1,3]).reset_index(drop=True)\n",
    "convers"
   ]
  },
  {
   "cell_type": "code",
   "execution_count": 67,
   "id": "468c236c",
   "metadata": {},
   "outputs": [
    {
     "data": {
      "image/png": "[encoded data removed]",
      "text/plain": [
       "<Figure size 432x288 with 1 Axes>"
      ]
     },
     "metadata": {
      "needs_background": "light"
     },
     "output_type": "display_data"
    }
   ],
   "source": [
    "convers.drop(['nunique_A','nunique_B'], axis=1).plot.bar(\n",
    "    grid=True, title=\"Доля пользователей на каждом шагу воронки от числа на первом шаге\", x='event_name', width = 0.75, rot=0 )\n",
    "plt.xlabel('')\n",
    "plt.ylabel('% от числа на первом шаге')\n",
    "plt.legend (['А', \"В\"]);"
   ]
  },
  {
   "cell_type": "markdown",
   "id": "39384dd1",
   "metadata": {},
   "source": [
    "Видим, что в группе B конверсия по уникумам несколько ниже на каждом этапе воронки (сравниваем каждый раз с первым этапом, так как события в воронке можно пропускать), а по product_page конверсия ниже почти на 10%, чем у А. Просмотр корзины и покупка у B ниже на ниже на 2%.  Пока мы можем сказать, чтобы ожидания по эксперименту скорее не оправданы."
   ]
  },
  {
   "cell_type": "markdown",
   "id": "b4d872ed",
   "metadata": {},
   "source": [
    "#### Обладают ли выборки одинаковыми распределениями количества событий на пользователя?"
   ]
  },
  {
   "cell_type": "code",
   "execution_count": 68,
   "id": "0c1b7b47",
   "metadata": {},
   "outputs": [
    {
     "data": {
      "image/png": "[encoded data removed]",
      "text/plain": [
       "<Figure size 1080x360 with 2 Axes>"
      ]
     },
     "metadata": {
      "needs_background": "light"
     },
     "output_type": "display_data"
    }
   ],
   "source": [
    "fig, ax = plt.subplots(nrows=1, ncols=2, figsize=(15,5))\n",
    "\n",
    "ax[0].set_title('Распределениями количества событий на пользователя в группе А')\n",
    "ax[0].hist(total[total['group']=='A'].groupby('user_id')['event_name'].agg(['count']))\n",
    "\n",
    "ax[1].set_title('Распределениями количества событий на пользователя в группе В')\n",
    "ax[1].hist(total[total['group']=='B'].groupby('user_id')['event_name'].agg(['count']))\n",
    "fig.tight_layout()"
   ]
  },
  {
   "cell_type": "code",
   "execution_count": 69,
   "id": "52cfdd49",
   "metadata": {},
   "outputs": [
    {
     "data": {
      "image/png": "[encoded data removed]",
      "text/plain": [
       "<Figure size 432x288 with 1 Axes>"
      ]
     },
     "metadata": {
      "needs_background": "light"
     },
     "output_type": "display_data"
    }
   ],
   "source": [
    "gr=total.groupby('user_id')[['event_name', 'group']].agg({'event_name':'count', 'group':'first'})\n",
    "sns.boxplot(data=gr, x=gr['event_name'], y=gr['group'], showmeans=True)\n",
    "plt.xlabel('количество событий')\n",
    "plt.ylabel(\"группа\")\n",
    "plt.show()"
   ]
  },
  {
   "cell_type": "markdown",
   "id": "1d3c1f3a",
   "metadata": {},
   "source": [
    "Выборки распределены не совсем одинаково. Среднее число событий на пользователя в группе А выше, около 7, в В около 6, медианные близки к 6. По группе А в целом чуть большинстве событий. А вот выбросов чуть больше в группе В, там есть люди с очень большим числом событий (больше 25)."
   ]
  },
  {
   "cell_type": "markdown",
   "id": "b3cd0c82",
   "metadata": {},
   "source": [
    "### Оценка результатов A/B-тестирования"
   ]
  },
  {
   "cell_type": "markdown",
   "id": "8bcca47b",
   "metadata": {},
   "source": [
    "#### Проверка статистической разницы долей z-критерием"
   ]
  },
  {
   "cell_type": "markdown",
   "id": "e3745890",
   "metadata": {},
   "source": [
    "Сводная таблица конверсий:"
   ]
  },
  {
   "cell_type": "code",
   "execution_count": 70,
   "id": "972a3e06",
   "metadata": {},
   "outputs": [
    {
     "data": {
      "text/html": [
       "<div>\n",
       "<style scoped>\n",
       "    .dataframe tbody tr th:only-of-type {\n",
       "        vertical-align: middle;\n",
       "    }\n",
       "\n",
       "    .dataframe tbody tr th {\n",
       "        vertical-align: top;\n",
       "    }\n",
       "\n",
       "    .dataframe thead th {\n",
       "        text-align: right;\n",
       "    }\n",
       "</style>\n",
       "<table border=\"1\" class=\"dataframe\">\n",
       "  <thead>\n",
       "    <tr style=\"text-align: right;\">\n",
       "      <th></th>\n",
       "      <th>nunique_A</th>\n",
       "      <th>nunique_B</th>\n",
       "    </tr>\n",
       "    <tr>\n",
       "      <th>event_name</th>\n",
       "      <th></th>\n",
       "      <th></th>\n",
       "    </tr>\n",
       "  </thead>\n",
       "  <tbody>\n",
       "    <tr>\n",
       "      <th>login</th>\n",
       "      <td>1115</td>\n",
       "      <td>476</td>\n",
       "    </tr>\n",
       "    <tr>\n",
       "      <th>product_page</th>\n",
       "      <td>723</td>\n",
       "      <td>265</td>\n",
       "    </tr>\n",
       "    <tr>\n",
       "      <th>product_cart</th>\n",
       "      <td>350</td>\n",
       "      <td>139</td>\n",
       "    </tr>\n",
       "    <tr>\n",
       "      <th>purchase</th>\n",
       "      <td>333</td>\n",
       "      <td>132</td>\n",
       "    </tr>\n",
       "  </tbody>\n",
       "</table>\n",
       "</div>"
      ],
      "text/plain": [
       "              nunique_A  nunique_B\n",
       "event_name                        \n",
       "login              1115        476\n",
       "product_page        723        265\n",
       "product_cart        350        139\n",
       "purchase            333        132"
      ]
     },
     "execution_count": 70,
     "metadata": {},
     "output_type": "execute_result"
    }
   ],
   "source": [
    "convers_reset=convers.set_index('event_name').drop(['percent_from_all_A','percent_from_all_B'], axis=1)\n",
    "convers_reset"
   ]
  },
  {
   "cell_type": "markdown",
   "id": "e10555bf",
   "metadata": {},
   "source": [
    "Проверим, находят ли статистические критерии разницу между контрольной и экспериментальной группой (А/В).\n",
    "Наша нулевая гипотеза будет звучать как на каждом шаге \"между конверсиями (долями) нет разницы\". То есть нет статистически значимой разницы между долями группы А и В:\n",
    "\n",
    "- 1) тех, кто перешел на страницу с товарами (product_page) к общему количеству пользователей в группе (те кто были на начальной странице) \n",
    "- 2) тех кто перешел на страницу с корзиной (product_cart), к общему количеству пользователей в группе \n",
    "- 3) тех, кто совершил покупку (purchase) к общему количеству пользователей в группе\n",
    "\n",
    "Альтернативная гипотеза, соответственно будет звучать, как есть статистически значимая разница между долями в группах по каждой из конверсий."
   ]
  },
  {
   "cell_type": "markdown",
   "id": "04b85fdc",
   "metadata": {},
   "source": [
    "Для проверки гипотез о конверсии, нам нужно сделать 3 сравнения, проводимых на одних и тех же данных — это множественный тест.\n",
    "\n",
    "Вероятность того, что хотя бы в одном из трёх сравнений будет зафиксирован ложнопозитивный результат равна при выбранном уровне значимости, равный 0.05 :"
   ]
  },
  {
   "cell_type": "code",
   "execution_count": 71,
   "id": "c3bb3362",
   "metadata": {},
   "outputs": [
    {
     "data": {
      "text/plain": [
       "0.1426250000000001"
      ]
     },
     "execution_count": 71,
     "metadata": {},
     "output_type": "execute_result"
    }
   ],
   "source": [
    "1-(1-0.05)**3"
   ]
  },
  {
   "cell_type": "markdown",
   "id": "59eeb885",
   "metadata": {},
   "source": [
    "Это вероятность того, что хотя бы в одном из трёх попарных сравнений будет зафиксирован ложнопозитивный результат равна, или групповая вероятность ошибки первого рода. Чтобы снизить вероятность ложнопозитивного результата при множественном тестировании гипотез, применим метод корректировки уровня значимости поправка Бонферрони. Для этого делят уровень значимости на число гипотез, в нашем случае 0.05/3."
   ]
  },
  {
   "cell_type": "code",
   "execution_count": 72,
   "id": "fff618d8",
   "metadata": {},
   "outputs": [],
   "source": [
    "alpha =0.05/3 # уровень статистической значимости с поправкой Бонферрони"
   ]
  },
  {
   "cell_type": "code",
   "execution_count": 73,
   "id": "390c4def",
   "metadata": {},
   "outputs": [],
   "source": [
    "# создадим фунцию\n",
    "def test(df, group_a, group_b, event):\n",
    "    # пропорция успехов в первой группе:\n",
    "    p1 = df[group_a][event]/df[group_a]['login'] \n",
    "    # пропорция успехов во второй группе:\n",
    "    p2 = df[group_b][event]/df[group_b]['login'] \n",
    "    # пропорция успехов во второй группе:\n",
    "    p_combined = (df[group_a][event] + df[group_b][event]) / (df[group_a]['login'] + df[group_b]['login'])\n",
    "    # разница пропорций в датасетах\n",
    "    difference = p1 - p2\n",
    "    # считаем статистику в ст.отклонениях стандартного нормального распределения\n",
    "    z_value = difference / mth.sqrt(\n",
    "    p_combined * (1 - p_combined) * (1 / df[group_a]['login'] + 1 / df[group_b]['login']))\n",
    "    # задаем стандартное нормальное распределение (среднее 0, ст.отклонение 1)\n",
    "    distr = st.norm(0, 1)\n",
    "    p_value = (1 - distr.cdf(abs(z_value))) * 2\n",
    "    \n",
    "    print('p-значение: ', p_value)\n",
    "    if p_value < alpha:\n",
    "        print('Отвергаем нулевую гипотезу: между долями есть значимая разница')\n",
    "    else:\n",
    "        print('Не получилось отвергнуть нулевую гипотезу, нет оснований считать доли разными')"
   ]
  },
  {
   "cell_type": "markdown",
   "id": "a57756b7",
   "metadata": {},
   "source": [
    "- Конверсия тех, кто перешел на страницу с товарами (product_page):"
   ]
  },
  {
   "cell_type": "code",
   "execution_count": 74,
   "id": "28fced91",
   "metadata": {},
   "outputs": [
    {
     "name": "stdout",
     "output_type": "stream",
     "text": [
      "p-значение:  0.0005552296307800297\n",
      "Отвергаем нулевую гипотезу: между долями есть значимая разница\n"
     ]
    }
   ],
   "source": [
    "test(convers_reset, 'nunique_A', 'nunique_B', 'product_page')"
   ]
  },
  {
   "cell_type": "markdown",
   "id": "7a7a3349",
   "metadata": {},
   "source": [
    "Между группами есть значимая разница по конверсии в переход на страницу с товарами. При этом, у контрольной группы конверсия выше (см. таблицу и графиик \"Доля пользователей на каждом шагу воронки от числа на первом шаге\" в разделе \"Конверсию в воронке на разных этапах\").\n",
    "Таким образом, что мы получили обратный ожидаемому эффект: в тестовой группе конверсия в просмотр карточек товаров значимо ниже."
   ]
  },
  {
   "cell_type": "markdown",
   "id": "a7c0877d",
   "metadata": {},
   "source": [
    "- Конверсия тех, кто перешел на страницу с корзиной (product_cart):"
   ]
  },
  {
   "cell_type": "code",
   "execution_count": 75,
   "id": "258a9791",
   "metadata": {},
   "outputs": [
    {
     "name": "stdout",
     "output_type": "stream",
     "text": [
      "p-значение:  0.3863258273896266\n",
      "Не получилось отвергнуть нулевую гипотезу, нет оснований считать доли разными\n"
     ]
    }
   ],
   "source": [
    "test(convers_reset, 'nunique_A', 'nunique_B', 'product_cart')"
   ]
  },
  {
   "cell_type": "markdown",
   "id": "7c4c7919",
   "metadata": {},
   "source": [
    "Между группами нет значимой разницы по конверсии в переход на страницу с корзиной. "
   ]
  },
  {
   "cell_type": "markdown",
   "id": "7b0aaa14",
   "metadata": {},
   "source": [
    "- Конверсия тех, кто совершил покупку (purchase):"
   ]
  },
  {
   "cell_type": "code",
   "execution_count": 76,
   "id": "f220d748",
   "metadata": {},
   "outputs": [
    {
     "name": "stdout",
     "output_type": "stream",
     "text": [
      "p-значение:  0.391367532740043\n",
      "Не получилось отвергнуть нулевую гипотезу, нет оснований считать доли разными\n"
     ]
    }
   ],
   "source": [
    "test(convers_reset, 'nunique_A', 'nunique_B', 'purchase')"
   ]
  },
  {
   "cell_type": "markdown",
   "id": "f1dcc7d9",
   "metadata": {},
   "source": [
    "Между группами нет значимой разницы по конверсии в совершение покупки."
   ]
  },
  {
   "cell_type": "markdown",
   "id": "2999ff13",
   "metadata": {},
   "source": [
    "Таким образом, результаты A/B-тестирования показали значимую разницу между конверсиями только при переходе на страницу с товарами, и к тому же в пользу группы А."
   ]
  },
  {
   "cell_type": "markdown",
   "id": "5dcb21db",
   "metadata": {},
   "source": [
    "## Выводы"
   ]
  },
  {
   "cell_type": "markdown",
   "id": "73726fe0",
   "metadata": {},
   "source": [
    "#### Оценка корректности проведения A/B-теста"
   ]
  },
  {
   "cell_type": "markdown",
   "id": "856e5759",
   "metadata": {},
   "source": [
    "В проведении теста мы обнаружили ряд проблемных моментов, которые могли непосредственно повлиять на его результат, а именно:"
   ]
  },
  {
   "cell_type": "markdown",
   "id": "bd1c318f",
   "metadata": {},
   "source": [
    "- Данные за более короткий период, чем планировалось. Период событий - с 7 по 30 декабря, это меньше заявленного с 7 декабря 2020 по 4 января 2021 года.\n",
    "- Меньшее число участников, 1591, в то время как ожидаемое число участников было 6000.\n",
    "- Пересечение тестовой аудитории с конкурирующим тестом (1602 участника, они были удалены из для анализа теста)\n",
    "- Пересечение теста с рождественской маркетинговой акцией \"Christmas&New Year Promo\"\n",
    "- Контрольная и экспериментальная группы не равны. В контрольной - 1115, а в экспериментальной - 476\n",
    "- Обнаружены пользователи (1003 человек), с момента регистрации которых прошло меньше 14 дней на анализируемый период (т.е. по 30 декабря). Пользователи, зарегистрировавшиеся после 17 декабря были исключены из анализа.\n",
    "- Неравномерная пользовательская активность в течение наблюдаемого периода, связанная с таким уникальным событием, как рождественские праздники в Европе\n",
    "- Выборки распределены не совсем неодинаково, в контрольной группе на участника в среднем приходится больше событий. В тестовой группе больше выбросов.\n",
    "Таким образом, тест был проведен некорректно и мы не можем доверять его результатам.\n",
    "\n",
    "Также были обнаружены пользователи (3030 человек, это 5% от всех), которые зарегистрировались но не имели ни одного события за рассматриваемый период. 95% из них из Европы, при том что в общем у нас 75% пользователей из этого региона. Это не влияет на тест, но, возможно, требует дальнейшего изучения. "
   ]
  },
  {
   "cell_type": "markdown",
   "id": "68fdabd3",
   "metadata": {},
   "source": [
    "#### Выводы по результатам A/B-тестирования"
   ]
  },
  {
   "cell_type": "markdown",
   "id": "82fda544",
   "metadata": {},
   "source": [
    "По тем результатам теста, что мы получили, мы можем заключить, что ожидания по эксперименту не оправданы. \n",
    "- В тестовой группе B пользователи не показали улучшения метрик ни на одном из этапов конверсии. \n",
    "- В случае конверсии в переход на страницу с товарами, между группами есть обнаружилась значимая разница. Однако, мы получили обратный ожидаемому эффект: в тестовой группе конверсия в просмотр карточек товаров значимо ниже.\n",
    "\n",
    "Однако, как было сказано выше, при проведении теста были допущены ошибки, поэтому мы не можем полагаться на выводы из некорректно выполненного теста."
   ]
  },
  {
   "cell_type": "markdown",
   "id": "8d59e9d2",
   "metadata": {},
   "source": [
    "#### Рекомендации:"
   ]
  },
  {
   "cell_type": "markdown",
   "id": "552c6606",
   "metadata": {},
   "source": [
    "Для получения валидных результатов, необходимо провести повторный тест с соблюдением всех правил для A/B-тестирования. Необходимо обеспечить:\n",
    "- корректное деление трафика теста, доли в группах должны быть равные (теоретически тест возможен и с неравными долями, но это гораздо сложнее)\n",
    "- число участников должно быть больше. Например, для обнаружение разницы конверсии в 10% для базовой конверсии в 30% (ориентируемся здесь на полученный результат в контролькной группе по конверсиям в покупку и просмотр корзины), необходимо 3692 участника в каждой группе (https://www.evanmiller.org/ab-testing/sample-size.html#!30;80;5;10;1) (а у нас оказалось только 22% от необходимого числа участников)\n",
    "- аудитория теста не должна участвовать одновременно в конкурирующих тестах\n",
    "- период теста не должен попадать на время, когда возможны другие события или маркетинговые акции, которые окажут влияние на тест\n",
    "- адекватный период теста (зная трафик и сколько участников из всех посетителей будут участвовать в тесте, длительность можно рассчитать здесь https://vwo.com/tools/ab-test-duration-calculator/)"
   ]
  }
 ],
 "metadata": {
  "ExecuteTimeLog": [
   {
    "duration": 1164,
    "start_time": "2021-11-20T06:43:07.639Z"
   },
   {
    "duration": 2,
    "start_time": "2021-11-20T06:43:08.805Z"
   },
   {
    "duration": 17,
    "start_time": "2021-11-20T06:43:08.809Z"
   },
   {
    "duration": 4938,
    "start_time": "2021-11-20T06:43:08.828Z"
   },
   {
    "duration": 149555,
    "start_time": "2021-11-20T06:40:44.213Z"
   },
   {
    "duration": 149553,
    "start_time": "2021-11-20T06:40:44.216Z"
   },
   {
    "duration": 149550,
    "start_time": "2021-11-20T06:40:44.220Z"
   },
   {
    "duration": 149548,
    "start_time": "2021-11-20T06:40:44.223Z"
   },
   {
    "duration": 149545,
    "start_time": "2021-11-20T06:40:44.227Z"
   },
   {
    "duration": 149543,
    "start_time": "2021-11-20T06:40:44.230Z"
   },
   {
    "duration": 149541,
    "start_time": "2021-11-20T06:40:44.233Z"
   },
   {
    "duration": 149539,
    "start_time": "2021-11-20T06:40:44.236Z"
   },
   {
    "duration": 149537,
    "start_time": "2021-11-20T06:40:44.239Z"
   },
   {
    "duration": 149534,
    "start_time": "2021-11-20T06:40:44.243Z"
   },
   {
    "duration": 149532,
    "start_time": "2021-11-20T06:40:44.246Z"
   },
   {
    "duration": 251,
    "start_time": "2021-11-20T06:43:14.210Z"
   },
   {
    "duration": 3358,
    "start_time": "2021-11-20T06:44:22.342Z"
   },
   {
    "duration": 3,
    "start_time": "2021-11-20T06:44:26.459Z"
   },
   {
    "duration": 18,
    "start_time": "2021-11-20T06:44:27.523Z"
   },
   {
    "duration": 11,
    "start_time": "2021-11-20T06:44:27.947Z"
   },
   {
    "duration": 22,
    "start_time": "2021-11-20T06:44:28.332Z"
   },
   {
    "duration": 9,
    "start_time": "2021-11-20T06:44:28.642Z"
   },
   {
    "duration": 73,
    "start_time": "2021-11-20T06:44:28.842Z"
   },
   {
    "duration": 116,
    "start_time": "2021-11-20T06:44:29.748Z"
   },
   {
    "duration": 52,
    "start_time": "2021-11-20T06:44:30.347Z"
   },
   {
    "duration": 28,
    "start_time": "2021-11-20T06:44:30.747Z"
   },
   {
    "duration": 47,
    "start_time": "2021-11-20T06:44:31.204Z"
   },
   {
    "duration": 37,
    "start_time": "2021-11-20T06:44:31.387Z"
   },
   {
    "duration": 183,
    "start_time": "2021-11-20T06:44:32.356Z"
   },
   {
    "duration": 19,
    "start_time": "2021-11-20T06:44:33.772Z"
   },
   {
    "duration": 18,
    "start_time": "2021-11-20T06:44:33.947Z"
   },
   {
    "duration": 58,
    "start_time": "2021-11-20T06:44:34.115Z"
   },
   {
    "duration": 6,
    "start_time": "2021-11-20T06:44:34.291Z"
   },
   {
    "duration": 187,
    "start_time": "2021-11-20T06:44:35.011Z"
   },
   {
    "duration": 99,
    "start_time": "2021-11-20T06:44:35.230Z"
   },
   {
    "duration": 17,
    "start_time": "2021-11-20T06:44:35.386Z"
   },
   {
    "duration": 9,
    "start_time": "2021-11-20T06:44:35.739Z"
   },
   {
    "duration": 12,
    "start_time": "2021-11-20T06:44:35.925Z"
   },
   {
    "duration": 12,
    "start_time": "2021-11-20T06:44:36.107Z"
   },
   {
    "duration": 15,
    "start_time": "2021-11-20T06:44:36.284Z"
   },
   {
    "duration": 8,
    "start_time": "2021-11-20T06:44:36.652Z"
   },
   {
    "duration": 6,
    "start_time": "2021-11-20T06:44:36.827Z"
   },
   {
    "duration": 245,
    "start_time": "2021-11-20T06:44:37.418Z"
   },
   {
    "duration": 6,
    "start_time": "2021-11-20T06:44:37.665Z"
   },
   {
    "duration": 9,
    "start_time": "2021-11-20T06:44:37.827Z"
   },
   {
    "duration": 8,
    "start_time": "2021-11-20T06:44:38.042Z"
   },
   {
    "duration": 7,
    "start_time": "2021-11-20T06:44:38.482Z"
   },
   {
    "duration": 551,
    "start_time": "2021-11-20T06:44:39.757Z"
   },
   {
    "duration": 6,
    "start_time": "2021-11-20T06:44:40.843Z"
   },
   {
    "duration": 201,
    "start_time": "2021-11-20T06:44:41.823Z"
   },
   {
    "duration": 12,
    "start_time": "2021-11-20T06:44:42.025Z"
   },
   {
    "duration": 266,
    "start_time": "2021-11-20T06:45:58.718Z"
   },
   {
    "duration": 41,
    "start_time": "2021-11-20T06:47:08.150Z"
   },
   {
    "duration": 17,
    "start_time": "2021-11-20T06:47:37.430Z"
   },
   {
    "duration": 2238,
    "start_time": "2021-11-20T13:00:24.132Z"
   },
   {
    "duration": 4,
    "start_time": "2021-11-20T13:00:26.373Z"
   },
   {
    "duration": 10,
    "start_time": "2021-11-20T13:00:26.381Z"
   },
   {
    "duration": 1018,
    "start_time": "2021-11-20T13:00:26.393Z"
   },
   {
    "duration": 3,
    "start_time": "2021-11-20T13:00:27.414Z"
   },
   {
    "duration": 23,
    "start_time": "2021-11-20T13:00:27.420Z"
   },
   {
    "duration": 28,
    "start_time": "2021-11-20T13:00:27.445Z"
   },
   {
    "duration": 33,
    "start_time": "2021-11-20T13:00:27.477Z"
   },
   {
    "duration": 13,
    "start_time": "2021-11-20T13:00:27.694Z"
   },
   {
    "duration": 99,
    "start_time": "2021-11-20T13:00:27.887Z"
   },
   {
    "duration": 164,
    "start_time": "2021-11-20T13:00:29.333Z"
   },
   {
    "duration": 67,
    "start_time": "2021-11-20T13:00:29.982Z"
   },
   {
    "duration": 38,
    "start_time": "2021-11-20T13:00:30.645Z"
   },
   {
    "duration": 61,
    "start_time": "2021-11-20T13:00:31.165Z"
   },
   {
    "duration": 49,
    "start_time": "2021-11-20T13:00:31.422Z"
   },
   {
    "duration": 267,
    "start_time": "2021-11-20T13:00:32.758Z"
   },
   {
    "duration": 30,
    "start_time": "2021-11-20T13:00:34.661Z"
   },
   {
    "duration": 24,
    "start_time": "2021-11-20T13:00:34.861Z"
   },
   {
    "duration": 72,
    "start_time": "2021-11-20T13:00:35.062Z"
   },
   {
    "duration": 8,
    "start_time": "2021-11-20T13:00:35.294Z"
   },
   {
    "duration": 267,
    "start_time": "2021-11-20T13:00:36.542Z"
   },
   {
    "duration": 181,
    "start_time": "2021-11-20T13:00:36.812Z"
   },
   {
    "duration": 34,
    "start_time": "2021-11-20T13:00:36.996Z"
   },
   {
    "duration": 13,
    "start_time": "2021-11-20T13:00:37.391Z"
   },
   {
    "duration": 18,
    "start_time": "2021-11-20T13:00:37.758Z"
   },
   {
    "duration": 18,
    "start_time": "2021-11-20T13:00:38.014Z"
   },
   {
    "duration": 23,
    "start_time": "2021-11-20T13:00:38.262Z"
   },
   {
    "duration": 11,
    "start_time": "2021-11-20T13:00:38.774Z"
   },
   {
    "duration": 9,
    "start_time": "2021-11-20T13:00:39.262Z"
   },
   {
    "duration": 339,
    "start_time": "2021-11-20T13:00:40.352Z"
   },
   {
    "duration": 8,
    "start_time": "2021-11-20T13:00:40.886Z"
   },
   {
    "duration": 12,
    "start_time": "2021-11-20T13:00:41.166Z"
   },
   {
    "duration": 10,
    "start_time": "2021-11-20T13:00:41.559Z"
   },
   {
    "duration": 10,
    "start_time": "2021-11-20T13:00:42.470Z"
   },
   {
    "duration": 807,
    "start_time": "2021-11-20T13:01:02.863Z"
   },
   {
    "duration": 8,
    "start_time": "2021-11-20T13:01:06.952Z"
   },
   {
    "duration": 331,
    "start_time": "2021-11-20T13:01:07.972Z"
   },
   {
    "duration": 20,
    "start_time": "2021-11-20T13:01:08.306Z"
   },
   {
    "duration": 95,
    "start_time": "2021-11-20T13:02:09.910Z"
   },
   {
    "duration": 92,
    "start_time": "2021-11-20T13:02:24.094Z"
   },
   {
    "duration": 536,
    "start_time": "2021-11-20T13:03:17.070Z"
   },
   {
    "duration": 62,
    "start_time": "2021-11-20T13:03:25.156Z"
   },
   {
    "duration": 352,
    "start_time": "2021-11-20T13:03:27.844Z"
   },
   {
    "duration": 25,
    "start_time": "2021-11-20T13:03:44.631Z"
   },
   {
    "duration": 4,
    "start_time": "2021-11-20T13:05:26.302Z"
   },
   {
    "duration": 4,
    "start_time": "2021-11-20T13:05:26.818Z"
   },
   {
    "duration": 4,
    "start_time": "2021-11-20T13:05:27.035Z"
   },
   {
    "duration": 914,
    "start_time": "2021-11-20T13:05:27.417Z"
   },
   {
    "duration": 3,
    "start_time": "2021-11-20T13:05:28.334Z"
   },
   {
    "duration": 117,
    "start_time": "2021-11-21T06:00:34.783Z"
   }
  ],
  "kernelspec": {
   "display_name": "Python 3",
   "language": "python",
   "name": "python3"
  },
  "language_info": {
   "codemirror_mode": {
    "name": "ipython",
    "version": 3
   },
   "file_extension": ".py",
   "mimetype": "text/x-python",
   "name": "python",
   "nbconvert_exporter": "python",
   "pygments_lexer": "ipython3",
   "version": "3.8.8"
  },
  "toc": {
   "base_numbering": 1,
   "nav_menu": {},
   "number_sections": true,
   "sideBar": true,
   "skip_h1_title": true,
   "title_cell": "Table of Contents",
   "title_sidebar": "Contents",
   "toc_cell": false,
   "toc_position": {},
   "toc_section_display": true,
   "toc_window_display": false
  }
 },
 "nbformat": 4,
 "nbformat_minor": 5
}
