{
 "cells": [
  {
   "cell_type": "markdown",
   "id": "981e1c37",
   "metadata": {},
   "source": [
    "## Описание проекта\n",
    "Вы работаете в стартапе, который продаёт продукты питания. Нужно разобраться, как ведут себя пользователи вашего мобильного приложения.\n",
    "\n",
    "Изучите воронку продаж. Узнайте, как пользователи доходят до покупки. Сколько пользователей доходит до покупки, а сколько — «застревает» на предыдущих шагах? На каких именно?\n",
    "\n",
    "После этого исследуйте результаты A/A/B-эксперимента. Дизайнеры захотели поменять шрифты во всём приложении, а менеджеры испугались, что пользователям будет непривычно. Договорились принять решение по результатам A/A/B-теста. Пользователей разбили на 3 группы: 2 контрольные со старыми шрифтами и одну экспериментальную — с новыми. Выясните, какой шрифт лучше.\n",
    "Создание двух групп A вместо одной имеет определённые преимущества. Если две контрольные группы окажутся равны, вы можете быть уверены в точности проведенного тестирования. Если же между значениями A и A будут существенные различия, это поможет обнаружить факторы, которые привели к искажению результатов. Сравнение контрольных групп также помогает понять, сколько времени и данных потребуется для дальнейших тестов.\n",
    "\n",
    "В случае общей аналитики и A/A/B-эксперимента работайте с одними и теми же данными. В реальных проектах всегда идут эксперименты. Аналитики исследуют качество работы приложения по общим данным, не учитывая принадлежность пользователей к экспериментам."
   ]
  },
  {
   "cell_type": "markdown",
   "id": "248b1ed9",
   "metadata": {},
   "source": [
    "## Шаг 1. Откройте файл с данными и изучите общую информацию\n",
    "Путь к файлу: /datasets/logs_exp.csv. Скачать датасет"
   ]
  },
  {
   "cell_type": "code",
   "execution_count": 1,
   "id": "dd1e77f9",
   "metadata": {},
   "outputs": [],
   "source": [
    "import pandas as pd\n",
    "import numpy as np\n",
    "import math as mth\n",
    "import matplotlib.pyplot as plt\n",
    "import seaborn as sns\n",
    "import datetime as dt\n",
    "from scipy import stats as st\n",
    "\n",
    "pd.options.display.float_format = '{:.2f}'.format\n",
    "plt.style.use('seaborn-deep')"
   ]
  },
  {
   "cell_type": "code",
   "execution_count": 2,
   "id": "a9b20046",
   "metadata": {},
   "outputs": [
    {
     "name": "stdout",
     "output_type": "stream",
     "text": [
      "Defaulting to user installation because normal site-packages is not writeable\n",
      "Requirement already up-to-date: seaborn in /home/jovyan/.local/lib/python3.7/site-packages (0.11.1)\n",
      "Requirement already satisfied, skipping upgrade: pandas>=0.23 in /opt/conda/lib/python3.7/site-packages (from seaborn) (0.25.1)\n",
      "Requirement already satisfied, skipping upgrade: matplotlib>=2.2 in /opt/conda/lib/python3.7/site-packages (from seaborn) (3.1.0)\n",
      "Requirement already satisfied, skipping upgrade: scipy>=1.0 in /opt/conda/lib/python3.7/site-packages (from seaborn) (1.4.1)\n",
      "Requirement already satisfied, skipping upgrade: numpy>=1.15 in /opt/conda/lib/python3.7/site-packages (from seaborn) (1.19.5)\n",
      "Requirement already satisfied, skipping upgrade: pytz>=2017.2 in /opt/conda/lib/python3.7/site-packages (from pandas>=0.23->seaborn) (2021.1)\n",
      "Requirement already satisfied, skipping upgrade: python-dateutil>=2.6.1 in /opt/conda/lib/python3.7/site-packages (from pandas>=0.23->seaborn) (2.8.1)\n",
      "Requirement already satisfied, skipping upgrade: cycler>=0.10 in /opt/conda/lib/python3.7/site-packages (from matplotlib>=2.2->seaborn) (0.10.0)\n",
      "Requirement already satisfied, skipping upgrade: kiwisolver>=1.0.1 in /opt/conda/lib/python3.7/site-packages (from matplotlib>=2.2->seaborn) (1.3.1)\n",
      "Requirement already satisfied, skipping upgrade: pyparsing!=2.0.4,!=2.1.2,!=2.1.6,>=2.0.1 in /opt/conda/lib/python3.7/site-packages (from matplotlib>=2.2->seaborn) (2.4.7)\n",
      "Requirement already satisfied, skipping upgrade: six>=1.5 in /opt/conda/lib/python3.7/site-packages (from python-dateutil>=2.6.1->pandas>=0.23->seaborn) (1.15.0)\n",
      "Note: you may need to restart the kernel to use updated packages.\n"
     ]
    }
   ],
   "source": [
    "pip install -U seaborn"
   ]
  },
  {
   "cell_type": "code",
   "execution_count": 3,
   "id": "6f1b938a",
   "metadata": {},
   "outputs": [],
   "source": [
    "try: \n",
    "    df = pd.read_csv('logs_exp.csv', sep='\\t') \n",
    "\n",
    "except FileNotFoundError:\n",
    "    df = pd.read_csv('/datasets/logs_exp.csv', sep='\\t') # яндексовский путь"
   ]
  },
  {
   "cell_type": "code",
   "execution_count": 4,
   "id": "d15575a9",
   "metadata": {},
   "outputs": [
    {
     "name": "stdout",
     "output_type": "stream",
     "text": [
      "<class 'pandas.core.frame.DataFrame'>\n",
      "RangeIndex: 244126 entries, 0 to 244125\n",
      "Data columns (total 4 columns):\n",
      "EventName         244126 non-null object\n",
      "DeviceIDHash      244126 non-null int64\n",
      "EventTimestamp    244126 non-null int64\n",
      "ExpId             244126 non-null int64\n",
      "dtypes: int64(3), object(1)\n",
      "memory usage: 7.5+ MB\n"
     ]
    },
    {
     "data": {
      "text/html": [
       "<div>\n",
       "<style scoped>\n",
       "    .dataframe tbody tr th:only-of-type {\n",
       "        vertical-align: middle;\n",
       "    }\n",
       "\n",
       "    .dataframe tbody tr th {\n",
       "        vertical-align: top;\n",
       "    }\n",
       "\n",
       "    .dataframe thead th {\n",
       "        text-align: right;\n",
       "    }\n",
       "</style>\n",
       "<table border=\"1\" class=\"dataframe\">\n",
       "  <thead>\n",
       "    <tr style=\"text-align: right;\">\n",
       "      <th></th>\n",
       "      <th>EventName</th>\n",
       "      <th>DeviceIDHash</th>\n",
       "      <th>EventTimestamp</th>\n",
       "      <th>ExpId</th>\n",
       "    </tr>\n",
       "  </thead>\n",
       "  <tbody>\n",
       "    <tr>\n",
       "      <td>120873</td>\n",
       "      <td>MainScreenAppear</td>\n",
       "      <td>9096061512161785646</td>\n",
       "      <td>1564917596</td>\n",
       "      <td>248</td>\n",
       "    </tr>\n",
       "    <tr>\n",
       "      <td>4103</td>\n",
       "      <td>OffersScreenAppear</td>\n",
       "      <td>1074933668878523996</td>\n",
       "      <td>1564631437</td>\n",
       "      <td>247</td>\n",
       "    </tr>\n",
       "    <tr>\n",
       "      <td>92724</td>\n",
       "      <td>OffersScreenAppear</td>\n",
       "      <td>8115340604306569112</td>\n",
       "      <td>1564838447</td>\n",
       "      <td>246</td>\n",
       "    </tr>\n",
       "    <tr>\n",
       "      <td>128891</td>\n",
       "      <td>CartScreenAppear</td>\n",
       "      <td>3163109716415429772</td>\n",
       "      <td>1564930563</td>\n",
       "      <td>246</td>\n",
       "    </tr>\n",
       "    <tr>\n",
       "      <td>186942</td>\n",
       "      <td>OffersScreenAppear</td>\n",
       "      <td>2405626918155135838</td>\n",
       "      <td>1565082344</td>\n",
       "      <td>247</td>\n",
       "    </tr>\n",
       "  </tbody>\n",
       "</table>\n",
       "</div>"
      ],
      "text/plain": [
       "                 EventName         DeviceIDHash  EventTimestamp  ExpId\n",
       "120873    MainScreenAppear  9096061512161785646      1564917596    248\n",
       "4103    OffersScreenAppear  1074933668878523996      1564631437    247\n",
       "92724   OffersScreenAppear  8115340604306569112      1564838447    246\n",
       "128891    CartScreenAppear  3163109716415429772      1564930563    246\n",
       "186942  OffersScreenAppear  2405626918155135838      1565082344    247"
      ]
     },
     "execution_count": 4,
     "metadata": {},
     "output_type": "execute_result"
    }
   ],
   "source": [
    "df.info() # вывод общей информации\n",
    "df.sample(5, random_state=1) # вывод 10 рандомных строк"
   ]
  },
  {
   "cell_type": "markdown",
   "id": "34058e86",
   "metadata": {},
   "source": [
    "Данные содержат информацию о 244 тысячях логов. Каждая запись в логе — это действие пользователя, или событие. \n",
    "- EventName — название события;\n",
    "- DeviceIDHash — уникальный идентификатор пользователя;\n",
    "- EventTimestamp — время события, его необходимо будет привести к временному типу.\n",
    "- ExpId — номер эксперимента: 246 и 247 — контрольные группы, а 248 — экспериментальная."
   ]
  },
  {
   "cell_type": "markdown",
   "id": "76e7b0a1",
   "metadata": {},
   "source": [
    "## Шаг 2. Подготовьте данные"
   ]
  },
  {
   "cell_type": "markdown",
   "id": "46bddac8",
   "metadata": {},
   "source": [
    "#### Замените названия столбцов на удобные для вас; Проверьте пропуски и типы данных. Откорректируйте, если нужно; Добавьте столбец даты и времени, а также отдельный столбец дат;"
   ]
  },
  {
   "cell_type": "code",
   "execution_count": 5,
   "id": "a732adb6",
   "metadata": {},
   "outputs": [],
   "source": [
    "df.columns=df.columns.str.lower()"
   ]
  },
  {
   "cell_type": "code",
   "execution_count": 6,
   "id": "0cfd52c6",
   "metadata": {},
   "outputs": [
    {
     "data": {
      "text/plain": [
       "eventname        0.00\n",
       "deviceidhash     0.00\n",
       "eventtimestamp   0.00\n",
       "expid            0.00\n",
       "dtype: float64"
      ]
     },
     "execution_count": 6,
     "metadata": {},
     "output_type": "execute_result"
    }
   ],
   "source": [
    "df.isna().mean() # вывод среднего количества пропущенных значений"
   ]
  },
  {
   "cell_type": "code",
   "execution_count": 7,
   "id": "25898d4c",
   "metadata": {},
   "outputs": [],
   "source": [
    "df=df.rename(columns={'eventname': 'event', 'deviceidhash' : 'user_id', 'eventtimestamp':'timestamp', 'expid':'group'})"
   ]
  },
  {
   "cell_type": "code",
   "execution_count": 8,
   "id": "636c3349",
   "metadata": {},
   "outputs": [
    {
     "name": "stdout",
     "output_type": "stream",
     "text": [
      "duplicates: 413\n"
     ]
    }
   ],
   "source": [
    "print('duplicates:', df.duplicated().sum()) # вывод количества дубликатов"
   ]
  },
  {
   "cell_type": "code",
   "execution_count": 9,
   "id": "eed24bc6",
   "metadata": {},
   "outputs": [],
   "source": [
    "df=df.drop_duplicates() #  удалим дубликаты"
   ]
  },
  {
   "cell_type": "code",
   "execution_count": 10,
   "id": "f8937b0e",
   "metadata": {},
   "outputs": [],
   "source": [
    "# преобразование данных о времени\n",
    "df['date'] = pd.to_datetime(df['timestamp'],unit=\"s\")"
   ]
  },
  {
   "cell_type": "code",
   "execution_count": 11,
   "id": "79736499",
   "metadata": {},
   "outputs": [],
   "source": [
    "df.loc[df['group'] == 246, 'group'] = 1 \n",
    "df.loc[df['group'] == 247, 'group'] = 2 \n",
    "df.loc[df['group'] == 248, 'group'] = 99 "
   ]
  },
  {
   "cell_type": "code",
   "execution_count": 12,
   "id": "08c330c0",
   "metadata": {},
   "outputs": [],
   "source": [
    "df['day']=pd.to_datetime(df['date']).dt.date "
   ]
  },
  {
   "cell_type": "code",
   "execution_count": 13,
   "id": "86b2fe59",
   "metadata": {},
   "outputs": [],
   "source": [
    "df['day'] = df['day'].astype('datetime64[D]')"
   ]
  },
  {
   "cell_type": "code",
   "execution_count": 14,
   "id": "e24a6faf",
   "metadata": {},
   "outputs": [
    {
     "data": {
      "text/plain": [
       "array(['MainScreenAppear', 'PaymentScreenSuccessful', 'CartScreenAppear',\n",
       "       'OffersScreenAppear', 'Tutorial'], dtype=object)"
      ]
     },
     "execution_count": 14,
     "metadata": {},
     "output_type": "execute_result"
    }
   ],
   "source": [
    "df['event'].unique()"
   ]
  },
  {
   "cell_type": "code",
   "execution_count": 15,
   "id": "f6a9f0bf",
   "metadata": {},
   "outputs": [
    {
     "data": {
      "text/plain": [
       "array([ 1, 99,  2])"
      ]
     },
     "execution_count": 15,
     "metadata": {},
     "output_type": "execute_result"
    }
   ],
   "source": [
    "df['group'].unique()"
   ]
  },
  {
   "cell_type": "markdown",
   "id": "bcd7d8b9",
   "metadata": {},
   "source": [
    "Мы обнаружили 413 дубликатов, скороее всего они вызваны ошибкой выгрузки, но их совсем немного, они были удалены. Пропуски в данных отсутствуют.\n",
    "Мы привели названия столбцов к коректному виду, поменяли названия групп для удобства. Также мы проверили наличие дубликатов в названиях событий, и группах. Данные о времени событий приведены к коректному типу и созданы столбцы с днем и временем совершения события."
   ]
  },
  {
   "cell_type": "markdown",
   "id": "2924a7b6",
   "metadata": {},
   "source": [
    "## Шаг 3. Изучите и проверьте данные\n",
    "Сколько всего событий в логе?\n",
    "Сколько всего пользователей в логе?\n",
    "Сколько в среднем событий приходится на пользователя?\n",
    "Данными за какой период вы располагаете? Найдите максимальную и минимальную дату. Постройте гистограмму по дате и времени. Можно ли быть уверенным, что у вас одинаково полные данные за весь период? Технически в логи новых дней по некоторым пользователям могут «доезжать» события из прошлого — это может «перекашивать данные». Определите, с какого момента данные полные и отбросьте более старые. Данными за какой период времени вы располагаете на самом деле?\n",
    "Много ли событий и пользователей вы потеряли, отбросив старые данные?\n",
    "Проверьте, что у вас есть пользователи из всех трёх экспериментальных групп."
   ]
  },
  {
   "cell_type": "code",
   "execution_count": 16,
   "id": "6cd592f2",
   "metadata": {},
   "outputs": [
    {
     "name": "stdout",
     "output_type": "stream",
     "text": [
      "всего разных видов событий: 5\n"
     ]
    }
   ],
   "source": [
    "print('всего разных видов событий:', df['event'].nunique())"
   ]
  },
  {
   "cell_type": "code",
   "execution_count": 17,
   "id": "4cbedccd",
   "metadata": {},
   "outputs": [
    {
     "name": "stdout",
     "output_type": "stream",
     "text": [
      "всего событий в логе: 243713\n"
     ]
    }
   ],
   "source": [
    "print('всего событий в логе:', df['event'].count())"
   ]
  },
  {
   "cell_type": "code",
   "execution_count": 18,
   "id": "5d48e166",
   "metadata": {},
   "outputs": [
    {
     "name": "stdout",
     "output_type": "stream",
     "text": [
      "всего пользователей в логе: 7551\n"
     ]
    }
   ],
   "source": [
    "print('всего пользователей в логе:', df['user_id'].nunique())"
   ]
  },
  {
   "cell_type": "code",
   "execution_count": 19,
   "id": "641de11a",
   "metadata": {},
   "outputs": [
    {
     "name": "stdout",
     "output_type": "stream",
     "text": [
      "в среднем на пользователя приходится 32.28 событий\n"
     ]
    }
   ],
   "source": [
    "print('в среднем на пользователя приходится {:.2f} событий'.format(df['event'].count()/df['user_id'].nunique()))"
   ]
  },
  {
   "cell_type": "code",
   "execution_count": 20,
   "id": "105a77af",
   "metadata": {},
   "outputs": [
    {
     "name": "stdout",
     "output_type": "stream",
     "text": [
      "минимальная дата: 2019-07-25 04:43:36\n",
      "максимальная дата: 2019-08-07 21:15:17\n"
     ]
    }
   ],
   "source": [
    "# минимальная и максимальная дата \n",
    "print('минимальная дата:', df['date'].min())\n",
    "print('максимальная дата:', df['date'].max())"
   ]
  },
  {
   "cell_type": "code",
   "execution_count": 21,
   "id": "14498333",
   "metadata": {},
   "outputs": [
    {
     "name": "stderr",
     "output_type": "stream",
     "text": [
      "/opt/conda/lib/python3.7/site-packages/pandas/plotting/_matplotlib/converter.py:103: FutureWarning: Using an implicitly registered datetime converter for a matplotlib plotting method. The converter was registered by pandas on import. Future versions of pandas will require you to explicitly register matplotlib converters.\n",
      "\n",
      "To register the converters:\n",
      "\t>>> from pandas.plotting import register_matplotlib_converters\n",
      "\t>>> register_matplotlib_converters()\n",
      "  warnings.warn(msg, FutureWarning)\n"
     ]
    },
    {
     "data": {
      "image/png": "[encoded data removed]",
      "text/plain": [
       "<Figure size 432x288 with 1 Axes>"
      ]
     },
     "metadata": {
      "needs_background": "light"
     },
     "output_type": "display_data"
    }
   ],
   "source": [
    "sns.histplot(df['date'], bins=14)\n",
    "plt.title('Логи по дате и времени')\n",
    "plt.xlabel('')\n",
    "plt.ylabel('количество логов')\n",
    "plt.xticks(rotation=45)\n",
    "plt.show()    "
   ]
  },
  {
   "cell_type": "code",
   "execution_count": 22,
   "id": "fcaf998c",
   "metadata": {},
   "outputs": [],
   "source": [
    "logs_july=df[df['day']<='2019-7-31']['day'].count()/df['day'].count()*100"
   ]
  },
  {
   "cell_type": "code",
   "execution_count": 23,
   "id": "3be6a03d",
   "metadata": {},
   "outputs": [
    {
     "name": "stdout",
     "output_type": "stream",
     "text": [
      "на 25-31 июля приходится 1.16% от всех имеющихся логов\n"
     ]
    }
   ],
   "source": [
    "print('на 25-31 июля приходится {:.2f}% от всех имеющихся логов'.format(logs_july))"
   ]
  },
  {
   "cell_type": "code",
   "execution_count": 24,
   "id": "0db6674a",
   "metadata": {},
   "outputs": [],
   "source": [
    "users_july=df[df['day']<='2019-7-31']['user_id'].unique() \n",
    "users = df['user_id'].unique()"
   ]
  },
  {
   "cell_type": "code",
   "execution_count": 25,
   "id": "19a69ab4",
   "metadata": {},
   "outputs": [
    {
     "name": "stdout",
     "output_type": "stream",
     "text": [
      "уникальных пользователей: 7551\n"
     ]
    }
   ],
   "source": [
    "print('уникальных пользователей:', df['user_id'].nunique())"
   ]
  },
  {
   "cell_type": "code",
   "execution_count": 26,
   "id": "115e97fe",
   "metadata": {},
   "outputs": [
    {
     "name": "stdout",
     "output_type": "stream",
     "text": [
      "уникальных пользователей, если исключить июль из анализа: 7534\n"
     ]
    }
   ],
   "source": [
    "print('уникальных пользователей, если исключить июль из анализа:', df[df['day']>'2019-7-31']['user_id'].nunique())"
   ]
  },
  {
   "cell_type": "code",
   "execution_count": 27,
   "id": "749b5aa3",
   "metadata": {},
   "outputs": [
    {
     "data": {
      "text/html": [
       "<div>\n",
       "<style scoped>\n",
       "    .dataframe tbody tr th:only-of-type {\n",
       "        vertical-align: middle;\n",
       "    }\n",
       "\n",
       "    .dataframe tbody tr th {\n",
       "        vertical-align: top;\n",
       "    }\n",
       "\n",
       "    .dataframe thead th {\n",
       "        text-align: right;\n",
       "    }\n",
       "</style>\n",
       "<table border=\"1\" class=\"dataframe\">\n",
       "  <thead>\n",
       "    <tr style=\"text-align: right;\">\n",
       "      <th></th>\n",
       "      <th>user_id</th>\n",
       "    </tr>\n",
       "    <tr>\n",
       "      <th>group</th>\n",
       "      <th></th>\n",
       "    </tr>\n",
       "  </thead>\n",
       "  <tbody>\n",
       "    <tr>\n",
       "      <td>1</td>\n",
       "      <td>2489</td>\n",
       "    </tr>\n",
       "    <tr>\n",
       "      <td>2</td>\n",
       "      <td>2520</td>\n",
       "    </tr>\n",
       "    <tr>\n",
       "      <td>99</td>\n",
       "      <td>2542</td>\n",
       "    </tr>\n",
       "  </tbody>\n",
       "</table>\n",
       "</div>"
      ],
      "text/plain": [
       "       user_id\n",
       "group         \n",
       "1         2489\n",
       "2         2520\n",
       "99        2542"
      ]
     },
     "execution_count": 27,
     "metadata": {},
     "output_type": "execute_result"
    }
   ],
   "source": [
    "df_group=df.groupby(['group']).agg({'user_id':'nunique'})\n",
    "df_group"
   ]
  },
  {
   "cell_type": "code",
   "execution_count": 28,
   "id": "d77b2373",
   "metadata": {},
   "outputs": [
    {
     "data": {
      "text/plain": [
       "7551"
      ]
     },
     "execution_count": 28,
     "metadata": {},
     "output_type": "execute_result"
    }
   ],
   "source": [
    "df_group['user_id'].sum() "
   ]
  },
  {
   "cell_type": "markdown",
   "id": "1e80d6f5",
   "metadata": {},
   "source": [
    "Сумма уникальных пользователей по группам равна общему количеству уникальных пользователей, никто не попал в более, чем одну группу."
   ]
  },
  {
   "cell_type": "code",
   "execution_count": 29,
   "id": "2c043163",
   "metadata": {},
   "outputs": [
    {
     "data": {
      "text/html": [
       "<div>\n",
       "<style scoped>\n",
       "    .dataframe tbody tr th:only-of-type {\n",
       "        vertical-align: middle;\n",
       "    }\n",
       "\n",
       "    .dataframe tbody tr th {\n",
       "        vertical-align: top;\n",
       "    }\n",
       "\n",
       "    .dataframe thead th {\n",
       "        text-align: right;\n",
       "    }\n",
       "</style>\n",
       "<table border=\"1\" class=\"dataframe\">\n",
       "  <thead>\n",
       "    <tr style=\"text-align: right;\">\n",
       "      <th></th>\n",
       "      <th>user_id</th>\n",
       "    </tr>\n",
       "    <tr>\n",
       "      <th>group</th>\n",
       "      <th></th>\n",
       "    </tr>\n",
       "  </thead>\n",
       "  <tbody>\n",
       "    <tr>\n",
       "      <td>1</td>\n",
       "      <td>2484</td>\n",
       "    </tr>\n",
       "    <tr>\n",
       "      <td>2</td>\n",
       "      <td>2513</td>\n",
       "    </tr>\n",
       "    <tr>\n",
       "      <td>99</td>\n",
       "      <td>2537</td>\n",
       "    </tr>\n",
       "  </tbody>\n",
       "</table>\n",
       "</div>"
      ],
      "text/plain": [
       "       user_id\n",
       "group         \n",
       "1         2484\n",
       "2         2513\n",
       "99        2537"
      ]
     },
     "execution_count": 29,
     "metadata": {},
     "output_type": "execute_result"
    }
   ],
   "source": [
    "df=df[df['day']>='2019-8-01'] # исключаем июль из анализа\n",
    "df_group=df.groupby(['group']).agg({'user_id':'nunique'}) # создаем еще раз таблицу уникумов по группам\n",
    "df_group"
   ]
  },
  {
   "cell_type": "markdown",
   "id": "ef93132d",
   "metadata": {},
   "source": [
    "Исходя из того, что данные за первую неделю из двух имеющихся у нас в распоряжении, а именно за 25-31 июля, составляют 1.16% от всех имеющихся логов, мы решили их исключить, потеряв данные лишь о 17 пользователях, это 0.2%. \n",
    "Таким образом, мы будем анализировать данные с 1 по 7 августа.\n",
    "Заметим, что в трех выделенных группах пользователи не повторяются."
   ]
  },
  {
   "cell_type": "markdown",
   "id": "5308e775",
   "metadata": {},
   "source": [
    "## Шаг 4. Изучите воронку событий"
   ]
  },
  {
   "cell_type": "markdown",
   "id": "99a254b4",
   "metadata": {},
   "source": [
    "#### Посмотрите, какие события есть в логах, как часто они встречаются. Отсортируйте события по частоте."
   ]
  },
  {
   "cell_type": "code",
   "execution_count": 30,
   "id": "94bd8fcd",
   "metadata": {},
   "outputs": [
    {
     "data": {
      "text/html": [
       "<div>\n",
       "<style scoped>\n",
       "    .dataframe tbody tr th:only-of-type {\n",
       "        vertical-align: middle;\n",
       "    }\n",
       "\n",
       "    .dataframe tbody tr th {\n",
       "        vertical-align: top;\n",
       "    }\n",
       "\n",
       "    .dataframe thead th {\n",
       "        text-align: right;\n",
       "    }\n",
       "</style>\n",
       "<table border=\"1\" class=\"dataframe\">\n",
       "  <thead>\n",
       "    <tr style=\"text-align: right;\">\n",
       "      <th></th>\n",
       "      <th>count</th>\n",
       "      <th>percent</th>\n",
       "    </tr>\n",
       "    <tr>\n",
       "      <th>event</th>\n",
       "      <th></th>\n",
       "      <th></th>\n",
       "    </tr>\n",
       "  </thead>\n",
       "  <tbody>\n",
       "    <tr>\n",
       "      <td>MainScreenAppear</td>\n",
       "      <td>117328</td>\n",
       "      <td>48.71</td>\n",
       "    </tr>\n",
       "    <tr>\n",
       "      <td>OffersScreenAppear</td>\n",
       "      <td>46333</td>\n",
       "      <td>19.23</td>\n",
       "    </tr>\n",
       "    <tr>\n",
       "      <td>CartScreenAppear</td>\n",
       "      <td>42303</td>\n",
       "      <td>17.56</td>\n",
       "    </tr>\n",
       "    <tr>\n",
       "      <td>PaymentScreenSuccessful</td>\n",
       "      <td>33918</td>\n",
       "      <td>14.08</td>\n",
       "    </tr>\n",
       "    <tr>\n",
       "      <td>Tutorial</td>\n",
       "      <td>1005</td>\n",
       "      <td>0.42</td>\n",
       "    </tr>\n",
       "  </tbody>\n",
       "</table>\n",
       "</div>"
      ],
      "text/plain": [
       "                          count  percent\n",
       "event                                   \n",
       "MainScreenAppear         117328    48.71\n",
       "OffersScreenAppear        46333    19.23\n",
       "CartScreenAppear          42303    17.56\n",
       "PaymentScreenSuccessful   33918    14.08\n",
       "Tutorial                   1005     0.42"
      ]
     },
     "execution_count": 30,
     "metadata": {},
     "output_type": "execute_result"
    }
   ],
   "source": [
    "df_events=df.groupby('event')['event'].agg(['count'])\n",
    "df_events['percent']=df_events['count']/df_events['count'].sum()*100\n",
    "df_events.sort_values(by='percent', ascending=False)"
   ]
  },
  {
   "cell_type": "markdown",
   "id": "8b5c1f69",
   "metadata": {},
   "source": [
    "У нас имеется пять событий, по частоте это: просмотр основной страницы, просмотр страницы с предложениями, страница оплаты, успешная оплата, а также тьюториал (инструкция по применению приложения)."
   ]
  },
  {
   "cell_type": "markdown",
   "id": "ab1795b5",
   "metadata": {},
   "source": [
    "#### Посчитайте, сколько пользователей совершали каждое из этих событий. Отсортируйте события по числу пользователей. Посчитайте долю пользователей, которые хоть раз совершали событие."
   ]
  },
  {
   "cell_type": "code",
   "execution_count": 31,
   "id": "8875ecd2",
   "metadata": {},
   "outputs": [
    {
     "name": "stdout",
     "output_type": "stream",
     "text": [
      "всего пользователей: 7534\n"
     ]
    }
   ],
   "source": [
    "total_users=df['user_id'].nunique()\n",
    "print('всего пользователей:',total_users)"
   ]
  },
  {
   "cell_type": "code",
   "execution_count": 32,
   "id": "f2ceb35a",
   "metadata": {},
   "outputs": [
    {
     "data": {
      "text/html": [
       "<div>\n",
       "<style scoped>\n",
       "    .dataframe tbody tr th:only-of-type {\n",
       "        vertical-align: middle;\n",
       "    }\n",
       "\n",
       "    .dataframe tbody tr th {\n",
       "        vertical-align: top;\n",
       "    }\n",
       "\n",
       "    .dataframe thead th {\n",
       "        text-align: right;\n",
       "    }\n",
       "</style>\n",
       "<table border=\"1\" class=\"dataframe\">\n",
       "  <thead>\n",
       "    <tr style=\"text-align: right;\">\n",
       "      <th></th>\n",
       "      <th>nunique</th>\n",
       "      <th>percent_from_all</th>\n",
       "    </tr>\n",
       "    <tr>\n",
       "      <th>event</th>\n",
       "      <th></th>\n",
       "      <th></th>\n",
       "    </tr>\n",
       "  </thead>\n",
       "  <tbody>\n",
       "    <tr>\n",
       "      <td>MainScreenAppear</td>\n",
       "      <td>7419</td>\n",
       "      <td>98.47</td>\n",
       "    </tr>\n",
       "    <tr>\n",
       "      <td>OffersScreenAppear</td>\n",
       "      <td>4593</td>\n",
       "      <td>60.96</td>\n",
       "    </tr>\n",
       "    <tr>\n",
       "      <td>CartScreenAppear</td>\n",
       "      <td>3734</td>\n",
       "      <td>49.56</td>\n",
       "    </tr>\n",
       "    <tr>\n",
       "      <td>PaymentScreenSuccessful</td>\n",
       "      <td>3539</td>\n",
       "      <td>46.97</td>\n",
       "    </tr>\n",
       "    <tr>\n",
       "      <td>Tutorial</td>\n",
       "      <td>840</td>\n",
       "      <td>11.15</td>\n",
       "    </tr>\n",
       "  </tbody>\n",
       "</table>\n",
       "</div>"
      ],
      "text/plain": [
       "                         nunique  percent_from_all\n",
       "event                                             \n",
       "MainScreenAppear            7419             98.47\n",
       "OffersScreenAppear          4593             60.96\n",
       "CartScreenAppear            3734             49.56\n",
       "PaymentScreenSuccessful     3539             46.97\n",
       "Tutorial                     840             11.15"
      ]
     },
     "execution_count": 32,
     "metadata": {},
     "output_type": "execute_result"
    }
   ],
   "source": [
    "df_events_users=df.groupby('event')['user_id'] .agg(['nunique'])\n",
    "df_events_users['percent_from_all']=df_events_users['nunique']/df['user_id'].nunique()*100\n",
    "df_events_users=df_events_users.sort_values(by='percent_from_all', ascending=False)\n",
    "df_events_users"
   ]
  },
  {
   "cell_type": "markdown",
   "id": "e4e59bdb",
   "metadata": {},
   "source": [
    "Всего у нас было зафиксировано 7534 уникальных пользователей.  Однако самое популярное действие, - MainScreenAppear, совершили не все, а 7419 (98.5% от всех). Значит, некоторые пользователи пропустили это действие. Второе по популярности действие - OffersScreenAppear совершили 61% пользователей от всех. А вот Tutorial посмотрели только 11.2% пользователей."
   ]
  },
  {
   "cell_type": "markdown",
   "id": "5924b77b",
   "metadata": {},
   "source": [
    "####  Предположите, в каком порядке происходят события. Все ли они выстраиваются в последовательную цепочку? Их не нужно учитывать при расчёте воронки."
   ]
  },
  {
   "cell_type": "markdown",
   "id": "75a08f38",
   "metadata": {},
   "source": [
    "Через множества (в которых элементы не повторяются, а значит там только уникальные пользователи), проверим присутсвие одних и тех же пользователей в событиях."
   ]
  },
  {
   "cell_type": "code",
   "execution_count": 33,
   "id": "f703d05c",
   "metadata": {},
   "outputs": [],
   "source": [
    "MainScreen=set(df[df['event']=='MainScreenAppear']['user_id'])\n",
    "OffersScreen=set(df[df['event']=='OffersScreenAppear']['user_id'])\n",
    "CartScreen=set(df[df['event']=='CartScreenAppear']['user_id'])\n",
    "PaymentScreen=set(df[df['event']=='PaymentScreenSuccessful']['user_id'])\n",
    "Tutorial=set(df[df['event']=='Tutorial']['user_id'])"
   ]
  },
  {
   "cell_type": "code",
   "execution_count": 34,
   "id": "21e94f4b",
   "metadata": {},
   "outputs": [
    {
     "name": "stdout",
     "output_type": "stream",
     "text": [
      "пользователей, пропустивших MainScreenAppear и совершивших сразу OffersScreenAppear: 111 или 1.47%\n"
     ]
    }
   ],
   "source": [
    "print('пользователей, пропустивших MainScreenAppear и совершивших сразу OffersScreenAppear: {} или {:.2f}%'.format(\n",
    "    len(OffersScreen-MainScreen), len(OffersScreen-MainScreen)/total_users*100))"
   ]
  },
  {
   "cell_type": "code",
   "execution_count": 35,
   "id": "c874952b",
   "metadata": {},
   "outputs": [
    {
     "name": "stdout",
     "output_type": "stream",
     "text": [
      "пользователей, пропустивших MainScreenAppear и OffersScreenAppear, и совершивших CartScreenAppear без них: 0\n"
     ]
    }
   ],
   "source": [
    "print('пользователей, пропустивших MainScreenAppear и OffersScreenAppear, и совершивших CartScreenAppear без них:', len(\n",
    "    CartScreen-OffersScreen-MainScreen))"
   ]
  },
  {
   "cell_type": "code",
   "execution_count": 36,
   "id": "8b4fd47f",
   "metadata": {},
   "outputs": [
    {
     "name": "stdout",
     "output_type": "stream",
     "text": [
      "пользователей, пропустивших CartScreenAppear и совершивших сразу PaymentScreenSuccessful: 5 или 0.07%\n"
     ]
    }
   ],
   "source": [
    "print('пользователей, пропустивших CartScreenAppear и совершивших сразу PaymentScreenSuccessful: {} или {:.2f}%'.format(\n",
    "    len(PaymentScreen-CartScreen), len(PaymentScreen-CartScreen)/total_users*100))"
   ]
  },
  {
   "cell_type": "code",
   "execution_count": 37,
   "id": "09d0fc23",
   "metadata": {},
   "outputs": [
    {
     "name": "stdout",
     "output_type": "stream",
     "text": [
      "пользователей, пропустивших CartScreenAppear и OffersScreenAppear, и совершивших PaymentScreen без них: 0 или 0.00%\n"
     ]
    }
   ],
   "source": [
    "print('пользователей, пропустивших CartScreenAppear и OffersScreenAppear, и совершивших PaymentScreen без них: {} или {:.2f}%'.format(\n",
    "    len(PaymentScreen-OffersScreen-CartScreen), len(PaymentScreen-OffersScreen-CartScreen)/total_users*100))"
   ]
  },
  {
   "cell_type": "code",
   "execution_count": 38,
   "id": "7ed7500a",
   "metadata": {},
   "outputs": [
    {
     "name": "stdout",
     "output_type": "stream",
     "text": [
      "4\n",
      "4\n",
      "298\n",
      "373\n",
      "298\n"
     ]
    }
   ],
   "source": [
    "print(len(Tutorial-MainScreen))\n",
    "print(len(Tutorial-MainScreen-OffersScreen))\n",
    "print(len(Tutorial-CartScreen))\n",
    "print(len(Tutorial-PaymentScreen))\n",
    "print(len(Tutorial-CartScreen-PaymentScreen))"
   ]
  },
  {
   "cell_type": "markdown",
   "id": "c6ee8169",
   "metadata": {},
   "source": [
    "Мы предпологаем, что, как правило, первое событие, это MainScreenAppear, второе - OffersScreenAppear, однако, на него можно было попасть иногда минуя первое (так сделали 1.5% пользователей). Следующим действием был CartScreenAppear (его сделали прийдя с MainScreenAppear или OffersScreenAppear, там нет пользователей попавших на этот шаг без одного из предыдущих). \n",
    "Потом совершали PaymentScreenSuccessful, как правило прийдя с CartScreenAppear, однако 5 человек миновали его и пришли сразу с OffersScreenAppear (возможно, у них уже была привязана карта или платежная система).\n",
    "Однако, не совсем понятно как обстоят дела с событием Tutorial, когда оно совершается."
   ]
  },
  {
   "cell_type": "code",
   "execution_count": 39,
   "id": "beccad31",
   "metadata": {},
   "outputs": [],
   "source": [
    "users = df.pivot_table(index='user_id', columns='event', values='date', aggfunc='min')"
   ]
  },
  {
   "cell_type": "code",
   "execution_count": 40,
   "id": "c5143c04",
   "metadata": {},
   "outputs": [
    {
     "name": "stdout",
     "output_type": "stream",
     "text": [
      "Пользователей, зашедших на Tutorial прежде чем зайти на MainScreenAppear : 787 или 93.69%\n"
     ]
    }
   ],
   "source": [
    "# сделаем расчет, чтобы понять, когда большинство заходило на Tutorial - до или после MainScreenAppear\n",
    "users_tutorial=users[users['Tutorial']==users['Tutorial']] # 840 users\n",
    "users_tutorial_before_mainscreen = users_tutorial[users_tutorial['Tutorial']< users_tutorial['MainScreenAppear']] # 787 users\n",
    "print('Пользователей, зашедших на Tutorial прежде чем зайти на MainScreenAppear : {} или {:.2f}%'.format(users_tutorial_before_mainscreen['Tutorial'].count(), users_tutorial_before_mainscreen['Tutorial'].count()/users_tutorial['Tutorial'].count()*100))\n"
   ]
  },
  {
   "cell_type": "code",
   "execution_count": 41,
   "id": "351f07db",
   "metadata": {},
   "outputs": [
    {
     "data": {
      "text/html": [
       "<div>\n",
       "<style scoped>\n",
       "    .dataframe tbody tr th:only-of-type {\n",
       "        vertical-align: middle;\n",
       "    }\n",
       "\n",
       "    .dataframe tbody tr th {\n",
       "        vertical-align: top;\n",
       "    }\n",
       "\n",
       "    .dataframe thead th {\n",
       "        text-align: right;\n",
       "    }\n",
       "</style>\n",
       "<table border=\"1\" class=\"dataframe\">\n",
       "  <thead>\n",
       "    <tr style=\"text-align: right;\">\n",
       "      <th>event</th>\n",
       "      <th>CartScreenAppear</th>\n",
       "      <th>MainScreenAppear</th>\n",
       "      <th>OffersScreenAppear</th>\n",
       "      <th>PaymentScreenSuccessful</th>\n",
       "      <th>Tutorial</th>\n",
       "    </tr>\n",
       "    <tr>\n",
       "      <th>user_id</th>\n",
       "      <th></th>\n",
       "      <th></th>\n",
       "      <th></th>\n",
       "      <th></th>\n",
       "      <th></th>\n",
       "    </tr>\n",
       "  </thead>\n",
       "  <tbody>\n",
       "    <tr>\n",
       "      <td>9841258664663090</td>\n",
       "      <td>2019-08-03 10:52:15</td>\n",
       "      <td>2019-08-03 10:47:59</td>\n",
       "      <td>2019-08-03 10:49:42</td>\n",
       "      <td>2019-08-03 17:57:27</td>\n",
       "      <td>2019-08-03 10:47:28</td>\n",
       "    </tr>\n",
       "    <tr>\n",
       "      <td>29094035245869447</td>\n",
       "      <td>2019-08-02 13:15:22</td>\n",
       "      <td>2019-08-02 13:13:24</td>\n",
       "      <td>2019-08-02 13:13:43</td>\n",
       "      <td>2019-08-02 15:23:05</td>\n",
       "      <td>2019-08-02 13:13:20</td>\n",
       "    </tr>\n",
       "    <tr>\n",
       "      <td>77364241990273403</td>\n",
       "      <td>2019-08-03 11:22:11</td>\n",
       "      <td>2019-08-02 15:08:00</td>\n",
       "      <td>2019-08-03 11:12:23</td>\n",
       "      <td>2019-08-03 11:22:10</td>\n",
       "      <td>2019-08-02 15:07:40</td>\n",
       "    </tr>\n",
       "    <tr>\n",
       "      <td>84107839139059565</td>\n",
       "      <td>2019-08-03 15:15:43</td>\n",
       "      <td>2019-08-03 15:13:41</td>\n",
       "      <td>2019-08-03 15:15:17</td>\n",
       "      <td>2019-08-03 15:16:18</td>\n",
       "      <td>2019-08-03 15:13:19</td>\n",
       "    </tr>\n",
       "    <tr>\n",
       "      <td>89078601045475920</td>\n",
       "      <td>2019-08-04 16:47:58</td>\n",
       "      <td>2019-08-04 16:46:29</td>\n",
       "      <td>2019-08-04 16:46:37</td>\n",
       "      <td>2019-08-04 16:47:57</td>\n",
       "      <td>2019-08-04 16:45:45</td>\n",
       "    </tr>\n",
       "  </tbody>\n",
       "</table>\n",
       "</div>"
      ],
      "text/plain": [
       "event                CartScreenAppear    MainScreenAppear  OffersScreenAppear  \\\n",
       "user_id                                                                         \n",
       "9841258664663090  2019-08-03 10:52:15 2019-08-03 10:47:59 2019-08-03 10:49:42   \n",
       "29094035245869447 2019-08-02 13:15:22 2019-08-02 13:13:24 2019-08-02 13:13:43   \n",
       "77364241990273403 2019-08-03 11:22:11 2019-08-02 15:08:00 2019-08-03 11:12:23   \n",
       "84107839139059565 2019-08-03 15:15:43 2019-08-03 15:13:41 2019-08-03 15:15:17   \n",
       "89078601045475920 2019-08-04 16:47:58 2019-08-04 16:46:29 2019-08-04 16:46:37   \n",
       "\n",
       "event             PaymentScreenSuccessful            Tutorial  \n",
       "user_id                                                        \n",
       "9841258664663090      2019-08-03 17:57:27 2019-08-03 10:47:28  \n",
       "29094035245869447     2019-08-02 15:23:05 2019-08-02 13:13:20  \n",
       "77364241990273403     2019-08-03 11:22:10 2019-08-02 15:07:40  \n",
       "84107839139059565     2019-08-03 15:16:18 2019-08-03 15:13:19  \n",
       "89078601045475920     2019-08-04 16:47:57 2019-08-04 16:45:45  "
      ]
     },
     "execution_count": 41,
     "metadata": {},
     "output_type": "execute_result"
    }
   ],
   "source": [
    "users_tutorial[users_tutorial['Tutorial']<users_tutorial['PaymentScreenSuccessful']].head()"
   ]
  },
  {
   "cell_type": "markdown",
   "id": "e9404688",
   "metadata": {},
   "source": [
    "Мы можем сказать, что согласно нашим данным большинство (94%) совершали действие Tutorial до MainScreen. Тогда получается на Tutorial либо можно было попасть из внешнего источника, либо такой результат мог быть вызван сбоем или \"скосом\" в данных. Также, возможно, эти пользователи уже соврешали MainScreen в те дни, за которые у нас было очень мало данных и они были исключены из анализа.\n",
    "\n",
    "Таким образом, стандартый порядок такой:\n",
    "\n",
    "0. Tutorial (лучше исключить этот шаг для анализа воронки)\n",
    "1. MainScreenAppear\n",
    "2. OffersScreenAppear\n",
    "3. CartScreenAppear\n",
    "4. PaymentScreenSuccessful"
   ]
  },
  {
   "cell_type": "markdown",
   "id": "99815976",
   "metadata": {},
   "source": [
    "#### По воронке событий посчитайте, какая доля пользователей проходит на следующий шаг воронки (от числа пользователей на предыдущем). То есть для последовательности событий A → B → C посчитайте отношение числа пользователей с событием B к количеству пользователей с событием A, а также отношение числа пользователей с событием C к количеству пользователей с событием B. На каком шаге теряете больше всего пользователей? Какая доля пользователей доходит от первого события до оплаты?"
   ]
  },
  {
   "cell_type": "markdown",
   "id": "09cd22f8",
   "metadata": {},
   "source": [
    "Так как в задании сказано не учитывать последовательность действий при расчете воронки, удалим событие Tutorial и рассчитаем простую воронку и пошаговою воронку."
   ]
  },
  {
   "cell_type": "code",
   "execution_count": 42,
   "id": "dfbf3e59",
   "metadata": {},
   "outputs": [
    {
     "data": {
      "text/html": [
       "<div>\n",
       "<style scoped>\n",
       "    .dataframe tbody tr th:only-of-type {\n",
       "        vertical-align: middle;\n",
       "    }\n",
       "\n",
       "    .dataframe tbody tr th {\n",
       "        vertical-align: top;\n",
       "    }\n",
       "\n",
       "    .dataframe thead th {\n",
       "        text-align: right;\n",
       "    }\n",
       "</style>\n",
       "<table border=\"1\" class=\"dataframe\">\n",
       "  <thead>\n",
       "    <tr style=\"text-align: right;\">\n",
       "      <th></th>\n",
       "      <th>event</th>\n",
       "      <th>nunique</th>\n",
       "    </tr>\n",
       "  </thead>\n",
       "  <tbody>\n",
       "    <tr>\n",
       "      <td>0</td>\n",
       "      <td>MainScreenAppear</td>\n",
       "      <td>7419</td>\n",
       "    </tr>\n",
       "    <tr>\n",
       "      <td>1</td>\n",
       "      <td>OffersScreenAppear</td>\n",
       "      <td>4593</td>\n",
       "    </tr>\n",
       "    <tr>\n",
       "      <td>2</td>\n",
       "      <td>CartScreenAppear</td>\n",
       "      <td>3734</td>\n",
       "    </tr>\n",
       "    <tr>\n",
       "      <td>3</td>\n",
       "      <td>PaymentScreenSuccessful</td>\n",
       "      <td>3539</td>\n",
       "    </tr>\n",
       "  </tbody>\n",
       "</table>\n",
       "</div>"
      ],
      "text/plain": [
       "                     event  nunique\n",
       "0         MainScreenAppear     7419\n",
       "1       OffersScreenAppear     4593\n",
       "2         CartScreenAppear     3734\n",
       "3  PaymentScreenSuccessful     3539"
      ]
     },
     "execution_count": 42,
     "metadata": {},
     "output_type": "execute_result"
    }
   ],
   "source": [
    "df_events_users_funnel=df.groupby('event')['user_id'] .agg(['nunique']).sort_values(by='nunique', ascending=False)\n",
    "df_events_users_funnel=df_events_users_funnel.drop(['Tutorial']).reset_index()\n",
    "df_events_users_funnel"
   ]
  },
  {
   "cell_type": "code",
   "execution_count": 43,
   "id": "7d4c232f",
   "metadata": {},
   "outputs": [
    {
     "name": "stderr",
     "output_type": "stream",
     "text": [
      "/opt/conda/lib/python3.7/site-packages/ipykernel_launcher.py:3: SettingWithCopyWarning: \n",
      "A value is trying to be set on a copy of a slice from a DataFrame\n",
      "\n",
      "See the caveats in the documentation: http://pandas.pydata.org/pandas-docs/stable/user_guide/indexing.html#returning-a-view-versus-a-copy\n",
      "  This is separate from the ipykernel package so we can avoid doing imports until\n",
      "/opt/conda/lib/python3.7/site-packages/ipykernel_launcher.py:4: SettingWithCopyWarning: \n",
      "A value is trying to be set on a copy of a slice from a DataFrame\n",
      "\n",
      "See the caveats in the documentation: http://pandas.pydata.org/pandas-docs/stable/user_guide/indexing.html#returning-a-view-versus-a-copy\n",
      "  after removing the cwd from sys.path.\n"
     ]
    }
   ],
   "source": [
    "df_events_users_funnel['percent_from_previos']= \"\"\n",
    "for i in range(len(df_events_users_funnel['event'])):\n",
    "    df_events_users_funnel['percent_from_previos'][0]=100\n",
    "    df_events_users_funnel['percent_from_previos'][i+1]=df_events_users['nunique'][i+1]/df_events_users['nunique'][i]*100\n",
    "    i+=1"
   ]
  },
  {
   "cell_type": "code",
   "execution_count": 44,
   "id": "cce76e3b",
   "metadata": {},
   "outputs": [
    {
     "data": {
      "text/html": [
       "<div>\n",
       "<style scoped>\n",
       "    .dataframe tbody tr th:only-of-type {\n",
       "        vertical-align: middle;\n",
       "    }\n",
       "\n",
       "    .dataframe tbody tr th {\n",
       "        vertical-align: top;\n",
       "    }\n",
       "\n",
       "    .dataframe thead th {\n",
       "        text-align: right;\n",
       "    }\n",
       "</style>\n",
       "<table border=\"1\" class=\"dataframe\">\n",
       "  <thead>\n",
       "    <tr style=\"text-align: right;\">\n",
       "      <th></th>\n",
       "      <th>event</th>\n",
       "      <th>nunique</th>\n",
       "      <th>percent_from_previos</th>\n",
       "      <th>percent_from_first</th>\n",
       "    </tr>\n",
       "  </thead>\n",
       "  <tbody>\n",
       "    <tr>\n",
       "      <td>0</td>\n",
       "      <td>MainScreenAppear</td>\n",
       "      <td>7419</td>\n",
       "      <td>100</td>\n",
       "      <td>100.00</td>\n",
       "    </tr>\n",
       "    <tr>\n",
       "      <td>1</td>\n",
       "      <td>OffersScreenAppear</td>\n",
       "      <td>4593</td>\n",
       "      <td>61.91</td>\n",
       "      <td>61.91</td>\n",
       "    </tr>\n",
       "    <tr>\n",
       "      <td>2</td>\n",
       "      <td>CartScreenAppear</td>\n",
       "      <td>3734</td>\n",
       "      <td>81.30</td>\n",
       "      <td>50.33</td>\n",
       "    </tr>\n",
       "    <tr>\n",
       "      <td>3</td>\n",
       "      <td>PaymentScreenSuccessful</td>\n",
       "      <td>3539</td>\n",
       "      <td>94.78</td>\n",
       "      <td>47.70</td>\n",
       "    </tr>\n",
       "  </tbody>\n",
       "</table>\n",
       "</div>"
      ],
      "text/plain": [
       "                     event  nunique percent_from_previos  percent_from_first\n",
       "0         MainScreenAppear     7419                  100              100.00\n",
       "1       OffersScreenAppear     4593                61.91               61.91\n",
       "2         CartScreenAppear     3734                81.30               50.33\n",
       "3  PaymentScreenSuccessful     3539                94.78               47.70"
      ]
     },
     "execution_count": 44,
     "metadata": {},
     "output_type": "execute_result"
    }
   ],
   "source": [
    "total_users_fisrt_event=df_events_users['nunique'][0]\n",
    "df_events_users_funnel['percent_from_first']= df_events_users_funnel['nunique']/total_users_fisrt_event*100\n",
    "df_events_users_funnel"
   ]
  },
  {
   "cell_type": "code",
   "execution_count": 45,
   "id": "88e3d020",
   "metadata": {},
   "outputs": [
    {
     "data": {
      "image/png": "[encoded data removed]",
      "text/plain": [
       "<Figure size 432x288 with 1 Axes>"
      ]
     },
     "metadata": {
      "needs_background": "light"
     },
     "output_type": "display_data"
    }
   ],
   "source": [
    "sns.barplot(y=df_events_users_funnel['percent_from_previos'], x=df_events_users_funnel['event'], palette='Blues_r')\n",
    "plt.title('Доля пользователей на следующем шагу воронки (от числа на предыдущем шаге)')\n",
    "plt.xlabel('')\n",
    "plt.ylabel('% от предыдушего шага')\n",
    "plt.xticks(rotation=25)\n",
    "plt.show()"
   ]
  },
  {
   "cell_type": "code",
   "execution_count": 46,
   "id": "96ebc0f7",
   "metadata": {},
   "outputs": [
    {
     "data": {
      "image/png": "[encoded data removed]",
      "text/plain": [
       "<Figure size 432x288 with 1 Axes>"
      ]
     },
     "metadata": {
      "needs_background": "light"
     },
     "output_type": "display_data"
    }
   ],
   "source": [
    "sns.barplot(y=df_events_users_funnel['percent_from_first'], x=df_events_users_funnel['event'], palette='Blues_r')\n",
    "plt.title('Доля пользователей на каждом шагу воронки от числа на первом шаге')\n",
    "plt.xlabel('')\n",
    "plt.ylabel('% от числа на первом шагу')\n",
    "plt.xticks(rotation=25)\n",
    "plt.show()"
   ]
  },
  {
   "cell_type": "markdown",
   "id": "b29f4560",
   "metadata": {},
   "source": [
    "Больше всего пользователей мы теряем пользователей после первого шага, - почти 40% из тех, кто посетил начальную страницу (MainScreenAppear) не переходят на страницу с предложениями (OffersScreenAppear). Значит, именно на этом этапе нужно что-то менять, чтобы больше пользователей шло на страницу с предложениями.\n",
    "\n",
    "Из тех же, что перешли на предложения, более 80% идут на страницу оплаты (CartScreenAppear) и из них почти все, а именно 95% успешно оплачивают (PaymentScreenSuccessful).\n",
    "От первого собятия до оплаты доходят чуть менее половины пользователей, - 48%."
   ]
  },
  {
   "cell_type": "markdown",
   "id": "61ae1197",
   "metadata": {},
   "source": [
    "## Шаг 5. Изучите результаты эксперимента"
   ]
  },
  {
   "cell_type": "markdown",
   "id": "fee81ed8",
   "metadata": {},
   "source": [
    "#### Сколько пользователей в каждой экспериментальной группе? Есть 2 контрольные группы для А/А-эксперимента, чтобы проверить корректность всех механизмов и расчётов. Проверьте, находят ли статистические критерии разницу между выборками 246 и 247"
   ]
  },
  {
   "cell_type": "code",
   "execution_count": 47,
   "id": "b83abe69",
   "metadata": {},
   "outputs": [
    {
     "data": {
      "text/html": [
       "<div>\n",
       "<style scoped>\n",
       "    .dataframe tbody tr th:only-of-type {\n",
       "        vertical-align: middle;\n",
       "    }\n",
       "\n",
       "    .dataframe tbody tr th {\n",
       "        vertical-align: top;\n",
       "    }\n",
       "\n",
       "    .dataframe thead th {\n",
       "        text-align: right;\n",
       "    }\n",
       "</style>\n",
       "<table border=\"1\" class=\"dataframe\">\n",
       "  <thead>\n",
       "    <tr style=\"text-align: right;\">\n",
       "      <th></th>\n",
       "      <th>user_id</th>\n",
       "    </tr>\n",
       "    <tr>\n",
       "      <th>group</th>\n",
       "      <th></th>\n",
       "    </tr>\n",
       "  </thead>\n",
       "  <tbody>\n",
       "    <tr>\n",
       "      <td>1</td>\n",
       "      <td>2484</td>\n",
       "    </tr>\n",
       "    <tr>\n",
       "      <td>2</td>\n",
       "      <td>2513</td>\n",
       "    </tr>\n",
       "    <tr>\n",
       "      <td>99</td>\n",
       "      <td>2537</td>\n",
       "    </tr>\n",
       "  </tbody>\n",
       "</table>\n",
       "</div>"
      ],
      "text/plain": [
       "       user_id\n",
       "group         \n",
       "1         2484\n",
       "2         2513\n",
       "99        2537"
      ]
     },
     "execution_count": 47,
     "metadata": {},
     "output_type": "execute_result"
    }
   ],
   "source": [
    "df_group"
   ]
  },
  {
   "cell_type": "markdown",
   "id": "5bc66b7e",
   "metadata": {},
   "source": [
    "В трех группах практически одинаковое число уникальных пользователей, около 2500."
   ]
  },
  {
   "cell_type": "markdown",
   "id": "dfa4a6a2",
   "metadata": {},
   "source": [
    "Для удобства, добавим в названия действий цифру, обозначающую порядковый номер выполнения. Тьюториал оставим без изменений, т.к. ранее мы видели, что он часто как событие предшествовал просмотру экрана. По этой причине мы не будем брать это действие в расчет."
   ]
  },
  {
   "cell_type": "code",
   "execution_count": 48,
   "id": "4c8e87a1",
   "metadata": {},
   "outputs": [],
   "source": [
    "df['event'] = df['event'].str.replace('MainScreenAppear','1_MainScreenAppear')\n",
    "df['event'] = df['event'].str.replace('OffersScreenAppear','2_OffersScreenAppear')\n",
    "df['event'] = df['event'].str.replace('CartScreenAppear','3_CartScreenAppear')\n",
    "df['event'] = df['event'].str.replace('PaymentScreenSuccessful','4_PaymentScreenSuccessful')"
   ]
  },
  {
   "cell_type": "markdown",
   "id": "e3a69247",
   "metadata": {},
   "source": [
    "В теории по тестированию было сказано, что при анализе воронок надёжнее опираться на обычную конверсию (в том числе т.к. некоторые шаги иногда могут быть пропущены), а не конверсию из одного шага в другой. Поэтому в данной части мы будем рассматривать именно обычную конверсию. Таблица с общей конверсией выглядит так:"
   ]
  },
  {
   "cell_type": "code",
   "execution_count": 49,
   "id": "0ffaed76",
   "metadata": {},
   "outputs": [
    {
     "data": {
      "text/html": [
       "<div>\n",
       "<style scoped>\n",
       "    .dataframe tbody tr th:only-of-type {\n",
       "        vertical-align: middle;\n",
       "    }\n",
       "\n",
       "    .dataframe tbody tr th {\n",
       "        vertical-align: top;\n",
       "    }\n",
       "\n",
       "    .dataframe thead th {\n",
       "        text-align: right;\n",
       "    }\n",
       "</style>\n",
       "<table border=\"1\" class=\"dataframe\">\n",
       "  <thead>\n",
       "    <tr style=\"text-align: right;\">\n",
       "      <th></th>\n",
       "      <th>event</th>\n",
       "      <th>nunique</th>\n",
       "      <th>conver</th>\n",
       "    </tr>\n",
       "  </thead>\n",
       "  <tbody>\n",
       "    <tr>\n",
       "      <td>0</td>\n",
       "      <td>1_MainScreenAppear</td>\n",
       "      <td>7419</td>\n",
       "      <td>100.00</td>\n",
       "    </tr>\n",
       "    <tr>\n",
       "      <td>1</td>\n",
       "      <td>2_OffersScreenAppear</td>\n",
       "      <td>4593</td>\n",
       "      <td>61.91</td>\n",
       "    </tr>\n",
       "    <tr>\n",
       "      <td>2</td>\n",
       "      <td>3_CartScreenAppear</td>\n",
       "      <td>3734</td>\n",
       "      <td>50.33</td>\n",
       "    </tr>\n",
       "    <tr>\n",
       "      <td>3</td>\n",
       "      <td>4_PaymentScreenSuccessful</td>\n",
       "      <td>3539</td>\n",
       "      <td>47.70</td>\n",
       "    </tr>\n",
       "  </tbody>\n",
       "</table>\n",
       "</div>"
      ],
      "text/plain": [
       "                       event  nunique  conver\n",
       "0         1_MainScreenAppear     7419  100.00\n",
       "1       2_OffersScreenAppear     4593   61.91\n",
       "2         3_CartScreenAppear     3734   50.33\n",
       "3  4_PaymentScreenSuccessful     3539   47.70"
      ]
     },
     "execution_count": 49,
     "metadata": {},
     "output_type": "execute_result"
    }
   ],
   "source": [
    "df_gr=df.groupby(['event'])['user_id'].agg(['nunique'])\n",
    "df_gr['conver']=df_gr['nunique']/df_gr['nunique'].max()*100\n",
    "df_gr=df_gr.drop(['Tutorial']).reset_index()\n",
    "df_gr"
   ]
  },
  {
   "cell_type": "markdown",
   "id": "25088d90",
   "metadata": {},
   "source": [
    "Разобъем общую таблицу по трем группам."
   ]
  },
  {
   "cell_type": "code",
   "execution_count": 50,
   "id": "2bd4e8ee",
   "metadata": {},
   "outputs": [
    {
     "data": {
      "text/html": [
       "<div>\n",
       "<style scoped>\n",
       "    .dataframe tbody tr th:only-of-type {\n",
       "        vertical-align: middle;\n",
       "    }\n",
       "\n",
       "    .dataframe tbody tr th {\n",
       "        vertical-align: top;\n",
       "    }\n",
       "\n",
       "    .dataframe thead th {\n",
       "        text-align: right;\n",
       "    }\n",
       "</style>\n",
       "<table border=\"1\" class=\"dataframe\">\n",
       "  <thead>\n",
       "    <tr style=\"text-align: right;\">\n",
       "      <th>group</th>\n",
       "      <th>control_1</th>\n",
       "      <th>control_2</th>\n",
       "      <th>experimental</th>\n",
       "    </tr>\n",
       "    <tr>\n",
       "      <th>event</th>\n",
       "      <th></th>\n",
       "      <th></th>\n",
       "      <th></th>\n",
       "    </tr>\n",
       "  </thead>\n",
       "  <tbody>\n",
       "    <tr>\n",
       "      <td>1_MainScreenAppear</td>\n",
       "      <td>2450</td>\n",
       "      <td>2476</td>\n",
       "      <td>2493</td>\n",
       "    </tr>\n",
       "    <tr>\n",
       "      <td>2_OffersScreenAppear</td>\n",
       "      <td>1542</td>\n",
       "      <td>1520</td>\n",
       "      <td>1531</td>\n",
       "    </tr>\n",
       "    <tr>\n",
       "      <td>3_CartScreenAppear</td>\n",
       "      <td>1266</td>\n",
       "      <td>1238</td>\n",
       "      <td>1230</td>\n",
       "    </tr>\n",
       "    <tr>\n",
       "      <td>4_PaymentScreenSuccessful</td>\n",
       "      <td>1200</td>\n",
       "      <td>1158</td>\n",
       "      <td>1181</td>\n",
       "    </tr>\n",
       "  </tbody>\n",
       "</table>\n",
       "</div>"
      ],
      "text/plain": [
       "group                      control_1  control_2  experimental\n",
       "event                                                        \n",
       "1_MainScreenAppear              2450       2476          2493\n",
       "2_OffersScreenAppear            1542       1520          1531\n",
       "3_CartScreenAppear              1266       1238          1230\n",
       "4_PaymentScreenSuccessful       1200       1158          1181"
      ]
     },
     "execution_count": 50,
     "metadata": {},
     "output_type": "execute_result"
    }
   ],
   "source": [
    "groups=df.pivot_table(index='event', columns='group', values='user_id', aggfunc='nunique')\n",
    "groups=groups.drop(['Tutorial'])#.reset_index()\n",
    "groups=groups.rename(columns={1:'control_1', 2:'control_2', 99:'experimental'})\n",
    "groups"
   ]
  },
  {
   "cell_type": "markdown",
   "id": "1bfe276c",
   "metadata": {},
   "source": [
    "Проверим, находят ли статистические критерии разницу между контрольными группами (А/А). Если разбивка выполнена верно, то разницы между группами быть не должно. Наша нулевая гипотеза будет звучать как на каждом шаге \"между конверсиями (долями) нет разницы\". То есть нет статистически значимой разницы между долями группы 1 и 2: \n",
    "1) тех, кто перешел на страницу предложений к общему количеству пользователей в группе (те кто были на начальной странице) \n",
    "2) тех кто перешел на страницу оплаты от тех, к общему количеству пользователей в группе\n",
    "3) тех, кто успешно оплатил к общему количеству пользователей в группе\n",
    "\n",
    "Альтернативная гипотеза, соответственно будет звучать, как есть статистически значимая разница между долями в группах по каждой из конверсий."
   ]
  },
  {
   "cell_type": "code",
   "execution_count": 51,
   "id": "e7983b21",
   "metadata": {},
   "outputs": [],
   "source": [
    "alpha = .05 # критический уровень статистической значимости"
   ]
  },
  {
   "cell_type": "code",
   "execution_count": 52,
   "id": "08b1edb7",
   "metadata": {},
   "outputs": [],
   "source": [
    "# пропорция успехов в первой группе:\n",
    "p1 = groups['control_1']['2_OffersScreenAppear']/groups['control_1']['1_MainScreenAppear']\n",
    "\n",
    "# пропорция успехов во второй группе:\n",
    "p2 = groups['control_2']['2_OffersScreenAppear']/groups['control_2']['1_MainScreenAppear']\n",
    "\n",
    "# пропорция успехов во второй группе:\n",
    "p_combined = (groups['control_1']['2_OffersScreenAppear'] + groups['control_2']['2_OffersScreenAppear']) / (\n",
    "    groups['control_1']['1_MainScreenAppear'] + groups['control_2']['1_MainScreenAppear'])\n",
    "\n",
    "# разница пропорций в датасетах\n",
    "difference = p1 - p2"
   ]
  },
  {
   "cell_type": "code",
   "execution_count": 53,
   "id": "a522d05b",
   "metadata": {},
   "outputs": [
    {
     "name": "stdout",
     "output_type": "stream",
     "text": [
      "p-значение:  0.2622344959255778\n",
      "Не получилось отвергнуть нулевую гипотезу, нет оснований считать доли разными\n"
     ]
    }
   ],
   "source": [
    "# считаем статистику в ст.отклонениях стандартного нормального распределения\n",
    "z_value = difference / mth.sqrt(\n",
    "    p_combined * (1 - p_combined) * (1 / groups['control_1']['1_MainScreenAppear'] + 1 / groups['control_2']['1_MainScreenAppear'])\n",
    ")\n",
    "\n",
    "# задаем стандартное нормальное распределение (среднее 0, ст.отклонение 1)\n",
    "distr = st.norm(0, 1)\n",
    "\n",
    "p_value = (1 - distr.cdf(abs(z_value))) * 2\n",
    "\n",
    "print('p-значение: ', p_value)\n",
    "\n",
    "if p_value < alpha:\n",
    "    print('Отвергаем нулевую гипотезу: между долями есть значимая разница')\n",
    "else:\n",
    "    print(\n",
    "        'Не получилось отвергнуть нулевую гипотезу, нет оснований считать доли разными'\n",
    "    )"
   ]
  },
  {
   "cell_type": "markdown",
   "id": "5209bfd0",
   "metadata": {},
   "source": [
    "Первое сравнение показало, что нет оснований полагать о разнице между группами. Посмотрим на остальные, для этого создадим фунцию"
   ]
  },
  {
   "cell_type": "code",
   "execution_count": 54,
   "id": "650a9a8d",
   "metadata": {},
   "outputs": [],
   "source": [
    "def test(group_a, group_b, event):\n",
    "    p1 = groups[group_a][event]/groups[group_a]['1_MainScreenAppear']\n",
    "    p2 = groups[group_b][event]/groups[group_b]['1_MainScreenAppear']\n",
    "    p_combined = (groups[group_a][event] + groups[group_b][event]) / (\n",
    "    groups[group_a]['1_MainScreenAppear'] + groups[group_b]['1_MainScreenAppear'])\n",
    "    difference = p1 - p2\n",
    "    z_value = difference / mth.sqrt(\n",
    "    p_combined * (1 - p_combined) * (1 / groups[group_a]['1_MainScreenAppear'] + 1 / groups[group_b]['1_MainScreenAppear']))\n",
    "    distr = st.norm(0, 1)\n",
    "    p_value = (1 - distr.cdf(abs(z_value))) * 2\n",
    "    print('p-значение: ', p_value)\n",
    "    if p_value < alpha:\n",
    "        print('Отвергаем нулевую гипотезу: между долями есть значимая разница')\n",
    "    else:\n",
    "        print('Не получилось отвергнуть нулевую гипотезу, нет оснований считать доли разными')"
   ]
  },
  {
   "cell_type": "code",
   "execution_count": null,
   "id": "d6302dc9",
   "metadata": {},
   "outputs": [],
   "source": [
    "# проверим работу функции повторив предыдущее сравнение\n",
    "test('control_1', 'control_2', '2_OffersScreenAppear')"
   ]
  },
  {
   "cell_type": "code",
   "execution_count": 56,
   "id": "ecfa3df6",
   "metadata": {},
   "outputs": [
    {
     "name": "stdout",
     "output_type": "stream",
     "text": [
      "p-значение:  0.24012327015939383\n",
      "Не получилось отвергнуть нулевую гипотезу, нет оснований считать доли разными\n"
     ]
    }
   ],
   "source": [
    "test('control_1', 'control_2', '3_CartScreenAppear')"
   ]
  },
  {
   "cell_type": "code",
   "execution_count": 57,
   "id": "4b5eb1bf",
   "metadata": {},
   "outputs": [
    {
     "name": "stdout",
     "output_type": "stream",
     "text": [
      "p-значение:  0.12044299485641763\n",
      "Не получилось отвергнуть нулевую гипотезу, нет оснований считать доли разными\n"
     ]
    }
   ],
   "source": [
    "test('control_1', 'control_2', '4_PaymentScreenSuccessful')"
   ]
  },
  {
   "cell_type": "markdown",
   "id": "839e06f0",
   "metadata": {},
   "source": [
    "Итак, мы не нашли статистически значимую разницу между контрольными группами, сравнивая их конверсии. Это хорошие новости, значит, мы можем по-прежнему считать, что группы являются контрольными."
   ]
  },
  {
   "cell_type": "markdown",
   "id": "95cccbed",
   "metadata": {},
   "source": [
    "#### Выберите самое популярное событие. Посчитайте число пользователей, совершивших это событие в каждой из контрольных групп. Посчитайте долю пользователей, совершивших это событие. Проверьте, будет ли отличие между группами статистически достоверным. Проделайте то же самое для всех других событий (удобно обернуть проверку в отдельную функцию). Можно ли сказать, что разбиение на группы работает корректно? Аналогично поступите с группой с изменённым шрифтом. Сравните результаты с каждой из контрольных групп в отдельности по каждому событию."
   ]
  },
  {
   "cell_type": "markdown",
   "id": "78f9cf03",
   "metadata": {},
   "source": [
    "Cнова выведем таблицу groups, добавив столбцы с простой конверсией для кажой группы. "
   ]
  },
  {
   "cell_type": "code",
   "execution_count": 58,
   "id": "bdd3d028",
   "metadata": {},
   "outputs": [
    {
     "data": {
      "text/html": [
       "<div>\n",
       "<style scoped>\n",
       "    .dataframe tbody tr th:only-of-type {\n",
       "        vertical-align: middle;\n",
       "    }\n",
       "\n",
       "    .dataframe tbody tr th {\n",
       "        vertical-align: top;\n",
       "    }\n",
       "\n",
       "    .dataframe thead th {\n",
       "        text-align: right;\n",
       "    }\n",
       "</style>\n",
       "<table border=\"1\" class=\"dataframe\">\n",
       "  <thead>\n",
       "    <tr style=\"text-align: right;\">\n",
       "      <th>group</th>\n",
       "      <th>control_1</th>\n",
       "      <th>control_2</th>\n",
       "      <th>experimental</th>\n",
       "      <th>conver_1</th>\n",
       "      <th>conver_2</th>\n",
       "      <th>conver_experiment</th>\n",
       "    </tr>\n",
       "    <tr>\n",
       "      <th>event</th>\n",
       "      <th></th>\n",
       "      <th></th>\n",
       "      <th></th>\n",
       "      <th></th>\n",
       "      <th></th>\n",
       "      <th></th>\n",
       "    </tr>\n",
       "  </thead>\n",
       "  <tbody>\n",
       "    <tr>\n",
       "      <td>1_MainScreenAppear</td>\n",
       "      <td>2450</td>\n",
       "      <td>2476</td>\n",
       "      <td>2493</td>\n",
       "      <td>100.00</td>\n",
       "      <td>100.00</td>\n",
       "      <td>100.00</td>\n",
       "    </tr>\n",
       "    <tr>\n",
       "      <td>2_OffersScreenAppear</td>\n",
       "      <td>1542</td>\n",
       "      <td>1520</td>\n",
       "      <td>1531</td>\n",
       "      <td>62.94</td>\n",
       "      <td>61.39</td>\n",
       "      <td>61.41</td>\n",
       "    </tr>\n",
       "    <tr>\n",
       "      <td>3_CartScreenAppear</td>\n",
       "      <td>1266</td>\n",
       "      <td>1238</td>\n",
       "      <td>1230</td>\n",
       "      <td>51.67</td>\n",
       "      <td>50.00</td>\n",
       "      <td>49.34</td>\n",
       "    </tr>\n",
       "    <tr>\n",
       "      <td>4_PaymentScreenSuccessful</td>\n",
       "      <td>1200</td>\n",
       "      <td>1158</td>\n",
       "      <td>1181</td>\n",
       "      <td>48.98</td>\n",
       "      <td>46.77</td>\n",
       "      <td>47.37</td>\n",
       "    </tr>\n",
       "  </tbody>\n",
       "</table>\n",
       "</div>"
      ],
      "text/plain": [
       "group                      control_1  control_2  experimental  conver_1  \\\n",
       "event                                                                     \n",
       "1_MainScreenAppear              2450       2476          2493    100.00   \n",
       "2_OffersScreenAppear            1542       1520          1531     62.94   \n",
       "3_CartScreenAppear              1266       1238          1230     51.67   \n",
       "4_PaymentScreenSuccessful       1200       1158          1181     48.98   \n",
       "\n",
       "group                      conver_2  conver_experiment  \n",
       "event                                                   \n",
       "1_MainScreenAppear           100.00             100.00  \n",
       "2_OffersScreenAppear          61.39              61.41  \n",
       "3_CartScreenAppear            50.00              49.34  \n",
       "4_PaymentScreenSuccessful     46.77              47.37  "
      ]
     },
     "execution_count": 58,
     "metadata": {},
     "output_type": "execute_result"
    }
   ],
   "source": [
    "groups['conver_1']=groups['control_1']/groups['control_1'].max()*100\n",
    "groups['conver_2']=groups['control_2']/groups['control_2'].max()*100\n",
    "groups['conver_experiment']=groups['experimental']/groups['experimental'].max()*100\n",
    "groups"
   ]
  },
  {
   "cell_type": "markdown",
   "id": "756bc7bc",
   "metadata": {},
   "source": [
    "Самое популярное событие - OffersScreenAppear, заход на страницу. В кадой группе это событие совершило 62.94 и 61.39, в экспериметальной - 61.41%.\n",
    "Мы уже заключили, что между контрольными группами нельзя утверждать о разнице этих долей, и что, таким образом, разбиение работает корректно.\n",
    "Проведем теперь тесты А/B для каждого события и обеих контрольных групп. Снова нулевая гипотеза будет утвержать о равенстве долей."
   ]
  },
  {
   "cell_type": "code",
   "execution_count": 59,
   "id": "b72d9475",
   "metadata": {},
   "outputs": [
    {
     "name": "stdout",
     "output_type": "stream",
     "text": [
      "p-значение:  0.2684281587249231\n",
      "Не получилось отвергнуть нулевую гипотезу, нет оснований считать доли разными\n"
     ]
    }
   ],
   "source": [
    "test('control_1', 'experimental', '2_OffersScreenAppear')"
   ]
  },
  {
   "cell_type": "code",
   "execution_count": 60,
   "id": "9081d1b8",
   "metadata": {},
   "outputs": [
    {
     "name": "stdout",
     "output_type": "stream",
     "text": [
      "p-значение:  0.9869365252844515\n",
      "Не получилось отвергнуть нулевую гипотезу, нет оснований считать доли разными\n"
     ]
    }
   ],
   "source": [
    "test('control_2', 'experimental', '2_OffersScreenAppear')"
   ]
  },
  {
   "cell_type": "markdown",
   "id": "0821b0f4",
   "metadata": {},
   "source": [
    "По конверсии во второй шаг мы не можем говорить о разнице между экспериментальной и какой-либо из контрольных групп."
   ]
  },
  {
   "cell_type": "code",
   "execution_count": 61,
   "id": "dc27947b",
   "metadata": {},
   "outputs": [
    {
     "name": "stdout",
     "output_type": "stream",
     "text": [
      "p-значение:  0.1006104270048993\n",
      "Не получилось отвергнуть нулевую гипотезу, нет оснований считать доли разными\n"
     ]
    }
   ],
   "source": [
    "test('control_1', 'experimental', '3_CartScreenAppear')"
   ]
  },
  {
   "cell_type": "code",
   "execution_count": 62,
   "id": "e2619487",
   "metadata": {},
   "outputs": [
    {
     "name": "stdout",
     "output_type": "stream",
     "text": [
      "p-значение:  0.6408180183192491\n",
      "Не получилось отвергнуть нулевую гипотезу, нет оснований считать доли разными\n"
     ]
    }
   ],
   "source": [
    "test('control_2', 'experimental', '3_CartScreenAppear')"
   ]
  },
  {
   "cell_type": "markdown",
   "id": "a7dbada7",
   "metadata": {},
   "source": [
    "По конверсии в третий шаг (доле тех, кто перешел на страницу оплаты ко всем пользователям,  зашедшим на основную страницу) мы также не можем говорить о разнице между экспериментальной и какой-либо из контрольных групп."
   ]
  },
  {
   "cell_type": "code",
   "execution_count": 63,
   "id": "7c531c90",
   "metadata": {},
   "outputs": [
    {
     "name": "stdout",
     "output_type": "stream",
     "text": [
      "p-значение:  0.2582638437556217\n",
      "Не получилось отвергнуть нулевую гипотезу, нет оснований считать доли разными\n"
     ]
    }
   ],
   "source": [
    "test('control_1', 'experimental', '4_PaymentScreenSuccessful')"
   ]
  },
  {
   "cell_type": "code",
   "execution_count": 64,
   "id": "4b0afea6",
   "metadata": {},
   "outputs": [
    {
     "name": "stdout",
     "output_type": "stream",
     "text": [
      "p-значение:  0.6699208079332859\n",
      "Не получилось отвергнуть нулевую гипотезу, нет оснований считать доли разными\n"
     ]
    }
   ],
   "source": [
    "test('control_2', 'experimental', '4_PaymentScreenSuccessful')"
   ]
  },
  {
   "cell_type": "markdown",
   "id": "2e3a3da8",
   "metadata": {},
   "source": [
    "По конверсии в последний шаг мы снова не можем говорить о разнице между экспериментальной и какой-либо из контрольных групп  (доле тех, кто успешно оплатил, ко всем пользователям, зашедшим на основную страницу)\n"
   ]
  },
  {
   "cell_type": "markdown",
   "id": "bfa978f2",
   "metadata": {},
   "source": [
    "#### Сравните результаты с объединённой контрольной группой. Какие выводы из эксперимента можно сделать?"
   ]
  },
  {
   "cell_type": "markdown",
   "id": "c017f142",
   "metadata": {},
   "source": [
    "Объединим первую и вторую группы, чтобы создать  объединённую контрольную группу."
   ]
  },
  {
   "cell_type": "code",
   "execution_count": 65,
   "id": "d5cfcb70",
   "metadata": {},
   "outputs": [
    {
     "data": {
      "text/html": [
       "<div>\n",
       "<style scoped>\n",
       "    .dataframe tbody tr th:only-of-type {\n",
       "        vertical-align: middle;\n",
       "    }\n",
       "\n",
       "    .dataframe tbody tr th {\n",
       "        vertical-align: top;\n",
       "    }\n",
       "\n",
       "    .dataframe thead th {\n",
       "        text-align: right;\n",
       "    }\n",
       "</style>\n",
       "<table border=\"1\" class=\"dataframe\">\n",
       "  <thead>\n",
       "    <tr style=\"text-align: right;\">\n",
       "      <th>group</th>\n",
       "      <th>control_1</th>\n",
       "      <th>control_2</th>\n",
       "      <th>experimental</th>\n",
       "      <th>conver_1</th>\n",
       "      <th>conver_2</th>\n",
       "      <th>conver_experiment</th>\n",
       "      <th>control_united</th>\n",
       "      <th>conver_united</th>\n",
       "    </tr>\n",
       "    <tr>\n",
       "      <th>event</th>\n",
       "      <th></th>\n",
       "      <th></th>\n",
       "      <th></th>\n",
       "      <th></th>\n",
       "      <th></th>\n",
       "      <th></th>\n",
       "      <th></th>\n",
       "      <th></th>\n",
       "    </tr>\n",
       "  </thead>\n",
       "  <tbody>\n",
       "    <tr>\n",
       "      <td>1_MainScreenAppear</td>\n",
       "      <td>2450</td>\n",
       "      <td>2476</td>\n",
       "      <td>2493</td>\n",
       "      <td>100.00</td>\n",
       "      <td>100.00</td>\n",
       "      <td>100.00</td>\n",
       "      <td>4926</td>\n",
       "      <td>100.00</td>\n",
       "    </tr>\n",
       "    <tr>\n",
       "      <td>2_OffersScreenAppear</td>\n",
       "      <td>1542</td>\n",
       "      <td>1520</td>\n",
       "      <td>1531</td>\n",
       "      <td>62.94</td>\n",
       "      <td>61.39</td>\n",
       "      <td>61.41</td>\n",
       "      <td>3062</td>\n",
       "      <td>62.16</td>\n",
       "    </tr>\n",
       "    <tr>\n",
       "      <td>3_CartScreenAppear</td>\n",
       "      <td>1266</td>\n",
       "      <td>1238</td>\n",
       "      <td>1230</td>\n",
       "      <td>51.67</td>\n",
       "      <td>50.00</td>\n",
       "      <td>49.34</td>\n",
       "      <td>2504</td>\n",
       "      <td>50.83</td>\n",
       "    </tr>\n",
       "    <tr>\n",
       "      <td>4_PaymentScreenSuccessful</td>\n",
       "      <td>1200</td>\n",
       "      <td>1158</td>\n",
       "      <td>1181</td>\n",
       "      <td>48.98</td>\n",
       "      <td>46.77</td>\n",
       "      <td>47.37</td>\n",
       "      <td>2358</td>\n",
       "      <td>47.87</td>\n",
       "    </tr>\n",
       "  </tbody>\n",
       "</table>\n",
       "</div>"
      ],
      "text/plain": [
       "group                      control_1  control_2  experimental  conver_1  \\\n",
       "event                                                                     \n",
       "1_MainScreenAppear              2450       2476          2493    100.00   \n",
       "2_OffersScreenAppear            1542       1520          1531     62.94   \n",
       "3_CartScreenAppear              1266       1238          1230     51.67   \n",
       "4_PaymentScreenSuccessful       1200       1158          1181     48.98   \n",
       "\n",
       "group                      conver_2  conver_experiment  control_united  \\\n",
       "event                                                                    \n",
       "1_MainScreenAppear           100.00             100.00            4926   \n",
       "2_OffersScreenAppear          61.39              61.41            3062   \n",
       "3_CartScreenAppear            50.00              49.34            2504   \n",
       "4_PaymentScreenSuccessful     46.77              47.37            2358   \n",
       "\n",
       "group                      conver_united  \n",
       "event                                     \n",
       "1_MainScreenAppear                100.00  \n",
       "2_OffersScreenAppear               62.16  \n",
       "3_CartScreenAppear                 50.83  \n",
       "4_PaymentScreenSuccessful          47.87  "
      ]
     },
     "execution_count": 65,
     "metadata": {},
     "output_type": "execute_result"
    }
   ],
   "source": [
    "groups['control_united']=groups['control_1']+groups['control_2']\n",
    "groups['conver_united']=groups['control_united']/groups['control_united'].max()*100\n",
    "groups"
   ]
  },
  {
   "cell_type": "markdown",
   "id": "4424364e",
   "metadata": {},
   "source": [
    "Проведем те же тесты для объединенной контрольной и экспериментальной групп."
   ]
  },
  {
   "cell_type": "code",
   "execution_count": 66,
   "id": "6ba6d793",
   "metadata": {},
   "outputs": [
    {
     "name": "stdout",
     "output_type": "stream",
     "text": [
      "p-значение:  0.5308589432077624\n",
      "Не получилось отвергнуть нулевую гипотезу, нет оснований считать доли разными\n"
     ]
    }
   ],
   "source": [
    "test('control_united', 'experimental', '2_OffersScreenAppear')"
   ]
  },
  {
   "cell_type": "code",
   "execution_count": 67,
   "id": "489a759f",
   "metadata": {},
   "outputs": [
    {
     "name": "stdout",
     "output_type": "stream",
     "text": [
      "p-значение:  0.22404678803657152\n",
      "Не получилось отвергнуть нулевую гипотезу, нет оснований считать доли разными\n"
     ]
    }
   ],
   "source": [
    "test('control_united', 'experimental', '3_CartScreenAppear')"
   ]
  },
  {
   "cell_type": "code",
   "execution_count": 68,
   "id": "ed0a0eb3",
   "metadata": {},
   "outputs": [
    {
     "name": "stdout",
     "output_type": "stream",
     "text": [
      "p-значение:  0.6863094718086811\n",
      "Не получилось отвергнуть нулевую гипотезу, нет оснований считать доли разными\n"
     ]
    }
   ],
   "source": [
    "test('control_united', 'experimental', '4_PaymentScreenSuccessful')"
   ]
  },
  {
   "cell_type": "markdown",
   "id": "86ed5229",
   "metadata": {},
   "source": [
    "И в этом случае также нам не удалось опровергнуть ни одну из нулевых гипотез для конверсий, т.е. мы не можем говорить о разнице долей объединенной контрольной и экспериментальной групп."
   ]
  },
  {
   "cell_type": "markdown",
   "id": "1772eb6f",
   "metadata": {},
   "source": [
    "#### Какой уровень значимости вы выбрали при проверке статистических гипотез выше? Посчитайте, сколько проверок статистических гипотез вы сделали. При уровне значимости 0.1 каждый десятый раз можно получать ложный результат. Какой уровень значимости стоит применить? Если вы хотите изменить его, проделайте предыдущие пункты и проверьте свои выводы."
   ]
  },
  {
   "cell_type": "markdown",
   "id": "357ad136",
   "metadata": {},
   "source": [
    "Мы брали уровень значимости 0.05. Мы сделали 12 проверок (3 A1/A2, 3 A1/B, 3 A2/B, 3 (A1+A2)/B). Ни в одном из тестов p-значение не опускалось ниже 0.1 (а часто было гораздо выше). В данном случае мы можем оставить наш уровень значимости, однако, можно было установить его и еще ниже, 0.01.\n",
    "\n",
    "Заметим, что чем больше групп в тесте, тем чаще хотя бы при одном сравнении получается ложнопозитивный результат. То есть в нашем случае речь идет о множественном тесте, и с каждой новой проверкой гипотезы растёт вероятность ошибки первого рода.\n",
    "\n",
    "Однако у нас нет позитивных результатов ни по одному из тестирований. В противном случае, необходимо было бы применить метод метод Бонферрони (из-за простоты решения, но возможно, как варианты еще и Холма или Шидака), чтобы снизить групповую вероятность ошибки первого рода и скорректировать требуемые уровни значимости."
   ]
  },
  {
   "cell_type": "markdown",
   "id": "b42b62df",
   "metadata": {},
   "source": [
    "### Выводы"
   ]
  },
  {
   "cell_type": "markdown",
   "id": "1db87055",
   "metadata": {},
   "source": [
    "Подведем итоги. \n",
    "Мы проанализировали данные за первую неделю августа (1-7 августа 2019) по логам пользователей мобильного приложения, исключив данные за последнюю неделю июля т.к. их было чуть больше 1% от всех данных. \n",
    "Всего у нас оказалось в распоряжении более 240 тысяч логов, которые были совершены 7,5 тысячами уникальных пользователей.\n",
    "\n",
    "Всего разных видов событий или действий было 5. В порядке убывания по частоте, это: просмотр основной страницы, просмотр страницы с предложениями, страница оплаты, успешная оплата, а также тьюториал (инструкция по применению приложения). В среднем на одного пользователя приходится около 32 события.\n",
    "\n",
    "Последовательность действий в приложении- нестрогая, то есть некоторые шаги могут быть пропущены пользователем, но в большинстве случаев идет по стандартной схеме. Самое популярное действие, - просмотр основной страницы, совершили практически все - 98.5%. Второе по популярности действие (на него можно было попасть иногда минуя первое)  - просмотр страницы с предложениями, его совершили 61% пользователей от всех. И здесь мы теряли больше всего пользователей - почти 40% из тех, кто посетил начальную страницу не переходят на страницу с предложениями. Значит, для повышения конверсии необходимы изменения на этом этапе, чтобы больше пользователей заходило на страницу с предложениями.\n",
    "\n",
    "Из зашедших на предложения , более 80% пользователей заходили на страницу оплаты, и после нее почти все, 95%, оказывались на странице об успешной покупке. От просмотра основной страницы до оплаты доходят чуть менее половины пользователей, - 48%.\n",
    "\n",
    "Заметим, Tutorial посмотрели только 11.2% пользователей. При этом, по нашим данным, большинство пользователей заходили туда раньше, чем на основную страницу - в 94%. Это может быть связано с тем, что они могли заходить на самом деле на основную страницу раньше последней недели июля, но мы этого не можум проверить т.к. у нас нет данных. Или же сразу после скачивания приложения у пользователей открывался тьюториал, или же  отображение этого события некорректо по времени. Мы не стали включать тьюториал в дальшейший анализ из по эатим причинам.\n",
    "\n",
    "\n",
    "Что касается тестирования нового шрифта приложения, - был проведен A/A/B-эксперимент. В трех группах было схожее практически число уникальных пользователей, около 2500. Для анализва рещультатов мы опирались на обычную конверсию, т.е. число пользователей соврешивших событие к числу пользователей соврешивших первой собятие (просмотр основной страницы). Наш анализ показал, что разбивка конрольных групп была сделана корректно. Так же наш анализ показал, что нет значимых статистических различий между конверсией контрольных групп и экспериментальной группы ни на одном из этапов, равно как и нет разницы между конверсиями объединённой контрольной группой и экспериментальной группой. По результатам теста нет разницы конвресий между группами со старым шрифтом и новым шрифтом. Это означает, что новый шрифт, предлагаемый дизайнерами не должен пагубно отразиться на конверсии вопреки опасениям менеджеров, и можно принять положительное решение о его изменении. "
   ]
  }
 ],
 "metadata": {
  "ExecuteTimeLog": [
   {
    "duration": 1571,
    "start_time": "2021-07-28T21:45:07.178Z"
   },
   {
    "duration": 4699,
    "start_time": "2021-07-28T21:45:08.752Z"
   },
   {
    "duration": 806,
    "start_time": "2021-07-28T21:45:12.651Z"
   },
   {
    "duration": 802,
    "start_time": "2021-07-28T21:45:12.657Z"
   },
   {
    "duration": 796,
    "start_time": "2021-07-28T21:45:12.664Z"
   },
   {
    "duration": 791,
    "start_time": "2021-07-28T21:45:12.670Z"
   },
   {
    "duration": 785,
    "start_time": "2021-07-28T21:45:12.678Z"
   },
   {
    "duration": 780,
    "start_time": "2021-07-28T21:45:12.684Z"
   },
   {
    "duration": 776,
    "start_time": "2021-07-28T21:45:12.689Z"
   },
   {
    "duration": 771,
    "start_time": "2021-07-28T21:45:12.696Z"
   },
   {
    "duration": 767,
    "start_time": "2021-07-28T21:45:12.701Z"
   },
   {
    "duration": 761,
    "start_time": "2021-07-28T21:45:12.708Z"
   },
   {
    "duration": 748,
    "start_time": "2021-07-28T21:45:12.723Z"
   },
   {
    "duration": 742,
    "start_time": "2021-07-28T21:45:12.730Z"
   },
   {
    "duration": 738,
    "start_time": "2021-07-28T21:45:12.736Z"
   },
   {
    "duration": 733,
    "start_time": "2021-07-28T21:45:12.742Z"
   },
   {
    "duration": 728,
    "start_time": "2021-07-28T21:45:12.748Z"
   },
   {
    "duration": 725,
    "start_time": "2021-07-28T21:45:12.753Z"
   },
   {
    "duration": 721,
    "start_time": "2021-07-28T21:45:12.758Z"
   },
   {
    "duration": 716,
    "start_time": "2021-07-28T21:45:12.764Z"
   },
   {
    "duration": 712,
    "start_time": "2021-07-28T21:45:12.769Z"
   },
   {
    "duration": 709,
    "start_time": "2021-07-28T21:45:12.774Z"
   },
   {
    "duration": 702,
    "start_time": "2021-07-28T21:45:12.782Z"
   },
   {
    "duration": 697,
    "start_time": "2021-07-28T21:45:12.788Z"
   },
   {
    "duration": 692,
    "start_time": "2021-07-28T21:45:12.794Z"
   },
   {
    "duration": 689,
    "start_time": "2021-07-28T21:45:12.799Z"
   },
   {
    "duration": 685,
    "start_time": "2021-07-28T21:45:12.804Z"
   },
   {
    "duration": 681,
    "start_time": "2021-07-28T21:45:12.809Z"
   },
   {
    "duration": 678,
    "start_time": "2021-07-28T21:45:12.814Z"
   },
   {
    "duration": 673,
    "start_time": "2021-07-28T21:45:12.820Z"
   },
   {
    "duration": 658,
    "start_time": "2021-07-28T21:45:12.836Z"
   },
   {
    "duration": 654,
    "start_time": "2021-07-28T21:45:12.841Z"
   },
   {
    "duration": 649,
    "start_time": "2021-07-28T21:45:12.848Z"
   },
   {
    "duration": 644,
    "start_time": "2021-07-28T21:45:12.854Z"
   },
   {
    "duration": 633,
    "start_time": "2021-07-28T21:45:12.866Z"
   },
   {
    "duration": 619,
    "start_time": "2021-07-28T21:45:12.882Z"
   },
   {
    "duration": 674,
    "start_time": "2021-07-28T21:45:12.888Z"
   },
   {
    "duration": 667,
    "start_time": "2021-07-28T21:45:12.896Z"
   },
   {
    "duration": 661,
    "start_time": "2021-07-28T21:45:12.903Z"
   },
   {
    "duration": 657,
    "start_time": "2021-07-28T21:45:12.909Z"
   },
   {
    "duration": 652,
    "start_time": "2021-07-28T21:45:12.915Z"
   },
   {
    "duration": 648,
    "start_time": "2021-07-28T21:45:12.920Z"
   },
   {
    "duration": 644,
    "start_time": "2021-07-28T21:45:12.925Z"
   },
   {
    "duration": 640,
    "start_time": "2021-07-28T21:45:12.931Z"
   },
   {
    "duration": 630,
    "start_time": "2021-07-28T21:45:12.942Z"
   },
   {
    "duration": 625,
    "start_time": "2021-07-28T21:45:12.949Z"
   },
   {
    "duration": 621,
    "start_time": "2021-07-28T21:45:12.954Z"
   },
   {
    "duration": 617,
    "start_time": "2021-07-28T21:45:12.959Z"
   },
   {
    "duration": 614,
    "start_time": "2021-07-28T21:45:12.964Z"
   },
   {
    "duration": 579,
    "start_time": "2021-07-28T21:45:13.000Z"
   },
   {
    "duration": 576,
    "start_time": "2021-07-28T21:45:13.005Z"
   },
   {
    "duration": 558,
    "start_time": "2021-07-28T21:45:13.024Z"
   },
   {
    "duration": 554,
    "start_time": "2021-07-28T21:45:13.029Z"
   },
   {
    "duration": 549,
    "start_time": "2021-07-28T21:45:13.036Z"
   },
   {
    "duration": 545,
    "start_time": "2021-07-28T21:45:13.041Z"
   },
   {
    "duration": 533,
    "start_time": "2021-07-28T21:45:13.055Z"
   },
   {
    "duration": 531,
    "start_time": "2021-07-28T21:45:13.059Z"
   },
   {
    "duration": 525,
    "start_time": "2021-07-28T21:45:13.066Z"
   },
   {
    "duration": 520,
    "start_time": "2021-07-28T21:45:13.072Z"
   },
   {
    "duration": 508,
    "start_time": "2021-07-28T21:45:13.086Z"
   },
   {
    "duration": 505,
    "start_time": "2021-07-28T21:45:13.090Z"
   },
   {
    "duration": 502,
    "start_time": "2021-07-28T21:45:13.095Z"
   },
   {
    "duration": 498,
    "start_time": "2021-07-28T21:45:13.100Z"
   },
   {
    "duration": 494,
    "start_time": "2021-07-28T21:45:13.105Z"
   },
   {
    "duration": 486,
    "start_time": "2021-07-28T21:45:13.114Z"
   },
   {
    "duration": 543,
    "start_time": "2021-07-28T21:45:13.119Z"
   },
   {
    "duration": 540,
    "start_time": "2021-07-28T21:45:13.124Z"
   },
   {
    "duration": 535,
    "start_time": "2021-07-28T21:45:13.130Z"
   },
   {
    "duration": 1540,
    "start_time": "2021-07-28T21:45:45.799Z"
   },
   {
    "duration": 531,
    "start_time": "2021-07-28T21:45:47.341Z"
   },
   {
    "duration": 40,
    "start_time": "2021-07-28T21:45:47.875Z"
   },
   {
    "duration": 4,
    "start_time": "2021-07-28T21:45:47.918Z"
   },
   {
    "duration": 54,
    "start_time": "2021-07-28T21:45:47.924Z"
   },
   {
    "duration": 19,
    "start_time": "2021-07-28T21:45:47.980Z"
   },
   {
    "duration": 215,
    "start_time": "2021-07-28T21:45:48.001Z"
   },
   {
    "duration": 217,
    "start_time": "2021-07-28T21:45:48.220Z"
   },
   {
    "duration": 7117,
    "start_time": "2021-07-28T21:45:48.440Z"
   },
   {
    "duration": 858,
    "start_time": "2021-07-28T21:45:54.704Z"
   },
   {
    "duration": 847,
    "start_time": "2021-07-28T21:45:54.717Z"
   },
   {
    "duration": 843,
    "start_time": "2021-07-28T21:45:54.722Z"
   },
   {
    "duration": 841,
    "start_time": "2021-07-28T21:45:54.726Z"
   },
   {
    "duration": 837,
    "start_time": "2021-07-28T21:45:54.731Z"
   },
   {
    "duration": 834,
    "start_time": "2021-07-28T21:45:54.736Z"
   },
   {
    "duration": 830,
    "start_time": "2021-07-28T21:45:54.742Z"
   },
   {
    "duration": 826,
    "start_time": "2021-07-28T21:45:54.747Z"
   },
   {
    "duration": 823,
    "start_time": "2021-07-28T21:45:54.752Z"
   },
   {
    "duration": 820,
    "start_time": "2021-07-28T21:45:54.757Z"
   },
   {
    "duration": 817,
    "start_time": "2021-07-28T21:45:54.761Z"
   },
   {
    "duration": 815,
    "start_time": "2021-07-28T21:45:54.765Z"
   },
   {
    "duration": 812,
    "start_time": "2021-07-28T21:45:54.770Z"
   },
   {
    "duration": 809,
    "start_time": "2021-07-28T21:45:54.775Z"
   },
   {
    "duration": 804,
    "start_time": "2021-07-28T21:45:54.781Z"
   },
   {
    "duration": 800,
    "start_time": "2021-07-28T21:45:54.786Z"
   },
   {
    "duration": 796,
    "start_time": "2021-07-28T21:45:54.791Z"
   },
   {
    "duration": 791,
    "start_time": "2021-07-28T21:45:54.798Z"
   },
   {
    "duration": 785,
    "start_time": "2021-07-28T21:45:54.805Z"
   },
   {
    "duration": 773,
    "start_time": "2021-07-28T21:45:54.818Z"
   },
   {
    "duration": 769,
    "start_time": "2021-07-28T21:45:54.824Z"
   },
   {
    "duration": 765,
    "start_time": "2021-07-28T21:45:54.829Z"
   },
   {
    "duration": 760,
    "start_time": "2021-07-28T21:45:54.835Z"
   },
   {
    "duration": 756,
    "start_time": "2021-07-28T21:45:54.840Z"
   },
   {
    "duration": 751,
    "start_time": "2021-07-28T21:45:54.846Z"
   },
   {
    "duration": 749,
    "start_time": "2021-07-28T21:45:54.850Z"
   },
   {
    "duration": 745,
    "start_time": "2021-07-28T21:45:54.855Z"
   },
   {
    "duration": 741,
    "start_time": "2021-07-28T21:45:54.860Z"
   },
   {
    "duration": 737,
    "start_time": "2021-07-28T21:45:54.866Z"
   },
   {
    "duration": 733,
    "start_time": "2021-07-28T21:45:54.871Z"
   },
   {
    "duration": 728,
    "start_time": "2021-07-28T21:45:54.877Z"
   },
   {
    "duration": 779,
    "start_time": "2021-07-28T21:45:54.883Z"
   },
   {
    "duration": 775,
    "start_time": "2021-07-28T21:45:54.889Z"
   },
   {
    "duration": 772,
    "start_time": "2021-07-28T21:45:54.894Z"
   },
   {
    "duration": 768,
    "start_time": "2021-07-28T21:45:54.899Z"
   },
   {
    "duration": 765,
    "start_time": "2021-07-28T21:45:54.904Z"
   },
   {
    "duration": 761,
    "start_time": "2021-07-28T21:45:54.909Z"
   },
   {
    "duration": 757,
    "start_time": "2021-07-28T21:45:54.914Z"
   },
   {
    "duration": 687,
    "start_time": "2021-07-28T21:45:54.986Z"
   },
   {
    "duration": 670,
    "start_time": "2021-07-28T21:45:55.004Z"
   },
   {
    "duration": 666,
    "start_time": "2021-07-28T21:45:55.009Z"
   },
   {
    "duration": 651,
    "start_time": "2021-07-28T21:45:55.025Z"
   },
   {
    "duration": 641,
    "start_time": "2021-07-28T21:45:55.037Z"
   },
   {
    "duration": 627,
    "start_time": "2021-07-28T21:45:55.052Z"
   },
   {
    "duration": 623,
    "start_time": "2021-07-28T21:45:55.057Z"
   },
   {
    "duration": 621,
    "start_time": "2021-07-28T21:45:55.061Z"
   },
   {
    "duration": 608,
    "start_time": "2021-07-28T21:45:55.075Z"
   },
   {
    "duration": 604,
    "start_time": "2021-07-28T21:45:55.080Z"
   },
   {
    "duration": 593,
    "start_time": "2021-07-28T21:45:55.093Z"
   },
   {
    "duration": 590,
    "start_time": "2021-07-28T21:45:55.097Z"
   },
   {
    "duration": 567,
    "start_time": "2021-07-28T21:45:55.121Z"
   },
   {
    "duration": 564,
    "start_time": "2021-07-28T21:45:55.125Z"
   },
   {
    "duration": 561,
    "start_time": "2021-07-28T21:45:55.130Z"
   },
   {
    "duration": 558,
    "start_time": "2021-07-28T21:45:55.134Z"
   },
   {
    "duration": 547,
    "start_time": "2021-07-28T21:45:55.146Z"
   },
   {
    "duration": 544,
    "start_time": "2021-07-28T21:45:55.150Z"
   },
   {
    "duration": 535,
    "start_time": "2021-07-28T21:45:55.160Z"
   },
   {
    "duration": 533,
    "start_time": "2021-07-28T21:45:55.164Z"
   },
   {
    "duration": 594,
    "start_time": "2021-07-28T21:45:55.168Z"
   },
   {
    "duration": 12,
    "start_time": "2021-07-28T21:46:24.119Z"
   },
   {
    "duration": 1612,
    "start_time": "2021-07-28T21:46:51.951Z"
   },
   {
    "duration": 398,
    "start_time": "2021-07-28T21:46:53.565Z"
   },
   {
    "duration": 46,
    "start_time": "2021-07-28T21:46:53.966Z"
   },
   {
    "duration": 4,
    "start_time": "2021-07-28T21:46:54.015Z"
   },
   {
    "duration": 56,
    "start_time": "2021-07-28T21:46:54.022Z"
   },
   {
    "duration": 29,
    "start_time": "2021-07-28T21:46:54.081Z"
   },
   {
    "duration": 173,
    "start_time": "2021-07-28T21:46:54.113Z"
   },
   {
    "duration": 124,
    "start_time": "2021-07-28T21:46:54.291Z"
   },
   {
    "duration": 11,
    "start_time": "2021-07-28T21:46:54.420Z"
   },
   {
    "duration": 82,
    "start_time": "2021-07-28T21:46:54.434Z"
   },
   {
    "duration": 207,
    "start_time": "2021-07-28T21:46:54.519Z"
   },
   {
    "duration": 118,
    "start_time": "2021-07-28T21:46:54.729Z"
   },
   {
    "duration": 44,
    "start_time": "2021-07-28T21:46:54.849Z"
   },
   {
    "duration": 8,
    "start_time": "2021-07-28T21:46:54.897Z"
   },
   {
    "duration": 22,
    "start_time": "2021-07-28T21:46:54.907Z"
   },
   {
    "duration": 46,
    "start_time": "2021-07-28T21:46:54.931Z"
   },
   {
    "duration": 10,
    "start_time": "2021-07-28T21:46:54.981Z"
   },
   {
    "duration": 19,
    "start_time": "2021-07-28T21:46:54.994Z"
   },
   {
    "duration": 51,
    "start_time": "2021-07-28T21:46:55.016Z"
   },
   {
    "duration": 505,
    "start_time": "2021-07-28T21:46:55.071Z"
   },
   {
    "duration": 918,
    "start_time": "2021-07-28T21:46:54.664Z"
   },
   {
    "duration": 913,
    "start_time": "2021-07-28T21:46:54.670Z"
   },
   {
    "duration": 910,
    "start_time": "2021-07-28T21:46:54.675Z"
   },
   {
    "duration": 908,
    "start_time": "2021-07-28T21:46:54.678Z"
   },
   {
    "duration": 905,
    "start_time": "2021-07-28T21:46:54.682Z"
   },
   {
    "duration": 902,
    "start_time": "2021-07-28T21:46:54.686Z"
   },
   {
    "duration": 899,
    "start_time": "2021-07-28T21:46:54.690Z"
   },
   {
    "duration": 889,
    "start_time": "2021-07-28T21:46:54.701Z"
   },
   {
    "duration": 885,
    "start_time": "2021-07-28T21:46:54.706Z"
   },
   {
    "duration": 882,
    "start_time": "2021-07-28T21:46:54.710Z"
   },
   {
    "duration": 873,
    "start_time": "2021-07-28T21:46:54.720Z"
   },
   {
    "duration": 871,
    "start_time": "2021-07-28T21:46:54.724Z"
   },
   {
    "duration": 868,
    "start_time": "2021-07-28T21:46:54.728Z"
   },
   {
    "duration": 865,
    "start_time": "2021-07-28T21:46:54.734Z"
   },
   {
    "duration": 860,
    "start_time": "2021-07-28T21:46:54.741Z"
   },
   {
    "duration": 857,
    "start_time": "2021-07-28T21:46:54.746Z"
   },
   {
    "duration": 854,
    "start_time": "2021-07-28T21:46:54.751Z"
   },
   {
    "duration": 851,
    "start_time": "2021-07-28T21:46:54.756Z"
   },
   {
    "duration": 839,
    "start_time": "2021-07-28T21:46:54.770Z"
   },
   {
    "duration": 835,
    "start_time": "2021-07-28T21:46:54.775Z"
   },
   {
    "duration": 832,
    "start_time": "2021-07-28T21:46:54.780Z"
   },
   {
    "duration": 829,
    "start_time": "2021-07-28T21:46:54.784Z"
   },
   {
    "duration": 825,
    "start_time": "2021-07-28T21:46:54.789Z"
   },
   {
    "duration": 823,
    "start_time": "2021-07-28T21:46:54.793Z"
   },
   {
    "duration": 820,
    "start_time": "2021-07-28T21:46:54.798Z"
   },
   {
    "duration": 817,
    "start_time": "2021-07-28T21:46:54.802Z"
   },
   {
    "duration": 855,
    "start_time": "2021-07-28T21:46:54.806Z"
   },
   {
    "duration": 853,
    "start_time": "2021-07-28T21:46:54.810Z"
   },
   {
    "duration": 852,
    "start_time": "2021-07-28T21:46:54.815Z"
   },
   {
    "duration": 849,
    "start_time": "2021-07-28T21:46:54.820Z"
   },
   {
    "duration": 830,
    "start_time": "2021-07-28T21:46:54.841Z"
   },
   {
    "duration": 813,
    "start_time": "2021-07-28T21:46:54.859Z"
   },
   {
    "duration": 810,
    "start_time": "2021-07-28T21:46:54.864Z"
   },
   {
    "duration": 798,
    "start_time": "2021-07-28T21:46:54.877Z"
   },
   {
    "duration": 794,
    "start_time": "2021-07-28T21:46:54.882Z"
   },
   {
    "duration": 780,
    "start_time": "2021-07-28T21:46:54.897Z"
   },
   {
    "duration": 719,
    "start_time": "2021-07-28T21:46:54.960Z"
   },
   {
    "duration": 684,
    "start_time": "2021-07-28T21:46:54.996Z"
   },
   {
    "duration": 658,
    "start_time": "2021-07-28T21:46:55.023Z"
   },
   {
    "duration": 655,
    "start_time": "2021-07-28T21:46:55.028Z"
   },
   {
    "duration": 652,
    "start_time": "2021-07-28T21:46:55.032Z"
   },
   {
    "duration": 649,
    "start_time": "2021-07-28T21:46:55.036Z"
   },
   {
    "duration": 646,
    "start_time": "2021-07-28T21:46:55.040Z"
   },
   {
    "duration": 642,
    "start_time": "2021-07-28T21:46:55.045Z"
   },
   {
    "duration": 629,
    "start_time": "2021-07-28T21:46:55.059Z"
   },
   {
    "duration": 624,
    "start_time": "2021-07-28T21:46:55.065Z"
   },
   {
    "duration": 618,
    "start_time": "2021-07-28T21:46:55.072Z"
   },
   {
    "duration": 615,
    "start_time": "2021-07-28T21:46:55.076Z"
   },
   {
    "duration": 4965,
    "start_time": "2021-07-28T21:48:39.312Z"
   },
   {
    "duration": 329,
    "start_time": "2021-07-28T21:49:48.959Z"
   },
   {
    "duration": 5,
    "start_time": "2021-07-28T21:50:08.331Z"
   },
   {
    "duration": 3501,
    "start_time": "2021-07-28T21:50:09.307Z"
   },
   {
    "duration": 428,
    "start_time": "2021-07-28T21:50:16.566Z"
   },
   {
    "duration": 38,
    "start_time": "2021-07-28T21:50:17.924Z"
   },
   {
    "duration": 4,
    "start_time": "2021-07-28T21:50:19.234Z"
   },
   {
    "duration": 17,
    "start_time": "2021-07-28T21:50:19.500Z"
   },
   {
    "duration": 20,
    "start_time": "2021-07-28T21:50:19.682Z"
   },
   {
    "duration": 77,
    "start_time": "2021-07-28T21:50:19.850Z"
   },
   {
    "duration": 82,
    "start_time": "2021-07-28T21:50:20.048Z"
   },
   {
    "duration": 10,
    "start_time": "2021-07-28T21:50:20.246Z"
   },
   {
    "duration": 45,
    "start_time": "2021-07-28T21:50:20.418Z"
   },
   {
    "duration": 110,
    "start_time": "2021-07-28T21:50:20.622Z"
   },
   {
    "duration": 88,
    "start_time": "2021-07-28T21:50:20.793Z"
   },
   {
    "duration": 22,
    "start_time": "2021-07-28T21:50:20.986Z"
   },
   {
    "duration": 7,
    "start_time": "2021-07-28T21:50:21.178Z"
   },
   {
    "duration": 20,
    "start_time": "2021-07-28T21:50:21.626Z"
   },
   {
    "duration": 14,
    "start_time": "2021-07-28T21:50:21.926Z"
   },
   {
    "duration": 8,
    "start_time": "2021-07-28T21:50:22.244Z"
   },
   {
    "duration": 17,
    "start_time": "2021-07-28T21:50:22.531Z"
   },
   {
    "duration": 8,
    "start_time": "2021-07-28T21:50:22.770Z"
   },
   {
    "duration": 296,
    "start_time": "2021-07-28T21:50:23.515Z"
   },
   {
    "duration": 3328,
    "start_time": "2021-07-28T21:50:43.275Z"
   },
   {
    "duration": 3623,
    "start_time": "2021-07-28T21:50:50.955Z"
   },
   {
    "duration": 1421,
    "start_time": "2021-07-28T21:51:05.884Z"
   },
   {
    "duration": 3372,
    "start_time": "2021-07-28T21:51:07.307Z"
   },
   {
    "duration": 354,
    "start_time": "2021-07-28T21:51:10.682Z"
   },
   {
    "duration": 46,
    "start_time": "2021-07-28T21:51:11.039Z"
   },
   {
    "duration": 5,
    "start_time": "2021-07-28T21:51:11.087Z"
   },
   {
    "duration": 25,
    "start_time": "2021-07-28T21:51:11.094Z"
   },
   {
    "duration": 45,
    "start_time": "2021-07-28T21:51:11.122Z"
   },
   {
    "duration": 91,
    "start_time": "2021-07-28T21:51:11.171Z"
   },
   {
    "duration": 100,
    "start_time": "2021-07-28T21:51:11.266Z"
   },
   {
    "duration": 10,
    "start_time": "2021-07-28T21:51:11.369Z"
   },
   {
    "duration": 46,
    "start_time": "2021-07-28T21:51:11.382Z"
   },
   {
    "duration": 144,
    "start_time": "2021-07-28T21:51:11.430Z"
   },
   {
    "duration": 94,
    "start_time": "2021-07-28T21:51:11.576Z"
   },
   {
    "duration": 23,
    "start_time": "2021-07-28T21:51:11.672Z"
   },
   {
    "duration": 6,
    "start_time": "2021-07-28T21:51:11.697Z"
   },
   {
    "duration": 58,
    "start_time": "2021-07-28T21:51:11.706Z"
   },
   {
    "duration": 15,
    "start_time": "2021-07-28T21:51:11.766Z"
   },
   {
    "duration": 7,
    "start_time": "2021-07-28T21:51:11.784Z"
   },
   {
    "duration": 24,
    "start_time": "2021-07-28T21:51:11.794Z"
   },
   {
    "duration": 42,
    "start_time": "2021-07-28T21:51:11.820Z"
   },
   {
    "duration": 1020,
    "start_time": "2021-07-28T21:51:11.865Z"
   },
   {
    "duration": 14,
    "start_time": "2021-07-28T21:51:12.888Z"
   },
   {
    "duration": 4,
    "start_time": "2021-07-28T21:51:12.910Z"
   },
   {
    "duration": 45,
    "start_time": "2021-07-28T21:51:12.920Z"
   },
   {
    "duration": 27,
    "start_time": "2021-07-28T21:51:12.968Z"
   },
   {
    "duration": 27,
    "start_time": "2021-07-28T21:51:12.997Z"
   },
   {
    "duration": 50,
    "start_time": "2021-07-28T21:51:13.027Z"
   },
   {
    "duration": 6,
    "start_time": "2021-07-28T21:51:13.080Z"
   },
   {
    "duration": 129,
    "start_time": "2021-07-28T21:51:13.088Z"
   },
   {
    "duration": 6,
    "start_time": "2021-07-28T21:51:13.219Z"
   },
   {
    "duration": 86,
    "start_time": "2021-07-28T21:51:13.228Z"
   },
   {
    "duration": 7,
    "start_time": "2021-07-28T21:51:13.316Z"
   },
   {
    "duration": 88,
    "start_time": "2021-07-28T21:51:13.326Z"
   },
   {
    "duration": 155,
    "start_time": "2021-07-28T21:51:13.416Z"
   },
   {
    "duration": 5,
    "start_time": "2021-07-28T21:51:13.574Z"
   },
   {
    "duration": 11,
    "start_time": "2021-07-28T21:51:13.582Z"
   },
   {
    "duration": 34,
    "start_time": "2021-07-28T21:51:13.596Z"
   },
   {
    "duration": 13,
    "start_time": "2021-07-28T21:51:13.633Z"
   },
   {
    "duration": 13,
    "start_time": "2021-07-28T21:51:13.649Z"
   },
   {
    "duration": 73,
    "start_time": "2021-07-28T21:51:13.664Z"
   },
   {
    "duration": 27,
    "start_time": "2021-07-28T21:51:13.739Z"
   },
   {
    "duration": 20,
    "start_time": "2021-07-28T21:51:13.768Z"
   },
   {
    "duration": 95,
    "start_time": "2021-07-28T21:51:13.790Z"
   },
   {
    "duration": 10,
    "start_time": "2021-07-28T21:51:13.887Z"
   },
   {
    "duration": 17,
    "start_time": "2021-07-28T21:51:13.900Z"
   },
   {
    "duration": 303,
    "start_time": "2021-07-28T21:51:13.919Z"
   },
   {
    "duration": 289,
    "start_time": "2021-07-28T21:51:14.224Z"
   },
   {
    "duration": 8,
    "start_time": "2021-07-28T21:51:14.515Z"
   },
   {
    "duration": 696,
    "start_time": "2021-07-28T21:51:14.525Z"
   },
   {
    "duration": 78,
    "start_time": "2021-07-28T21:51:15.224Z"
   },
   {
    "duration": 287,
    "start_time": "2021-07-28T21:51:15.304Z"
   },
   {
    "duration": 3,
    "start_time": "2021-07-28T21:51:15.594Z"
   },
   {
    "duration": 11,
    "start_time": "2021-07-28T21:51:15.599Z"
   },
   {
    "duration": 11,
    "start_time": "2021-07-28T21:51:15.613Z"
   },
   {
    "duration": 36,
    "start_time": "2021-07-28T21:51:15.626Z"
   },
   {
    "duration": 8,
    "start_time": "2021-07-28T21:51:15.665Z"
   },
   {
    "duration": 10,
    "start_time": "2021-07-28T21:51:15.676Z"
   },
   {
    "duration": 11,
    "start_time": "2021-07-28T21:51:15.688Z"
   },
   {
    "duration": 18,
    "start_time": "2021-07-28T21:51:15.701Z"
   },
   {
    "duration": 45,
    "start_time": "2021-07-28T21:51:15.722Z"
   },
   {
    "duration": 8,
    "start_time": "2021-07-28T21:51:15.769Z"
   },
   {
    "duration": 8,
    "start_time": "2021-07-28T21:51:15.780Z"
   },
   {
    "duration": 12,
    "start_time": "2021-07-28T21:51:15.791Z"
   },
   {
    "duration": 13,
    "start_time": "2021-07-28T21:51:15.805Z"
   },
   {
    "duration": 43,
    "start_time": "2021-07-28T21:51:15.820Z"
   },
   {
    "duration": 16,
    "start_time": "2021-07-28T21:51:15.866Z"
   },
   {
    "duration": 9,
    "start_time": "2021-07-28T21:51:15.884Z"
   },
   {
    "duration": 5,
    "start_time": "2021-07-28T21:51:15.900Z"
   },
   {
    "duration": 9,
    "start_time": "2021-07-28T21:51:15.908Z"
   },
   {
    "duration": 39,
    "start_time": "2021-07-28T21:53:27.626Z"
   },
   {
    "duration": 1502,
    "start_time": "2021-07-28T21:54:05.293Z"
   },
   {
    "duration": 4144,
    "start_time": "2021-07-28T21:54:06.798Z"
   },
   {
    "duration": 361,
    "start_time": "2021-07-28T21:54:10.947Z"
   },
   {
    "duration": 51,
    "start_time": "2021-07-28T21:54:11.310Z"
   },
   {
    "duration": 5,
    "start_time": "2021-07-28T21:54:11.365Z"
   },
   {
    "duration": 26,
    "start_time": "2021-07-28T21:54:11.373Z"
   },
   {
    "duration": 27,
    "start_time": "2021-07-28T21:54:11.403Z"
   },
   {
    "duration": 78,
    "start_time": "2021-07-28T21:54:11.465Z"
   },
   {
    "duration": 130,
    "start_time": "2021-07-28T21:54:11.546Z"
   },
   {
    "duration": 12,
    "start_time": "2021-07-28T21:54:11.680Z"
   },
   {
    "duration": 73,
    "start_time": "2021-07-28T21:54:11.695Z"
   },
   {
    "duration": 192,
    "start_time": "2021-07-28T21:54:11.771Z"
   },
   {
    "duration": 97,
    "start_time": "2021-07-28T21:54:11.965Z"
   },
   {
    "duration": 36,
    "start_time": "2021-07-28T21:54:12.064Z"
   },
   {
    "duration": 9,
    "start_time": "2021-07-28T21:54:12.103Z"
   },
   {
    "duration": 23,
    "start_time": "2021-07-28T21:54:12.115Z"
   },
   {
    "duration": 19,
    "start_time": "2021-07-28T21:54:12.161Z"
   },
   {
    "duration": 8,
    "start_time": "2021-07-28T21:54:12.183Z"
   },
   {
    "duration": 20,
    "start_time": "2021-07-28T21:54:12.194Z"
   },
   {
    "duration": 9,
    "start_time": "2021-07-28T21:54:12.217Z"
   },
   {
    "duration": 1061,
    "start_time": "2021-07-28T21:54:12.263Z"
   },
   {
    "duration": 11,
    "start_time": "2021-07-28T21:54:13.326Z"
   },
   {
    "duration": 19,
    "start_time": "2021-07-28T21:54:13.343Z"
   },
   {
    "duration": 19,
    "start_time": "2021-07-28T21:54:13.367Z"
   },
   {
    "duration": 9,
    "start_time": "2021-07-28T21:54:13.389Z"
   },
   {
    "duration": 29,
    "start_time": "2021-07-28T21:54:13.401Z"
   },
   {
    "duration": 87,
    "start_time": "2021-07-28T21:54:13.433Z"
   },
   {
    "duration": 8,
    "start_time": "2021-07-28T21:54:13.523Z"
   },
   {
    "duration": 179,
    "start_time": "2021-07-28T21:54:13.534Z"
   },
   {
    "duration": 7,
    "start_time": "2021-07-28T21:54:13.716Z"
   },
   {
    "duration": 111,
    "start_time": "2021-07-28T21:54:13.726Z"
   },
   {
    "duration": 19,
    "start_time": "2021-07-28T21:54:13.839Z"
   },
   {
    "duration": 79,
    "start_time": "2021-07-28T21:54:13.860Z"
   },
   {
    "duration": 171,
    "start_time": "2021-07-28T21:54:13.941Z"
   },
   {
    "duration": 6,
    "start_time": "2021-07-28T21:54:14.114Z"
   },
   {
    "duration": 11,
    "start_time": "2021-07-28T21:54:14.122Z"
   },
   {
    "duration": 26,
    "start_time": "2021-07-28T21:54:14.135Z"
   },
   {
    "duration": 7,
    "start_time": "2021-07-28T21:54:14.165Z"
   },
   {
    "duration": 13,
    "start_time": "2021-07-28T21:54:14.175Z"
   },
   {
    "duration": 135,
    "start_time": "2021-07-28T21:54:14.191Z"
   },
   {
    "duration": 12,
    "start_time": "2021-07-28T21:54:14.329Z"
   },
   {
    "duration": 40,
    "start_time": "2021-07-28T21:54:14.344Z"
   },
   {
    "duration": 87,
    "start_time": "2021-07-28T21:54:14.387Z"
   },
   {
    "duration": 12,
    "start_time": "2021-07-28T21:54:14.478Z"
   },
   {
    "duration": 23,
    "start_time": "2021-07-28T21:54:14.493Z"
   },
   {
    "duration": 304,
    "start_time": "2021-07-28T21:54:14.520Z"
   },
   {
    "duration": 289,
    "start_time": "2021-07-28T21:54:14.827Z"
   },
   {
    "duration": 8,
    "start_time": "2021-07-28T21:54:15.118Z"
   },
   {
    "duration": 735,
    "start_time": "2021-07-28T21:54:15.128Z"
   },
   {
    "duration": 73,
    "start_time": "2021-07-28T21:54:15.866Z"
   },
   {
    "duration": 328,
    "start_time": "2021-07-28T21:54:15.941Z"
   },
   {
    "duration": 3,
    "start_time": "2021-07-28T21:54:16.272Z"
   },
   {
    "duration": 28,
    "start_time": "2021-07-28T21:54:16.277Z"
   },
   {
    "duration": 11,
    "start_time": "2021-07-28T21:54:16.307Z"
   },
   {
    "duration": 8,
    "start_time": "2021-07-28T21:54:16.320Z"
   },
   {
    "duration": 13,
    "start_time": "2021-07-28T21:54:16.330Z"
   },
   {
    "duration": 7,
    "start_time": "2021-07-28T21:54:16.362Z"
   },
   {
    "duration": 9,
    "start_time": "2021-07-28T21:54:16.372Z"
   },
   {
    "duration": 18,
    "start_time": "2021-07-28T21:54:16.383Z"
   },
   {
    "duration": 8,
    "start_time": "2021-07-28T21:54:16.404Z"
   },
   {
    "duration": 52,
    "start_time": "2021-07-28T21:54:16.414Z"
   },
   {
    "duration": 22,
    "start_time": "2021-07-28T21:54:16.469Z"
   },
   {
    "duration": 6,
    "start_time": "2021-07-28T21:54:16.494Z"
   },
   {
    "duration": 6,
    "start_time": "2021-07-28T21:54:16.503Z"
   },
   {
    "duration": 8,
    "start_time": "2021-07-28T21:54:16.511Z"
   },
   {
    "duration": 58,
    "start_time": "2021-07-28T21:54:16.521Z"
   },
   {
    "duration": 14,
    "start_time": "2021-07-28T21:54:16.582Z"
   },
   {
    "duration": 7,
    "start_time": "2021-07-28T21:54:16.603Z"
   },
   {
    "duration": 8,
    "start_time": "2021-07-28T21:54:16.613Z"
   },
   {
    "duration": 75,
    "start_time": "2021-07-28T21:59:17.898Z"
   },
   {
    "duration": 106,
    "start_time": "2021-07-28T22:01:25.157Z"
   },
   {
    "duration": 2097,
    "start_time": "2021-07-28T22:07:50.515Z"
   },
   {
    "duration": 3443,
    "start_time": "2021-07-28T22:07:52.615Z"
   },
   {
    "duration": 365,
    "start_time": "2021-07-28T22:07:56.062Z"
   },
   {
    "duration": 53,
    "start_time": "2021-07-28T22:07:56.430Z"
   },
   {
    "duration": 4,
    "start_time": "2021-07-28T22:07:56.485Z"
   },
   {
    "duration": 23,
    "start_time": "2021-07-28T22:07:56.492Z"
   },
   {
    "duration": 44,
    "start_time": "2021-07-28T22:07:56.518Z"
   },
   {
    "duration": 81,
    "start_time": "2021-07-28T22:07:56.566Z"
   },
   {
    "duration": 83,
    "start_time": "2021-07-28T22:07:56.663Z"
   },
   {
    "duration": 11,
    "start_time": "2021-07-28T22:07:56.762Z"
   },
   {
    "duration": 45,
    "start_time": "2021-07-28T22:07:56.776Z"
   },
   {
    "duration": 130,
    "start_time": "2021-07-28T22:07:56.823Z"
   },
   {
    "duration": 89,
    "start_time": "2021-07-28T22:07:56.956Z"
   },
   {
    "duration": 30,
    "start_time": "2021-07-28T22:07:57.048Z"
   },
   {
    "duration": 7,
    "start_time": "2021-07-28T22:07:57.081Z"
   },
   {
    "duration": 28,
    "start_time": "2021-07-28T22:07:57.090Z"
   },
   {
    "duration": 45,
    "start_time": "2021-07-28T22:07:57.121Z"
   },
   {
    "duration": 10,
    "start_time": "2021-07-28T22:07:57.169Z"
   },
   {
    "duration": 21,
    "start_time": "2021-07-28T22:07:57.182Z"
   },
   {
    "duration": 13,
    "start_time": "2021-07-28T22:07:57.206Z"
   },
   {
    "duration": 1439,
    "start_time": "2021-07-28T22:07:57.222Z"
   },
   {
    "duration": 15,
    "start_time": "2021-07-28T22:07:58.664Z"
   },
   {
    "duration": 6,
    "start_time": "2021-07-28T22:07:58.689Z"
   },
   {
    "duration": 12,
    "start_time": "2021-07-28T22:07:58.700Z"
   },
   {
    "duration": 10,
    "start_time": "2021-07-28T22:07:58.715Z"
   },
   {
    "duration": 29,
    "start_time": "2021-07-28T22:07:58.763Z"
   },
   {
    "duration": 85,
    "start_time": "2021-07-28T22:07:58.795Z"
   },
   {
    "duration": 7,
    "start_time": "2021-07-28T22:07:58.883Z"
   },
   {
    "duration": 137,
    "start_time": "2021-07-28T22:07:58.892Z"
   },
   {
    "duration": 5,
    "start_time": "2021-07-28T22:07:59.032Z"
   },
   {
    "duration": 98,
    "start_time": "2021-07-28T22:07:59.040Z"
   },
   {
    "duration": 21,
    "start_time": "2021-07-28T22:07:59.141Z"
   },
   {
    "duration": 118,
    "start_time": "2021-07-28T22:07:59.165Z"
   },
   {
    "duration": 249,
    "start_time": "2021-07-28T22:07:59.286Z"
   },
   {
    "duration": 7,
    "start_time": "2021-07-28T22:07:59.538Z"
   },
   {
    "duration": 19,
    "start_time": "2021-07-28T22:07:59.548Z"
   },
   {
    "duration": 6,
    "start_time": "2021-07-28T22:07:59.570Z"
   },
   {
    "duration": 9,
    "start_time": "2021-07-28T22:07:59.579Z"
   },
   {
    "duration": 13,
    "start_time": "2021-07-28T22:07:59.591Z"
   },
   {
    "duration": 113,
    "start_time": "2021-07-28T22:07:59.606Z"
   },
   {
    "duration": 10,
    "start_time": "2021-07-28T22:07:59.722Z"
   },
   {
    "duration": 43,
    "start_time": "2021-07-28T22:07:59.735Z"
   },
   {
    "duration": 86,
    "start_time": "2021-07-28T22:07:59.781Z"
   },
   {
    "duration": 11,
    "start_time": "2021-07-28T22:07:59.869Z"
   },
   {
    "duration": 14,
    "start_time": "2021-07-28T22:07:59.883Z"
   },
   {
    "duration": 314,
    "start_time": "2021-07-28T22:07:59.900Z"
   },
   {
    "duration": 303,
    "start_time": "2021-07-28T22:08:00.217Z"
   },
   {
    "duration": 9,
    "start_time": "2021-07-28T22:08:00.522Z"
   },
   {
    "duration": 700,
    "start_time": "2021-07-28T22:08:00.533Z"
   },
   {
    "duration": 78,
    "start_time": "2021-07-28T22:08:01.236Z"
   },
   {
    "duration": 290,
    "start_time": "2021-07-28T22:08:01.316Z"
   },
   {
    "duration": 3,
    "start_time": "2021-07-28T22:08:01.609Z"
   },
   {
    "duration": 14,
    "start_time": "2021-07-28T22:08:01.615Z"
   },
   {
    "duration": 54,
    "start_time": "2021-07-28T22:08:01.631Z"
   },
   {
    "duration": 21,
    "start_time": "2021-07-28T22:08:01.687Z"
   },
   {
    "duration": 31,
    "start_time": "2021-07-28T22:08:01.710Z"
   },
   {
    "duration": 13,
    "start_time": "2021-07-28T22:08:01.744Z"
   },
   {
    "duration": 13,
    "start_time": "2021-07-28T22:08:01.759Z"
   },
   {
    "duration": 30,
    "start_time": "2021-07-28T22:08:01.774Z"
   },
   {
    "duration": 48,
    "start_time": "2021-07-28T22:08:01.806Z"
   },
   {
    "duration": 14,
    "start_time": "2021-07-28T22:08:01.857Z"
   },
   {
    "duration": 12,
    "start_time": "2021-07-28T22:08:01.873Z"
   },
   {
    "duration": 11,
    "start_time": "2021-07-28T22:08:01.888Z"
   },
   {
    "duration": 26,
    "start_time": "2021-07-28T22:08:01.902Z"
   },
   {
    "duration": 20,
    "start_time": "2021-07-28T22:08:01.931Z"
   },
   {
    "duration": 19,
    "start_time": "2021-07-28T22:08:01.954Z"
   },
   {
    "duration": 9,
    "start_time": "2021-07-28T22:08:01.975Z"
   },
   {
    "duration": 15,
    "start_time": "2021-07-28T22:08:01.990Z"
   },
   {
    "duration": 20,
    "start_time": "2021-07-28T22:08:02.008Z"
   },
   {
    "duration": 6,
    "start_time": "2021-07-28T22:17:36.732Z"
   },
   {
    "duration": 296,
    "start_time": "2021-07-28T22:30:39.766Z"
   },
   {
    "duration": 286,
    "start_time": "2021-07-28T22:30:47.982Z"
   },
   {
    "duration": 282,
    "start_time": "2021-07-28T22:30:56.239Z"
   },
   {
    "duration": 17,
    "start_time": "2021-07-28T22:31:38.327Z"
   },
   {
    "duration": 1456,
    "start_time": "2021-07-28T23:17:39.908Z"
   },
   {
    "duration": 3634,
    "start_time": "2021-07-28T23:17:41.368Z"
   },
   {
    "duration": 354,
    "start_time": "2021-07-28T23:17:45.009Z"
   },
   {
    "duration": 56,
    "start_time": "2021-07-28T23:17:45.366Z"
   },
   {
    "duration": 4,
    "start_time": "2021-07-28T23:17:45.424Z"
   },
   {
    "duration": 48,
    "start_time": "2021-07-28T23:17:45.430Z"
   },
   {
    "duration": 18,
    "start_time": "2021-07-28T23:17:45.483Z"
   },
   {
    "duration": 104,
    "start_time": "2021-07-28T23:17:45.504Z"
   },
   {
    "duration": 96,
    "start_time": "2021-07-28T23:17:45.611Z"
   },
   {
    "duration": 11,
    "start_time": "2021-07-28T23:17:45.710Z"
   },
   {
    "duration": 61,
    "start_time": "2021-07-28T23:17:45.723Z"
   },
   {
    "duration": 119,
    "start_time": "2021-07-28T23:17:45.787Z"
   },
   {
    "duration": 98,
    "start_time": "2021-07-28T23:17:45.908Z"
   },
   {
    "duration": 22,
    "start_time": "2021-07-28T23:17:46.008Z"
   },
   {
    "duration": 31,
    "start_time": "2021-07-28T23:17:46.033Z"
   },
   {
    "duration": 21,
    "start_time": "2021-07-28T23:17:46.067Z"
   },
   {
    "duration": 15,
    "start_time": "2021-07-28T23:17:46.091Z"
   },
   {
    "duration": 8,
    "start_time": "2021-07-28T23:17:46.108Z"
   },
   {
    "duration": 53,
    "start_time": "2021-07-28T23:17:46.118Z"
   },
   {
    "duration": 14,
    "start_time": "2021-07-28T23:17:46.173Z"
   },
   {
    "duration": 1465,
    "start_time": "2021-07-28T23:17:46.190Z"
   },
   {
    "duration": 15,
    "start_time": "2021-07-28T23:17:47.669Z"
   },
   {
    "duration": 8,
    "start_time": "2021-07-28T23:17:47.690Z"
   },
   {
    "duration": 24,
    "start_time": "2021-07-28T23:17:47.701Z"
   },
   {
    "duration": 19,
    "start_time": "2021-07-28T23:17:47.728Z"
   },
   {
    "duration": 35,
    "start_time": "2021-07-28T23:17:47.750Z"
   },
   {
    "duration": 41,
    "start_time": "2021-07-28T23:17:47.787Z"
   },
   {
    "duration": 33,
    "start_time": "2021-07-28T23:17:47.830Z"
   },
   {
    "duration": 134,
    "start_time": "2021-07-28T23:17:47.866Z"
   },
   {
    "duration": 70,
    "start_time": "2021-07-28T23:17:48.003Z"
   },
   {
    "duration": 7,
    "start_time": "2021-07-28T23:17:48.076Z"
   },
   {
    "duration": 95,
    "start_time": "2021-07-28T23:17:48.085Z"
   },
   {
    "duration": 160,
    "start_time": "2021-07-28T23:17:48.183Z"
   },
   {
    "duration": 5,
    "start_time": "2021-07-28T23:17:48.345Z"
   },
   {
    "duration": 10,
    "start_time": "2021-07-28T23:17:48.353Z"
   },
   {
    "duration": 12,
    "start_time": "2021-07-28T23:17:48.365Z"
   },
   {
    "duration": 23,
    "start_time": "2021-07-28T23:17:48.380Z"
   },
   {
    "duration": 11,
    "start_time": "2021-07-28T23:17:48.405Z"
   },
   {
    "duration": 113,
    "start_time": "2021-07-28T23:17:48.418Z"
   },
   {
    "duration": 8,
    "start_time": "2021-07-28T23:17:48.534Z"
   },
   {
    "duration": 17,
    "start_time": "2021-07-28T23:17:48.562Z"
   },
   {
    "duration": 90,
    "start_time": "2021-07-28T23:17:48.582Z"
   },
   {
    "duration": 10,
    "start_time": "2021-07-28T23:17:48.674Z"
   },
   {
    "duration": 23,
    "start_time": "2021-07-28T23:17:48.687Z"
   },
   {
    "duration": 304,
    "start_time": "2021-07-28T23:17:48.712Z"
   },
   {
    "duration": 280,
    "start_time": "2021-07-28T23:17:49.019Z"
   },
   {
    "duration": 7,
    "start_time": "2021-07-28T23:17:49.302Z"
   },
   {
    "duration": 714,
    "start_time": "2021-07-28T23:17:49.311Z"
   },
   {
    "duration": 85,
    "start_time": "2021-07-28T23:17:50.028Z"
   },
   {
    "duration": 300,
    "start_time": "2021-07-28T23:17:50.115Z"
   },
   {
    "duration": 4,
    "start_time": "2021-07-28T23:17:50.417Z"
   },
   {
    "duration": 11,
    "start_time": "2021-07-28T23:17:50.423Z"
   },
   {
    "duration": 28,
    "start_time": "2021-07-28T23:17:50.436Z"
   },
   {
    "duration": 8,
    "start_time": "2021-07-28T23:17:50.466Z"
   },
   {
    "duration": 15,
    "start_time": "2021-07-28T23:17:50.477Z"
   },
   {
    "duration": 14,
    "start_time": "2021-07-28T23:17:50.495Z"
   },
   {
    "duration": 22,
    "start_time": "2021-07-28T23:17:50.512Z"
   },
   {
    "duration": 36,
    "start_time": "2021-07-28T23:17:50.537Z"
   },
   {
    "duration": 19,
    "start_time": "2021-07-28T23:17:50.575Z"
   },
   {
    "duration": 17,
    "start_time": "2021-07-28T23:17:50.597Z"
   },
   {
    "duration": 16,
    "start_time": "2021-07-28T23:17:50.617Z"
   },
   {
    "duration": 10,
    "start_time": "2021-07-28T23:17:50.635Z"
   },
   {
    "duration": 21,
    "start_time": "2021-07-28T23:17:50.648Z"
   },
   {
    "duration": 11,
    "start_time": "2021-07-28T23:17:50.671Z"
   },
   {
    "duration": 19,
    "start_time": "2021-07-28T23:17:50.684Z"
   },
   {
    "duration": 23,
    "start_time": "2021-07-28T23:17:50.706Z"
   },
   {
    "duration": 7,
    "start_time": "2021-07-28T23:17:50.763Z"
   },
   {
    "duration": 13,
    "start_time": "2021-07-28T23:17:50.772Z"
   }
  ],
  "kernelspec": {
   "display_name": "Python 3",
   "language": "python",
   "name": "python3"
  },
  "language_info": {
   "codemirror_mode": {
    "name": "ipython",
    "version": 3
   },
   "file_extension": ".py",
   "mimetype": "text/x-python",
   "name": "python",
   "nbconvert_exporter": "python",
   "pygments_lexer": "ipython3",
   "version": "3.8.8"
  },
  "toc": {
   "base_numbering": 1,
   "nav_menu": {},
   "number_sections": true,
   "sideBar": true,
   "skip_h1_title": true,
   "title_cell": "Table of Contents",
   "title_sidebar": "Contents",
   "toc_cell": false,
   "toc_position": {},
   "toc_section_display": true,
   "toc_window_display": false
  }
 },
 "nbformat": 4,
 "nbformat_minor": 5
}
