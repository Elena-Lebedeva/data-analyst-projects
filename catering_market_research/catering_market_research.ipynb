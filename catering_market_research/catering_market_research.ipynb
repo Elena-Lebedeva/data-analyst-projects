{
 "cells": [
  {
   "cell_type": "markdown",
   "id": "aa0bbd3d",
   "metadata": {},
   "source": [
    "## Описание проекта\n",
    "\n",
    "Необходимо подготовить исследование рынка общественного питания Москвы для открытия нового бизнеса на основе открытых данные о заведениях общественного питания в Москве."
   ]
  },
  {
   "cell_type": "markdown",
   "id": "92ddffbc",
   "metadata": {},
   "source": [
    "## Шаг №1. Загрузите данные и подготовьте их к анализу\n",
    "Загрузите данные о заведениях общественного питания Москвы. Убедитесь, что тип данных в каждой колонке — правильный, а также отсутствуют пропущенные значения и дубликаты. При необходимости обработайте их."
   ]
  },
  {
   "cell_type": "code",
   "execution_count": 1,
   "id": "9a7cd122",
   "metadata": {},
   "outputs": [],
   "source": [
    "import pandas as pd\n",
    "import numpy as np\n",
    "import math as mth\n",
    "import matplotlib.pyplot as plt\n",
    "import scipy.stats as stats\n",
    "import seaborn as sns\n",
    "import re\n",
    "from io import BytesIO\n",
    "import requests\n",
    "\n",
    "pd.options.display.float_format = '{:.2f}'.format\n",
    "plt.style.use('seaborn-deep')"
   ]
  },
  {
   "cell_type": "code",
   "execution_count": 2,
   "id": "c96bfe83",
   "metadata": {},
   "outputs": [
    {
     "name": "stdout",
     "output_type": "stream",
     "text": [
      "Defaulting to user installation because normal site-packages is not writeable\n",
      "Requirement already up-to-date: seaborn in /home/jovyan/.local/lib/python3.7/site-packages (0.11.1)\n",
      "Requirement already satisfied, skipping upgrade: matplotlib>=2.2 in /opt/conda/lib/python3.7/site-packages (from seaborn) (3.1.0)\n",
      "Requirement already satisfied, skipping upgrade: numpy>=1.15 in /opt/conda/lib/python3.7/site-packages (from seaborn) (1.19.5)\n",
      "Requirement already satisfied, skipping upgrade: pandas>=0.23 in /opt/conda/lib/python3.7/site-packages (from seaborn) (0.25.1)\n",
      "Requirement already satisfied, skipping upgrade: scipy>=1.0 in /opt/conda/lib/python3.7/site-packages (from seaborn) (1.4.1)\n",
      "Requirement already satisfied, skipping upgrade: python-dateutil>=2.1 in /opt/conda/lib/python3.7/site-packages (from matplotlib>=2.2->seaborn) (2.8.1)\n",
      "Requirement already satisfied, skipping upgrade: cycler>=0.10 in /opt/conda/lib/python3.7/site-packages (from matplotlib>=2.2->seaborn) (0.10.0)\n",
      "Requirement already satisfied, skipping upgrade: kiwisolver>=1.0.1 in /opt/conda/lib/python3.7/site-packages (from matplotlib>=2.2->seaborn) (1.3.1)\n",
      "Requirement already satisfied, skipping upgrade: pyparsing!=2.0.4,!=2.1.2,!=2.1.6,>=2.0.1 in /opt/conda/lib/python3.7/site-packages (from matplotlib>=2.2->seaborn) (2.4.7)\n",
      "Requirement already satisfied, skipping upgrade: pytz>=2017.2 in /opt/conda/lib/python3.7/site-packages (from pandas>=0.23->seaborn) (2021.1)\n",
      "Requirement already satisfied, skipping upgrade: six>=1.5 in /opt/conda/lib/python3.7/site-packages (from python-dateutil>=2.1->matplotlib>=2.2->seaborn) (1.15.0)\n",
      "Note: you may need to restart the kernel to use updated packages.\n"
     ]
    }
   ],
   "source": [
    "pip install -U seaborn"
   ]
  },
  {
   "cell_type": "code",
   "execution_count": 3,
   "id": "5c66e2db",
   "metadata": {},
   "outputs": [],
   "source": [
    "try: \n",
    "    df = pd.read_csv('rest_data.csv') # \n",
    "\n",
    "except FileNotFoundError:\n",
    "    df = pd.read_csv('/datasets/rest_data.csv' ) #яндексовский путь"
   ]
  },
  {
   "cell_type": "code",
   "execution_count": 4,
   "id": "fa65d375",
   "metadata": {},
   "outputs": [
    {
     "name": "stdout",
     "output_type": "stream",
     "text": [
      "<class 'pandas.core.frame.DataFrame'>\n",
      "RangeIndex: 15366 entries, 0 to 15365\n",
      "Data columns (total 6 columns):\n",
      "id             15366 non-null int64\n",
      "object_name    15366 non-null object\n",
      "chain          15366 non-null object\n",
      "object_type    15366 non-null object\n",
      "address        15366 non-null object\n",
      "number         15366 non-null int64\n",
      "dtypes: int64(2), object(4)\n",
      "memory usage: 720.4+ KB\n"
     ]
    },
    {
     "data": {
      "text/html": [
       "<div>\n",
       "<style scoped>\n",
       "    .dataframe tbody tr th:only-of-type {\n",
       "        vertical-align: middle;\n",
       "    }\n",
       "\n",
       "    .dataframe tbody tr th {\n",
       "        vertical-align: top;\n",
       "    }\n",
       "\n",
       "    .dataframe thead th {\n",
       "        text-align: right;\n",
       "    }\n",
       "</style>\n",
       "<table border=\"1\" class=\"dataframe\">\n",
       "  <thead>\n",
       "    <tr style=\"text-align: right;\">\n",
       "      <th></th>\n",
       "      <th>id</th>\n",
       "      <th>object_name</th>\n",
       "      <th>chain</th>\n",
       "      <th>object_type</th>\n",
       "      <th>address</th>\n",
       "      <th>number</th>\n",
       "    </tr>\n",
       "  </thead>\n",
       "  <tbody>\n",
       "    <tr>\n",
       "      <td>2973</td>\n",
       "      <td>22736</td>\n",
       "      <td>Луна</td>\n",
       "      <td>нет</td>\n",
       "      <td>кафе</td>\n",
       "      <td>город Москва, Михалковская улица, дом 38, стро...</td>\n",
       "      <td>40</td>\n",
       "    </tr>\n",
       "    <tr>\n",
       "      <td>2593</td>\n",
       "      <td>29065</td>\n",
       "      <td>Столовая ГБОУ 45 Гимназия имени Л.И. Мильграмма</td>\n",
       "      <td>нет</td>\n",
       "      <td>столовая</td>\n",
       "      <td>город Москва, улица Гримау, дом 8</td>\n",
       "      <td>300</td>\n",
       "    </tr>\n",
       "    <tr>\n",
       "      <td>6737</td>\n",
       "      <td>23349</td>\n",
       "      <td>Столовая ГБОУ СОШ № 1900</td>\n",
       "      <td>нет</td>\n",
       "      <td>столовая</td>\n",
       "      <td>город Москва, Дубравная улица, дом 41, корпус 4</td>\n",
       "      <td>240</td>\n",
       "    </tr>\n",
       "    <tr>\n",
       "      <td>14940</td>\n",
       "      <td>222539</td>\n",
       "      <td>Holy Vegan</td>\n",
       "      <td>нет</td>\n",
       "      <td>кафе</td>\n",
       "      <td>город Москва, Ходынский бульвар, дом 4</td>\n",
       "      <td>0</td>\n",
       "    </tr>\n",
       "    <tr>\n",
       "      <td>4088</td>\n",
       "      <td>26585</td>\n",
       "      <td>Ресторан «Очаг гурманов»</td>\n",
       "      <td>нет</td>\n",
       "      <td>ресторан</td>\n",
       "      <td>город Москва, Каширское шоссе, дом 51, корпус 3</td>\n",
       "      <td>42</td>\n",
       "    </tr>\n",
       "  </tbody>\n",
       "</table>\n",
       "</div>"
      ],
      "text/plain": [
       "           id                                      object_name chain  \\\n",
       "2973    22736                                             Луна   нет   \n",
       "2593    29065  Столовая ГБОУ 45 Гимназия имени Л.И. Мильграмма   нет   \n",
       "6737    23349                         Столовая ГБОУ СОШ № 1900   нет   \n",
       "14940  222539                                       Holy Vegan   нет   \n",
       "4088    26585                         Ресторан «Очаг гурманов»   нет   \n",
       "\n",
       "      object_type                                            address  number  \n",
       "2973         кафе  город Москва, Михалковская улица, дом 38, стро...      40  \n",
       "2593     столовая                  город Москва, улица Гримау, дом 8     300  \n",
       "6737     столовая    город Москва, Дубравная улица, дом 41, корпус 4     240  \n",
       "14940        кафе             город Москва, Ходынский бульвар, дом 4       0  \n",
       "4088     ресторан    город Москва, Каширское шоссе, дом 51, корпус 3      42  "
      ]
     },
     "metadata": {},
     "output_type": "display_data"
    },
    {
     "name": "stdout",
     "output_type": "stream",
     "text": [
      "id            0.00\n",
      "object_name   0.00\n",
      "chain         0.00\n",
      "object_type   0.00\n",
      "address       0.00\n",
      "number        0.00\n",
      "dtype: float64\n",
      "duplicates: 0\n"
     ]
    }
   ],
   "source": [
    "df.info()#вывод общей информации\n",
    "display(df.sample(5, random_state=1)) # вывод 10 рандомных строк\n",
    "print(df.isna().mean()) # вывод среднего количества пропущенных значений\n",
    "print('duplicates:', df.duplicated().sum()) # вывод количества дубликатов"
   ]
  },
  {
   "cell_type": "markdown",
   "id": "c0ea2553",
   "metadata": {},
   "source": [
    "В датасете нет пропущенных значений, простых дупликатов не обнаружено, однако мы можем зафиксировать проблему написания торговых точек. Проверим, нет ли похожих написаний в колонках с типом заведения, вопросом о сетевое ли заведение и названиями кафе."
   ]
  },
  {
   "cell_type": "code",
   "execution_count": 5,
   "id": "15b6160c",
   "metadata": {},
   "outputs": [
    {
     "data": {
      "text/plain": [
       "array(['нет', 'да'], dtype=object)"
      ]
     },
     "execution_count": 5,
     "metadata": {},
     "output_type": "execute_result"
    }
   ],
   "source": [
    "df['chain'].unique()"
   ]
  },
  {
   "cell_type": "markdown",
   "id": "ea356409",
   "metadata": {},
   "source": [
    "заменим ответы да нет на 0 и 1, превратив тип данных в целочисленный для экономии памяти."
   ]
  },
  {
   "cell_type": "code",
   "execution_count": 6,
   "id": "b1a51136",
   "metadata": {},
   "outputs": [],
   "source": [
    "df.loc[df['chain'] == 'да', 'chain'] = 1 # заменим 'да' на 1\n",
    "df.loc[df['chain'] == 'нет', 'chain'] = 0 # заменим 'нет' на 0\n",
    "df['chain']=df['chain'].astype('int')"
   ]
  },
  {
   "cell_type": "code",
   "execution_count": 7,
   "id": "8f0e819c",
   "metadata": {},
   "outputs": [
    {
     "data": {
      "text/plain": [
       "array(['кафе', 'столовая', 'закусочная',\n",
       "       'предприятие быстрого обслуживания', 'ресторан', 'кафетерий',\n",
       "       'буфет', 'бар', 'магазин (отдел кулинарии)'], dtype=object)"
      ]
     },
     "execution_count": 7,
     "metadata": {},
     "output_type": "execute_result"
    }
   ],
   "source": [
    "df['object_type'].unique()"
   ]
  },
  {
   "cell_type": "markdown",
   "id": "2076ffea",
   "metadata": {},
   "source": [
    "Взглянем на названия сетевых заведений (несетевые единичны и их написание не повлияет на анализ), чтобы проверить, если ли дубликаты из-за разного написания. "
   ]
  },
  {
   "cell_type": "code",
   "execution_count": 8,
   "id": "c8dc9a0f",
   "metadata": {},
   "outputs": [],
   "source": [
    "df['object_type'] = df['object_type'].str.replace('предприятие быстрого обслуживания','фастфуд')"
   ]
  },
  {
   "cell_type": "code",
   "execution_count": 9,
   "id": "08c8ee69",
   "metadata": {},
   "outputs": [],
   "source": [
    "df.loc[df['object_type'] == \"магазин (отдел кулинарии)\",\"object_type\" ] = 'кулинария'"
   ]
  },
  {
   "cell_type": "code",
   "execution_count": 10,
   "id": "2d4b76e6",
   "metadata": {},
   "outputs": [
    {
     "data": {
      "text/plain": [
       "KFC                155\n",
       "Шоколадница        141\n",
       "Макдоналдс         122\n",
       "Бургер Кинг        122\n",
       "Домино'с Пицца      86\n",
       "Теремок             84\n",
       "Крошка Картошка     82\n",
       "Милти               65\n",
       "Суши Wok            61\n",
       "Папа Джонс          50\n",
       "Name: object_name, dtype: int64"
      ]
     },
     "execution_count": 10,
     "metadata": {},
     "output_type": "execute_result"
    }
   ],
   "source": [
    "df[df['chain']==1]['object_name'].value_counts().head(10)"
   ]
  },
  {
   "cell_type": "markdown",
   "id": "d83f7420",
   "metadata": {},
   "source": [
    "Устраним обнаруженные проблемы через приведение к единому регистру и замену, так как это наиболее быстро."
   ]
  },
  {
   "cell_type": "code",
   "execution_count": 11,
   "id": "c937ea03",
   "metadata": {},
   "outputs": [],
   "source": [
    "df['object_name']=df['object_name'].str.lower()"
   ]
  },
  {
   "cell_type": "code",
   "execution_count": 12,
   "id": "a714bf51",
   "metadata": {},
   "outputs": [],
   "source": [
    "df['object_name'] = df['object_name'].str.replace('«','')\n",
    "df['object_name'] = df['object_name'].str.replace('»','')\n",
    "df['object_name'] = df['object_name'].str.replace('кофейня ','')\n",
    "df['object_name'] = df['object_name'].str.replace('кафе ','')\n",
    "df['object_name'] = df['object_name'].str.replace('ресторан ','')\n",
    "df['object_name'] = df['object_name'].str.replace(' шоколадница','шоколадница')\n",
    "df['object_name'] = df['object_name'].str.replace('старбакс','starbucks')\n",
    "df['object_name'] = df['object_name'].str.replace('пиццерия папа джонс','папа джонс')\n",
    "df['object_name'] = df['object_name'].str.replace('ростикс kfc', 'kfc')\n",
    "df['object_name'] = df['object_name'].str.replace('сабвей','subway')"
   ]
  },
  {
   "cell_type": "code",
   "execution_count": 13,
   "id": "bfaf44ea",
   "metadata": {},
   "outputs": [
    {
     "data": {
      "text/plain": [
       "0"
      ]
     },
     "execution_count": 13,
     "metadata": {},
     "output_type": "execute_result"
    }
   ],
   "source": [
    "df.duplicated().sum()"
   ]
  },
  {
   "cell_type": "code",
   "execution_count": 14,
   "id": "b6a3f1de",
   "metadata": {},
   "outputs": [
    {
     "data": {
      "text/plain": [
       "шоколадница        183\n",
       "kfc                178\n",
       "макдоналдс         165\n",
       "бургер кинг        144\n",
       "теремок            105\n",
       "домино'с пицца      92\n",
       "крошка картошка     92\n",
       "суши wok            74\n",
       "милти               72\n",
       "папа джонс          65\n",
       "starbucks           59\n",
       "subway              56\n",
       "чайхона №1          49\n",
       "додо пицца          49\n",
       "якитория            48\n",
       "тануки              47\n",
       "кофе с собой        46\n",
       "хинкальная          43\n",
       "кофе хаус           38\n",
       "хлеб насущный       33\n",
       "Name: object_name, dtype: int64"
      ]
     },
     "execution_count": 14,
     "metadata": {},
     "output_type": "execute_result"
    }
   ],
   "source": [
    "df[df['chain']==1]['object_name'].value_counts().head(20)"
   ]
  },
  {
   "cell_type": "markdown",
   "id": "3ac3af1b",
   "metadata": {},
   "source": [
    "**Вывод**"
   ]
  },
  {
   "cell_type": "markdown",
   "id": "6a8ec9f2",
   "metadata": {},
   "source": [
    "Мы ознакомились с данными. Типы данных корректы, однако мы заменили дихотомический признак сетевое или не сетвое заведение на целочисленный тип данных (где 1 - сетевое, 0- несетевое). Пропусков и явных дубликатов не было обнаружено.\n",
    "Оданако, мы заметили разные варианты написания одного и того же сетевого заведения в некоторых случаях. В случаях с многочисленными повторами мы избавились от этой проблемы и сделали одинаковое написание. Несмотря на то, что не исключены одиночные варианты другого написания, но они не будут иметь влияния на результат."
   ]
  },
  {
   "cell_type": "markdown",
   "id": "ac92aa8b",
   "metadata": {},
   "source": [
    "## Шаг №2. Анализ данных"
   ]
  },
  {
   "cell_type": "markdown",
   "id": "76e49d94",
   "metadata": {},
   "source": [
    "### Исследуйте соотношение видов объектов общественного питания по количеству. Постройте график."
   ]
  },
  {
   "cell_type": "code",
   "execution_count": 15,
   "id": "74db81a3",
   "metadata": {},
   "outputs": [
    {
     "data": {
      "text/html": [
       "<div>\n",
       "<style scoped>\n",
       "    .dataframe tbody tr th:only-of-type {\n",
       "        vertical-align: middle;\n",
       "    }\n",
       "\n",
       "    .dataframe tbody tr th {\n",
       "        vertical-align: top;\n",
       "    }\n",
       "\n",
       "    .dataframe thead th {\n",
       "        text-align: right;\n",
       "    }\n",
       "</style>\n",
       "<table border=\"1\" class=\"dataframe\">\n",
       "  <thead>\n",
       "    <tr style=\"text-align: right;\">\n",
       "      <th></th>\n",
       "      <th>object_type</th>\n",
       "      <th>count</th>\n",
       "      <th>%count</th>\n",
       "    </tr>\n",
       "  </thead>\n",
       "  <tbody>\n",
       "    <tr>\n",
       "      <td>0</td>\n",
       "      <td>кафе</td>\n",
       "      <td>6099</td>\n",
       "      <td>39.69</td>\n",
       "    </tr>\n",
       "    <tr>\n",
       "      <td>1</td>\n",
       "      <td>столовая</td>\n",
       "      <td>2587</td>\n",
       "      <td>16.84</td>\n",
       "    </tr>\n",
       "    <tr>\n",
       "      <td>2</td>\n",
       "      <td>ресторан</td>\n",
       "      <td>2285</td>\n",
       "      <td>14.87</td>\n",
       "    </tr>\n",
       "    <tr>\n",
       "      <td>3</td>\n",
       "      <td>фастфуд</td>\n",
       "      <td>1923</td>\n",
       "      <td>12.51</td>\n",
       "    </tr>\n",
       "    <tr>\n",
       "      <td>4</td>\n",
       "      <td>бар</td>\n",
       "      <td>856</td>\n",
       "      <td>5.57</td>\n",
       "    </tr>\n",
       "    <tr>\n",
       "      <td>5</td>\n",
       "      <td>буфет</td>\n",
       "      <td>585</td>\n",
       "      <td>3.81</td>\n",
       "    </tr>\n",
       "    <tr>\n",
       "      <td>6</td>\n",
       "      <td>кафетерий</td>\n",
       "      <td>398</td>\n",
       "      <td>2.59</td>\n",
       "    </tr>\n",
       "    <tr>\n",
       "      <td>7</td>\n",
       "      <td>закусочная</td>\n",
       "      <td>360</td>\n",
       "      <td>2.34</td>\n",
       "    </tr>\n",
       "    <tr>\n",
       "      <td>8</td>\n",
       "      <td>кулинария</td>\n",
       "      <td>273</td>\n",
       "      <td>1.78</td>\n",
       "    </tr>\n",
       "  </tbody>\n",
       "</table>\n",
       "</div>"
      ],
      "text/plain": [
       "  object_type  count  %count\n",
       "0        кафе   6099   39.69\n",
       "1    столовая   2587   16.84\n",
       "2    ресторан   2285   14.87\n",
       "3     фастфуд   1923   12.51\n",
       "4         бар    856    5.57\n",
       "5       буфет    585    3.81\n",
       "6   кафетерий    398    2.59\n",
       "7  закусочная    360    2.34\n",
       "8   кулинария    273    1.78"
      ]
     },
     "execution_count": 15,
     "metadata": {},
     "output_type": "execute_result"
    }
   ],
   "source": [
    "df_object=df.groupby('object_type')['object_type'].agg(['count']).sort_values(by='count', ascending=False)\n",
    "df_object['%count']=df_object['count']/df_object['count'].sum()*100\n",
    "df_object = df_object.reset_index()\n",
    "df_object"
   ]
  },
  {
   "cell_type": "code",
   "execution_count": 17,
   "id": "42788cd4",
   "metadata": {},
   "outputs": [
    {
     "data": {
      "image/png": "[encoded data removed]",
      "text/plain": [
       "<Figure size 432x288 with 1 Axes>"
      ]
     },
     "metadata": {
      "needs_background": "light"
     },
     "output_type": "display_data"
    }
   ],
   "source": [
    "#Виды объектов общественного питания по количеству\n",
    "sns.barplot(y=df_object['object_type'], x=df_object['%count'], palette='Blues_r')\n",
    "plt.title('Среди объектов общественного питания преобладают кафе')\n",
    "plt.xlabel('% от всех')\n",
    "plt.ylabel('')\n",
    "plt.show()"
   ]
  },
  {
   "cell_type": "markdown",
   "id": "9fe037bb",
   "metadata": {},
   "source": [
    "Среди объектов общественного питания преобладают кафе, их почти 40% от всех заведений. Второе место занимают столовые, - 17% и рестораны - 15%. На четвертом месте находятся предприятия быстрого обслуживания с 12.5%.\n",
    "Меньше всего кулинарий, около 2%, а также закусочных и кафетериев - они имеют долю районе 2.5%"
   ]
  },
  {
   "cell_type": "markdown",
   "id": "3080be89",
   "metadata": {},
   "source": [
    "### Исследуйте соотношение сетевых и несетевых заведений по количеству. Постройте график."
   ]
  },
  {
   "cell_type": "code",
   "execution_count": 18,
   "id": "2aed58cc",
   "metadata": {},
   "outputs": [
    {
     "data": {
      "text/html": [
       "<div>\n",
       "<style scoped>\n",
       "    .dataframe tbody tr th:only-of-type {\n",
       "        vertical-align: middle;\n",
       "    }\n",
       "\n",
       "    .dataframe tbody tr th {\n",
       "        vertical-align: top;\n",
       "    }\n",
       "\n",
       "    .dataframe thead th {\n",
       "        text-align: right;\n",
       "    }\n",
       "</style>\n",
       "<table border=\"1\" class=\"dataframe\">\n",
       "  <thead>\n",
       "    <tr style=\"text-align: right;\">\n",
       "      <th></th>\n",
       "      <th>chain</th>\n",
       "      <th>count</th>\n",
       "      <th>%count</th>\n",
       "    </tr>\n",
       "  </thead>\n",
       "  <tbody>\n",
       "    <tr>\n",
       "      <td>0</td>\n",
       "      <td>0</td>\n",
       "      <td>12398</td>\n",
       "      <td>80.68</td>\n",
       "    </tr>\n",
       "    <tr>\n",
       "      <td>1</td>\n",
       "      <td>1</td>\n",
       "      <td>2968</td>\n",
       "      <td>19.32</td>\n",
       "    </tr>\n",
       "  </tbody>\n",
       "</table>\n",
       "</div>"
      ],
      "text/plain": [
       "   chain  count  %count\n",
       "0      0  12398   80.68\n",
       "1      1   2968   19.32"
      ]
     },
     "execution_count": 18,
     "metadata": {},
     "output_type": "execute_result"
    }
   ],
   "source": [
    "df_chain=df.groupby('chain')['chain'].agg(['count']).sort_values(by='count', ascending=False)\n",
    "df_chain['%count']=df_chain['count']/df_chain['count'].sum()*100\n",
    "df_chain = df_chain.reset_index()\n",
    "df_chain"
   ]
  },
  {
   "cell_type": "code",
   "execution_count": 19,
   "id": "4e9051bb",
   "metadata": {},
   "outputs": [
    {
     "data": {
      "image/png": "[encoded data removed]",
      "text/plain": [
       "<Figure size 432x288 with 1 Axes>"
      ]
     },
     "metadata": {
      "needs_background": "light"
     },
     "output_type": "display_data"
    }
   ],
   "source": [
    "# Соотношение сетевых и несетевых заведений по количеству\n",
    "sns.barplot(x=['несетевые', 'сетевые'], y=df_chain['%count'], palette='Blues_r')\n",
    "plt.title('Подавляющее большинство заведений - несетевые')\n",
    "plt.xlabel('')\n",
    "plt.ylabel('% от всех')\n",
    "#plt.grid()\n",
    "plt.show()"
   ]
  },
  {
   "cell_type": "markdown",
   "id": "164d23c7",
   "metadata": {},
   "source": [
    "Более 80% всех заведений - несетевые."
   ]
  },
  {
   "cell_type": "markdown",
   "id": "3e4394a7",
   "metadata": {},
   "source": [
    "### Для какого вида объекта общественного питания характерно сетевое распространение?"
   ]
  },
  {
   "cell_type": "code",
   "execution_count": 20,
   "id": "2540b48b",
   "metadata": {},
   "outputs": [
    {
     "data": {
      "text/html": [
       "<div>\n",
       "<style scoped>\n",
       "    .dataframe tbody tr th:only-of-type {\n",
       "        vertical-align: middle;\n",
       "    }\n",
       "\n",
       "    .dataframe tbody tr th {\n",
       "        vertical-align: top;\n",
       "    }\n",
       "\n",
       "    .dataframe thead th {\n",
       "        text-align: right;\n",
       "    }\n",
       "</style>\n",
       "<table border=\"1\" class=\"dataframe\">\n",
       "  <thead>\n",
       "    <tr style=\"text-align: right;\">\n",
       "      <th></th>\n",
       "      <th>object_type</th>\n",
       "      <th>count</th>\n",
       "      <th>sum</th>\n",
       "      <th>mean</th>\n",
       "      <th>chain_perc</th>\n",
       "    </tr>\n",
       "  </thead>\n",
       "  <tbody>\n",
       "    <tr>\n",
       "      <td>0</td>\n",
       "      <td>фастфуд</td>\n",
       "      <td>1923</td>\n",
       "      <td>791</td>\n",
       "      <td>0.41</td>\n",
       "      <td>41.13</td>\n",
       "    </tr>\n",
       "    <tr>\n",
       "      <td>1</td>\n",
       "      <td>кулинария</td>\n",
       "      <td>273</td>\n",
       "      <td>78</td>\n",
       "      <td>0.29</td>\n",
       "      <td>28.57</td>\n",
       "    </tr>\n",
       "    <tr>\n",
       "      <td>2</td>\n",
       "      <td>ресторан</td>\n",
       "      <td>2285</td>\n",
       "      <td>544</td>\n",
       "      <td>0.24</td>\n",
       "      <td>23.81</td>\n",
       "    </tr>\n",
       "    <tr>\n",
       "      <td>3</td>\n",
       "      <td>кафе</td>\n",
       "      <td>6099</td>\n",
       "      <td>1396</td>\n",
       "      <td>0.23</td>\n",
       "      <td>22.89</td>\n",
       "    </tr>\n",
       "    <tr>\n",
       "      <td>4</td>\n",
       "      <td>закусочная</td>\n",
       "      <td>360</td>\n",
       "      <td>56</td>\n",
       "      <td>0.16</td>\n",
       "      <td>15.56</td>\n",
       "    </tr>\n",
       "    <tr>\n",
       "      <td>5</td>\n",
       "      <td>кафетерий</td>\n",
       "      <td>398</td>\n",
       "      <td>52</td>\n",
       "      <td>0.13</td>\n",
       "      <td>13.07</td>\n",
       "    </tr>\n",
       "    <tr>\n",
       "      <td>6</td>\n",
       "      <td>бар</td>\n",
       "      <td>856</td>\n",
       "      <td>37</td>\n",
       "      <td>0.04</td>\n",
       "      <td>4.32</td>\n",
       "    </tr>\n",
       "    <tr>\n",
       "      <td>7</td>\n",
       "      <td>буфет</td>\n",
       "      <td>585</td>\n",
       "      <td>11</td>\n",
       "      <td>0.02</td>\n",
       "      <td>1.88</td>\n",
       "    </tr>\n",
       "    <tr>\n",
       "      <td>8</td>\n",
       "      <td>столовая</td>\n",
       "      <td>2587</td>\n",
       "      <td>3</td>\n",
       "      <td>0.00</td>\n",
       "      <td>0.12</td>\n",
       "    </tr>\n",
       "  </tbody>\n",
       "</table>\n",
       "</div>"
      ],
      "text/plain": [
       "  object_type  count   sum  mean  chain_perc\n",
       "0     фастфуд   1923   791  0.41       41.13\n",
       "1   кулинария    273    78  0.29       28.57\n",
       "2    ресторан   2285   544  0.24       23.81\n",
       "3        кафе   6099  1396  0.23       22.89\n",
       "4  закусочная    360    56  0.16       15.56\n",
       "5   кафетерий    398    52  0.13       13.07\n",
       "6         бар    856    37  0.04        4.32\n",
       "7       буфет    585    11  0.02        1.88\n",
       "8    столовая   2587     3  0.00        0.12"
      ]
     },
     "execution_count": 20,
     "metadata": {},
     "output_type": "execute_result"
    }
   ],
   "source": [
    "df_type_by_chain=df.groupby('object_type')['chain'].agg(['count', 'sum', 'mean']).sort_values(by='mean', ascending=False)\n",
    "df_type_by_chain['chain_perc']=df_type_by_chain['mean']*100\n",
    "df_type_by_chain=df_type_by_chain.reset_index()\n",
    "df_type_by_chain"
   ]
  },
  {
   "cell_type": "code",
   "execution_count": 21,
   "id": "ccab72db",
   "metadata": {},
   "outputs": [
    {
     "data": {
      "image/png": "[encoded data removed]",
      "text/plain": [
       "<Figure size 432x288 with 1 Axes>"
      ]
     },
     "metadata": {
      "needs_background": "light"
     },
     "output_type": "display_data"
    }
   ],
   "source": [
    "# Объекты общественного питания по сетевому распространению\n",
    "sns.barplot(y=df_type_by_chain['object_type'], x=df_type_by_chain['chain_perc'], palette='Blues_r')\n",
    "plt.title('Чаще всего сетевыми являются фастфуд, кулинарии и рестораны')\n",
    "plt.xlabel('% по каждому объекту')\n",
    "plt.ylabel('')\n",
    "#plt.grid()\n",
    "plt.show()"
   ]
  },
  {
   "cell_type": "markdown",
   "id": "b9f8b9cb",
   "metadata": {},
   "source": [
    "Сетевое распространение больше всего характерно для предприятий быстрого обслуживания (фастфуд), почти половина из них - сети.\n",
    "Треть кулинарий, и около четверти всех ресторанов и кафе также сетевые.\n",
    "Столовые, буфеты и бары практически никогда не сетевые."
   ]
  },
  {
   "cell_type": "markdown",
   "id": "a771bfca",
   "metadata": {},
   "source": [
    "### Что характерно для сетевых заведений: много заведений с небольшим числом посадочных мест в каждом или мало заведений с большим количеством посадочных мест?"
   ]
  },
  {
   "cell_type": "markdown",
   "id": "3cf9a0a3",
   "metadata": {},
   "source": [
    "Посмотрим, в общем, какая ситуация по посадочным местам у сетевых заведений, построив \"ящик с усами\" и гистограмму."
   ]
  },
  {
   "cell_type": "code",
   "execution_count": 22,
   "id": "e559f3eb",
   "metadata": {},
   "outputs": [
    {
     "data": {
      "text/plain": [
       "count   2968.00\n",
       "mean      52.92\n",
       "std       57.14\n",
       "min        0.00\n",
       "25%       15.00\n",
       "50%       40.00\n",
       "75%       72.00\n",
       "max      580.00\n",
       "Name: number, dtype: float64"
      ]
     },
     "execution_count": 22,
     "metadata": {},
     "output_type": "execute_result"
    }
   ],
   "source": [
    "df[df['chain']==1]['number'].describe()"
   ]
  },
  {
   "cell_type": "code",
   "execution_count": 23,
   "id": "189dbae1",
   "metadata": {},
   "outputs": [
    {
     "name": "stdout",
     "output_type": "stream",
     "text": [
      "[158.65 275.33]\n"
     ]
    }
   ],
   "source": [
    "print(np.percentile(df[df['chain']==1]['number'], [95, 99]))"
   ]
  },
  {
   "cell_type": "code",
   "execution_count": 24,
   "id": "0d95f4f0",
   "metadata": {},
   "outputs": [
    {
     "data": {
      "image/png": "[encoded data removed]",
      "text/plain": [
       "<Figure size 432x288 with 1 Axes>"
      ]
     },
     "metadata": {
      "needs_background": "light"
     },
     "output_type": "display_data"
    }
   ],
   "source": [
    "sns.boxplot(x=df[df['chain']==1]['number'])\n",
    "plt.title('В среднем сетевые заведения имеют 40 мест')\n",
    "plt.xlabel('количество посадочных мест')\n",
    "plt.show()    "
   ]
  },
  {
   "cell_type": "code",
   "execution_count": 25,
   "id": "e9c24b0e",
   "metadata": {},
   "outputs": [
    {
     "data": {
      "image/png": "[encoded data removed]",
      "text/plain": [
       "<Figure size 360x360 with 1 Axes>"
      ]
     },
     "metadata": {
      "needs_background": "light"
     },
     "output_type": "display_data"
    }
   ],
   "source": [
    "sns.displot(df[df['chain']==1]['number'], bins=25)\n",
    "plt.title('Объекты общественного питания по количеству посадочных мест')\n",
    "plt.xlabel('количество посадочных мест')\n",
    "plt.ylabel('количество объектов')\n",
    "plt.show()    "
   ]
  },
  {
   "cell_type": "code",
   "execution_count": 26,
   "id": "1ff6a2b3",
   "metadata": {},
   "outputs": [
    {
     "data": {
      "image/png": "[encoded data removed]",
      "text/plain": [
       "<Figure size 432x288 with 1 Axes>"
      ]
     },
     "metadata": {
      "needs_background": "light"
     },
     "output_type": "display_data"
    }
   ],
   "source": [
    "x_values = pd.Series(range(0,len(df[df['chain']==1])))\n",
    "sns.scatterplot(data=df[df['chain']==1], x=x_values, y=df[df['chain']==1]['number'],alpha=0.5)\n",
    "plt.title('Объекты общественного питания по количеству посадочных мест')\n",
    "plt.ylabel('количество посадочных мест')\n",
    "plt.xlabel('')\n",
    "plt.show()"
   ]
  },
  {
   "cell_type": "markdown",
   "id": "35322ba8",
   "metadata": {
    "slideshow": {
     "slide_type": "fragment"
    }
   },
   "source": [
    "Медианное среднее посадочных мест в сетевых заведениях - 40. Т.е. половина всех сетевых объектов общественного питания имеет не более 40 мест. Подавляющее число сетевых заведений, 95-ый процентиль, имеет не более 158 посадочных мест. Оставшиеся 5% заведений представляют собой выбросы, где количество мест достигает максиму в 580. "
   ]
  },
  {
   "cell_type": "markdown",
   "id": "ce79c34a",
   "metadata": {},
   "source": [
    "Добавим на диаграмму рассеяния информацию о количестве ресторанов в сети."
   ]
  },
  {
   "cell_type": "code",
   "execution_count": 27,
   "id": "4a4eed66",
   "metadata": {},
   "outputs": [],
   "source": [
    "df_chain=df[df['chain']==1].groupby('object_name')['number'].agg(['count', 'median', 'sum']).sort_values(\n",
    "    by='count',ascending=False)\n",
    "df_chain=df_chain.rename(\n",
    "    columns={'count':'total_rest_chain','median':'median_seats_chain'})"
   ]
  },
  {
   "cell_type": "code",
   "execution_count": 28,
   "id": "4a617a3f",
   "metadata": {},
   "outputs": [],
   "source": [
    "df_chain['perc_rest_all_chain']=df_chain['total_rest_chain']/df_chain['total_rest_chain'].sum()*100"
   ]
  },
  {
   "cell_type": "code",
   "execution_count": 29,
   "id": "ca588f57",
   "metadata": {},
   "outputs": [],
   "source": [
    "df_new=df.merge(df_chain, on='object_name', how='left')"
   ]
  },
  {
   "cell_type": "code",
   "execution_count": 30,
   "id": "bd90738e",
   "metadata": {},
   "outputs": [
    {
     "data": {
      "image/png": "[encoded data removed]",
      "text/plain": [
       "<Figure size 432x288 with 1 Axes>"
      ]
     },
     "metadata": {
      "needs_background": "light"
     },
     "output_type": "display_data"
    }
   ],
   "source": [
    "sns.histplot(df_new['total_rest_chain'], bins=25)\n",
    "plt.title('Объекты общественного питания по количеству ресторанов в сети')\n",
    "plt.xlabel('количество посадочных мест')\n",
    "plt.ylabel('количество объектов')\n",
    "plt.show() "
   ]
  },
  {
   "cell_type": "markdown",
   "id": "a96882b8",
   "metadata": {},
   "source": [
    "Заметим, что единичные заведения у нас есть из-за дупликтов, так как некотоые заведения, которые мы не \"почистили\" (написанные по-другому) оказались \"единственными\" в сети. Тем не менее, даже принимая это во внимание, мы можем судить о том что большинство сетевых пунктов питания принядлежат сетям, где немного заведений."
   ]
  },
  {
   "cell_type": "code",
   "execution_count": 31,
   "id": "ca50dff2",
   "metadata": {},
   "outputs": [
    {
     "data": {
      "image/png": "[encoded data removed]",
      "text/plain": [
       "<Figure size 432x288 with 1 Axes>"
      ]
     },
     "metadata": {
      "needs_background": "light"
     },
     "output_type": "display_data"
    }
   ],
   "source": [
    "sns.scatterplot(data=df_new[df_new['chain']==1], x='total_rest_chain', y='number',alpha=0.25, legend=False, sizes=(10, 1000))\n",
    "plt.title('Преобладают сети с небольшим количеством заведений и мест')\n",
    "plt.ylabel('количество посадочных мест')\n",
    "plt.xlabel('количество ресторанов в сети')\n",
    "plt.show()"
   ]
  },
  {
   "cell_type": "markdown",
   "id": "435f75c7",
   "metadata": {},
   "source": [
    "На диаграмме рассеяния видно, что чаще всего сетевые заведения принадлежат сетям, где немного ресторанов у которых немного посадочных мест (левая нижняя часть графика наиболее густо покрыта точками). Однако, мы наблюдаем небольшую группы сетей с большим количеством ресторанов,часть из которых с реально высоким количеством посадочных мест (правая часть графика). "
   ]
  },
  {
   "cell_type": "markdown",
   "id": "783fb649",
   "metadata": {},
   "source": [
    "### Для каждого вида объекта общественного питания опишите среднее количество посадочных мест. Какой вид предоставляет в среднем самое большое количество посадочных мест? Постройте графики."
   ]
  },
  {
   "cell_type": "code",
   "execution_count": 32,
   "id": "eca9eb34",
   "metadata": {},
   "outputs": [
    {
     "data": {
      "text/html": [
       "<div>\n",
       "<style scoped>\n",
       "    .dataframe tbody tr th:only-of-type {\n",
       "        vertical-align: middle;\n",
       "    }\n",
       "\n",
       "    .dataframe tbody tr th {\n",
       "        vertical-align: top;\n",
       "    }\n",
       "\n",
       "    .dataframe thead th {\n",
       "        text-align: right;\n",
       "    }\n",
       "</style>\n",
       "<table border=\"1\" class=\"dataframe\">\n",
       "  <thead>\n",
       "    <tr style=\"text-align: right;\">\n",
       "      <th></th>\n",
       "      <th>object_type</th>\n",
       "      <th>count</th>\n",
       "      <th>median</th>\n",
       "    </tr>\n",
       "  </thead>\n",
       "  <tbody>\n",
       "    <tr>\n",
       "      <td>0</td>\n",
       "      <td>столовая</td>\n",
       "      <td>2587</td>\n",
       "      <td>103</td>\n",
       "    </tr>\n",
       "    <tr>\n",
       "      <td>1</td>\n",
       "      <td>ресторан</td>\n",
       "      <td>2285</td>\n",
       "      <td>80</td>\n",
       "    </tr>\n",
       "    <tr>\n",
       "      <td>2</td>\n",
       "      <td>бар</td>\n",
       "      <td>856</td>\n",
       "      <td>35</td>\n",
       "    </tr>\n",
       "    <tr>\n",
       "      <td>3</td>\n",
       "      <td>буфет</td>\n",
       "      <td>585</td>\n",
       "      <td>32</td>\n",
       "    </tr>\n",
       "    <tr>\n",
       "      <td>4</td>\n",
       "      <td>кафе</td>\n",
       "      <td>6099</td>\n",
       "      <td>30</td>\n",
       "    </tr>\n",
       "    <tr>\n",
       "      <td>5</td>\n",
       "      <td>кафетерий</td>\n",
       "      <td>398</td>\n",
       "      <td>6</td>\n",
       "    </tr>\n",
       "    <tr>\n",
       "      <td>6</td>\n",
       "      <td>фастфуд</td>\n",
       "      <td>1923</td>\n",
       "      <td>5</td>\n",
       "    </tr>\n",
       "    <tr>\n",
       "      <td>7</td>\n",
       "      <td>закусочная</td>\n",
       "      <td>360</td>\n",
       "      <td>0</td>\n",
       "    </tr>\n",
       "    <tr>\n",
       "      <td>8</td>\n",
       "      <td>кулинария</td>\n",
       "      <td>273</td>\n",
       "      <td>0</td>\n",
       "    </tr>\n",
       "  </tbody>\n",
       "</table>\n",
       "</div>"
      ],
      "text/plain": [
       "  object_type  count  median\n",
       "0    столовая   2587     103\n",
       "1    ресторан   2285      80\n",
       "2         бар    856      35\n",
       "3       буфет    585      32\n",
       "4        кафе   6099      30\n",
       "5   кафетерий    398       6\n",
       "6     фастфуд   1923       5\n",
       "7  закусочная    360       0\n",
       "8   кулинария    273       0"
      ]
     },
     "execution_count": 32,
     "metadata": {},
     "output_type": "execute_result"
    }
   ],
   "source": [
    "df_type=df.groupby('object_type')['number'].agg(['count', 'median']).sort_values(by='median',ascending=False).reset_index()\n",
    "df_type"
   ]
  },
  {
   "cell_type": "code",
   "execution_count": 33,
   "id": "820708b1",
   "metadata": {},
   "outputs": [
    {
     "data": {
      "image/png": "[encoded data removed]",
      "text/plain": [
       "<Figure size 432x288 with 1 Axes>"
      ]
     },
     "metadata": {
      "needs_background": "light"
     },
     "output_type": "display_data"
    }
   ],
   "source": [
    "# Заведения по среднему количеству посадочных мест\n",
    "sns.barplot(x=df_type['median'], y=df_type['object_type'], palette='Blues_r')\n",
    "plt.title('Заведения по среднему количеству посадочных мест')\n",
    "plt.xlabel('среднее количество посадочных мест')\n",
    "plt.ylabel('')\n",
    "plt.show()"
   ]
  },
  {
   "cell_type": "code",
   "execution_count": 34,
   "id": "f3f766e1",
   "metadata": {},
   "outputs": [
    {
     "data": {
      "image/png": "[encoded data removed]",
      "text/plain": [
       "<Figure size 432x288 with 1 Axes>"
      ]
     },
     "metadata": {
      "needs_background": "light"
     },
     "output_type": "display_data"
    }
   ],
   "source": [
    "sns.boxplot(x=df['number'], y=df['object_type'], palette='Blues_r', order=df_type['object_type'].unique())\n",
    "plt.title('Объекты по количеству посадочных мест: диаграмма размаха')\n",
    "plt.xlabel('количество посадочных мест')\n",
    "plt.ylabel('')\n",
    "plt.show()  "
   ]
  },
  {
   "cell_type": "code",
   "execution_count": 35,
   "id": "c07960b8",
   "metadata": {},
   "outputs": [
    {
     "data": {
      "image/png": "[encoded data removed]",
      "text/plain": [
       "<Figure size 432x288 with 1 Axes>"
      ]
     },
     "metadata": {
      "needs_background": "light"
     },
     "output_type": "display_data"
    }
   ],
   "source": [
    "#посттроим тот же график без выбросов\n",
    "sns.boxplot(x=df['number'], y=df['object_type'], showfliers=False, palette='Blues_r', order=df_type['object_type'].unique())\n",
    "plt.title('Объекты общественного питания по количеству посадочных мест')\n",
    "plt.xlabel('количество посадочных мест')\n",
    "plt.ylabel('')\n",
    "plt.show()  "
   ]
  },
  {
   "cell_type": "markdown",
   "id": "4797b412",
   "metadata": {},
   "source": [
    "Самое большое количество посадочных мест у столовых - около 100, их размеры очень сильно варьируются и могут достигать до 400 мест\n",
    "Рестораны в среднем имеют  80 мест, их размеры довольно варьируются, но никогда не бывают более 200\n",
    "У баров, буфетов и кафе в среднем по 30 мест. В барах и кафе почти никогда не бывает больше 100 мест. Буфеты же более неоднородны и могут доходить до 175 мест.\n",
    "Кулинарии и закусочные как правило вообще не имеют посадочных мест\n"
   ]
  },
  {
   "cell_type": "markdown",
   "id": "57dea7d6",
   "metadata": {},
   "source": [
    "### Выделите в отдельный столбец информацию об улице из столбца address .\n"
   ]
  },
  {
   "cell_type": "code",
   "execution_count": 36,
   "id": "5802d784",
   "metadata": {},
   "outputs": [],
   "source": [
    "# создадим функцию которая будет выделять из строки с адресом ту часть, где написана улица\n",
    "def street_only(address):\n",
    "    street=re.split(', ', address)[1] # регулярное выражение будет создавать список из строки отделенный запятой и пробелом \n",
    "    return street # и возвращать второй элемент из этого списка, в котором и содержится информация об улице"
   ]
  },
  {
   "cell_type": "code",
   "execution_count": 37,
   "id": "94e74bf5",
   "metadata": {},
   "outputs": [],
   "source": [
    "df['street']=df['address'] # скопируем столбец с адресом и применим к нему функию\n",
    "df['street'] = df['street'].apply(street_only)"
   ]
  },
  {
   "cell_type": "code",
   "execution_count": 38,
   "id": "7ceebf49",
   "metadata": {},
   "outputs": [
    {
     "data": {
      "text/html": [
       "<div>\n",
       "<style scoped>\n",
       "    .dataframe tbody tr th:only-of-type {\n",
       "        vertical-align: middle;\n",
       "    }\n",
       "\n",
       "    .dataframe tbody tr th {\n",
       "        vertical-align: top;\n",
       "    }\n",
       "\n",
       "    .dataframe thead th {\n",
       "        text-align: right;\n",
       "    }\n",
       "</style>\n",
       "<table border=\"1\" class=\"dataframe\">\n",
       "  <thead>\n",
       "    <tr style=\"text-align: right;\">\n",
       "      <th></th>\n",
       "      <th>id</th>\n",
       "      <th>object_name</th>\n",
       "      <th>chain</th>\n",
       "      <th>object_type</th>\n",
       "      <th>address</th>\n",
       "      <th>number</th>\n",
       "      <th>street</th>\n",
       "    </tr>\n",
       "  </thead>\n",
       "  <tbody>\n",
       "    <tr>\n",
       "      <td>712</td>\n",
       "      <td>69806</td>\n",
       "      <td>кобзарь</td>\n",
       "      <td>0</td>\n",
       "      <td>кафе</td>\n",
       "      <td>город Москва, улица Михайлова, дом 29, корпус 3</td>\n",
       "      <td>45</td>\n",
       "      <td>улица Михайлова</td>\n",
       "    </tr>\n",
       "    <tr>\n",
       "      <td>9219</td>\n",
       "      <td>162695</td>\n",
       "      <td>макдоналдс</td>\n",
       "      <td>1</td>\n",
       "      <td>фастфуд</td>\n",
       "      <td>город Москва, Дмитровское шоссе, дом 89</td>\n",
       "      <td>40</td>\n",
       "      <td>Дмитровское шоссе</td>\n",
       "    </tr>\n",
       "    <tr>\n",
       "      <td>5619</td>\n",
       "      <td>28025</td>\n",
       "      <td>столовая оао узоры</td>\n",
       "      <td>0</td>\n",
       "      <td>столовая</td>\n",
       "      <td>город Москва, Полимерная улица, дом 8</td>\n",
       "      <td>42</td>\n",
       "      <td>Полимерная улица</td>\n",
       "    </tr>\n",
       "    <tr>\n",
       "      <td>9276</td>\n",
       "      <td>166768</td>\n",
       "      <td>бистро халяль</td>\n",
       "      <td>0</td>\n",
       "      <td>кафе</td>\n",
       "      <td>город Москва, улица 10-летия Октября, дом 11</td>\n",
       "      <td>36</td>\n",
       "      <td>улица 10-летия Октября</td>\n",
       "    </tr>\n",
       "    <tr>\n",
       "      <td>5641</td>\n",
       "      <td>28310</td>\n",
       "      <td>столовая</td>\n",
       "      <td>0</td>\n",
       "      <td>столовая</td>\n",
       "      <td>город Москва, Окружной проезд, дом 27</td>\n",
       "      <td>290</td>\n",
       "      <td>Окружной проезд</td>\n",
       "    </tr>\n",
       "    <tr>\n",
       "      <td>4583</td>\n",
       "      <td>20216</td>\n",
       "      <td>водопад</td>\n",
       "      <td>0</td>\n",
       "      <td>ресторан</td>\n",
       "      <td>город Москва, улица Юных Ленинцев, дом 71, кор...</td>\n",
       "      <td>214</td>\n",
       "      <td>улица Юных Ленинцев</td>\n",
       "    </tr>\n",
       "    <tr>\n",
       "      <td>1837</td>\n",
       "      <td>120267</td>\n",
       "      <td>джоведи</td>\n",
       "      <td>0</td>\n",
       "      <td>ресторан</td>\n",
       "      <td>город Москва, Озерковская набережная, дом 26</td>\n",
       "      <td>70</td>\n",
       "      <td>Озерковская набережная</td>\n",
       "    </tr>\n",
       "    <tr>\n",
       "      <td>4569</td>\n",
       "      <td>29260</td>\n",
       "      <td>столовая 894</td>\n",
       "      <td>0</td>\n",
       "      <td>столовая</td>\n",
       "      <td>город Москва, Ферганский проезд, дом 10, корпус 4</td>\n",
       "      <td>200</td>\n",
       "      <td>Ферганский проезд</td>\n",
       "    </tr>\n",
       "    <tr>\n",
       "      <td>13742</td>\n",
       "      <td>221574</td>\n",
       "      <td>volt coffee</td>\n",
       "      <td>0</td>\n",
       "      <td>кафетерий</td>\n",
       "      <td>город Москва, Высоковольтный проезд, дом 1, ко...</td>\n",
       "      <td>0</td>\n",
       "      <td>Высоковольтный проезд</td>\n",
       "    </tr>\n",
       "    <tr>\n",
       "      <td>10381</td>\n",
       "      <td>175062</td>\n",
       "      <td>шаурмания</td>\n",
       "      <td>0</td>\n",
       "      <td>фастфуд</td>\n",
       "      <td>город Москва, Мичуринский проспект, дом 38</td>\n",
       "      <td>0</td>\n",
       "      <td>Мичуринский проспект</td>\n",
       "    </tr>\n",
       "  </tbody>\n",
       "</table>\n",
       "</div>"
      ],
      "text/plain": [
       "           id         object_name  chain object_type  \\\n",
       "712     69806             кобзарь      0        кафе   \n",
       "9219   162695          макдоналдс      1     фастфуд   \n",
       "5619    28025  столовая оао узоры      0    столовая   \n",
       "9276   166768       бистро халяль      0        кафе   \n",
       "5641    28310            столовая      0    столовая   \n",
       "4583    20216             водопад      0    ресторан   \n",
       "1837   120267             джоведи      0    ресторан   \n",
       "4569    29260        столовая 894      0    столовая   \n",
       "13742  221574         volt coffee      0   кафетерий   \n",
       "10381  175062           шаурмания      0     фастфуд   \n",
       "\n",
       "                                                 address  number  \\\n",
       "712      город Москва, улица Михайлова, дом 29, корпус 3      45   \n",
       "9219             город Москва, Дмитровское шоссе, дом 89      40   \n",
       "5619               город Москва, Полимерная улица, дом 8      42   \n",
       "9276        город Москва, улица 10-летия Октября, дом 11      36   \n",
       "5641               город Москва, Окружной проезд, дом 27     290   \n",
       "4583   город Москва, улица Юных Ленинцев, дом 71, кор...     214   \n",
       "1837        город Москва, Озерковская набережная, дом 26      70   \n",
       "4569   город Москва, Ферганский проезд, дом 10, корпус 4     200   \n",
       "13742  город Москва, Высоковольтный проезд, дом 1, ко...       0   \n",
       "10381         город Москва, Мичуринский проспект, дом 38       0   \n",
       "\n",
       "                       street  \n",
       "712           улица Михайлова  \n",
       "9219        Дмитровское шоссе  \n",
       "5619         Полимерная улица  \n",
       "9276   улица 10-летия Октября  \n",
       "5641          Окружной проезд  \n",
       "4583      улица Юных Ленинцев  \n",
       "1837   Озерковская набережная  \n",
       "4569        Ферганский проезд  \n",
       "13742   Высоковольтный проезд  \n",
       "10381    Мичуринский проспект  "
      ]
     },
     "metadata": {},
     "output_type": "display_data"
    }
   ],
   "source": [
    "display(df.sample(10))"
   ]
  },
  {
   "cell_type": "markdown",
   "id": "783f220a",
   "metadata": {},
   "source": [
    "Заметим, что там, где для \"Большой Москвы\" адрес указан как \"город Москва, поселение, улица\" (например, \"город Москва, город Зеленоград, корпус 2309А\") мы получили название поселения, а не его улицу (т.е. Зеленоград, а не улица в Зеленограде). "
   ]
  },
  {
   "cell_type": "markdown",
   "id": "3de2b61c",
   "metadata": {},
   "source": [
    "### Постройте график топ-10 улиц по количеству объектов общественного питания. Воспользуйтесь внешней информацией и ответьте на вопрос — в каких районах Москвы находятся эти улицы?"
   ]
  },
  {
   "cell_type": "code",
   "execution_count": 39,
   "id": "bb3686e7",
   "metadata": {},
   "outputs": [
    {
     "data": {
      "text/html": [
       "<div>\n",
       "<style scoped>\n",
       "    .dataframe tbody tr th:only-of-type {\n",
       "        vertical-align: middle;\n",
       "    }\n",
       "\n",
       "    .dataframe tbody tr th {\n",
       "        vertical-align: top;\n",
       "    }\n",
       "\n",
       "    .dataframe thead th {\n",
       "        text-align: right;\n",
       "    }\n",
       "</style>\n",
       "<table border=\"1\" class=\"dataframe\">\n",
       "  <thead>\n",
       "    <tr style=\"text-align: right;\">\n",
       "      <th></th>\n",
       "      <th>street</th>\n",
       "      <th>count</th>\n",
       "    </tr>\n",
       "  </thead>\n",
       "  <tbody>\n",
       "    <tr>\n",
       "      <td>0</td>\n",
       "      <td>город Зеленоград</td>\n",
       "      <td>232</td>\n",
       "    </tr>\n",
       "    <tr>\n",
       "      <td>1</td>\n",
       "      <td>проспект Мира</td>\n",
       "      <td>204</td>\n",
       "    </tr>\n",
       "    <tr>\n",
       "      <td>2</td>\n",
       "      <td>Профсоюзная улица</td>\n",
       "      <td>182</td>\n",
       "    </tr>\n",
       "    <tr>\n",
       "      <td>3</td>\n",
       "      <td>Ленинградский проспект</td>\n",
       "      <td>171</td>\n",
       "    </tr>\n",
       "    <tr>\n",
       "      <td>4</td>\n",
       "      <td>Пресненская набережная</td>\n",
       "      <td>167</td>\n",
       "    </tr>\n",
       "    <tr>\n",
       "      <td>5</td>\n",
       "      <td>Варшавское шоссе</td>\n",
       "      <td>161</td>\n",
       "    </tr>\n",
       "    <tr>\n",
       "      <td>6</td>\n",
       "      <td>Ленинский проспект</td>\n",
       "      <td>147</td>\n",
       "    </tr>\n",
       "    <tr>\n",
       "      <td>7</td>\n",
       "      <td>поселение Сосенское</td>\n",
       "      <td>138</td>\n",
       "    </tr>\n",
       "    <tr>\n",
       "      <td>8</td>\n",
       "      <td>проспект Вернадского</td>\n",
       "      <td>132</td>\n",
       "    </tr>\n",
       "    <tr>\n",
       "      <td>9</td>\n",
       "      <td>Кутузовский проспект</td>\n",
       "      <td>114</td>\n",
       "    </tr>\n",
       "  </tbody>\n",
       "</table>\n",
       "</div>"
      ],
      "text/plain": [
       "                   street  count\n",
       "0        город Зеленоград    232\n",
       "1           проспект Мира    204\n",
       "2       Профсоюзная улица    182\n",
       "3  Ленинградский проспект    171\n",
       "4  Пресненская набережная    167\n",
       "5        Варшавское шоссе    161\n",
       "6      Ленинский проспект    147\n",
       "7     поселение Сосенское    138\n",
       "8    проспект Вернадского    132\n",
       "9    Кутузовский проспект    114"
      ]
     },
     "execution_count": 39,
     "metadata": {},
     "output_type": "execute_result"
    }
   ],
   "source": [
    "df_street_top=df.groupby('street')['street'].agg(['count']).sort_values(by='count',ascending=False).reset_index()\n",
    "df_street_top_ten=df_street_top.head(10)\n",
    "df_street_top_ten"
   ]
  },
  {
   "cell_type": "markdown",
   "id": "75f49efe",
   "metadata": {},
   "source": [
    "В наш список попали Зеленоград и Сосенское, вместо улиц у которых были корпуса. Несмторя на то что они формально Москва, мы полагаем, что для целей нашего анализа лучше их исключить, так как это все-таки отдельные поселения, и они не являются улицами. Создадим новый список без них."
   ]
  },
  {
   "cell_type": "code",
   "execution_count": 40,
   "id": "ecb10d10",
   "metadata": {},
   "outputs": [
    {
     "data": {
      "text/html": [
       "<div>\n",
       "<style scoped>\n",
       "    .dataframe tbody tr th:only-of-type {\n",
       "        vertical-align: middle;\n",
       "    }\n",
       "\n",
       "    .dataframe tbody tr th {\n",
       "        vertical-align: top;\n",
       "    }\n",
       "\n",
       "    .dataframe thead th {\n",
       "        text-align: right;\n",
       "    }\n",
       "</style>\n",
       "<table border=\"1\" class=\"dataframe\">\n",
       "  <thead>\n",
       "    <tr style=\"text-align: right;\">\n",
       "      <th></th>\n",
       "      <th>street</th>\n",
       "      <th>count</th>\n",
       "    </tr>\n",
       "  </thead>\n",
       "  <tbody>\n",
       "    <tr>\n",
       "      <td>1</td>\n",
       "      <td>проспект Мира</td>\n",
       "      <td>204</td>\n",
       "    </tr>\n",
       "    <tr>\n",
       "      <td>2</td>\n",
       "      <td>Профсоюзная улица</td>\n",
       "      <td>182</td>\n",
       "    </tr>\n",
       "    <tr>\n",
       "      <td>3</td>\n",
       "      <td>Ленинградский проспект</td>\n",
       "      <td>171</td>\n",
       "    </tr>\n",
       "    <tr>\n",
       "      <td>4</td>\n",
       "      <td>Пресненская набережная</td>\n",
       "      <td>167</td>\n",
       "    </tr>\n",
       "    <tr>\n",
       "      <td>5</td>\n",
       "      <td>Варшавское шоссе</td>\n",
       "      <td>161</td>\n",
       "    </tr>\n",
       "    <tr>\n",
       "      <td>6</td>\n",
       "      <td>Ленинский проспект</td>\n",
       "      <td>147</td>\n",
       "    </tr>\n",
       "    <tr>\n",
       "      <td>8</td>\n",
       "      <td>проспект Вернадского</td>\n",
       "      <td>132</td>\n",
       "    </tr>\n",
       "    <tr>\n",
       "      <td>9</td>\n",
       "      <td>Кутузовский проспект</td>\n",
       "      <td>114</td>\n",
       "    </tr>\n",
       "    <tr>\n",
       "      <td>10</td>\n",
       "      <td>Каширское шоссе</td>\n",
       "      <td>112</td>\n",
       "    </tr>\n",
       "    <tr>\n",
       "      <td>11</td>\n",
       "      <td>Кировоградская улица</td>\n",
       "      <td>110</td>\n",
       "    </tr>\n",
       "  </tbody>\n",
       "</table>\n",
       "</div>"
      ],
      "text/plain": [
       "                    street  count\n",
       "1            проспект Мира    204\n",
       "2        Профсоюзная улица    182\n",
       "3   Ленинградский проспект    171\n",
       "4   Пресненская набережная    167\n",
       "5         Варшавское шоссе    161\n",
       "6       Ленинский проспект    147\n",
       "8     проспект Вернадского    132\n",
       "9     Кутузовский проспект    114\n",
       "10         Каширское шоссе    112\n",
       "11    Кировоградская улица    110"
      ]
     },
     "execution_count": 40,
     "metadata": {},
     "output_type": "execute_result"
    }
   ],
   "source": [
    "df_street_top_ten=df_street_top.query('street != (\"город Зеленоград\", \"поселение Сосенское\")').head(10)\n",
    "df_street_top_ten"
   ]
  },
  {
   "cell_type": "markdown",
   "id": "86c74967",
   "metadata": {},
   "source": [
    "Теперь у нас есть топ-10 московских улиц, где больше всего заведений общепита. В нем оказались самые протяженные улицы. Лидер - проспект Мира, далее следуют Профсоюзная улица и Ленинградский проспект."
   ]
  },
  {
   "cell_type": "code",
   "execution_count": 41,
   "id": "f98fcbe0",
   "metadata": {},
   "outputs": [
    {
     "data": {
      "image/png": "[encoded data removed]",
      "text/plain": [
       "<Figure size 432x288 with 1 Axes>"
      ]
     },
     "metadata": {
      "needs_background": "light"
     },
     "output_type": "display_data"
    }
   ],
   "source": [
    "# Объекты общественного питания по среднему количеству посадочных мест\n",
    "sns.barplot(x=df_street_top_ten['count'],y=df_street_top_ten['street'],palette='Blues_r')\n",
    "plt.title('Топ-10 улиц по количеству объектов общественного питания')\n",
    "plt.xlabel('Количество заведений')\n",
    "plt.ylabel('')\n",
    "plt.show()"
   ]
  },
  {
   "cell_type": "markdown",
   "id": "f07c567a",
   "metadata": {},
   "source": [
    "Обратимся к открытым данным мосгаза, чтобы найти к каким район принадлежат данне улицы."
   ]
  },
  {
   "cell_type": "code",
   "execution_count": 42,
   "id": "905bae47",
   "metadata": {},
   "outputs": [
    {
     "data": {
      "text/html": [
       "<div>\n",
       "<style scoped>\n",
       "    .dataframe tbody tr th:only-of-type {\n",
       "        vertical-align: middle;\n",
       "    }\n",
       "\n",
       "    .dataframe tbody tr th {\n",
       "        vertical-align: top;\n",
       "    }\n",
       "\n",
       "    .dataframe thead th {\n",
       "        text-align: right;\n",
       "    }\n",
       "</style>\n",
       "<table border=\"1\" class=\"dataframe\">\n",
       "  <thead>\n",
       "    <tr style=\"text-align: right;\">\n",
       "      <th></th>\n",
       "      <th>streetname</th>\n",
       "      <th>areaid</th>\n",
       "      <th>okrug</th>\n",
       "      <th>area</th>\n",
       "    </tr>\n",
       "  </thead>\n",
       "  <tbody>\n",
       "    <tr>\n",
       "      <td>0</td>\n",
       "      <td>Выставочный переулок</td>\n",
       "      <td>17</td>\n",
       "      <td>ЦАО</td>\n",
       "      <td>Пресненский район</td>\n",
       "    </tr>\n",
       "    <tr>\n",
       "      <td>1</td>\n",
       "      <td>улица Гашека</td>\n",
       "      <td>17</td>\n",
       "      <td>ЦАО</td>\n",
       "      <td>Пресненский район</td>\n",
       "    </tr>\n",
       "    <tr>\n",
       "      <td>2</td>\n",
       "      <td>Большая Никитская улица</td>\n",
       "      <td>17</td>\n",
       "      <td>ЦАО</td>\n",
       "      <td>Пресненский район</td>\n",
       "    </tr>\n",
       "    <tr>\n",
       "      <td>3</td>\n",
       "      <td>Глубокий переулок</td>\n",
       "      <td>17</td>\n",
       "      <td>ЦАО</td>\n",
       "      <td>Пресненский район</td>\n",
       "    </tr>\n",
       "    <tr>\n",
       "      <td>4</td>\n",
       "      <td>Большой Гнездниковский переулок</td>\n",
       "      <td>17</td>\n",
       "      <td>ЦАО</td>\n",
       "      <td>Пресненский район</td>\n",
       "    </tr>\n",
       "  </tbody>\n",
       "</table>\n",
       "</div>"
      ],
      "text/plain": [
       "                        streetname  areaid okrug               area\n",
       "0             Выставочный переулок      17   ЦАО  Пресненский район\n",
       "1                     улица Гашека      17   ЦАО  Пресненский район\n",
       "2          Большая Никитская улица      17   ЦАО  Пресненский район\n",
       "3                Глубокий переулок      17   ЦАО  Пресненский район\n",
       "4  Большой Гнездниковский переулок      17   ЦАО  Пресненский район"
      ]
     },
     "execution_count": 42,
     "metadata": {},
     "output_type": "execute_result"
    }
   ],
   "source": [
    "spreadsheet_id = '1TG3CVI5MUV1IpvHtjWGZO3FluTgVXgFUxI1cjyO28r8'\n",
    "file_name = 'https://docs.google.com/spreadsheets/d/{}/export?format=csv'.format(spreadsheet_id)\n",
    "r = requests.get(file_name)\n",
    "mosgas = pd.read_csv(BytesIO(r.content))\n",
    "mosgas.head()"
   ]
  },
  {
   "cell_type": "code",
   "execution_count": 43,
   "id": "adc378fd",
   "metadata": {},
   "outputs": [
    {
     "data": {
      "text/html": [
       "<div>\n",
       "<style scoped>\n",
       "    .dataframe tbody tr th:only-of-type {\n",
       "        vertical-align: middle;\n",
       "    }\n",
       "\n",
       "    .dataframe tbody tr th {\n",
       "        vertical-align: top;\n",
       "    }\n",
       "\n",
       "    .dataframe thead th {\n",
       "        text-align: right;\n",
       "    }\n",
       "</style>\n",
       "<table border=\"1\" class=\"dataframe\">\n",
       "  <thead>\n",
       "    <tr style=\"text-align: right;\">\n",
       "      <th></th>\n",
       "      <th>street</th>\n",
       "      <th>okrug</th>\n",
       "      <th>area</th>\n",
       "    </tr>\n",
       "  </thead>\n",
       "  <tbody>\n",
       "    <tr>\n",
       "      <td>0</td>\n",
       "      <td>проспект Мира</td>\n",
       "      <td>СВАО</td>\n",
       "      <td>Алексеевский район</td>\n",
       "    </tr>\n",
       "    <tr>\n",
       "      <td>1</td>\n",
       "      <td>проспект Мира</td>\n",
       "      <td>СВАО</td>\n",
       "      <td>Ярославский Район</td>\n",
       "    </tr>\n",
       "    <tr>\n",
       "      <td>2</td>\n",
       "      <td>проспект Мира</td>\n",
       "      <td>СВАО</td>\n",
       "      <td>Район Марьина роща</td>\n",
       "    </tr>\n",
       "    <tr>\n",
       "      <td>3</td>\n",
       "      <td>проспект Мира</td>\n",
       "      <td>СВАО</td>\n",
       "      <td>Останкинский район</td>\n",
       "    </tr>\n",
       "    <tr>\n",
       "      <td>4</td>\n",
       "      <td>проспект Мира</td>\n",
       "      <td>СВАО</td>\n",
       "      <td>Район Ростокино</td>\n",
       "    </tr>\n",
       "  </tbody>\n",
       "</table>\n",
       "</div>"
      ],
      "text/plain": [
       "          street okrug                area\n",
       "0  проспект Мира  СВАО  Алексеевский район\n",
       "1  проспект Мира  СВАО   Ярославский Район\n",
       "2  проспект Мира  СВАО  Район Марьина роща\n",
       "3  проспект Мира  СВАО  Останкинский район\n",
       "4  проспект Мира  СВАО     Район Ростокино"
      ]
     },
     "execution_count": 43,
     "metadata": {},
     "output_type": "execute_result"
    }
   ],
   "source": [
    "top_areas=df_street_top_ten.merge(mosgas, left_on='street', right_on='streetname')\n",
    "top_areas=top_areas.drop(columns=['streetname','areaid', 'count'])\n",
    "top_areas.head()"
   ]
  },
  {
   "cell_type": "markdown",
   "id": "7b462597",
   "metadata": {},
   "source": [
    "Так как топопвые улицы - очень протяженные, они проходят через множество районов. Сгруппируем список по районам, чтобы посмотреть какие из них повторяются, и таким образом, через которые проходит более одной топовой улицы."
   ]
  },
  {
   "cell_type": "code",
   "execution_count": 44,
   "id": "ce608739",
   "metadata": {},
   "outputs": [
    {
     "data": {
      "text/html": [
       "<div>\n",
       "<style scoped>\n",
       "    .dataframe tbody tr th:only-of-type {\n",
       "        vertical-align: middle;\n",
       "    }\n",
       "\n",
       "    .dataframe tbody tr th {\n",
       "        vertical-align: top;\n",
       "    }\n",
       "\n",
       "    .dataframe thead th {\n",
       "        text-align: right;\n",
       "    }\n",
       "</style>\n",
       "<table border=\"1\" class=\"dataframe\">\n",
       "  <thead>\n",
       "    <tr style=\"text-align: right;\">\n",
       "      <th></th>\n",
       "      <th>count</th>\n",
       "    </tr>\n",
       "    <tr>\n",
       "      <th>area</th>\n",
       "      <th></th>\n",
       "    </tr>\n",
       "  </thead>\n",
       "  <tbody>\n",
       "    <tr>\n",
       "      <td>Район Чертаново Центральное</td>\n",
       "      <td>2</td>\n",
       "    </tr>\n",
       "    <tr>\n",
       "      <td>Донской район</td>\n",
       "      <td>2</td>\n",
       "    </tr>\n",
       "    <tr>\n",
       "      <td>Ломоносовский район</td>\n",
       "      <td>2</td>\n",
       "    </tr>\n",
       "    <tr>\n",
       "      <td>Район Проспект Вернадского</td>\n",
       "      <td>2</td>\n",
       "    </tr>\n",
       "    <tr>\n",
       "      <td>Обручевский район</td>\n",
       "      <td>2</td>\n",
       "    </tr>\n",
       "    <tr>\n",
       "      <td>Район Теплый Стан</td>\n",
       "      <td>2</td>\n",
       "    </tr>\n",
       "    <tr>\n",
       "      <td>Район Нагатино-Садовники</td>\n",
       "      <td>2</td>\n",
       "    </tr>\n",
       "    <tr>\n",
       "      <td>Район Чертаново Южное</td>\n",
       "      <td>2</td>\n",
       "    </tr>\n",
       "    <tr>\n",
       "      <td>Район Тропарево-Никулино</td>\n",
       "      <td>2</td>\n",
       "    </tr>\n",
       "    <tr>\n",
       "      <td>Район Гагаринский</td>\n",
       "      <td>2</td>\n",
       "    </tr>\n",
       "    <tr>\n",
       "      <td>Район Чертаново Северное</td>\n",
       "      <td>2</td>\n",
       "    </tr>\n",
       "    <tr>\n",
       "      <td>Район Фили-Давыдково</td>\n",
       "      <td>1</td>\n",
       "    </tr>\n",
       "    <tr>\n",
       "      <td>Район Сокол</td>\n",
       "      <td>1</td>\n",
       "    </tr>\n",
       "    <tr>\n",
       "      <td>Академический район</td>\n",
       "      <td>1</td>\n",
       "    </tr>\n",
       "    <tr>\n",
       "      <td>Район Черемушки</td>\n",
       "      <td>1</td>\n",
       "    </tr>\n",
       "    <tr>\n",
       "      <td>Район Свиблово</td>\n",
       "      <td>1</td>\n",
       "    </tr>\n",
       "    <tr>\n",
       "      <td>Район Южное Бутово</td>\n",
       "      <td>1</td>\n",
       "    </tr>\n",
       "    <tr>\n",
       "      <td>Район Якиманка</td>\n",
       "      <td>1</td>\n",
       "    </tr>\n",
       "    <tr>\n",
       "      <td>Район Ясенево</td>\n",
       "      <td>1</td>\n",
       "    </tr>\n",
       "    <tr>\n",
       "      <td>Хорошевский район</td>\n",
       "      <td>1</td>\n",
       "    </tr>\n",
       "  </tbody>\n",
       "</table>\n",
       "</div>"
      ],
      "text/plain": [
       "                             count\n",
       "area                              \n",
       "Район Чертаново Центральное      2\n",
       "Донской район                    2\n",
       "Ломоносовский район              2\n",
       "Район Проспект Вернадского       2\n",
       "Обручевский район                2\n",
       "Район Теплый Стан                2\n",
       "Район Нагатино-Садовники         2\n",
       "Район Чертаново Южное            2\n",
       "Район Тропарево-Никулино         2\n",
       "Район Гагаринский                2\n",
       "Район Чертаново Северное         2\n",
       "Район Фили-Давыдково             1\n",
       "Район Сокол                      1\n",
       "Академический район              1\n",
       "Район Черемушки                  1\n",
       "Район Свиблово                   1\n",
       "Район Южное Бутово               1\n",
       "Район Якиманка                   1\n",
       "Район Ясенево                    1\n",
       "Хорошевский район                1"
      ]
     },
     "execution_count": 44,
     "metadata": {},
     "output_type": "execute_result"
    }
   ],
   "source": [
    "top_areas.groupby('area')['area'].agg(['count']).sort_values(by='count',ascending=False).head(20)"
   ]
  },
  {
   "cell_type": "markdown",
   "id": "ac3ff3c1",
   "metadata": {},
   "source": [
    "У нас получился список, где есть из 9 районов, где проходят 2 улицы по с наибольшим количеством общепита. Посмотрим теперь на округа, в которых находятся топовые улицы."
   ]
  },
  {
   "cell_type": "code",
   "execution_count": 45,
   "id": "6c40ceb2",
   "metadata": {},
   "outputs": [
    {
     "data": {
      "text/html": [
       "<div>\n",
       "<style scoped>\n",
       "    .dataframe tbody tr th:only-of-type {\n",
       "        vertical-align: middle;\n",
       "    }\n",
       "\n",
       "    .dataframe tbody tr th {\n",
       "        vertical-align: top;\n",
       "    }\n",
       "\n",
       "    .dataframe thead th {\n",
       "        text-align: right;\n",
       "    }\n",
       "</style>\n",
       "<table border=\"1\" class=\"dataframe\">\n",
       "  <thead>\n",
       "    <tr style=\"text-align: right;\">\n",
       "      <th></th>\n",
       "      <th>count</th>\n",
       "    </tr>\n",
       "    <tr>\n",
       "      <th>okrug</th>\n",
       "      <th></th>\n",
       "    </tr>\n",
       "  </thead>\n",
       "  <tbody>\n",
       "    <tr>\n",
       "      <td>ЮАО</td>\n",
       "      <td>14</td>\n",
       "    </tr>\n",
       "    <tr>\n",
       "      <td>ЮЗАО</td>\n",
       "      <td>14</td>\n",
       "    </tr>\n",
       "    <tr>\n",
       "      <td>ЗАО</td>\n",
       "      <td>7</td>\n",
       "    </tr>\n",
       "    <tr>\n",
       "      <td>СВАО</td>\n",
       "      <td>6</td>\n",
       "    </tr>\n",
       "    <tr>\n",
       "      <td>САО</td>\n",
       "      <td>4</td>\n",
       "    </tr>\n",
       "    <tr>\n",
       "      <td>ЦАО</td>\n",
       "      <td>3</td>\n",
       "    </tr>\n",
       "  </tbody>\n",
       "</table>\n",
       "</div>"
      ],
      "text/plain": [
       "       count\n",
       "okrug       \n",
       "ЮАО       14\n",
       "ЮЗАО      14\n",
       "ЗАО        7\n",
       "СВАО       6\n",
       "САО        4\n",
       "ЦАО        3"
      ]
     },
     "execution_count": 45,
     "metadata": {},
     "output_type": "execute_result"
    }
   ],
   "source": [
    "top_okrug=top_areas.groupby('okrug')['okrug'].agg(['count'])\n",
    "top_okrug.sort_values(by='count',ascending=False)"
   ]
  },
  {
   "cell_type": "markdown",
   "id": "a68acb83",
   "metadata": {},
   "source": [
    "Мы видим, что топовые улицы в большинстве своем находятся на юге, юго-западе и западе Москвы. Далее идет Северо-Восток и Север, и замыкает список Центральный округ. Конечно, в центре улице в основном не такие длинные, чтобы попасть в список топовых улиц по количеству точек общепита. Вывод, который мы можем сделать для нашего бизнеса - возможно, чтоит осваивать округа, где меньше точек общепита, дальше от топовых улиц. Можно обратить внимание на восток и север Москвы, возможно, там рынок менее насыщен.\n",
    "\n",
    "Однако, полезно посмотреть ситуацию в целом по заведениям в районах Москвы. "
   ]
  },
  {
   "cell_type": "code",
   "execution_count": 46,
   "id": "38e9f9b1",
   "metadata": {},
   "outputs": [],
   "source": [
    "areas=df.merge(mosgas, left_on='street', right_on='streetname')\n",
    "areas_area=areas.groupby(['area', 'okrug'])['area'].agg(['count']).sort_values(by='count',ascending=False)\n",
    "areas_area['perc']=areas_area['count']/areas_area['count'].sum()*100\n",
    "areas_area=areas_area.reset_index()\n",
    "areas_area=areas_area.rename(columns={'area':'раойон', 'okrug':'округ','count':'объектов', 'perc':'доля'})"
   ]
  },
  {
   "cell_type": "markdown",
   "id": "bf5abc9d",
   "metadata": {},
   "source": [
    "Посмотрим на топ-10 районов по количеству заведений"
   ]
  },
  {
   "cell_type": "code",
   "execution_count": 47,
   "id": "c4dec944",
   "metadata": {
    "scrolled": true
   },
   "outputs": [
    {
     "data": {
      "text/html": [
       "<style  type=\"text/css\" >\n",
       "    #T_960de4be_ebd0_11eb_8923_02420a39f188row0_col2 {\n",
       "            background-color:  #08306b;\n",
       "            color:  #f1f1f1;\n",
       "        }    #T_960de4be_ebd0_11eb_8923_02420a39f188row0_col3 {\n",
       "            background-color:  #08306b;\n",
       "            color:  #f1f1f1;\n",
       "        }    #T_960de4be_ebd0_11eb_8923_02420a39f188row1_col2 {\n",
       "            background-color:  #72b2d8;\n",
       "            color:  #000000;\n",
       "        }    #T_960de4be_ebd0_11eb_8923_02420a39f188row1_col3 {\n",
       "            background-color:  #72b2d8;\n",
       "            color:  #000000;\n",
       "        }    #T_960de4be_ebd0_11eb_8923_02420a39f188row2_col2 {\n",
       "            background-color:  #a6cee4;\n",
       "            color:  #000000;\n",
       "        }    #T_960de4be_ebd0_11eb_8923_02420a39f188row2_col3 {\n",
       "            background-color:  #a6cee4;\n",
       "            color:  #000000;\n",
       "        }    #T_960de4be_ebd0_11eb_8923_02420a39f188row3_col2 {\n",
       "            background-color:  #b7d4ea;\n",
       "            color:  #000000;\n",
       "        }    #T_960de4be_ebd0_11eb_8923_02420a39f188row3_col3 {\n",
       "            background-color:  #b7d4ea;\n",
       "            color:  #000000;\n",
       "        }    #T_960de4be_ebd0_11eb_8923_02420a39f188row4_col2 {\n",
       "            background-color:  #b8d5ea;\n",
       "            color:  #000000;\n",
       "        }    #T_960de4be_ebd0_11eb_8923_02420a39f188row4_col3 {\n",
       "            background-color:  #b8d5ea;\n",
       "            color:  #000000;\n",
       "        }    #T_960de4be_ebd0_11eb_8923_02420a39f188row5_col2 {\n",
       "            background-color:  #d7e6f5;\n",
       "            color:  #000000;\n",
       "        }    #T_960de4be_ebd0_11eb_8923_02420a39f188row5_col3 {\n",
       "            background-color:  #d7e6f5;\n",
       "            color:  #000000;\n",
       "        }    #T_960de4be_ebd0_11eb_8923_02420a39f188row6_col2 {\n",
       "            background-color:  #e7f0fa;\n",
       "            color:  #000000;\n",
       "        }    #T_960de4be_ebd0_11eb_8923_02420a39f188row6_col3 {\n",
       "            background-color:  #e7f0fa;\n",
       "            color:  #000000;\n",
       "        }    #T_960de4be_ebd0_11eb_8923_02420a39f188row7_col2 {\n",
       "            background-color:  #f2f7fd;\n",
       "            color:  #000000;\n",
       "        }    #T_960de4be_ebd0_11eb_8923_02420a39f188row7_col3 {\n",
       "            background-color:  #f2f7fd;\n",
       "            color:  #000000;\n",
       "        }    #T_960de4be_ebd0_11eb_8923_02420a39f188row8_col2 {\n",
       "            background-color:  #f6faff;\n",
       "            color:  #000000;\n",
       "        }    #T_960de4be_ebd0_11eb_8923_02420a39f188row8_col3 {\n",
       "            background-color:  #f6faff;\n",
       "            color:  #000000;\n",
       "        }    #T_960de4be_ebd0_11eb_8923_02420a39f188row9_col2 {\n",
       "            background-color:  #f7fbff;\n",
       "            color:  #000000;\n",
       "        }    #T_960de4be_ebd0_11eb_8923_02420a39f188row9_col3 {\n",
       "            background-color:  #f7fbff;\n",
       "            color:  #000000;\n",
       "        }</style><table id=\"T_960de4be_ebd0_11eb_8923_02420a39f188\" ><thead>    <tr>        <th class=\"blank level0\" ></th>        <th class=\"col_heading level0 col0\" >раойон</th>        <th class=\"col_heading level0 col1\" >округ</th>        <th class=\"col_heading level0 col2\" >объектов</th>        <th class=\"col_heading level0 col3\" >доля</th>    </tr></thead><tbody>\n",
       "                <tr>\n",
       "                        <th id=\"T_960de4be_ebd0_11eb_8923_02420a39f188level0_row0\" class=\"row_heading level0 row0\" >0</th>\n",
       "                        <td id=\"T_960de4be_ebd0_11eb_8923_02420a39f188row0_col0\" class=\"data row0 col0\" >Тверской район</td>\n",
       "                        <td id=\"T_960de4be_ebd0_11eb_8923_02420a39f188row0_col1\" class=\"data row0 col1\" >ЦАО</td>\n",
       "                        <td id=\"T_960de4be_ebd0_11eb_8923_02420a39f188row0_col2\" class=\"data row0 col2\" >1127</td>\n",
       "                        <td id=\"T_960de4be_ebd0_11eb_8923_02420a39f188row0_col3\" class=\"data row0 col3\" >3.8</td>\n",
       "            </tr>\n",
       "            <tr>\n",
       "                        <th id=\"T_960de4be_ebd0_11eb_8923_02420a39f188level0_row1\" class=\"row_heading level0 row1\" >1</th>\n",
       "                        <td id=\"T_960de4be_ebd0_11eb_8923_02420a39f188row1_col0\" class=\"data row1 col0\" >Пресненский район</td>\n",
       "                        <td id=\"T_960de4be_ebd0_11eb_8923_02420a39f188row1_col1\" class=\"data row1 col1\" >ЦАО</td>\n",
       "                        <td id=\"T_960de4be_ebd0_11eb_8923_02420a39f188row1_col2\" class=\"data row1 col2\" >788</td>\n",
       "                        <td id=\"T_960de4be_ebd0_11eb_8923_02420a39f188row1_col3\" class=\"data row1 col3\" >2.7</td>\n",
       "            </tr>\n",
       "            <tr>\n",
       "                        <th id=\"T_960de4be_ebd0_11eb_8923_02420a39f188level0_row2\" class=\"row_heading level0 row2\" >2</th>\n",
       "                        <td id=\"T_960de4be_ebd0_11eb_8923_02420a39f188row2_col0\" class=\"data row2 col0\" >Басманный район</td>\n",
       "                        <td id=\"T_960de4be_ebd0_11eb_8923_02420a39f188row2_col1\" class=\"data row2 col1\" >ЦАО</td>\n",
       "                        <td id=\"T_960de4be_ebd0_11eb_8923_02420a39f188row2_col2\" class=\"data row2 col2\" >702</td>\n",
       "                        <td id=\"T_960de4be_ebd0_11eb_8923_02420a39f188row2_col3\" class=\"data row2 col3\" >2.4</td>\n",
       "            </tr>\n",
       "            <tr>\n",
       "                        <th id=\"T_960de4be_ebd0_11eb_8923_02420a39f188level0_row3\" class=\"row_heading level0 row3\" >3</th>\n",
       "                        <td id=\"T_960de4be_ebd0_11eb_8923_02420a39f188row3_col0\" class=\"data row3 col0\" >Мещанский район</td>\n",
       "                        <td id=\"T_960de4be_ebd0_11eb_8923_02420a39f188row3_col1\" class=\"data row3 col1\" >ЦАО</td>\n",
       "                        <td id=\"T_960de4be_ebd0_11eb_8923_02420a39f188row3_col2\" class=\"data row3 col2\" >668</td>\n",
       "                        <td id=\"T_960de4be_ebd0_11eb_8923_02420a39f188row3_col3\" class=\"data row3 col3\" >2.3</td>\n",
       "            </tr>\n",
       "            <tr>\n",
       "                        <th id=\"T_960de4be_ebd0_11eb_8923_02420a39f188level0_row4\" class=\"row_heading level0 row4\" >4</th>\n",
       "                        <td id=\"T_960de4be_ebd0_11eb_8923_02420a39f188row4_col0\" class=\"data row4 col0\" >Даниловский район</td>\n",
       "                        <td id=\"T_960de4be_ebd0_11eb_8923_02420a39f188row4_col1\" class=\"data row4 col1\" >ЮАО</td>\n",
       "                        <td id=\"T_960de4be_ebd0_11eb_8923_02420a39f188row4_col2\" class=\"data row4 col2\" >667</td>\n",
       "                        <td id=\"T_960de4be_ebd0_11eb_8923_02420a39f188row4_col3\" class=\"data row4 col3\" >2.3</td>\n",
       "            </tr>\n",
       "            <tr>\n",
       "                        <th id=\"T_960de4be_ebd0_11eb_8923_02420a39f188level0_row5\" class=\"row_heading level0 row5\" >5</th>\n",
       "                        <td id=\"T_960de4be_ebd0_11eb_8923_02420a39f188row5_col0\" class=\"data row5 col0\" >Донской район</td>\n",
       "                        <td id=\"T_960de4be_ebd0_11eb_8923_02420a39f188row5_col1\" class=\"data row5 col1\" >ЮАО</td>\n",
       "                        <td id=\"T_960de4be_ebd0_11eb_8923_02420a39f188row5_col2\" class=\"data row5 col2\" >581</td>\n",
       "                        <td id=\"T_960de4be_ebd0_11eb_8923_02420a39f188row5_col3\" class=\"data row5 col3\" >2</td>\n",
       "            </tr>\n",
       "            <tr>\n",
       "                        <th id=\"T_960de4be_ebd0_11eb_8923_02420a39f188level0_row6\" class=\"row_heading level0 row6\" >6</th>\n",
       "                        <td id=\"T_960de4be_ebd0_11eb_8923_02420a39f188row6_col0\" class=\"data row6 col0\" >Таганский район</td>\n",
       "                        <td id=\"T_960de4be_ebd0_11eb_8923_02420a39f188row6_col1\" class=\"data row6 col1\" >ЦАО</td>\n",
       "                        <td id=\"T_960de4be_ebd0_11eb_8923_02420a39f188row6_col2\" class=\"data row6 col2\" >528</td>\n",
       "                        <td id=\"T_960de4be_ebd0_11eb_8923_02420a39f188row6_col3\" class=\"data row6 col3\" >1.8</td>\n",
       "            </tr>\n",
       "            <tr>\n",
       "                        <th id=\"T_960de4be_ebd0_11eb_8923_02420a39f188level0_row7\" class=\"row_heading level0 row7\" >7</th>\n",
       "                        <td id=\"T_960de4be_ebd0_11eb_8923_02420a39f188row7_col0\" class=\"data row7 col0\" >Обручевский район</td>\n",
       "                        <td id=\"T_960de4be_ebd0_11eb_8923_02420a39f188row7_col1\" class=\"data row7 col1\" >ЮЗАО</td>\n",
       "                        <td id=\"T_960de4be_ebd0_11eb_8923_02420a39f188row7_col2\" class=\"data row7 col2\" >492</td>\n",
       "                        <td id=\"T_960de4be_ebd0_11eb_8923_02420a39f188row7_col3\" class=\"data row7 col3\" >1.7</td>\n",
       "            </tr>\n",
       "            <tr>\n",
       "                        <th id=\"T_960de4be_ebd0_11eb_8923_02420a39f188level0_row8\" class=\"row_heading level0 row8\" >8</th>\n",
       "                        <td id=\"T_960de4be_ebd0_11eb_8923_02420a39f188row8_col0\" class=\"data row8 col0\" >Район Замоскворечье</td>\n",
       "                        <td id=\"T_960de4be_ebd0_11eb_8923_02420a39f188row8_col1\" class=\"data row8 col1\" >ЦАО</td>\n",
       "                        <td id=\"T_960de4be_ebd0_11eb_8923_02420a39f188row8_col2\" class=\"data row8 col2\" >479</td>\n",
       "                        <td id=\"T_960de4be_ebd0_11eb_8923_02420a39f188row8_col3\" class=\"data row8 col3\" >1.6</td>\n",
       "            </tr>\n",
       "            <tr>\n",
       "                        <th id=\"T_960de4be_ebd0_11eb_8923_02420a39f188level0_row9\" class=\"row_heading level0 row9\" >9</th>\n",
       "                        <td id=\"T_960de4be_ebd0_11eb_8923_02420a39f188row9_col0\" class=\"data row9 col0\" >Район Гагаринский</td>\n",
       "                        <td id=\"T_960de4be_ebd0_11eb_8923_02420a39f188row9_col1\" class=\"data row9 col1\" >ЮЗАО</td>\n",
       "                        <td id=\"T_960de4be_ebd0_11eb_8923_02420a39f188row9_col2\" class=\"data row9 col2\" >474</td>\n",
       "                        <td id=\"T_960de4be_ebd0_11eb_8923_02420a39f188row9_col3\" class=\"data row9 col3\" >1.6</td>\n",
       "            </tr>\n",
       "    </tbody></table>"
      ],
      "text/plain": [
       "<pandas.io.formats.style.Styler at 0x7f03ff457990>"
      ]
     },
     "execution_count": 47,
     "metadata": {},
     "output_type": "execute_result"
    }
   ],
   "source": [
    "areas_top=areas_area.head(10)\n",
    "with pd.option_context('display.precision', 2):\n",
    "    areas_top=areas_top.style.background_gradient(cmap = 'Blues')\n",
    "areas_top"
   ]
  },
  {
   "cell_type": "markdown",
   "id": "3f879658",
   "metadata": {},
   "source": [
    "Посмотрим на хвост этого списка, т.е. районы, где меньше всего заведений."
   ]
  },
  {
   "cell_type": "code",
   "execution_count": 48,
   "id": "2f7ffcaf",
   "metadata": {},
   "outputs": [
    {
     "data": {
      "text/html": [
       "<style  type=\"text/css\" >\n",
       "    #T_9613328e_ebd0_11eb_8923_02420a39f188row0_col2 {\n",
       "            background-color:  #08306b;\n",
       "            color:  #f1f1f1;\n",
       "        }    #T_9613328e_ebd0_11eb_8923_02420a39f188row0_col3 {\n",
       "            background-color:  #08306b;\n",
       "            color:  #f1f1f1;\n",
       "        }    #T_9613328e_ebd0_11eb_8923_02420a39f188row1_col2 {\n",
       "            background-color:  #083471;\n",
       "            color:  #f1f1f1;\n",
       "        }    #T_9613328e_ebd0_11eb_8923_02420a39f188row1_col3 {\n",
       "            background-color:  #083471;\n",
       "            color:  #f1f1f1;\n",
       "        }    #T_9613328e_ebd0_11eb_8923_02420a39f188row2_col2 {\n",
       "            background-color:  #083979;\n",
       "            color:  #f1f1f1;\n",
       "        }    #T_9613328e_ebd0_11eb_8923_02420a39f188row2_col3 {\n",
       "            background-color:  #083979;\n",
       "            color:  #f1f1f1;\n",
       "        }    #T_9613328e_ebd0_11eb_8923_02420a39f188row3_col2 {\n",
       "            background-color:  #083979;\n",
       "            color:  #f1f1f1;\n",
       "        }    #T_9613328e_ebd0_11eb_8923_02420a39f188row3_col3 {\n",
       "            background-color:  #083979;\n",
       "            color:  #f1f1f1;\n",
       "        }    #T_9613328e_ebd0_11eb_8923_02420a39f188row4_col2 {\n",
       "            background-color:  #3888c1;\n",
       "            color:  #000000;\n",
       "        }    #T_9613328e_ebd0_11eb_8923_02420a39f188row4_col3 {\n",
       "            background-color:  #3888c1;\n",
       "            color:  #000000;\n",
       "        }    #T_9613328e_ebd0_11eb_8923_02420a39f188row5_col2 {\n",
       "            background-color:  #3d8dc4;\n",
       "            color:  #000000;\n",
       "        }    #T_9613328e_ebd0_11eb_8923_02420a39f188row5_col3 {\n",
       "            background-color:  #3d8dc4;\n",
       "            color:  #000000;\n",
       "        }    #T_9613328e_ebd0_11eb_8923_02420a39f188row6_col2 {\n",
       "            background-color:  #4e9acb;\n",
       "            color:  #000000;\n",
       "        }    #T_9613328e_ebd0_11eb_8923_02420a39f188row6_col3 {\n",
       "            background-color:  #4e9acb;\n",
       "            color:  #000000;\n",
       "        }    #T_9613328e_ebd0_11eb_8923_02420a39f188row7_col2 {\n",
       "            background-color:  #8fc2de;\n",
       "            color:  #000000;\n",
       "        }    #T_9613328e_ebd0_11eb_8923_02420a39f188row7_col3 {\n",
       "            background-color:  #8fc2de;\n",
       "            color:  #000000;\n",
       "        }    #T_9613328e_ebd0_11eb_8923_02420a39f188row8_col2 {\n",
       "            background-color:  #e9f2fa;\n",
       "            color:  #000000;\n",
       "        }    #T_9613328e_ebd0_11eb_8923_02420a39f188row8_col3 {\n",
       "            background-color:  #e9f2fa;\n",
       "            color:  #000000;\n",
       "        }    #T_9613328e_ebd0_11eb_8923_02420a39f188row9_col2 {\n",
       "            background-color:  #f7fbff;\n",
       "            color:  #000000;\n",
       "        }    #T_9613328e_ebd0_11eb_8923_02420a39f188row9_col3 {\n",
       "            background-color:  #f7fbff;\n",
       "            color:  #000000;\n",
       "        }</style><table id=\"T_9613328e_ebd0_11eb_8923_02420a39f188\" ><thead>    <tr>        <th class=\"blank level0\" ></th>        <th class=\"col_heading level0 col0\" >раойон</th>        <th class=\"col_heading level0 col1\" >округ</th>        <th class=\"col_heading level0 col2\" >объектов</th>        <th class=\"col_heading level0 col3\" >доля</th>    </tr></thead><tbody>\n",
       "                <tr>\n",
       "                        <th id=\"T_9613328e_ebd0_11eb_8923_02420a39f188level0_row0\" class=\"row_heading level0 row0\" >113</th>\n",
       "                        <td id=\"T_9613328e_ebd0_11eb_8923_02420a39f188row0_col0\" class=\"data row0 col0\" >Район Марфино</td>\n",
       "                        <td id=\"T_9613328e_ebd0_11eb_8923_02420a39f188row0_col1\" class=\"data row0 col1\" >СВАО</td>\n",
       "                        <td id=\"T_9613328e_ebd0_11eb_8923_02420a39f188row0_col2\" class=\"data row0 col2\" >60</td>\n",
       "                        <td id=\"T_9613328e_ebd0_11eb_8923_02420a39f188row0_col3\" class=\"data row0 col3\" >0.2</td>\n",
       "            </tr>\n",
       "            <tr>\n",
       "                        <th id=\"T_9613328e_ebd0_11eb_8923_02420a39f188level0_row1\" class=\"row_heading level0 row1\" >114</th>\n",
       "                        <td id=\"T_9613328e_ebd0_11eb_8923_02420a39f188row1_col0\" class=\"data row1 col0\" >Район Косино-Ухтомский</td>\n",
       "                        <td id=\"T_9613328e_ebd0_11eb_8923_02420a39f188row1_col1\" class=\"data row1 col1\" >ВАО</td>\n",
       "                        <td id=\"T_9613328e_ebd0_11eb_8923_02420a39f188row1_col2\" class=\"data row1 col2\" >59</td>\n",
       "                        <td id=\"T_9613328e_ebd0_11eb_8923_02420a39f188row1_col3\" class=\"data row1 col3\" >0.2</td>\n",
       "            </tr>\n",
       "            <tr>\n",
       "                        <th id=\"T_9613328e_ebd0_11eb_8923_02420a39f188level0_row2\" class=\"row_heading level0 row2\" >115</th>\n",
       "                        <td id=\"T_9613328e_ebd0_11eb_8923_02420a39f188row2_col0\" class=\"data row2 col0\" >Район Южное Медведково</td>\n",
       "                        <td id=\"T_9613328e_ebd0_11eb_8923_02420a39f188row2_col1\" class=\"data row2 col1\" >СВАО</td>\n",
       "                        <td id=\"T_9613328e_ebd0_11eb_8923_02420a39f188row2_col2\" class=\"data row2 col2\" >58</td>\n",
       "                        <td id=\"T_9613328e_ebd0_11eb_8923_02420a39f188row2_col3\" class=\"data row2 col3\" >0.2</td>\n",
       "            </tr>\n",
       "            <tr>\n",
       "                        <th id=\"T_9613328e_ebd0_11eb_8923_02420a39f188level0_row3\" class=\"row_heading level0 row3\" >116</th>\n",
       "                        <td id=\"T_9613328e_ebd0_11eb_8923_02420a39f188row3_col0\" class=\"data row3 col0\" >Район Бирюлево Западное</td>\n",
       "                        <td id=\"T_9613328e_ebd0_11eb_8923_02420a39f188row3_col1\" class=\"data row3 col1\" >ЮАО</td>\n",
       "                        <td id=\"T_9613328e_ebd0_11eb_8923_02420a39f188row3_col2\" class=\"data row3 col2\" >58</td>\n",
       "                        <td id=\"T_9613328e_ebd0_11eb_8923_02420a39f188row3_col3\" class=\"data row3 col3\" >0.2</td>\n",
       "            </tr>\n",
       "            <tr>\n",
       "                        <th id=\"T_9613328e_ebd0_11eb_8923_02420a39f188level0_row4\" class=\"row_heading level0 row4\" >117</th>\n",
       "                        <td id=\"T_9613328e_ebd0_11eb_8923_02420a39f188row4_col0\" class=\"data row4 col0\" >Район Братеево</td>\n",
       "                        <td id=\"T_9613328e_ebd0_11eb_8923_02420a39f188row4_col1\" class=\"data row4 col1\" >ЮАО</td>\n",
       "                        <td id=\"T_9613328e_ebd0_11eb_8923_02420a39f188row4_col2\" class=\"data row4 col2\" >41</td>\n",
       "                        <td id=\"T_9613328e_ebd0_11eb_8923_02420a39f188row4_col3\" class=\"data row4 col3\" >0.14</td>\n",
       "            </tr>\n",
       "            <tr>\n",
       "                        <th id=\"T_9613328e_ebd0_11eb_8923_02420a39f188level0_row5\" class=\"row_heading level0 row5\" >118</th>\n",
       "                        <td id=\"T_9613328e_ebd0_11eb_8923_02420a39f188row5_col0\" class=\"data row5 col0\" >Район Куркино</td>\n",
       "                        <td id=\"T_9613328e_ebd0_11eb_8923_02420a39f188row5_col1\" class=\"data row5 col1\" >СЗАО</td>\n",
       "                        <td id=\"T_9613328e_ebd0_11eb_8923_02420a39f188row5_col2\" class=\"data row5 col2\" >40</td>\n",
       "                        <td id=\"T_9613328e_ebd0_11eb_8923_02420a39f188row5_col3\" class=\"data row5 col3\" >0.14</td>\n",
       "            </tr>\n",
       "            <tr>\n",
       "                        <th id=\"T_9613328e_ebd0_11eb_8923_02420a39f188level0_row6\" class=\"row_heading level0 row6\" >119</th>\n",
       "                        <td id=\"T_9613328e_ebd0_11eb_8923_02420a39f188row6_col0\" class=\"data row6 col0\" >Район Новокосино</td>\n",
       "                        <td id=\"T_9613328e_ebd0_11eb_8923_02420a39f188row6_col1\" class=\"data row6 col1\" >ВАО</td>\n",
       "                        <td id=\"T_9613328e_ebd0_11eb_8923_02420a39f188row6_col2\" class=\"data row6 col2\" >37</td>\n",
       "                        <td id=\"T_9613328e_ebd0_11eb_8923_02420a39f188row6_col3\" class=\"data row6 col3\" >0.13</td>\n",
       "            </tr>\n",
       "            <tr>\n",
       "                        <th id=\"T_9613328e_ebd0_11eb_8923_02420a39f188level0_row7\" class=\"row_heading level0 row7\" >120</th>\n",
       "                        <td id=\"T_9613328e_ebd0_11eb_8923_02420a39f188row7_col0\" class=\"data row7 col0\" >Район Капотня</td>\n",
       "                        <td id=\"T_9613328e_ebd0_11eb_8923_02420a39f188row7_col1\" class=\"data row7 col1\" >ЮВАО</td>\n",
       "                        <td id=\"T_9613328e_ebd0_11eb_8923_02420a39f188row7_col2\" class=\"data row7 col2\" >27</td>\n",
       "                        <td id=\"T_9613328e_ebd0_11eb_8923_02420a39f188row7_col3\" class=\"data row7 col3\" >0.091</td>\n",
       "            </tr>\n",
       "            <tr>\n",
       "                        <th id=\"T_9613328e_ebd0_11eb_8923_02420a39f188level0_row8\" class=\"row_heading level0 row8\" >121</th>\n",
       "                        <td id=\"T_9613328e_ebd0_11eb_8923_02420a39f188row8_col0\" class=\"data row8 col0\" >Район Некрасовка</td>\n",
       "                        <td id=\"T_9613328e_ebd0_11eb_8923_02420a39f188row8_col1\" class=\"data row8 col1\" >ЮВАО</td>\n",
       "                        <td id=\"T_9613328e_ebd0_11eb_8923_02420a39f188row8_col2\" class=\"data row8 col2\" >8</td>\n",
       "                        <td id=\"T_9613328e_ebd0_11eb_8923_02420a39f188row8_col3\" class=\"data row8 col3\" >0.027</td>\n",
       "            </tr>\n",
       "            <tr>\n",
       "                        <th id=\"T_9613328e_ebd0_11eb_8923_02420a39f188level0_row9\" class=\"row_heading level0 row9\" >122</th>\n",
       "                        <td id=\"T_9613328e_ebd0_11eb_8923_02420a39f188row9_col0\" class=\"data row9 col0\" >Район Восточный</td>\n",
       "                        <td id=\"T_9613328e_ebd0_11eb_8923_02420a39f188row9_col1\" class=\"data row9 col1\" >ВАО</td>\n",
       "                        <td id=\"T_9613328e_ebd0_11eb_8923_02420a39f188row9_col2\" class=\"data row9 col2\" >4</td>\n",
       "                        <td id=\"T_9613328e_ebd0_11eb_8923_02420a39f188row9_col3\" class=\"data row9 col3\" >0.014</td>\n",
       "            </tr>\n",
       "    </tbody></table>"
      ],
      "text/plain": [
       "<pandas.io.formats.style.Styler at 0x7f03b2ccc810>"
      ]
     },
     "execution_count": 48,
     "metadata": {},
     "output_type": "execute_result"
    }
   ],
   "source": [
    "areas_tail=areas_area.tail(10)\n",
    "with pd.option_context('display.precision', 2):\n",
    "    areas_tail=areas_tail.style.background_gradient(cmap = 'Blues')\n",
    "areas_tail"
   ]
  },
  {
   "cell_type": "code",
   "execution_count": 49,
   "id": "70c7a41f",
   "metadata": {},
   "outputs": [],
   "source": [
    "okrugs=areas.groupby('okrug')['okrug'].agg(['count']).sort_values(by='count',ascending=False)\n",
    "okrugs['perc']=okrugs['count']/okrugs['count'].sum()*100\n",
    "okrugs=okrugs.reset_index().head(10)\n",
    "okrugs=okrugs.rename(columns={'okrug':'округ','count':'объектов', 'perc':'доля'})"
   ]
  },
  {
   "cell_type": "code",
   "execution_count": 50,
   "id": "79076898",
   "metadata": {},
   "outputs": [
    {
     "data": {
      "text/html": [
       "<style  type=\"text/css\" >\n",
       "    #T_961d8734_ebd0_11eb_8923_02420a39f188row0_col1 {\n",
       "            background-color:  #08306b;\n",
       "            color:  #f1f1f1;\n",
       "        }    #T_961d8734_ebd0_11eb_8923_02420a39f188row0_col2 {\n",
       "            background-color:  #08306b;\n",
       "            color:  #f1f1f1;\n",
       "        }    #T_961d8734_ebd0_11eb_8923_02420a39f188row1_col1 {\n",
       "            background-color:  #2c7cba;\n",
       "            color:  #000000;\n",
       "        }    #T_961d8734_ebd0_11eb_8923_02420a39f188row1_col2 {\n",
       "            background-color:  #2c7cba;\n",
       "            color:  #000000;\n",
       "        }    #T_961d8734_ebd0_11eb_8923_02420a39f188row2_col1 {\n",
       "            background-color:  #4191c6;\n",
       "            color:  #000000;\n",
       "        }    #T_961d8734_ebd0_11eb_8923_02420a39f188row2_col2 {\n",
       "            background-color:  #4191c6;\n",
       "            color:  #000000;\n",
       "        }    #T_961d8734_ebd0_11eb_8923_02420a39f188row3_col1 {\n",
       "            background-color:  #69add5;\n",
       "            color:  #000000;\n",
       "        }    #T_961d8734_ebd0_11eb_8923_02420a39f188row3_col2 {\n",
       "            background-color:  #69add5;\n",
       "            color:  #000000;\n",
       "        }    #T_961d8734_ebd0_11eb_8923_02420a39f188row4_col1 {\n",
       "            background-color:  #75b4d8;\n",
       "            color:  #000000;\n",
       "        }    #T_961d8734_ebd0_11eb_8923_02420a39f188row4_col2 {\n",
       "            background-color:  #75b4d8;\n",
       "            color:  #000000;\n",
       "        }    #T_961d8734_ebd0_11eb_8923_02420a39f188row5_col1 {\n",
       "            background-color:  #b0d2e7;\n",
       "            color:  #000000;\n",
       "        }    #T_961d8734_ebd0_11eb_8923_02420a39f188row5_col2 {\n",
       "            background-color:  #b0d2e7;\n",
       "            color:  #000000;\n",
       "        }    #T_961d8734_ebd0_11eb_8923_02420a39f188row6_col1 {\n",
       "            background-color:  #caddf0;\n",
       "            color:  #000000;\n",
       "        }    #T_961d8734_ebd0_11eb_8923_02420a39f188row6_col2 {\n",
       "            background-color:  #caddf0;\n",
       "            color:  #000000;\n",
       "        }    #T_961d8734_ebd0_11eb_8923_02420a39f188row7_col1 {\n",
       "            background-color:  #d1e2f3;\n",
       "            color:  #000000;\n",
       "        }    #T_961d8734_ebd0_11eb_8923_02420a39f188row7_col2 {\n",
       "            background-color:  #d1e2f3;\n",
       "            color:  #000000;\n",
       "        }    #T_961d8734_ebd0_11eb_8923_02420a39f188row8_col1 {\n",
       "            background-color:  #f7fbff;\n",
       "            color:  #000000;\n",
       "        }    #T_961d8734_ebd0_11eb_8923_02420a39f188row8_col2 {\n",
       "            background-color:  #f7fbff;\n",
       "            color:  #000000;\n",
       "        }    #T_961d8734_ebd0_11eb_8923_02420a39f188row9_col1 {\n",
       "            background-color:  #f7fbff;\n",
       "            color:  #000000;\n",
       "        }    #T_961d8734_ebd0_11eb_8923_02420a39f188row9_col2 {\n",
       "            background-color:  #f7fbff;\n",
       "            color:  #000000;\n",
       "        }</style><table id=\"T_961d8734_ebd0_11eb_8923_02420a39f188\" ><thead>    <tr>        <th class=\"blank level0\" ></th>        <th class=\"col_heading level0 col0\" >округ</th>        <th class=\"col_heading level0 col1\" >объектов</th>        <th class=\"col_heading level0 col2\" >доля</th>    </tr></thead><tbody>\n",
       "                <tr>\n",
       "                        <th id=\"T_961d8734_ebd0_11eb_8923_02420a39f188level0_row0\" class=\"row_heading level0 row0\" >0</th>\n",
       "                        <td id=\"T_961d8734_ebd0_11eb_8923_02420a39f188row0_col0\" class=\"data row0 col0\" >ЦАО</td>\n",
       "                        <td id=\"T_961d8734_ebd0_11eb_8923_02420a39f188row0_col1\" class=\"data row0 col1\" >5824</td>\n",
       "                        <td id=\"T_961d8734_ebd0_11eb_8923_02420a39f188row0_col2\" class=\"data row0 col2\" >20</td>\n",
       "            </tr>\n",
       "            <tr>\n",
       "                        <th id=\"T_961d8734_ebd0_11eb_8923_02420a39f188level0_row1\" class=\"row_heading level0 row1\" >1</th>\n",
       "                        <td id=\"T_961d8734_ebd0_11eb_8923_02420a39f188row1_col0\" class=\"data row1 col0\" >ЮАО</td>\n",
       "                        <td id=\"T_961d8734_ebd0_11eb_8923_02420a39f188row1_col1\" class=\"data row1 col1\" >4417</td>\n",
       "                        <td id=\"T_961d8734_ebd0_11eb_8923_02420a39f188row1_col2\" class=\"data row1 col2\" >15</td>\n",
       "            </tr>\n",
       "            <tr>\n",
       "                        <th id=\"T_961d8734_ebd0_11eb_8923_02420a39f188level0_row2\" class=\"row_heading level0 row2\" >2</th>\n",
       "                        <td id=\"T_961d8734_ebd0_11eb_8923_02420a39f188row2_col0\" class=\"data row2 col0\" >ЮЗАО</td>\n",
       "                        <td id=\"T_961d8734_ebd0_11eb_8923_02420a39f188row2_col1\" class=\"data row2 col1\" >4032</td>\n",
       "                        <td id=\"T_961d8734_ebd0_11eb_8923_02420a39f188row2_col2\" class=\"data row2 col2\" >14</td>\n",
       "            </tr>\n",
       "            <tr>\n",
       "                        <th id=\"T_961d8734_ebd0_11eb_8923_02420a39f188level0_row3\" class=\"row_heading level0 row3\" >3</th>\n",
       "                        <td id=\"T_961d8734_ebd0_11eb_8923_02420a39f188row3_col0\" class=\"data row3 col0\" >САО</td>\n",
       "                        <td id=\"T_961d8734_ebd0_11eb_8923_02420a39f188row3_col1\" class=\"data row3 col1\" >3436</td>\n",
       "                        <td id=\"T_961d8734_ebd0_11eb_8923_02420a39f188row3_col2\" class=\"data row3 col2\" >12</td>\n",
       "            </tr>\n",
       "            <tr>\n",
       "                        <th id=\"T_961d8734_ebd0_11eb_8923_02420a39f188level0_row4\" class=\"row_heading level0 row4\" >4</th>\n",
       "                        <td id=\"T_961d8734_ebd0_11eb_8923_02420a39f188row4_col0\" class=\"data row4 col0\" >СВАО</td>\n",
       "                        <td id=\"T_961d8734_ebd0_11eb_8923_02420a39f188row4_col1\" class=\"data row4 col1\" >3281</td>\n",
       "                        <td id=\"T_961d8734_ebd0_11eb_8923_02420a39f188row4_col2\" class=\"data row4 col2\" >11</td>\n",
       "            </tr>\n",
       "            <tr>\n",
       "                        <th id=\"T_961d8734_ebd0_11eb_8923_02420a39f188level0_row5\" class=\"row_heading level0 row5\" >5</th>\n",
       "                        <td id=\"T_961d8734_ebd0_11eb_8923_02420a39f188row5_col0\" class=\"data row5 col0\" >ЗАО</td>\n",
       "                        <td id=\"T_961d8734_ebd0_11eb_8923_02420a39f188row5_col1\" class=\"data row5 col1\" >2542</td>\n",
       "                        <td id=\"T_961d8734_ebd0_11eb_8923_02420a39f188row5_col2\" class=\"data row5 col2\" >8.6</td>\n",
       "            </tr>\n",
       "            <tr>\n",
       "                        <th id=\"T_961d8734_ebd0_11eb_8923_02420a39f188level0_row6\" class=\"row_heading level0 row6\" >6</th>\n",
       "                        <td id=\"T_961d8734_ebd0_11eb_8923_02420a39f188row6_col0\" class=\"data row6 col0\" >ВАО</td>\n",
       "                        <td id=\"T_961d8734_ebd0_11eb_8923_02420a39f188row6_col1\" class=\"data row6 col1\" >2128</td>\n",
       "                        <td id=\"T_961d8734_ebd0_11eb_8923_02420a39f188row6_col2\" class=\"data row6 col2\" >7.2</td>\n",
       "            </tr>\n",
       "            <tr>\n",
       "                        <th id=\"T_961d8734_ebd0_11eb_8923_02420a39f188level0_row7\" class=\"row_heading level0 row7\" >7</th>\n",
       "                        <td id=\"T_961d8734_ebd0_11eb_8923_02420a39f188row7_col0\" class=\"data row7 col0\" >ЮВАО</td>\n",
       "                        <td id=\"T_961d8734_ebd0_11eb_8923_02420a39f188row7_col1\" class=\"data row7 col1\" >1929</td>\n",
       "                        <td id=\"T_961d8734_ebd0_11eb_8923_02420a39f188row7_col2\" class=\"data row7 col2\" >6.5</td>\n",
       "            </tr>\n",
       "            <tr>\n",
       "                        <th id=\"T_961d8734_ebd0_11eb_8923_02420a39f188level0_row8\" class=\"row_heading level0 row8\" >8</th>\n",
       "                        <td id=\"T_961d8734_ebd0_11eb_8923_02420a39f188row8_col0\" class=\"data row8 col0\" >Зеленоград</td>\n",
       "                        <td id=\"T_961d8734_ebd0_11eb_8923_02420a39f188row8_col1\" class=\"data row8 col1\" >1001</td>\n",
       "                        <td id=\"T_961d8734_ebd0_11eb_8923_02420a39f188row8_col2\" class=\"data row8 col2\" >3.4</td>\n",
       "            </tr>\n",
       "            <tr>\n",
       "                        <th id=\"T_961d8734_ebd0_11eb_8923_02420a39f188level0_row9\" class=\"row_heading level0 row9\" >9</th>\n",
       "                        <td id=\"T_961d8734_ebd0_11eb_8923_02420a39f188row9_col0\" class=\"data row9 col0\" >СЗАО</td>\n",
       "                        <td id=\"T_961d8734_ebd0_11eb_8923_02420a39f188row9_col1\" class=\"data row9 col1\" >998</td>\n",
       "                        <td id=\"T_961d8734_ebd0_11eb_8923_02420a39f188row9_col2\" class=\"data row9 col2\" >3.4</td>\n",
       "            </tr>\n",
       "    </tbody></table>"
      ],
      "text/plain": [
       "<pandas.io.formats.style.Styler at 0x7f03b2d05790>"
      ]
     },
     "execution_count": 50,
     "metadata": {},
     "output_type": "execute_result"
    }
   ],
   "source": [
    "with pd.option_context('display.precision', 2):\n",
    "    okrugs=okrugs.style.background_gradient(cmap = 'Blues')\n",
    "okrugs"
   ]
  },
  {
   "cell_type": "markdown",
   "id": "dc05b658",
   "metadata": {},
   "source": [
    "Данные по всем точкам общепита показывают, что больше всего заведений в Тверском районе и нескольких других районах Центрального округа, далее идут районы из Юга и Юго-Запада. Те же лидеры в общем зачете точек по округам. На последнем месте по районам - Некрасовка и Восточный, по районам - Северо-Запад. Таким образом, в общем на Востоке, Юго-Востоке и Северо-Западе Москвы заведений меньше."
   ]
  },
  {
   "cell_type": "markdown",
   "id": "0b692dd1",
   "metadata": {},
   "source": [
    "### Найдите число улиц с одним объектом общественного питания. Воспользуйтесь внешней информацией и ответьте на вопрос — в каких районах Москвы находятся эти улицы?"
   ]
  },
  {
   "cell_type": "code",
   "execution_count": 51,
   "id": "397c4088",
   "metadata": {},
   "outputs": [],
   "source": [
    "df_street_tail=df_street_top[df_street_top['count']==1]"
   ]
  },
  {
   "cell_type": "code",
   "execution_count": 52,
   "id": "1c2d1bc4",
   "metadata": {},
   "outputs": [
    {
     "name": "stdout",
     "output_type": "stream",
     "text": [
      "число улиц с одним объектом общественного питания: 579\n"
     ]
    }
   ],
   "source": [
    "print('число улиц с одним объектом общественного питания:', df_street_tail['street'].count())"
   ]
  },
  {
   "cell_type": "code",
   "execution_count": 53,
   "id": "64ef507d",
   "metadata": {},
   "outputs": [
    {
     "data": {
      "text/html": [
       "<div>\n",
       "<style scoped>\n",
       "    .dataframe tbody tr th:only-of-type {\n",
       "        vertical-align: middle;\n",
       "    }\n",
       "\n",
       "    .dataframe tbody tr th {\n",
       "        vertical-align: top;\n",
       "    }\n",
       "\n",
       "    .dataframe thead th {\n",
       "        text-align: right;\n",
       "    }\n",
       "</style>\n",
       "<table border=\"1\" class=\"dataframe\">\n",
       "  <thead>\n",
       "    <tr style=\"text-align: right;\">\n",
       "      <th></th>\n",
       "      <th>street</th>\n",
       "      <th>okrug</th>\n",
       "      <th>area</th>\n",
       "    </tr>\n",
       "  </thead>\n",
       "  <tbody>\n",
       "    <tr>\n",
       "      <td>550</td>\n",
       "      <td>Дмитровский переулок</td>\n",
       "      <td>ЦАО</td>\n",
       "      <td>Тверской район</td>\n",
       "    </tr>\n",
       "    <tr>\n",
       "      <td>551</td>\n",
       "      <td>Дивизионная улица</td>\n",
       "      <td>ЗАО</td>\n",
       "      <td>Район Внуково</td>\n",
       "    </tr>\n",
       "    <tr>\n",
       "      <td>552</td>\n",
       "      <td>Яхромская улица</td>\n",
       "      <td>САО</td>\n",
       "      <td>Дмитровский район</td>\n",
       "    </tr>\n",
       "    <tr>\n",
       "      <td>553</td>\n",
       "      <td>Жигулёвская улица</td>\n",
       "      <td>ЮВАО</td>\n",
       "      <td>Район Кузьминки</td>\n",
       "    </tr>\n",
       "    <tr>\n",
       "      <td>554</td>\n",
       "      <td>Живарев переулок</td>\n",
       "      <td>ЦАО</td>\n",
       "      <td>Красносельский район</td>\n",
       "    </tr>\n",
       "    <tr>\n",
       "      <td>555</td>\n",
       "      <td>Есенинский бульвар</td>\n",
       "      <td>ЮВАО</td>\n",
       "      <td>Район Кузьминки</td>\n",
       "    </tr>\n",
       "    <tr>\n",
       "      <td>556</td>\n",
       "      <td>Елоховский проезд</td>\n",
       "      <td>ЦАО</td>\n",
       "      <td>Басманный район</td>\n",
       "    </tr>\n",
       "    <tr>\n",
       "      <td>557</td>\n",
       "      <td>Егорьевский проезд</td>\n",
       "      <td>ЮВАО</td>\n",
       "      <td>Район Люблино</td>\n",
       "    </tr>\n",
       "    <tr>\n",
       "      <td>558</td>\n",
       "      <td>Докучаев переулок</td>\n",
       "      <td>ЦАО</td>\n",
       "      <td>Красносельский район</td>\n",
       "    </tr>\n",
       "    <tr>\n",
       "      <td>559</td>\n",
       "      <td>Гвардейская улица</td>\n",
       "      <td>ЗАО</td>\n",
       "      <td>Можайский Район</td>\n",
       "    </tr>\n",
       "  </tbody>\n",
       "</table>\n",
       "</div>"
      ],
      "text/plain": [
       "                   street okrug                  area\n",
       "550  Дмитровский переулок   ЦАО        Тверской район\n",
       "551     Дивизионная улица   ЗАО         Район Внуково\n",
       "552       Яхромская улица   САО     Дмитровский район\n",
       "553     Жигулёвская улица  ЮВАО       Район Кузьминки\n",
       "554      Живарев переулок   ЦАО  Красносельский район\n",
       "555    Есенинский бульвар  ЮВАО       Район Кузьминки\n",
       "556     Елоховский проезд   ЦАО       Басманный район\n",
       "557    Егорьевский проезд  ЮВАО         Район Люблино\n",
       "558     Докучаев переулок   ЦАО  Красносельский район\n",
       "559     Гвардейская улица   ЗАО       Можайский Район"
      ]
     },
     "execution_count": 53,
     "metadata": {},
     "output_type": "execute_result"
    }
   ],
   "source": [
    "tail_areas=df_street_tail.merge(mosgas, left_on='street', right_on='streetname')\n",
    "tail_areas=tail_areas.drop(columns=['streetname','areaid', 'count'])\n",
    "tail_areas.tail(10)"
   ]
  },
  {
   "cell_type": "code",
   "execution_count": 54,
   "id": "ee582ff5",
   "metadata": {},
   "outputs": [
    {
     "data": {
      "text/html": [
       "<div>\n",
       "<style scoped>\n",
       "    .dataframe tbody tr th:only-of-type {\n",
       "        vertical-align: middle;\n",
       "    }\n",
       "\n",
       "    .dataframe tbody tr th {\n",
       "        vertical-align: top;\n",
       "    }\n",
       "\n",
       "    .dataframe thead th {\n",
       "        text-align: right;\n",
       "    }\n",
       "</style>\n",
       "<table border=\"1\" class=\"dataframe\">\n",
       "  <thead>\n",
       "    <tr style=\"text-align: right;\">\n",
       "      <th></th>\n",
       "      <th></th>\n",
       "      <th>count</th>\n",
       "    </tr>\n",
       "    <tr>\n",
       "      <th>area</th>\n",
       "      <th>okrug</th>\n",
       "      <th></th>\n",
       "    </tr>\n",
       "  </thead>\n",
       "  <tbody>\n",
       "    <tr>\n",
       "      <td>Таганский район</td>\n",
       "      <td>ЦАО</td>\n",
       "      <td>27</td>\n",
       "    </tr>\n",
       "    <tr>\n",
       "      <td>Район Хамовники</td>\n",
       "      <td>ЦАО</td>\n",
       "      <td>26</td>\n",
       "    </tr>\n",
       "    <tr>\n",
       "      <td>Басманный район</td>\n",
       "      <td>ЦАО</td>\n",
       "      <td>25</td>\n",
       "    </tr>\n",
       "    <tr>\n",
       "      <td>Тверской район</td>\n",
       "      <td>ЦАО</td>\n",
       "      <td>20</td>\n",
       "    </tr>\n",
       "    <tr>\n",
       "      <td>Пресненский район</td>\n",
       "      <td>ЦАО</td>\n",
       "      <td>19</td>\n",
       "    </tr>\n",
       "    <tr>\n",
       "      <td>Район Марьина роща</td>\n",
       "      <td>СВАО</td>\n",
       "      <td>18</td>\n",
       "    </tr>\n",
       "    <tr>\n",
       "      <td>Район Арбат</td>\n",
       "      <td>ЦАО</td>\n",
       "      <td>17</td>\n",
       "    </tr>\n",
       "    <tr>\n",
       "      <td>Мещанский район</td>\n",
       "      <td>ЦАО</td>\n",
       "      <td>16</td>\n",
       "    </tr>\n",
       "    <tr>\n",
       "      <td>Район Сокольники</td>\n",
       "      <td>ВАО</td>\n",
       "      <td>15</td>\n",
       "    </tr>\n",
       "    <tr>\n",
       "      <td>Район Замоскворечье</td>\n",
       "      <td>ЦАО</td>\n",
       "      <td>14</td>\n",
       "    </tr>\n",
       "  </tbody>\n",
       "</table>\n",
       "</div>"
      ],
      "text/plain": [
       "                           count\n",
       "area                okrug       \n",
       "Таганский район     ЦАО       27\n",
       "Район Хамовники     ЦАО       26\n",
       "Басманный район     ЦАО       25\n",
       "Тверской район      ЦАО       20\n",
       "Пресненский район   ЦАО       19\n",
       "Район Марьина роща  СВАО      18\n",
       "Район Арбат         ЦАО       17\n",
       "Мещанский район     ЦАО       16\n",
       "Район Сокольники    ВАО       15\n",
       "Район Замоскворечье ЦАО       14"
      ]
     },
     "execution_count": 54,
     "metadata": {},
     "output_type": "execute_result"
    }
   ],
   "source": [
    "tail_areas.groupby(['area', 'okrug'])['area'].agg(['count']).sort_values(by='count',ascending=False).head(10)"
   ]
  },
  {
   "cell_type": "code",
   "execution_count": 55,
   "id": "014610cd",
   "metadata": {},
   "outputs": [
    {
     "data": {
      "text/html": [
       "<div>\n",
       "<style scoped>\n",
       "    .dataframe tbody tr th:only-of-type {\n",
       "        vertical-align: middle;\n",
       "    }\n",
       "\n",
       "    .dataframe tbody tr th {\n",
       "        vertical-align: top;\n",
       "    }\n",
       "\n",
       "    .dataframe thead th {\n",
       "        text-align: right;\n",
       "    }\n",
       "</style>\n",
       "<table border=\"1\" class=\"dataframe\">\n",
       "  <thead>\n",
       "    <tr style=\"text-align: right;\">\n",
       "      <th></th>\n",
       "      <th>count</th>\n",
       "    </tr>\n",
       "    <tr>\n",
       "      <th>okrug</th>\n",
       "      <th></th>\n",
       "    </tr>\n",
       "  </thead>\n",
       "  <tbody>\n",
       "    <tr>\n",
       "      <td>ЦАО</td>\n",
       "      <td>185</td>\n",
       "    </tr>\n",
       "    <tr>\n",
       "      <td>ВАО</td>\n",
       "      <td>72</td>\n",
       "    </tr>\n",
       "    <tr>\n",
       "      <td>СВАО</td>\n",
       "      <td>67</td>\n",
       "    </tr>\n",
       "    <tr>\n",
       "      <td>САО</td>\n",
       "      <td>55</td>\n",
       "    </tr>\n",
       "    <tr>\n",
       "      <td>ЮВАО</td>\n",
       "      <td>55</td>\n",
       "    </tr>\n",
       "    <tr>\n",
       "      <td>ЗАО</td>\n",
       "      <td>41</td>\n",
       "    </tr>\n",
       "    <tr>\n",
       "      <td>ЮАО</td>\n",
       "      <td>30</td>\n",
       "    </tr>\n",
       "    <tr>\n",
       "      <td>СЗАО</td>\n",
       "      <td>27</td>\n",
       "    </tr>\n",
       "    <tr>\n",
       "      <td>ЮЗАО</td>\n",
       "      <td>27</td>\n",
       "    </tr>\n",
       "    <tr>\n",
       "      <td>Зеленоград</td>\n",
       "      <td>1</td>\n",
       "    </tr>\n",
       "  </tbody>\n",
       "</table>\n",
       "</div>"
      ],
      "text/plain": [
       "            count\n",
       "okrug            \n",
       "ЦАО           185\n",
       "ВАО            72\n",
       "СВАО           67\n",
       "САО            55\n",
       "ЮВАО           55\n",
       "ЗАО            41\n",
       "ЮАО            30\n",
       "СЗАО           27\n",
       "ЮЗАО           27\n",
       "Зеленоград      1"
      ]
     },
     "execution_count": 55,
     "metadata": {},
     "output_type": "execute_result"
    }
   ],
   "source": [
    "tail_okrug=tail_areas.groupby('okrug')['okrug'].agg(['count'])\n",
    "tail_okrug.sort_values(by='count',ascending=False)"
   ]
  },
  {
   "cell_type": "markdown",
   "id": "ac8b061e",
   "metadata": {},
   "source": [
    "По нашим данным число улиц с одним объектом общественного питания - 579. В Таганском районе, Хамовниках и Басманном больше всего улиц с одним заведением, они находится в центре и там много коротких улиц и переулков. В списке в основном центральные районы, но есть Марьина роща и Сокольники с Северо-Востока и Востока. Там дело скорее всего в малом количестве заведений."
   ]
  },
  {
   "cell_type": "markdown",
   "id": "218cd004",
   "metadata": {},
   "source": [
    "### Посмотрите на распределение количества посадочных мест для улиц с большим количеством объектов общественного питания. Какие закономерности можно выявить?"
   ]
  },
  {
   "cell_type": "code",
   "execution_count": 56,
   "id": "9e6d456b",
   "metadata": {},
   "outputs": [],
   "source": [
    "df_top_streets_seats=df.query('street in @df_street_top_ten.street')"
   ]
  },
  {
   "cell_type": "code",
   "execution_count": 57,
   "id": "8b7da51a",
   "metadata": {},
   "outputs": [
    {
     "data": {
      "image/png": "[encoded data removed]",
      "text/plain": [
       "<Figure size 432x288 with 1 Axes>"
      ]
     },
     "metadata": {
      "needs_background": "light"
     },
     "output_type": "display_data"
    }
   ],
   "source": [
    "sns.boxplot(x=df_top_streets_seats['number'], y=df_top_streets_seats['street'], palette='Blues_r')\n",
    "plt.title('Распределение количества посадочных мест для топовых улиц')\n",
    "plt.xlabel('количество посадочных мест')\n",
    "plt.ylabel('')\n",
    "plt.show()  "
   ]
  },
  {
   "cell_type": "code",
   "execution_count": 58,
   "id": "f97c8468",
   "metadata": {},
   "outputs": [
    {
     "data": {
      "image/png": "[encoded data removed]",
      "text/plain": [
       "<Figure size 432x288 with 1 Axes>"
      ]
     },
     "metadata": {
      "needs_background": "light"
     },
     "output_type": "display_data"
    }
   ],
   "source": [
    "sns.boxplot(x=df_top_streets_seats['number'], y=df_top_streets_seats['street'], palette='Blues_r',showfliers=False)\n",
    "plt.title('Распределение количества посадочных мест для топовых улиц')\n",
    "plt.xlabel('количество посадочных мест')\n",
    "plt.ylabel('')\n",
    "plt.show()  "
   ]
  },
  {
   "cell_type": "markdown",
   "id": "86c72d80",
   "metadata": {},
   "source": [
    "Распределение количества посадочных мест для улиц с большим количеством объектов показывает, что подавляющее число заведений на этих улицах имеют до 100 мест (есть, конечно, и редкие исключения), а в среднем (медианном) имеют по 25-40 мест. ТО есть большинство заведений на топ-улицах - не слишком большие."
   ]
  },
  {
   "cell_type": "code",
   "execution_count": 59,
   "id": "84b4b367",
   "metadata": {},
   "outputs": [
    {
     "data": {
      "image/png": "[encoded data removed]",
      "text/plain": [
       "<Figure size 432x288 with 1 Axes>"
      ]
     },
     "metadata": {
      "needs_background": "light"
     },
     "output_type": "display_data"
    }
   ],
   "source": [
    "#plt.figure(figsize=(10,8))\n",
    "sns.boxplot(x=df_top_streets_seats['number'], y=df_top_streets_seats['street'],showfliers=False,  palette='Blues_r', hue=df_top_streets_seats['chain'])\n",
    "plt.title('Распределение количества посадочных мест для топовых улиц')\n",
    "plt.xlabel('количество посадочных мест')\n",
    "plt.ylabel('')\n",
    "plt.show()  "
   ]
  },
  {
   "cell_type": "markdown",
   "id": "27ad74c5",
   "metadata": {},
   "source": [
    "Как правило, несетевые заведения имеют больше посадочных мест на этих улицах, однако есть несколько улиц, в которых у сетевых заведений число мест больше - это Каширское шоссе, проспект Мира и Профсоюзная."
   ]
  },
  {
   "cell_type": "markdown",
   "id": "6dd83c53",
   "metadata": {},
   "source": [
    "Построим диаграмму распределения числа посадочных мест для топовых улиц, чтобы попробовать обнаружить и другие закономерности. Добавим параметр типа заведения, обозначив его цветом, а также подчернем вместимость заведения размером точки."
   ]
  },
  {
   "cell_type": "code",
   "execution_count": 60,
   "id": "58f91786",
   "metadata": {},
   "outputs": [],
   "source": [
    "df_top_streets_seats=df_top_streets_seats[df_top_streets_seats['number']<250]"
   ]
  },
  {
   "cell_type": "code",
   "execution_count": 61,
   "id": "be413475",
   "metadata": {},
   "outputs": [
    {
     "data": {
      "image/png": "[encoded data removed]",
      "text/plain": [
       "<Figure size 720x576 with 1 Axes>"
      ]
     },
     "metadata": {
      "needs_background": "light"
     },
     "output_type": "display_data"
    }
   ],
   "source": [
    "plt.figure(figsize=(10,8))\n",
    "sns.scatterplot(data=df_top_streets_seats, x=df_top_streets_seats['number'], y=df_top_streets_seats['street'],alpha=0.5, hue=\"object_type\", size=df_top_streets_seats['number'], sizes=(10, 1000))\n",
    "plt.title('Распределение количества посадочных мест для топовых улиц')\n",
    "plt.ylabel('')\n",
    "plt.xlabel('количество посадочных мест')\n",
    "plt.show()"
   ]
  },
  {
   "cell_type": "code",
   "execution_count": 62,
   "id": "c951ea06",
   "metadata": {},
   "outputs": [
    {
     "data": {
      "image/png": "[encoded data removed]",
      "text/plain": [
       "<Figure size 432x288 with 1 Axes>"
      ]
     },
     "metadata": {
      "needs_background": "light"
     },
     "output_type": "display_data"
    }
   ],
   "source": [
    "#plt.figure(figsize=(10,8))\n",
    "sns.scatterplot(data=df_top_streets_seats, x=df_top_streets_seats['number'], y=df_top_streets_seats['street'],alpha=0.5, hue=\"object_type\")\n",
    "plt.title('Распределение количества посадочных мест для топовых улиц')\n",
    "plt.ylabel('')\n",
    "plt.xlabel('количество посадочных мест')\n",
    "plt.show()"
   ]
  },
  {
   "cell_type": "markdown",
   "id": "dc36f471",
   "metadata": {},
   "source": [
    "Несмотря на то, что график получился довольно пестрый, можно заметить, что заведения с высоким числом посадочных мест на всех топовых улицах - это, как правило, столовые и рестораны. Кафе чаще всего имеют меньше 50 мест."
   ]
  },
  {
   "cell_type": "markdown",
   "id": "22a4bbbb",
   "metadata": {},
   "source": [
    "## Сделайте общий вывод и дайте рекомендации о виде заведения, количестве посадочных мест, а также районе расположения. Прокомментируйте возможность развития сети."
   ]
  },
  {
   "cell_type": "markdown",
   "id": "ed91c9c2",
   "metadata": {},
   "source": [
    "Подведем итоги.\n",
    "Виды объектов по количеству:\n",
    "- Среди объектов общественного питания преобладают кафе, столовые и рестораны. \n",
    "- Меньше всего кулинарий, закусочных и кафетериев.\n",
    "\n",
    "Объекты общественного питания по сетевому распространению:\n",
    "- 80% всех заведений - несетевые\n",
    "- Сетевое распространение больше всего характерно для предприятий быстрого обслуживания (фастфуд), почти половина из них - сети\n",
    "- Треть кулинарий, и около четверти всех ресторанов и кафе также сетевые\n",
    "- Столовые, буфеты и бары практически никогда не сетевые\n",
    "\n",
    "Характеристики сетевых заведений: посадочные места и число заведений: \n",
    "- Половина всех сетевых объектов общественного питания имеет не более 40 мест. \n",
    "- Подавляющее число сетевых заведений (95%), имеет не более 158 посадочных мест. \n",
    "- Как правило в сети немного заведений с небольшим количеством посадочных мест\n",
    "- Есть крупные игроки - сети с очень большим количеством ресторанов, часть которых имеют реально  большую вместимость\n",
    "\n",
    "Объекты общественного питания по среднему количеству посадочных мест:\n",
    "- Самое большое количество посадочных мест у столовых - около 100, их размеры очень сильно варьируются и могут достигать до 400 мест\n",
    "- Рестораны в среднем имеют  80 мест, их размеры довольно варьируются, но никогда не бывают более 200\n",
    "- У баров, буфетов и кафе в среднем по 30 мест. В барах и кафе почти никогда не бывает больше 100 мест. Буфеты же более неоднородны и могут доходить до 175 мест.\n",
    "- Кулинарии и закусочные как правило вообще не имеют посадочных мест\n",
    "\n",
    "Улицы и районы по количеству объектов общественного питания:\n",
    "- Топовые улицы в большинстве своем находятся на юге, юго-западе и западе. Это очень длинные улицы идущие через несколько районов\n",
    "- Большинство топовых районов находятся в Центре , остальные на Юге и Юго-Западе. \n",
    "- На Востоке, Юго-Востоке и Северо-Западе Москвы заведений меньше всего\n",
    "- В центре больше всего улиц с одним заведением\n",
    "\n",
    "Распределение количества посадочных мест для топовых улиц: \n",
    "- Подавляющее число заведений имеют до 100 мест \n",
    "- В среднем заведения небольшие, по 25-40 мест. \n",
    "- Как правило, несетевые заведения имеют больше посадочных мест \n",
    "- заведения с высоким числом посадочных мест - столовые и рестораны. \n",
    "- Кафе чаще всего имеют меньше 50 мест.\n",
    "\n",
    "Рекомендации:\n",
    "- Стоит начать с несетевого заведения и в будущем задуматься о небольшой сети \n",
    "- Наиболее подходящий тип заведения кафе или ресторан\n",
    "- Рекомендуемое количество посадочных мест - 40-80\n",
    "- Расположение На Востоке, Юго-Востоке и Северо-Западе Москвы - там на данный момент меньше всего заведений"
   ]
  },
  {
   "cell_type": "markdown",
   "id": "2eb4cd59",
   "metadata": {},
   "source": [
    "### Шаг №3. Подготовка презентации\n",
    "Подготовьте презентацию исследования для инвесторов. Для создания презентации используйте любой удобный инструмент, но отправить презентацию нужно обязательно в формате pdf. Приложите ссылку на презентацию в markdown-ячейке в формате:\n",
    "Презентация: <ссылка на облачное хранилище с презентацией> "
   ]
  },
  {
   "cell_type": "markdown",
   "id": "bf18ad57",
   "metadata": {},
   "source": [
    "Презентация: <https://drive.google.com/file/d/1bpPC1qC2Gjc_GBNwuN2sxWOTE542aDGV/view?usp=sharing> "
   ]
  }
 ],
 "metadata": {
  "ExecuteTimeLog": [
   {
    "duration": 1445,
    "start_time": "2021-07-22T12:21:49.319Z"
   },
   {
    "duration": 295,
    "start_time": "2021-07-22T12:21:50.767Z"
   },
   {
    "duration": 60,
    "start_time": "2021-07-22T12:21:51.065Z"
   },
   {
    "duration": 8,
    "start_time": "2021-07-22T12:21:51.128Z"
   },
   {
    "duration": 24,
    "start_time": "2021-07-22T12:21:51.139Z"
   },
   {
    "duration": 35,
    "start_time": "2021-07-22T12:21:51.166Z"
   },
   {
    "duration": 23,
    "start_time": "2021-07-22T12:21:51.204Z"
   },
   {
    "duration": 12,
    "start_time": "2021-07-22T12:21:51.233Z"
   },
   {
    "duration": 52,
    "start_time": "2021-07-22T12:21:51.249Z"
   },
   {
    "duration": 23,
    "start_time": "2021-07-22T12:21:51.304Z"
   },
   {
    "duration": 186,
    "start_time": "2021-07-22T12:21:51.330Z"
   },
   {
    "duration": 25,
    "start_time": "2021-07-22T12:21:51.518Z"
   },
   {
    "duration": 335,
    "start_time": "2021-07-22T12:21:51.545Z"
   },
   {
    "duration": 25,
    "start_time": "2021-07-22T12:21:51.882Z"
   },
   {
    "duration": 220,
    "start_time": "2021-07-22T12:21:51.909Z"
   },
   {
    "duration": 22,
    "start_time": "2021-07-22T12:21:52.131Z"
   },
   {
    "duration": 339,
    "start_time": "2021-07-22T12:21:52.155Z"
   },
   {
    "duration": 12,
    "start_time": "2021-07-22T12:21:52.500Z"
   },
   {
    "duration": 7,
    "start_time": "2021-07-22T12:21:52.515Z"
   },
   {
    "duration": 228,
    "start_time": "2021-07-22T12:21:52.524Z"
   },
   {
    "duration": 491,
    "start_time": "2021-07-22T12:21:52.755Z"
   },
   {
    "duration": -28,
    "start_time": "2021-07-22T12:21:53.278Z"
   },
   {
    "duration": -31,
    "start_time": "2021-07-22T12:21:53.282Z"
   },
   {
    "duration": -33,
    "start_time": "2021-07-22T12:21:53.285Z"
   },
   {
    "duration": -35,
    "start_time": "2021-07-22T12:21:53.289Z"
   },
   {
    "duration": -38,
    "start_time": "2021-07-22T12:21:53.293Z"
   },
   {
    "duration": -39,
    "start_time": "2021-07-22T12:21:53.296Z"
   },
   {
    "duration": -42,
    "start_time": "2021-07-22T12:21:53.300Z"
   },
   {
    "duration": -43,
    "start_time": "2021-07-22T12:21:53.303Z"
   },
   {
    "duration": -46,
    "start_time": "2021-07-22T12:21:53.307Z"
   },
   {
    "duration": -63,
    "start_time": "2021-07-22T12:21:53.325Z"
   },
   {
    "duration": -69,
    "start_time": "2021-07-22T12:21:53.333Z"
   },
   {
    "duration": -74,
    "start_time": "2021-07-22T12:21:53.339Z"
   },
   {
    "duration": -76,
    "start_time": "2021-07-22T12:21:53.343Z"
   },
   {
    "duration": -79,
    "start_time": "2021-07-22T12:21:53.347Z"
   },
   {
    "duration": -82,
    "start_time": "2021-07-22T12:21:53.352Z"
   },
   {
    "duration": -84,
    "start_time": "2021-07-22T12:21:53.355Z"
   },
   {
    "duration": -88,
    "start_time": "2021-07-22T12:21:53.360Z"
   },
   {
    "duration": -88,
    "start_time": "2021-07-22T12:21:53.363Z"
   },
   {
    "duration": -92,
    "start_time": "2021-07-22T12:21:53.369Z"
   },
   {
    "duration": -93,
    "start_time": "2021-07-22T12:21:53.372Z"
   },
   {
    "duration": -96,
    "start_time": "2021-07-22T12:21:53.376Z"
   },
   {
    "duration": -97,
    "start_time": "2021-07-22T12:21:53.379Z"
   },
   {
    "duration": -98,
    "start_time": "2021-07-22T12:21:53.382Z"
   },
   {
    "duration": -86,
    "start_time": "2021-07-22T12:21:53.386Z"
   },
   {
    "duration": -89,
    "start_time": "2021-07-22T12:21:53.390Z"
   },
   {
    "duration": -90,
    "start_time": "2021-07-22T12:21:53.393Z"
   },
   {
    "duration": -93,
    "start_time": "2021-07-22T12:21:53.397Z"
   },
   {
    "duration": -94,
    "start_time": "2021-07-22T12:21:53.400Z"
   },
   {
    "duration": -97,
    "start_time": "2021-07-22T12:21:53.404Z"
   },
   {
    "duration": -98,
    "start_time": "2021-07-22T12:21:53.407Z"
   },
   {
    "duration": -100,
    "start_time": "2021-07-22T12:21:53.410Z"
   },
   {
    "duration": 400,
    "start_time": "2021-07-22T12:24:33.932Z"
   },
   {
    "duration": 15,
    "start_time": "2021-07-22T12:24:37.172Z"
   },
   {
    "duration": 6,
    "start_time": "2021-07-22T12:24:37.999Z"
   },
   {
    "duration": 286,
    "start_time": "2021-07-22T12:25:06.789Z"
   },
   {
    "duration": 287,
    "start_time": "2021-07-22T12:25:17.852Z"
   },
   {
    "duration": 268,
    "start_time": "2021-07-22T12:25:28.949Z"
   },
   {
    "duration": 15,
    "start_time": "2021-07-22T12:25:39.508Z"
   },
   {
    "duration": 6,
    "start_time": "2021-07-22T12:25:39.756Z"
   },
   {
    "duration": 21,
    "start_time": "2021-07-22T12:25:40.054Z"
   },
   {
    "duration": 301,
    "start_time": "2021-07-22T12:25:40.660Z"
   },
   {
    "duration": 467,
    "start_time": "2021-07-22T12:25:43.564Z"
   },
   {
    "duration": 19,
    "start_time": "2021-07-22T12:25:49.965Z"
   },
   {
    "duration": 302,
    "start_time": "2021-07-22T12:25:50.837Z"
   },
   {
    "duration": 268,
    "start_time": "2021-07-22T12:25:51.974Z"
   },
   {
    "duration": 460,
    "start_time": "2021-07-22T12:26:01.366Z"
   },
   {
    "duration": 449,
    "start_time": "2021-07-22T12:26:24.204Z"
   },
   {
    "duration": 434,
    "start_time": "2021-07-22T12:26:26.220Z"
   },
   {
    "duration": 4,
    "start_time": "2021-07-22T12:26:27.233Z"
   },
   {
    "duration": 40,
    "start_time": "2021-07-22T12:26:27.696Z"
   },
   {
    "duration": 18,
    "start_time": "2021-07-22T12:26:28.455Z"
   },
   {
    "duration": 26,
    "start_time": "2021-07-22T12:26:30.413Z"
   },
   {
    "duration": 322,
    "start_time": "2021-07-22T12:26:30.870Z"
   },
   {
    "duration": 130,
    "start_time": "2021-07-22T12:26:32.269Z"
   },
   {
    "duration": 778,
    "start_time": "2021-07-22T12:27:01.732Z"
   },
   {
    "duration": 309,
    "start_time": "2021-07-22T12:27:21.613Z"
   },
   {
    "duration": 861,
    "start_time": "2021-07-22T12:27:32.208Z"
   },
   {
    "duration": 22,
    "start_time": "2021-07-22T12:27:37.464Z"
   },
   {
    "duration": 15,
    "start_time": "2021-07-22T12:27:38.892Z"
   },
   {
    "duration": 577,
    "start_time": "2021-07-22T12:32:05.566Z"
   },
   {
    "duration": 336,
    "start_time": "2021-07-22T12:34:01.662Z"
   },
   {
    "duration": 4847,
    "start_time": "2021-07-22T12:34:39.742Z"
   },
   {
    "duration": 298,
    "start_time": "2021-07-22T12:37:05.015Z"
   },
   {
    "duration": 1320,
    "start_time": "2021-07-22T12:37:18.603Z"
   },
   {
    "duration": 3337,
    "start_time": "2021-07-22T12:37:19.926Z"
   },
   {
    "duration": 263,
    "start_time": "2021-07-22T12:37:23.268Z"
   },
   {
    "duration": 75,
    "start_time": "2021-07-22T12:37:23.534Z"
   },
   {
    "duration": 9,
    "start_time": "2021-07-22T12:37:23.612Z"
   },
   {
    "duration": 20,
    "start_time": "2021-07-22T12:37:23.624Z"
   },
   {
    "duration": 10,
    "start_time": "2021-07-22T12:37:23.647Z"
   },
   {
    "duration": 50,
    "start_time": "2021-07-22T12:37:23.662Z"
   },
   {
    "duration": 10,
    "start_time": "2021-07-22T12:37:23.715Z"
   },
   {
    "duration": 24,
    "start_time": "2021-07-22T12:37:23.728Z"
   },
   {
    "duration": 16,
    "start_time": "2021-07-22T12:37:23.755Z"
   },
   {
    "duration": 158,
    "start_time": "2021-07-22T12:37:23.774Z"
   },
   {
    "duration": 19,
    "start_time": "2021-07-22T12:37:23.934Z"
   },
   {
    "duration": 339,
    "start_time": "2021-07-22T12:37:23.956Z"
   },
   {
    "duration": 17,
    "start_time": "2021-07-22T12:37:24.301Z"
   },
   {
    "duration": 240,
    "start_time": "2021-07-22T12:37:24.320Z"
   },
   {
    "duration": 22,
    "start_time": "2021-07-22T12:37:24.563Z"
   },
   {
    "duration": 344,
    "start_time": "2021-07-22T12:37:24.601Z"
   },
   {
    "duration": 13,
    "start_time": "2021-07-22T12:37:24.948Z"
   },
   {
    "duration": 9,
    "start_time": "2021-07-22T12:37:24.964Z"
   },
   {
    "duration": 241,
    "start_time": "2021-07-22T12:37:24.976Z"
   },
   {
    "duration": 723,
    "start_time": "2021-07-22T12:37:25.220Z"
   },
   {
    "duration": 466,
    "start_time": "2021-07-22T12:37:25.949Z"
   },
   {
    "duration": 16,
    "start_time": "2021-07-22T12:37:26.418Z"
   },
   {
    "duration": 8,
    "start_time": "2021-07-22T12:37:26.436Z"
   },
   {
    "duration": 28,
    "start_time": "2021-07-22T12:37:26.447Z"
   },
   {
    "duration": 398,
    "start_time": "2021-07-22T12:37:26.477Z"
   },
   {
    "duration": 492,
    "start_time": "2021-07-22T12:37:26.877Z"
   },
   {
    "duration": 31,
    "start_time": "2021-07-22T12:37:27.372Z"
   },
   {
    "duration": 395,
    "start_time": "2021-07-22T12:37:27.405Z"
   },
   {
    "duration": 478,
    "start_time": "2021-07-22T12:37:27.803Z"
   },
   {
    "duration": 468,
    "start_time": "2021-07-22T12:37:28.284Z"
   },
   {
    "duration": 4,
    "start_time": "2021-07-22T12:37:28.754Z"
   },
   {
    "duration": 53,
    "start_time": "2021-07-22T12:37:28.761Z"
   },
   {
    "duration": 18,
    "start_time": "2021-07-22T12:37:28.816Z"
   },
   {
    "duration": 21,
    "start_time": "2021-07-22T12:37:28.837Z"
   },
   {
    "duration": 379,
    "start_time": "2021-07-22T12:37:28.861Z"
   },
   {
    "duration": 138,
    "start_time": "2021-07-22T12:37:29.242Z"
   },
   {
    "duration": 741,
    "start_time": "2021-07-22T12:37:29.383Z"
   },
   {
    "duration": 22,
    "start_time": "2021-07-22T12:37:30.126Z"
   },
   {
    "duration": 25,
    "start_time": "2021-07-22T12:37:30.151Z"
   },
   {
    "duration": 32,
    "start_time": "2021-07-22T12:37:30.178Z"
   },
   {
    "duration": 12,
    "start_time": "2021-07-22T12:37:30.212Z"
   },
   {
    "duration": 11,
    "start_time": "2021-07-22T12:37:30.226Z"
   },
   {
    "duration": 33,
    "start_time": "2021-07-22T12:37:30.240Z"
   },
   {
    "duration": 28,
    "start_time": "2021-07-22T12:37:30.276Z"
   },
   {
    "duration": 20,
    "start_time": "2021-07-22T12:37:30.306Z"
   },
   {
    "duration": 11,
    "start_time": "2021-07-22T12:37:30.329Z"
   },
   {
    "duration": 546,
    "start_time": "2021-07-22T12:37:30.343Z"
   },
   {
    "duration": 521,
    "start_time": "2021-07-22T12:37:30.892Z"
   },
   {
    "duration": 967,
    "start_time": "2021-07-22T12:37:31.415Z"
   },
   {
    "duration": 489,
    "start_time": "2021-07-22T12:37:32.385Z"
   },
   {
    "duration": 4,
    "start_time": "2021-07-22T12:37:32.876Z"
   },
   {
    "duration": 1170,
    "start_time": "2021-07-22T21:12:59.671Z"
   },
   {
    "duration": 3050,
    "start_time": "2021-07-22T21:13:00.843Z"
   },
   {
    "duration": 160,
    "start_time": "2021-07-22T21:13:03.896Z"
   },
   {
    "duration": 40,
    "start_time": "2021-07-22T21:13:04.058Z"
   },
   {
    "duration": 5,
    "start_time": "2021-07-22T21:13:04.099Z"
   },
   {
    "duration": 12,
    "start_time": "2021-07-22T21:13:04.105Z"
   },
   {
    "duration": 4,
    "start_time": "2021-07-22T21:13:04.119Z"
   },
   {
    "duration": 9,
    "start_time": "2021-07-22T21:13:04.125Z"
   },
   {
    "duration": 8,
    "start_time": "2021-07-22T21:13:04.136Z"
   },
   {
    "duration": 44,
    "start_time": "2021-07-22T21:13:04.145Z"
   },
   {
    "duration": 11,
    "start_time": "2021-07-22T21:13:04.191Z"
   },
   {
    "duration": 92,
    "start_time": "2021-07-22T21:13:04.204Z"
   },
   {
    "duration": 15,
    "start_time": "2021-07-22T21:13:04.297Z"
   },
   {
    "duration": 217,
    "start_time": "2021-07-22T21:13:04.313Z"
   },
   {
    "duration": 11,
    "start_time": "2021-07-22T21:13:04.532Z"
   },
   {
    "duration": 153,
    "start_time": "2021-07-22T21:13:04.545Z"
   },
   {
    "duration": 14,
    "start_time": "2021-07-22T21:13:04.699Z"
   },
   {
    "duration": 220,
    "start_time": "2021-07-22T21:13:04.715Z"
   },
   {
    "duration": 8,
    "start_time": "2021-07-22T21:13:04.937Z"
   },
   {
    "duration": 4,
    "start_time": "2021-07-22T21:13:04.947Z"
   },
   {
    "duration": 159,
    "start_time": "2021-07-22T21:13:04.953Z"
   },
   {
    "duration": 268,
    "start_time": "2021-07-22T21:13:05.113Z"
   },
   {
    "duration": 1034,
    "start_time": "2021-07-22T21:13:04.349Z"
   },
   {
    "duration": 1031,
    "start_time": "2021-07-22T21:13:04.353Z"
   },
   {
    "duration": 1027,
    "start_time": "2021-07-22T21:13:04.358Z"
   },
   {
    "duration": 990,
    "start_time": "2021-07-22T21:13:04.396Z"
   },
   {
    "duration": 987,
    "start_time": "2021-07-22T21:13:04.400Z"
   },
   {
    "duration": 983,
    "start_time": "2021-07-22T21:13:04.405Z"
   },
   {
    "duration": 979,
    "start_time": "2021-07-22T21:13:04.410Z"
   },
   {
    "duration": 974,
    "start_time": "2021-07-22T21:13:04.416Z"
   },
   {
    "duration": 971,
    "start_time": "2021-07-22T21:13:04.420Z"
   },
   {
    "duration": 968,
    "start_time": "2021-07-22T21:13:04.424Z"
   },
   {
    "duration": 965,
    "start_time": "2021-07-22T21:13:04.428Z"
   },
   {
    "duration": 963,
    "start_time": "2021-07-22T21:13:04.431Z"
   },
   {
    "duration": 960,
    "start_time": "2021-07-22T21:13:04.435Z"
   },
   {
    "duration": 956,
    "start_time": "2021-07-22T21:13:04.440Z"
   },
   {
    "duration": 953,
    "start_time": "2021-07-22T21:13:04.444Z"
   },
   {
    "duration": 950,
    "start_time": "2021-07-22T21:13:04.448Z"
   },
   {
    "duration": 948,
    "start_time": "2021-07-22T21:13:04.451Z"
   },
   {
    "duration": 945,
    "start_time": "2021-07-22T21:13:04.455Z"
   },
   {
    "duration": 942,
    "start_time": "2021-07-22T21:13:04.459Z"
   },
   {
    "duration": 899,
    "start_time": "2021-07-22T21:13:04.503Z"
   },
   {
    "duration": 896,
    "start_time": "2021-07-22T21:13:04.507Z"
   },
   {
    "duration": 893,
    "start_time": "2021-07-22T21:13:04.511Z"
   },
   {
    "duration": 890,
    "start_time": "2021-07-22T21:13:04.515Z"
   },
   {
    "duration": 887,
    "start_time": "2021-07-22T21:13:04.519Z"
   },
   {
    "duration": 884,
    "start_time": "2021-07-22T21:13:04.523Z"
   },
   {
    "duration": 880,
    "start_time": "2021-07-22T21:13:04.527Z"
   },
   {
    "duration": 878,
    "start_time": "2021-07-22T21:13:04.530Z"
   },
   {
    "duration": 875,
    "start_time": "2021-07-22T21:13:04.534Z"
   },
   {
    "duration": 872,
    "start_time": "2021-07-22T21:13:04.538Z"
   },
   {
    "duration": 868,
    "start_time": "2021-07-22T21:13:04.543Z"
   },
   {
    "duration": 866,
    "start_time": "2021-07-22T21:13:04.546Z"
   },
   {
    "duration": 31,
    "start_time": "2021-07-22T21:13:57.894Z"
   },
   {
    "duration": 4,
    "start_time": "2021-07-22T21:14:22.656Z"
   },
   {
    "duration": 200,
    "start_time": "2021-07-22T21:15:30.089Z"
   },
   {
    "duration": 2031,
    "start_time": "2021-07-22T21:15:38.720Z"
   },
   {
    "duration": 1090,
    "start_time": "2021-07-22T21:16:00.702Z"
   },
   {
    "duration": 2045,
    "start_time": "2021-07-22T21:16:01.794Z"
   },
   {
    "duration": 159,
    "start_time": "2021-07-22T21:16:03.842Z"
   },
   {
    "duration": 41,
    "start_time": "2021-07-22T21:16:04.003Z"
   },
   {
    "duration": 6,
    "start_time": "2021-07-22T21:16:04.046Z"
   },
   {
    "duration": 40,
    "start_time": "2021-07-22T21:16:04.053Z"
   },
   {
    "duration": 5,
    "start_time": "2021-07-22T21:16:04.095Z"
   },
   {
    "duration": 13,
    "start_time": "2021-07-22T21:16:04.103Z"
   },
   {
    "duration": 12,
    "start_time": "2021-07-22T21:16:04.118Z"
   },
   {
    "duration": 9,
    "start_time": "2021-07-22T21:16:04.132Z"
   },
   {
    "duration": 13,
    "start_time": "2021-07-22T21:16:04.143Z"
   },
   {
    "duration": 95,
    "start_time": "2021-07-22T21:16:04.158Z"
   },
   {
    "duration": 14,
    "start_time": "2021-07-22T21:16:04.254Z"
   },
   {
    "duration": 225,
    "start_time": "2021-07-22T21:16:04.270Z"
   },
   {
    "duration": 11,
    "start_time": "2021-07-22T21:16:04.497Z"
   },
   {
    "duration": 156,
    "start_time": "2021-07-22T21:16:04.510Z"
   },
   {
    "duration": 22,
    "start_time": "2021-07-22T21:16:04.667Z"
   },
   {
    "duration": 210,
    "start_time": "2021-07-22T21:16:04.691Z"
   },
   {
    "duration": 9,
    "start_time": "2021-07-22T21:16:04.903Z"
   },
   {
    "duration": 5,
    "start_time": "2021-07-22T21:16:04.914Z"
   },
   {
    "duration": 156,
    "start_time": "2021-07-22T21:16:04.920Z"
   },
   {
    "duration": 477,
    "start_time": "2021-07-22T21:16:05.078Z"
   },
   {
    "duration": 339,
    "start_time": "2021-07-22T21:16:05.558Z"
   },
   {
    "duration": 11,
    "start_time": "2021-07-22T21:16:05.899Z"
   },
   {
    "duration": 4,
    "start_time": "2021-07-22T21:16:05.911Z"
   },
   {
    "duration": 18,
    "start_time": "2021-07-22T21:16:05.916Z"
   },
   {
    "duration": 255,
    "start_time": "2021-07-22T21:16:05.935Z"
   },
   {
    "duration": 341,
    "start_time": "2021-07-22T21:16:06.191Z"
   },
   {
    "duration": 12,
    "start_time": "2021-07-22T21:16:06.533Z"
   },
   {
    "duration": 283,
    "start_time": "2021-07-22T21:16:06.547Z"
   },
   {
    "duration": 302,
    "start_time": "2021-07-22T21:16:06.832Z"
   },
   {
    "duration": 296,
    "start_time": "2021-07-22T21:16:07.136Z"
   },
   {
    "duration": 2,
    "start_time": "2021-07-22T21:16:07.434Z"
   },
   {
    "duration": 25,
    "start_time": "2021-07-22T21:16:07.438Z"
   },
   {
    "duration": 27,
    "start_time": "2021-07-22T21:16:07.465Z"
   },
   {
    "duration": 15,
    "start_time": "2021-07-22T21:16:07.493Z"
   },
   {
    "duration": 226,
    "start_time": "2021-07-22T21:16:07.510Z"
   },
   {
    "duration": 88,
    "start_time": "2021-07-22T21:16:07.738Z"
   },
   {
    "duration": 1231,
    "start_time": "2021-07-22T21:16:07.827Z"
   },
   {
    "duration": 14,
    "start_time": "2021-07-22T21:16:09.059Z"
   },
   {
    "duration": 10,
    "start_time": "2021-07-22T21:16:09.074Z"
   },
   {
    "duration": 10,
    "start_time": "2021-07-22T21:16:09.085Z"
   },
   {
    "duration": 5,
    "start_time": "2021-07-22T21:16:09.097Z"
   },
   {
    "duration": 7,
    "start_time": "2021-07-22T21:16:09.103Z"
   },
   {
    "duration": 17,
    "start_time": "2021-07-22T21:16:09.112Z"
   },
   {
    "duration": 10,
    "start_time": "2021-07-22T21:16:09.130Z"
   },
   {
    "duration": 10,
    "start_time": "2021-07-22T21:16:09.141Z"
   },
   {
    "duration": 8,
    "start_time": "2021-07-22T21:16:09.185Z"
   },
   {
    "duration": 356,
    "start_time": "2021-07-22T21:16:09.195Z"
   },
   {
    "duration": 326,
    "start_time": "2021-07-22T21:16:09.553Z"
   },
   {
    "duration": 628,
    "start_time": "2021-07-22T21:16:09.884Z"
   },
   {
    "duration": 327,
    "start_time": "2021-07-22T21:16:10.513Z"
   },
   {
    "duration": 2,
    "start_time": "2021-07-22T21:16:10.841Z"
   },
   {
    "duration": 5,
    "start_time": "2021-07-22T21:21:09.463Z"
   },
   {
    "duration": 293,
    "start_time": "2021-07-22T21:21:44.980Z"
   },
   {
    "duration": 313,
    "start_time": "2021-07-22T21:22:02.806Z"
   },
   {
    "duration": 59,
    "start_time": "2021-07-22T21:30:17.735Z"
   },
   {
    "duration": 99,
    "start_time": "2021-07-22T21:30:45.879Z"
   },
   {
    "duration": 302,
    "start_time": "2021-07-22T21:31:01.383Z"
   },
   {
    "duration": 6,
    "start_time": "2021-07-22T21:31:40.120Z"
   },
   {
    "duration": 10,
    "start_time": "2021-07-22T21:31:53.190Z"
   },
   {
    "duration": 10,
    "start_time": "2021-07-22T21:32:22.208Z"
   },
   {
    "duration": 1290,
    "start_time": "2021-07-22T21:32:39.969Z"
   },
   {
    "duration": 9,
    "start_time": "2021-07-22T21:32:56.905Z"
   },
   {
    "duration": 9,
    "start_time": "2021-07-22T21:33:23.919Z"
   },
   {
    "duration": 9,
    "start_time": "2021-07-22T21:33:40.464Z"
   },
   {
    "duration": 58,
    "start_time": "2021-07-22T21:33:55.888Z"
   },
   {
    "duration": 79,
    "start_time": "2021-07-22T21:34:05.271Z"
   },
   {
    "duration": 206,
    "start_time": "2021-07-22T21:34:13.672Z"
   },
   {
    "duration": 62,
    "start_time": "2021-07-22T21:34:27.304Z"
   },
   {
    "duration": 199,
    "start_time": "2021-07-22T21:35:38.472Z"
   },
   {
    "duration": 9,
    "start_time": "2021-07-22T21:36:03.768Z"
   },
   {
    "duration": 9,
    "start_time": "2021-07-22T21:36:19.152Z"
   },
   {
    "duration": 9,
    "start_time": "2021-07-22T21:36:35.370Z"
   },
   {
    "duration": 9,
    "start_time": "2021-07-22T21:36:45.528Z"
   },
   {
    "duration": 188,
    "start_time": "2021-07-22T21:37:11.721Z"
   },
   {
    "duration": 187,
    "start_time": "2021-07-22T21:37:22.218Z"
   },
   {
    "duration": 263,
    "start_time": "2021-07-22T21:38:01.672Z"
   },
   {
    "duration": 84,
    "start_time": "2021-07-22T21:40:30.453Z"
   },
   {
    "duration": 180,
    "start_time": "2021-07-22T21:40:55.230Z"
   },
   {
    "duration": 61,
    "start_time": "2021-07-22T21:41:58.050Z"
   },
   {
    "duration": 69,
    "start_time": "2021-07-22T21:42:06.338Z"
   },
   {
    "duration": 63,
    "start_time": "2021-07-22T21:42:44.905Z"
   },
   {
    "duration": 9,
    "start_time": "2021-07-22T21:43:25.673Z"
   },
   {
    "duration": 60,
    "start_time": "2021-07-22T21:44:12.210Z"
   },
   {
    "duration": 60,
    "start_time": "2021-07-22T21:44:28.945Z"
   },
   {
    "duration": 72,
    "start_time": "2021-07-22T21:44:44.961Z"
   },
   {
    "duration": 190,
    "start_time": "2021-07-22T21:47:37.114Z"
   },
   {
    "duration": 185,
    "start_time": "2021-07-22T21:47:58.443Z"
   },
   {
    "duration": 15,
    "start_time": "2021-07-22T21:49:57.612Z"
   },
   {
    "duration": 11,
    "start_time": "2021-07-22T21:50:21.884Z"
   },
   {
    "duration": 12,
    "start_time": "2021-07-22T21:51:06.619Z"
   },
   {
    "duration": 10,
    "start_time": "2021-07-22T21:51:16.980Z"
   },
   {
    "duration": 9,
    "start_time": "2021-07-22T21:51:38.827Z"
   },
   {
    "duration": 219,
    "start_time": "2021-07-22T21:51:42.274Z"
   },
   {
    "duration": 3,
    "start_time": "2021-07-22T21:52:59.756Z"
   },
   {
    "duration": 3,
    "start_time": "2021-07-22T21:53:22.571Z"
   },
   {
    "duration": 1079,
    "start_time": "2021-07-22T21:53:27.052Z"
   },
   {
    "duration": 788,
    "start_time": "2021-07-22T21:53:35.748Z"
   },
   {
    "duration": 14,
    "start_time": "2021-07-22T21:53:39.708Z"
   },
   {
    "duration": 10,
    "start_time": "2021-07-22T21:53:43.660Z"
   },
   {
    "duration": 9,
    "start_time": "2021-07-22T21:54:03.755Z"
   },
   {
    "duration": 16,
    "start_time": "2021-07-22T21:58:11.245Z"
   },
   {
    "duration": 15,
    "start_time": "2021-07-22T21:58:25.126Z"
   },
   {
    "duration": 10,
    "start_time": "2021-07-22T22:00:24.693Z"
   },
   {
    "duration": 10,
    "start_time": "2021-07-22T22:02:33.365Z"
   },
   {
    "duration": 36,
    "start_time": "2021-07-22T22:13:31.127Z"
   },
   {
    "duration": 35,
    "start_time": "2021-07-22T22:13:47.688Z"
   },
   {
    "duration": 46,
    "start_time": "2021-07-22T22:16:34.497Z"
   },
   {
    "duration": 36,
    "start_time": "2021-07-22T22:19:33.298Z"
   },
   {
    "duration": 36,
    "start_time": "2021-07-22T22:20:40.027Z"
   },
   {
    "duration": 41,
    "start_time": "2021-07-22T22:20:53.223Z"
   },
   {
    "duration": 36,
    "start_time": "2021-07-22T22:21:00.970Z"
   },
   {
    "duration": 12,
    "start_time": "2021-07-22T22:22:51.233Z"
   },
   {
    "duration": 13,
    "start_time": "2021-07-22T22:23:00.930Z"
   },
   {
    "duration": 451,
    "start_time": "2021-07-22T22:26:30.986Z"
   },
   {
    "duration": 31,
    "start_time": "2021-07-22T22:26:58.490Z"
   },
   {
    "duration": 38,
    "start_time": "2021-07-22T22:27:01.252Z"
   },
   {
    "duration": 45,
    "start_time": "2021-07-22T22:29:21.795Z"
   },
   {
    "duration": 17,
    "start_time": "2021-07-22T22:29:34.019Z"
   },
   {
    "duration": 37,
    "start_time": "2021-07-22T22:29:45.819Z"
   },
   {
    "duration": 34,
    "start_time": "2021-07-22T22:29:52.610Z"
   },
   {
    "duration": 18,
    "start_time": "2021-07-22T22:29:53.314Z"
   },
   {
    "duration": 34,
    "start_time": "2021-07-22T22:30:01.002Z"
   },
   {
    "duration": 225,
    "start_time": "2021-07-22T22:31:41.348Z"
   },
   {
    "duration": 216,
    "start_time": "2021-07-22T22:31:54.619Z"
   },
   {
    "duration": 229,
    "start_time": "2021-07-22T22:32:47.212Z"
   },
   {
    "duration": 223,
    "start_time": "2021-07-22T22:33:07.683Z"
   },
   {
    "duration": 233,
    "start_time": "2021-07-22T22:33:24.141Z"
   },
   {
    "duration": 220,
    "start_time": "2021-07-22T22:33:42.102Z"
   },
   {
    "duration": 238,
    "start_time": "2021-07-22T22:34:02.209Z"
   },
   {
    "duration": 35,
    "start_time": "2021-07-22T22:34:50.910Z"
   },
   {
    "duration": 32,
    "start_time": "2021-07-22T22:36:13.636Z"
   },
   {
    "duration": 17,
    "start_time": "2021-07-22T22:36:14.772Z"
   },
   {
    "duration": 11,
    "start_time": "2021-07-22T22:37:32.005Z"
   },
   {
    "duration": 200,
    "start_time": "2021-07-22T22:37:54.908Z"
   },
   {
    "duration": 16,
    "start_time": "2021-07-22T22:38:01.005Z"
   },
   {
    "duration": 35,
    "start_time": "2021-07-22T22:42:13.974Z"
   },
   {
    "duration": 17,
    "start_time": "2021-07-22T22:42:14.710Z"
   },
   {
    "duration": 10,
    "start_time": "2021-07-22T22:43:05.494Z"
   },
   {
    "duration": 10,
    "start_time": "2021-07-22T22:43:17.661Z"
   },
   {
    "duration": 16,
    "start_time": "2021-07-22T22:43:18.189Z"
   },
   {
    "duration": 35,
    "start_time": "2021-07-22T22:44:20.950Z"
   },
   {
    "duration": 18,
    "start_time": "2021-07-22T22:44:23.326Z"
   },
   {
    "duration": 39,
    "start_time": "2021-07-22T22:49:16.390Z"
   },
   {
    "duration": 18,
    "start_time": "2021-07-22T22:49:17.254Z"
   },
   {
    "duration": 39,
    "start_time": "2021-07-22T22:51:17.289Z"
   },
   {
    "duration": 76,
    "start_time": "2021-07-22T22:51:18.830Z"
   },
   {
    "duration": 36,
    "start_time": "2021-07-22T22:51:44.007Z"
   },
   {
    "duration": 77,
    "start_time": "2021-07-22T22:51:44.658Z"
   },
   {
    "duration": 179,
    "start_time": "2021-07-22T22:51:59.266Z"
   },
   {
    "duration": 41,
    "start_time": "2021-07-22T22:52:28.596Z"
   },
   {
    "duration": 16,
    "start_time": "2021-07-22T22:52:52.152Z"
   },
   {
    "duration": 16,
    "start_time": "2021-07-22T22:53:54.113Z"
   },
   {
    "duration": 34,
    "start_time": "2021-07-22T22:54:15.744Z"
   },
   {
    "duration": 19,
    "start_time": "2021-07-22T22:57:21.089Z"
   },
   {
    "duration": 4,
    "start_time": "2021-07-22T23:04:17.369Z"
   },
   {
    "duration": 4,
    "start_time": "2021-07-22T23:04:17.857Z"
   },
   {
    "duration": 15,
    "start_time": "2021-07-22T23:04:18.826Z"
   },
   {
    "duration": 13,
    "start_time": "2021-07-22T23:04:27.990Z"
   },
   {
    "duration": 10,
    "start_time": "2021-07-22T23:08:56.603Z"
   },
   {
    "duration": 13,
    "start_time": "2021-07-22T23:09:23.483Z"
   },
   {
    "duration": 17,
    "start_time": "2021-07-22T23:09:44.943Z"
   },
   {
    "duration": 13,
    "start_time": "2021-07-22T23:10:31.525Z"
   },
   {
    "duration": 13,
    "start_time": "2021-07-22T23:11:14.165Z"
   },
   {
    "duration": 15,
    "start_time": "2021-07-22T23:11:14.804Z"
   },
   {
    "duration": 10,
    "start_time": "2021-07-22T23:11:15.555Z"
   },
   {
    "duration": 12,
    "start_time": "2021-07-22T23:11:47.019Z"
   },
   {
    "duration": 13,
    "start_time": "2021-07-22T23:11:54.116Z"
   },
   {
    "duration": 9,
    "start_time": "2021-07-22T23:12:25.982Z"
   },
   {
    "duration": 13,
    "start_time": "2021-07-22T23:12:27.804Z"
   },
   {
    "duration": 7,
    "start_time": "2021-07-22T23:20:31.069Z"
   },
   {
    "duration": 422,
    "start_time": "2021-07-22T23:20:31.910Z"
   },
   {
    "duration": 14,
    "start_time": "2021-07-22T23:20:38.694Z"
   },
   {
    "duration": 201,
    "start_time": "2021-07-22T23:21:23.262Z"
   },
   {
    "duration": 10078,
    "start_time": "2021-07-22T23:21:38.534Z"
   },
   {
    "duration": 75136,
    "start_time": "2021-07-22T23:22:22.343Z"
   },
   {
    "duration": 311,
    "start_time": "2021-07-22T23:24:50.168Z"
   },
   {
    "duration": 5,
    "start_time": "2021-07-22T23:25:47.449Z"
   },
   {
    "duration": 6,
    "start_time": "2021-07-22T23:28:37.232Z"
   },
   {
    "duration": 1049,
    "start_time": "2021-07-22T23:28:40.273Z"
   },
   {
    "duration": 302,
    "start_time": "2021-07-22T23:28:41.632Z"
   },
   {
    "duration": 504,
    "start_time": "2021-07-22T23:28:42.896Z"
   },
   {
    "duration": 465,
    "start_time": "2021-07-22T23:41:19.900Z"
   },
   {
    "duration": 14,
    "start_time": "2021-07-22T23:41:52.020Z"
   },
   {
    "duration": 387,
    "start_time": "2021-07-22T23:42:21.666Z"
   },
   {
    "duration": 348,
    "start_time": "2021-07-22T23:42:39.362Z"
   },
   {
    "duration": 300,
    "start_time": "2021-07-22T23:42:55.034Z"
   },
   {
    "duration": 313,
    "start_time": "2021-07-22T23:43:20.125Z"
   },
   {
    "duration": 433,
    "start_time": "2021-07-22T23:43:32.277Z"
   },
   {
    "duration": 374,
    "start_time": "2021-07-22T23:43:47.179Z"
   },
   {
    "duration": 340,
    "start_time": "2021-07-22T23:44:57.459Z"
   },
   {
    "duration": 4,
    "start_time": "2021-07-22T23:45:43.220Z"
   },
   {
    "duration": 5,
    "start_time": "2021-07-22T23:46:20.036Z"
   },
   {
    "duration": 184,
    "start_time": "2021-07-22T23:46:52.963Z"
   },
   {
    "duration": 205,
    "start_time": "2021-07-22T23:47:03.931Z"
   },
   {
    "duration": 188,
    "start_time": "2021-07-22T23:47:14.320Z"
   },
   {
    "duration": 10,
    "start_time": "2021-07-22T23:48:01.221Z"
   },
   {
    "duration": 11,
    "start_time": "2021-07-22T23:48:19.236Z"
   },
   {
    "duration": 17,
    "start_time": "2021-07-22T23:50:14.220Z"
   },
   {
    "duration": 474,
    "start_time": "2021-07-22T23:51:24.261Z"
   },
   {
    "duration": 12,
    "start_time": "2021-07-23T00:02:01.309Z"
   },
   {
    "duration": 15,
    "start_time": "2021-07-23T00:30:08.798Z"
   },
   {
    "duration": 62,
    "start_time": "2021-07-23T00:31:57.638Z"
   },
   {
    "duration": 208,
    "start_time": "2021-07-23T00:32:12.861Z"
   },
   {
    "duration": 304,
    "start_time": "2021-07-23T00:32:39.112Z"
   },
   {
    "duration": 459,
    "start_time": "2021-07-23T00:33:40.646Z"
   },
   {
    "duration": 469,
    "start_time": "2021-07-23T00:34:06.374Z"
   },
   {
    "duration": 486,
    "start_time": "2021-07-23T00:34:49.039Z"
   },
   {
    "duration": 5,
    "start_time": "2021-07-23T00:35:50.780Z"
   },
   {
    "duration": 473,
    "start_time": "2021-07-23T00:35:52.214Z"
   },
   {
    "duration": 487,
    "start_time": "2021-07-23T00:37:01.695Z"
   },
   {
    "duration": 458,
    "start_time": "2021-07-23T00:37:47.526Z"
   },
   {
    "duration": 672,
    "start_time": "2021-07-23T00:38:06.566Z"
   },
   {
    "duration": 567,
    "start_time": "2021-07-23T00:38:41.079Z"
   },
   {
    "duration": 557,
    "start_time": "2021-07-23T00:38:50.591Z"
   },
   {
    "duration": 529,
    "start_time": "2021-07-23T00:40:11.511Z"
   },
   {
    "duration": 548,
    "start_time": "2021-07-23T00:40:17.334Z"
   },
   {
    "duration": 665,
    "start_time": "2021-07-23T00:40:44.855Z"
   },
   {
    "duration": 551,
    "start_time": "2021-07-23T00:41:06.055Z"
   },
   {
    "duration": 666,
    "start_time": "2021-07-23T00:41:49.552Z"
   },
   {
    "duration": 641,
    "start_time": "2021-07-23T00:43:13.856Z"
   },
   {
    "duration": 476,
    "start_time": "2021-07-23T00:45:15.633Z"
   },
   {
    "duration": 492,
    "start_time": "2021-07-23T00:47:29.689Z"
   },
   {
    "duration": 576,
    "start_time": "2021-07-23T00:49:30.313Z"
   },
   {
    "duration": 586,
    "start_time": "2021-07-23T00:49:42.722Z"
   },
   {
    "duration": 489,
    "start_time": "2021-07-23T00:52:22.915Z"
   },
   {
    "duration": 630,
    "start_time": "2021-07-23T01:00:37.051Z"
   },
   {
    "duration": 1068,
    "start_time": "2021-07-23T01:27:33.116Z"
   },
   {
    "duration": 2029,
    "start_time": "2021-07-23T01:27:34.186Z"
   },
   {
    "duration": 169,
    "start_time": "2021-07-23T01:27:36.218Z"
   },
   {
    "duration": 37,
    "start_time": "2021-07-23T01:27:36.389Z"
   },
   {
    "duration": 5,
    "start_time": "2021-07-23T01:27:36.427Z"
   },
   {
    "duration": 27,
    "start_time": "2021-07-23T01:27:36.433Z"
   },
   {
    "duration": 17,
    "start_time": "2021-07-23T01:27:36.461Z"
   },
   {
    "duration": 37,
    "start_time": "2021-07-23T01:27:36.480Z"
   },
   {
    "duration": 24,
    "start_time": "2021-07-23T01:27:36.519Z"
   },
   {
    "duration": 26,
    "start_time": "2021-07-23T01:27:36.544Z"
   },
   {
    "duration": 17,
    "start_time": "2021-07-23T01:27:36.572Z"
   },
   {
    "duration": 85,
    "start_time": "2021-07-23T01:27:36.591Z"
   },
   {
    "duration": 13,
    "start_time": "2021-07-23T01:27:36.677Z"
   },
   {
    "duration": 206,
    "start_time": "2021-07-23T01:27:36.692Z"
   },
   {
    "duration": 11,
    "start_time": "2021-07-23T01:27:36.899Z"
   },
   {
    "duration": 151,
    "start_time": "2021-07-23T01:27:36.912Z"
   },
   {
    "duration": 21,
    "start_time": "2021-07-23T01:27:37.064Z"
   },
   {
    "duration": 205,
    "start_time": "2021-07-23T01:27:37.087Z"
   },
   {
    "duration": 8,
    "start_time": "2021-07-23T01:27:37.294Z"
   },
   {
    "duration": 13,
    "start_time": "2021-07-23T01:27:37.304Z"
   },
   {
    "duration": 144,
    "start_time": "2021-07-23T01:27:37.318Z"
   },
   {
    "duration": 484,
    "start_time": "2021-07-23T01:27:37.463Z"
   },
   {
    "duration": 400,
    "start_time": "2021-07-23T01:27:37.951Z"
   },
   {
    "duration": 11,
    "start_time": "2021-07-23T01:27:38.353Z"
   },
   {
    "duration": 20,
    "start_time": "2021-07-23T01:27:38.365Z"
   },
   {
    "duration": 30,
    "start_time": "2021-07-23T01:27:38.386Z"
   },
   {
    "duration": 234,
    "start_time": "2021-07-23T01:27:38.418Z"
   },
   {
    "duration": 357,
    "start_time": "2021-07-23T01:27:38.654Z"
   },
   {
    "duration": 12,
    "start_time": "2021-07-23T01:27:39.012Z"
   },
   {
    "duration": 207,
    "start_time": "2021-07-23T01:27:39.025Z"
   },
   {
    "duration": 307,
    "start_time": "2021-07-23T01:27:39.233Z"
   },
   {
    "duration": 293,
    "start_time": "2021-07-23T01:27:39.541Z"
   },
   {
    "duration": 3,
    "start_time": "2021-07-23T01:27:39.835Z"
   },
   {
    "duration": 29,
    "start_time": "2021-07-23T01:27:39.839Z"
   },
   {
    "duration": 20,
    "start_time": "2021-07-23T01:27:39.869Z"
   },
   {
    "duration": 16,
    "start_time": "2021-07-23T01:27:39.890Z"
   },
   {
    "duration": 10,
    "start_time": "2021-07-23T01:27:39.907Z"
   },
   {
    "duration": 249,
    "start_time": "2021-07-23T01:27:39.918Z"
   },
   {
    "duration": 1078,
    "start_time": "2021-07-23T01:27:40.169Z"
   },
   {
    "duration": 13,
    "start_time": "2021-07-23T01:27:41.249Z"
   },
   {
    "duration": 8,
    "start_time": "2021-07-23T01:27:41.264Z"
   },
   {
    "duration": 10,
    "start_time": "2021-07-23T01:27:41.274Z"
   },
   {
    "duration": 39,
    "start_time": "2021-07-23T01:27:41.286Z"
   },
   {
    "duration": 284,
    "start_time": "2021-07-23T01:27:41.327Z"
   },
   {
    "duration": 1184,
    "start_time": "2021-07-23T01:27:40.428Z"
   },
   {
    "duration": 1179,
    "start_time": "2021-07-23T01:27:40.434Z"
   },
   {
    "duration": 1175,
    "start_time": "2021-07-23T01:27:40.439Z"
   },
   {
    "duration": 1173,
    "start_time": "2021-07-23T01:27:40.443Z"
   },
   {
    "duration": 1168,
    "start_time": "2021-07-23T01:27:40.448Z"
   },
   {
    "duration": 1164,
    "start_time": "2021-07-23T01:27:40.453Z"
   },
   {
    "duration": 1161,
    "start_time": "2021-07-23T01:27:40.457Z"
   },
   {
    "duration": 1158,
    "start_time": "2021-07-23T01:27:40.461Z"
   },
   {
    "duration": 1154,
    "start_time": "2021-07-23T01:27:40.466Z"
   },
   {
    "duration": 1151,
    "start_time": "2021-07-23T01:27:40.470Z"
   },
   {
    "duration": 1148,
    "start_time": "2021-07-23T01:27:40.474Z"
   },
   {
    "duration": 1144,
    "start_time": "2021-07-23T01:27:40.479Z"
   },
   {
    "duration": 1141,
    "start_time": "2021-07-23T01:27:40.483Z"
   },
   {
    "duration": 1138,
    "start_time": "2021-07-23T01:27:40.487Z"
   },
   {
    "duration": 294,
    "start_time": "2021-07-23T01:29:29.704Z"
   },
   {
    "duration": 18,
    "start_time": "2021-07-23T01:29:31.439Z"
   },
   {
    "duration": 14,
    "start_time": "2021-07-23T01:29:31.982Z"
   },
   {
    "duration": 17,
    "start_time": "2021-07-23T01:29:32.735Z"
   },
   {
    "duration": 6,
    "start_time": "2021-07-23T01:29:34.230Z"
   },
   {
    "duration": 4,
    "start_time": "2021-07-23T01:29:34.719Z"
   },
   {
    "duration": 15,
    "start_time": "2021-07-23T01:29:35.302Z"
   },
   {
    "duration": 12,
    "start_time": "2021-07-23T01:29:35.767Z"
   },
   {
    "duration": 10,
    "start_time": "2021-07-23T01:29:36.344Z"
   },
   {
    "duration": 8,
    "start_time": "2021-07-23T01:29:37.855Z"
   },
   {
    "duration": 419,
    "start_time": "2021-07-23T01:29:38.302Z"
   },
   {
    "duration": 302,
    "start_time": "2021-07-23T01:29:38.790Z"
   },
   {
    "duration": 457,
    "start_time": "2021-07-23T01:29:40.110Z"
   },
   {
    "duration": 5,
    "start_time": "2021-07-23T01:29:47.823Z"
   },
   {
    "duration": 630,
    "start_time": "2021-07-23T01:29:48.415Z"
   },
   {
    "duration": 317,
    "start_time": "2021-07-23T01:31:51.032Z"
   },
   {
    "duration": 302,
    "start_time": "2021-07-23T01:31:52.160Z"
   },
   {
    "duration": 556,
    "start_time": "2021-07-23T01:32:51.882Z"
   },
   {
    "duration": 620,
    "start_time": "2021-07-23T01:33:09.169Z"
   },
   {
    "duration": 624,
    "start_time": "2021-07-23T01:33:21.081Z"
   },
   {
    "duration": 1163,
    "start_time": "2021-07-23T01:35:14.170Z"
   },
   {
    "duration": 2016,
    "start_time": "2021-07-23T01:35:15.335Z"
   },
   {
    "duration": 187,
    "start_time": "2021-07-23T01:35:17.353Z"
   },
   {
    "duration": 38,
    "start_time": "2021-07-23T01:35:17.542Z"
   },
   {
    "duration": 4,
    "start_time": "2021-07-23T01:35:17.582Z"
   },
   {
    "duration": 13,
    "start_time": "2021-07-23T01:35:17.587Z"
   },
   {
    "duration": 4,
    "start_time": "2021-07-23T01:35:17.601Z"
   },
   {
    "duration": 10,
    "start_time": "2021-07-23T01:35:17.608Z"
   },
   {
    "duration": 9,
    "start_time": "2021-07-23T01:35:17.620Z"
   },
   {
    "duration": 9,
    "start_time": "2021-07-23T01:35:17.630Z"
   },
   {
    "duration": 9,
    "start_time": "2021-07-23T01:35:17.641Z"
   },
   {
    "duration": 107,
    "start_time": "2021-07-23T01:35:17.652Z"
   },
   {
    "duration": 26,
    "start_time": "2021-07-23T01:35:17.761Z"
   },
   {
    "duration": 212,
    "start_time": "2021-07-23T01:35:17.788Z"
   },
   {
    "duration": 12,
    "start_time": "2021-07-23T01:35:18.001Z"
   },
   {
    "duration": 161,
    "start_time": "2021-07-23T01:35:18.014Z"
   },
   {
    "duration": 20,
    "start_time": "2021-07-23T01:35:18.177Z"
   },
   {
    "duration": 213,
    "start_time": "2021-07-23T01:35:18.199Z"
   },
   {
    "duration": 9,
    "start_time": "2021-07-23T01:35:18.413Z"
   },
   {
    "duration": 5,
    "start_time": "2021-07-23T01:35:18.423Z"
   },
   {
    "duration": 146,
    "start_time": "2021-07-23T01:35:18.430Z"
   },
   {
    "duration": 467,
    "start_time": "2021-07-23T01:35:18.578Z"
   },
   {
    "duration": 371,
    "start_time": "2021-07-23T01:35:19.049Z"
   },
   {
    "duration": 12,
    "start_time": "2021-07-23T01:35:19.422Z"
   },
   {
    "duration": 4,
    "start_time": "2021-07-23T01:35:19.436Z"
   },
   {
    "duration": 15,
    "start_time": "2021-07-23T01:35:19.442Z"
   },
   {
    "duration": 261,
    "start_time": "2021-07-23T01:35:19.459Z"
   },
   {
    "duration": 318,
    "start_time": "2021-07-23T01:35:19.722Z"
   },
   {
    "duration": 13,
    "start_time": "2021-07-23T01:35:20.042Z"
   },
   {
    "duration": 196,
    "start_time": "2021-07-23T01:35:20.056Z"
   },
   {
    "duration": 302,
    "start_time": "2021-07-23T01:35:20.253Z"
   },
   {
    "duration": 303,
    "start_time": "2021-07-23T01:35:20.557Z"
   },
   {
    "duration": 2,
    "start_time": "2021-07-23T01:35:20.862Z"
   },
   {
    "duration": 34,
    "start_time": "2021-07-23T01:35:20.866Z"
   },
   {
    "duration": 13,
    "start_time": "2021-07-23T01:35:20.902Z"
   },
   {
    "duration": 16,
    "start_time": "2021-07-23T01:35:20.916Z"
   },
   {
    "duration": 10,
    "start_time": "2021-07-23T01:35:20.933Z"
   },
   {
    "duration": 267,
    "start_time": "2021-07-23T01:35:20.945Z"
   },
   {
    "duration": 1074,
    "start_time": "2021-07-23T01:35:21.213Z"
   },
   {
    "duration": 13,
    "start_time": "2021-07-23T01:35:22.289Z"
   },
   {
    "duration": 11,
    "start_time": "2021-07-23T01:35:22.304Z"
   },
   {
    "duration": 8,
    "start_time": "2021-07-23T01:35:22.317Z"
   },
   {
    "duration": 64,
    "start_time": "2021-07-23T01:35:22.327Z"
   },
   {
    "duration": 283,
    "start_time": "2021-07-23T01:35:22.392Z"
   },
   {
    "duration": 19,
    "start_time": "2021-07-23T01:35:22.677Z"
   },
   {
    "duration": 14,
    "start_time": "2021-07-23T01:35:22.698Z"
   },
   {
    "duration": 16,
    "start_time": "2021-07-23T01:35:22.714Z"
   },
   {
    "duration": 4,
    "start_time": "2021-07-23T01:35:22.731Z"
   },
   {
    "duration": 8,
    "start_time": "2021-07-23T01:35:22.736Z"
   },
   {
    "duration": 40,
    "start_time": "2021-07-23T01:35:22.746Z"
   },
   {
    "duration": 12,
    "start_time": "2021-07-23T01:35:22.787Z"
   },
   {
    "duration": 8,
    "start_time": "2021-07-23T01:35:22.801Z"
   },
   {
    "duration": 9,
    "start_time": "2021-07-23T01:35:22.810Z"
   },
   {
    "duration": 466,
    "start_time": "2021-07-23T01:35:22.821Z"
   },
   {
    "duration": 320,
    "start_time": "2021-07-23T01:35:23.289Z"
   },
   {
    "duration": 484,
    "start_time": "2021-07-23T01:35:23.611Z"
   },
   {
    "duration": 5,
    "start_time": "2021-07-23T01:35:24.097Z"
   },
   {
    "duration": 690,
    "start_time": "2021-07-23T01:35:24.104Z"
   },
   {
    "duration": 1054,
    "start_time": "2021-07-23T08:53:48.114Z"
   },
   {
    "duration": 2387,
    "start_time": "2021-07-23T08:53:49.170Z"
   },
   {
    "duration": 182,
    "start_time": "2021-07-23T08:53:51.560Z"
   },
   {
    "duration": 40,
    "start_time": "2021-07-23T08:53:51.744Z"
   },
   {
    "duration": 5,
    "start_time": "2021-07-23T08:53:51.785Z"
   },
   {
    "duration": 18,
    "start_time": "2021-07-23T08:53:51.791Z"
   },
   {
    "duration": 15,
    "start_time": "2021-07-23T08:53:51.810Z"
   },
   {
    "duration": 20,
    "start_time": "2021-07-23T08:53:51.826Z"
   },
   {
    "duration": 13,
    "start_time": "2021-07-23T08:53:51.849Z"
   },
   {
    "duration": 10,
    "start_time": "2021-07-23T08:53:51.864Z"
   },
   {
    "duration": 16,
    "start_time": "2021-07-23T08:53:51.876Z"
   },
   {
    "duration": 77,
    "start_time": "2021-07-23T08:53:51.893Z"
   },
   {
    "duration": 13,
    "start_time": "2021-07-23T08:53:51.971Z"
   },
   {
    "duration": 196,
    "start_time": "2021-07-23T08:53:51.985Z"
   },
   {
    "duration": 18,
    "start_time": "2021-07-23T08:53:52.182Z"
   },
   {
    "duration": 139,
    "start_time": "2021-07-23T08:53:52.202Z"
   },
   {
    "duration": 14,
    "start_time": "2021-07-23T08:53:52.343Z"
   },
   {
    "duration": 192,
    "start_time": "2021-07-23T08:53:52.358Z"
   },
   {
    "duration": 8,
    "start_time": "2021-07-23T08:53:52.551Z"
   },
   {
    "duration": 8,
    "start_time": "2021-07-23T08:53:52.560Z"
   },
   {
    "duration": 132,
    "start_time": "2021-07-23T08:53:52.569Z"
   },
   {
    "duration": 429,
    "start_time": "2021-07-23T08:53:52.703Z"
   },
   {
    "duration": 350,
    "start_time": "2021-07-23T08:53:53.134Z"
   },
   {
    "duration": 15,
    "start_time": "2021-07-23T08:53:53.485Z"
   },
   {
    "duration": 5,
    "start_time": "2021-07-23T08:53:53.501Z"
   },
   {
    "duration": 24,
    "start_time": "2021-07-23T08:53:53.507Z"
   },
   {
    "duration": 202,
    "start_time": "2021-07-23T08:53:53.535Z"
   },
   {
    "duration": 326,
    "start_time": "2021-07-23T08:53:53.739Z"
   },
   {
    "duration": 11,
    "start_time": "2021-07-23T08:53:54.068Z"
   },
   {
    "duration": 177,
    "start_time": "2021-07-23T08:53:54.091Z"
   },
   {
    "duration": 275,
    "start_time": "2021-07-23T08:53:54.270Z"
   },
   {
    "duration": 258,
    "start_time": "2021-07-23T08:53:54.547Z"
   },
   {
    "duration": 3,
    "start_time": "2021-07-23T08:53:54.808Z"
   },
   {
    "duration": 35,
    "start_time": "2021-07-23T08:53:54.813Z"
   },
   {
    "duration": 15,
    "start_time": "2021-07-23T08:53:54.850Z"
   },
   {
    "duration": 35,
    "start_time": "2021-07-23T08:53:54.867Z"
   },
   {
    "duration": 11,
    "start_time": "2021-07-23T08:53:54.904Z"
   },
   {
    "duration": 223,
    "start_time": "2021-07-23T08:53:54.917Z"
   },
   {
    "duration": 1306,
    "start_time": "2021-07-23T08:53:55.142Z"
   },
   {
    "duration": 12,
    "start_time": "2021-07-23T08:53:56.449Z"
   },
   {
    "duration": 8,
    "start_time": "2021-07-23T08:53:56.463Z"
   },
   {
    "duration": 13,
    "start_time": "2021-07-23T08:53:56.472Z"
   },
   {
    "duration": 36,
    "start_time": "2021-07-23T08:53:56.487Z"
   },
   {
    "duration": 590,
    "start_time": "2021-07-23T08:53:56.525Z"
   },
   {
    "duration": 17,
    "start_time": "2021-07-23T08:53:57.117Z"
   },
   {
    "duration": 13,
    "start_time": "2021-07-23T08:53:57.135Z"
   },
   {
    "duration": 15,
    "start_time": "2021-07-23T08:53:57.150Z"
   },
   {
    "duration": 4,
    "start_time": "2021-07-23T08:53:57.166Z"
   },
   {
    "duration": 6,
    "start_time": "2021-07-23T08:53:57.191Z"
   },
   {
    "duration": 26,
    "start_time": "2021-07-23T08:53:57.198Z"
   },
   {
    "duration": 11,
    "start_time": "2021-07-23T08:53:57.226Z"
   },
   {
    "duration": 8,
    "start_time": "2021-07-23T08:53:57.239Z"
   },
   {
    "duration": 8,
    "start_time": "2021-07-23T08:53:57.249Z"
   },
   {
    "duration": 430,
    "start_time": "2021-07-23T08:53:57.259Z"
   },
   {
    "duration": 274,
    "start_time": "2021-07-23T08:53:57.691Z"
   },
   {
    "duration": 426,
    "start_time": "2021-07-23T08:53:57.967Z"
   },
   {
    "duration": 3,
    "start_time": "2021-07-23T08:53:58.395Z"
   },
   {
    "duration": 608,
    "start_time": "2021-07-23T08:53:58.400Z"
   },
   {
    "duration": 1118,
    "start_time": "2021-07-23T12:02:02.809Z"
   },
   {
    "duration": 3028,
    "start_time": "2021-07-23T12:02:04.092Z"
   },
   {
    "duration": 177,
    "start_time": "2021-07-23T12:02:07.122Z"
   },
   {
    "duration": 40,
    "start_time": "2021-07-23T12:02:07.533Z"
   },
   {
    "duration": 5,
    "start_time": "2021-07-23T12:02:13.339Z"
   },
   {
    "duration": 14,
    "start_time": "2021-07-23T12:02:15.494Z"
   },
   {
    "duration": 5,
    "start_time": "2021-07-23T12:02:18.207Z"
   },
   {
    "duration": 11,
    "start_time": "2021-07-23T12:02:18.827Z"
   },
   {
    "duration": 7,
    "start_time": "2021-07-23T12:02:19.036Z"
   },
   {
    "duration": 9,
    "start_time": "2021-07-23T12:02:19.748Z"
   },
   {
    "duration": 12,
    "start_time": "2021-07-23T12:02:20.291Z"
   },
   {
    "duration": 80,
    "start_time": "2021-07-23T12:02:20.516Z"
   },
   {
    "duration": 63,
    "start_time": "2021-07-23T12:02:22.524Z"
   },
   {
    "duration": 15,
    "start_time": "2021-07-23T12:03:47.280Z"
   },
   {
    "duration": 7,
    "start_time": "2021-07-23T12:05:08.758Z"
   },
   {
    "duration": 8,
    "start_time": "2021-07-23T12:05:44.752Z"
   },
   {
    "duration": 9,
    "start_time": "2021-07-23T12:06:05.461Z"
   },
   {
    "duration": 16,
    "start_time": "2021-07-23T12:07:06.762Z"
   },
   {
    "duration": 61,
    "start_time": "2021-07-23T12:08:17.437Z"
   },
   {
    "duration": 70,
    "start_time": "2021-07-23T12:53:44.772Z"
   },
   {
    "duration": 425,
    "start_time": "2021-07-23T12:53:49.563Z"
   },
   {
    "duration": 10,
    "start_time": "2021-07-23T12:54:02.997Z"
   },
   {
    "duration": 11,
    "start_time": "2021-07-23T12:54:19.437Z"
   },
   {
    "duration": 4435,
    "start_time": "2021-07-23T12:54:37.396Z"
   },
   {
    "duration": 736,
    "start_time": "2021-07-23T12:55:02.444Z"
   },
   {
    "duration": 12,
    "start_time": "2021-07-23T12:55:18.101Z"
   },
   {
    "duration": 60,
    "start_time": "2021-07-23T12:56:00.005Z"
   },
   {
    "duration": 13,
    "start_time": "2021-07-23T12:56:04.510Z"
   },
   {
    "duration": 12,
    "start_time": "2021-07-23T12:56:26.526Z"
   },
   {
    "duration": 469,
    "start_time": "2021-07-23T12:57:15.161Z"
   },
   {
    "duration": 4528,
    "start_time": "2021-07-23T12:57:38.979Z"
   },
   {
    "duration": 5351,
    "start_time": "2021-07-23T12:57:57.748Z"
   },
   {
    "duration": 9,
    "start_time": "2021-07-23T12:58:26.902Z"
   },
   {
    "duration": 69,
    "start_time": "2021-07-23T12:58:39.101Z"
   },
   {
    "duration": 4766,
    "start_time": "2021-07-23T12:58:43.892Z"
   },
   {
    "duration": 712,
    "start_time": "2021-07-23T12:59:06.681Z"
   },
   {
    "duration": 4794,
    "start_time": "2021-07-23T12:59:26.110Z"
   },
   {
    "duration": 9,
    "start_time": "2021-07-23T13:01:11.774Z"
   },
   {
    "duration": 9,
    "start_time": "2021-07-23T13:01:28.321Z"
   },
   {
    "duration": 13,
    "start_time": "2021-07-23T13:01:53.093Z"
   },
   {
    "duration": 9,
    "start_time": "2021-07-23T13:02:25.293Z"
   },
   {
    "duration": 929,
    "start_time": "2021-07-23T13:02:41.325Z"
   },
   {
    "duration": 9,
    "start_time": "2021-07-23T13:03:44.072Z"
   },
   {
    "duration": 10,
    "start_time": "2021-07-23T13:05:27.242Z"
   },
   {
    "duration": 60,
    "start_time": "2021-07-23T13:07:45.176Z"
   },
   {
    "duration": 214,
    "start_time": "2021-07-23T13:11:13.535Z"
   },
   {
    "duration": 521,
    "start_time": "2021-07-23T13:11:32.846Z"
   },
   {
    "duration": 62,
    "start_time": "2021-07-23T13:12:37.000Z"
   },
   {
    "duration": 67,
    "start_time": "2021-07-23T13:12:55.713Z"
   },
   {
    "duration": 66,
    "start_time": "2021-07-23T13:13:23.462Z"
   },
   {
    "duration": 519,
    "start_time": "2021-07-23T13:13:35.502Z"
   },
   {
    "duration": 527,
    "start_time": "2021-07-23T13:16:14.777Z"
   },
   {
    "duration": 25,
    "start_time": "2021-07-23T13:17:10.482Z"
   },
   {
    "duration": 24,
    "start_time": "2021-07-23T13:17:54.586Z"
   },
   {
    "duration": 186,
    "start_time": "2021-07-23T13:18:33.256Z"
   },
   {
    "duration": 1148,
    "start_time": "2021-07-23T13:18:46.703Z"
   },
   {
    "duration": 71,
    "start_time": "2021-07-23T13:19:13.898Z"
   },
   {
    "duration": 535,
    "start_time": "2021-07-23T13:19:47.215Z"
   },
   {
    "duration": 659,
    "start_time": "2021-07-23T13:20:17.832Z"
   },
   {
    "duration": 3,
    "start_time": "2021-07-23T13:23:20.426Z"
   },
   {
    "duration": 2,
    "start_time": "2021-07-23T13:23:50.407Z"
   },
   {
    "duration": 2,
    "start_time": "2021-07-23T13:28:34.120Z"
   },
   {
    "duration": 178,
    "start_time": "2021-07-23T13:29:48.605Z"
   },
   {
    "duration": 5270,
    "start_time": "2021-07-23T13:30:05.744Z"
   },
   {
    "duration": -28,
    "start_time": "2021-07-23T13:30:11.044Z"
   },
   {
    "duration": -33,
    "start_time": "2021-07-23T13:30:11.050Z"
   },
   {
    "duration": -37,
    "start_time": "2021-07-23T13:30:11.055Z"
   },
   {
    "duration": -43,
    "start_time": "2021-07-23T13:30:11.061Z"
   },
   {
    "duration": -52,
    "start_time": "2021-07-23T13:30:11.071Z"
   },
   {
    "duration": -58,
    "start_time": "2021-07-23T13:30:11.078Z"
   },
   {
    "duration": 144,
    "start_time": "2021-07-23T13:30:11.471Z"
   },
   {
    "duration": 197,
    "start_time": "2021-07-23T13:30:12.330Z"
   },
   {
    "duration": 392,
    "start_time": "2021-07-23T13:30:14.255Z"
   },
   {
    "duration": 1163,
    "start_time": "2021-07-23T13:30:28.464Z"
   },
   {
    "duration": 2133,
    "start_time": "2021-07-23T13:30:29.629Z"
   },
   {
    "duration": 168,
    "start_time": "2021-07-23T13:30:31.765Z"
   },
   {
    "duration": 37,
    "start_time": "2021-07-23T13:30:31.935Z"
   },
   {
    "duration": 12,
    "start_time": "2021-07-23T13:30:31.973Z"
   },
   {
    "duration": 12,
    "start_time": "2021-07-23T13:30:31.986Z"
   },
   {
    "duration": 4,
    "start_time": "2021-07-23T13:30:31.999Z"
   },
   {
    "duration": 11,
    "start_time": "2021-07-23T13:30:32.005Z"
   },
   {
    "duration": 10,
    "start_time": "2021-07-23T13:30:32.017Z"
   },
   {
    "duration": 10,
    "start_time": "2021-07-23T13:30:32.029Z"
   },
   {
    "duration": 10,
    "start_time": "2021-07-23T13:30:32.040Z"
   },
   {
    "duration": 98,
    "start_time": "2021-07-23T13:30:32.052Z"
   },
   {
    "duration": 15,
    "start_time": "2021-07-23T13:30:32.152Z"
   },
   {
    "duration": 19,
    "start_time": "2021-07-23T13:30:32.169Z"
   },
   {
    "duration": 13,
    "start_time": "2021-07-23T13:30:32.190Z"
   },
   {
    "duration": 2,
    "start_time": "2021-07-23T13:30:32.205Z"
   },
   {
    "duration": 232,
    "start_time": "2021-07-23T13:30:32.209Z"
   },
   {
    "duration": 12,
    "start_time": "2021-07-23T13:30:32.442Z"
   },
   {
    "duration": 156,
    "start_time": "2021-07-23T13:30:32.456Z"
   },
   {
    "duration": 15,
    "start_time": "2021-07-23T13:30:32.614Z"
   },
   {
    "duration": 223,
    "start_time": "2021-07-23T13:30:32.630Z"
   },
   {
    "duration": 8,
    "start_time": "2021-07-23T13:30:32.855Z"
   },
   {
    "duration": 5,
    "start_time": "2021-07-23T13:30:32.867Z"
   },
   {
    "duration": 149,
    "start_time": "2021-07-23T13:30:32.886Z"
   },
   {
    "duration": 532,
    "start_time": "2021-07-23T13:30:33.037Z"
   },
   {
    "duration": 399,
    "start_time": "2021-07-23T13:30:33.571Z"
   },
   {
    "duration": 19,
    "start_time": "2021-07-23T13:30:33.971Z"
   },
   {
    "duration": 4,
    "start_time": "2021-07-23T13:30:33.992Z"
   },
   {
    "duration": 16,
    "start_time": "2021-07-23T13:30:33.998Z"
   },
   {
    "duration": 255,
    "start_time": "2021-07-23T13:30:34.015Z"
   },
   {
    "duration": 361,
    "start_time": "2021-07-23T13:30:34.271Z"
   },
   {
    "duration": 13,
    "start_time": "2021-07-23T13:30:34.633Z"
   },
   {
    "duration": 206,
    "start_time": "2021-07-23T13:30:34.647Z"
   },
   {
    "duration": 316,
    "start_time": "2021-07-23T13:30:34.855Z"
   },
   {
    "duration": 290,
    "start_time": "2021-07-23T13:30:35.173Z"
   },
   {
    "duration": 3,
    "start_time": "2021-07-23T13:30:35.465Z"
   },
   {
    "duration": 25,
    "start_time": "2021-07-23T13:30:35.484Z"
   },
   {
    "duration": 12,
    "start_time": "2021-07-23T13:30:35.511Z"
   },
   {
    "duration": 16,
    "start_time": "2021-07-23T13:30:35.525Z"
   },
   {
    "duration": 8,
    "start_time": "2021-07-23T13:30:35.543Z"
   },
   {
    "duration": 251,
    "start_time": "2021-07-23T13:30:35.553Z"
   },
   {
    "duration": 923,
    "start_time": "2021-07-23T13:30:35.805Z"
   },
   {
    "duration": 12,
    "start_time": "2021-07-23T13:30:36.730Z"
   },
   {
    "duration": 10,
    "start_time": "2021-07-23T13:30:36.744Z"
   },
   {
    "duration": 8,
    "start_time": "2021-07-23T13:30:36.756Z"
   },
   {
    "duration": 43,
    "start_time": "2021-07-23T13:30:36.765Z"
   },
   {
    "duration": 295,
    "start_time": "2021-07-23T13:30:36.810Z"
   },
   {
    "duration": 18,
    "start_time": "2021-07-23T13:30:37.107Z"
   },
   {
    "duration": 21,
    "start_time": "2021-07-23T13:30:37.126Z"
   },
   {
    "duration": 38,
    "start_time": "2021-07-23T13:30:37.148Z"
   },
   {
    "duration": 5,
    "start_time": "2021-07-23T13:30:37.188Z"
   },
   {
    "duration": 6,
    "start_time": "2021-07-23T13:30:37.195Z"
   },
   {
    "duration": 14,
    "start_time": "2021-07-23T13:30:37.203Z"
   },
   {
    "duration": 11,
    "start_time": "2021-07-23T13:30:37.218Z"
   },
   {
    "duration": 9,
    "start_time": "2021-07-23T13:30:37.231Z"
   },
   {
    "duration": 45,
    "start_time": "2021-07-23T13:30:37.242Z"
   },
   {
    "duration": 477,
    "start_time": "2021-07-23T13:30:37.289Z"
   },
   {
    "duration": 340,
    "start_time": "2021-07-23T13:30:37.768Z"
   },
   {
    "duration": 511,
    "start_time": "2021-07-23T13:30:38.110Z"
   },
   {
    "duration": 5,
    "start_time": "2021-07-23T13:30:38.622Z"
   },
   {
    "duration": 671,
    "start_time": "2021-07-23T13:30:38.629Z"
   },
   {
    "duration": 56,
    "start_time": "2021-07-23T13:32:09.754Z"
   },
   {
    "duration": 461,
    "start_time": "2021-07-23T13:33:08.407Z"
   },
   {
    "duration": 454,
    "start_time": "2021-07-23T13:36:05.021Z"
   },
   {
    "duration": 615,
    "start_time": "2021-07-23T13:36:12.622Z"
   },
   {
    "duration": 1695,
    "start_time": "2021-07-23T15:56:02.067Z"
   },
   {
    "duration": 4821,
    "start_time": "2021-07-23T15:56:03.765Z"
   },
   {
    "duration": 342,
    "start_time": "2021-07-23T15:56:08.589Z"
   },
   {
    "duration": 63,
    "start_time": "2021-07-23T15:56:08.934Z"
   },
   {
    "duration": 7,
    "start_time": "2021-07-23T15:56:08.999Z"
   },
   {
    "duration": 23,
    "start_time": "2021-07-23T15:56:09.009Z"
   },
   {
    "duration": 6,
    "start_time": "2021-07-23T15:56:09.034Z"
   },
   {
    "duration": 41,
    "start_time": "2021-07-23T15:56:09.042Z"
   },
   {
    "duration": 14,
    "start_time": "2021-07-23T15:56:09.087Z"
   },
   {
    "duration": 14,
    "start_time": "2021-07-23T15:56:09.105Z"
   },
   {
    "duration": 18,
    "start_time": "2021-07-23T15:56:09.122Z"
   },
   {
    "duration": 134,
    "start_time": "2021-07-23T15:56:09.143Z"
   },
   {
    "duration": 20,
    "start_time": "2021-07-23T15:56:09.282Z"
   },
   {
    "duration": 11,
    "start_time": "2021-07-23T15:56:09.305Z"
   },
   {
    "duration": 40,
    "start_time": "2021-07-23T15:56:09.318Z"
   },
   {
    "duration": 3,
    "start_time": "2021-07-23T15:56:09.361Z"
   },
   {
    "duration": 30,
    "start_time": "2021-07-23T15:56:09.366Z"
   },
   {
    "duration": 1202,
    "start_time": "2021-07-23T15:56:09.398Z"
   },
   {
    "duration": -1826,
    "start_time": "2021-07-23T15:56:12.430Z"
   },
   {
    "duration": -1861,
    "start_time": "2021-07-23T15:56:12.467Z"
   },
   {
    "duration": -1870,
    "start_time": "2021-07-23T15:56:12.477Z"
   },
   {
    "duration": -1875,
    "start_time": "2021-07-23T15:56:12.484Z"
   },
   {
    "duration": -1881,
    "start_time": "2021-07-23T15:56:12.491Z"
   },
   {
    "duration": -1887,
    "start_time": "2021-07-23T15:56:12.498Z"
   },
   {
    "duration": -1890,
    "start_time": "2021-07-23T15:56:12.503Z"
   },
   {
    "duration": -1893,
    "start_time": "2021-07-23T15:56:12.508Z"
   },
   {
    "duration": -1898,
    "start_time": "2021-07-23T15:56:12.514Z"
   },
   {
    "duration": -1899,
    "start_time": "2021-07-23T15:56:12.517Z"
   },
   {
    "duration": -1901,
    "start_time": "2021-07-23T15:56:12.520Z"
   },
   {
    "duration": -1903,
    "start_time": "2021-07-23T15:56:12.524Z"
   },
   {
    "duration": -1907,
    "start_time": "2021-07-23T15:56:12.529Z"
   },
   {
    "duration": -1909,
    "start_time": "2021-07-23T15:56:12.532Z"
   },
   {
    "duration": -1911,
    "start_time": "2021-07-23T15:56:12.536Z"
   },
   {
    "duration": -1914,
    "start_time": "2021-07-23T15:56:12.540Z"
   },
   {
    "duration": -1917,
    "start_time": "2021-07-23T15:56:12.545Z"
   },
   {
    "duration": -1920,
    "start_time": "2021-07-23T15:56:12.549Z"
   },
   {
    "duration": -1962,
    "start_time": "2021-07-23T15:56:12.592Z"
   },
   {
    "duration": -2060,
    "start_time": "2021-07-23T15:56:12.692Z"
   },
   {
    "duration": -2076,
    "start_time": "2021-07-23T15:56:12.709Z"
   },
   {
    "duration": -2033,
    "start_time": "2021-07-23T15:56:12.715Z"
   },
   {
    "duration": -2035,
    "start_time": "2021-07-23T15:56:12.719Z"
   },
   {
    "duration": -2037,
    "start_time": "2021-07-23T15:56:12.722Z"
   },
   {
    "duration": -2041,
    "start_time": "2021-07-23T15:56:12.728Z"
   },
   {
    "duration": -2054,
    "start_time": "2021-07-23T15:56:12.742Z"
   },
   {
    "duration": -2058,
    "start_time": "2021-07-23T15:56:12.748Z"
   },
   {
    "duration": -2060,
    "start_time": "2021-07-23T15:56:12.751Z"
   },
   {
    "duration": -2063,
    "start_time": "2021-07-23T15:56:12.755Z"
   },
   {
    "duration": -2067,
    "start_time": "2021-07-23T15:56:12.761Z"
   },
   {
    "duration": -2081,
    "start_time": "2021-07-23T15:56:12.776Z"
   },
   {
    "duration": -2085,
    "start_time": "2021-07-23T15:56:12.781Z"
   },
   {
    "duration": -2086,
    "start_time": "2021-07-23T15:56:12.784Z"
   },
   {
    "duration": -2088,
    "start_time": "2021-07-23T15:56:12.787Z"
   },
   {
    "duration": -2090,
    "start_time": "2021-07-23T15:56:12.791Z"
   },
   {
    "duration": -2256,
    "start_time": "2021-07-23T15:56:12.958Z"
   },
   {
    "duration": -2271,
    "start_time": "2021-07-23T15:56:12.974Z"
   },
   {
    "duration": -2273,
    "start_time": "2021-07-23T15:56:12.978Z"
   },
   {
    "duration": -2287,
    "start_time": "2021-07-23T15:56:12.993Z"
   },
   {
    "duration": -2291,
    "start_time": "2021-07-23T15:56:12.998Z"
   },
   {
    "duration": -2293,
    "start_time": "2021-07-23T15:56:13.002Z"
   },
   {
    "duration": -2297,
    "start_time": "2021-07-23T15:56:13.007Z"
   },
   {
    "duration": -2301,
    "start_time": "2021-07-23T15:56:13.013Z"
   },
   {
    "duration": -2303,
    "start_time": "2021-07-23T15:56:13.016Z"
   },
   {
    "duration": -2304,
    "start_time": "2021-07-23T15:56:13.019Z"
   },
   {
    "duration": -2306,
    "start_time": "2021-07-23T15:56:13.023Z"
   },
   {
    "duration": 11,
    "start_time": "2021-07-23T15:57:03.610Z"
   },
   {
    "duration": 18,
    "start_time": "2021-07-23T15:57:31.766Z"
   },
   {
    "duration": 12,
    "start_time": "2021-07-23T15:57:50.650Z"
   },
   {
    "duration": 14,
    "start_time": "2021-07-23T15:58:01.314Z"
   },
   {
    "duration": 20,
    "start_time": "2021-07-23T16:00:47.790Z"
   },
   {
    "duration": 1009,
    "start_time": "2021-07-23T16:03:50.751Z"
   },
   {
    "duration": 42,
    "start_time": "2021-07-23T16:04:15.363Z"
   },
   {
    "duration": 885,
    "start_time": "2021-07-23T16:05:53.068Z"
   },
   {
    "duration": 437,
    "start_time": "2021-07-23T16:06:20.336Z"
   },
   {
    "duration": 45,
    "start_time": "2021-07-23T16:06:46.723Z"
   },
   {
    "duration": 30,
    "start_time": "2021-07-23T16:07:16.297Z"
   },
   {
    "duration": 45,
    "start_time": "2021-07-23T16:07:27.756Z"
   },
   {
    "duration": 10,
    "start_time": "2021-07-23T16:07:42.087Z"
   },
   {
    "duration": 9,
    "start_time": "2021-07-23T16:07:48.108Z"
   },
   {
    "duration": 7,
    "start_time": "2021-07-23T16:07:59.908Z"
   },
   {
    "duration": 6,
    "start_time": "2021-07-23T16:08:31.535Z"
   },
   {
    "duration": 20,
    "start_time": "2021-07-23T16:08:43.339Z"
   },
   {
    "duration": 1517,
    "start_time": "2021-07-23T16:10:53.505Z"
   },
   {
    "duration": 3727,
    "start_time": "2021-07-23T16:10:55.025Z"
   },
   {
    "duration": 283,
    "start_time": "2021-07-23T16:10:58.756Z"
   },
   {
    "duration": 56,
    "start_time": "2021-07-23T16:10:59.042Z"
   },
   {
    "duration": 8,
    "start_time": "2021-07-23T16:10:59.101Z"
   },
   {
    "duration": 18,
    "start_time": "2021-07-23T16:10:59.112Z"
   },
   {
    "duration": 9,
    "start_time": "2021-07-23T16:10:59.132Z"
   },
   {
    "duration": 16,
    "start_time": "2021-07-23T16:10:59.185Z"
   },
   {
    "duration": 15,
    "start_time": "2021-07-23T16:10:59.204Z"
   },
   {
    "duration": 18,
    "start_time": "2021-07-23T16:10:59.221Z"
   },
   {
    "duration": 17,
    "start_time": "2021-07-23T16:10:59.241Z"
   },
   {
    "duration": 133,
    "start_time": "2021-07-23T16:10:59.283Z"
   },
   {
    "duration": 22,
    "start_time": "2021-07-23T16:10:59.419Z"
   },
   {
    "duration": 10,
    "start_time": "2021-07-23T16:10:59.443Z"
   },
   {
    "duration": 19,
    "start_time": "2021-07-23T16:10:59.483Z"
   },
   {
    "duration": 2,
    "start_time": "2021-07-23T16:10:59.505Z"
   },
   {
    "duration": 332,
    "start_time": "2021-07-23T16:10:59.510Z"
   },
   {
    "duration": 17,
    "start_time": "2021-07-23T16:10:59.844Z"
   },
   {
    "duration": 269,
    "start_time": "2021-07-23T16:10:59.864Z"
   },
   {
    "duration": 23,
    "start_time": "2021-07-23T16:11:00.135Z"
   },
   {
    "duration": 346,
    "start_time": "2021-07-23T16:11:00.160Z"
   },
   {
    "duration": 14,
    "start_time": "2021-07-23T16:11:00.508Z"
   },
   {
    "duration": 9,
    "start_time": "2021-07-23T16:11:00.528Z"
   },
   {
    "duration": 260,
    "start_time": "2021-07-23T16:11:00.541Z"
   },
   {
    "duration": 726,
    "start_time": "2021-07-23T16:11:00.804Z"
   },
   {
    "duration": 564,
    "start_time": "2021-07-23T16:11:01.532Z"
   },
   {
    "duration": 16,
    "start_time": "2021-07-23T16:11:02.099Z"
   },
   {
    "duration": 7,
    "start_time": "2021-07-23T16:11:02.117Z"
   },
   {
    "duration": 24,
    "start_time": "2021-07-23T16:11:02.126Z"
   },
   {
    "duration": 402,
    "start_time": "2021-07-23T16:11:02.152Z"
   },
   {
    "duration": 479,
    "start_time": "2021-07-23T16:11:02.556Z"
   },
   {
    "duration": 18,
    "start_time": "2021-07-23T16:11:03.037Z"
   },
   {
    "duration": 332,
    "start_time": "2021-07-23T16:11:03.058Z"
   },
   {
    "duration": 497,
    "start_time": "2021-07-23T16:11:03.393Z"
   },
   {
    "duration": 453,
    "start_time": "2021-07-23T16:11:03.893Z"
   },
   {
    "duration": 5,
    "start_time": "2021-07-23T16:11:04.348Z"
   },
   {
    "duration": 55,
    "start_time": "2021-07-23T16:11:04.355Z"
   },
   {
    "duration": 19,
    "start_time": "2021-07-23T16:11:04.412Z"
   },
   {
    "duration": 26,
    "start_time": "2021-07-23T16:11:04.433Z"
   },
   {
    "duration": 16,
    "start_time": "2021-07-23T16:11:04.482Z"
   },
   {
    "duration": 370,
    "start_time": "2021-07-23T16:11:04.500Z"
   },
   {
    "duration": 981,
    "start_time": "2021-07-23T16:11:04.872Z"
   },
   {
    "duration": 18,
    "start_time": "2021-07-23T16:11:05.855Z"
   },
   {
    "duration": 15,
    "start_time": "2021-07-23T16:11:05.876Z"
   },
   {
    "duration": 20,
    "start_time": "2021-07-23T16:11:05.894Z"
   },
   {
    "duration": 68,
    "start_time": "2021-07-23T16:11:05.917Z"
   },
   {
    "duration": 837,
    "start_time": "2021-07-23T16:11:05.988Z"
   },
   {
    "duration": 29,
    "start_time": "2021-07-23T16:11:06.828Z"
   },
   {
    "duration": 37,
    "start_time": "2021-07-23T16:11:06.860Z"
   },
   {
    "duration": 24,
    "start_time": "2021-07-23T16:11:06.899Z"
   },
   {
    "duration": 6,
    "start_time": "2021-07-23T16:11:06.926Z"
   },
   {
    "duration": 11,
    "start_time": "2021-07-23T16:11:06.934Z"
   },
   {
    "duration": 50,
    "start_time": "2021-07-23T16:11:06.947Z"
   },
   {
    "duration": 17,
    "start_time": "2021-07-23T16:11:06.999Z"
   },
   {
    "duration": 13,
    "start_time": "2021-07-23T16:11:07.018Z"
   },
   {
    "duration": 14,
    "start_time": "2021-07-23T16:11:07.034Z"
   },
   {
    "duration": 642,
    "start_time": "2021-07-23T16:11:07.082Z"
   },
   {
    "duration": 499,
    "start_time": "2021-07-23T16:11:07.727Z"
   },
   {
    "duration": 762,
    "start_time": "2021-07-23T16:11:08.229Z"
   },
   {
    "duration": 6,
    "start_time": "2021-07-23T16:11:08.994Z"
   },
   {
    "duration": 1021,
    "start_time": "2021-07-23T16:11:09.002Z"
   },
   {
    "duration": 691,
    "start_time": "2021-07-23T16:11:10.025Z"
   }
  ],
  "kernelspec": {
   "display_name": "Python 3",
   "language": "python",
   "name": "python3"
  },
  "language_info": {
   "codemirror_mode": {
    "name": "ipython",
    "version": 3
   },
   "file_extension": ".py",
   "mimetype": "text/x-python",
   "name": "python",
   "nbconvert_exporter": "python",
   "pygments_lexer": "ipython3",
   "version": "3.8.8"
  },
  "toc": {
   "base_numbering": 1,
   "nav_menu": {},
   "number_sections": true,
   "sideBar": true,
   "skip_h1_title": true,
   "title_cell": "Table of Contents",
   "title_sidebar": "Contents",
   "toc_cell": false,
   "toc_position": {},
   "toc_section_display": true,
   "toc_window_display": false
  }
 },
 "nbformat": 4,
 "nbformat_minor": 5
}
