{
 "cells": [
  {
   "cell_type": "markdown",
   "metadata": {},
   "source": [
    "# Банки — Сегментация пользователей по потреблению"
   ]
  },
  {
   "cell_type": "markdown",
   "metadata": {},
   "source": [
    "## Описание проекта"
   ]
  },
  {
   "cell_type": "markdown",
   "metadata": {},
   "source": [
    "### Задача**:**\n",
    "\n",
    "Необходимо проанализировать данные о клиентах регионального банка и сегментировать их по количеству потребляемых продуктов. Заказчик — менеджер по продукту. Проект включает:\n",
    "\n",
    "- Исследовательский анализ данных\n",
    "- Сегментирование пользователей на основе данных о количестве потребляемых продуктов\n",
    "- Формулировка и проверка статистических гипотез.    "
   ]
  },
  {
   "cell_type": "markdown",
   "metadata": {},
   "source": [
    "## Загрузка данных"
   ]
  },
  {
   "cell_type": "code",
   "execution_count": 1,
   "metadata": {},
   "outputs": [
    {
     "name": "stdout",
     "output_type": "stream",
     "text": [
      "Requirement already satisfied: phik in c:\\users\\elena\\anaconda3\\lib\\site-packages (0.12.0)\n",
      "Requirement already satisfied: pandas>=0.25.1 in c:\\users\\elena\\anaconda3\\lib\\site-packages (from phik) (1.2.4)\n",
      "Requirement already satisfied: numpy>=1.18.0 in c:\\users\\elena\\anaconda3\\lib\\site-packages (from phik) (1.20.1)\n",
      "Requirement already satisfied: scipy>=1.5.2 in c:\\users\\elena\\anaconda3\\lib\\site-packages (from phik) (1.6.2)\n",
      "Requirement already satisfied: joblib>=0.14.1 in c:\\users\\elena\\anaconda3\\lib\\site-packages (from phik) (1.0.1)\n",
      "Requirement already satisfied: matplotlib>=2.2.3 in c:\\users\\elena\\anaconda3\\lib\\site-packages (from phik) (3.3.4)\n",
      "Requirement already satisfied: kiwisolver>=1.0.1 in c:\\users\\elena\\anaconda3\\lib\\site-packages (from matplotlib>=2.2.3->phik) (1.3.1)\n",
      "Requirement already satisfied: pillow>=6.2.0 in c:\\users\\elena\\anaconda3\\lib\\site-packages (from matplotlib>=2.2.3->phik) (8.2.0)\n",
      "Requirement already satisfied: cycler>=0.10 in c:\\users\\elena\\anaconda3\\lib\\site-packages (from matplotlib>=2.2.3->phik) (0.10.0)\n",
      "Requirement already satisfied: python-dateutil>=2.1 in c:\\users\\elena\\anaconda3\\lib\\site-packages (from matplotlib>=2.2.3->phik) (2.8.1)\n",
      "Requirement already satisfied: pyparsing!=2.0.4,!=2.1.2,!=2.1.6,>=2.0.3 in c:\\users\\elena\\anaconda3\\lib\\site-packages (from matplotlib>=2.2.3->phik) (2.4.7)\n",
      "Requirement already satisfied: six in c:\\users\\elena\\anaconda3\\lib\\site-packages (from cycler>=0.10->matplotlib>=2.2.3->phik) (1.15.0)\n",
      "Requirement already satisfied: pytz>=2017.3 in c:\\users\\elena\\anaconda3\\lib\\site-packages (from pandas>=0.25.1->phik) (2021.1)\n",
      "Note: you may need to restart the kernel to use updated packages.\n"
     ]
    }
   ],
   "source": [
    "pip install phik"
   ]
  },
  {
   "cell_type": "code",
   "execution_count": 2,
   "metadata": {},
   "outputs": [],
   "source": [
    "import pandas as pd\n",
    "import matplotlib.pyplot as plt\n",
    "import seaborn as sns\n",
    "from phik.report import plot_correlation_matrix\n",
    "from scipy import stats as st\n",
    "import numpy as np\n",
    "import math as mth\n",
    "from tqdm import tqdm"
   ]
  },
  {
   "cell_type": "code",
   "execution_count": 3,
   "metadata": {},
   "outputs": [],
   "source": [
    "pd.options.display.float_format = '{:.2f}'.format"
   ]
  },
  {
   "cell_type": "code",
   "execution_count": 4,
   "metadata": {},
   "outputs": [],
   "source": [
    "sns.set_palette('Paired')"
   ]
  },
  {
   "cell_type": "code",
   "execution_count": 5,
   "metadata": {},
   "outputs": [],
   "source": [
    "try: \n",
    "    df = pd.read_csv('bank_dataset.csv') # локальный путь\n",
    "except FileNotFoundError:\n",
    "    df = pd.read_csv('/datasets/bank_dataset.csv') # яндексовский путь"
   ]
  },
  {
   "cell_type": "code",
   "execution_count": 6,
   "metadata": {},
   "outputs": [
    {
     "data": {
      "text/html": [
       "<div>\n",
       "<style scoped>\n",
       "    .dataframe tbody tr th:only-of-type {\n",
       "        vertical-align: middle;\n",
       "    }\n",
       "\n",
       "    .dataframe tbody tr th {\n",
       "        vertical-align: top;\n",
       "    }\n",
       "\n",
       "    .dataframe thead th {\n",
       "        text-align: right;\n",
       "    }\n",
       "</style>\n",
       "<table border=\"1\" class=\"dataframe\">\n",
       "  <thead>\n",
       "    <tr style=\"text-align: right;\">\n",
       "      <th></th>\n",
       "      <th>userid</th>\n",
       "      <th>score</th>\n",
       "      <th>City</th>\n",
       "      <th>Gender</th>\n",
       "      <th>Age</th>\n",
       "      <th>Objects</th>\n",
       "      <th>Balance</th>\n",
       "      <th>Products</th>\n",
       "      <th>CreditCard</th>\n",
       "      <th>Loyalty</th>\n",
       "      <th>estimated_salary</th>\n",
       "      <th>Churn</th>\n",
       "    </tr>\n",
       "  </thead>\n",
       "  <tbody>\n",
       "    <tr>\n",
       "      <th>9394</th>\n",
       "      <td>15658489</td>\n",
       "      <td>597</td>\n",
       "      <td>Ростов Великий</td>\n",
       "      <td>Ж</td>\n",
       "      <td>35</td>\n",
       "      <td>8</td>\n",
       "      <td>131101.04</td>\n",
       "      <td>1</td>\n",
       "      <td>1</td>\n",
       "      <td>1</td>\n",
       "      <td>192852.67</td>\n",
       "      <td>0</td>\n",
       "    </tr>\n",
       "    <tr>\n",
       "      <th>898</th>\n",
       "      <td>15697436</td>\n",
       "      <td>523</td>\n",
       "      <td>Ярославль</td>\n",
       "      <td>Ж</td>\n",
       "      <td>40</td>\n",
       "      <td>2</td>\n",
       "      <td>102967.41</td>\n",
       "      <td>1</td>\n",
       "      <td>1</td>\n",
       "      <td>0</td>\n",
       "      <td>128702.10</td>\n",
       "      <td>1</td>\n",
       "    </tr>\n",
       "    <tr>\n",
       "      <th>2398</th>\n",
       "      <td>15676613</td>\n",
       "      <td>706</td>\n",
       "      <td>Рыбинск</td>\n",
       "      <td>Ж</td>\n",
       "      <td>42</td>\n",
       "      <td>8</td>\n",
       "      <td>95386.82</td>\n",
       "      <td>1</td>\n",
       "      <td>1</td>\n",
       "      <td>1</td>\n",
       "      <td>75732.25</td>\n",
       "      <td>0</td>\n",
       "    </tr>\n",
       "    <tr>\n",
       "      <th>5906</th>\n",
       "      <td>15788359</td>\n",
       "      <td>788</td>\n",
       "      <td>Ярославль</td>\n",
       "      <td>М</td>\n",
       "      <td>32</td>\n",
       "      <td>4</td>\n",
       "      <td>112079.58</td>\n",
       "      <td>1</td>\n",
       "      <td>0</td>\n",
       "      <td>0</td>\n",
       "      <td>89368.59</td>\n",
       "      <td>0</td>\n",
       "    </tr>\n",
       "    <tr>\n",
       "      <th>2343</th>\n",
       "      <td>15808638</td>\n",
       "      <td>706</td>\n",
       "      <td>Ростов Великий</td>\n",
       "      <td>М</td>\n",
       "      <td>38</td>\n",
       "      <td>5</td>\n",
       "      <td>163034.82</td>\n",
       "      <td>2</td>\n",
       "      <td>1</td>\n",
       "      <td>1</td>\n",
       "      <td>135662.17</td>\n",
       "      <td>0</td>\n",
       "    </tr>\n",
       "    <tr>\n",
       "      <th>8225</th>\n",
       "      <td>15846878</td>\n",
       "      <td>670</td>\n",
       "      <td>Рыбинск</td>\n",
       "      <td>Ж</td>\n",
       "      <td>57</td>\n",
       "      <td>3</td>\n",
       "      <td>175575.95</td>\n",
       "      <td>2</td>\n",
       "      <td>1</td>\n",
       "      <td>0</td>\n",
       "      <td>99061.75</td>\n",
       "      <td>1</td>\n",
       "    </tr>\n",
       "    <tr>\n",
       "      <th>5506</th>\n",
       "      <td>15739764</td>\n",
       "      <td>590</td>\n",
       "      <td>Рыбинск</td>\n",
       "      <td>М</td>\n",
       "      <td>34</td>\n",
       "      <td>0</td>\n",
       "      <td>65812.35</td>\n",
       "      <td>2</td>\n",
       "      <td>0</td>\n",
       "      <td>1</td>\n",
       "      <td>160346.30</td>\n",
       "      <td>0</td>\n",
       "    </tr>\n",
       "    <tr>\n",
       "      <th>6451</th>\n",
       "      <td>15765319</td>\n",
       "      <td>636</td>\n",
       "      <td>Рыбинск</td>\n",
       "      <td>Ж</td>\n",
       "      <td>29</td>\n",
       "      <td>6</td>\n",
       "      <td>157576.47</td>\n",
       "      <td>2</td>\n",
       "      <td>1</td>\n",
       "      <td>1</td>\n",
       "      <td>101102.39</td>\n",
       "      <td>0</td>\n",
       "    </tr>\n",
       "    <tr>\n",
       "      <th>2670</th>\n",
       "      <td>15803182</td>\n",
       "      <td>598</td>\n",
       "      <td>Ярославль</td>\n",
       "      <td>Ж</td>\n",
       "      <td>64</td>\n",
       "      <td>9</td>\n",
       "      <td>NaN</td>\n",
       "      <td>1</td>\n",
       "      <td>0</td>\n",
       "      <td>1</td>\n",
       "      <td>13181.37</td>\n",
       "      <td>1</td>\n",
       "    </tr>\n",
       "    <tr>\n",
       "      <th>3497</th>\n",
       "      <td>15631680</td>\n",
       "      <td>456</td>\n",
       "      <td>Ярославль</td>\n",
       "      <td>Ж</td>\n",
       "      <td>63</td>\n",
       "      <td>1</td>\n",
       "      <td>165350.61</td>\n",
       "      <td>2</td>\n",
       "      <td>0</td>\n",
       "      <td>0</td>\n",
       "      <td>140758.07</td>\n",
       "      <td>1</td>\n",
       "    </tr>\n",
       "  </tbody>\n",
       "</table>\n",
       "</div>"
      ],
      "text/plain": [
       "        userid  score            City Gender  Age  Objects   Balance  \\\n",
       "9394  15658489    597  Ростов Великий      Ж   35        8 131101.04   \n",
       "898   15697436    523       Ярославль      Ж   40        2 102967.41   \n",
       "2398  15676613    706         Рыбинск      Ж   42        8  95386.82   \n",
       "5906  15788359    788       Ярославль      М   32        4 112079.58   \n",
       "2343  15808638    706  Ростов Великий      М   38        5 163034.82   \n",
       "8225  15846878    670         Рыбинск      Ж   57        3 175575.95   \n",
       "5506  15739764    590         Рыбинск      М   34        0  65812.35   \n",
       "6451  15765319    636         Рыбинск      Ж   29        6 157576.47   \n",
       "2670  15803182    598       Ярославль      Ж   64        9       NaN   \n",
       "3497  15631680    456       Ярославль      Ж   63        1 165350.61   \n",
       "\n",
       "      Products  CreditCard  Loyalty  estimated_salary  Churn  \n",
       "9394         1           1        1         192852.67      0  \n",
       "898          1           1        0         128702.10      1  \n",
       "2398         1           1        1          75732.25      0  \n",
       "5906         1           0        0          89368.59      0  \n",
       "2343         2           1        1         135662.17      0  \n",
       "8225         2           1        0          99061.75      1  \n",
       "5506         2           0        1         160346.30      0  \n",
       "6451         2           1        1         101102.39      0  \n",
       "2670         1           0        1          13181.37      1  \n",
       "3497         2           0        0         140758.07      1  "
      ]
     },
     "execution_count": 6,
     "metadata": {},
     "output_type": "execute_result"
    }
   ],
   "source": [
    "df.sample(10, random_state=0) # вывод 5 рандомных строк"
   ]
  },
  {
   "cell_type": "markdown",
   "metadata": {},
   "source": [
    "### **Описание данных:**\n",
    "\n",
    "Датасет содержит данные о клиентах банка «Метанпром». Банк располагается в Ярославле и областных городах: Ростов Великий и Рыбинск. Данные были взяты в некий временной момент и в случае ушедших клиентов, это их состояние и баланс перед закрытием счета.\n",
    "\n",
    "Колонки:\n",
    "\n",
    "- `userid` — идентификатор пользователя,\n",
    "- `score` — баллы кредитного скоринга (чем выше балл, тем надежнее клиент)\n",
    "- `City` — город,\n",
    "- `Gender` — пол,\n",
    "- `Age` — возраст,\n",
    "- `Objects` — количество объектов в собственности (значимые для банка объекты собственности в случае чего которые можно взять в залог)\n",
    "- `Balance` — баланс на счёте,\n",
    "- `Products` — количество продуктов, которыми пользуется клиент,\n",
    "- `CreditCard` — есть ли кредитная карта,\n",
    "- `Loyalty` — активный клиент,\n",
    "- `estimated_salary` — заработная плата клиента,\n",
    "- `Churn` — ушёл или нет."
   ]
  },
  {
   "cell_type": "markdown",
   "metadata": {},
   "source": [
    "### Общая информация по датасету"
   ]
  },
  {
   "cell_type": "code",
   "execution_count": 7,
   "metadata": {},
   "outputs": [],
   "source": [
    "df.columns=df.columns.str.lower()"
   ]
  },
  {
   "cell_type": "code",
   "execution_count": 8,
   "metadata": {},
   "outputs": [
    {
     "name": "stdout",
     "output_type": "stream",
     "text": [
      "<class 'pandas.core.frame.DataFrame'>\n",
      "RangeIndex: 10000 entries, 0 to 9999\n",
      "Data columns (total 12 columns):\n",
      " #   Column            Non-Null Count  Dtype  \n",
      "---  ------            --------------  -----  \n",
      " 0   userid            10000 non-null  int64  \n",
      " 1   score             10000 non-null  int64  \n",
      " 2   city              10000 non-null  object \n",
      " 3   gender            10000 non-null  object \n",
      " 4   age               10000 non-null  int64  \n",
      " 5   objects           10000 non-null  int64  \n",
      " 6   balance           6383 non-null   float64\n",
      " 7   products          10000 non-null  int64  \n",
      " 8   creditcard        10000 non-null  int64  \n",
      " 9   loyalty           10000 non-null  int64  \n",
      " 10  estimated_salary  10000 non-null  float64\n",
      " 11  churn             10000 non-null  int64  \n",
      "dtypes: float64(2), int64(8), object(2)\n",
      "memory usage: 937.6+ KB\n"
     ]
    }
   ],
   "source": [
    "df.info()"
   ]
  },
  {
   "cell_type": "code",
   "execution_count": 9,
   "metadata": {},
   "outputs": [
    {
     "name": "stdout",
     "output_type": "stream",
     "text": [
      "duplicates: 0\n"
     ]
    }
   ],
   "source": [
    "print('duplicates:', df.duplicated().sum()) # вывод количества дубликатов"
   ]
  },
  {
   "cell_type": "markdown",
   "metadata": {},
   "source": [
    "Мы ознакомились с данными:\n",
    "- В нашем датасете информация о 10000 пользователей и 12 признаках по каждому.\n",
    "- Тип данных в столбце gender (пол) необходимо будет заменить на целочисленный.\n",
    "- Для удобства работы мы преобразовали названия столбцов (все названия теперь написаны строчными буквами). \n",
    "- Дубликатов не было обнаружено\n",
    "- Обнаружены пропуски в Balance — баланс на счёте."
   ]
  },
  {
   "cell_type": "markdown",
   "metadata": {},
   "source": [
    "## Исследовательский анализ данных (EDA)"
   ]
  },
  {
   "cell_type": "markdown",
   "metadata": {},
   "source": [
    "### Предобработка данных: Замена типа данных и обработка дубликатов "
   ]
  },
  {
   "cell_type": "markdown",
   "metadata": {},
   "source": [
    "Дубликатов мы не обнаружили, поэтому здесь только заменим данные в столбце gender (пол)."
   ]
  },
  {
   "cell_type": "code",
   "execution_count": 10,
   "metadata": {},
   "outputs": [],
   "source": [
    "df['gender'] = df['gender'].map({'М': 0, 'Ж': 1})"
   ]
  },
  {
   "cell_type": "markdown",
   "metadata": {},
   "source": [
    "### Оценка общей картины. Портрет клиента банка\n",
    "- Средние значения и стандартные отклонения признаков\n",
    "    - метод describe() для всех переменных\n",
    "    - графики распределения для переменных\n",
    "- Общие представления о клиентах которые пользуется продуктами банка (до сегментации): возраст, доход, пользование картой, балл кредитного скоринга и т.д."
   ]
  },
  {
   "cell_type": "code",
   "execution_count": 11,
   "metadata": {},
   "outputs": [
    {
     "data": {
      "text/html": [
       "<div>\n",
       "<style scoped>\n",
       "    .dataframe tbody tr th:only-of-type {\n",
       "        vertical-align: middle;\n",
       "    }\n",
       "\n",
       "    .dataframe tbody tr th {\n",
       "        vertical-align: top;\n",
       "    }\n",
       "\n",
       "    .dataframe thead th {\n",
       "        text-align: right;\n",
       "    }\n",
       "</style>\n",
       "<table border=\"1\" class=\"dataframe\">\n",
       "  <thead>\n",
       "    <tr style=\"text-align: right;\">\n",
       "      <th></th>\n",
       "      <th>скоринг</th>\n",
       "      <th>пол</th>\n",
       "      <th>возраст</th>\n",
       "      <th>объекты</th>\n",
       "      <th>балланс</th>\n",
       "      <th>продукты</th>\n",
       "      <th>карта</th>\n",
       "      <th>активность</th>\n",
       "      <th>зарплата</th>\n",
       "      <th>отток</th>\n",
       "    </tr>\n",
       "  </thead>\n",
       "  <tbody>\n",
       "    <tr>\n",
       "      <th>mean</th>\n",
       "      <td>650.53</td>\n",
       "      <td>0.45</td>\n",
       "      <td>38.92</td>\n",
       "      <td>5.01</td>\n",
       "      <td>119827.49</td>\n",
       "      <td>1.53</td>\n",
       "      <td>0.71</td>\n",
       "      <td>0.52</td>\n",
       "      <td>100090.24</td>\n",
       "      <td>0.20</td>\n",
       "    </tr>\n",
       "    <tr>\n",
       "      <th>std</th>\n",
       "      <td>96.65</td>\n",
       "      <td>0.50</td>\n",
       "      <td>10.49</td>\n",
       "      <td>2.89</td>\n",
       "      <td>30095.06</td>\n",
       "      <td>0.58</td>\n",
       "      <td>0.46</td>\n",
       "      <td>0.50</td>\n",
       "      <td>57510.49</td>\n",
       "      <td>0.40</td>\n",
       "    </tr>\n",
       "    <tr>\n",
       "      <th>min</th>\n",
       "      <td>350.00</td>\n",
       "      <td>0.00</td>\n",
       "      <td>18.00</td>\n",
       "      <td>0.00</td>\n",
       "      <td>3768.69</td>\n",
       "      <td>1.00</td>\n",
       "      <td>0.00</td>\n",
       "      <td>0.00</td>\n",
       "      <td>11.58</td>\n",
       "      <td>0.00</td>\n",
       "    </tr>\n",
       "    <tr>\n",
       "      <th>25%</th>\n",
       "      <td>584.00</td>\n",
       "      <td>0.00</td>\n",
       "      <td>32.00</td>\n",
       "      <td>3.00</td>\n",
       "      <td>100181.98</td>\n",
       "      <td>1.00</td>\n",
       "      <td>0.00</td>\n",
       "      <td>0.00</td>\n",
       "      <td>51002.11</td>\n",
       "      <td>0.00</td>\n",
       "    </tr>\n",
       "    <tr>\n",
       "      <th>50%</th>\n",
       "      <td>652.00</td>\n",
       "      <td>0.00</td>\n",
       "      <td>37.00</td>\n",
       "      <td>5.00</td>\n",
       "      <td>119839.69</td>\n",
       "      <td>1.00</td>\n",
       "      <td>1.00</td>\n",
       "      <td>1.00</td>\n",
       "      <td>100193.91</td>\n",
       "      <td>0.00</td>\n",
       "    </tr>\n",
       "    <tr>\n",
       "      <th>75%</th>\n",
       "      <td>718.00</td>\n",
       "      <td>1.00</td>\n",
       "      <td>44.00</td>\n",
       "      <td>7.00</td>\n",
       "      <td>139512.29</td>\n",
       "      <td>2.00</td>\n",
       "      <td>1.00</td>\n",
       "      <td>1.00</td>\n",
       "      <td>149388.25</td>\n",
       "      <td>0.00</td>\n",
       "    </tr>\n",
       "    <tr>\n",
       "      <th>max</th>\n",
       "      <td>850.00</td>\n",
       "      <td>1.00</td>\n",
       "      <td>92.00</td>\n",
       "      <td>10.00</td>\n",
       "      <td>250898.09</td>\n",
       "      <td>4.00</td>\n",
       "      <td>1.00</td>\n",
       "      <td>1.00</td>\n",
       "      <td>199992.48</td>\n",
       "      <td>1.00</td>\n",
       "    </tr>\n",
       "  </tbody>\n",
       "</table>\n",
       "</div>"
      ],
      "text/plain": [
       "      скоринг  пол  возраст  объекты   балланс  продукты  карта  активность  \\\n",
       "mean   650.53 0.45    38.92     5.01 119827.49      1.53   0.71        0.52   \n",
       "std     96.65 0.50    10.49     2.89  30095.06      0.58   0.46        0.50   \n",
       "min    350.00 0.00    18.00     0.00   3768.69      1.00   0.00        0.00   \n",
       "25%    584.00 0.00    32.00     3.00 100181.98      1.00   0.00        0.00   \n",
       "50%    652.00 0.00    37.00     5.00 119839.69      1.00   1.00        1.00   \n",
       "75%    718.00 1.00    44.00     7.00 139512.29      2.00   1.00        1.00   \n",
       "max    850.00 1.00    92.00    10.00 250898.09      4.00   1.00        1.00   \n",
       "\n",
       "      зарплата  отток  \n",
       "mean 100090.24   0.20  \n",
       "std   57510.49   0.40  \n",
       "min      11.58   0.00  \n",
       "25%   51002.11   0.00  \n",
       "50%  100193.91   0.00  \n",
       "75%  149388.25   0.00  \n",
       "max  199992.48   1.00  "
      ]
     },
     "execution_count": 11,
     "metadata": {},
     "output_type": "execute_result"
    }
   ],
   "source": [
    "cols_ru_name = ['скоринг', 'пол', 'возраст', 'объекты', 'балланс', 'продукты', 'карта', 'активность', 'зарплата', 'отток']\n",
    "portrait=df.describe().drop('userid', axis=1).drop('count')\n",
    "portrait.columns=cols_ru_name\n",
    "portrait"
   ]
  },
  {
   "cell_type": "code",
   "execution_count": 12,
   "metadata": {},
   "outputs": [
    {
     "data": {
      "image/png": "[encoded data removed]",
      "text/plain": [
       "<Figure size 720x720 with 12 Axes>"
      ]
     },
     "metadata": {
      "needs_background": "light"
     },
     "output_type": "display_data"
    }
   ],
   "source": [
    "df.drop('userid', axis=1).hist(figsize = (10,10)); "
   ]
  },
  {
   "cell_type": "code",
   "execution_count": 13,
   "metadata": {},
   "outputs": [
    {
     "data": {
      "text/plain": [
       "Ярославль        0.50\n",
       "Ростов Великий   0.25\n",
       "Рыбинск          0.25\n",
       "Name: city, dtype: float64"
      ]
     },
     "execution_count": 13,
     "metadata": {},
     "output_type": "execute_result"
    }
   ],
   "source": [
    "df['city'].value_counts(normalize=True)"
   ]
  },
  {
   "cell_type": "code",
   "execution_count": 14,
   "metadata": {},
   "outputs": [
    {
     "data": {
      "image/png": "[encoded data removed]",
      "text/plain": [
       "<Figure size 432x288 with 1 Axes>"
      ]
     },
     "metadata": {
      "needs_background": "light"
     },
     "output_type": "display_data"
    }
   ],
   "source": [
    "df['city'].hist()\n",
    "plt.title(\"Распределение клиентов по городам\")\n",
    "plt.show()"
   ]
  },
  {
   "cell_type": "markdown",
   "metadata": {},
   "source": [
    "Посмотрим также на диаграммы размаха для возраста, баланса и зарплаты."
   ]
  },
  {
   "cell_type": "code",
   "execution_count": 15,
   "metadata": {},
   "outputs": [
    {
     "data": {
      "image/png": "[encoded data removed]",
      "text/plain": [
       "<Figure size 432x288 with 1 Axes>"
      ]
     },
     "metadata": {
      "needs_background": "light"
     },
     "output_type": "display_data"
    }
   ],
   "source": [
    "sns.boxplot(data=df['age'], showmeans=True)\n",
    "plt.title(\"Диаграмма размаха возраста\")\n",
    "plt.show()"
   ]
  },
  {
   "cell_type": "code",
   "execution_count": 16,
   "metadata": {
    "scrolled": true
   },
   "outputs": [
    {
     "data": {
      "image/png": "[encoded data removed]",
      "text/plain": [
       "<Figure size 432x288 with 1 Axes>"
      ]
     },
     "metadata": {
      "needs_background": "light"
     },
     "output_type": "display_data"
    }
   ],
   "source": [
    "sns.boxplot(data=df[['balance', 'estimated_salary']], showmeans=True)\n",
    "plt.title(\"Диаграммы размаха для баланса и зарплаты\")\n",
    "plt.show()"
   ]
  },
  {
   "cell_type": "markdown",
   "metadata": {},
   "source": [
    "Средний баланс только немного выше средней зарплаты (и совпадает с медианой в обоих случаях), примерно 120 тысяч к 100, но там больше выбросов и меньше размах. И баланс и зарплата по нашим данным в большинстве своем не превышают 200 тысяч."
   ]
  },
  {
   "cell_type": "markdown",
   "metadata": {},
   "source": [
    "На данном этапе мы можем составить общий портрет пользователя нашего банка.\n",
    "\n",
    "- У нас примерно поровну клиентов обоих полов (45% женщин), \n",
    "- Им от 18 до 92 лет, средний возраст 39 лет. \n",
    "- Пользователи имеют от 1 до 4 продуктов. Среднее число продуктов - 1.53, медианное - 1, то есть половина наших клиентов имеет в пользовании только один продукт, а три четверти не более двух.\n",
    "- 71 % клиентов обладают кредитной картой\n",
    "- 52 % клиентов являются активными \n",
    "- В среднем у них  в собственности находится пять объектов, всего может быть от нуля до десяти. \n",
    "- Средний балл кредитного скоринга 650, при этом минимум 350 и максимум 850\n",
    "- 20% клиентов попали в отток, то есть ушли из банка\n",
    "- Средняя заработная плата клиента 100 000, что также практически совпадает с медианным. Однако есть минимальная зарплата в 11.58, что, возможно, является ошибкой и требует удаления.\n",
    "- Средний баланс на счету у клиентов около 120 000, что практически совпадает с медианным. Минимум около 3000, и нет нулевых значений. Однако, здесь есть много пропусков, которые нам предстоит проанализировать. Также на диаграмме размаха мы видим присутствие выбросов.\n",
    "- Половина клиентов из Ярославля, по четверти из Ростова Великого и Новгорода"
   ]
  },
  {
   "cell_type": "markdown",
   "metadata": {},
   "source": [
    "### Предобработка данных: Пропуски\n",
    "- графики распределения пропусков \n",
    "- предположения, что их вызвало \n",
    "- стратегия работы по пропускам"
   ]
  },
  {
   "cell_type": "code",
   "execution_count": 17,
   "metadata": {},
   "outputs": [
    {
     "data": {
      "text/html": [
       "<style  type=\"text/css\" >\n",
       "#T_f5528_row0_col0,#T_f5528_row1_col0,#T_f5528_row2_col0,#T_f5528_row3_col0,#T_f5528_row4_col0,#T_f5528_row5_col0,#T_f5528_row7_col0,#T_f5528_row8_col0,#T_f5528_row9_col0,#T_f5528_row10_col0,#T_f5528_row11_col0{\n",
       "            background-color:  #f7fbff;\n",
       "            color:  #000000;\n",
       "        }#T_f5528_row6_col0{\n",
       "            background-color:  #08306b;\n",
       "            color:  #f1f1f1;\n",
       "        }</style><table id=\"T_f5528_\" ><thead>    <tr>        <th class=\"blank level0\" ></th>        <th class=\"col_heading level0 col0\" >0</th>    </tr></thead><tbody>\n",
       "                <tr>\n",
       "                        <th id=\"T_f5528_level0_row0\" class=\"row_heading level0 row0\" >userid</th>\n",
       "                        <td id=\"T_f5528_row0_col0\" class=\"data row0 col0\" >0.000000</td>\n",
       "            </tr>\n",
       "            <tr>\n",
       "                        <th id=\"T_f5528_level0_row1\" class=\"row_heading level0 row1\" >score</th>\n",
       "                        <td id=\"T_f5528_row1_col0\" class=\"data row1 col0\" >0.000000</td>\n",
       "            </tr>\n",
       "            <tr>\n",
       "                        <th id=\"T_f5528_level0_row2\" class=\"row_heading level0 row2\" >city</th>\n",
       "                        <td id=\"T_f5528_row2_col0\" class=\"data row2 col0\" >0.000000</td>\n",
       "            </tr>\n",
       "            <tr>\n",
       "                        <th id=\"T_f5528_level0_row3\" class=\"row_heading level0 row3\" >gender</th>\n",
       "                        <td id=\"T_f5528_row3_col0\" class=\"data row3 col0\" >0.000000</td>\n",
       "            </tr>\n",
       "            <tr>\n",
       "                        <th id=\"T_f5528_level0_row4\" class=\"row_heading level0 row4\" >age</th>\n",
       "                        <td id=\"T_f5528_row4_col0\" class=\"data row4 col0\" >0.000000</td>\n",
       "            </tr>\n",
       "            <tr>\n",
       "                        <th id=\"T_f5528_level0_row5\" class=\"row_heading level0 row5\" >objects</th>\n",
       "                        <td id=\"T_f5528_row5_col0\" class=\"data row5 col0\" >0.000000</td>\n",
       "            </tr>\n",
       "            <tr>\n",
       "                        <th id=\"T_f5528_level0_row6\" class=\"row_heading level0 row6\" >balance</th>\n",
       "                        <td id=\"T_f5528_row6_col0\" class=\"data row6 col0\" >36.170000</td>\n",
       "            </tr>\n",
       "            <tr>\n",
       "                        <th id=\"T_f5528_level0_row7\" class=\"row_heading level0 row7\" >products</th>\n",
       "                        <td id=\"T_f5528_row7_col0\" class=\"data row7 col0\" >0.000000</td>\n",
       "            </tr>\n",
       "            <tr>\n",
       "                        <th id=\"T_f5528_level0_row8\" class=\"row_heading level0 row8\" >creditcard</th>\n",
       "                        <td id=\"T_f5528_row8_col0\" class=\"data row8 col0\" >0.000000</td>\n",
       "            </tr>\n",
       "            <tr>\n",
       "                        <th id=\"T_f5528_level0_row9\" class=\"row_heading level0 row9\" >loyalty</th>\n",
       "                        <td id=\"T_f5528_row9_col0\" class=\"data row9 col0\" >0.000000</td>\n",
       "            </tr>\n",
       "            <tr>\n",
       "                        <th id=\"T_f5528_level0_row10\" class=\"row_heading level0 row10\" >estimated_salary</th>\n",
       "                        <td id=\"T_f5528_row10_col0\" class=\"data row10 col0\" >0.000000</td>\n",
       "            </tr>\n",
       "            <tr>\n",
       "                        <th id=\"T_f5528_level0_row11\" class=\"row_heading level0 row11\" >churn</th>\n",
       "                        <td id=\"T_f5528_row11_col0\" class=\"data row11 col0\" >0.000000</td>\n",
       "            </tr>\n",
       "    </tbody></table>"
      ],
      "text/plain": [
       "<pandas.io.formats.style.Styler at 0x1e395fb3a00>"
      ]
     },
     "execution_count": 17,
     "metadata": {},
     "output_type": "execute_result"
    }
   ],
   "source": [
    "pd.DataFrame(round((df.isna().mean()*100),3)).style.background_gradient(cmap='Blues')"
   ]
  },
  {
   "cell_type": "markdown",
   "metadata": {},
   "source": [
    "Пропуски имеются только в поле баланс, их 36%, что довольно много. Посмотрим на распределение признаков у этих клиентов."
   ]
  },
  {
   "cell_type": "code",
   "execution_count": 18,
   "metadata": {},
   "outputs": [
    {
     "data": {
      "text/html": [
       "<div>\n",
       "<style scoped>\n",
       "    .dataframe tbody tr th:only-of-type {\n",
       "        vertical-align: middle;\n",
       "    }\n",
       "\n",
       "    .dataframe tbody tr th {\n",
       "        vertical-align: top;\n",
       "    }\n",
       "\n",
       "    .dataframe thead th {\n",
       "        text-align: right;\n",
       "    }\n",
       "</style>\n",
       "<table border=\"1\" class=\"dataframe\">\n",
       "  <thead>\n",
       "    <tr style=\"text-align: right;\">\n",
       "      <th></th>\n",
       "      <th>mean</th>\n",
       "      <th>std</th>\n",
       "      <th>min</th>\n",
       "      <th>25%</th>\n",
       "      <th>50%</th>\n",
       "      <th>75%</th>\n",
       "      <th>max</th>\n",
       "    </tr>\n",
       "  </thead>\n",
       "  <tbody>\n",
       "    <tr>\n",
       "      <th>score</th>\n",
       "      <td>649.45</td>\n",
       "      <td>96.16</td>\n",
       "      <td>350.00</td>\n",
       "      <td>583.00</td>\n",
       "      <td>651.00</td>\n",
       "      <td>717.00</td>\n",
       "      <td>850.00</td>\n",
       "    </tr>\n",
       "    <tr>\n",
       "      <th>gender</th>\n",
       "      <td>0.46</td>\n",
       "      <td>0.50</td>\n",
       "      <td>0.00</td>\n",
       "      <td>0.00</td>\n",
       "      <td>0.00</td>\n",
       "      <td>1.00</td>\n",
       "      <td>1.00</td>\n",
       "    </tr>\n",
       "    <tr>\n",
       "      <th>age</th>\n",
       "      <td>38.43</td>\n",
       "      <td>10.49</td>\n",
       "      <td>18.00</td>\n",
       "      <td>31.00</td>\n",
       "      <td>37.00</td>\n",
       "      <td>43.00</td>\n",
       "      <td>88.00</td>\n",
       "    </tr>\n",
       "    <tr>\n",
       "      <th>objects</th>\n",
       "      <td>5.07</td>\n",
       "      <td>2.86</td>\n",
       "      <td>0.00</td>\n",
       "      <td>3.00</td>\n",
       "      <td>5.00</td>\n",
       "      <td>7.00</td>\n",
       "      <td>10.00</td>\n",
       "    </tr>\n",
       "    <tr>\n",
       "      <th>balance</th>\n",
       "      <td>NaN</td>\n",
       "      <td>NaN</td>\n",
       "      <td>NaN</td>\n",
       "      <td>NaN</td>\n",
       "      <td>NaN</td>\n",
       "      <td>NaN</td>\n",
       "      <td>NaN</td>\n",
       "    </tr>\n",
       "    <tr>\n",
       "      <th>products</th>\n",
       "      <td>1.78</td>\n",
       "      <td>0.50</td>\n",
       "      <td>1.00</td>\n",
       "      <td>1.00</td>\n",
       "      <td>2.00</td>\n",
       "      <td>2.00</td>\n",
       "      <td>4.00</td>\n",
       "    </tr>\n",
       "    <tr>\n",
       "      <th>creditcard</th>\n",
       "      <td>0.72</td>\n",
       "      <td>0.45</td>\n",
       "      <td>0.00</td>\n",
       "      <td>0.00</td>\n",
       "      <td>1.00</td>\n",
       "      <td>1.00</td>\n",
       "      <td>1.00</td>\n",
       "    </tr>\n",
       "    <tr>\n",
       "      <th>loyalty</th>\n",
       "      <td>0.52</td>\n",
       "      <td>0.50</td>\n",
       "      <td>0.00</td>\n",
       "      <td>0.00</td>\n",
       "      <td>1.00</td>\n",
       "      <td>1.00</td>\n",
       "      <td>1.00</td>\n",
       "    </tr>\n",
       "    <tr>\n",
       "      <th>estimated_salary</th>\n",
       "      <td>98983.56</td>\n",
       "      <td>57730.83</td>\n",
       "      <td>90.07</td>\n",
       "      <td>49506.82</td>\n",
       "      <td>98618.79</td>\n",
       "      <td>148330.97</td>\n",
       "      <td>199992.48</td>\n",
       "    </tr>\n",
       "    <tr>\n",
       "      <th>churn</th>\n",
       "      <td>0.14</td>\n",
       "      <td>0.35</td>\n",
       "      <td>0.00</td>\n",
       "      <td>0.00</td>\n",
       "      <td>0.00</td>\n",
       "      <td>0.00</td>\n",
       "      <td>1.00</td>\n",
       "    </tr>\n",
       "  </tbody>\n",
       "</table>\n",
       "</div>"
      ],
      "text/plain": [
       "                     mean      std    min      25%      50%       75%  \\\n",
       "score              649.45    96.16 350.00   583.00   651.00    717.00   \n",
       "gender               0.46     0.50   0.00     0.00     0.00      1.00   \n",
       "age                 38.43    10.49  18.00    31.00    37.00     43.00   \n",
       "objects              5.07     2.86   0.00     3.00     5.00      7.00   \n",
       "balance               NaN      NaN    NaN      NaN      NaN       NaN   \n",
       "products             1.78     0.50   1.00     1.00     2.00      2.00   \n",
       "creditcard           0.72     0.45   0.00     0.00     1.00      1.00   \n",
       "loyalty              0.52     0.50   0.00     0.00     1.00      1.00   \n",
       "estimated_salary 98983.56 57730.83  90.07 49506.82 98618.79 148330.97   \n",
       "churn                0.14     0.35   0.00     0.00     0.00      0.00   \n",
       "\n",
       "                       max  \n",
       "score               850.00  \n",
       "gender                1.00  \n",
       "age                  88.00  \n",
       "objects              10.00  \n",
       "balance                NaN  \n",
       "products              4.00  \n",
       "creditcard            1.00  \n",
       "loyalty               1.00  \n",
       "estimated_salary 199992.48  \n",
       "churn                 1.00  "
      ]
     },
     "execution_count": 18,
     "metadata": {},
     "output_type": "execute_result"
    }
   ],
   "source": [
    "df[df['balance']!=df['balance']].describe().T.drop('userid').drop('count', axis=1)"
   ]
  },
  {
   "cell_type": "code",
   "execution_count": 19,
   "metadata": {},
   "outputs": [
    {
     "data": {
      "image/png": "[encoded data removed]",
      "text/plain": [
       "<Figure size 720x720 with 12 Axes>"
      ]
     },
     "metadata": {
      "needs_background": "light"
     },
     "output_type": "display_data"
    }
   ],
   "source": [
    "df[df['balance']!=df['balance']].drop('userid', axis=1).hist(figsize = (10,10));"
   ]
  },
  {
   "cell_type": "code",
   "execution_count": 20,
   "metadata": {},
   "outputs": [
    {
     "data": {
      "text/plain": [
       "Ярославль   0.67\n",
       "Рыбинск     0.33\n",
       "Name: city, dtype: float64"
      ]
     },
     "execution_count": 20,
     "metadata": {},
     "output_type": "execute_result"
    }
   ],
   "source": [
    "# клиенты без записей о балансе в зависимости от города, где находится банк\n",
    "df[df['balance']!=df['balance']]['city'].value_counts(normalize=True)"
   ]
  },
  {
   "cell_type": "code",
   "execution_count": 21,
   "metadata": {},
   "outputs": [
    {
     "data": {
      "text/plain": [
       "2   0.72\n",
       "1   0.25\n",
       "3   0.03\n",
       "4   0.00\n",
       "Name: products, dtype: float64"
      ]
     },
     "execution_count": 21,
     "metadata": {},
     "output_type": "execute_result"
    }
   ],
   "source": [
    "# клиенты без записей о балансе в зависимости от количества продуктов в пользовании\n",
    "df[df['balance']!=df['balance']]['products'].value_counts(normalize=True)"
   ]
  },
  {
   "cell_type": "code",
   "execution_count": 22,
   "metadata": {},
   "outputs": [
    {
     "data": {
      "text/plain": [
       "1   0.51\n",
       "2   0.46\n",
       "3   0.03\n",
       "4   0.01\n",
       "Name: products, dtype: float64"
      ]
     },
     "execution_count": 22,
     "metadata": {},
     "output_type": "execute_result"
    }
   ],
   "source": [
    "# все клиенты в зависимости от количества продуктов в пользовании\n",
    "df['products'].value_counts(normalize=True)"
   ]
  },
  {
   "cell_type": "markdown",
   "metadata": {},
   "source": [
    "Характерики клиентов, у которых отсутствует баланс схожи с общими характеристиками клиентов банка, при этом \n",
    "- среди них немного меньше тех, кто ушел\n",
    "- у них больше продуктов в пользовании: 72% имеют 2 продукта, тогда как по всем клиентам их 46%\n",
    "- среди них нет жителей Ростова Великого\n",
    "\n",
    "Скорее всего отсутствие баланса связано с ошибкой выгрузки. Мы не можем заменить пропуски на нули или средний баланс. Это может исказить наши данные, ососбенно учитывая нашу задачу по сегментации т.к. среди клиентов без записей о балансе бОльшая доля потребителей 2х продуктов."
   ]
  },
  {
   "cell_type": "markdown",
   "metadata": {},
   "source": [
    "### Матрица корреляций признаков\n",
    "- между какими признаками есть корреляция"
   ]
  },
  {
   "cell_type": "code",
   "execution_count": null,
   "metadata": {},
   "outputs": [],
   "source": []
  },
  {
   "cell_type": "code",
   "execution_count": 23,
   "metadata": {},
   "outputs": [
    {
     "data": {
      "text/html": [
       "<div>\n",
       "<style scoped>\n",
       "    .dataframe tbody tr th:only-of-type {\n",
       "        vertical-align: middle;\n",
       "    }\n",
       "\n",
       "    .dataframe tbody tr th {\n",
       "        vertical-align: top;\n",
       "    }\n",
       "\n",
       "    .dataframe thead th {\n",
       "        text-align: right;\n",
       "    }\n",
       "</style>\n",
       "<table border=\"1\" class=\"dataframe\">\n",
       "  <thead>\n",
       "    <tr style=\"text-align: right;\">\n",
       "      <th></th>\n",
       "      <th>userid</th>\n",
       "      <th>score</th>\n",
       "      <th>gender</th>\n",
       "      <th>age</th>\n",
       "      <th>objects</th>\n",
       "      <th>balance</th>\n",
       "      <th>products</th>\n",
       "      <th>creditcard</th>\n",
       "      <th>loyalty</th>\n",
       "      <th>estimated_salary</th>\n",
       "      <th>churn</th>\n",
       "      <th>city_coded</th>\n",
       "      <th>city_Ростов Великий</th>\n",
       "      <th>city_Рыбинск</th>\n",
       "      <th>city_Ярославль</th>\n",
       "    </tr>\n",
       "  </thead>\n",
       "  <tbody>\n",
       "    <tr>\n",
       "      <th>0</th>\n",
       "      <td>15677338</td>\n",
       "      <td>619</td>\n",
       "      <td>1</td>\n",
       "      <td>42</td>\n",
       "      <td>2</td>\n",
       "      <td>NaN</td>\n",
       "      <td>1</td>\n",
       "      <td>1</td>\n",
       "      <td>1</td>\n",
       "      <td>101348.88</td>\n",
       "      <td>1</td>\n",
       "      <td>2</td>\n",
       "      <td>0</td>\n",
       "      <td>0</td>\n",
       "      <td>1</td>\n",
       "    </tr>\n",
       "    <tr>\n",
       "      <th>1</th>\n",
       "      <td>15690047</td>\n",
       "      <td>608</td>\n",
       "      <td>1</td>\n",
       "      <td>41</td>\n",
       "      <td>1</td>\n",
       "      <td>83807.86</td>\n",
       "      <td>1</td>\n",
       "      <td>0</td>\n",
       "      <td>1</td>\n",
       "      <td>112542.58</td>\n",
       "      <td>0</td>\n",
       "      <td>1</td>\n",
       "      <td>0</td>\n",
       "      <td>1</td>\n",
       "      <td>0</td>\n",
       "    </tr>\n",
       "    <tr>\n",
       "      <th>2</th>\n",
       "      <td>15662040</td>\n",
       "      <td>502</td>\n",
       "      <td>1</td>\n",
       "      <td>42</td>\n",
       "      <td>8</td>\n",
       "      <td>159660.80</td>\n",
       "      <td>3</td>\n",
       "      <td>1</td>\n",
       "      <td>0</td>\n",
       "      <td>113931.57</td>\n",
       "      <td>1</td>\n",
       "      <td>2</td>\n",
       "      <td>0</td>\n",
       "      <td>0</td>\n",
       "      <td>1</td>\n",
       "    </tr>\n",
       "    <tr>\n",
       "      <th>3</th>\n",
       "      <td>15744090</td>\n",
       "      <td>699</td>\n",
       "      <td>1</td>\n",
       "      <td>39</td>\n",
       "      <td>1</td>\n",
       "      <td>NaN</td>\n",
       "      <td>2</td>\n",
       "      <td>0</td>\n",
       "      <td>0</td>\n",
       "      <td>93826.63</td>\n",
       "      <td>0</td>\n",
       "      <td>2</td>\n",
       "      <td>0</td>\n",
       "      <td>0</td>\n",
       "      <td>1</td>\n",
       "    </tr>\n",
       "    <tr>\n",
       "      <th>4</th>\n",
       "      <td>15780624</td>\n",
       "      <td>850</td>\n",
       "      <td>1</td>\n",
       "      <td>43</td>\n",
       "      <td>2</td>\n",
       "      <td>125510.82</td>\n",
       "      <td>1</td>\n",
       "      <td>1</td>\n",
       "      <td>1</td>\n",
       "      <td>79084.10</td>\n",
       "      <td>0</td>\n",
       "      <td>1</td>\n",
       "      <td>0</td>\n",
       "      <td>1</td>\n",
       "      <td>0</td>\n",
       "    </tr>\n",
       "    <tr>\n",
       "      <th>...</th>\n",
       "      <td>...</td>\n",
       "      <td>...</td>\n",
       "      <td>...</td>\n",
       "      <td>...</td>\n",
       "      <td>...</td>\n",
       "      <td>...</td>\n",
       "      <td>...</td>\n",
       "      <td>...</td>\n",
       "      <td>...</td>\n",
       "      <td>...</td>\n",
       "      <td>...</td>\n",
       "      <td>...</td>\n",
       "      <td>...</td>\n",
       "      <td>...</td>\n",
       "      <td>...</td>\n",
       "    </tr>\n",
       "    <tr>\n",
       "      <th>9995</th>\n",
       "      <td>15648965</td>\n",
       "      <td>771</td>\n",
       "      <td>0</td>\n",
       "      <td>39</td>\n",
       "      <td>5</td>\n",
       "      <td>NaN</td>\n",
       "      <td>2</td>\n",
       "      <td>1</td>\n",
       "      <td>0</td>\n",
       "      <td>96270.64</td>\n",
       "      <td>0</td>\n",
       "      <td>2</td>\n",
       "      <td>0</td>\n",
       "      <td>0</td>\n",
       "      <td>1</td>\n",
       "    </tr>\n",
       "    <tr>\n",
       "      <th>9996</th>\n",
       "      <td>15612628</td>\n",
       "      <td>516</td>\n",
       "      <td>0</td>\n",
       "      <td>35</td>\n",
       "      <td>10</td>\n",
       "      <td>57369.61</td>\n",
       "      <td>1</td>\n",
       "      <td>1</td>\n",
       "      <td>1</td>\n",
       "      <td>101699.77</td>\n",
       "      <td>0</td>\n",
       "      <td>2</td>\n",
       "      <td>0</td>\n",
       "      <td>0</td>\n",
       "      <td>1</td>\n",
       "    </tr>\n",
       "    <tr>\n",
       "      <th>9997</th>\n",
       "      <td>15627268</td>\n",
       "      <td>709</td>\n",
       "      <td>1</td>\n",
       "      <td>36</td>\n",
       "      <td>7</td>\n",
       "      <td>NaN</td>\n",
       "      <td>1</td>\n",
       "      <td>0</td>\n",
       "      <td>1</td>\n",
       "      <td>42085.58</td>\n",
       "      <td>1</td>\n",
       "      <td>2</td>\n",
       "      <td>0</td>\n",
       "      <td>0</td>\n",
       "      <td>1</td>\n",
       "    </tr>\n",
       "    <tr>\n",
       "      <th>9998</th>\n",
       "      <td>15725091</td>\n",
       "      <td>772</td>\n",
       "      <td>0</td>\n",
       "      <td>42</td>\n",
       "      <td>3</td>\n",
       "      <td>75075.31</td>\n",
       "      <td>2</td>\n",
       "      <td>1</td>\n",
       "      <td>0</td>\n",
       "      <td>92888.52</td>\n",
       "      <td>1</td>\n",
       "      <td>0</td>\n",
       "      <td>1</td>\n",
       "      <td>0</td>\n",
       "      <td>0</td>\n",
       "    </tr>\n",
       "    <tr>\n",
       "      <th>9999</th>\n",
       "      <td>15671055</td>\n",
       "      <td>792</td>\n",
       "      <td>1</td>\n",
       "      <td>28</td>\n",
       "      <td>4</td>\n",
       "      <td>130142.79</td>\n",
       "      <td>1</td>\n",
       "      <td>1</td>\n",
       "      <td>0</td>\n",
       "      <td>38190.78</td>\n",
       "      <td>0</td>\n",
       "      <td>2</td>\n",
       "      <td>0</td>\n",
       "      <td>0</td>\n",
       "      <td>1</td>\n",
       "    </tr>\n",
       "  </tbody>\n",
       "</table>\n",
       "<p>10000 rows × 15 columns</p>\n",
       "</div>"
      ],
      "text/plain": [
       "        userid  score  gender  age  objects   balance  products  creditcard  \\\n",
       "0     15677338    619       1   42        2       NaN         1           1   \n",
       "1     15690047    608       1   41        1  83807.86         1           0   \n",
       "2     15662040    502       1   42        8 159660.80         3           1   \n",
       "3     15744090    699       1   39        1       NaN         2           0   \n",
       "4     15780624    850       1   43        2 125510.82         1           1   \n",
       "...        ...    ...     ...  ...      ...       ...       ...         ...   \n",
       "9995  15648965    771       0   39        5       NaN         2           1   \n",
       "9996  15612628    516       0   35       10  57369.61         1           1   \n",
       "9997  15627268    709       1   36        7       NaN         1           0   \n",
       "9998  15725091    772       0   42        3  75075.31         2           1   \n",
       "9999  15671055    792       1   28        4 130142.79         1           1   \n",
       "\n",
       "      loyalty  estimated_salary  churn  city_coded  city_Ростов Великий  \\\n",
       "0           1         101348.88      1           2                    0   \n",
       "1           1         112542.58      0           1                    0   \n",
       "2           0         113931.57      1           2                    0   \n",
       "3           0          93826.63      0           2                    0   \n",
       "4           1          79084.10      0           1                    0   \n",
       "...       ...               ...    ...         ...                  ...   \n",
       "9995        0          96270.64      0           2                    0   \n",
       "9996        1         101699.77      0           2                    0   \n",
       "9997        1          42085.58      1           2                    0   \n",
       "9998        0          92888.52      1           0                    1   \n",
       "9999        0          38190.78      0           2                    0   \n",
       "\n",
       "      city_Рыбинск  city_Ярославль  \n",
       "0                0               1  \n",
       "1                1               0  \n",
       "2                0               1  \n",
       "3                0               1  \n",
       "4                1               0  \n",
       "...            ...             ...  \n",
       "9995             0               1  \n",
       "9996             0               1  \n",
       "9997             0               1  \n",
       "9998             0               0  \n",
       "9999             0               1  \n",
       "\n",
       "[10000 rows x 15 columns]"
      ]
     },
     "execution_count": 23,
     "metadata": {},
     "output_type": "execute_result"
    }
   ],
   "source": [
    "# скопируем датасет, там создадим новый столбец, закодировав города, а старый столбец превратим в дамми-переменные\n",
    "df_cor=df\n",
    "df_cor['city_coded'] = df_cor['city'].map({'Ростов Великий': 0, 'Рыбинск': 1, 'Ярославль': 2})\n",
    "df_cor=pd.get_dummies(df_cor)\n",
    "df_cor"
   ]
  },
  {
   "cell_type": "code",
   "execution_count": 24,
   "metadata": {},
   "outputs": [
    {
     "data": {
      "image/png": "[encoded data removed]",
      "text/plain": [
       "<Figure size 576x432 with 2 Axes>"
      ]
     },
     "metadata": {
      "needs_background": "light"
     },
     "output_type": "display_data"
    }
   ],
   "source": [
    "cm = df_cor.drop('userid', axis=1).corr().round(2)\n",
    "# нарисуем тепловую карту для матрицы корреляций\n",
    "plt.figure(figsize=(8,6))  \n",
    "sns.heatmap(cm, annot = True, annot_kws = {'size':8});"
   ]
  },
  {
   "cell_type": "markdown",
   "metadata": {},
   "source": [
    "На тепловой карте для матрицы корреляций Пирсона мы не наблюдаем сильных связей. Корреляция около 0.3 наблюдается между оттоком и возрастом. Мы можем предполагать, что чем больше возраст, тем больше отток и взять это на заметку для рекомендаций для пенсионеров, например.Также можем заметить корреляцию -0.16 между оттоком и активностью (меньше активность - больше отток)."
   ]
  },
  {
   "cell_type": "markdown",
   "metadata": {},
   "source": [
    "Посмотрим матрицу корреляций Phik (𝜙k).\n",
    "Phik (𝜙k) - это коэффициент корреляции, который последовательно работает между категориальными, порядковыми и интервальными переменными, фиксирует нелинейную зависимость и возвращается к коэффициенту корреляции Пирсона в случае двумерного нормального входного распределения (https://towardsdatascience.com/phik-k-get-familiar-with-the-latest-correlation-coefficient-9ba0032b37e7). Заметим, что коэффициент имеет значения от 0 до 1, чем ближе к 1, тем сильнее связь."
   ]
  },
  {
   "cell_type": "code",
   "execution_count": 25,
   "metadata": {},
   "outputs": [
    {
     "data": {
      "image/png": "[encoded data removed]",
      "text/plain": [
       "<Figure size 576x432 with 2 Axes>"
      ]
     },
     "metadata": {
      "needs_background": "light"
     },
     "output_type": "display_data"
    }
   ],
   "source": [
    "interval_cols= ['score', 'age', 'objects', 'balance', 'products', 'estimated_salary']\n",
    "phik = df_cor.drop('userid', axis=1).phik_matrix(interval_cols=interval_cols).round(2)\n",
    "\n",
    "plt.figure(figsize=(8,6))  \n",
    "sns.heatmap(phik, annot = True, annot_kws = {'size':8});"
   ]
  },
  {
   "cell_type": "markdown",
   "metadata": {},
   "source": [
    "Мы наблюдаем снова связь возраста и оттока, но и появились новые связи.\n",
    "\n",
    "Это количество продуктов и отток, 0.57, - связь явно выраженная, однако не обязательно положительно направленная (коэффициент всегда больше нуля). Также есть корреляция 0.24 между оттоком и активностью и 0.15 между количеством продуктов и возрастом. Для будущей сегментации для нас особенно важны связи количества продуктов с оттоком и возрастом."
   ]
  },
  {
   "cell_type": "markdown",
   "metadata": {},
   "source": [
    "## Сегментируйте пользователей на основе данных о количестве потребляемых продуктов"
   ]
  },
  {
   "cell_type": "markdown",
   "metadata": {},
   "source": [
    "### Сегментация пользователей по количеству продуктов\n",
    "- Варианты сегметации (один продукт и больше одного, или один, два и три и более продуктов)"
   ]
  },
  {
   "cell_type": "code",
   "execution_count": 26,
   "metadata": {},
   "outputs": [],
   "source": [
    "df=df.drop('city_coded', axis=1)"
   ]
  },
  {
   "cell_type": "code",
   "execution_count": 27,
   "metadata": {},
   "outputs": [
    {
     "data": {
      "text/plain": [
       "1    5084\n",
       "2    4590\n",
       "3     266\n",
       "4      60\n",
       "Name: products, dtype: int64"
      ]
     },
     "execution_count": 27,
     "metadata": {},
     "output_type": "execute_result"
    }
   ],
   "source": [
    "df['products'].value_counts().sort_values(ascending=False)"
   ]
  },
  {
   "cell_type": "code",
   "execution_count": 28,
   "metadata": {},
   "outputs": [
    {
     "data": {
      "text/plain": [
       "1   0.51\n",
       "2   0.46\n",
       "3   0.03\n",
       "4   0.01\n",
       "Name: products, dtype: float64"
      ]
     },
     "execution_count": 28,
     "metadata": {},
     "output_type": "execute_result"
    }
   ],
   "source": [
    "df['products'].value_counts(normalize=True).sort_values(ascending=False)"
   ]
  },
  {
   "cell_type": "markdown",
   "metadata": {},
   "source": [
    "Чуть более половины всех клиентов, 51%, пользуется одним продуктом банка, 46% двумя, около 3% тремя и меньше 1% (60 человек) - четырьмя продуктами. Таким образом, мы можем сегментировать клиентов на тех, кто потребляет один продукт, и тех, кто потребляет более одного продукта, и тогда группы будут примерно равные по размеру. Также, мы можем поделить клиентов на три сегмента, и отдельно взглянуть на характеристики потребителей трех и более продуктов. "
   ]
  },
  {
   "cell_type": "markdown",
   "metadata": {},
   "source": [
    "Для этого создадим новые столбцы, prod_segment, где 0 - один продукт и 1 - больше одного, и prod_segment_extra, где где 0 - один продукт и 1 - 2 продукта и 2 - более 2."
   ]
  },
  {
   "cell_type": "code",
   "execution_count": 29,
   "metadata": {},
   "outputs": [],
   "source": [
    "# добавим два столбца с обоими вариантами сегментации\n",
    "df['prod_segment'] = df['products'].map({1: 0, 2:1, 3:1, 4:1})\n",
    "df['prod_segment_extra'] = df['products'].map({1: 0, 2:1, 3:2, 4:2})"
   ]
  },
  {
   "cell_type": "markdown",
   "metadata": {},
   "source": [
    "### Средние значения признаков в группах по потреблению и выбор наиболее удачного варианта сегментации для дальнейшей работы"
   ]
  },
  {
   "cell_type": "markdown",
   "metadata": {},
   "source": [
    "Сравним средние значения признаков в обоих вариантах сегментации."
   ]
  },
  {
   "cell_type": "code",
   "execution_count": 30,
   "metadata": {},
   "outputs": [],
   "source": [
    "prod_segment_means=df.drop(\n",
    "    ['userid','products','prod_segment_extra'], axis = 1).groupby(\n",
    "    'prod_segment').agg(['mean'])"
   ]
  },
  {
   "cell_type": "code",
   "execution_count": 32,
   "metadata": {},
   "outputs": [],
   "source": [
    "prod_segment_means.columns = ['скоринг', 'пол', 'возраст', 'объекты', 'балланс', 'карта', 'активность', 'зарплата', 'отток']"
   ]
  },
  {
   "cell_type": "code",
   "execution_count": 33,
   "metadata": {},
   "outputs": [
    {
     "data": {
      "text/html": [
       "<style  type=\"text/css\" >\n",
       "#T_78252_row0_col0,#T_78252_row1_col0,#T_78252_row2_col1,#T_78252_row3_col0,#T_78252_row4_col1,#T_78252_row5_col0,#T_78252_row6_col0,#T_78252_row7_col0,#T_78252_row8_col1{\n",
       "            background-color:  #f7fbff;\n",
       "            color:  #000000;\n",
       "        }#T_78252_row0_col1,#T_78252_row1_col1,#T_78252_row2_col0,#T_78252_row3_col1,#T_78252_row4_col0,#T_78252_row5_col1,#T_78252_row6_col1,#T_78252_row7_col1,#T_78252_row8_col0{\n",
       "            background-color:  #08306b;\n",
       "            color:  #f1f1f1;\n",
       "        }</style><table id=\"T_78252_\" ><thead>    <tr>        <th class=\"blank level0\" ></th>        <th class=\"col_heading level0 col0\" >1 продукт</th>        <th class=\"col_heading level0 col1\" >2 и более продуктов</th>    </tr></thead><tbody>\n",
       "                <tr>\n",
       "                        <th id=\"T_78252_level0_row0\" class=\"row_heading level0 row0\" >скоринг</th>\n",
       "                        <td id=\"T_78252_row0_col0\" class=\"data row0 col0\" >649.12</td>\n",
       "                        <td id=\"T_78252_row0_col1\" class=\"data row0 col1\" >651.98</td>\n",
       "            </tr>\n",
       "            <tr>\n",
       "                        <th id=\"T_78252_level0_row1\" class=\"row_heading level0 row1\" >пол</th>\n",
       "                        <td id=\"T_78252_row1_col0\" class=\"data row1 col0\" >0.45</td>\n",
       "                        <td id=\"T_78252_row1_col1\" class=\"data row1 col1\" >0.46</td>\n",
       "            </tr>\n",
       "            <tr>\n",
       "                        <th id=\"T_78252_level0_row2\" class=\"row_heading level0 row2\" >возраст</th>\n",
       "                        <td id=\"T_78252_row2_col0\" class=\"data row2 col0\" >39.67</td>\n",
       "                        <td id=\"T_78252_row2_col1\" class=\"data row2 col1\" >38.14</td>\n",
       "            </tr>\n",
       "            <tr>\n",
       "                        <th id=\"T_78252_level0_row3\" class=\"row_heading level0 row3\" >объекты</th>\n",
       "                        <td id=\"T_78252_row3_col0\" class=\"data row3 col0\" >4.97</td>\n",
       "                        <td id=\"T_78252_row3_col1\" class=\"data row3 col1\" >5.05</td>\n",
       "            </tr>\n",
       "            <tr>\n",
       "                        <th id=\"T_78252_level0_row4\" class=\"row_heading level0 row4\" >балланс</th>\n",
       "                        <td id=\"T_78252_row4_col0\" class=\"data row4 col0\" >119894.16</td>\n",
       "                        <td id=\"T_78252_row4_col1\" class=\"data row4 col1\" >119701.08</td>\n",
       "            </tr>\n",
       "            <tr>\n",
       "                        <th id=\"T_78252_level0_row5\" class=\"row_heading level0 row5\" >карта</th>\n",
       "                        <td id=\"T_78252_row5_col0\" class=\"data row5 col0\" >0.70</td>\n",
       "                        <td id=\"T_78252_row5_col1\" class=\"data row5 col1\" >0.71</td>\n",
       "            </tr>\n",
       "            <tr>\n",
       "                        <th id=\"T_78252_level0_row6\" class=\"row_heading level0 row6\" >активность</th>\n",
       "                        <td id=\"T_78252_row6_col0\" class=\"data row6 col0\" >0.50</td>\n",
       "                        <td id=\"T_78252_row6_col1\" class=\"data row6 col1\" >0.53</td>\n",
       "            </tr>\n",
       "            <tr>\n",
       "                        <th id=\"T_78252_level0_row7\" class=\"row_heading level0 row7\" >зарплата</th>\n",
       "                        <td id=\"T_78252_row7_col0\" class=\"data row7 col0\" >99487.26</td>\n",
       "                        <td id=\"T_78252_row7_col1\" class=\"data row7 col1\" >100713.83</td>\n",
       "            </tr>\n",
       "            <tr>\n",
       "                        <th id=\"T_78252_level0_row8\" class=\"row_heading level0 row8\" >отток</th>\n",
       "                        <td id=\"T_78252_row8_col0\" class=\"data row8 col0\" >0.28</td>\n",
       "                        <td id=\"T_78252_row8_col1\" class=\"data row8 col1\" >0.13</td>\n",
       "            </tr>\n",
       "    </tbody></table>"
      ],
      "text/plain": [
       "<pandas.io.formats.style.Styler at 0x1e3966ea9d0>"
      ]
     },
     "execution_count": 33,
     "metadata": {},
     "output_type": "execute_result"
    }
   ],
   "source": [
    "\n",
    "prod_segment_means.columns = ['скоринг', 'пол', 'возраст', 'объекты', 'балланс', 'карта', 'активность', 'зарплата', 'отток']\n",
    "prod_segment_means=prod_segment_means.T\n",
    "prod_segment_means.columns = ['1 продукт', '2 и более продуктов']\n",
    "prod_segment_means.style.background_gradient(cmap='Blues', axis=1).format('{:.2f}')"
   ]
  },
  {
   "cell_type": "code",
   "execution_count": 34,
   "metadata": {},
   "outputs": [
    {
     "data": {
      "text/html": [
       "<style  type=\"text/css\" >\n",
       "#T_eb408_row0_col0,#T_eb408_row0_col2,#T_eb408_row1_col1,#T_eb408_row2_col1,#T_eb408_row3_col0,#T_eb408_row4_col1,#T_eb408_row5_col0,#T_eb408_row6_col2,#T_eb408_row7_col0,#T_eb408_row8_col1{\n",
       "            background-color:  #f7fbff;\n",
       "            color:  #000000;\n",
       "        }#T_eb408_row0_col1,#T_eb408_row1_col2,#T_eb408_row2_col2,#T_eb408_row3_col2,#T_eb408_row4_col2,#T_eb408_row5_col2,#T_eb408_row6_col1,#T_eb408_row7_col2,#T_eb408_row8_col2{\n",
       "            background-color:  #08306b;\n",
       "            color:  #f1f1f1;\n",
       "        }#T_eb408_row1_col0{\n",
       "            background-color:  #f3f8fe;\n",
       "            color:  #000000;\n",
       "        }#T_eb408_row2_col0{\n",
       "            background-color:  #aed1e7;\n",
       "            color:  #000000;\n",
       "        }#T_eb408_row3_col1{\n",
       "            background-color:  #084488;\n",
       "            color:  #f1f1f1;\n",
       "        }#T_eb408_row4_col0{\n",
       "            background-color:  #56a0ce;\n",
       "            color:  #000000;\n",
       "        }#T_eb408_row5_col1{\n",
       "            background-color:  #2c7cba;\n",
       "            color:  #000000;\n",
       "        }#T_eb408_row6_col0{\n",
       "            background-color:  #2d7dbb;\n",
       "            color:  #000000;\n",
       "        }#T_eb408_row7_col1{\n",
       "            background-color:  #d0e2f2;\n",
       "            color:  #000000;\n",
       "        }#T_eb408_row8_col0{\n",
       "            background-color:  #c4daee;\n",
       "            color:  #000000;\n",
       "        }</style><table id=\"T_eb408_\" ><thead>    <tr>        <th class=\"blank level0\" ></th>        <th class=\"col_heading level0 col0\" >1 продукт</th>        <th class=\"col_heading level0 col1\" >2 продукта</th>        <th class=\"col_heading level0 col2\" >3 и более продуктов</th>    </tr></thead><tbody>\n",
       "                <tr>\n",
       "                        <th id=\"T_eb408_level0_row0\" class=\"row_heading level0 row0\" >скоринг</th>\n",
       "                        <td id=\"T_eb408_row0_col0\" class=\"data row0 col0\" >649.12</td>\n",
       "                        <td id=\"T_eb408_row0_col1\" class=\"data row0 col1\" >652.19</td>\n",
       "                        <td id=\"T_eb408_row0_col2\" class=\"data row0 col2\" >649.11</td>\n",
       "            </tr>\n",
       "            <tr>\n",
       "                        <th id=\"T_eb408_level0_row1\" class=\"row_heading level0 row1\" >пол</th>\n",
       "                        <td id=\"T_eb408_row1_col0\" class=\"data row1 col0\" >0.45</td>\n",
       "                        <td id=\"T_eb408_row1_col1\" class=\"data row1 col1\" >0.45</td>\n",
       "                        <td id=\"T_eb408_row1_col2\" class=\"data row1 col2\" >0.57</td>\n",
       "            </tr>\n",
       "            <tr>\n",
       "                        <th id=\"T_eb408_level0_row2\" class=\"row_heading level0 row2\" >возраст</th>\n",
       "                        <td id=\"T_eb408_row2_col0\" class=\"data row2 col0\" >39.67</td>\n",
       "                        <td id=\"T_eb408_row2_col1\" class=\"data row2 col1\" >37.75</td>\n",
       "                        <td id=\"T_eb408_row2_col2\" class=\"data row2 col2\" >43.65</td>\n",
       "            </tr>\n",
       "            <tr>\n",
       "                        <th id=\"T_eb408_level0_row3\" class=\"row_heading level0 row3\" >объекты</th>\n",
       "                        <td id=\"T_eb408_row3_col0\" class=\"data row3 col0\" >4.97</td>\n",
       "                        <td id=\"T_eb408_row3_col1\" class=\"data row3 col1\" >5.05</td>\n",
       "                        <td id=\"T_eb408_row3_col2\" class=\"data row3 col2\" >5.06</td>\n",
       "            </tr>\n",
       "            <tr>\n",
       "                        <th id=\"T_eb408_level0_row4\" class=\"row_heading level0 row4\" >балланс</th>\n",
       "                        <td id=\"T_eb408_row4_col0\" class=\"data row4 col0\" >119894.16</td>\n",
       "                        <td id=\"T_eb408_row4_col1\" class=\"data row4 col1\" >119660.94</td>\n",
       "                        <td id=\"T_eb408_row4_col2\" class=\"data row4 col2\" >120074.31</td>\n",
       "            </tr>\n",
       "            <tr>\n",
       "                        <th id=\"T_eb408_level0_row5\" class=\"row_heading level0 row5\" >карта</th>\n",
       "                        <td id=\"T_eb408_row5_col0\" class=\"data row5 col0\" >0.70</td>\n",
       "                        <td id=\"T_eb408_row5_col1\" class=\"data row5 col1\" >0.71</td>\n",
       "                        <td id=\"T_eb408_row5_col2\" class=\"data row5 col2\" >0.71</td>\n",
       "            </tr>\n",
       "            <tr>\n",
       "                        <th id=\"T_eb408_level0_row6\" class=\"row_heading level0 row6\" >активность</th>\n",
       "                        <td id=\"T_eb408_row6_col0\" class=\"data row6 col0\" >0.50</td>\n",
       "                        <td id=\"T_eb408_row6_col1\" class=\"data row6 col1\" >0.53</td>\n",
       "                        <td id=\"T_eb408_row6_col2\" class=\"data row6 col2\" >0.44</td>\n",
       "            </tr>\n",
       "            <tr>\n",
       "                        <th id=\"T_eb408_level0_row7\" class=\"row_heading level0 row7\" >зарплата</th>\n",
       "                        <td id=\"T_eb408_row7_col0\" class=\"data row7 col0\" >99487.26</td>\n",
       "                        <td id=\"T_eb408_row7_col1\" class=\"data row7 col1\" >100452.01</td>\n",
       "                        <td id=\"T_eb408_row7_col2\" class=\"data row7 col2\" >104400.14</td>\n",
       "            </tr>\n",
       "            <tr>\n",
       "                        <th id=\"T_eb408_level0_row8\" class=\"row_heading level0 row8\" >отток</th>\n",
       "                        <td id=\"T_eb408_row8_col0\" class=\"data row8 col0\" >0.28</td>\n",
       "                        <td id=\"T_eb408_row8_col1\" class=\"data row8 col1\" >0.08</td>\n",
       "                        <td id=\"T_eb408_row8_col2\" class=\"data row8 col2\" >0.86</td>\n",
       "            </tr>\n",
       "    </tbody></table>"
      ],
      "text/plain": [
       "<pandas.io.formats.style.Styler at 0x1e3966ea700>"
      ]
     },
     "execution_count": 34,
     "metadata": {},
     "output_type": "execute_result"
    }
   ],
   "source": [
    "prod_segment_extra_means=df.drop(\n",
    "    ['userid','products','prod_segment'], axis = 1).groupby(\n",
    "    'prod_segment_extra').agg(['mean'])\n",
    "prod_segment_extra_means.columns = ['скоринг', 'пол', 'возраст', 'объекты', 'балланс', 'карта', 'активность', 'зарплата', 'отток']\n",
    "prod_segment_extra_means=prod_segment_extra_means.T\n",
    "prod_segment_extra_means.columns = ['1 продукт', '2 продукта', '3 и более продуктов' ] \n",
    "prod_segment_extra_means.style.background_gradient(cmap='Blues', axis=1).format('{:.2f}')"
   ]
  },
  {
   "cell_type": "markdown",
   "metadata": {},
   "source": [
    "Сравнивая таблицы средних значений в наших вариантах разбивки, мы можем сделать вывод, что сегментирование на 3 группы обнаруживает больше различий, и дает увидеть, что клиенты с тремя и более продуктами существенно отличаются от остальных, в том числе от тех у кого два продукта. Будем считать такое разбиение более удачным, и далее будем разбивать клиентов на три группы по потреблению и взглянем на распределения. "
   ]
  },
  {
   "cell_type": "markdown",
   "metadata": {},
   "source": [
    "### Портреты пользователей в группах по потреблению и основные различия между сегментами \n",
    "- Распределения признаков в группах по потреблению продуктов. Графики\n",
    "- Описание и характеристики сегментов пользователей по потреблению\n",
    "- Связь между количеством потребляемых продуктов и оттоком\n",
    "- Связь между количеством потребляемых продуктов и наличием кредитной карты\n",
    "- Связь между количеством потребляемых продуктов и местонахождением филиала"
   ]
  },
  {
   "cell_type": "code",
   "execution_count": 35,
   "metadata": {},
   "outputs": [],
   "source": [
    "interval_cols = ['score', 'age', 'objects', 'balance', 'estimated_salary']\n",
    "binar_cols = ['gender','creditcard', 'loyalty', 'churn','city']"
   ]
  },
  {
   "cell_type": "code",
   "execution_count": 36,
   "metadata": {},
   "outputs": [
    {
     "data": {
      "image/png": "[encoded data removed]",
      "text/plain": [
       "<Figure size 1152x288 with 5 Axes>"
      ]
     },
     "metadata": {
      "needs_background": "light"
     },
     "output_type": "display_data"
    }
   ],
   "source": [
    "# распределения для бинарных переменных и города\n",
    "title_name=['пол', 'есть ли кредитная карта', 'активный клиент', 'отток', 'город' ]\n",
    "#labels=[\"AAA\",\"BBB\"]\n",
    "\n",
    "_, axes = plt.subplots(1, 5, sharey=True, figsize=(16,4) )\n",
    "i=0\n",
    "   \n",
    "for parametr in binar_cols:\n",
    "    sns.countplot(hue=parametr, x=('prod_segment_extra'), data=df, ax=axes[i]).legend(title = title_name[i])\n",
    "    i=i+1"
   ]
  },
  {
   "cell_type": "code",
   "execution_count": 37,
   "metadata": {
    "scrolled": false
   },
   "outputs": [
    {
     "data": {
      "image/png": "[encoded data removed]",
      "text/plain": [
       "<Figure size 432x288 with 1 Axes>"
      ]
     },
     "metadata": {
      "needs_background": "light"
     },
     "output_type": "display_data"
    },
    {
     "data": {
      "image/png": "[encoded data removed]",
      "text/plain": [
       "<Figure size 432x288 with 1 Axes>"
      ]
     },
     "metadata": {
      "needs_background": "light"
     },
     "output_type": "display_data"
    },
    {
     "data": {
      "image/png": "[encoded data removed]",
      "text/plain": [
       "<Figure size 432x288 with 1 Axes>"
      ]
     },
     "metadata": {
      "needs_background": "light"
     },
     "output_type": "display_data"
    },
    {
     "data": {
      "image/png": "[encoded data removed]",
      "text/plain": [
       "<Figure size 432x288 with 1 Axes>"
      ]
     },
     "metadata": {
      "needs_background": "light"
     },
     "output_type": "display_data"
    },
    {
     "data": {
      "image/png": "[encoded data removed]",
      "text/plain": [
       "<Figure size 432x288 with 1 Axes>"
      ]
     },
     "metadata": {
      "needs_background": "light"
     },
     "output_type": "display_data"
    }
   ],
   "source": [
    "# распределения для интервальных переменных\n",
    "title_name=['баллы кредитного скоринга', 'возраст', 'количество объектов в собственности', 'баланс на счёте', 'заработная плата' ]\n",
    "interval_cols = ['score', 'age', 'objects', 'balance', 'estimated_salary']\n",
    "\n",
    "i=0\n",
    "for parametr in interval_cols:\n",
    "    \n",
    "    sns.boxplot(x='prod_segment_extra', y=parametr, data=df, showmeans=True, meanprops={\"marker\":\"o\",\n",
    "                       \"markerfacecolor\":\"white\", \n",
    "                       \"markeredgecolor\":\"black\",\n",
    "                      \"markersize\":\"10\"}).set_title(title_name[i])\n",
    "    plt.ylabel(parametr)\n",
    "    plt.xlabel(\"группа по потреблению продуктов\")\n",
    "    plt.show()\n",
    "    i=i+1"
   ]
  },
  {
   "cell_type": "markdown",
   "metadata": {},
   "source": [
    "Анализируя таблицу со средними по трем сегментам и графики распределений, зафиксируем следующие выводы:\n",
    "- Пол. Среди потребителей 3-х и более продуктов, доля женщин больше, чем в других сегментах (на 12%).\n",
    "- Возраст. Те у кого 2 продукта несколько помоложе тех, у кого 1 продукт (38 против 40). Обладатели 3х и более продуктов старше - им в среднем 44 года.\n",
    "- Активность. Среди потребителей 2-х и более продуктов активность выше на 3% по сравнению с теми, у кого 1 продукт (их средняя активность 50%), а вот у обладателей 3-х и более продуктов активность самая низкая, почти на 10% ниже чем у тех, у кого их 2\n",
    "- Баланс. баланс в сегментах почти одинаковый, однако вспомним, что среди обладателей 2-х продуктов было много пропусков по балансу, а именно 57%, то есть в более чем половине случаев. \n",
    "- Отток. В группе с 1 продуктом процент по оттоку выше, чем у тех, у кого 2 продукта на 20% (28% против 8%). Однако в группе пользователей 3-х и более продуктов отток очень высокий - 86%. Вполне вероятно, что отток связан с пользовательским опытом какого-то конкретного банковского продукта. Для дальнейшего исследования причин оттока необходимо знать, какие именно продукты помимо банковской карты были в распоряжении пользователей. Пока же, для продвижения продуктов среди пользователей мы можем порекомендовать сосредоточиться на первой группе - тех, у кого один продукт в распоряжении, поставив как цель, чтобы такие пользователи обзавелись вторым продуктом, что поможет снизить вероятность оттока. Группа с 3мя продуктами должна быть изучена отдельно, - это группа повышенного риска в плане оттока.\n",
    "- По кредитному скору и зарплате разница в группах незначительна."
   ]
  },
  {
   "cell_type": "code",
   "execution_count": 38,
   "metadata": {},
   "outputs": [
    {
     "data": {
      "text/html": [
       "<div>\n",
       "<style scoped>\n",
       "    .dataframe tbody tr th:only-of-type {\n",
       "        vertical-align: middle;\n",
       "    }\n",
       "\n",
       "    .dataframe tbody tr th {\n",
       "        vertical-align: top;\n",
       "    }\n",
       "\n",
       "    .dataframe thead th {\n",
       "        text-align: right;\n",
       "    }\n",
       "</style>\n",
       "<table border=\"1\" class=\"dataframe\">\n",
       "  <thead>\n",
       "    <tr style=\"text-align: right;\">\n",
       "      <th></th>\n",
       "      <th>count</th>\n",
       "      <th>mean</th>\n",
       "    </tr>\n",
       "    <tr>\n",
       "      <th>prod_segment_extra</th>\n",
       "      <th></th>\n",
       "      <th></th>\n",
       "    </tr>\n",
       "  </thead>\n",
       "  <tbody>\n",
       "    <tr>\n",
       "      <th>0</th>\n",
       "      <td>5084</td>\n",
       "      <td>0.70</td>\n",
       "    </tr>\n",
       "    <tr>\n",
       "      <th>1</th>\n",
       "      <td>4590</td>\n",
       "      <td>0.71</td>\n",
       "    </tr>\n",
       "    <tr>\n",
       "      <th>2</th>\n",
       "      <td>326</td>\n",
       "      <td>0.71</td>\n",
       "    </tr>\n",
       "  </tbody>\n",
       "</table>\n",
       "</div>"
      ],
      "text/plain": [
       "                    count  mean\n",
       "prod_segment_extra             \n",
       "0                    5084  0.70\n",
       "1                    4590  0.71\n",
       "2                     326  0.71"
      ]
     },
     "execution_count": 38,
     "metadata": {},
     "output_type": "execute_result"
    }
   ],
   "source": [
    "# доля обладателей кредитных карт по количеству продуктов в пользовании\n",
    "df.groupby('prod_segment_extra')['creditcard'].agg(['count', 'mean']) "
   ]
  },
  {
   "cell_type": "markdown",
   "metadata": {},
   "source": [
    "Доля владельцев кредитной карты в каждой группе по количеству потребляемых продуктов практически одинакова, - около 70%, интересно, что она не растет с количеством потребляемых продуктов. Т.е. среди тех, у кого 3 или 4 продукта банка, также 30% без кредитных карт. Посмотрим повнимательнее на характеристики тех, у кого нет продукта - кредитной карты, чтобы понять аудиторию."
   ]
  },
  {
   "cell_type": "code",
   "execution_count": 39,
   "metadata": {},
   "outputs": [
    {
     "data": {
      "text/html": [
       "<div>\n",
       "<style scoped>\n",
       "    .dataframe tbody tr th:only-of-type {\n",
       "        vertical-align: middle;\n",
       "    }\n",
       "\n",
       "    .dataframe tbody tr th {\n",
       "        vertical-align: top;\n",
       "    }\n",
       "\n",
       "    .dataframe thead th {\n",
       "        text-align: right;\n",
       "    }\n",
       "</style>\n",
       "<table border=\"1\" class=\"dataframe\">\n",
       "  <thead>\n",
       "    <tr style=\"text-align: right;\">\n",
       "      <th></th>\n",
       "      <th>mean</th>\n",
       "      <th>std</th>\n",
       "      <th>min</th>\n",
       "      <th>25%</th>\n",
       "      <th>50%</th>\n",
       "      <th>75%</th>\n",
       "      <th>max</th>\n",
       "    </tr>\n",
       "  </thead>\n",
       "  <tbody>\n",
       "    <tr>\n",
       "      <th>score</th>\n",
       "      <td>651.35</td>\n",
       "      <td>96.64</td>\n",
       "      <td>350.00</td>\n",
       "      <td>581.00</td>\n",
       "      <td>654.00</td>\n",
       "      <td>718.00</td>\n",
       "      <td>850.00</td>\n",
       "    </tr>\n",
       "    <tr>\n",
       "      <th>gender</th>\n",
       "      <td>0.46</td>\n",
       "      <td>0.50</td>\n",
       "      <td>0.00</td>\n",
       "      <td>0.00</td>\n",
       "      <td>0.00</td>\n",
       "      <td>1.00</td>\n",
       "      <td>1.00</td>\n",
       "    </tr>\n",
       "    <tr>\n",
       "      <th>age</th>\n",
       "      <td>39.11</td>\n",
       "      <td>10.53</td>\n",
       "      <td>18.00</td>\n",
       "      <td>32.00</td>\n",
       "      <td>38.00</td>\n",
       "      <td>44.00</td>\n",
       "      <td>92.00</td>\n",
       "    </tr>\n",
       "    <tr>\n",
       "      <th>objects</th>\n",
       "      <td>4.91</td>\n",
       "      <td>2.93</td>\n",
       "      <td>0.00</td>\n",
       "      <td>2.00</td>\n",
       "      <td>5.00</td>\n",
       "      <td>7.00</td>\n",
       "      <td>10.00</td>\n",
       "    </tr>\n",
       "    <tr>\n",
       "      <th>balance</th>\n",
       "      <td>119519.12</td>\n",
       "      <td>30226.53</td>\n",
       "      <td>12459.19</td>\n",
       "      <td>99416.12</td>\n",
       "      <td>118678.10</td>\n",
       "      <td>139032.70</td>\n",
       "      <td>250898.09</td>\n",
       "    </tr>\n",
       "    <tr>\n",
       "      <th>products</th>\n",
       "      <td>1.53</td>\n",
       "      <td>0.58</td>\n",
       "      <td>1.00</td>\n",
       "      <td>1.00</td>\n",
       "      <td>1.00</td>\n",
       "      <td>2.00</td>\n",
       "      <td>4.00</td>\n",
       "    </tr>\n",
       "    <tr>\n",
       "      <th>creditcard</th>\n",
       "      <td>0.00</td>\n",
       "      <td>0.00</td>\n",
       "      <td>0.00</td>\n",
       "      <td>0.00</td>\n",
       "      <td>0.00</td>\n",
       "      <td>0.00</td>\n",
       "      <td>0.00</td>\n",
       "    </tr>\n",
       "    <tr>\n",
       "      <th>loyalty</th>\n",
       "      <td>0.52</td>\n",
       "      <td>0.50</td>\n",
       "      <td>0.00</td>\n",
       "      <td>0.00</td>\n",
       "      <td>1.00</td>\n",
       "      <td>1.00</td>\n",
       "      <td>1.00</td>\n",
       "    </tr>\n",
       "    <tr>\n",
       "      <th>estimated_salary</th>\n",
       "      <td>100974.40</td>\n",
       "      <td>57761.34</td>\n",
       "      <td>90.07</td>\n",
       "      <td>52193.23</td>\n",
       "      <td>101617.43</td>\n",
       "      <td>149991.32</td>\n",
       "      <td>199992.48</td>\n",
       "    </tr>\n",
       "    <tr>\n",
       "      <th>churn</th>\n",
       "      <td>0.21</td>\n",
       "      <td>0.41</td>\n",
       "      <td>0.00</td>\n",
       "      <td>0.00</td>\n",
       "      <td>0.00</td>\n",
       "      <td>0.00</td>\n",
       "      <td>1.00</td>\n",
       "    </tr>\n",
       "    <tr>\n",
       "      <th>prod_segment</th>\n",
       "      <td>0.49</td>\n",
       "      <td>0.50</td>\n",
       "      <td>0.00</td>\n",
       "      <td>0.00</td>\n",
       "      <td>0.00</td>\n",
       "      <td>1.00</td>\n",
       "      <td>1.00</td>\n",
       "    </tr>\n",
       "    <tr>\n",
       "      <th>prod_segment_extra</th>\n",
       "      <td>0.52</td>\n",
       "      <td>0.56</td>\n",
       "      <td>0.00</td>\n",
       "      <td>0.00</td>\n",
       "      <td>0.00</td>\n",
       "      <td>1.00</td>\n",
       "      <td>2.00</td>\n",
       "    </tr>\n",
       "  </tbody>\n",
       "</table>\n",
       "</div>"
      ],
      "text/plain": [
       "                        mean      std      min      25%       50%       75%  \\\n",
       "score                 651.35    96.64   350.00   581.00    654.00    718.00   \n",
       "gender                  0.46     0.50     0.00     0.00      0.00      1.00   \n",
       "age                    39.11    10.53    18.00    32.00     38.00     44.00   \n",
       "objects                 4.91     2.93     0.00     2.00      5.00      7.00   \n",
       "balance            119519.12 30226.53 12459.19 99416.12 118678.10 139032.70   \n",
       "products                1.53     0.58     1.00     1.00      1.00      2.00   \n",
       "creditcard              0.00     0.00     0.00     0.00      0.00      0.00   \n",
       "loyalty                 0.52     0.50     0.00     0.00      1.00      1.00   \n",
       "estimated_salary   100974.40 57761.34    90.07 52193.23 101617.43 149991.32   \n",
       "churn                   0.21     0.41     0.00     0.00      0.00      0.00   \n",
       "prod_segment            0.49     0.50     0.00     0.00      0.00      1.00   \n",
       "prod_segment_extra      0.52     0.56     0.00     0.00      0.00      1.00   \n",
       "\n",
       "                         max  \n",
       "score                 850.00  \n",
       "gender                  1.00  \n",
       "age                    92.00  \n",
       "objects                10.00  \n",
       "balance            250898.09  \n",
       "products                4.00  \n",
       "creditcard              0.00  \n",
       "loyalty                 1.00  \n",
       "estimated_salary   199992.48  \n",
       "churn                   1.00  \n",
       "prod_segment            1.00  \n",
       "prod_segment_extra      2.00  "
      ]
     },
     "execution_count": 39,
     "metadata": {},
     "output_type": "execute_result"
    }
   ],
   "source": [
    "df[df['creditcard']==0].describe().T.drop('userid').drop('count', axis=1)"
   ]
  },
  {
   "cell_type": "markdown",
   "metadata": {},
   "source": [
    "Общие характеристики практически не отличаются от всей совокупности клиентов ни по одному из признаков."
   ]
  },
  {
   "cell_type": "code",
   "execution_count": 40,
   "metadata": {},
   "outputs": [
    {
     "data": {
      "image/png": "[encoded data removed]",
      "text/plain": [
       "<Figure size 432x288 with 1 Axes>"
      ]
     },
     "metadata": {
      "needs_background": "light"
     },
     "output_type": "display_data"
    }
   ],
   "source": [
    "sns.countplot(hue='churn', x='creditcard', data=df)\n",
    "plt.title('Отток в зависимости от наличия кредитной карты');"
   ]
  },
  {
   "cell_type": "code",
   "execution_count": 41,
   "metadata": {},
   "outputs": [
    {
     "data": {
      "text/html": [
       "<div>\n",
       "<style scoped>\n",
       "    .dataframe tbody tr th:only-of-type {\n",
       "        vertical-align: middle;\n",
       "    }\n",
       "\n",
       "    .dataframe tbody tr th {\n",
       "        vertical-align: top;\n",
       "    }\n",
       "\n",
       "    .dataframe thead th {\n",
       "        text-align: right;\n",
       "    }\n",
       "</style>\n",
       "<table border=\"1\" class=\"dataframe\">\n",
       "  <thead>\n",
       "    <tr style=\"text-align: right;\">\n",
       "      <th></th>\n",
       "      <th>mean</th>\n",
       "    </tr>\n",
       "    <tr>\n",
       "      <th>creditcard</th>\n",
       "      <th></th>\n",
       "    </tr>\n",
       "  </thead>\n",
       "  <tbody>\n",
       "    <tr>\n",
       "      <th>0</th>\n",
       "      <td>0.21</td>\n",
       "    </tr>\n",
       "    <tr>\n",
       "      <th>1</th>\n",
       "      <td>0.20</td>\n",
       "    </tr>\n",
       "  </tbody>\n",
       "</table>\n",
       "</div>"
      ],
      "text/plain": [
       "            mean\n",
       "creditcard      \n",
       "0           0.21\n",
       "1           0.20"
      ]
     },
     "execution_count": 41,
     "metadata": {},
     "output_type": "execute_result"
    }
   ],
   "source": [
    "df.groupby(['creditcard'])[('churn')].agg(['mean'])"
   ]
  },
  {
   "cell_type": "code",
   "execution_count": 42,
   "metadata": {},
   "outputs": [
    {
     "data": {
      "text/html": [
       "<div>\n",
       "<style scoped>\n",
       "    .dataframe tbody tr th:only-of-type {\n",
       "        vertical-align: middle;\n",
       "    }\n",
       "\n",
       "    .dataframe tbody tr th {\n",
       "        vertical-align: top;\n",
       "    }\n",
       "\n",
       "    .dataframe thead th {\n",
       "        text-align: right;\n",
       "    }\n",
       "</style>\n",
       "<table border=\"1\" class=\"dataframe\">\n",
       "  <thead>\n",
       "    <tr style=\"text-align: right;\">\n",
       "      <th></th>\n",
       "      <th></th>\n",
       "      <th>mean</th>\n",
       "    </tr>\n",
       "    <tr>\n",
       "      <th>creditcard</th>\n",
       "      <th>prod_segment_extra</th>\n",
       "      <th></th>\n",
       "    </tr>\n",
       "  </thead>\n",
       "  <tbody>\n",
       "    <tr>\n",
       "      <th rowspan=\"3\" valign=\"top\">0</th>\n",
       "      <th>0</th>\n",
       "      <td>0.28</td>\n",
       "    </tr>\n",
       "    <tr>\n",
       "      <th>1</th>\n",
       "      <td>0.08</td>\n",
       "    </tr>\n",
       "    <tr>\n",
       "      <th>2</th>\n",
       "      <td>0.87</td>\n",
       "    </tr>\n",
       "    <tr>\n",
       "      <th rowspan=\"3\" valign=\"top\">1</th>\n",
       "      <th>0</th>\n",
       "      <td>0.28</td>\n",
       "    </tr>\n",
       "    <tr>\n",
       "      <th>1</th>\n",
       "      <td>0.07</td>\n",
       "    </tr>\n",
       "    <tr>\n",
       "      <th>2</th>\n",
       "      <td>0.85</td>\n",
       "    </tr>\n",
       "  </tbody>\n",
       "</table>\n",
       "</div>"
      ],
      "text/plain": [
       "                               mean\n",
       "creditcard prod_segment_extra      \n",
       "0          0                   0.28\n",
       "           1                   0.08\n",
       "           2                   0.87\n",
       "1          0                   0.28\n",
       "           1                   0.07\n",
       "           2                   0.85"
      ]
     },
     "execution_count": 42,
     "metadata": {},
     "output_type": "execute_result"
    }
   ],
   "source": [
    "df.groupby(['creditcard', 'prod_segment_extra'])[('churn')].agg(['mean'])"
   ]
  },
  {
   "cell_type": "markdown",
   "metadata": {},
   "source": [
    "Что касается оттока, то кажется, что наличие кредитной карты не связано с оттоком - доли оттока примерно равные."
   ]
  },
  {
   "cell_type": "markdown",
   "metadata": {},
   "source": [
    "Таким образом, добавим в выводам по сегментам:\n",
    "- Кредитная карта. Среди потребителей по группам нет разницы, у всех доля 70%. Это немного противоречит интуитивным предположением - чем больше продуктов у человека, тем больше вероятность, что у него среди продуктов будет кредитная карта. Однако, это не так."
   ]
  },
  {
   "cell_type": "code",
   "execution_count": 43,
   "metadata": {},
   "outputs": [
    {
     "data": {
      "text/html": [
       "<style  type=\"text/css\" >\n",
       "#T_fe45e_row0_col0{\n",
       "            background-color:  #bed8ec;\n",
       "            color:  #000000;\n",
       "        }#T_fe45e_row0_col1,#T_fe45e_row1_col2,#T_fe45e_row2_col2{\n",
       "            background-color:  #f7fbff;\n",
       "            color:  #000000;\n",
       "        }#T_fe45e_row0_col2,#T_fe45e_row1_col1,#T_fe45e_row2_col1{\n",
       "            background-color:  #08306b;\n",
       "            color:  #f1f1f1;\n",
       "        }#T_fe45e_row1_col0{\n",
       "            background-color:  #74b3d8;\n",
       "            color:  #000000;\n",
       "        }#T_fe45e_row2_col0{\n",
       "            background-color:  #1663aa;\n",
       "            color:  #f1f1f1;\n",
       "        }</style><table id=\"T_fe45e_\" ><thead>    <tr>        <th class=\"blank level0\" ></th>        <th class=\"col_heading level0 col0\" >1_product%</th>        <th class=\"col_heading level0 col1\" >2_products%</th>        <th class=\"col_heading level0 col2\" >3_products%</th>    </tr>    <tr>        <th class=\"index_name level0\" >city</th>        <th class=\"blank\" ></th>        <th class=\"blank\" ></th>        <th class=\"blank\" ></th>    </tr></thead><tbody>\n",
       "                <tr>\n",
       "                        <th id=\"T_fe45e_level0_row0\" class=\"row_heading level0 row0\" >Ростов Великий</th>\n",
       "                        <td id=\"T_fe45e_row0_col0\" class=\"data row0 col0\" >26.53</td>\n",
       "                        <td id=\"T_fe45e_row0_col1\" class=\"data row0 col1\" >22.66</td>\n",
       "                        <td id=\"T_fe45e_row0_col2\" class=\"data row0 col2\" >36.81</td>\n",
       "            </tr>\n",
       "            <tr>\n",
       "                        <th id=\"T_fe45e_level0_row1\" class=\"row_heading level0 row1\" >Рыбинск</th>\n",
       "                        <td id=\"T_fe45e_row1_col0\" class=\"data row1 col0\" >24.02</td>\n",
       "                        <td id=\"T_fe45e_row1_col1\" class=\"data row1 col1\" >25.77</td>\n",
       "                        <td id=\"T_fe45e_row1_col2\" class=\"data row1 col2\" >22.39</td>\n",
       "            </tr>\n",
       "            <tr>\n",
       "                        <th id=\"T_fe45e_level0_row2\" class=\"row_heading level0 row2\" >Ярославль</th>\n",
       "                        <td id=\"T_fe45e_row2_col0\" class=\"data row2 col0\" >49.45</td>\n",
       "                        <td id=\"T_fe45e_row2_col1\" class=\"data row2 col1\" >51.57</td>\n",
       "                        <td id=\"T_fe45e_row2_col2\" class=\"data row2 col2\" >40.80</td>\n",
       "            </tr>\n",
       "    </tbody></table>"
      ],
      "text/plain": [
       "<pandas.io.formats.style.Styler at 0x1e396676df0>"
      ]
     },
     "execution_count": 43,
     "metadata": {},
     "output_type": "execute_result"
    }
   ],
   "source": [
    "prod_city = pd.crosstab(df['city'], df['prod_segment_extra'])\n",
    "prod_city.columns = ['1_product', '2_products', '>=3_products'] \n",
    "prod_city['1_product%'] = prod_city['1_product']/ prod_city['1_product'].sum()*100\n",
    "prod_city['2_products%'] =  prod_city['2_products']/ prod_city['2_products'].sum()*100\n",
    "prod_city['3_products%'] = prod_city['>=3_products']/ prod_city['>=3_products'].sum()*100\n",
    "prod_city.drop(['1_product', '2_products', '>=3_products'], axis=1).style.background_gradient(cmap='Blues', axis=1).format('{:.2f}')"
   ]
  },
  {
   "cell_type": "code",
   "execution_count": 44,
   "metadata": {},
   "outputs": [],
   "source": [
    "prod_city = pd.crosstab(df['city'], df['prod_segment_extra'])\n",
    "prod_city.columns = ['1_product', '2_products', '>=3_products'] \n",
    "prod_city=prod_city.T"
   ]
  },
  {
   "cell_type": "code",
   "execution_count": 45,
   "metadata": {},
   "outputs": [
    {
     "data": {
      "text/html": [
       "<style  type=\"text/css\" >\n",
       "#T_40fde_row0_col0,#T_40fde_row0_col2,#T_40fde_row1_col1{\n",
       "            background-color:  #08306b;\n",
       "            color:  #f1f1f1;\n",
       "        }#T_40fde_row0_col1,#T_40fde_row1_col0,#T_40fde_row2_col2{\n",
       "            background-color:  #f7fbff;\n",
       "            color:  #000000;\n",
       "        }#T_40fde_row1_col2{\n",
       "            background-color:  #dce9f6;\n",
       "            color:  #000000;\n",
       "        }#T_40fde_row2_col0{\n",
       "            background-color:  #d2e3f3;\n",
       "            color:  #000000;\n",
       "        }#T_40fde_row2_col1{\n",
       "            background-color:  #08478d;\n",
       "            color:  #f1f1f1;\n",
       "        }</style><table id=\"T_40fde_\" ><thead>    <tr>        <th class=\"blank level0\" ></th>        <th class=\"col_heading level0 col0\" >1_product</th>        <th class=\"col_heading level0 col1\" >2_products</th>        <th class=\"col_heading level0 col2\" >>=3_products</th>    </tr>    <tr>        <th class=\"index_name level0\" >city</th>        <th class=\"blank\" ></th>        <th class=\"blank\" ></th>        <th class=\"blank\" ></th>    </tr></thead><tbody>\n",
       "                <tr>\n",
       "                        <th id=\"T_40fde_level0_row0\" class=\"row_heading level0 row0\" >Ростов Великий%</th>\n",
       "                        <td id=\"T_40fde_row0_col0\" class=\"data row0 col0\" >53.77</td>\n",
       "                        <td id=\"T_40fde_row0_col1\" class=\"data row0 col1\" >41.45</td>\n",
       "                        <td id=\"T_40fde_row0_col2\" class=\"data row0 col2\" >4.78</td>\n",
       "            </tr>\n",
       "            <tr>\n",
       "                        <th id=\"T_40fde_level0_row1\" class=\"row_heading level0 row1\" >Рыбинск%</th>\n",
       "                        <td id=\"T_40fde_row1_col0\" class=\"data row1 col0\" >49.29</td>\n",
       "                        <td id=\"T_40fde_row1_col1\" class=\"data row1 col1\" >47.76</td>\n",
       "                        <td id=\"T_40fde_row1_col2\" class=\"data row1 col2\" >2.95</td>\n",
       "            </tr>\n",
       "            <tr>\n",
       "                        <th id=\"T_40fde_level0_row2\" class=\"row_heading level0 row2\" >Ярославль%</th>\n",
       "                        <td id=\"T_40fde_row2_col0\" class=\"data row2 col0\" >50.14</td>\n",
       "                        <td id=\"T_40fde_row2_col1\" class=\"data row2 col1\" >47.21</td>\n",
       "                        <td id=\"T_40fde_row2_col2\" class=\"data row2 col2\" >2.65</td>\n",
       "            </tr>\n",
       "    </tbody></table>"
      ],
      "text/plain": [
       "<pandas.io.formats.style.Styler at 0x1e3961f69a0>"
      ]
     },
     "execution_count": 45,
     "metadata": {},
     "output_type": "execute_result"
    }
   ],
   "source": [
    "prod_city['Ростов Великий%'] = prod_city['Ростов Великий']/ prod_city['Ростов Великий'].sum()*100\n",
    "prod_city['Рыбинск%'] =  prod_city['Рыбинск']/ prod_city['Рыбинск'].sum()*100\n",
    "prod_city['Ярославль%'] = prod_city['Ярославль']/ prod_city['Ярославль'].sum()*100\n",
    "prod_city=prod_city.drop(['Ростов Великий', 'Рыбинск', 'Ярославль'], axis=1)\n",
    "prod_city.T.style.background_gradient(cmap='Blues').format('{:.2f}')"
   ]
  },
  {
   "cell_type": "code",
   "execution_count": 46,
   "metadata": {},
   "outputs": [
    {
     "data": {
      "text/plain": [
       "Ярославль        0.50\n",
       "Ростов Великий   0.25\n",
       "Рыбинск          0.25\n",
       "Name: city, dtype: float64"
      ]
     },
     "execution_count": 46,
     "metadata": {},
     "output_type": "execute_result"
    }
   ],
   "source": [
    "# вспомним распределение клиентов по городам\n",
    "df['city'].value_counts(normalize=True)"
   ]
  },
  {
   "cell_type": "code",
   "execution_count": 47,
   "metadata": {},
   "outputs": [
    {
     "data": {
      "text/html": [
       "<style  type=\"text/css\" >\n",
       "#T_cccb6_row0_col0{\n",
       "            background-color:  #87bddc;\n",
       "            color:  #000000;\n",
       "        }#T_cccb6_row1_col0{\n",
       "            background-color:  #e8f1fa;\n",
       "            color:  #000000;\n",
       "        }#T_cccb6_row2_col0{\n",
       "            background-color:  #08306b;\n",
       "            color:  #f1f1f1;\n",
       "        }#T_cccb6_row3_col0{\n",
       "            background-color:  #d2e3f3;\n",
       "            color:  #000000;\n",
       "        }#T_cccb6_row4_col0{\n",
       "            background-color:  #f4f9fe;\n",
       "            color:  #000000;\n",
       "        }#T_cccb6_row5_col0{\n",
       "            background-color:  #08519c;\n",
       "            color:  #f1f1f1;\n",
       "        }#T_cccb6_row6_col0{\n",
       "            background-color:  #d1e2f3;\n",
       "            color:  #000000;\n",
       "        }#T_cccb6_row7_col0{\n",
       "            background-color:  #f7fbff;\n",
       "            color:  #000000;\n",
       "        }#T_cccb6_row8_col0{\n",
       "            background-color:  #084990;\n",
       "            color:  #f1f1f1;\n",
       "        }</style><table id=\"T_cccb6_\" ><thead>    <tr>        <th class=\"blank\" ></th>        <th class=\"blank level0\" ></th>        <th class=\"col_heading level0 col0\" >mean</th>    </tr>    <tr>        <th class=\"index_name level0\" >city</th>        <th class=\"index_name level1\" >prod_segment_extra</th>        <th class=\"blank\" ></th>    </tr></thead><tbody>\n",
       "                <tr>\n",
       "                        <th id=\"T_cccb6_level0_row0\" class=\"row_heading level0 row0\" rowspan=\"3\">Ростов Великий</th>\n",
       "                        <th id=\"T_cccb6_level1_row0\" class=\"row_heading level1 row0\" >0</th>\n",
       "                        <td id=\"T_cccb6_row0_col0\" class=\"data row0 col0\" >0.43</td>\n",
       "            </tr>\n",
       "            <tr>\n",
       "                                <th id=\"T_cccb6_level1_row1\" class=\"row_heading level1 row1\" >1</th>\n",
       "                        <td id=\"T_cccb6_row1_col0\" class=\"data row1 col0\" >0.12</td>\n",
       "            </tr>\n",
       "            <tr>\n",
       "                                <th id=\"T_cccb6_level1_row2\" class=\"row_heading level1 row2\" >2</th>\n",
       "                        <td id=\"T_cccb6_row2_col0\" class=\"data row2 col0\" >0.92</td>\n",
       "            </tr>\n",
       "            <tr>\n",
       "                        <th id=\"T_cccb6_level0_row3\" class=\"row_heading level0 row3\" rowspan=\"3\">Рыбинск</th>\n",
       "                        <th id=\"T_cccb6_level1_row3\" class=\"row_heading level1 row3\" >0</th>\n",
       "                        <td id=\"T_cccb6_row3_col0\" class=\"data row3 col0\" >0.22</td>\n",
       "            </tr>\n",
       "            <tr>\n",
       "                                <th id=\"T_cccb6_level1_row4\" class=\"row_heading level1 row4\" >1</th>\n",
       "                        <td id=\"T_cccb6_row4_col0\" class=\"data row4 col0\" >0.07</td>\n",
       "            </tr>\n",
       "            <tr>\n",
       "                                <th id=\"T_cccb6_level1_row5\" class=\"row_heading level1 row5\" >2</th>\n",
       "                        <td id=\"T_cccb6_row5_col0\" class=\"data row5 col0\" >0.81</td>\n",
       "            </tr>\n",
       "            <tr>\n",
       "                        <th id=\"T_cccb6_level0_row6\" class=\"row_heading level0 row6\" rowspan=\"3\">Ярославль</th>\n",
       "                        <th id=\"T_cccb6_level1_row6\" class=\"row_heading level1 row6\" >0</th>\n",
       "                        <td id=\"T_cccb6_row6_col0\" class=\"data row6 col0\" >0.22</td>\n",
       "            </tr>\n",
       "            <tr>\n",
       "                                <th id=\"T_cccb6_level1_row7\" class=\"row_heading level1 row7\" >1</th>\n",
       "                        <td id=\"T_cccb6_row7_col0\" class=\"data row7 col0\" >0.06</td>\n",
       "            </tr>\n",
       "            <tr>\n",
       "                                <th id=\"T_cccb6_level1_row8\" class=\"row_heading level1 row8\" >2</th>\n",
       "                        <td id=\"T_cccb6_row8_col0\" class=\"data row8 col0\" >0.83</td>\n",
       "            </tr>\n",
       "    </tbody></table>"
      ],
      "text/plain": [
       "<pandas.io.formats.style.Styler at 0x1e395cbba90>"
      ]
     },
     "execution_count": 47,
     "metadata": {},
     "output_type": "execute_result"
    }
   ],
   "source": [
    "# посмотрим распределение оттока по городам и количеству потребляемых продуков\n",
    "df.groupby(['city', 'prod_segment_extra'])[('churn')].agg(['mean']).style.background_gradient(\n",
    "    cmap='Blues').format('{:.2f}')"
   ]
  },
  {
   "cell_type": "markdown",
   "metadata": {},
   "source": [
    "Вспомним, что половина всех клиентов из Ярославля, и по четверти из Ростова и Рыбинска. Однако по продуктовым сегментов соотношение клиентов иное. В Ростове Великом клиентов по двум продуктам их немного меньше, 23% (а не 25%). А вот по трем и более продуктам ростовское присутствие намного выше их \"квоты\" в четверть и достигает 37%. Ярославское же, наоборот, падает на 10%. Среди обладателей множества продуктов их 40%, а не половина как в целом по клиентам.\n",
    "- По одному продукту в Ростове доля клиентов чуть выше чем 25% в общем числу, а именно 27%\n",
    "- В Ростове больше доля клиентов с одним продуктом, чем в остальных городах (54% от всех ростовчан, в то время как в Рыбинске 49% а в Ярославле 50%.\n",
    "- Доля клиентов с двумя продуктами у Рыбинска и Ярославля около 47% от всех по городу, а у Ростова ниже - 42%.\n",
    "- Среди тех, у кого три продукта, доля ростовчан наоборот больше - 5% от всех клиентов по городу против 3% в Рыбинске и Ярославле. \n",
    "Таким образом в Ростове немного иное соотношение по продуктовым сегментам - там меньше тех, у кого два продукта (а это более стабильная по оттоку категория клиентов) и больше тех, у кого один продукт и у кого три продукта (но их число мало и они риск для оттока). Поэтому Ростовский филиал требует особого внимания. Там в целом намного выше уровень оттока по клиентам, на 20% выше, чем в остальных филиалах по клиентам с одним продуктом (43%) и на 10% выше по трем продуктам (92% клиентов с 3 продуктами из Ростова - отток против 81-23% в остальных).\n",
    "Наша цель должна быть - повысить долю клиентов с двумя продуктами, и очень внимательно отнестись к тем, у кого много продуктов, т.к. они в большинстве своем попадают в отток, особенно - в Ростовском филиале."
   ]
  },
  {
   "cell_type": "markdown",
   "metadata": {},
   "source": [
    "## Проверка статистических гипотез"
   ]
  },
  {
   "cell_type": "markdown",
   "metadata": {},
   "source": [
    "### Проверка гипотезы различия дохода между теми клиентами, которые пользуются двумя продуктами банка, и теми, которые пользуются одним"
   ]
  },
  {
   "cell_type": "markdown",
   "metadata": {},
   "source": [
    "Здесь мы проверим, есть ли разница между доходом клиентов, которые пользуются одним продуктом банка, и теми, которые пользуются двумя, и имеет ли эта разница статистическую значимость.\n",
    "\n",
    "Нулевая гипотеза, которую мы будем проверять: нет статистически значимого различия между доходами таких клиентов. По сути это проверка гипотезы о равенстве средних."
   ]
  },
  {
   "cell_type": "markdown",
   "metadata": {},
   "source": [
    "Посмотрим на распределение данных о доходе среди групп клиентов по потреблению."
   ]
  },
  {
   "cell_type": "code",
   "execution_count": 48,
   "metadata": {},
   "outputs": [
    {
     "data": {
      "image/png": "[encoded data removed]",
      "text/plain": [
       "<Figure size 1080x360 with 2 Axes>"
      ]
     },
     "metadata": {
      "needs_background": "light"
     },
     "output_type": "display_data"
    }
   ],
   "source": [
    "fig, ax = plt.subplots(nrows=1, ncols=2, figsize=(15,5))\n",
    "\n",
    "ax[0].set_title('Пользователи одного продукта - доход')\n",
    "ax[0].hist(df[df['products']==1]['estimated_salary'], bins=100)\n",
    "\n",
    "ax[1].set_title('Пользователи двух продуктов - доход')\n",
    "ax[1].hist(df[df['products']==2]['estimated_salary'], bins=100)\n",
    "fig.tight_layout()"
   ]
  },
  {
   "cell_type": "markdown",
   "metadata": {},
   "source": [
    "Заметим, что чтобы применить t-test, данные не обязательно должны быть распределены нормально. Нормально должен быть распределен параметр (среднее), а это выполняется по ЦПТ для достаточно больших выборок. T-test следует использовать тогда, когда среднее – это хорошая описательная статистика для популяции, а в нашем случае так и есть. \n",
    "\n",
    "Тем не менее, проиллюстрируем распределение выборочных средних по зарплате для каждой из групп по продуктам."
   ]
  },
  {
   "cell_type": "code",
   "execution_count": 49,
   "metadata": {},
   "outputs": [
    {
     "name": "stderr",
     "output_type": "stream",
     "text": [
      "100%|██████████| 10000/10000 [00:01<00:00, 5208.51it/s]\n"
     ]
    }
   ],
   "source": [
    "means_a = []\n",
    "means_b = []\n",
    "\n",
    "df_a = df[df['products']==1]\n",
    "df_b = df[df['products']==2]\n",
    "\n",
    "len_a = len(df_a)\n",
    "len_b = len(df_b)\n",
    "\n",
    "# сгенерируем случайные выборки для каждой из групп и посмотрим на распределение их средних\n",
    "\n",
    "for _ in tqdm(range(10000)):\n",
    "    sample_a = np.random.choice(df_a['estimated_salary'], size=len_a, replace=True)\n",
    "    sample_b = np.random.choice(df_b['estimated_salary'], size=len_b, replace=True)\n",
    "    means_a.append(sample_a.mean())\n",
    "    means_b.append(sample_b.mean())"
   ]
  },
  {
   "cell_type": "code",
   "execution_count": 50,
   "metadata": {
    "scrolled": true
   },
   "outputs": [
    {
     "data": {
      "image/png": "[encoded data removed]",
      "text/plain": [
       "<Figure size 1080x360 with 3 Axes>"
      ]
     },
     "metadata": {
      "needs_background": "light"
     },
     "output_type": "display_data"
    }
   ],
   "source": [
    "fig, ax = plt.subplots(nrows=1, ncols=3, figsize=(15,5))\n",
    "\n",
    "ax[0].set_title('Пользователи 1 продукта (распределение средних)')\n",
    "ax[0].hist(means_a, bins=100)\n",
    "\n",
    "ax[1].set_title('Пользователи 2 продуктов (распределение средних)')\n",
    "ax[1].hist(means_b, bins=100)\n",
    "\n",
    "ax[2].set_title('Распределение средних доходов в группах по продукту')\n",
    "ax[2].hist(means_a, bins=100)\n",
    "ax[2].hist(means_b, bins=100, alpha=0.75)\n",
    "\n",
    "fig.tight_layout()"
   ]
  },
  {
   "cell_type": "markdown",
   "metadata": {},
   "source": [
    "Как видно, распределение средних напоминает нормальное, можем применить t-test. На третьем графике мы можем заметить, что средние средних в обоих группах близко, и, похоже, что средние по доходам в обоих группах мало различаются. Чтобы понять, является ли такое различие статистически значимым, проведем  t-test."
   ]
  },
  {
   "cell_type": "code",
   "execution_count": 56,
   "metadata": {},
   "outputs": [
    {
     "name": "stdout",
     "output_type": "stream",
     "text": [
      "p-value: 0.4106493940071987\n",
      "Не получилось отвергнуть нулевую гипотезу\n"
     ]
    }
   ],
   "source": [
    "alpha = 0.05  # критический уровень статистической значимости\n",
    "# если p-value окажется меньше него - отвергнем гипотезу\n",
    "\n",
    "results = st.ttest_ind(df_a['estimated_salary'], df_b['estimated_salary'], equal_var=False)\n",
    "\n",
    "print('p-value:', results.pvalue)\n",
    "\n",
    "if results.pvalue < alpha:\n",
    "    print('Отвергаем нулевую гипотезу')\n",
    "else:\n",
    "    print('Не получилось отвергнуть нулевую гипотезу') "
   ]
  },
  {
   "cell_type": "markdown",
   "metadata": {},
   "source": [
    "По результатам теста мы не можем отвершнуть нулевую гипотезу о равенстве средних, p-value получилось большим, то есть в 41% случаев такая разница в средних зарплатах могла быть случайной.\n",
    "\n",
    "Таким образом, мы не можем сказать, что есть статистически значимое различие между доходами клиентов, которые пользуются одним продуктом, и теми, кто пользуется двумя продуктами. \n",
    "\n",
    "В практическом смысле это означает, что, например, для продвижение продуктов в группе пользователей с одним продуктом, нам не стоит ориентироваться на доход и связывать с ним стратегии продвижения для этой группы. Проще говоря: те, у кого один продукт в среднем не богаче и не беднее тех, у кого два продукта."
   ]
  },
  {
   "cell_type": "markdown",
   "metadata": {},
   "source": [
    "### Проверка второй гипотезы различия возраста между теми клиентами, которые пользуются двумя продуктами банка, и теми, которые пользуются одним."
   ]
  },
  {
   "cell_type": "markdown",
   "metadata": {},
   "source": [
    "Здесь мы проверим, есть ли значимые отличия по возрасту между теми, кто пользуется одним продуктом банка, и теми, кто пользуется двумя. Заметим, что исходя из среднего и графиков, мы сделали вывод, что старше. Но является ли эта разница статистически значимой?\n",
    "\n",
    "Нулевая гипотеза, которую мы будем проверять: нет статистически значимого различия между возрастами таких клиентов."
   ]
  },
  {
   "cell_type": "markdown",
   "metadata": {},
   "source": [
    "Посмотрим на распределение данных о возрасте среди групп клиентов по потреблению."
   ]
  },
  {
   "cell_type": "code",
   "execution_count": 52,
   "metadata": {},
   "outputs": [
    {
     "data": {
      "image/png": "[encoded data removed]",
      "text/plain": [
       "<Figure size 1080x360 with 2 Axes>"
      ]
     },
     "metadata": {
      "needs_background": "light"
     },
     "output_type": "display_data"
    }
   ],
   "source": [
    "fig, ax = plt.subplots(nrows=1, ncols=2, figsize=(15,5))\n",
    "\n",
    "ax[0].set_title('Пользователи одного продукта - возраст')\n",
    "ax[0].hist(df[df['products']==1]['age'], bins=100)\n",
    "\n",
    "ax[1].set_title('Пользователи двух продуктов - возраст')\n",
    "ax[1].hist(df[df['products']==2]['age'], bins=100)\n",
    "fig.tight_layout()"
   ]
  },
  {
   "cell_type": "markdown",
   "metadata": {},
   "source": [
    "По аналогии с предыдущей проверкой гипотезы, проиллюстрируем распределение выборочных средних по возрасту для каждой из групп по продуктам."
   ]
  },
  {
   "cell_type": "code",
   "execution_count": 53,
   "metadata": {},
   "outputs": [
    {
     "name": "stderr",
     "output_type": "stream",
     "text": [
      "100%|██████████| 10000/10000 [00:01<00:00, 5079.36it/s]\n"
     ]
    }
   ],
   "source": [
    "means_a = []\n",
    "means_b = []\n",
    "\n",
    "df_a = df[df['products']==1]\n",
    "df_b = df[df['products']==2]\n",
    "\n",
    "len_a = len(df_a)\n",
    "len_b = len(df_b)\n",
    "\n",
    "for _ in tqdm(range(10000)):\n",
    "    sample_a = np.random.choice(df_a['age'], size=len_a, replace=True)\n",
    "    sample_b = np.random.choice(df_b['age'], size=len_b, replace=True)\n",
    "    means_a.append(sample_a.mean())\n",
    "    means_b.append(sample_b.mean())"
   ]
  },
  {
   "cell_type": "code",
   "execution_count": 54,
   "metadata": {},
   "outputs": [
    {
     "data": {
      "image/png": "[encoded data removed]",
      "text/plain": [
       "<Figure size 1080x360 with 3 Axes>"
      ]
     },
     "metadata": {
      "needs_background": "light"
     },
     "output_type": "display_data"
    }
   ],
   "source": [
    "fig, ax = plt.subplots(nrows=1, ncols=3, figsize=(15,5))\n",
    "\n",
    "ax[0].set_title('Пользователи 1 продукта (распределение средних)')\n",
    "ax[0].hist(means_a, bins=100)\n",
    "\n",
    "ax[1].set_title('Пользователи 2 продуктов (распределение средних)')\n",
    "ax[1].hist(means_b, bins=100)\n",
    "\n",
    "ax[2].set_title('Распределение средних возраста в группах по продукту')\n",
    "ax[2].hist(means_a, bins=100)\n",
    "ax[2].hist(means_b, bins=100)\n",
    "\n",
    "fig.tight_layout()"
   ]
  },
  {
   "cell_type": "markdown",
   "metadata": {},
   "source": [
    "Распределение средних снова напоминает нормальное, можем применить t-test. \n",
    "Однако, здесь на третьем графике мы видим совсем другую картину: графики вообще не пересекаются, средние средних в обоих группах  далеки. Похоже, что средний возраст в группах знаяимо отличчается.\n",
    "\n",
    "Посмотрим, является ли такое различие статистически значимым, проведем t-test."
   ]
  },
  {
   "cell_type": "code",
   "execution_count": 59,
   "metadata": {},
   "outputs": [
    {
     "name": "stdout",
     "output_type": "stream",
     "text": [
      "p-значение: 1.4069637543991388e-19\n",
      "Отвергаем нулевую гипотезу\n"
     ]
    }
   ],
   "source": [
    "alpha = 0.05  # критический уровень статистической значимости\n",
    "# если p-value окажется меньше него - отвергнем гипотезу\n",
    "\n",
    "results = st.ttest_ind(df_a['age'], df_b['age'], equal_var=False)\n",
    "\n",
    "print('p-значение:', results.pvalue)\n",
    "\n",
    "if results.pvalue < alpha:\n",
    "    print('Отвергаем нулевую гипотезу')\n",
    "else:\n",
    "    print('Не получилось отвергнуть нулевую гипотезу') "
   ]
  },
  {
   "cell_type": "markdown",
   "metadata": {},
   "source": [
    "Получилось, что p-значение очень мало. Мы можем утверждать, что разница есть, и что пользователи с одним продуктом старше, чем те, что с двумя. В практическом плане это означает, что для работы по продвижению продуктов в этих группах, необходимо учитывать возраст. Клиентом с одним продуктом следует предлагать продукты, которые могут быть интересны чуть более старшему возрасту (пенсионный план, например)."
   ]
  },
  {
   "cell_type": "markdown",
   "metadata": {},
   "source": [
    "попробуй пофантазировать на тему того какие продукты могут быть интересны различным категориям клиентов. Среди банковских продуктов могут быть дебетовые и кредитные карты, кредит наличными и ипотека, зарплатные и пенсионные проекты, инвестиционные и накопительные счета и тд. Посмотри какая аудитория в каждом из продуктовых сегментов и сделай релевантные рекомендации на основании этих продуктов. Подумай какой из продуктов способен в долгосрочной перспективе удержать клиентов."
   ]
  },
  {
   "cell_type": "markdown",
   "metadata": {},
   "source": [
    "##  Выводы"
   ]
  },
  {
   "cell_type": "markdown",
   "metadata": {},
   "source": [
    "### Общий портрет клиента банка\n",
    "\n",
    "- Примерно поровну клиентов обоих полов \n",
    "- Возраст от 18 до 92 лет. Средний возраст 39 лет. \n",
    "- Половина наших клиентов имеет в пользовании только один продукт, 46% двумя, около 3% тремя и меньше 1% - четырьмя продуктами. \n",
    "- 71 % клиентов обладают кредитной картой\n",
    "- 52 % клиентов являются активными \n",
    "- В среднем в собственности 5 объектов, минимум 0, максимум 10\n",
    "- Средний балл кредитного скоринга 650, при этом минимум 350 и максимум 850\n",
    "- 20% клиентов - отток\n",
    "- Средняя заработная плата клиента 100 000\n",
    "- Половина клиентов из Ярославля, по четверти из Ростова Великого и Новгорода\n",
    "- Средний баланс на счету у клиентов 120 000 \n",
    "- У 36% клиентов из датасета отсутствует информация о балансе\n",
    "    - среди них немного меньше оттока\n",
    "    - у них больше продуктов в пользовании\n",
    "    - среди них нет жителей Ростова Великого"
   ]
  },
  {
   "cell_type": "markdown",
   "metadata": {},
   "source": [
    "### Связи характеристик\n",
    "- возраст и отток\n",
    "- активность и отток\n",
    "- количество продуктов и отток\n",
    "- количеством продуктов и возраст"
   ]
  },
  {
   "cell_type": "markdown",
   "metadata": {},
   "source": [
    "### Сегментация клиентов по количеству продуктов\n",
    "- сегментирование на 3 группы - один, два и три и больше продуктов,  обнаруживает больше различий чем деление на две группы\n",
    "- клиенты с тремя и более продуктами существенно отличаются от остальных, в том числе от тех у кого два продукта. "
   ]
  },
  {
   "cell_type": "markdown",
   "metadata": {},
   "source": [
    "###  Портреты клиентов в группах по количеству продуктов и основные различия \n",
    "\n",
    "- Пол. Среди потребителей 3-х и более продуктов, доля женщин больше, чем в других сегментах (на 12%).\n",
    "- Возраст. Те у кого 2 продукта несколько помоложе тех (38 лет), у кого 1 продукт (40). Обладатели 3х и более продуктов старше - им в среднем 44 года.\n",
    "- Активность. Среди потребителей 2-х и более продуктов активность выше на 3% по сравнению с теми, у кого 1 продукт (средняя активность 50%), у обладателей 3-х и более продуктов активность самая низкая, почти на 10% ниже чем у тех, у кого 2 продукта\n",
    "- Отток. В группе с 1 продуктом отток выше, чем у тех, у кого 2 продукта на 20% (28% против 8%). В группе пользователей 3-х и более продуктов отток очень высокий - 86%. \n",
    "- Баланс. Почти одинаковый во всех группах. Но среди обладателей 2-х продуктов 57% пропусков по балансу\n",
    "- По кредитному скору и зарплате разница в группах незначительна\n",
    "- Кредитная карта. Среди групп доля обладателей карт одинаковая - около 70%. \n",
    "- Отток. В группе с 1 продуктом отток выше, чем у тех, у кого 2 продукта на 20% (28% против 8%). В группе пользователей 3-х и более продуктов отток очень высокий - 86%.\n",
    "- Город. В Ростове немного иное соотношение по продуктовым сегментам, чем в Ярославле и Рыбинске - там меньше тех, у кого два продукта (а это более стабильная по оттоку категория клиентов), больше тех, у кого один продукт и у кого три продукта (но их число мало и они риск для оттока)"
   ]
  },
  {
   "cell_type": "markdown",
   "metadata": {},
   "source": [
    "### Проверка гипотез\n",
    "- Нельзя утверждать, что есть статистически значимое различие между доходами клиентов, которые пользуются одним продуктом, и теми, кто пользуется двумя продуктами\n",
    "- Можно утверждать, что есть разница в возрасте среди групп клиентов по потреблению банковских продуктов (один и два продукта). пользователи с одним продуктом старше, чем те, что с двумя. "
   ]
  },
  {
   "cell_type": "markdown",
   "metadata": {},
   "source": [
    "## Рекомендации по работе с клиентами"
   ]
  },
  {
   "cell_type": "markdown",
   "metadata": {},
   "source": [
    "- Исследовать причины оттока в зависимости от продуктов, для клиентов с тремя и более продуктами т.к. у них чрезвычайно высокая доля оттока. До такого исследования, чтобы избежать риск оттока, сосредоточиться на тех, у кого один продукт в распоряжении\n",
    "\n",
    "- Повысить долю клиентов с двумя продуктами, это поможет снизить вероятность оттока\n",
    "\n",
    "- Кредитные карты. Повысить долю клиентов, которые пользуются кредитными банковскими картами. Банковские карты это самый востребованный продукт, они есть у 70% клиентов. Тем 30% клиентов, которые имеют один продукт и это не карта, мы можем предложить карту со специальными условиями обслуживания, с кэшбеком, со специальными акциями или бонусами (как, например,накопительные мили). \n",
    "\n",
    "- Возраст одна из центральных характеристик, на которую нужно обратить внимание при продвижении продуктов клиентов банка. Клиенты с одним продуктом старше, поэтому необходимо предложить им продукты и услуги, интерес к которым может быть обусловлен возрастом. Например, вклады и накопительные счета. \n",
    "- Предложить инвестиционные продукты для пожилых людей, такие как индивидуальный пенсионный план, пенсионный инвестиционный счет. Стимулировать увеличение количества клиентов, которые получают свою пенсию на счет в банке через пенсионные карты с кэшбеком или процентами на остаток по счету. Разработать специальные кредитные предложения для людей старшего возраста.\n",
    "\n",
    "- Также можно задуматься о партнерстве с розничными сетями и запустить кобрендинговые карты, которые дают бонусы и привилегии в сетях. Необходимо учесть, какие сети могут быть актуальны для более старшего сегмента клиентов.\n",
    "\n",
    "- Активность снижает вероятность оттока и может положительно повлиять на увеличение продуктов в пользовании. Стимулировать активность пользователей, например, посредством внедрения удобного и упрощенного мобильного приложения или предлагая систему быстрых платежей.\n",
    "\n",
    "- Уделить особое внимание Ростовскому филиалу. Там в целом намного выше уровень оттока по клиентам, и гораздо больше доля клиентов у которых только один продукт. Посмотреть, есть ли какие-то клиентские нужды, специфические для этого города."
   ]
  },
  {
   "cell_type": "markdown",
   "metadata": {},
   "source": [
    "## Презентация"
   ]
  },
  {
   "cell_type": "markdown",
   "metadata": {},
   "source": [
    "https://drive.google.com/file/d/1ppdIvQO1nCkYp4RubDP4jct_NeLvpuk0/view?usp=sharing"
   ]
  },
  {
   "cell_type": "markdown",
   "metadata": {},
   "source": [
    "## Дашборд"
   ]
  },
  {
   "cell_type": "markdown",
   "metadata": {},
   "source": [
    "https://public.tableau.com/app/profile/elena.lebedeva/viz/Banking_16370224254770/Dashboard1"
   ]
  }
 ],
 "metadata": {
  "ExecuteTimeLog": [
   {
    "duration": 92,
    "start_time": "2021-10-29T15:50:09.996Z"
   },
   {
    "duration": 121,
    "start_time": "2021-11-15T11:06:30.164Z"
   },
   {
    "duration": 95,
    "start_time": "2021-11-15T11:27:16.259Z"
   },
   {
    "duration": 102,
    "start_time": "2021-11-15T11:28:09.113Z"
   },
   {
    "duration": 100,
    "start_time": "2021-11-15T11:29:30.429Z"
   },
   {
    "duration": 99,
    "start_time": "2021-11-15T11:35:31.232Z"
   },
   {
    "duration": 95,
    "start_time": "2021-11-15T12:06:01.763Z"
   },
   {
    "duration": 136,
    "start_time": "2021-11-15T12:12:18.149Z"
   },
   {
    "duration": 95,
    "start_time": "2021-11-15T12:14:21.891Z"
   },
   {
    "duration": 86,
    "start_time": "2021-11-15T12:14:41.170Z"
   },
   {
    "duration": 90,
    "start_time": "2021-11-15T12:16:44.091Z"
   },
   {
    "duration": 11698,
    "start_time": "2021-11-15T12:26:20.877Z"
   },
   {
    "duration": 1115,
    "start_time": "2021-11-15T12:26:32.577Z"
   },
   {
    "duration": 3,
    "start_time": "2021-11-15T12:26:33.693Z"
   },
   {
    "duration": 16,
    "start_time": "2021-11-15T12:26:33.698Z"
   },
   {
    "duration": 183,
    "start_time": "2021-11-15T12:26:33.715Z"
   },
   {
    "duration": 14,
    "start_time": "2021-11-15T12:26:33.900Z"
   },
   {
    "duration": 3,
    "start_time": "2021-11-15T12:26:33.915Z"
   },
   {
    "duration": 11,
    "start_time": "2021-11-15T12:26:33.920Z"
   },
   {
    "duration": 8,
    "start_time": "2021-11-15T12:26:33.932Z"
   },
   {
    "duration": 8,
    "start_time": "2021-11-15T12:26:33.941Z"
   },
   {
    "duration": 47,
    "start_time": "2021-11-15T12:26:33.950Z"
   },
   {
    "duration": 1365,
    "start_time": "2021-11-15T12:26:33.999Z"
   },
   {
    "duration": 8,
    "start_time": "2021-11-15T12:26:35.366Z"
   },
   {
    "duration": 195482,
    "start_time": "2021-11-15T12:26:35.375Z"
   },
   {
    "duration": 186,
    "start_time": "2021-11-15T12:29:50.859Z"
   },
   {
    "duration": 352,
    "start_time": "2021-11-15T12:29:51.046Z"
   },
   {
    "duration": 220635,
    "start_time": "2021-11-15T12:30:34.461Z"
   },
   {
    "duration": 8565,
    "start_time": "2021-11-16T00:32:13.810Z"
   },
   {
    "duration": 1189,
    "start_time": "2021-11-16T00:32:22.377Z"
   },
   {
    "duration": 3,
    "start_time": "2021-11-16T00:32:23.569Z"
   },
   {
    "duration": 6,
    "start_time": "2021-11-16T00:32:23.574Z"
   },
   {
    "duration": 200,
    "start_time": "2021-11-16T00:32:23.582Z"
   },
   {
    "duration": 15,
    "start_time": "2021-11-16T00:32:23.784Z"
   },
   {
    "duration": 3,
    "start_time": "2021-11-16T00:32:23.801Z"
   },
   {
    "duration": 7,
    "start_time": "2021-11-16T00:32:23.806Z"
   },
   {
    "duration": 10,
    "start_time": "2021-11-16T00:32:28.894Z"
   },
   {
    "duration": 88,
    "start_time": "2021-11-16T00:34:01.278Z"
   },
   {
    "duration": 6,
    "start_time": "2021-11-16T01:11:31.213Z"
   },
   {
    "duration": 11,
    "start_time": "2021-11-16T01:11:31.406Z"
   },
   {
    "duration": 6,
    "start_time": "2021-11-16T01:11:32.021Z"
   },
   {
    "duration": 1080,
    "start_time": "2021-11-16T01:11:32.629Z"
   },
   {
    "duration": -557,
    "start_time": "2021-11-16T01:11:34.269Z"
   },
   {
    "duration": 3,
    "start_time": "2021-11-16T01:11:33.989Z"
   },
   {
    "duration": 563,
    "start_time": "2021-11-16T01:11:34.854Z"
   },
   {
    "duration": 834,
    "start_time": "2021-11-16T01:11:35.419Z"
   },
   {
    "duration": 8,
    "start_time": "2021-11-16T01:11:36.255Z"
   },
   {
    "duration": 35,
    "start_time": "2021-11-16T01:11:36.980Z"
   },
   {
    "duration": 128,
    "start_time": "2021-11-16T01:11:38.145Z"
   },
   {
    "duration": 9,
    "start_time": "2021-11-16T01:11:38.837Z"
   },
   {
    "duration": 10,
    "start_time": "2021-11-16T01:11:39.395Z"
   },
   {
    "duration": 575,
    "start_time": "2021-11-16T01:11:40.949Z"
   },
   {
    "duration": 18,
    "start_time": "2021-11-16T01:11:42.350Z"
   },
   {
    "duration": 19,
    "start_time": "2021-11-16T01:11:43.344Z"
   },
   {
    "duration": 7,
    "start_time": "2021-11-16T01:11:47.521Z"
   },
   {
    "duration": 11,
    "start_time": "2021-11-16T01:11:48.205Z"
   },
   {
    "duration": 2165,
    "start_time": "2021-11-16T01:55:58.150Z"
   },
   {
    "duration": 1039,
    "start_time": "2021-11-16T01:56:00.317Z"
   },
   {
    "duration": 2,
    "start_time": "2021-11-16T01:56:01.358Z"
   },
   {
    "duration": 14,
    "start_time": "2021-11-16T01:56:01.363Z"
   },
   {
    "duration": 200,
    "start_time": "2021-11-16T01:56:01.379Z"
   },
   {
    "duration": 14,
    "start_time": "2021-11-16T01:56:01.581Z"
   },
   {
    "duration": 10,
    "start_time": "2021-11-16T01:56:01.596Z"
   },
   {
    "duration": 21,
    "start_time": "2021-11-16T01:56:01.609Z"
   },
   {
    "duration": 21,
    "start_time": "2021-11-16T01:56:01.632Z"
   },
   {
    "duration": 13,
    "start_time": "2021-11-16T01:56:01.655Z"
   },
   {
    "duration": 41,
    "start_time": "2021-11-16T01:56:01.670Z"
   },
   {
    "duration": 1140,
    "start_time": "2021-11-16T01:56:01.713Z"
   },
   {
    "duration": 11,
    "start_time": "2021-11-16T01:56:02.855Z"
   },
   {
    "duration": 117662,
    "start_time": "2021-11-16T01:56:02.867Z"
   },
   {
    "duration": -688,
    "start_time": "2021-11-16T01:58:01.219Z"
   },
   {
    "duration": -689,
    "start_time": "2021-11-16T01:58:01.221Z"
   },
   {
    "duration": -690,
    "start_time": "2021-11-16T01:58:01.223Z"
   },
   {
    "duration": -691,
    "start_time": "2021-11-16T01:58:01.225Z"
   },
   {
    "duration": -691,
    "start_time": "2021-11-16T01:58:01.226Z"
   },
   {
    "duration": -691,
    "start_time": "2021-11-16T01:58:01.228Z"
   },
   {
    "duration": -692,
    "start_time": "2021-11-16T01:58:01.230Z"
   },
   {
    "duration": -692,
    "start_time": "2021-11-16T01:58:01.231Z"
   },
   {
    "duration": -693,
    "start_time": "2021-11-16T01:58:01.233Z"
   },
   {
    "duration": -693,
    "start_time": "2021-11-16T01:58:01.234Z"
   },
   {
    "duration": -694,
    "start_time": "2021-11-16T01:58:01.236Z"
   },
   {
    "duration": -695,
    "start_time": "2021-11-16T01:58:01.238Z"
   },
   {
    "duration": -695,
    "start_time": "2021-11-16T01:58:01.239Z"
   },
   {
    "duration": -696,
    "start_time": "2021-11-16T01:58:01.241Z"
   },
   {
    "duration": -697,
    "start_time": "2021-11-16T01:58:01.243Z"
   },
   {
    "duration": -697,
    "start_time": "2021-11-16T01:58:01.244Z"
   },
   {
    "duration": -699,
    "start_time": "2021-11-16T01:58:01.246Z"
   },
   {
    "duration": -699,
    "start_time": "2021-11-16T01:58:01.247Z"
   },
   {
    "duration": -700,
    "start_time": "2021-11-16T01:58:01.249Z"
   },
   {
    "duration": -701,
    "start_time": "2021-11-16T01:58:01.251Z"
   },
   {
    "duration": -701,
    "start_time": "2021-11-16T01:58:01.252Z"
   },
   {
    "duration": -703,
    "start_time": "2021-11-16T01:58:01.255Z"
   },
   {
    "duration": -704,
    "start_time": "2021-11-16T01:58:01.257Z"
   },
   {
    "duration": -705,
    "start_time": "2021-11-16T01:58:01.259Z"
   },
   {
    "duration": -705,
    "start_time": "2021-11-16T01:58:01.260Z"
   },
   {
    "duration": -706,
    "start_time": "2021-11-16T01:58:01.262Z"
   },
   {
    "duration": -707,
    "start_time": "2021-11-16T01:58:01.263Z"
   },
   {
    "duration": -708,
    "start_time": "2021-11-16T01:58:01.265Z"
   },
   {
    "duration": -708,
    "start_time": "2021-11-16T01:58:01.266Z"
   },
   {
    "duration": -710,
    "start_time": "2021-11-16T01:58:01.268Z"
   },
   {
    "duration": -710,
    "start_time": "2021-11-16T01:58:01.269Z"
   },
   {
    "duration": -711,
    "start_time": "2021-11-16T01:58:01.271Z"
   },
   {
    "duration": -712,
    "start_time": "2021-11-16T01:58:01.272Z"
   },
   {
    "duration": -713,
    "start_time": "2021-11-16T01:58:01.274Z"
   },
   {
    "duration": -713,
    "start_time": "2021-11-16T01:58:01.275Z"
   },
   {
    "duration": 7,
    "start_time": "2021-11-16T01:58:28.178Z"
   },
   {
    "duration": 1971,
    "start_time": "2021-11-16T01:59:22.808Z"
   },
   {
    "duration": 1074,
    "start_time": "2021-11-16T01:59:24.781Z"
   },
   {
    "duration": 2,
    "start_time": "2021-11-16T01:59:25.857Z"
   },
   {
    "duration": 10,
    "start_time": "2021-11-16T01:59:25.861Z"
   },
   {
    "duration": 192,
    "start_time": "2021-11-16T01:59:25.873Z"
   },
   {
    "duration": 13,
    "start_time": "2021-11-16T01:59:26.066Z"
   },
   {
    "duration": 5,
    "start_time": "2021-11-16T01:59:26.080Z"
   },
   {
    "duration": 10,
    "start_time": "2021-11-16T01:59:26.086Z"
   },
   {
    "duration": 8,
    "start_time": "2021-11-16T01:59:26.098Z"
   },
   {
    "duration": 4,
    "start_time": "2021-11-16T01:59:26.108Z"
   },
   {
    "duration": 34,
    "start_time": "2021-11-16T01:59:26.113Z"
   },
   {
    "duration": 1154,
    "start_time": "2021-11-16T01:59:26.149Z"
   },
   {
    "duration": 11,
    "start_time": "2021-11-16T01:59:27.304Z"
   },
   {
    "duration": 2,
    "start_time": "2021-11-16T01:59:27.317Z"
   },
   {
    "duration": 196,
    "start_time": "2021-11-16T01:59:27.320Z"
   },
   {
    "duration": 454,
    "start_time": "2021-11-16T01:59:27.518Z"
   },
   {
    "duration": 33,
    "start_time": "2021-11-16T01:59:27.974Z"
   },
   {
    "duration": 1218,
    "start_time": "2021-11-16T01:59:28.008Z"
   },
   {
    "duration": 8,
    "start_time": "2021-11-16T01:59:29.228Z"
   },
   {
    "duration": 7,
    "start_time": "2021-11-16T01:59:29.238Z"
   },
   {
    "duration": 8,
    "start_time": "2021-11-16T01:59:29.247Z"
   },
   {
    "duration": 657,
    "start_time": "2021-11-16T01:59:29.257Z"
   },
   {
    "duration": 1084,
    "start_time": "2021-11-16T01:59:29.916Z"
   },
   {
    "duration": 7,
    "start_time": "2021-11-16T01:59:31.002Z"
   },
   {
    "duration": 11,
    "start_time": "2021-11-16T01:59:31.011Z"
   },
   {
    "duration": 7,
    "start_time": "2021-11-16T01:59:31.024Z"
   },
   {
    "duration": 55,
    "start_time": "2021-11-16T01:59:31.034Z"
   },
   {
    "duration": 37,
    "start_time": "2021-11-16T01:59:31.090Z"
   },
   {
    "duration": 3,
    "start_time": "2021-11-16T01:59:31.128Z"
   },
   {
    "duration": 573,
    "start_time": "2021-11-16T01:59:31.132Z"
   },
   {
    "duration": 756,
    "start_time": "2021-11-16T01:59:31.706Z"
   },
   {
    "duration": 8,
    "start_time": "2021-11-16T01:59:32.463Z"
   },
   {
    "duration": 43,
    "start_time": "2021-11-16T01:59:32.473Z"
   },
   {
    "duration": 135,
    "start_time": "2021-11-16T01:59:32.517Z"
   },
   {
    "duration": 8,
    "start_time": "2021-11-16T01:59:32.654Z"
   },
   {
    "duration": 11,
    "start_time": "2021-11-16T01:59:32.663Z"
   },
   {
    "duration": 108,
    "start_time": "2021-11-16T01:59:32.687Z"
   },
   {
    "duration": 13,
    "start_time": "2021-11-16T01:59:32.796Z"
   },
   {
    "duration": 15,
    "start_time": "2021-11-16T01:59:32.811Z"
   },
   {
    "duration": 6,
    "start_time": "2021-11-16T01:59:32.828Z"
   },
   {
    "duration": 17,
    "start_time": "2021-11-16T01:59:32.835Z"
   },
   {
    "duration": 783,
    "start_time": "2021-11-16T01:59:32.853Z"
   },
   {
    "duration": 2951,
    "start_time": "2021-11-16T01:59:33.637Z"
   },
   {
    "duration": 1212,
    "start_time": "2021-11-16T01:59:36.590Z"
   },
   {
    "duration": 4,
    "start_time": "2021-11-16T01:59:37.804Z"
   },
   {
    "duration": 873,
    "start_time": "2021-11-16T01:59:37.810Z"
   },
   {
    "duration": 2986,
    "start_time": "2021-11-16T01:59:38.685Z"
   },
   {
    "duration": 1229,
    "start_time": "2021-11-16T01:59:41.672Z"
   },
   {
    "duration": 5,
    "start_time": "2021-11-16T01:59:42.902Z"
   },
   {
    "duration": 31,
    "start_time": "2021-11-16T02:01:25.529Z"
   },
   {
    "duration": 26,
    "start_time": "2021-11-16T02:01:31.956Z"
   },
   {
    "duration": 122,
    "start_time": "2021-11-16T09:33:20.095Z"
   },
   {
    "duration": 126,
    "start_time": "2021-11-16T09:34:37.372Z"
   }
  ],
  "kernelspec": {
   "display_name": "Python 3",
   "language": "python",
   "name": "python3"
  },
  "language_info": {
   "codemirror_mode": {
    "name": "ipython",
    "version": 3
   },
   "file_extension": ".py",
   "mimetype": "text/x-python",
   "name": "python",
   "nbconvert_exporter": "python",
   "pygments_lexer": "ipython3",
   "version": "3.8.8"
  },
  "toc": {
   "base_numbering": 1,
   "nav_menu": {},
   "number_sections": true,
   "sideBar": true,
   "skip_h1_title": true,
   "title_cell": "Table of Contents",
   "title_sidebar": "Contents",
   "toc_cell": false,
   "toc_position": {},
   "toc_section_display": true,
   "toc_window_display": true
  }
 },
 "nbformat": 4,
 "nbformat_minor": 2
}
